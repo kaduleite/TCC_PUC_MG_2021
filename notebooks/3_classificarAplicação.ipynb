{
 "cells": [
  {
   "cell_type": "markdown",
   "metadata": {},
   "source": [
    "# _Notebook Jupyter_ 3_classificarAplicação"
   ]
  },
  {
   "cell_type": "markdown",
   "metadata": {},
   "source": [
    "# Classificação dos modelos de motocicleta a partir da descrição"
   ]
  },
  {
   "cell_type": "markdown",
   "metadata": {},
   "source": [
    "A grande dificuldade na tarefa de análise de valores compatíveis na importação de peças de motocicletas, em especial dos kits de transmissão, se dá no fato de que milhares de importadores adquirem essas peças no exterior e informam sua descrição em um campo texto livre.<br>\n",
    "Nem mesmo a utilização da classificação fiscal normatizada no Mercosul, chamada de Nomenclatura Comum do Mercosul – NCM, ajuda nesse caso específico, tendo em vista que grande parte das peças de motocicletas e todos os kits de transmissão são classificados em uma mesma posição na tabela da NCM.<br>\n",
    "Para que se possa tratar corretamente o dataset obtido na nossa etapa de processamento e tratamento de dados, e permitir o futuro aprendizado de máquina, com predições do modelo de motocicleta que aquele item se aplica, é preciso que primeiro se proceda a uma classificação de aplicações que futuramente será utilizado em um aprendizado supervisionado.<br>\n",
    "A ideia é se aplicar uma busca na descrição da mercadoria pelos termos conhecidos de aplicações e se buscar a qual aplicação aquela descrição se refere, fazendo desse modo a primeira classificação.<br>\n",
    "Posteriormente será utilizado um algorítimo de aprendizado de máquina para aprender com o próprio texto da descrição da aplicação e fazer a classificação utilizando a descrição já limpa de stopwords e outros termos desnecessários.<br>\n",
    "A interseção dos dois conjuntos de classificação será o dataset utilizado para fazer o treinamento do classificador, que será o primeiro passo antes da análise de valor do item importado."
   ]
  },
  {
   "cell_type": "markdown",
   "metadata": {},
   "source": [
    "### Importa as bibliotecas necessárias"
   ]
  },
  {
   "cell_type": "code",
   "execution_count": 1,
   "metadata": {},
   "outputs": [],
   "source": [
    "import pandas as pd, numpy as np\n",
    "import re, time\n",
    "# stopwords\n",
    "from nltk.corpus import stopwords\n",
    "# wordcloud\n",
    "from wordcloud import WordCloud\n",
    "# plotagem do gráfico\n",
    "import matplotlib.pyplot as plt"
   ]
  },
  {
   "cell_type": "code",
   "execution_count": 2,
   "metadata": {},
   "outputs": [
    {
     "name": "stdout",
     "output_type": "stream",
     "text": [
      "Código executado em 12/01/2022 às 18:35\n"
     ]
    }
   ],
   "source": [
    "# Data e hora da execução do script\n",
    "print(f'Código executado em {time.strftime(\"%d/%m/%Y às %H:%M\", time.localtime(time.time()))}')"
   ]
  },
  {
   "cell_type": "markdown",
   "metadata": {},
   "source": [
    "### Importa os dados já tratados"
   ]
  },
  {
   "cell_type": "code",
   "execution_count": 3,
   "metadata": {},
   "outputs": [],
   "source": [
    "# Importa base de dados para um dataframe\n",
    "df = pd.read_excel(r'./bases/dataframe.xlsx')"
   ]
  },
  {
   "cell_type": "code",
   "execution_count": 4,
   "metadata": {},
   "outputs": [
    {
     "data": {
      "text/plain": [
       "(19317, 3)"
      ]
     },
     "execution_count": 4,
     "metadata": {},
     "output_type": "execute_result"
    }
   ],
   "source": [
    "# Verifica o tamnanho do dataframe\n",
    "df.shape"
   ]
  },
  {
   "cell_type": "code",
   "execution_count": 5,
   "metadata": {},
   "outputs": [
    {
     "data": {
      "text/html": [
       "<div>\n",
       "<style scoped>\n",
       "    .dataframe tbody tr th:only-of-type {\n",
       "        vertical-align: middle;\n",
       "    }\n",
       "\n",
       "    .dataframe tbody tr th {\n",
       "        vertical-align: top;\n",
       "    }\n",
       "\n",
       "    .dataframe thead th {\n",
       "        text-align: right;\n",
       "    }\n",
       "</style>\n",
       "<table border=\"1\" class=\"dataframe\">\n",
       "  <thead>\n",
       "    <tr style=\"text-align: right;\">\n",
       "      <th></th>\n",
       "      <th>PAIS DE ORIGEM</th>\n",
       "      <th>DESCRICAO DO PRODUTO</th>\n",
       "      <th>VALOR UN.PROD.DOLAR</th>\n",
       "    </tr>\n",
       "  </thead>\n",
       "  <tbody>\n",
       "    <tr>\n",
       "      <th>13183</th>\n",
       "      <td>CHINA, REPUBLICA POP</td>\n",
       "      <td>10540012 IN KIT TRANSMISSAO P/MOTOCICLETAS(COR...</td>\n",
       "      <td>7.892000</td>\n",
       "    </tr>\n",
       "    <tr>\n",
       "      <th>13723</th>\n",
       "      <td>CHINA, REPUBLICA POP</td>\n",
       "      <td>KIT DE TRANSMISSAO COMPOSTO DE CORRENTE 428H X...</td>\n",
       "      <td>4.610000</td>\n",
       "    </tr>\n",
       "    <tr>\n",
       "      <th>2051</th>\n",
       "      <td>CHINA, REPUBLICA POP</td>\n",
       "      <td>KIT DE TRANSMISSAO , MARCA RIFFEL, TOP (1045) ...</td>\n",
       "      <td>13.727019</td>\n",
       "    </tr>\n",
       "    <tr>\n",
       "      <th>13607</th>\n",
       "      <td>CHINA, REPUBLICA POP</td>\n",
       "      <td>SEMI KIT DE TRANSMISSÃO (RELAÇÃO) DE MOTOCICLE...</td>\n",
       "      <td>1.329880</td>\n",
       "    </tr>\n",
       "    <tr>\n",
       "      <th>6579</th>\n",
       "      <td>CHINA, REPUBLICA POP</td>\n",
       "      <td>KIT DE TRANSMISSAO , MARCA RIFFEL, TOP (1045) ...</td>\n",
       "      <td>8.580000</td>\n",
       "    </tr>\n",
       "  </tbody>\n",
       "</table>\n",
       "</div>"
      ],
      "text/plain": [
       "             PAIS DE ORIGEM  \\\n",
       "13183  CHINA, REPUBLICA POP   \n",
       "13723  CHINA, REPUBLICA POP   \n",
       "2051   CHINA, REPUBLICA POP   \n",
       "13607  CHINA, REPUBLICA POP   \n",
       "6579   CHINA, REPUBLICA POP   \n",
       "\n",
       "                                    DESCRICAO DO PRODUTO  VALOR UN.PROD.DOLAR  \n",
       "13183  10540012 IN KIT TRANSMISSAO P/MOTOCICLETAS(COR...             7.892000  \n",
       "13723  KIT DE TRANSMISSAO COMPOSTO DE CORRENTE 428H X...             4.610000  \n",
       "2051   KIT DE TRANSMISSAO , MARCA RIFFEL, TOP (1045) ...            13.727019  \n",
       "13607  SEMI KIT DE TRANSMISSÃO (RELAÇÃO) DE MOTOCICLE...             1.329880  \n",
       "6579   KIT DE TRANSMISSAO , MARCA RIFFEL, TOP (1045) ...             8.580000  "
      ]
     },
     "execution_count": 5,
     "metadata": {},
     "output_type": "execute_result"
    }
   ],
   "source": [
    "# Mostra linhas de exemplo do dataframe\n",
    "df.sample(5)"
   ]
  },
  {
   "cell_type": "code",
   "execution_count": 6,
   "metadata": {},
   "outputs": [
    {
     "data": {
      "text/plain": [
       "'80348 KIT DE TRANSMISSÃO, COMPOSTO DE CORRENTE, COROA E PINHÃO PARA MOTOCICLETA CBX 250 TWISTER, MARCA ALLEN.'"
      ]
     },
     "execution_count": 6,
     "metadata": {},
     "output_type": "execute_result"
    }
   ],
   "source": [
    "df['DESCRICAO DO PRODUTO'][5]"
   ]
  },
  {
   "cell_type": "code",
   "execution_count": 7,
   "metadata": {
    "scrolled": true
   },
   "outputs": [
    {
     "data": {
      "text/plain": [
       "str"
      ]
     },
     "execution_count": 7,
     "metadata": {},
     "output_type": "execute_result"
    }
   ],
   "source": [
    "type(df['DESCRICAO DO PRODUTO'][1])"
   ]
  },
  {
   "cell_type": "markdown",
   "metadata": {},
   "source": [
    "### Importa as stopwords da língua portuguesa"
   ]
  },
  {
   "cell_type": "code",
   "execution_count": 8,
   "metadata": {},
   "outputs": [],
   "source": [
    "# Importar lista de Stopwords\n",
    "stopwords = set(stopwords.words('portuguese'))"
   ]
  },
  {
   "cell_type": "code",
   "execution_count": 9,
   "metadata": {},
   "outputs": [
    {
     "data": {
      "text/plain": [
       "204"
      ]
     },
     "execution_count": 9,
     "metadata": {},
     "output_type": "execute_result"
    }
   ],
   "source": [
    "# Mostra tamanho da lista de stopwords\n",
    "len(stopwords)"
   ]
  },
  {
   "cell_type": "code",
   "execution_count": 10,
   "metadata": {},
   "outputs": [
    {
     "name": "stdout",
     "output_type": "stream",
     "text": [
      "['a', 'ao', 'aos', 'aquela', 'aquelas', 'aquele', 'aqueles', 'aquilo', 'as', 'até', 'com', 'como', 'da', 'das', 'de', 'dela', 'delas', 'dele', 'deles', 'depois', 'do', 'dos', 'e', 'ela', 'elas', 'ele', 'eles', 'em', 'entre', 'era', 'eram', 'essa', 'essas', 'esse', 'esses', 'esta', 'estamos', 'estas', 'estava', 'estavam', 'este', 'esteja', 'estejam', 'estejamos', 'estes', 'esteve', 'estive', 'estivemos', 'estiver', 'estivera', 'estiveram', 'estiverem', 'estivermos', 'estivesse', 'estivessem', 'estivéramos', 'estivéssemos', 'estou', 'está', 'estávamos', 'estão', 'eu', 'foi', 'fomos', 'for', 'fora', 'foram', 'forem', 'formos', 'fosse', 'fossem', 'fui', 'fôramos', 'fôssemos', 'haja', 'hajam', 'hajamos', 'havemos', 'hei', 'houve', 'houvemos', 'houver', 'houvera', 'houveram', 'houverei', 'houverem', 'houveremos', 'houveria', 'houveriam', 'houvermos', 'houverá', 'houverão', 'houveríamos', 'houvesse', 'houvessem', 'houvéramos', 'houvéssemos', 'há', 'hão', 'isso', 'isto', 'já', 'lhe', 'lhes', 'mais', 'mas', 'me', 'mesmo', 'meu', 'meus', 'minha', 'minhas', 'muito', 'na', 'nas', 'nem', 'no', 'nos', 'nossa', 'nossas', 'nosso', 'nossos', 'num', 'numa', 'não', 'nós', 'o', 'os', 'ou', 'para', 'pela', 'pelas', 'pelo', 'pelos', 'por', 'qual', 'quando', 'que', 'quem', 'se', 'seja', 'sejam', 'sejamos', 'sem', 'serei', 'seremos', 'seria', 'seriam', 'será', 'serão', 'seríamos', 'seu', 'seus', 'somos', 'sou', 'sua', 'suas', 'são', 'só', 'também', 'te', 'tem', 'temos', 'tenha', 'tenham', 'tenhamos', 'tenho', 'terei', 'teremos', 'teria', 'teriam', 'terá', 'terão', 'teríamos', 'teu', 'teus', 'teve', 'tinha', 'tinham', 'tive', 'tivemos', 'tiver', 'tivera', 'tiveram', 'tiverem', 'tivermos', 'tivesse', 'tivessem', 'tivéramos', 'tivéssemos', 'tu', 'tua', 'tuas', 'tém', 'tínhamos', 'um', 'uma', 'você', 'vocês', 'vos', 'à', 'às', 'é', 'éramos']\n"
     ]
    }
   ],
   "source": [
    "# Mostra toda a lista de stopwords\n",
    "swtemp = list(stopwords)\n",
    "swtemp.sort()\n",
    "print(swtemp)"
   ]
  },
  {
   "cell_type": "markdown",
   "metadata": {},
   "source": [
    "### Atualiza a lista de stopwords"
   ]
  },
  {
   "cell_type": "code",
   "execution_count": 11,
   "metadata": {},
   "outputs": [
    {
     "name": "stdout",
     "output_type": "stream",
     "text": [
      "['abaixo', 'acessorios', 'acessórios', 'aco', 'acondicionados', 'adaptavel', 'adaptável', 'almas', 'am', 'anel', 'ano', 'aplicacao', 'aplication', 'aplicavel', 'aplicação', 'aplicável', 'application', 'ate', 'atitanium', 'aç', 'aço', 'bravo', 'cada', 'caixa', 'caixas', 'cambio', 'certificado', 'cever', 'chain', 'chh', 'china', 'ciclomotores', 'cod', 'code', 'codigo', 'comando', 'combustão', 'comercial', 'comercialmente', 'commodity', 'compativel', 'compatível', 'compl', 'completo', 'completos', 'composto', 'composto', 'compostopor', 'compostpo', 'comum', 'condicao', 'condicoes', 'condição', 'condições', 'confeccionado', 'conhecido', 'conj', 'conjunto', 'conjuntos', 'constituido', 'constitutivo', 'constituído', 'contendo', 'coposto', 'coroa', 'corr', 'corrent', 'corrente', 'correntee', 'correntes', 'cx', 'câmbio', 'cãmbio', 'código', 'decreto', 'denominada', 'dente', 'dentes', 'descricao', 'descricão', 'descriçao', 'descrição', 'destaque', 'destaque', 'destaques', 'detransmissão', 'dimensao', 'dimensoes', 'dimensão', 'dimensões', 'diverso', 'diversos', 'dominado', 'durabilidade', 'elo', 'elos', 'embalagem', 'engrenagem', 'engrenagens', 'epinhao', 'epinhão', 'espessura', 'exclusivo', 'fabri', 'fabricada', 'fabricado', 'final', 'foiproduzida', 'funcao', 'funcao', 'funcão', 'funcão', 'funçao', 'função', 'gtin', 'hardt', 'ho', 'hp', 'imetro', 'in', 'incluso', 'indicado', 'ingles', 'inmetro', 'inv', 'invoice', 'iron', 'item', 'jc', 'kif', 'kit', 'kitr', 'kittr', 'kmc', 'ligacoes', 'ligaçoes', 'ligaçoes', 'ligações', 'marca', 'mark', 'match', 'material', 'maxx', 'medida', 'medidas', 'medindo', 'metal', 'mod', 'modelo', 'modelos', 'moto', 'motocicleta', 'motocicletas', 'motoneta', 'motonetas', 'motoparts', 'motor', 'motos', 'motos', 'movimento', 'nbsp', 'ncm', 'nome', 'normais', 'nova', 'novo', 'numero', 'número', 'onde', 'or', 'origem', 'oring', 'ox', 'papelao', 'papelão', 'part', 'partes', 'parts', 'pc', 'pcs', 'pec', 'pecas', 'perfil', 'peç', 'peças', 'pinhao', 'pinhão', 'posição', 'premium', 'procedencia', 'procedência', 'prodepe', 'produto', 'próprio', 'pç', 'qdes', 'qtd', 'qtds', 'qty', 'quantidade', 'ref', 'reforcada', 'reforçada', 'registro', 'rel', 'relacao', 'relação', 'reposicao', 'resp', 'respo', 'respons', 'responsa', 'responsav', 'responsave', 'responsavel', 'responsável', 'ret', 'retentor', 'riffel', 'ring', 'roda', 'sae', 'scud', 'semi', 'semi-', 'semi-kit', 'sendo', 'serve', 'shipping', 'sistema', 'sm', 'standard', 'standart', 'standartt', 'std', 'stdmodelo', 'steel', 'tambem', 'também', 'tec', 'temp', 'temperado', 'tipo', 'tipos', 'titanio', 'titaniu', 'titanium', 'titaniun', 'tr', 'tracao', 'tracão', 'trans', 'transmis', 'transmisao', 'transmiss', 'transmissa', 'transmissao', 'transmission', 'transmissão', 'transmitir', 'traseira', 'traçao', 'tração', 'und', 'unds', 'unid', 'unidade', 'unidade', 'unidades', 'unifort', 'uo', 'uso', 'utilizada', 'utilizadas', 'utilizado', 'utilizados', 'utilização', 'vem', 'venda', 'with', 'xy', 'year']\n"
     ]
    }
   ],
   "source": [
    "# Palavras a adicionar na lista de stopwords estão contidas em um arquivo csv externo\n",
    "dfsw = pd.read_csv('./bases/stopwords.csv', encoding='ISO-8859-1')\n",
    "stopwords_df=sorted(list(dfsw['stopword']))\n",
    "swtemp = list(stopwords_df)\n",
    "swtemp.sort()\n",
    "print(swtemp)"
   ]
  },
  {
   "cell_type": "code",
   "execution_count": 12,
   "metadata": {},
   "outputs": [],
   "source": [
    "# Atualizar stopwords\n",
    "stopwords.update(stopwords_df)"
   ]
  },
  {
   "cell_type": "code",
   "execution_count": 13,
   "metadata": {},
   "outputs": [
    {
     "name": "stdout",
     "output_type": "stream",
     "text": [
      "['a', 'abaixo', 'acessorios', 'acessórios', 'aco', 'acondicionados', 'adaptavel', 'adaptável', 'almas', 'am', 'anel', 'ano', 'ao', 'aos', 'aplicacao', 'aplication', 'aplicavel', 'aplicação', 'aplicável', 'application', 'aquela', 'aquelas', 'aquele', 'aqueles', 'aquilo', 'as', 'ate', 'atitanium', 'até', 'aç', 'aço', 'bravo', 'cada', 'caixa', 'caixas', 'cambio', 'certificado', 'cever', 'chain', 'chh', 'china', 'ciclomotores', 'cod', 'code', 'codigo', 'com', 'comando', 'combustão', 'comercial', 'comercialmente', 'commodity', 'como', 'compativel', 'compatível', 'compl', 'completo', 'completos', 'composto', 'compostopor', 'compostpo', 'comum', 'condicao', 'condicoes', 'condição', 'condições', 'confeccionado', 'conhecido', 'conj', 'conjunto', 'conjuntos', 'constituido', 'constitutivo', 'constituído', 'contendo', 'coposto', 'coroa', 'corr', 'corrent', 'corrente', 'correntee', 'correntes', 'cx', 'câmbio', 'cãmbio', 'código', 'da', 'das', 'de', 'decreto', 'dela', 'delas', 'dele', 'deles', 'denominada', 'dente', 'dentes', 'depois', 'descricao', 'descricão', 'descriçao', 'descrição', 'destaque', 'destaques', 'detransmissão', 'dimensao', 'dimensoes', 'dimensão', 'dimensões', 'diverso', 'diversos', 'do', 'dominado', 'dos', 'durabilidade', 'e', 'ela', 'elas', 'ele', 'eles', 'elo', 'elos', 'em', 'embalagem', 'engrenagem', 'engrenagens', 'entre', 'epinhao', 'epinhão', 'era', 'eram', 'espessura', 'essa', 'essas', 'esse', 'esses', 'esta', 'estamos', 'estas', 'estava', 'estavam', 'este', 'esteja', 'estejam', 'estejamos', 'estes', 'esteve', 'estive', 'estivemos', 'estiver', 'estivera', 'estiveram', 'estiverem', 'estivermos', 'estivesse', 'estivessem', 'estivéramos', 'estivéssemos', 'estou', 'está', 'estávamos', 'estão', 'eu', 'exclusivo', 'fabri', 'fabricada', 'fabricado', 'final', 'foi', 'foiproduzida', 'fomos', 'for', 'fora', 'foram', 'forem', 'formos', 'fosse', 'fossem', 'fui', 'funcao', 'funcão', 'funçao', 'função', 'fôramos', 'fôssemos', 'gtin', 'haja', 'hajam', 'hajamos', 'hardt', 'havemos', 'hei', 'ho', 'houve', 'houvemos', 'houver', 'houvera', 'houveram', 'houverei', 'houverem', 'houveremos', 'houveria', 'houveriam', 'houvermos', 'houverá', 'houverão', 'houveríamos', 'houvesse', 'houvessem', 'houvéramos', 'houvéssemos', 'hp', 'há', 'hão', 'imetro', 'in', 'incluso', 'indicado', 'ingles', 'inmetro', 'inv', 'invoice', 'iron', 'isso', 'isto', 'item', 'jc', 'já', 'kif', 'kit', 'kitr', 'kittr', 'kmc', 'lhe', 'lhes', 'ligacoes', 'ligaçoes', 'ligações', 'mais', 'marca', 'mark', 'mas', 'match', 'material', 'maxx', 'me', 'medida', 'medidas', 'medindo', 'mesmo', 'metal', 'meu', 'meus', 'minha', 'minhas', 'mod', 'modelo', 'modelos', 'moto', 'motocicleta', 'motocicletas', 'motoneta', 'motonetas', 'motoparts', 'motor', 'motos', 'movimento', 'muito', 'na', 'nas', 'nbsp', 'ncm', 'nem', 'no', 'nome', 'normais', 'nos', 'nossa', 'nossas', 'nosso', 'nossos', 'nova', 'novo', 'num', 'numa', 'numero', 'não', 'nós', 'número', 'o', 'onde', 'or', 'origem', 'oring', 'os', 'ou', 'ox', 'papelao', 'papelão', 'para', 'part', 'partes', 'parts', 'pc', 'pcs', 'pec', 'pecas', 'pela', 'pelas', 'pelo', 'pelos', 'perfil', 'peç', 'peças', 'pinhao', 'pinhão', 'por', 'posição', 'premium', 'procedencia', 'procedência', 'prodepe', 'produto', 'próprio', 'pç', 'qdes', 'qtd', 'qtds', 'qty', 'qual', 'quando', 'quantidade', 'que', 'quem', 'ref', 'reforcada', 'reforçada', 'registro', 'rel', 'relacao', 'relação', 'reposicao', 'resp', 'respo', 'respons', 'responsa', 'responsav', 'responsave', 'responsavel', 'responsável', 'ret', 'retentor', 'riffel', 'ring', 'roda', 'sae', 'scud', 'se', 'seja', 'sejam', 'sejamos', 'sem', 'semi', 'semi-', 'semi-kit', 'sendo', 'serei', 'seremos', 'seria', 'seriam', 'serve', 'será', 'serão', 'seríamos', 'seu', 'seus', 'shipping', 'sistema', 'sm', 'somos', 'sou', 'standard', 'standart', 'standartt', 'std', 'stdmodelo', 'steel', 'sua', 'suas', 'são', 'só', 'tambem', 'também', 'te', 'tec', 'tem', 'temos', 'temp', 'temperado', 'tenha', 'tenham', 'tenhamos', 'tenho', 'terei', 'teremos', 'teria', 'teriam', 'terá', 'terão', 'teríamos', 'teu', 'teus', 'teve', 'tinha', 'tinham', 'tipo', 'tipos', 'titanio', 'titaniu', 'titanium', 'titaniun', 'tive', 'tivemos', 'tiver', 'tivera', 'tiveram', 'tiverem', 'tivermos', 'tivesse', 'tivessem', 'tivéramos', 'tivéssemos', 'tr', 'tracao', 'tracão', 'trans', 'transmis', 'transmisao', 'transmiss', 'transmissa', 'transmissao', 'transmission', 'transmissão', 'transmitir', 'traseira', 'traçao', 'tração', 'tu', 'tua', 'tuas', 'tém', 'tínhamos', 'um', 'uma', 'und', 'unds', 'unid', 'unidade', 'unidades', 'unifort', 'uo', 'uso', 'utilizada', 'utilizadas', 'utilizado', 'utilizados', 'utilização', 'vem', 'venda', 'você', 'vocês', 'vos', 'with', 'xy', 'year', 'à', 'às', 'é', 'éramos']\n"
     ]
    }
   ],
   "source": [
    "# Mostra toda a lista de stopwords\n",
    "swtemp = list(stopwords)\n",
    "swtemp.sort()\n",
    "print(swtemp)"
   ]
  },
  {
   "cell_type": "code",
   "execution_count": 14,
   "metadata": {
    "scrolled": true
   },
   "outputs": [
    {
     "data": {
      "text/plain": [
       "478"
      ]
     },
     "execution_count": 14,
     "metadata": {},
     "output_type": "execute_result"
    }
   ],
   "source": [
    "len(stopwords)"
   ]
  },
  {
   "cell_type": "markdown",
   "metadata": {},
   "source": [
    "### Carrega lista de aplicações"
   ]
  },
  {
   "cell_type": "code",
   "execution_count": 15,
   "metadata": {
    "code_folding": []
   },
   "outputs": [],
   "source": [
    "# carrega a lista de marcas de motos do arquivo\n",
    "dftemp=pd.read_csv('./bases/Aplicacoes.csv')"
   ]
  },
  {
   "cell_type": "code",
   "execution_count": 16,
   "metadata": {},
   "outputs": [
    {
     "data": {
      "text/html": [
       "<div>\n",
       "<style scoped>\n",
       "    .dataframe tbody tr th:only-of-type {\n",
       "        vertical-align: middle;\n",
       "    }\n",
       "\n",
       "    .dataframe tbody tr th {\n",
       "        vertical-align: top;\n",
       "    }\n",
       "\n",
       "    .dataframe thead th {\n",
       "        text-align: right;\n",
       "    }\n",
       "</style>\n",
       "<table border=\"1\" class=\"dataframe\">\n",
       "  <thead>\n",
       "    <tr style=\"text-align: right;\">\n",
       "      <th></th>\n",
       "      <th>APLICACOES</th>\n",
       "    </tr>\n",
       "  </thead>\n",
       "  <tbody>\n",
       "    <tr>\n",
       "      <th>0</th>\n",
       "      <td>ACELLERA ACX 250F 250</td>\n",
       "    </tr>\n",
       "    <tr>\n",
       "      <th>1</th>\n",
       "      <td>ACELLERA FRONTLANDER 500</td>\n",
       "    </tr>\n",
       "    <tr>\n",
       "      <th>2</th>\n",
       "      <td>ACELLERA FRONTLANDER 800 EFI</td>\n",
       "    </tr>\n",
       "    <tr>\n",
       "      <th>3</th>\n",
       "      <td>ACELLERA HOTZOO SPORT 90</td>\n",
       "    </tr>\n",
       "    <tr>\n",
       "      <th>4</th>\n",
       "      <td>ACELLERA QUADRILANDER 300</td>\n",
       "    </tr>\n",
       "  </tbody>\n",
       "</table>\n",
       "</div>"
      ],
      "text/plain": [
       "                     APLICACOES\n",
       "0         ACELLERA ACX 250F 250\n",
       "1      ACELLERA FRONTLANDER 500\n",
       "2  ACELLERA FRONTLANDER 800 EFI\n",
       "3      ACELLERA HOTZOO SPORT 90\n",
       "4     ACELLERA QUADRILANDER 300"
      ]
     },
     "execution_count": 16,
     "metadata": {},
     "output_type": "execute_result"
    }
   ],
   "source": [
    "dftemp.head()"
   ]
  },
  {
   "cell_type": "markdown",
   "metadata": {},
   "source": [
    "#### Cria a lista de Palavras Chave das Aplicações"
   ]
  },
  {
   "cell_type": "code",
   "execution_count": 17,
   "metadata": {},
   "outputs": [],
   "source": [
    "# remove caracteres especiais ou soltos e termos duplicados, salvando na lista\n",
    "palavrasChave=sorted(set(re.sub(r\"\\b \\w \\b\",\n",
    "                                ' ', \n",
    "                                re.sub(r\"[/<>()|\\+\\$%&#@\\'\\\"]+\", \n",
    "                                       \" \",\n",
    "                                       \" \".join(dftemp['APLICACOES'].tolist()))).split()))"
   ]
  },
  {
   "cell_type": "code",
   "execution_count": 18,
   "metadata": {},
   "outputs": [
    {
     "data": {
      "text/plain": [
       "903"
      ]
     },
     "execution_count": 18,
     "metadata": {},
     "output_type": "execute_result"
    }
   ],
   "source": [
    "len(palavrasChave)"
   ]
  },
  {
   "cell_type": "code",
   "execution_count": 19,
   "metadata": {},
   "outputs": [
    {
     "name": "stdout",
     "output_type": "stream",
     "text": [
      "['100', '1000', '1000F', '1000R', '1000V', '1098', '110', '1100', '1100XX', '110S', '1125', '115', '1190', '1198', '1200', '1200Z', '125', '125R', '130', '1300']  ...  ['YFS', 'YS150', 'YS250', 'YZ', 'YZF', 'YZR', 'Z1000', 'Z750', 'Z800', 'ZACH', 'ZANELLA', 'ZENITH', 'ZIG', 'ZING', 'ZIP', 'ZONGSHEN', 'ZR', 'ZRX', 'ZS', 'ZZR']\n"
     ]
    }
   ],
   "source": [
    "# amostra de palavrasChave\n",
    "print(palavrasChave[:20],' ... ', palavrasChave[-20:])"
   ]
  },
  {
   "cell_type": "markdown",
   "metadata": {},
   "source": [
    "### Limpeza e criação da coluna DESCRICAO"
   ]
  },
  {
   "cell_type": "markdown",
   "metadata": {},
   "source": [
    "#### Função de limpeza de dados irrelevantes para a classificação e remoção de stopwords"
   ]
  },
  {
   "cell_type": "code",
   "execution_count": 20,
   "metadata": {},
   "outputs": [],
   "source": [
    "def limpaDescricao(descricao): # \n",
    "    descricao=descricao.lower() #transformar em minúsculas\n",
    "    descricao=re.sub(r\"\\( *\\d*[/\\*\\-\\d]\\d* *\\)\", ' ', descricao) # remove códigos numéricos entre parênteses com -*/\n",
    "    # remove a ocorrência de \"código e etc.\" e o termo seguinte começado com número\n",
    "    # att: (alguns tem hífen ou asterisco) (colocar antes de remover pontuação)\n",
    "    descricao=re.sub(r\"\\b(invoice|código|codigo|cod|cód|(certificado|cert)( no|nr|)|ref)[0-9a-z/\\-\\*\\.\\:]* *\\d[^ ]+\", ' ', descricao)\n",
    "    # remove identificação de referência de engrenagens dos kits (antes da pontuação)\n",
    "    descricao=re.sub(r\"\\d{1,}(ho|uo|h|l|z|t|ktd|m|d| dentes) *([^\\s]+)|\\w*(ho|h|l|z|t|ktd|m|d| dentes)\\d{1,}([^\\s]+)\", ' ', descricao) # 00h\n",
    "    # remove códigos no início da descrição\n",
    "    descricao=re.sub(r\"^\\b\\d{2,}[^ ]*\\b\", ' ', descricao)    \n",
    "    descricao=re.sub(r\"- | -|[\\\\\\+,.:;!?/]+\", ' ', descricao) #remover pontuação (att: \"- \" ou \" -\")\n",
    "    descricao=re.sub(r\"[/<>()|\\+\\\\$%&#@\\'\\\"]+\", ' ', descricao) #remover carcteres especiais\n",
    "    # substituição de termos comuns\n",
    "    termos=[('pop100', 'pop 100'),('c 100', 'c100'),('titan150','titan 150'),('tit','titan')]\n",
    "    for termo in termos:\n",
    "        descricao=re.sub(r\"\\b\" + str(termo[0]) + r\"\\b\", termo[1], descricao)\n",
    "    # remove a ocorrência de medidas tipo 00x000x00 ou 000x0000\n",
    "    descricao=re.sub(r\"\\b\\d{1,}(x|\\*)\\d{1,}(x|\\*)\\d{1,}|\\d{1,}(x|\\*)\\d{1,}\\b\", ' ', descricao)\n",
    "    # remove identificação de quantidades, unidades, peças e conjuntos\n",
    "    descricao=re.sub(r\"\\b(\\d* *(conj|und|uni|pc|pç|pec|peç)( \\w|\\w)+?)\\b\", ' ', descricao)\n",
    "    # remove identificação de mais de 4 dígitos com ou sem letras no início e no final\n",
    "    descricao=re.sub(r\"\\w+\\d{4,}\\w+\", ' ', descricao)\n",
    "    # remove números de 4 dígitos ou mais começados de 2 a 9\n",
    "    descricao=re.sub(r\"\\b[02-9]\\d{3,}\\b\", ' ', descricao)\n",
    "    # remove identificação de termos começados por zero\n",
    "    descricao=re.sub(r\"\\b0\\d*\\w+?(?=\\b)\", ' ', descricao)\n",
    "    # remove a ocorrência de \"marca \" e o termo na lista até o próximo espaço\n",
    "    for marca in ['kmc gold','king']: descricao=re.sub(r\"\\bmarca *\"+str(marca)+r\"[^ ]*\", ' ', descricao) # colocar antes das stopwords\n",
    "    # remove stopwords mantendo a ordem original da descrição\n",
    "    descricao=list(dict.fromkeys(descricao.split())) # cria lista com termos únicos\n",
    "    descricao=\" \".join([x for x in descricao if x not in set(stopwords)]) # exclui stopwords\n",
    "    # limpa os número que não estão na lista de aplicações (colocar depois das stopwords)\n",
    "    desc=descricao.upper().split() # quebra a descrição\n",
    "    dif=list(set(descricao.upper().split()).difference(palavrasChave)) # pega os termos diferentes de palavrasChave\n",
    "    [desc.remove(x) for x in desc if (x in dif and x.isnumeric())] # exclui de desc os termos numéricos diferentes\n",
    "    descricao=\" \".join(desc).lower() # volta para texto\n",
    "    #remover hífen, letras ou números soltos (deixar duplicado mesmo)\n",
    "    descricao=re.sub(r\"(^-| -|- |\\b\\w\\b)\", ' ', descricao)\n",
    "    descricao=re.sub(r\"(^-| -|- |\\b\\w\\b)\", ' ', descricao)\n",
    "    #substitui remove o i das cilindradas: ex.: 125i por 125\n",
    "    termos=re.findall(r\"\\d*i\\b\",descricao)\n",
    "    if termos:\n",
    "        for termo in termos:descricao=descricao.replace(termo,termo[:-1])\n",
    "    # remove espaços em excesso (colocar no final)\n",
    "    descricao=re.sub(r\" {2,}\", ' ', descricao)\n",
    "    descricao=descricao.strip()\n",
    "    # retorna a descricao como saída da função\n",
    "    return descricao # retorna a descrição"
   ]
  },
  {
   "cell_type": "markdown",
   "metadata": {},
   "source": [
    "#### Execução da função para criação da coluna DESCRICAO limpa"
   ]
  },
  {
   "cell_type": "code",
   "execution_count": 21,
   "metadata": {},
   "outputs": [],
   "source": [
    "linha=14"
   ]
  },
  {
   "cell_type": "code",
   "execution_count": 22,
   "metadata": {},
   "outputs": [
    {
     "data": {
      "text/plain": [
       "'80345 KIT DE TRANSMISSÃO, COMPOSTO DE CORRENTE, COROA E PINHÃO PARA MOTOCICLETA CB 250F - 2016..., MARCA ALLEN.'"
      ]
     },
     "execution_count": 22,
     "metadata": {},
     "output_type": "execute_result"
    }
   ],
   "source": [
    "df.iloc[linha]['DESCRICAO DO PRODUTO']"
   ]
  },
  {
   "cell_type": "code",
   "execution_count": 23,
   "metadata": {},
   "outputs": [
    {
     "name": "stdout",
     "output_type": "stream",
     "text": [
      "Tempo de execução: 5.6 segundos.\n"
     ]
    }
   ],
   "source": [
    "ini=time.time()\n",
    "df['DESCRICAO']=df['DESCRICAO DO PRODUTO'].apply(limpaDescricao)\n",
    "fim=time.time()\n",
    "print(f'Tempo de execução: {fim-ini:.2} segundos.')"
   ]
  },
  {
   "cell_type": "code",
   "execution_count": 24,
   "metadata": {},
   "outputs": [
    {
     "data": {
      "text/plain": [
       "'cb 250f allen'"
      ]
     },
     "execution_count": 24,
     "metadata": {},
     "output_type": "execute_result"
    }
   ],
   "source": [
    "df.iloc[linha]['DESCRICAO']"
   ]
  },
  {
   "cell_type": "code",
   "execution_count": 25,
   "metadata": {},
   "outputs": [
    {
     "data": {
      "text/plain": [
       "12880                     crypton 115\n",
       "14447                  xr200 43 allen\n",
       "16287                    lander velth\n",
       "16482    cb 250 twister fazer 150 110\n",
       "11753               cb twister 250 nr\n",
       "Name: DESCRICAO, dtype: object"
      ]
     },
     "execution_count": 25,
     "metadata": {},
     "output_type": "execute_result"
    }
   ],
   "source": [
    "df['DESCRICAO'].sample(5)"
   ]
  },
  {
   "cell_type": "markdown",
   "metadata": {},
   "source": [
    "### Criação de colunas Modelo"
   ]
  },
  {
   "cell_type": "markdown",
   "metadata": {},
   "source": [
    "#### Função de determinação de palavras chave na coluna Modelo"
   ]
  },
  {
   "cell_type": "code",
   "execution_count": 26,
   "metadata": {},
   "outputs": [],
   "source": [
    "def achaPalavraChave(descricao):\n",
    "    palavras=[]\n",
    "    descricao=descricao.upper()\n",
    "    desc=descricao.split()\n",
    "    for palavra in palavrasChave:\n",
    "        if palavra in desc:\n",
    "            palavras.append(palavra)\n",
    "        else:\n",
    "            if len(palavra)>=3 and not palavra.isnumeric():\n",
    "                if palavra in [\"CROSS\",\"STAR\",\"NIX\"]: # termos que só interessam no início\n",
    "                    pat=r\"\\b\"+str(palavra)+r\"\\d*\\b\" # termo iniciando pela palavra seguido de dígitos\n",
    "                else:\n",
    "                    pat=r\"\"+str(palavra)+r\"\\w*(?=\\b|\\d*\\b)\" # termo iniciando ou terminando pela palavra seguido de números\n",
    "            else:\n",
    "                pat=r\"\\b\"+str(palavra)+r\"\\b\" # termo completo\n",
    "            a = re.search(pat,descricao)\n",
    "            if a:\n",
    "                palavras.append(palavra)\n",
    "                paltemp=a.group(0)[len(palavra):] # parte que sobra de palavra\n",
    "                if paltemp in palavrasChave: # se a parte também estiver em palavrasChave\n",
    "                    palavras.append(paltemp) # adiciona parte também\n",
    "    palavras=list(set(palavras)) # remove duplicados\n",
    "    palavras=\" \".join(palavras) # converte para string\n",
    "    return palavras"
   ]
  },
  {
   "cell_type": "code",
   "execution_count": 27,
   "metadata": {},
   "outputs": [
    {
     "data": {
      "text/plain": [
       "'CB 250F'"
      ]
     },
     "execution_count": 27,
     "metadata": {},
     "output_type": "execute_result"
    }
   ],
   "source": [
    "achaPalavraChave(df.iloc[linha]['DESCRICAO'])"
   ]
  },
  {
   "cell_type": "markdown",
   "metadata": {},
   "source": [
    "#### Função para acrescentar a marca da motocicleta"
   ]
  },
  {
   "cell_type": "code",
   "execution_count": 28,
   "metadata": {},
   "outputs": [],
   "source": [
    "# termos que iniciam item da descrição correspondem a marca\n",
    "Marcas = {'HONDA': ['CG','CB','CRF','BIZ','BROS','XL','FAN','XR','XRE'\n",
    "                    'TITAN','TODAY','TWIN','POP','NX','NXR'],\n",
    "          'YAMAHA': ['DT','FZ','FJ','RD','MT','XF','XJ','XS','XT','XZ','YF','LANDER',\n",
    "                     'YBR','YZ','VIRAGO','FACTOR','EC','CRYPTON','FAZER'],\n",
    "          'SUZUKI': ['KATANA','YES','INTRUDER'],\n",
    "          'ZONGSHEN': ['ZS'],\n",
    "          'KASINSKI': ['COMET'],\n",
    "          'POLARIS': ['SPORTSMAN','RZR','RANGER'],\n",
    "          'KAWASAKI': ['NINJA','VERSYS','VOYAGER','GTR','KDX','KL','KX','KZ','ZR','ZZ','ER6N','ER6F'],\n",
    "          'DAYANG': ['DY1','DY2','DY5']}"
   ]
  },
  {
   "cell_type": "code",
   "execution_count": 29,
   "metadata": {},
   "outputs": [],
   "source": [
    "# Função para pegar a chave pelo valor, dado que valor é único.\n",
    "def pegaChave(v, dict):\n",
    "    for chave, valores in dict.items():\n",
    "        if type(valores)!=type([1,2]):\n",
    "            valores=[valores]\n",
    "        for valor in valores:\n",
    "            if v == valor:\n",
    "                return chave\n",
    "    return \"Não existe chave para esse valor.\""
   ]
  },
  {
   "cell_type": "code",
   "execution_count": 30,
   "metadata": {},
   "outputs": [],
   "source": [
    "def acrescentaMarca(descricao):\n",
    "    desclst=descricao.upper().split()\n",
    "    for termo in desclst:\n",
    "        if termo in Marcas:\n",
    "            return descricao\n",
    "    for marca in Marcas:\n",
    "        for termo in Marcas[marca]:\n",
    "            pat=r\"\\b\"+ termo +\"\\b*\"\n",
    "            if re.search(pat,descricao.upper()):\n",
    "                return pegaChave(termo,Marcas).upper() + \" \" + descricao.upper()\n",
    "    return descricao"
   ]
  },
  {
   "cell_type": "code",
   "execution_count": 31,
   "metadata": {},
   "outputs": [
    {
     "name": "stdout",
     "output_type": "stream",
     "text": [
      "HONDA BIZ C100\n"
     ]
    }
   ],
   "source": [
    "print(acrescentaMarca('BIZ C100'))"
   ]
  },
  {
   "cell_type": "markdown",
   "metadata": {},
   "source": [
    "### Aplica as funções\n",
    "Tenha paciência, demora cerca de 1 minuto para cada mil registros."
   ]
  },
  {
   "cell_type": "code",
   "execution_count": 32,
   "metadata": {},
   "outputs": [
    {
     "data": {
      "text/plain": [
       "'cb 250f allen'"
      ]
     },
     "execution_count": 32,
     "metadata": {},
     "output_type": "execute_result"
    }
   ],
   "source": [
    "# cria as colunas\n",
    "df=df.assign(Modelo=df['DESCRICAO'])\n",
    "df.iloc[linha]['DESCRICAO'] "
   ]
  },
  {
   "cell_type": "code",
   "execution_count": 33,
   "metadata": {},
   "outputs": [
    {
     "data": {
      "text/html": [
       "<div>\n",
       "<style scoped>\n",
       "    .dataframe tbody tr th:only-of-type {\n",
       "        vertical-align: middle;\n",
       "    }\n",
       "\n",
       "    .dataframe tbody tr th {\n",
       "        vertical-align: top;\n",
       "    }\n",
       "\n",
       "    .dataframe thead th {\n",
       "        text-align: right;\n",
       "    }\n",
       "</style>\n",
       "<table border=\"1\" class=\"dataframe\">\n",
       "  <thead>\n",
       "    <tr style=\"text-align: right;\">\n",
       "      <th></th>\n",
       "      <th>DESCRICAO</th>\n",
       "      <th>Modelo</th>\n",
       "    </tr>\n",
       "  </thead>\n",
       "  <tbody>\n",
       "    <tr>\n",
       "      <th>16915</th>\n",
       "      <td>pop 100 s1045 per</td>\n",
       "      <td>pop 100 s1045 per</td>\n",
       "    </tr>\n",
       "    <tr>\n",
       "      <th>6792</th>\n",
       "      <td>cg 150 titan fan start cargo nr br3151</td>\n",
       "      <td>cg 150 titan fan start cargo nr br3151</td>\n",
       "    </tr>\n",
       "    <tr>\n",
       "      <th>3505</th>\n",
       "      <td>c100 biz</td>\n",
       "      <td>c100 biz</td>\n",
       "    </tr>\n",
       "    <tr>\n",
       "      <th>18159</th>\n",
       "      <td>kittr-178 web 100</td>\n",
       "      <td>kittr-178 web 100</td>\n",
       "    </tr>\n",
       "    <tr>\n",
       "      <th>13502</th>\n",
       "      <td>cypton115</td>\n",
       "      <td>cypton115</td>\n",
       "    </tr>\n",
       "  </tbody>\n",
       "</table>\n",
       "</div>"
      ],
      "text/plain": [
       "                                    DESCRICAO  \\\n",
       "16915                       pop 100 s1045 per   \n",
       "6792   cg 150 titan fan start cargo nr br3151   \n",
       "3505                                 c100 biz   \n",
       "18159                       kittr-178 web 100   \n",
       "13502                               cypton115   \n",
       "\n",
       "                                       Modelo  \n",
       "16915                       pop 100 s1045 per  \n",
       "6792   cg 150 titan fan start cargo nr br3151  \n",
       "3505                                 c100 biz  \n",
       "18159                       kittr-178 web 100  \n",
       "13502                               cypton115  "
      ]
     },
     "execution_count": 33,
     "metadata": {},
     "output_type": "execute_result"
    }
   ],
   "source": [
    "df.iloc[:,-2:].sample(5)"
   ]
  },
  {
   "cell_type": "code",
   "execution_count": 34,
   "metadata": {},
   "outputs": [
    {
     "name": "stdout",
     "output_type": "stream",
     "text": [
      "Hora de início:18:35\n",
      "\n",
      "Iniciando achaPalavraChave...\n",
      "\n",
      "Iniciando acrescentaMarca...\n",
      "\n",
      "Hora de término:18:57\n",
      "Tempo decorrido: 22.17 minutos.\n"
     ]
    }
   ],
   "source": [
    "# aplica as funções a cada coluna\n",
    "ini=time.time()\n",
    "now = time.strftime(\"%H:%M\", time.localtime(time.time()))\n",
    "print(\"Hora de início:\" + now)\n",
    "\n",
    "print('\\nIniciando achaPalavraChave...')\n",
    "df['Modelo']=df['Modelo'].apply(achaPalavraChave)\n",
    "\n",
    "print('\\nIniciando acrescentaMarca...')\n",
    "df['Modelo']=df['Modelo'].apply(acrescentaMarca)\n",
    "\n",
    "now = time.strftime(\"%H:%M\", time.localtime(time.time()))\n",
    "fim=time.time()\n",
    "print(\"\\nHora de término:\" + str(now))\n",
    "print(\"Tempo decorrido: \" + str(round((fim-ini)/60,2)) + \" minutos.\")"
   ]
  },
  {
   "cell_type": "code",
   "execution_count": 35,
   "metadata": {
    "scrolled": true
   },
   "outputs": [
    {
     "data": {
      "text/html": [
       "<div>\n",
       "<style scoped>\n",
       "    .dataframe tbody tr th:only-of-type {\n",
       "        vertical-align: middle;\n",
       "    }\n",
       "\n",
       "    .dataframe tbody tr th {\n",
       "        vertical-align: top;\n",
       "    }\n",
       "\n",
       "    .dataframe thead th {\n",
       "        text-align: right;\n",
       "    }\n",
       "</style>\n",
       "<table border=\"1\" class=\"dataframe\">\n",
       "  <thead>\n",
       "    <tr style=\"text-align: right;\">\n",
       "      <th></th>\n",
       "      <th>DESCRICAO DO PRODUTO</th>\n",
       "      <th>DESCRICAO</th>\n",
       "      <th>Modelo</th>\n",
       "    </tr>\n",
       "  </thead>\n",
       "  <tbody>\n",
       "    <tr>\n",
       "      <th>7404</th>\n",
       "      <td>item .28;Partes e peças para Motocicletas,Dest...</td>\n",
       "      <td>kit 125 titan 99</td>\n",
       "      <td>TITAN 125 TIT AN</td>\n",
       "    </tr>\n",
       "    <tr>\n",
       "      <th>3006</th>\n",
       "      <td>KIT DE TRANSMISSAO , MARCA RIFFEL, TITANIUM (1...</td>\n",
       "      <td>biz 125 nr</td>\n",
       "      <td>HONDA 125 BIZ</td>\n",
       "    </tr>\n",
       "    <tr>\n",
       "      <th>460</th>\n",
       "      <td>KIT DE TRANSMISSÃO, COMPOSTO DE: CORRENTE, COR...</td>\n",
       "      <td>i45 titan 160 fan</td>\n",
       "      <td>HONDA TITAN FAN TIT 160 AN</td>\n",
       "    </tr>\n",
       "    <tr>\n",
       "      <th>13939</th>\n",
       "      <td>070591 - KIT TRANSMISSÃO COMPOSTO DE CORRENTE,...</td>\n",
       "      <td>titan 150 sport 15</td>\n",
       "      <td>SPORT TITAN TIT 150 AN</td>\n",
       "    </tr>\n",
       "    <tr>\n",
       "      <th>8017</th>\n",
       "      <td>KIT TRANSMISSÃO PARA MOTOCICLETAS,COMPOSTO DE ...</td>\n",
       "      <td>cg 160 titan fan start cargo</td>\n",
       "      <td>HONDA TITAN FAN CG CARGO TIT 160 AN</td>\n",
       "    </tr>\n",
       "  </tbody>\n",
       "</table>\n",
       "</div>"
      ],
      "text/plain": [
       "                                    DESCRICAO DO PRODUTO  \\\n",
       "7404   item .28;Partes e peças para Motocicletas,Dest...   \n",
       "3006   KIT DE TRANSMISSAO , MARCA RIFFEL, TITANIUM (1...   \n",
       "460    KIT DE TRANSMISSÃO, COMPOSTO DE: CORRENTE, COR...   \n",
       "13939  070591 - KIT TRANSMISSÃO COMPOSTO DE CORRENTE,...   \n",
       "8017   KIT TRANSMISSÃO PARA MOTOCICLETAS,COMPOSTO DE ...   \n",
       "\n",
       "                          DESCRICAO                               Modelo  \n",
       "7404               kit 125 titan 99                     TITAN 125 TIT AN  \n",
       "3006                     biz 125 nr                        HONDA 125 BIZ  \n",
       "460               i45 titan 160 fan           HONDA TITAN FAN TIT 160 AN  \n",
       "13939            titan 150 sport 15               SPORT TITAN TIT 150 AN  \n",
       "8017   cg 160 titan fan start cargo  HONDA TITAN FAN CG CARGO TIT 160 AN  "
      ]
     },
     "execution_count": 35,
     "metadata": {},
     "output_type": "execute_result"
    }
   ],
   "source": [
    "df[['DESCRICAO DO PRODUTO','DESCRICAO','Modelo']].sample(5)"
   ]
  },
  {
   "cell_type": "code",
   "execution_count": 36,
   "metadata": {},
   "outputs": [],
   "source": [
    "df_sem_modelo = df[df['Modelo']=='']\n",
    "df_sem_modelo['DESCRICAO'].to_excel(\"./bases/sem_modelo.xlsx\")"
   ]
  },
  {
   "cell_type": "code",
   "execution_count": 37,
   "metadata": {},
   "outputs": [
    {
     "data": {
      "text/html": [
       "<div>\n",
       "<style scoped>\n",
       "    .dataframe tbody tr th:only-of-type {\n",
       "        vertical-align: middle;\n",
       "    }\n",
       "\n",
       "    .dataframe tbody tr th {\n",
       "        vertical-align: top;\n",
       "    }\n",
       "\n",
       "    .dataframe thead th {\n",
       "        text-align: right;\n",
       "    }\n",
       "</style>\n",
       "<table border=\"1\" class=\"dataframe\">\n",
       "  <thead>\n",
       "    <tr style=\"text-align: right;\">\n",
       "      <th></th>\n",
       "      <th>DESCRICAO DO PRODUTO</th>\n",
       "      <th>DESCRICAO</th>\n",
       "      <th>Modelo</th>\n",
       "    </tr>\n",
       "  </thead>\n",
       "  <tbody>\n",
       "    <tr>\n",
       "      <th>10195</th>\n",
       "      <td>881825 - SEMI-KIT DE TRANSMISSAO COMPOSTO DE C...</td>\n",
       "      <td>96 14 kmc-pro</td>\n",
       "      <td></td>\n",
       "    </tr>\n",
       "    <tr>\n",
       "      <th>924</th>\n",
       "      <td>880362 - KIT DE TRANSMISSÃO, COMPOSTO DE CORRE...</td>\n",
       "      <td>allen</td>\n",
       "      <td></td>\n",
       "    </tr>\n",
       "    <tr>\n",
       "      <th>12696</th>\n",
       "      <td>9500702 - ITEM DE REPOSICAO PARA O SISTEMA DE ...</td>\n",
       "      <td>15</td>\n",
       "      <td></td>\n",
       "    </tr>\n",
       "    <tr>\n",
       "      <th>10964</th>\n",
       "      <td>KIT TRANSMISSÃO PARA MOTOCICLETAS,COMPOSTO DE ...</td>\n",
       "      <td>cg82 s1045 per iro</td>\n",
       "      <td></td>\n",
       "    </tr>\n",
       "    <tr>\n",
       "      <th>8241</th>\n",
       "      <td>5227101 - ITEM DE REPOSICAO PARA O SISTEMA DE ...</td>\n",
       "      <td>15</td>\n",
       "      <td></td>\n",
       "    </tr>\n",
       "    <tr>\n",
       "      <th>5961</th>\n",
       "      <td>TRANSMISSAO PARA USO EM MOTOCICLETA COMPOSTO D...</td>\n",
       "      <td>1045 esk</td>\n",
       "      <td></td>\n",
       "    </tr>\n",
       "    <tr>\n",
       "      <th>9876</th>\n",
       "      <td>TRANSMISSAO PARA USO EM MOTOCICLETA COMPOSTO D...</td>\n",
       "      <td>1045 esk</td>\n",
       "      <td></td>\n",
       "    </tr>\n",
       "    <tr>\n",
       "      <th>9772</th>\n",
       "      <td>TM10120 - KIT DE TRANSMISSAO COMPOSTO DE COROA...</td>\n",
       "      <td></td>\n",
       "      <td></td>\n",
       "    </tr>\n",
       "    <tr>\n",
       "      <th>10412</th>\n",
       "      <td>10540015 IN KIT TRANSMISSAO P/MOTOCICLETAS(COR...</td>\n",
       "      <td></td>\n",
       "      <td></td>\n",
       "    </tr>\n",
       "    <tr>\n",
       "      <th>12673</th>\n",
       "      <td>COD.: 20183/I45 - KIT TRANSMISSAO PARA MOTOCIC...</td>\n",
       "      <td></td>\n",
       "      <td></td>\n",
       "    </tr>\n",
       "  </tbody>\n",
       "</table>\n",
       "</div>"
      ],
      "text/plain": [
       "                                    DESCRICAO DO PRODUTO           DESCRICAO  \\\n",
       "10195  881825 - SEMI-KIT DE TRANSMISSAO COMPOSTO DE C...       96 14 kmc-pro   \n",
       "924    880362 - KIT DE TRANSMISSÃO, COMPOSTO DE CORRE...               allen   \n",
       "12696  9500702 - ITEM DE REPOSICAO PARA O SISTEMA DE ...                  15   \n",
       "10964  KIT TRANSMISSÃO PARA MOTOCICLETAS,COMPOSTO DE ...  cg82 s1045 per iro   \n",
       "8241   5227101 - ITEM DE REPOSICAO PARA O SISTEMA DE ...                  15   \n",
       "5961   TRANSMISSAO PARA USO EM MOTOCICLETA COMPOSTO D...            1045 esk   \n",
       "9876   TRANSMISSAO PARA USO EM MOTOCICLETA COMPOSTO D...            1045 esk   \n",
       "9772   TM10120 - KIT DE TRANSMISSAO COMPOSTO DE COROA...                       \n",
       "10412  10540015 IN KIT TRANSMISSAO P/MOTOCICLETAS(COR...                       \n",
       "12673  COD.: 20183/I45 - KIT TRANSMISSAO PARA MOTOCIC...                       \n",
       "\n",
       "      Modelo  \n",
       "10195         \n",
       "924           \n",
       "12696         \n",
       "10964         \n",
       "8241          \n",
       "5961          \n",
       "9876          \n",
       "9772          \n",
       "10412         \n",
       "12673         "
      ]
     },
     "execution_count": 37,
     "metadata": {},
     "output_type": "execute_result"
    }
   ],
   "source": [
    "df_sem_modelo[['DESCRICAO DO PRODUTO','DESCRICAO','Modelo']].sample(10)"
   ]
  },
  {
   "cell_type": "code",
   "execution_count": 38,
   "metadata": {},
   "outputs": [
    {
     "data": {
      "text/plain": [
       "(990, 5)"
      ]
     },
     "execution_count": 38,
     "metadata": {},
     "output_type": "execute_result"
    }
   ],
   "source": [
    "df_sem_modelo.shape"
   ]
  },
  {
   "cell_type": "markdown",
   "metadata": {},
   "source": [
    "#### Exclusão dos registros sem aplicação contida na descrição"
   ]
  },
  {
   "cell_type": "markdown",
   "metadata": {},
   "source": [
    "Neste momento é necessário tomar uma decisão sobre o que fazer com os registros que permaneceram sem nenhuma extração na coluna **Modelo**.<br>\n",
    "Para tal decisão foi necessário observar cada um desses registros no arquivo \"sem_modelo.xls\" exportado e constatar que nenhum dos registros possui realmente qualquer alusão à aplicação do item descrito."
   ]
  },
  {
   "cell_type": "code",
   "execution_count": 39,
   "metadata": {},
   "outputs": [],
   "source": [
    "df=df[df['Modelo']!='']"
   ]
  },
  {
   "cell_type": "code",
   "execution_count": 40,
   "metadata": {},
   "outputs": [
    {
     "data": {
      "text/plain": [
       "(18327, 5)"
      ]
     },
     "execution_count": 40,
     "metadata": {},
     "output_type": "execute_result"
    }
   ],
   "source": [
    "df.shape"
   ]
  },
  {
   "cell_type": "markdown",
   "metadata": {},
   "source": [
    "### Funcão final que transforma a DESCRICAO DO PRODUTO em Modelo para classificar"
   ]
  },
  {
   "cell_type": "code",
   "execution_count": 41,
   "metadata": {},
   "outputs": [],
   "source": [
    "def criaModelo(descricao):\n",
    "    descricao=limpaDescricao(descricao)\n",
    "    descricao=achaPalavraChave(descricao)\n",
    "    descricao=acrescentaMarca(descricao)\n",
    "    return descricao"
   ]
  },
  {
   "cell_type": "code",
   "execution_count": 42,
   "metadata": {},
   "outputs": [
    {
     "data": {
      "text/plain": [
       "'HONDA CB 250F'"
      ]
     },
     "execution_count": 42,
     "metadata": {},
     "output_type": "execute_result"
    }
   ],
   "source": [
    "criaModelo(df.iloc[linha]['DESCRICAO DO PRODUTO'])"
   ]
  },
  {
   "cell_type": "markdown",
   "metadata": {},
   "source": [
    "## Exportando DataFrame com Modelos de aplicação"
   ]
  },
  {
   "cell_type": "code",
   "execution_count": 43,
   "metadata": {},
   "outputs": [],
   "source": [
    "df.to_excel(r'./bases/dataframe_modelos.xlsx', index = False, header = True)"
   ]
  },
  {
   "cell_type": "markdown",
   "metadata": {},
   "source": [
    "## Gerando a WordCloud com o campo Modelo"
   ]
  },
  {
   "cell_type": "code",
   "execution_count": 44,
   "metadata": {},
   "outputs": [],
   "source": [
    "# Mescla todas as descrições como uma string usado espaço como separador\n",
    "descricoes = \" \".join(df['Modelo']).lower()"
   ]
  },
  {
   "cell_type": "code",
   "execution_count": 45,
   "metadata": {},
   "outputs": [],
   "source": [
    "# Define e gera a wordcloud para um máximo de 400 palavras de tamanho mínimo 2, sem termos duplos\n",
    "wordcloud = WordCloud(stopwords=stopwords,\n",
    "                      background_color=\"white\",\n",
    "                      width=1600, height=800,\n",
    "                      max_words=400,\n",
    "                      min_word_length=2,\n",
    "                      collocations=False,\n",
    "                      include_numbers=True).generate(descricoes)"
   ]
  },
  {
   "cell_type": "code",
   "execution_count": 46,
   "metadata": {
    "scrolled": false
   },
   "outputs": [
    {
     "data": {
      "text/plain": [
       "<matplotlib.image.AxesImage at 0x261d50b8470>"
      ]
     },
     "execution_count": 46,
     "metadata": {},
     "output_type": "execute_result"
    },
    {
     "data": {
      "image/png": "[encoded data removed]",
      "text/plain": [
       "<Figure size 1440x576 with 1 Axes>"
      ]
     },
     "metadata": {
      "needs_background": "light"
     },
     "output_type": "display_data"
    }
   ],
   "source": [
    "# Exibe a imagem da nova WordCloud gerada\n",
    "fig, ax = plt.subplots(figsize=(20,8))\n",
    "ax.imshow(wordcloud, interpolation='bilinear')\n",
    "ax.set_axis_off()\n",
    "plt.imshow(wordcloud)"
   ]
  },
  {
   "cell_type": "code",
   "execution_count": 47,
   "metadata": {},
   "outputs": [
    {
     "data": {
      "text/plain": [
       "<wordcloud.wordcloud.WordCloud at 0x261d50919e8>"
      ]
     },
     "execution_count": 47,
     "metadata": {},
     "output_type": "execute_result"
    }
   ],
   "source": [
    "# Exporta para um aquivo\n",
    "wordcloud.to_file(\"./imagens/wordcloud_descricoes_final.png\")"
   ]
  }
 ],
 "metadata": {
  "kernelspec": {
   "display_name": "Python 3",
   "language": "python",
   "name": "python3"
  },
  "language_info": {
   "codemirror_mode": {
    "name": "ipython",
    "version": 3
   },
   "file_extension": ".py",
   "mimetype": "text/x-python",
   "name": "python",
   "nbconvert_exporter": "python",
   "pygments_lexer": "ipython3",
   "version": "3.7.3"
  },
  "toc": {
   "base_numbering": 1,
   "nav_menu": {},
   "number_sections": false,
   "sideBar": false,
   "skip_h1_title": false,
   "title_cell": "Sumário",
   "title_sidebar": "Sumário",
   "toc_cell": false,
   "toc_position": {},
   "toc_section_display": true,
   "toc_window_display": false
  }
 },
 "nbformat": 4,
 "nbformat_minor": 2
}
