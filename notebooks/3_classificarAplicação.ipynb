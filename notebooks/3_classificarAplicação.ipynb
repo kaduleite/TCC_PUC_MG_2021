{
 "cells": [
  {
   "cell_type": "markdown",
   "metadata": {},
   "source": [
    "# _Notebook Jupyter_ 3_classificarAplicação"
   ]
  },
  {
   "cell_type": "markdown",
   "metadata": {},
   "source": [
    "# Classificação dos modelos de motocicleta a partir da descrição"
   ]
  },
  {
   "cell_type": "markdown",
   "metadata": {},
   "source": [
    "A grande dificuldade na tarefa de análise de valores compatíveis na importação de peças de motocicletas, em especial dos kits de transmissão, se dá no fato de que milhares de importadores adquirem essas peças no exterior e informam sua descrição em um campo texto livre.<br>\n",
    "Nem mesmo a utilização da classificação fiscal normatizada no Mercosul, chamada de Nomenclatura Comum do Mercosul – NCM, ajuda nesse caso específico, tendo em vista que grande parte das peças de motocicletas e todos os kits de transmissão são classificados em uma mesma posição na tabela da NCM.<br>\n",
    "Para que se possa tratar corretamente o dataset obtido na nossa etapa de processamento e tratamento de dados, e permitir o futuro aprendizado de máquina, com predições do modelo de motocicleta que aquele item se aplica, é preciso que primeiro se proceda a uma classificação de aplicações que futuramente será utilizado em um aprendizado supervisionado.<br>\n",
    "A ideia é se aplicar uma busca na descrição da mercadoria pelos termos conhecidos de aplicações e se buscar a qual aplicação aquela descrição se refere, fazendo desse modo a primeira classificação.<br>\n",
    "Posteriormente será utilizado um algorítimo de aprendizado de máquina para aprender com o próprio texto da descrição da aplicação e fazer a classificação utilizando a descrição já limpa de stopwords e outros termos desnecessários.<br>\n",
    "A interseção dos dois conjuntos de classificação será o dataset utilizado para fazer o treinamento do classificador, que será o primeiro passo antes da análise de valor do item importado."
   ]
  },
  {
   "cell_type": "markdown",
   "metadata": {},
   "source": [
    "### Importa as bibliotecas necessárias"
   ]
  },
  {
   "cell_type": "code",
   "execution_count": 1,
   "metadata": {},
   "outputs": [],
   "source": [
    "import pandas as pd, numpy as np\n",
    "import re, time\n",
    "# stopwords\n",
    "from nltk.corpus import stopwords\n",
    "# wordcloud\n",
    "from wordcloud import WordCloud\n",
    "# plotagem do gráfico\n",
    "import matplotlib.pyplot as plt"
   ]
  },
  {
   "cell_type": "code",
   "execution_count": 2,
   "metadata": {},
   "outputs": [
    {
     "name": "stdout",
     "output_type": "stream",
     "text": [
      "Código executado em 10/01/2022 às 19:13\n"
     ]
    }
   ],
   "source": [
    "# Data e hora da execução do script\n",
    "print(f'Código executado em {time.strftime(\"%d/%m/%Y às %H:%M\", time.localtime(time.time()))}')"
   ]
  },
  {
   "cell_type": "markdown",
   "metadata": {},
   "source": [
    "### Importa os dados já tratados"
   ]
  },
  {
   "cell_type": "code",
   "execution_count": 3,
   "metadata": {},
   "outputs": [],
   "source": [
    "# Importa base de dados para um dataframe\n",
    "df = pd.read_excel(r'./bases/dataframe.xlsx')"
   ]
  },
  {
   "cell_type": "code",
   "execution_count": 4,
   "metadata": {},
   "outputs": [
    {
     "data": {
      "text/plain": [
       "(19092, 25)"
      ]
     },
     "execution_count": 4,
     "metadata": {},
     "output_type": "execute_result"
    }
   ],
   "source": [
    "# Verifica o tamnanho do dataframe\n",
    "df.shape"
   ]
  },
  {
   "cell_type": "code",
   "execution_count": 5,
   "metadata": {},
   "outputs": [
    {
     "data": {
      "text/html": [
       "<div>\n",
       "<style scoped>\n",
       "    .dataframe tbody tr th:only-of-type {\n",
       "        vertical-align: middle;\n",
       "    }\n",
       "\n",
       "    .dataframe tbody tr th {\n",
       "        vertical-align: top;\n",
       "    }\n",
       "\n",
       "    .dataframe thead th {\n",
       "        text-align: right;\n",
       "    }\n",
       "</style>\n",
       "<table border=\"1\" class=\"dataframe\">\n",
       "  <thead>\n",
       "    <tr style=\"text-align: right;\">\n",
       "      <th></th>\n",
       "      <th>NUMERO DE ORDEM</th>\n",
       "      <th>ANOMES</th>\n",
       "      <th>COD.NCM</th>\n",
       "      <th>DESCRICAO DO CODIGO NCM</th>\n",
       "      <th>PAIS.OR</th>\n",
       "      <th>PAIS DE ORIGEM</th>\n",
       "      <th>PAIS.AQ</th>\n",
       "      <th>PAIS DE AQUISICAO</th>\n",
       "      <th>UND.ESTAT.</th>\n",
       "      <th>UNIDADE DE MEDIDA</th>\n",
       "      <th>...</th>\n",
       "      <th>VL FRETE DOLAR</th>\n",
       "      <th>VL SEGURO DOLAR</th>\n",
       "      <th>VALOR UN.PROD.DOLAR</th>\n",
       "      <th>QTD COMERCIAL.</th>\n",
       "      <th>TOT.UN.PROD.DOLAR</th>\n",
       "      <th>UNIDADE DESEMBARQUE</th>\n",
       "      <th>UNIDADE DESEMBARACO</th>\n",
       "      <th>INCOTERM</th>\n",
       "      <th>NAT.INFORMACAO</th>\n",
       "      <th>SITUACAO DO DESPACHO</th>\n",
       "    </tr>\n",
       "  </thead>\n",
       "  <tbody>\n",
       "    <tr>\n",
       "      <th>14745</th>\n",
       "      <td>343810000100011</td>\n",
       "      <td>202103</td>\n",
       "      <td>87141000</td>\n",
       "      <td>PARTES ACESSÓRIOS P/MOTOCICLET</td>\n",
       "      <td>160</td>\n",
       "      <td>CHINA, REPUBLICA POP</td>\n",
       "      <td>160</td>\n",
       "      <td>CHINA, REPUBLICA POP</td>\n",
       "      <td>10</td>\n",
       "      <td>QUILOGRAMA LIQUIDO</td>\n",
       "      <td>...</td>\n",
       "      <td>26400.00</td>\n",
       "      <td>0.00</td>\n",
       "      <td>2.956300</td>\n",
       "      <td>250.0</td>\n",
       "      <td>739.07500</td>\n",
       "      <td>N/INFORMADO</td>\n",
       "      <td>ITAJAI</td>\n",
       "      <td>FOB</td>\n",
       "      <td>EFETIVA</td>\n",
       "      <td>DI DESEMBARAÇADA</td>\n",
       "    </tr>\n",
       "    <tr>\n",
       "      <th>3602</th>\n",
       "      <td>736560000100025</td>\n",
       "      <td>202006</td>\n",
       "      <td>87141000</td>\n",
       "      <td>PARTES ACESSÓRIOS P/MOTOCICLET</td>\n",
       "      <td>160</td>\n",
       "      <td>CHINA, REPUBLICA POP</td>\n",
       "      <td>767</td>\n",
       "      <td>SUICA</td>\n",
       "      <td>10</td>\n",
       "      <td>QUILOGRAMA LIQUIDO</td>\n",
       "      <td>...</td>\n",
       "      <td>2412.44</td>\n",
       "      <td>0.00</td>\n",
       "      <td>4.848000</td>\n",
       "      <td>200.0</td>\n",
       "      <td>969.60000</td>\n",
       "      <td>N/INFORMADO</td>\n",
       "      <td>ALF - SALVADOR</td>\n",
       "      <td>FOB</td>\n",
       "      <td>EFETIVA</td>\n",
       "      <td>DI DESEMBARAÇADA</td>\n",
       "    </tr>\n",
       "    <tr>\n",
       "      <th>2342</th>\n",
       "      <td>1199200000100016</td>\n",
       "      <td>202003</td>\n",
       "      <td>87141000</td>\n",
       "      <td>PARTES ACESSÓRIOS P/MOTOCICLET</td>\n",
       "      <td>160</td>\n",
       "      <td>CHINA, REPUBLICA POP</td>\n",
       "      <td>160</td>\n",
       "      <td>CHINA, REPUBLICA POP</td>\n",
       "      <td>10</td>\n",
       "      <td>QUILOGRAMA LIQUIDO</td>\n",
       "      <td>...</td>\n",
       "      <td>9250.00</td>\n",
       "      <td>159.18</td>\n",
       "      <td>3.720000</td>\n",
       "      <td>300.0</td>\n",
       "      <td>1116.00000</td>\n",
       "      <td>N/INFORMADO</td>\n",
       "      <td>PORTO DE SANTOS</td>\n",
       "      <td>FOB</td>\n",
       "      <td>EFETIVA</td>\n",
       "      <td>DI DESEMBARAÇADA</td>\n",
       "    </tr>\n",
       "    <tr>\n",
       "      <th>8776</th>\n",
       "      <td>934180000100004</td>\n",
       "      <td>202010</td>\n",
       "      <td>87141000</td>\n",
       "      <td>PARTES ACESSÓRIOS P/MOTOCICLET</td>\n",
       "      <td>160</td>\n",
       "      <td>CHINA, REPUBLICA POP</td>\n",
       "      <td>160</td>\n",
       "      <td>CHINA, REPUBLICA POP</td>\n",
       "      <td>10</td>\n",
       "      <td>QUILOGRAMA LIQUIDO</td>\n",
       "      <td>...</td>\n",
       "      <td>2059.18</td>\n",
       "      <td>98.30</td>\n",
       "      <td>3.744278</td>\n",
       "      <td>100.0</td>\n",
       "      <td>374.42784</td>\n",
       "      <td>N/INFORMADO</td>\n",
       "      <td>ITAJAI</td>\n",
       "      <td>CIF</td>\n",
       "      <td>EFETIVA</td>\n",
       "      <td>DI DESEMBARAÇADA</td>\n",
       "    </tr>\n",
       "    <tr>\n",
       "      <th>17718</th>\n",
       "      <td>854830000500047</td>\n",
       "      <td>202105</td>\n",
       "      <td>87141000</td>\n",
       "      <td>PARTES ACESSÓRIOS P/MOTOCICLET</td>\n",
       "      <td>160</td>\n",
       "      <td>CHINA, REPUBLICA POP</td>\n",
       "      <td>767</td>\n",
       "      <td>SUICA</td>\n",
       "      <td>10</td>\n",
       "      <td>QUILOGRAMA LIQUIDO</td>\n",
       "      <td>...</td>\n",
       "      <td>20050.30</td>\n",
       "      <td>343.14</td>\n",
       "      <td>5.796000</td>\n",
       "      <td>1000.0</td>\n",
       "      <td>5796.00000</td>\n",
       "      <td>N/INFORMADO</td>\n",
       "      <td>ITAJAI</td>\n",
       "      <td>FOB</td>\n",
       "      <td>EFETIVA</td>\n",
       "      <td>DI DESEMBARAÇADA</td>\n",
       "    </tr>\n",
       "  </tbody>\n",
       "</table>\n",
       "<p>5 rows × 25 columns</p>\n",
       "</div>"
      ],
      "text/plain": [
       "        NUMERO DE ORDEM  ANOMES   COD.NCM         DESCRICAO DO CODIGO NCM  \\\n",
       "14745   343810000100011  202103  87141000  PARTES ACESSÓRIOS P/MOTOCICLET   \n",
       "3602    736560000100025  202006  87141000  PARTES ACESSÓRIOS P/MOTOCICLET   \n",
       "2342   1199200000100016  202003  87141000  PARTES ACESSÓRIOS P/MOTOCICLET   \n",
       "8776    934180000100004  202010  87141000  PARTES ACESSÓRIOS P/MOTOCICLET   \n",
       "17718   854830000500047  202105  87141000  PARTES ACESSÓRIOS P/MOTOCICLET   \n",
       "\n",
       "       PAIS.OR        PAIS DE ORIGEM  PAIS.AQ     PAIS DE AQUISICAO  \\\n",
       "14745      160  CHINA, REPUBLICA POP      160  CHINA, REPUBLICA POP   \n",
       "3602       160  CHINA, REPUBLICA POP      767                 SUICA   \n",
       "2342       160  CHINA, REPUBLICA POP      160  CHINA, REPUBLICA POP   \n",
       "8776       160  CHINA, REPUBLICA POP      160  CHINA, REPUBLICA POP   \n",
       "17718      160  CHINA, REPUBLICA POP      767                 SUICA   \n",
       "\n",
       "       UND.ESTAT.   UNIDADE DE MEDIDA  ... VL FRETE DOLAR VL SEGURO DOLAR  \\\n",
       "14745          10  QUILOGRAMA LIQUIDO  ...       26400.00            0.00   \n",
       "3602           10  QUILOGRAMA LIQUIDO  ...        2412.44            0.00   \n",
       "2342           10  QUILOGRAMA LIQUIDO  ...        9250.00          159.18   \n",
       "8776           10  QUILOGRAMA LIQUIDO  ...        2059.18           98.30   \n",
       "17718          10  QUILOGRAMA LIQUIDO  ...       20050.30          343.14   \n",
       "\n",
       "       VALOR UN.PROD.DOLAR  QTD COMERCIAL.  TOT.UN.PROD.DOLAR  \\\n",
       "14745             2.956300           250.0          739.07500   \n",
       "3602              4.848000           200.0          969.60000   \n",
       "2342              3.720000           300.0         1116.00000   \n",
       "8776              3.744278           100.0          374.42784   \n",
       "17718             5.796000          1000.0         5796.00000   \n",
       "\n",
       "       UNIDADE DESEMBARQUE  UNIDADE DESEMBARACO  INCOTERM  NAT.INFORMACAO  \\\n",
       "14745          N/INFORMADO               ITAJAI       FOB         EFETIVA   \n",
       "3602           N/INFORMADO       ALF - SALVADOR       FOB         EFETIVA   \n",
       "2342           N/INFORMADO      PORTO DE SANTOS       FOB         EFETIVA   \n",
       "8776           N/INFORMADO               ITAJAI       CIF         EFETIVA   \n",
       "17718          N/INFORMADO               ITAJAI       FOB         EFETIVA   \n",
       "\n",
       "       SITUACAO DO DESPACHO  \n",
       "14745      DI DESEMBARAÇADA  \n",
       "3602       DI DESEMBARAÇADA  \n",
       "2342       DI DESEMBARAÇADA  \n",
       "8776       DI DESEMBARAÇADA  \n",
       "17718      DI DESEMBARAÇADA  \n",
       "\n",
       "[5 rows x 25 columns]"
      ]
     },
     "execution_count": 5,
     "metadata": {},
     "output_type": "execute_result"
    }
   ],
   "source": [
    "# Mostra linhas de exemplo do dataframe\n",
    "df.sample(5)"
   ]
  },
  {
   "cell_type": "code",
   "execution_count": 6,
   "metadata": {},
   "outputs": [],
   "source": [
    "# Remove espaços em excesso das colunas do tipo string\n",
    "colstr = ['DESCRICAO DO CODIGO NCM',\n",
    "          'PAIS DE ORIGEM',\n",
    "          'PAIS DE AQUISICAO',\n",
    "          'UNIDADE DE MEDIDA',\n",
    "          'UNIDADE COMERC.',\n",
    "          'DESCRICAO DO PRODUTO',\n",
    "          'UNIDADE DESEMBARQUE',\n",
    "          'UNIDADE DESEMBARACO',\n",
    "          'INCOTERM',\n",
    "          'NAT.INFORMACAO',\n",
    "          'SITUACAO DO DESPACHO']\n",
    "for coluna in colstr:\n",
    "    df[coluna]=df[coluna].str.strip()"
   ]
  },
  {
   "cell_type": "code",
   "execution_count": 7,
   "metadata": {},
   "outputs": [
    {
     "name": "stdout",
     "output_type": "stream",
     "text": [
      "DESCRICAO DO CODIGO NCM\n",
      "PAIS DE ORIGEM\n",
      "PAIS DE AQUISICAO\n",
      "UNIDADE DE MEDIDA\n",
      "UNIDADE COMERC.\n",
      "DESCRICAO DO PRODUTO\n",
      "UNIDADE DESEMBARQUE\n",
      "UNIDADE DESEMBARACO\n",
      "INCOTERM\n",
      "NAT.INFORMACAO\n",
      "SITUACAO DO DESPACHO\n"
     ]
    }
   ],
   "source": [
    "for col in df.columns:\n",
    "    if type(df[col][1])==str:\n",
    "        print(col)\n",
    "        df[col]=df[col].str.strip()"
   ]
  },
  {
   "cell_type": "code",
   "execution_count": 8,
   "metadata": {},
   "outputs": [
    {
     "data": {
      "text/plain": [
       "'80348 KIT DE TRANSMISSÃO, COMPOSTO DE CORRENTE, COROA E PINHÃO PARA MOTOCICLETA CBX 250 TWISTER, MARCA ALLEN.'"
      ]
     },
     "execution_count": 8,
     "metadata": {},
     "output_type": "execute_result"
    }
   ],
   "source": [
    "df['DESCRICAO DO PRODUTO'][5]"
   ]
  },
  {
   "cell_type": "code",
   "execution_count": 9,
   "metadata": {
    "scrolled": true
   },
   "outputs": [
    {
     "data": {
      "text/plain": [
       "str"
      ]
     },
     "execution_count": 9,
     "metadata": {},
     "output_type": "execute_result"
    }
   ],
   "source": [
    "type(df['DESCRICAO DO PRODUTO'][1])"
   ]
  },
  {
   "cell_type": "markdown",
   "metadata": {},
   "source": [
    "### Importa as stopwords da língua portuguesa"
   ]
  },
  {
   "cell_type": "code",
   "execution_count": 10,
   "metadata": {},
   "outputs": [],
   "source": [
    "# Importar lista de Stopwords\n",
    "stopwords = set(stopwords.words('portuguese'))"
   ]
  },
  {
   "cell_type": "code",
   "execution_count": 11,
   "metadata": {},
   "outputs": [
    {
     "data": {
      "text/plain": [
       "204"
      ]
     },
     "execution_count": 11,
     "metadata": {},
     "output_type": "execute_result"
    }
   ],
   "source": [
    "# Mostra tamanho da lista de stopwords\n",
    "len(stopwords)"
   ]
  },
  {
   "cell_type": "code",
   "execution_count": 12,
   "metadata": {},
   "outputs": [
    {
     "name": "stdout",
     "output_type": "stream",
     "text": [
      "['a', 'ao', 'aos', 'aquela', 'aquelas', 'aquele', 'aqueles', 'aquilo', 'as', 'até', 'com', 'como', 'da', 'das', 'de', 'dela', 'delas', 'dele', 'deles', 'depois', 'do', 'dos', 'e', 'ela', 'elas', 'ele', 'eles', 'em', 'entre', 'era', 'eram', 'essa', 'essas', 'esse', 'esses', 'esta', 'estamos', 'estas', 'estava', 'estavam', 'este', 'esteja', 'estejam', 'estejamos', 'estes', 'esteve', 'estive', 'estivemos', 'estiver', 'estivera', 'estiveram', 'estiverem', 'estivermos', 'estivesse', 'estivessem', 'estivéramos', 'estivéssemos', 'estou', 'está', 'estávamos', 'estão', 'eu', 'foi', 'fomos', 'for', 'fora', 'foram', 'forem', 'formos', 'fosse', 'fossem', 'fui', 'fôramos', 'fôssemos', 'haja', 'hajam', 'hajamos', 'havemos', 'hei', 'houve', 'houvemos', 'houver', 'houvera', 'houveram', 'houverei', 'houverem', 'houveremos', 'houveria', 'houveriam', 'houvermos', 'houverá', 'houverão', 'houveríamos', 'houvesse', 'houvessem', 'houvéramos', 'houvéssemos', 'há', 'hão', 'isso', 'isto', 'já', 'lhe', 'lhes', 'mais', 'mas', 'me', 'mesmo', 'meu', 'meus', 'minha', 'minhas', 'muito', 'na', 'nas', 'nem', 'no', 'nos', 'nossa', 'nossas', 'nosso', 'nossos', 'num', 'numa', 'não', 'nós', 'o', 'os', 'ou', 'para', 'pela', 'pelas', 'pelo', 'pelos', 'por', 'qual', 'quando', 'que', 'quem', 'se', 'seja', 'sejam', 'sejamos', 'sem', 'serei', 'seremos', 'seria', 'seriam', 'será', 'serão', 'seríamos', 'seu', 'seus', 'somos', 'sou', 'sua', 'suas', 'são', 'só', 'também', 'te', 'tem', 'temos', 'tenha', 'tenham', 'tenhamos', 'tenho', 'terei', 'teremos', 'teria', 'teriam', 'terá', 'terão', 'teríamos', 'teu', 'teus', 'teve', 'tinha', 'tinham', 'tive', 'tivemos', 'tiver', 'tivera', 'tiveram', 'tiverem', 'tivermos', 'tivesse', 'tivessem', 'tivéramos', 'tivéssemos', 'tu', 'tua', 'tuas', 'tém', 'tínhamos', 'um', 'uma', 'você', 'vocês', 'vos', 'à', 'às', 'é', 'éramos']\n"
     ]
    }
   ],
   "source": [
    "# Mostra toda a lista de stopwords\n",
    "swtemp = list(stopwords)\n",
    "swtemp.sort()\n",
    "print(swtemp)"
   ]
  },
  {
   "cell_type": "markdown",
   "metadata": {},
   "source": [
    "### Atualiza a lista de stopwords"
   ]
  },
  {
   "cell_type": "code",
   "execution_count": 13,
   "metadata": {},
   "outputs": [
    {
     "name": "stdout",
     "output_type": "stream",
     "text": [
      "['abaixo', 'acessorios', 'acessórios', 'aco', 'acondicionados', 'adaptavel', 'adaptável', 'almas', 'am', 'anel', 'ano', 'aplicacao', 'aplication', 'aplicavel', 'aplicação', 'aplicável', 'application', 'ate', 'atitanium', 'aç', 'aço', 'bravo', 'cada', 'caixa', 'caixas', 'cambio', 'certificado', 'cever', 'chain', 'chh', 'china', 'ciclomotores', 'cod', 'code', 'codigo', 'comando', 'combustão', 'comercial', 'comercialmente', 'commodity', 'compativel', 'compatível', 'compl', 'completo', 'completos', 'composto', 'composto', 'compostopor', 'compostpo', 'comum', 'condicao', 'condicoes', 'condição', 'condições', 'confeccionado', 'conhecido', 'conj', 'conjunto', 'conjuntos', 'constituido', 'constitutivo', 'constituído', 'contendo', 'coposto', 'coroa', 'corr', 'corrent', 'corrente', 'correntee', 'correntes', 'cx', 'câmbio', 'cãmbio', 'código', 'decreto', 'denominada', 'dente', 'dentes', 'descricao', 'descricão', 'descriçao', 'descrição', 'destaque', 'destaque', 'destaques', 'detransmissão', 'dimensao', 'dimensoes', 'dimensão', 'dimensões', 'diverso', 'diversos', 'dominado', 'durabilidade', 'elo', 'elos', 'embalagem', 'engrenagem', 'engrenagens', 'epinhao', 'epinhão', 'espessura', 'exclusivo', 'fabri', 'fabricada', 'fabricado', 'final', 'foiproduzida', 'funcao', 'funcao', 'funcão', 'funcão', 'funçao', 'função', 'gtin', 'hardt', 'ho', 'hp', 'imetro', 'in', 'incluso', 'indicado', 'ingles', 'inmetro', 'inv', 'invoice', 'iron', 'item', 'jc', 'kif', 'kit', 'kitr', 'kittr', 'kmc', 'ligacoes', 'ligaçoes', 'ligaçoes', 'ligações', 'marca', 'mark', 'match', 'material', 'maxx', 'medida', 'medidas', 'medindo', 'metal', 'mod', 'modelo', 'modelos', 'moto', 'motocicleta', 'motocicletas', 'motoneta', 'motonetas', 'motoparts', 'motor', 'motos', 'motos', 'movimento', 'nbsp', 'ncm', 'nome', 'normais', 'nova', 'novo', 'numero', 'número', 'onde', 'or', 'origem', 'oring', 'ox', 'papelao', 'papelão', 'part', 'partes', 'parts', 'pc', 'pcs', 'pec', 'pecas', 'perfil', 'peç', 'peças', 'pinhao', 'pinhão', 'posição', 'premium', 'procedencia', 'procedência', 'prodepe', 'produto', 'próprio', 'pç', 'qdes', 'qtd', 'qtds', 'qty', 'quantidade', 'ref', 'reforcada', 'reforçada', 'registro', 'rel', 'relacao', 'relação', 'reposicao', 'resp', 'respo', 'respons', 'responsa', 'responsav', 'responsave', 'responsavel', 'responsável', 'ret', 'retentor', 'riffel', 'ring', 'roda', 'sae', 'scud', 'semi', 'semi-', 'semi-kit', 'sendo', 'serve', 'shipping', 'sistema', 'sm', 'standard', 'standart', 'standartt', 'std', 'stdmodelo', 'steel', 'tambem', 'também', 'tec', 'temp', 'temperado', 'tipo', 'tipos', 'titanio', 'titaniu', 'titanium', 'titaniun', 'tr', 'tracao', 'tracão', 'trans', 'transmis', 'transmisao', 'transmiss', 'transmissa', 'transmissao', 'transmission', 'transmissão', 'transmitir', 'traseira', 'traçao', 'tração', 'und', 'unds', 'unid', 'unidade', 'unidade', 'unidades', 'unifort', 'uo', 'uso', 'utilizada', 'utilizadas', 'utilizado', 'utilizados', 'utilização', 'vem', 'venda', 'with', 'xy', 'year']\n"
     ]
    }
   ],
   "source": [
    "# Palavras a adicionar na lista de stopwords estão contidas em um arquivo csv externo\n",
    "dfsw = pd.read_csv('./bases/stopwords.csv', encoding='ISO-8859-1')\n",
    "stopwords_df=sorted(list(dfsw['stopword']))\n",
    "swtemp = list(stopwords_df)\n",
    "swtemp.sort()\n",
    "print(swtemp)"
   ]
  },
  {
   "cell_type": "code",
   "execution_count": 14,
   "metadata": {},
   "outputs": [],
   "source": [
    "# Atualizar stopwords\n",
    "stopwords.update(stopwords_df)"
   ]
  },
  {
   "cell_type": "code",
   "execution_count": 15,
   "metadata": {},
   "outputs": [
    {
     "name": "stdout",
     "output_type": "stream",
     "text": [
      "['a', 'abaixo', 'acessorios', 'acessórios', 'aco', 'acondicionados', 'adaptavel', 'adaptável', 'almas', 'am', 'anel', 'ano', 'ao', 'aos', 'aplicacao', 'aplication', 'aplicavel', 'aplicação', 'aplicável', 'application', 'aquela', 'aquelas', 'aquele', 'aqueles', 'aquilo', 'as', 'ate', 'atitanium', 'até', 'aç', 'aço', 'bravo', 'cada', 'caixa', 'caixas', 'cambio', 'certificado', 'cever', 'chain', 'chh', 'china', 'ciclomotores', 'cod', 'code', 'codigo', 'com', 'comando', 'combustão', 'comercial', 'comercialmente', 'commodity', 'como', 'compativel', 'compatível', 'compl', 'completo', 'completos', 'composto', 'compostopor', 'compostpo', 'comum', 'condicao', 'condicoes', 'condição', 'condições', 'confeccionado', 'conhecido', 'conj', 'conjunto', 'conjuntos', 'constituido', 'constitutivo', 'constituído', 'contendo', 'coposto', 'coroa', 'corr', 'corrent', 'corrente', 'correntee', 'correntes', 'cx', 'câmbio', 'cãmbio', 'código', 'da', 'das', 'de', 'decreto', 'dela', 'delas', 'dele', 'deles', 'denominada', 'dente', 'dentes', 'depois', 'descricao', 'descricão', 'descriçao', 'descrição', 'destaque', 'destaques', 'detransmissão', 'dimensao', 'dimensoes', 'dimensão', 'dimensões', 'diverso', 'diversos', 'do', 'dominado', 'dos', 'durabilidade', 'e', 'ela', 'elas', 'ele', 'eles', 'elo', 'elos', 'em', 'embalagem', 'engrenagem', 'engrenagens', 'entre', 'epinhao', 'epinhão', 'era', 'eram', 'espessura', 'essa', 'essas', 'esse', 'esses', 'esta', 'estamos', 'estas', 'estava', 'estavam', 'este', 'esteja', 'estejam', 'estejamos', 'estes', 'esteve', 'estive', 'estivemos', 'estiver', 'estivera', 'estiveram', 'estiverem', 'estivermos', 'estivesse', 'estivessem', 'estivéramos', 'estivéssemos', 'estou', 'está', 'estávamos', 'estão', 'eu', 'exclusivo', 'fabri', 'fabricada', 'fabricado', 'final', 'foi', 'foiproduzida', 'fomos', 'for', 'fora', 'foram', 'forem', 'formos', 'fosse', 'fossem', 'fui', 'funcao', 'funcão', 'funçao', 'função', 'fôramos', 'fôssemos', 'gtin', 'haja', 'hajam', 'hajamos', 'hardt', 'havemos', 'hei', 'ho', 'houve', 'houvemos', 'houver', 'houvera', 'houveram', 'houverei', 'houverem', 'houveremos', 'houveria', 'houveriam', 'houvermos', 'houverá', 'houverão', 'houveríamos', 'houvesse', 'houvessem', 'houvéramos', 'houvéssemos', 'hp', 'há', 'hão', 'imetro', 'in', 'incluso', 'indicado', 'ingles', 'inmetro', 'inv', 'invoice', 'iron', 'isso', 'isto', 'item', 'jc', 'já', 'kif', 'kit', 'kitr', 'kittr', 'kmc', 'lhe', 'lhes', 'ligacoes', 'ligaçoes', 'ligações', 'mais', 'marca', 'mark', 'mas', 'match', 'material', 'maxx', 'me', 'medida', 'medidas', 'medindo', 'mesmo', 'metal', 'meu', 'meus', 'minha', 'minhas', 'mod', 'modelo', 'modelos', 'moto', 'motocicleta', 'motocicletas', 'motoneta', 'motonetas', 'motoparts', 'motor', 'motos', 'movimento', 'muito', 'na', 'nas', 'nbsp', 'ncm', 'nem', 'no', 'nome', 'normais', 'nos', 'nossa', 'nossas', 'nosso', 'nossos', 'nova', 'novo', 'num', 'numa', 'numero', 'não', 'nós', 'número', 'o', 'onde', 'or', 'origem', 'oring', 'os', 'ou', 'ox', 'papelao', 'papelão', 'para', 'part', 'partes', 'parts', 'pc', 'pcs', 'pec', 'pecas', 'pela', 'pelas', 'pelo', 'pelos', 'perfil', 'peç', 'peças', 'pinhao', 'pinhão', 'por', 'posição', 'premium', 'procedencia', 'procedência', 'prodepe', 'produto', 'próprio', 'pç', 'qdes', 'qtd', 'qtds', 'qty', 'qual', 'quando', 'quantidade', 'que', 'quem', 'ref', 'reforcada', 'reforçada', 'registro', 'rel', 'relacao', 'relação', 'reposicao', 'resp', 'respo', 'respons', 'responsa', 'responsav', 'responsave', 'responsavel', 'responsável', 'ret', 'retentor', 'riffel', 'ring', 'roda', 'sae', 'scud', 'se', 'seja', 'sejam', 'sejamos', 'sem', 'semi', 'semi-', 'semi-kit', 'sendo', 'serei', 'seremos', 'seria', 'seriam', 'serve', 'será', 'serão', 'seríamos', 'seu', 'seus', 'shipping', 'sistema', 'sm', 'somos', 'sou', 'standard', 'standart', 'standartt', 'std', 'stdmodelo', 'steel', 'sua', 'suas', 'são', 'só', 'tambem', 'também', 'te', 'tec', 'tem', 'temos', 'temp', 'temperado', 'tenha', 'tenham', 'tenhamos', 'tenho', 'terei', 'teremos', 'teria', 'teriam', 'terá', 'terão', 'teríamos', 'teu', 'teus', 'teve', 'tinha', 'tinham', 'tipo', 'tipos', 'titanio', 'titaniu', 'titanium', 'titaniun', 'tive', 'tivemos', 'tiver', 'tivera', 'tiveram', 'tiverem', 'tivermos', 'tivesse', 'tivessem', 'tivéramos', 'tivéssemos', 'tr', 'tracao', 'tracão', 'trans', 'transmis', 'transmisao', 'transmiss', 'transmissa', 'transmissao', 'transmission', 'transmissão', 'transmitir', 'traseira', 'traçao', 'tração', 'tu', 'tua', 'tuas', 'tém', 'tínhamos', 'um', 'uma', 'und', 'unds', 'unid', 'unidade', 'unidades', 'unifort', 'uo', 'uso', 'utilizada', 'utilizadas', 'utilizado', 'utilizados', 'utilização', 'vem', 'venda', 'você', 'vocês', 'vos', 'with', 'xy', 'year', 'à', 'às', 'é', 'éramos']\n"
     ]
    }
   ],
   "source": [
    "# Mostra toda a lista de stopwords\n",
    "swtemp = list(stopwords)\n",
    "swtemp.sort()\n",
    "print(swtemp)"
   ]
  },
  {
   "cell_type": "code",
   "execution_count": 16,
   "metadata": {
    "scrolled": true
   },
   "outputs": [
    {
     "data": {
      "text/plain": [
       "478"
      ]
     },
     "execution_count": 16,
     "metadata": {},
     "output_type": "execute_result"
    }
   ],
   "source": [
    "len(stopwords)"
   ]
  },
  {
   "cell_type": "markdown",
   "metadata": {},
   "source": [
    "### Carrega lista de aplicações"
   ]
  },
  {
   "cell_type": "code",
   "execution_count": 17,
   "metadata": {
    "code_folding": []
   },
   "outputs": [],
   "source": [
    "# carrega a lista de marcas de motos do arquivo\n",
    "dftemp=pd.read_csv('./bases/Aplicacoes.csv')"
   ]
  },
  {
   "cell_type": "code",
   "execution_count": 18,
   "metadata": {},
   "outputs": [
    {
     "data": {
      "text/html": [
       "<div>\n",
       "<style scoped>\n",
       "    .dataframe tbody tr th:only-of-type {\n",
       "        vertical-align: middle;\n",
       "    }\n",
       "\n",
       "    .dataframe tbody tr th {\n",
       "        vertical-align: top;\n",
       "    }\n",
       "\n",
       "    .dataframe thead th {\n",
       "        text-align: right;\n",
       "    }\n",
       "</style>\n",
       "<table border=\"1\" class=\"dataframe\">\n",
       "  <thead>\n",
       "    <tr style=\"text-align: right;\">\n",
       "      <th></th>\n",
       "      <th>APLICACOES</th>\n",
       "    </tr>\n",
       "  </thead>\n",
       "  <tbody>\n",
       "    <tr>\n",
       "      <th>0</th>\n",
       "      <td>ACELLERA ACX 250F 250</td>\n",
       "    </tr>\n",
       "    <tr>\n",
       "      <th>1</th>\n",
       "      <td>ACELLERA FRONTLANDER 500</td>\n",
       "    </tr>\n",
       "    <tr>\n",
       "      <th>2</th>\n",
       "      <td>ACELLERA FRONTLANDER 800 EFI</td>\n",
       "    </tr>\n",
       "    <tr>\n",
       "      <th>3</th>\n",
       "      <td>ACELLERA HOTZOO SPORT 90</td>\n",
       "    </tr>\n",
       "    <tr>\n",
       "      <th>4</th>\n",
       "      <td>ACELLERA QUADRILANDER 300</td>\n",
       "    </tr>\n",
       "  </tbody>\n",
       "</table>\n",
       "</div>"
      ],
      "text/plain": [
       "                     APLICACOES\n",
       "0         ACELLERA ACX 250F 250\n",
       "1      ACELLERA FRONTLANDER 500\n",
       "2  ACELLERA FRONTLANDER 800 EFI\n",
       "3      ACELLERA HOTZOO SPORT 90\n",
       "4     ACELLERA QUADRILANDER 300"
      ]
     },
     "execution_count": 18,
     "metadata": {},
     "output_type": "execute_result"
    }
   ],
   "source": [
    "dftemp.head()"
   ]
  },
  {
   "cell_type": "markdown",
   "metadata": {},
   "source": [
    "#### Cria a lista de Palavras Chave das Aplicações"
   ]
  },
  {
   "cell_type": "code",
   "execution_count": 19,
   "metadata": {},
   "outputs": [],
   "source": [
    "# remove caracteres especiais ou soltos e termos duplicados, salvando na lista\n",
    "palavrasChave=sorted(set(re.sub(r\"\\b \\w \\b\",\n",
    "                                ' ', \n",
    "                                re.sub(r\"[/<>()|\\+\\$%&#@\\'\\\"]+\", \n",
    "                                       \" \",\n",
    "                                       \" \".join(dftemp['APLICACOES'].tolist()))).split()))"
   ]
  },
  {
   "cell_type": "code",
   "execution_count": 20,
   "metadata": {},
   "outputs": [
    {
     "data": {
      "text/plain": [
       "903"
      ]
     },
     "execution_count": 20,
     "metadata": {},
     "output_type": "execute_result"
    }
   ],
   "source": [
    "len(palavrasChave)"
   ]
  },
  {
   "cell_type": "code",
   "execution_count": 21,
   "metadata": {},
   "outputs": [
    {
     "name": "stdout",
     "output_type": "stream",
     "text": [
      "['100', '1000', '1000F', '1000R', '1000V', '1098', '110', '1100', '1100XX', '110S', '1125', '115', '1190', '1198', '1200', '1200Z', '125', '125R', '130', '1300']  ...  ['YFS', 'YS150', 'YS250', 'YZ', 'YZF', 'YZR', 'Z1000', 'Z750', 'Z800', 'ZACH', 'ZANELLA', 'ZENITH', 'ZIG', 'ZING', 'ZIP', 'ZONGSHEN', 'ZR', 'ZRX', 'ZS', 'ZZR']\n"
     ]
    }
   ],
   "source": [
    "# amostra de palavrasChave\n",
    "print(palavrasChave[:20],' ... ', palavrasChave[-20:])"
   ]
  },
  {
   "cell_type": "markdown",
   "metadata": {},
   "source": [
    "### Limpeza e criação da coluna DESCRICAO"
   ]
  },
  {
   "cell_type": "markdown",
   "metadata": {},
   "source": [
    "#### Função de limpeza de dados irrelevantes para a classificação e remoção de stopwords"
   ]
  },
  {
   "cell_type": "code",
   "execution_count": 22,
   "metadata": {},
   "outputs": [],
   "source": [
    "def limpaDescricao(descricao): # \n",
    "    descricao=descricao.lower() #transformar em minúsculas\n",
    "    descricao=re.sub(r\"\\( *\\d*[/\\*\\-\\d]\\d* *\\)\", ' ', descricao) # remove códigos numéricos entre parênteses com -*/\n",
    "    # remove a ocorrência de \"código e etc.\" e o termo seguinte começado com número\n",
    "    # att: (alguns tem hífen ou asterisco) (colocar antes de remover pontuação)\n",
    "    descricao=re.sub(r\"\\b(invoice|código|codigo|cod|cód|(certificado|cert)( no|nr|)|ref)[0-9a-z/\\-\\*\\.\\:]* *\\d[^ ]+\", ' ', descricao)\n",
    "    # remove identificação de referência de engrenagens dos kits (antes da pontuação)\n",
    "    descricao=re.sub(r\"\\d{1,}(ho|uo|h|l|z|t|ktd|m|d| dentes) *([^\\s]+)|\\w*(ho|h|l|z|t|ktd|m|d| dentes)\\d{1,}([^\\s]+)\", ' ', descricao) # 00h\n",
    "    # remove códigos no início da descrição\n",
    "    descricao=re.sub(r\"^\\b\\d{2,}[^ ]*\\b\", ' ', descricao)    \n",
    "    descricao=re.sub(r\"- | -|[\\\\\\+,.:;!?/]+\", ' ', descricao) #remover pontuação (att: \"- \" ou \" -\")\n",
    "    descricao=re.sub(r\"[/<>()|\\+\\\\$%&#@\\'\\\"]+\", ' ', descricao) #remover carcteres especiais\n",
    "    # substituição de termos comuns\n",
    "    termos=[('pop100', 'pop 100'),('c 100', 'c100'),('titan150','titan 150'),('tit','titan')]\n",
    "    for termo in termos:\n",
    "        descricao=re.sub(r\"\\b\" + str(termo[0]) + r\"\\b\", termo[1], descricao)\n",
    "    # remove a ocorrência de medidas tipo 00x000x00 ou 000x0000\n",
    "    descricao=re.sub(r\"\\b\\d{1,}(x|\\*)\\d{1,}(x|\\*)\\d{1,}|\\d{1,}(x|\\*)\\d{1,}\\b\", ' ', descricao)\n",
    "    # remove identificação de quantidades, unidades, peças e conjuntos\n",
    "    descricao=re.sub(r\"\\b(\\d* *(conj|und|uni|pc|pç|pec|peç)( \\w|\\w)+?)\\b\", ' ', descricao)\n",
    "    # remove identificação de mais de 4 dígitos com ou sem letras no início e no final\n",
    "    descricao=re.sub(r\"\\w+\\d{4,}\\w+\", ' ', descricao)\n",
    "    # remove números de 4 dígitos ou mais começados de 2 a 9\n",
    "    descricao=re.sub(r\"\\b[02-9]\\d{3,}\\b\", ' ', descricao)\n",
    "    # remove identificação de termos começados por zero\n",
    "    descricao=re.sub(r\"\\b0\\d*\\w+?(?=\\b)\", ' ', descricao)\n",
    "    # remove a ocorrência de \"marca \" e o termo na lista até o próximo espaço\n",
    "    for marca in ['kmc gold','king']: descricao=re.sub(r\"\\bmarca *\"+str(marca)+r\"[^ ]*\", ' ', descricao) # colocar antes das stopwords\n",
    "    # remove stopwords mantendo a ordem original da descrição\n",
    "    descricao=list(dict.fromkeys(descricao.split())) # cria lista com termos únicos\n",
    "    descricao=\" \".join([x for x in descricao if x not in set(stopwords)]) # exclui stopwords\n",
    "    # limpa os número que não estão na lista de aplicações (colocar depois das stopwords)\n",
    "    desc=descricao.upper().split() # quebra a descrição\n",
    "    dif=list(set(descricao.upper().split()).difference(palavrasChave)) # pega os termos diferentes de palavrasChave\n",
    "    [desc.remove(x) for x in desc if (x in dif and x.isnumeric())] # exclui de desc os termos numéricos diferentes\n",
    "    descricao=\" \".join(desc).lower() # volta para texto\n",
    "    #remover hífen, letras ou números soltos (deixar duplicado mesmo)\n",
    "    descricao=re.sub(r\"(^-| -|- |\\b\\w\\b)\", ' ', descricao)\n",
    "    descricao=re.sub(r\"(^-| -|- |\\b\\w\\b)\", ' ', descricao)\n",
    "    #substitui remove o i das cilindradas: ex.: 125i por 125\n",
    "    termos=re.findall(r\"\\d*i\\b\",descricao)\n",
    "    if termos:\n",
    "        for termo in termos:descricao=descricao.replace(termo,termo[:-1])\n",
    "    # remove espaços em excesso (colocar no final)\n",
    "    descricao=re.sub(r\" {2,}\", ' ', descricao)\n",
    "    descricao=descricao.strip()\n",
    "    # retorna a descricao como saída da função\n",
    "    return descricao # retorna a descrição"
   ]
  },
  {
   "cell_type": "markdown",
   "metadata": {},
   "source": [
    "#### Execução da função para criação da coluna DESCRICAO limpa"
   ]
  },
  {
   "cell_type": "code",
   "execution_count": 23,
   "metadata": {},
   "outputs": [],
   "source": [
    "linha=14564"
   ]
  },
  {
   "cell_type": "code",
   "execution_count": 24,
   "metadata": {},
   "outputs": [
    {
     "data": {
      "text/plain": [
       "'24771 - 358053 - KIT DE TRANSMISSÃO PARA MOTOCICLETA MODELO FAZER 250 (06-17) - CONTENDO: COROA 45Z - PINHAO 15Z - C/CORRENTE 428H X 132L - MARCA: EVOL'"
      ]
     },
     "execution_count": 24,
     "metadata": {},
     "output_type": "execute_result"
    }
   ],
   "source": [
    "df.iloc[linha]['DESCRICAO DO PRODUTO']"
   ]
  },
  {
   "cell_type": "code",
   "execution_count": 25,
   "metadata": {},
   "outputs": [
    {
     "name": "stdout",
     "output_type": "stream",
     "text": [
      "Tempo de execução: 5.7 segundos.\n"
     ]
    }
   ],
   "source": [
    "ini=time.time()\n",
    "df['DESCRICAO']=df['DESCRICAO DO PRODUTO'].apply(limpaDescricao)\n",
    "fim=time.time()\n",
    "print(f'Tempo de execução: {fim-ini:.2} segundos.')"
   ]
  },
  {
   "cell_type": "code",
   "execution_count": 26,
   "metadata": {},
   "outputs": [
    {
     "data": {
      "text/plain": [
       "'fazer 250 evol'"
      ]
     },
     "execution_count": 26,
     "metadata": {},
     "output_type": "execute_result"
    }
   ],
   "source": [
    "df.iloc[linha]['DESCRICAO']"
   ]
  },
  {
   "cell_type": "code",
   "execution_count": 27,
   "metadata": {},
   "outputs": [
    {
     "data": {
      "text/plain": [
       "5387                     c125biz\n",
       "5359                     bros150\n",
       "12539      kcj045 sothis ybr 125\n",
       "17991               pop110 allen\n",
       "6088     nxr 160 bros xre 428 nr\n",
       "Name: DESCRICAO, dtype: object"
      ]
     },
     "execution_count": 27,
     "metadata": {},
     "output_type": "execute_result"
    }
   ],
   "source": [
    "df['DESCRICAO'].sample(5)"
   ]
  },
  {
   "cell_type": "markdown",
   "metadata": {},
   "source": [
    "### Criação de colunas Modelo"
   ]
  },
  {
   "cell_type": "markdown",
   "metadata": {},
   "source": [
    "#### Função de determinação de palavras chave na coluna Modelo"
   ]
  },
  {
   "cell_type": "code",
   "execution_count": 28,
   "metadata": {},
   "outputs": [],
   "source": [
    "def achaPalavraChave(descricao):\n",
    "    palavras=[]\n",
    "    descricao=descricao.upper()\n",
    "    desc=descricao.split()\n",
    "    for palavra in palavrasChave:\n",
    "        if palavra in desc:\n",
    "            palavras.append(palavra)\n",
    "        else:\n",
    "            if len(palavra)>=3 and not palavra.isnumeric():\n",
    "                if palavra in [\"CROSS\",\"STAR\",\"NIX\"]: # termos que só interessam no início\n",
    "                    pat=r\"\\b\"+str(palavra)+r\"\\d*\\b\" # termo iniciando pela palavra seguido de dígitos\n",
    "                else:\n",
    "                    pat=r\"\"+str(palavra)+r\"\\w*(?=\\b|\\d*\\b)\" # termo iniciando ou terminando pela palavra seguido de números\n",
    "            else:\n",
    "                pat=r\"\\b\"+str(palavra)+r\"\\b\" # termo completo\n",
    "            a = re.search(pat,descricao)\n",
    "            if a:\n",
    "                palavras.append(palavra)\n",
    "                paltemp=a.group(0)[len(palavra):] # parte que sobra de palavra\n",
    "                if paltemp in palavrasChave: # se a parte também estiver em palavrasChave\n",
    "                    palavras.append(paltemp) # adiciona parte também\n",
    "    palavras=list(set(palavras)) # remove duplicados\n",
    "    palavras=\" \".join(palavras) # converte para string\n",
    "    return palavras"
   ]
  },
  {
   "cell_type": "code",
   "execution_count": 29,
   "metadata": {},
   "outputs": [
    {
     "data": {
      "text/plain": [
       "'EVO FAZER 250'"
      ]
     },
     "execution_count": 29,
     "metadata": {},
     "output_type": "execute_result"
    }
   ],
   "source": [
    "achaPalavraChave(df.iloc[linha]['DESCRICAO'])"
   ]
  },
  {
   "cell_type": "markdown",
   "metadata": {},
   "source": [
    "#### Função para acrescentar a marca da motocicleta"
   ]
  },
  {
   "cell_type": "code",
   "execution_count": 30,
   "metadata": {},
   "outputs": [],
   "source": [
    "# termos que iniciam item da descrição correspondem a marca\n",
    "Marcas = {'HONDA': ['CG','CB','CRF','BIZ','BROS','XL','FAN','XR','XRE'\n",
    "                    'TITAN','TODAY','TWIN','POP','NX','NXR'],\n",
    "          'YAMAHA': ['DT','FZ','FJ','RD','MT','XF','XJ','XS','XT','XZ','YF','LANDER',\n",
    "                     'YBR','YZ','VIRAGO','FACTOR','EC','CRYPTON','FAZER'],\n",
    "          'SUZUKI': ['KATANA','YES','INTRUDER'],\n",
    "          'ZONGSHEN': ['ZS'],\n",
    "          'KASINSKI': ['COMET'],\n",
    "          'POLARIS': ['SPORTSMAN','RZR','RANGER'],\n",
    "          'KAWASAKI': ['NINJA','VERSYS','VOYAGER','GTR','KDX','KL','KX','KZ','ZR','ZZ','ER6N','ER6F'],\n",
    "          'DAYANG': ['DY1','DY2','DY5']}"
   ]
  },
  {
   "cell_type": "code",
   "execution_count": 31,
   "metadata": {},
   "outputs": [],
   "source": [
    "# Função para pegar a chave pelo valor, dado que valor é único.\n",
    "def pegaChave(v, dict):\n",
    "    for chave, valores in dict.items():\n",
    "        if type(valores)!=type([1,2]):\n",
    "            valores=[valores]\n",
    "        for valor in valores:\n",
    "            if v == valor:\n",
    "                return chave\n",
    "    return \"Não existe chave para esse valor.\""
   ]
  },
  {
   "cell_type": "code",
   "execution_count": 32,
   "metadata": {},
   "outputs": [],
   "source": [
    "def acrescentaMarca(descricao):\n",
    "    desclst=descricao.upper().split()\n",
    "    for termo in desclst:\n",
    "        if termo in Marcas:\n",
    "            return descricao\n",
    "    for marca in Marcas:\n",
    "        for termo in Marcas[marca]:\n",
    "            pat=r\"\\b\"+ termo +\"\\b*\"\n",
    "            if re.search(pat,descricao.upper()):\n",
    "                return pegaChave(termo,Marcas).upper() + \" \" + descricao.upper()\n",
    "    return descricao"
   ]
  },
  {
   "cell_type": "code",
   "execution_count": 33,
   "metadata": {},
   "outputs": [
    {
     "name": "stdout",
     "output_type": "stream",
     "text": [
      "HONDA BIZ C100\n"
     ]
    }
   ],
   "source": [
    "print(acrescentaMarca('BIZ C100'))"
   ]
  },
  {
   "cell_type": "markdown",
   "metadata": {},
   "source": [
    "### Aplica as funções\n",
    "Tenha paciência, demora cerca de 1 minuto para cada mil registros."
   ]
  },
  {
   "cell_type": "code",
   "execution_count": 34,
   "metadata": {},
   "outputs": [
    {
     "data": {
      "text/plain": [
       "'fazer 250 evol'"
      ]
     },
     "execution_count": 34,
     "metadata": {},
     "output_type": "execute_result"
    }
   ],
   "source": [
    "# cria as colunas\n",
    "df=df.assign(Modelo=df['DESCRICAO'])\n",
    "df.iloc[linha]['DESCRICAO'] "
   ]
  },
  {
   "cell_type": "code",
   "execution_count": 35,
   "metadata": {},
   "outputs": [
    {
     "data": {
      "text/html": [
       "<div>\n",
       "<style scoped>\n",
       "    .dataframe tbody tr th:only-of-type {\n",
       "        vertical-align: middle;\n",
       "    }\n",
       "\n",
       "    .dataframe tbody tr th {\n",
       "        vertical-align: top;\n",
       "    }\n",
       "\n",
       "    .dataframe thead th {\n",
       "        text-align: right;\n",
       "    }\n",
       "</style>\n",
       "<table border=\"1\" class=\"dataframe\">\n",
       "  <thead>\n",
       "    <tr style=\"text-align: right;\">\n",
       "      <th></th>\n",
       "      <th>DESCRICAO</th>\n",
       "      <th>Modelo</th>\n",
       "    </tr>\n",
       "  </thead>\n",
       "  <tbody>\n",
       "    <tr>\n",
       "      <th>12896</th>\n",
       "      <td>xr 250 tornado</td>\n",
       "      <td>xr 250 tornado</td>\n",
       "    </tr>\n",
       "    <tr>\n",
       "      <th>9545</th>\n",
       "      <td>ys 250 fazer 136</td>\n",
       "      <td>ys 250 fazer 136</td>\n",
       "    </tr>\n",
       "    <tr>\n",
       "      <th>7948</th>\n",
       "      <td>factor 150</td>\n",
       "      <td>factor 150</td>\n",
       "    </tr>\n",
       "    <tr>\n",
       "      <th>18864</th>\n",
       "      <td>top ys 250 fazer fz</td>\n",
       "      <td>top ys 250 fazer fz</td>\n",
       "    </tr>\n",
       "    <tr>\n",
       "      <th>4940</th>\n",
       "      <td>pop 110 p21b-</td>\n",
       "      <td>pop 110 p21b-</td>\n",
       "    </tr>\n",
       "  </tbody>\n",
       "</table>\n",
       "</div>"
      ],
      "text/plain": [
       "                 DESCRICAO               Modelo\n",
       "12896       xr 250 tornado       xr 250 tornado\n",
       "9545      ys 250 fazer 136     ys 250 fazer 136\n",
       "7948            factor 150           factor 150\n",
       "18864  top ys 250 fazer fz  top ys 250 fazer fz\n",
       "4940         pop 110 p21b-        pop 110 p21b-"
      ]
     },
     "execution_count": 35,
     "metadata": {},
     "output_type": "execute_result"
    }
   ],
   "source": [
    "df.iloc[:,-2:].sample(5)"
   ]
  },
  {
   "cell_type": "code",
   "execution_count": 36,
   "metadata": {},
   "outputs": [
    {
     "name": "stdout",
     "output_type": "stream",
     "text": [
      "Hora de início:19:13\n",
      "\n",
      "Iniciando achaPalavraChave...\n",
      "\n",
      "Iniciando acrescentaMarca...\n",
      "\n",
      "Hora de término:19:35\n",
      "Tempo decorrido: 21.77 minutos.\n"
     ]
    }
   ],
   "source": [
    "# aplica as funções a cada coluna\n",
    "ini=time.time()\n",
    "now = time.strftime(\"%H:%M\", time.localtime(time.time()))\n",
    "print(\"Hora de início:\" + now)\n",
    "\n",
    "print('\\nIniciando achaPalavraChave...')\n",
    "df['Modelo']=df['Modelo'].apply(achaPalavraChave)\n",
    "\n",
    "print('\\nIniciando acrescentaMarca...')\n",
    "df['Modelo']=df['Modelo'].apply(acrescentaMarca)\n",
    "\n",
    "now = time.strftime(\"%H:%M\", time.localtime(time.time()))\n",
    "fim=time.time()\n",
    "print(\"\\nHora de término:\" + str(now))\n",
    "print(\"Tempo decorrido: \" + str(round((fim-ini)/60,2)) + \" minutos.\")"
   ]
  },
  {
   "cell_type": "code",
   "execution_count": 37,
   "metadata": {
    "scrolled": true
   },
   "outputs": [
    {
     "data": {
      "text/html": [
       "<div>\n",
       "<style scoped>\n",
       "    .dataframe tbody tr th:only-of-type {\n",
       "        vertical-align: middle;\n",
       "    }\n",
       "\n",
       "    .dataframe tbody tr th {\n",
       "        vertical-align: top;\n",
       "    }\n",
       "\n",
       "    .dataframe thead th {\n",
       "        text-align: right;\n",
       "    }\n",
       "</style>\n",
       "<table border=\"1\" class=\"dataframe\">\n",
       "  <thead>\n",
       "    <tr style=\"text-align: right;\">\n",
       "      <th></th>\n",
       "      <th>DESCRICAO DO PRODUTO</th>\n",
       "      <th>DESCRICAO</th>\n",
       "      <th>Modelo</th>\n",
       "    </tr>\n",
       "  </thead>\n",
       "  <tbody>\n",
       "    <tr>\n",
       "      <th>12597</th>\n",
       "      <td>10530042 IN KIT TRANSMISSAO P/MOTOCICLETAS(COR...</td>\n",
       "      <td>crypton 115</td>\n",
       "      <td>YAMAHA 115 CRYPTON</td>\n",
       "    </tr>\n",
       "    <tr>\n",
       "      <th>13446</th>\n",
       "      <td>881586 - KIT DE TRANSMISSAO, COMPOSTO DE CORRE...</td>\n",
       "      <td>bros160 xre190</td>\n",
       "      <td>HONDA BROS 160 XRE</td>\n",
       "    </tr>\n",
       "    <tr>\n",
       "      <th>14563</th>\n",
       "      <td>24770 - 358052 - KIT DE TRANSMISSÃO PARA MOTOC...</td>\n",
       "      <td>falcon 400 400 evol</td>\n",
       "      <td>400 FALCON EVO</td>\n",
       "    </tr>\n",
       "    <tr>\n",
       "      <th>8835</th>\n",
       "      <td>001-P21B-03900F - KIT DE TRANSMISSAO DO MOTOR ...</td>\n",
       "      <td>riva 150 17 p21b-</td>\n",
       "      <td>RIVA 150</td>\n",
       "    </tr>\n",
       "    <tr>\n",
       "      <th>7739</th>\n",
       "      <td>10530008 IN KIT TRANSMISSAO P/MOTOCICLETAS(COR...</td>\n",
       "      <td>nxr 150 bros</td>\n",
       "      <td>HONDA BROS NXR 150</td>\n",
       "    </tr>\n",
       "  </tbody>\n",
       "</table>\n",
       "</div>"
      ],
      "text/plain": [
       "                                    DESCRICAO DO PRODUTO            DESCRICAO  \\\n",
       "12597  10530042 IN KIT TRANSMISSAO P/MOTOCICLETAS(COR...          crypton 115   \n",
       "13446  881586 - KIT DE TRANSMISSAO, COMPOSTO DE CORRE...       bros160 xre190   \n",
       "14563  24770 - 358052 - KIT DE TRANSMISSÃO PARA MOTOC...  falcon 400 400 evol   \n",
       "8835   001-P21B-03900F - KIT DE TRANSMISSAO DO MOTOR ...    riva 150 17 p21b-   \n",
       "7739   10530008 IN KIT TRANSMISSAO P/MOTOCICLETAS(COR...         nxr 150 bros   \n",
       "\n",
       "                   Modelo  \n",
       "12597  YAMAHA 115 CRYPTON  \n",
       "13446  HONDA BROS 160 XRE  \n",
       "14563      400 FALCON EVO  \n",
       "8835             RIVA 150  \n",
       "7739   HONDA BROS NXR 150  "
      ]
     },
     "execution_count": 37,
     "metadata": {},
     "output_type": "execute_result"
    }
   ],
   "source": [
    "df[['DESCRICAO DO PRODUTO','DESCRICAO','Modelo']].sample(5)"
   ]
  },
  {
   "cell_type": "code",
   "execution_count": 38,
   "metadata": {},
   "outputs": [],
   "source": [
    "df_sem_modelo = df[df['Modelo']=='']\n",
    "df_sem_modelo['DESCRICAO'].to_excel(\"./bases/sem_modelo.xlsx\")"
   ]
  },
  {
   "cell_type": "code",
   "execution_count": 39,
   "metadata": {},
   "outputs": [
    {
     "data": {
      "text/html": [
       "<div>\n",
       "<style scoped>\n",
       "    .dataframe tbody tr th:only-of-type {\n",
       "        vertical-align: middle;\n",
       "    }\n",
       "\n",
       "    .dataframe tbody tr th {\n",
       "        vertical-align: top;\n",
       "    }\n",
       "\n",
       "    .dataframe thead th {\n",
       "        text-align: right;\n",
       "    }\n",
       "</style>\n",
       "<table border=\"1\" class=\"dataframe\">\n",
       "  <thead>\n",
       "    <tr style=\"text-align: right;\">\n",
       "      <th></th>\n",
       "      <th>DESCRICAO DO PRODUTO</th>\n",
       "      <th>DESCRICAO</th>\n",
       "      <th>Modelo</th>\n",
       "    </tr>\n",
       "  </thead>\n",
       "  <tbody>\n",
       "    <tr>\n",
       "      <th>352</th>\n",
       "      <td>880393 - KIT DE TRANSMISSÃO, COMPOSTO DE CORRE...</td>\n",
       "      <td>allen</td>\n",
       "      <td></td>\n",
       "    </tr>\n",
       "    <tr>\n",
       "      <th>6259</th>\n",
       "      <td>10530006 IN KIT TRANSMISSAO P/MOTOCICLETAS(COR...</td>\n",
       "      <td>cg82</td>\n",
       "      <td></td>\n",
       "    </tr>\n",
       "    <tr>\n",
       "      <th>3720</th>\n",
       "      <td>REF: 428HX116LX43TX14T (1104972) -KIT TRANSMIS...</td>\n",
       "      <td>darom</td>\n",
       "      <td></td>\n",
       "    </tr>\n",
       "    <tr>\n",
       "      <th>14538</th>\n",
       "      <td>001-P21B-02300 - Kit transmissao Titanium para...</td>\n",
       "      <td>126</td>\n",
       "      <td></td>\n",
       "    </tr>\n",
       "    <tr>\n",
       "      <th>14900</th>\n",
       "      <td>KIT DE TRANSMISSAO EM ACO 1045, PARA USO EM MO...</td>\n",
       "      <td></td>\n",
       "      <td></td>\n",
       "    </tr>\n",
       "    <tr>\n",
       "      <th>14224</th>\n",
       "      <td>KIT TRANSMISSÃO AÇO (1045), COMPOSTO DE CORREN...</td>\n",
       "      <td></td>\n",
       "      <td></td>\n",
       "    </tr>\n",
       "    <tr>\n",
       "      <th>960</th>\n",
       "      <td>43T16T/428H118L - KIT TRANSMISSAO EM ACO COMPO...</td>\n",
       "      <td></td>\n",
       "      <td></td>\n",
       "    </tr>\n",
       "    <tr>\n",
       "      <th>8154</th>\n",
       "      <td>5227101 - ITEM DE REPOSICAO PARA O SISTEMA DE ...</td>\n",
       "      <td>15</td>\n",
       "      <td></td>\n",
       "    </tr>\n",
       "    <tr>\n",
       "      <th>370</th>\n",
       "      <td>880394 - KIT DE TRANSMISSÃO, COMPOSTO DE CORRE...</td>\n",
       "      <td>allen</td>\n",
       "      <td></td>\n",
       "    </tr>\n",
       "    <tr>\n",
       "      <th>3725</th>\n",
       "      <td>REF: 428HX104LX34TX14T (1104977) -KIT TRANSMIS...</td>\n",
       "      <td>darom</td>\n",
       "      <td></td>\n",
       "    </tr>\n",
       "  </tbody>\n",
       "</table>\n",
       "</div>"
      ],
      "text/plain": [
       "                                    DESCRICAO DO PRODUTO DESCRICAO Modelo\n",
       "352    880393 - KIT DE TRANSMISSÃO, COMPOSTO DE CORRE...     allen       \n",
       "6259   10530006 IN KIT TRANSMISSAO P/MOTOCICLETAS(COR...      cg82       \n",
       "3720   REF: 428HX116LX43TX14T (1104972) -KIT TRANSMIS...     darom       \n",
       "14538  001-P21B-02300 - Kit transmissao Titanium para...       126       \n",
       "14900  KIT DE TRANSMISSAO EM ACO 1045, PARA USO EM MO...                 \n",
       "14224  KIT TRANSMISSÃO AÇO (1045), COMPOSTO DE CORREN...                 \n",
       "960    43T16T/428H118L - KIT TRANSMISSAO EM ACO COMPO...                 \n",
       "8154   5227101 - ITEM DE REPOSICAO PARA O SISTEMA DE ...        15       \n",
       "370    880394 - KIT DE TRANSMISSÃO, COMPOSTO DE CORRE...     allen       \n",
       "3725   REF: 428HX104LX34TX14T (1104977) -KIT TRANSMIS...     darom       "
      ]
     },
     "execution_count": 39,
     "metadata": {},
     "output_type": "execute_result"
    }
   ],
   "source": [
    "df_sem_modelo[['DESCRICAO DO PRODUTO','DESCRICAO','Modelo']].sample(10)"
   ]
  },
  {
   "cell_type": "code",
   "execution_count": 40,
   "metadata": {},
   "outputs": [
    {
     "data": {
      "text/plain": [
       "(855, 27)"
      ]
     },
     "execution_count": 40,
     "metadata": {},
     "output_type": "execute_result"
    }
   ],
   "source": [
    "df_sem_modelo.shape"
   ]
  },
  {
   "cell_type": "markdown",
   "metadata": {},
   "source": [
    "#### Exclusão dos registros sem aplicação contida na descrição"
   ]
  },
  {
   "cell_type": "markdown",
   "metadata": {},
   "source": [
    "Neste momento é necessário tomar uma decisão sobre o que fazer com os registros que permaneceram sem nenhuma extração na coluna **Modelo**.<br>\n",
    "Para tal decisão foi necessário observar cada um desses registros no arquivo \"sem_modelo.xls\" exportado e constatar que nenhum dos registros possui realmente qualquer alusão à aplicação do item descrito."
   ]
  },
  {
   "cell_type": "code",
   "execution_count": 41,
   "metadata": {},
   "outputs": [],
   "source": [
    "df=df[df['Modelo']!='']"
   ]
  },
  {
   "cell_type": "code",
   "execution_count": 42,
   "metadata": {},
   "outputs": [
    {
     "data": {
      "text/plain": [
       "(18237, 27)"
      ]
     },
     "execution_count": 42,
     "metadata": {},
     "output_type": "execute_result"
    }
   ],
   "source": [
    "df.shape"
   ]
  },
  {
   "cell_type": "markdown",
   "metadata": {},
   "source": [
    "### Funcão final que transforma a DESCRICAO DO PRODUTO em Modelo para classificar"
   ]
  },
  {
   "cell_type": "code",
   "execution_count": 43,
   "metadata": {},
   "outputs": [],
   "source": [
    "def criaModelo(descricao):\n",
    "    descricao=limpaDescricao(descricao)\n",
    "    descricao=achaPalavraChave(descricao)\n",
    "    descricao=acrescentaMarca(descricao)\n",
    "    return descricao"
   ]
  },
  {
   "cell_type": "code",
   "execution_count": 44,
   "metadata": {},
   "outputs": [
    {
     "data": {
      "text/plain": [
       "'YAMAHA RACING 125 YBR FACTOR'"
      ]
     },
     "execution_count": 44,
     "metadata": {},
     "output_type": "execute_result"
    }
   ],
   "source": [
    "criaModelo(df.iloc[linha]['DESCRICAO DO PRODUTO'])"
   ]
  },
  {
   "cell_type": "markdown",
   "metadata": {},
   "source": [
    "## Exportando DataFrame com Modelos de aplicação"
   ]
  },
  {
   "cell_type": "code",
   "execution_count": 45,
   "metadata": {},
   "outputs": [],
   "source": [
    "df.to_excel(r'./bases/dataframe_modelos.xlsx', index = False, header = True)"
   ]
  },
  {
   "cell_type": "markdown",
   "metadata": {},
   "source": [
    "## Gerando a WordCloud com o campo Modelo"
   ]
  },
  {
   "cell_type": "code",
   "execution_count": 46,
   "metadata": {},
   "outputs": [],
   "source": [
    "# Mescla todas as descrições como uma string usado espaço como separador\n",
    "descricoes = \" \".join(df['Modelo']).lower()"
   ]
  },
  {
   "cell_type": "code",
   "execution_count": 47,
   "metadata": {},
   "outputs": [],
   "source": [
    "# Define e gera a wordcloud para um máximo de 400 palavras de tamanho mínimo 2, sem termos duplos\n",
    "wordcloud = WordCloud(stopwords=stopwords,\n",
    "                      background_color=\"white\",\n",
    "                      width=1600, height=800,\n",
    "                      max_words=400,\n",
    "                      min_word_length=2,\n",
    "                      collocations=False,\n",
    "                      include_numbers=True).generate(descricoes)"
   ]
  },
  {
   "cell_type": "code",
   "execution_count": 48,
   "metadata": {
    "scrolled": false
   },
   "outputs": [
    {
     "data": {
      "text/plain": [
       "<matplotlib.image.AxesImage at 0x1329ecf7dd8>"
      ]
     },
     "execution_count": 48,
     "metadata": {},
     "output_type": "execute_result"
    },
    {
     "data": {
      "image/png": "[encoded data removed]",
      "text/plain": [
       "<Figure size 1440x576 with 1 Axes>"
      ]
     },
     "metadata": {
      "needs_background": "light"
     },
     "output_type": "display_data"
    }
   ],
   "source": [
    "# Exibe a imagem da nova WordCloud gerada\n",
    "fig, ax = plt.subplots(figsize=(20,8))\n",
    "ax.imshow(wordcloud, interpolation='bilinear')\n",
    "ax.set_axis_off()\n",
    "plt.imshow(wordcloud)"
   ]
  },
  {
   "cell_type": "code",
   "execution_count": 49,
   "metadata": {},
   "outputs": [
    {
     "data": {
      "text/plain": [
       "<wordcloud.wordcloud.WordCloud at 0x1329f9d5080>"
      ]
     },
     "execution_count": 49,
     "metadata": {},
     "output_type": "execute_result"
    }
   ],
   "source": [
    "# Exporta para um aquivo\n",
    "wordcloud.to_file(\"./imagens/wordcloud_descricoes_final.png\")"
   ]
  }
 ],
 "metadata": {
  "kernelspec": {
   "display_name": "Python 3",
   "language": "python",
   "name": "python3"
  },
  "language_info": {
   "codemirror_mode": {
    "name": "ipython",
    "version": 3
   },
   "file_extension": ".py",
   "mimetype": "text/x-python",
   "name": "python",
   "nbconvert_exporter": "python",
   "pygments_lexer": "ipython3",
   "version": "3.7.3"
  },
  "toc": {
   "base_numbering": 1,
   "nav_menu": {},
   "number_sections": false,
   "sideBar": false,
   "skip_h1_title": false,
   "title_cell": "Sumário",
   "title_sidebar": "Sumário",
   "toc_cell": false,
   "toc_position": {},
   "toc_section_display": true,
   "toc_window_display": false
  }
 },
 "nbformat": 4,
 "nbformat_minor": 2
}
