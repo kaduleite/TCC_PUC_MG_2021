{
 "cells": [
  {
   "cell_type": "markdown",
   "metadata": {},
   "source": [
    "# _Notebook Jupyter_ 3_classificarAplicação"
   ]
  },
  {
   "cell_type": "markdown",
   "metadata": {},
   "source": [
    "# Classificação dos modelos de motocicleta a partir da descrição"
   ]
  },
  {
   "cell_type": "markdown",
   "metadata": {},
   "source": [
    "A grande dificuldade na tarefa de análise de valores compatíveis na importação de peças de motocicletas, em especial dos kits de transmissão, se dá no fato de que milhares de importadores adquirem essas peças no exterior e informam sua descrição em um campo texto livre.<br>\n",
    "Nem mesmo a utilização da classificação fiscal normatizada no Mercosul, chamada de Nomenclatura Comum do Mercosul – NCM, ajuda nesse caso específico, tendo em vista que grande parte das peças de motocicletas e todos os kits de transmissão são classificados em uma mesma posição na tabela da NCM.<br>\n",
    "Para que se possa tratar corretamente o dataset obtido na nossa etapa de processamento e tratamento de dados, e permitir o futuro aprendizado de máquina, com predições do modelo de motocicleta que aquele item se aplica, é preciso que primeiro se proceda a uma classificação de aplicações que futuramente será utilizado em um aprendizado supervisionado.<br>\n",
    "A ideia é se aplicar uma busca na descrição da mercadoria pelos termos conhecidos de aplicações e se buscar a qual aplicação aquela descrição se refere, fazendo desse modo a primeira classificação.<br>\n",
    "Posteriormente será utilizado um algorítimo de aprendizado de máquina para aprender com o próprio texto da descrição da aplicação e fazer a classificação utilizando a descrição já limpa de stopwords e outros termos desnecessários.<br>\n",
    "A interseção dos dois conjuntos de classificação será o dataset utilizado para fazer o treinamento do classificador, que será o primeiro passo antes da análise de valor do item importado."
   ]
  },
  {
   "cell_type": "markdown",
   "metadata": {},
   "source": [
    "### Importa as bibliotecas necessárias"
   ]
  },
  {
   "cell_type": "code",
   "execution_count": 1,
   "metadata": {},
   "outputs": [],
   "source": [
    "import pandas as pd, numpy as np\n",
    "import re, time\n",
    "# stopwords\n",
    "from nltk.corpus import stopwords\n",
    "# wordcloud\n",
    "from wordcloud import WordCloud\n",
    "# plotagem do gráfico\n",
    "import matplotlib.pyplot as plt"
   ]
  },
  {
   "cell_type": "code",
   "execution_count": 2,
   "metadata": {},
   "outputs": [
    {
     "name": "stdout",
     "output_type": "stream",
     "text": [
      "Código executado em 20/01/2022 às 16:36\n"
     ]
    }
   ],
   "source": [
    "# Data e hora da execução do script\n",
    "initot=time.time()\n",
    "print(f'Código executado em {time.strftime(\"%d/%m/%Y às %H:%M\", time.localtime(time.time()))}')"
   ]
  },
  {
   "cell_type": "markdown",
   "metadata": {},
   "source": [
    "### Importa os dados já tratados"
   ]
  },
  {
   "cell_type": "code",
   "execution_count": 3,
   "metadata": {},
   "outputs": [],
   "source": [
    "# Importa base de dados para um dataframe\n",
    "df = pd.read_excel(r'./bases/dataframe.xlsx')"
   ]
  },
  {
   "cell_type": "code",
   "execution_count": 4,
   "metadata": {},
   "outputs": [
    {
     "data": {
      "text/plain": [
       "(18276, 3)"
      ]
     },
     "execution_count": 4,
     "metadata": {},
     "output_type": "execute_result"
    }
   ],
   "source": [
    "# Verifica o tamnanho do dataframe\n",
    "df.shape"
   ]
  },
  {
   "cell_type": "code",
   "execution_count": 5,
   "metadata": {},
   "outputs": [
    {
     "data": {
      "text/html": [
       "<div>\n",
       "<style scoped>\n",
       "    .dataframe tbody tr th:only-of-type {\n",
       "        vertical-align: middle;\n",
       "    }\n",
       "\n",
       "    .dataframe tbody tr th {\n",
       "        vertical-align: top;\n",
       "    }\n",
       "\n",
       "    .dataframe thead th {\n",
       "        text-align: right;\n",
       "    }\n",
       "</style>\n",
       "<table border=\"1\" class=\"dataframe\">\n",
       "  <thead>\n",
       "    <tr style=\"text-align: right;\">\n",
       "      <th></th>\n",
       "      <th>PAIS DE ORIGEM</th>\n",
       "      <th>DESCRICAO DO PRODUTO</th>\n",
       "      <th>VALOR UN.PROD.DOLAR</th>\n",
       "    </tr>\n",
       "  </thead>\n",
       "  <tbody>\n",
       "    <tr>\n",
       "      <th>5908</th>\n",
       "      <td>CHINA, REPUBLICA POP</td>\n",
       "      <td>10530002 IN KIT TRANSMISSAO P/MOTOCICLETAS(COR...</td>\n",
       "      <td>3.720000</td>\n",
       "    </tr>\n",
       "    <tr>\n",
       "      <th>12613</th>\n",
       "      <td>CHINA, REPUBLICA POP</td>\n",
       "      <td>KIT DE TRANSMISSÃO PARA MOTOCICLETAS, COMPOSTO...</td>\n",
       "      <td>3.360000</td>\n",
       "    </tr>\n",
       "    <tr>\n",
       "      <th>12836</th>\n",
       "      <td>CHINA, REPUBLICA POP</td>\n",
       "      <td>881606 - KIT DE TRANSMISSAO, COMPOSTO DE CORRE...</td>\n",
       "      <td>5.024464</td>\n",
       "    </tr>\n",
       "    <tr>\n",
       "      <th>14707</th>\n",
       "      <td>CHINA, REPUBLICA POP</td>\n",
       "      <td>152624 # KIT TRANSMISSAO STANDARD TEMP. COMPL....</td>\n",
       "      <td>3.197229</td>\n",
       "    </tr>\n",
       "    <tr>\n",
       "      <th>2151</th>\n",
       "      <td>CHINA, REPUBLICA POP</td>\n",
       "      <td>71848 - KIT NXR 150 BROS ESD (03-05) 50Z X 17Z...</td>\n",
       "      <td>5.757700</td>\n",
       "    </tr>\n",
       "  </tbody>\n",
       "</table>\n",
       "</div>"
      ],
      "text/plain": [
       "             PAIS DE ORIGEM  \\\n",
       "5908   CHINA, REPUBLICA POP   \n",
       "12613  CHINA, REPUBLICA POP   \n",
       "12836  CHINA, REPUBLICA POP   \n",
       "14707  CHINA, REPUBLICA POP   \n",
       "2151   CHINA, REPUBLICA POP   \n",
       "\n",
       "                                    DESCRICAO DO PRODUTO  VALOR UN.PROD.DOLAR  \n",
       "5908   10530002 IN KIT TRANSMISSAO P/MOTOCICLETAS(COR...             3.720000  \n",
       "12613  KIT DE TRANSMISSÃO PARA MOTOCICLETAS, COMPOSTO...             3.360000  \n",
       "12836  881606 - KIT DE TRANSMISSAO, COMPOSTO DE CORRE...             5.024464  \n",
       "14707  152624 # KIT TRANSMISSAO STANDARD TEMP. COMPL....             3.197229  \n",
       "2151   71848 - KIT NXR 150 BROS ESD (03-05) 50Z X 17Z...             5.757700  "
      ]
     },
     "execution_count": 5,
     "metadata": {},
     "output_type": "execute_result"
    }
   ],
   "source": [
    "# Mostra linhas de exemplo do dataframe\n",
    "df.sample(5)"
   ]
  },
  {
   "cell_type": "code",
   "execution_count": 6,
   "metadata": {},
   "outputs": [
    {
     "data": {
      "text/plain": [
       "'80348 KIT DE TRANSMISSÃO, COMPOSTO DE CORRENTE, COROA E PINHÃO PARA MOTOCICLETA CBX 250 TWISTER, MARCA ALLEN.'"
      ]
     },
     "execution_count": 6,
     "metadata": {},
     "output_type": "execute_result"
    }
   ],
   "source": [
    "df['DESCRICAO DO PRODUTO'][5]"
   ]
  },
  {
   "cell_type": "code",
   "execution_count": 7,
   "metadata": {
    "scrolled": true
   },
   "outputs": [
    {
     "data": {
      "text/plain": [
       "str"
      ]
     },
     "execution_count": 7,
     "metadata": {},
     "output_type": "execute_result"
    }
   ],
   "source": [
    "type(df['DESCRICAO DO PRODUTO'][1])"
   ]
  },
  {
   "cell_type": "markdown",
   "metadata": {},
   "source": [
    "### Importa as stopwords da língua portuguesa"
   ]
  },
  {
   "cell_type": "code",
   "execution_count": 8,
   "metadata": {},
   "outputs": [],
   "source": [
    "# Importar lista de Stopwords\n",
    "stopwords = set(stopwords.words('portuguese'))"
   ]
  },
  {
   "cell_type": "code",
   "execution_count": 9,
   "metadata": {},
   "outputs": [
    {
     "data": {
      "text/plain": [
       "204"
      ]
     },
     "execution_count": 9,
     "metadata": {},
     "output_type": "execute_result"
    }
   ],
   "source": [
    "# Mostra tamanho da lista de stopwords\n",
    "len(stopwords)"
   ]
  },
  {
   "cell_type": "code",
   "execution_count": 10,
   "metadata": {},
   "outputs": [
    {
     "name": "stdout",
     "output_type": "stream",
     "text": [
      "['a', 'ao', 'aos', 'aquela', 'aquelas', 'aquele', 'aqueles', 'aquilo', 'as', 'até', 'com', 'como', 'da', 'das', 'de', 'dela', 'delas', 'dele', 'deles', 'depois', 'do', 'dos', 'e', 'ela', 'elas', 'ele', 'eles', 'em', 'entre', 'era', 'eram', 'essa', 'essas', 'esse', 'esses', 'esta', 'estamos', 'estas', 'estava', 'estavam', 'este', 'esteja', 'estejam', 'estejamos', 'estes', 'esteve', 'estive', 'estivemos', 'estiver', 'estivera', 'estiveram', 'estiverem', 'estivermos', 'estivesse', 'estivessem', 'estivéramos', 'estivéssemos', 'estou', 'está', 'estávamos', 'estão', 'eu', 'foi', 'fomos', 'for', 'fora', 'foram', 'forem', 'formos', 'fosse', 'fossem', 'fui', 'fôramos', 'fôssemos', 'haja', 'hajam', 'hajamos', 'havemos', 'hei', 'houve', 'houvemos', 'houver', 'houvera', 'houveram', 'houverei', 'houverem', 'houveremos', 'houveria', 'houveriam', 'houvermos', 'houverá', 'houverão', 'houveríamos', 'houvesse', 'houvessem', 'houvéramos', 'houvéssemos', 'há', 'hão', 'isso', 'isto', 'já', 'lhe', 'lhes', 'mais', 'mas', 'me', 'mesmo', 'meu', 'meus', 'minha', 'minhas', 'muito', 'na', 'nas', 'nem', 'no', 'nos', 'nossa', 'nossas', 'nosso', 'nossos', 'num', 'numa', 'não', 'nós', 'o', 'os', 'ou', 'para', 'pela', 'pelas', 'pelo', 'pelos', 'por', 'qual', 'quando', 'que', 'quem', 'se', 'seja', 'sejam', 'sejamos', 'sem', 'serei', 'seremos', 'seria', 'seriam', 'será', 'serão', 'seríamos', 'seu', 'seus', 'somos', 'sou', 'sua', 'suas', 'são', 'só', 'também', 'te', 'tem', 'temos', 'tenha', 'tenham', 'tenhamos', 'tenho', 'terei', 'teremos', 'teria', 'teriam', 'terá', 'terão', 'teríamos', 'teu', 'teus', 'teve', 'tinha', 'tinham', 'tive', 'tivemos', 'tiver', 'tivera', 'tiveram', 'tiverem', 'tivermos', 'tivesse', 'tivessem', 'tivéramos', 'tivéssemos', 'tu', 'tua', 'tuas', 'tém', 'tínhamos', 'um', 'uma', 'você', 'vocês', 'vos', 'à', 'às', 'é', 'éramos']\n"
     ]
    }
   ],
   "source": [
    "# Mostra toda a lista de stopwords\n",
    "swtemp = list(stopwords)\n",
    "swtemp.sort()\n",
    "print(swtemp)"
   ]
  },
  {
   "cell_type": "markdown",
   "metadata": {},
   "source": [
    "### Atualiza a lista de stopwords"
   ]
  },
  {
   "cell_type": "code",
   "execution_count": 11,
   "metadata": {},
   "outputs": [
    {
     "name": "stdout",
     "output_type": "stream",
     "text": [
      "['abaixo', 'acessorios', 'acessórios', 'aco', 'acondicionados', 'adaptavel', 'adaptável', 'allen', 'almas', 'alta', 'am', 'anel', 'ano', 'aplicacao', 'aplication', 'aplicavel', 'aplicação', 'aplicável', 'application', 'ate', 'atitanium', 'aç', 'aço', 'bicicleta', 'bicycle', 'bike', 'bravo', 'cada', 'caixa', 'caixas', 'cambio', 'carbono', 'certificado', 'cever', 'chain', 'chh', 'china', 'ciclomotor', 'ciclomotores', 'cilindrada', 'cilindradas', 'cod', 'code', 'codigo', 'comando', 'combustão', 'comercial', 'comercialmente', 'commodity', 'compativel', 'compatível', 'compl', 'completo', 'completos', 'composto', 'composto', 'compostopor', 'compostpo', 'comum', 'condicao', 'condicoes', 'condição', 'condições', 'confeccionado', 'conformidade', 'conhecido', 'conj', 'conjunto', 'conjuntos', 'constituido', 'constitutivo', 'constituído', 'contendo', 'coposto', 'coroa', 'coroaes', 'corr', 'corrent', 'corrente', 'correntee', 'correntes', 'corrnte', 'cx', 'câmbio', 'cãmbio', 'código', 'decreto', 'denominada', 'dente', 'dentes', 'descricao', 'descricão', 'descriçao', 'descrição', 'destaque', 'destaque', 'destaques', 'detransmissão', 'diante', 'dimensao', 'dimensoes', 'dimensão', 'dimensões', 'diverso', 'diversos', 'dominado', 'durabilidade', 'elo', 'elos', 'embalagem', 'engine', 'engrenagem', 'engrenagens', 'epinhao', 'epinhão', 'especifico', 'específico', 'espessura', 'evol', 'exclusivo', 'fabr', 'fabri', 'fabricada', 'fabricado', 'final', 'foiproduzida', 'formado', 'funcao', 'funcao', 'funcão', 'funcão', 'funçao', 'função', 'gtin', 'hardt', 'ho', 'hp', 'imetro', 'in', 'incluindo', 'incluso', 'indicado', 'ingles', 'inmetro', 'inv', 'invoice', 'iron', 'item', 'jc', 'ki', 'kif', 'kit', 'kitr', 'kittr', 'kittr', 'kmc', 'ligacoes', 'ligaçoes', 'ligaçoes', 'ligações', 'marca', 'mark', 'match', 'material', 'materialdo', 'maxx', 'medida', 'medidas', 'medindo', 'metal', 'mini', 'mod', 'modelo', 'modelos', 'moto', 'motociclet', 'motocicleta', 'motocicletas', 'motoneta', 'motonetas', 'motoparts', 'motor', 'motorcicleta', 'motos', 'motos', 'movimento', 'nbsp', 'ncm', 'nome', 'nopinh', 'normais', 'nova', 'novo', 'nr', 'numero', 'número', 'onde', 'or', 'origem', 'oring', 'ox', 'papelao', 'papelão', 'part', 'parte', 'partes', 'parts', 'pc', 'pc-coroa', 'pc-corrente', 'pc-pinhao', 'pcs', 'pec', 'pecas', 'perfil', 'peç', 'peças', 'pinh', 'pinhao', 'pinhão', 'posição', 'premium', 'procedencia', 'procedência', 'prodepe', 'produto', 'próprio', 'pç', 'qdes', 'qtd', 'qtds', 'qty', 'quadriciclo', 'quadriciclos', 'quantidad', 'quantidade', 're', 'ref', 'reforcada', 'reforçada', 'registro', 'rel', 'relacao', 'relação', 'reposicao', 'resp', 'respo', 'respons', 'responsa', 'responsav', 'responsave', 'responsavel', 'responsáv', 'responsável', 'ret', 'retalho', 'retentor', 'riffel', 'ring', 'roda', 'sae', 'scud', 'semi', 'semi-', 'semi-kit', 'sendo', 'serve', 'set', 'shipping', 'sistema', 'sm', 'sprocket', 'standard', 'standart', 'standartt', 'std', 'stdmodelo', 'steel', 'tambem', 'também', 'tec', 'temp', 'temperado', 'tipo', 'tipos', 'titanio', 'titaniu', 'titanium', 'titaniun', 'tr', 'tracao', 'tracão', 'trans', 'transmis', 'transmisao', 'transmiss', 'transmissa', 'transmissao', 'transmission', 'transmissão', 'transmitir', 'traseira', 'traçao', 'tração', 'und', 'unds', 'unid', 'unidade', 'unidade', 'unidades', 'unifort', 'uo', 'uso', 'utilizada', 'utilizadas', 'utilizado', 'utilizados', 'utilização', 'vem', 'venda', 'with', 'xy', 'year']\n"
     ]
    }
   ],
   "source": [
    "# Palavras a adicionar na lista de stopwords estão contidas em um arquivo csv externo\n",
    "dfsw = pd.read_csv('./bases/stopwords.csv', encoding='ISO-8859-1')\n",
    "stopwords_df=sorted(list(dfsw['stopword']))\n",
    "swtemp = list(stopwords_df)\n",
    "swtemp.sort()\n",
    "print(swtemp)"
   ]
  },
  {
   "cell_type": "code",
   "execution_count": 12,
   "metadata": {},
   "outputs": [],
   "source": [
    "# Atualizar stopwords\n",
    "stopwords.update(stopwords_df)"
   ]
  },
  {
   "cell_type": "code",
   "execution_count": 13,
   "metadata": {},
   "outputs": [
    {
     "name": "stdout",
     "output_type": "stream",
     "text": [
      "['a', 'abaixo', 'acessorios', 'acessórios', 'aco', 'acondicionados', 'adaptavel', 'adaptável', 'allen', 'almas', 'alta', 'am', 'anel', 'ano', 'ao', 'aos', 'aplicacao', 'aplication', 'aplicavel', 'aplicação', 'aplicável', 'application', 'aquela', 'aquelas', 'aquele', 'aqueles', 'aquilo', 'as', 'ate', 'atitanium', 'até', 'aç', 'aço', 'bicicleta', 'bicycle', 'bike', 'bravo', 'cada', 'caixa', 'caixas', 'cambio', 'carbono', 'certificado', 'cever', 'chain', 'chh', 'china', 'ciclomotor', 'ciclomotores', 'cilindrada', 'cilindradas', 'cod', 'code', 'codigo', 'com', 'comando', 'combustão', 'comercial', 'comercialmente', 'commodity', 'como', 'compativel', 'compatível', 'compl', 'completo', 'completos', 'composto', 'compostopor', 'compostpo', 'comum', 'condicao', 'condicoes', 'condição', 'condições', 'confeccionado', 'conformidade', 'conhecido', 'conj', 'conjunto', 'conjuntos', 'constituido', 'constitutivo', 'constituído', 'contendo', 'coposto', 'coroa', 'coroaes', 'corr', 'corrent', 'corrente', 'correntee', 'correntes', 'corrnte', 'cx', 'câmbio', 'cãmbio', 'código', 'da', 'das', 'de', 'decreto', 'dela', 'delas', 'dele', 'deles', 'denominada', 'dente', 'dentes', 'depois', 'descricao', 'descricão', 'descriçao', 'descrição', 'destaque', 'destaques', 'detransmissão', 'diante', 'dimensao', 'dimensoes', 'dimensão', 'dimensões', 'diverso', 'diversos', 'do', 'dominado', 'dos', 'durabilidade', 'e', 'ela', 'elas', 'ele', 'eles', 'elo', 'elos', 'em', 'embalagem', 'engine', 'engrenagem', 'engrenagens', 'entre', 'epinhao', 'epinhão', 'era', 'eram', 'especifico', 'específico', 'espessura', 'essa', 'essas', 'esse', 'esses', 'esta', 'estamos', 'estas', 'estava', 'estavam', 'este', 'esteja', 'estejam', 'estejamos', 'estes', 'esteve', 'estive', 'estivemos', 'estiver', 'estivera', 'estiveram', 'estiverem', 'estivermos', 'estivesse', 'estivessem', 'estivéramos', 'estivéssemos', 'estou', 'está', 'estávamos', 'estão', 'eu', 'evol', 'exclusivo', 'fabr', 'fabri', 'fabricada', 'fabricado', 'final', 'foi', 'foiproduzida', 'fomos', 'for', 'fora', 'foram', 'forem', 'formado', 'formos', 'fosse', 'fossem', 'fui', 'funcao', 'funcão', 'funçao', 'função', 'fôramos', 'fôssemos', 'gtin', 'haja', 'hajam', 'hajamos', 'hardt', 'havemos', 'hei', 'ho', 'houve', 'houvemos', 'houver', 'houvera', 'houveram', 'houverei', 'houverem', 'houveremos', 'houveria', 'houveriam', 'houvermos', 'houverá', 'houverão', 'houveríamos', 'houvesse', 'houvessem', 'houvéramos', 'houvéssemos', 'hp', 'há', 'hão', 'imetro', 'in', 'incluindo', 'incluso', 'indicado', 'ingles', 'inmetro', 'inv', 'invoice', 'iron', 'isso', 'isto', 'item', 'jc', 'já', 'ki', 'kif', 'kit', 'kitr', 'kittr', 'kmc', 'lhe', 'lhes', 'ligacoes', 'ligaçoes', 'ligações', 'mais', 'marca', 'mark', 'mas', 'match', 'material', 'materialdo', 'maxx', 'me', 'medida', 'medidas', 'medindo', 'mesmo', 'metal', 'meu', 'meus', 'minha', 'minhas', 'mini', 'mod', 'modelo', 'modelos', 'moto', 'motociclet', 'motocicleta', 'motocicletas', 'motoneta', 'motonetas', 'motoparts', 'motor', 'motorcicleta', 'motos', 'movimento', 'muito', 'na', 'nas', 'nbsp', 'ncm', 'nem', 'no', 'nome', 'nopinh', 'normais', 'nos', 'nossa', 'nossas', 'nosso', 'nossos', 'nova', 'novo', 'nr', 'num', 'numa', 'numero', 'não', 'nós', 'número', 'o', 'onde', 'or', 'origem', 'oring', 'os', 'ou', 'ox', 'papelao', 'papelão', 'para', 'part', 'parte', 'partes', 'parts', 'pc', 'pc-coroa', 'pc-corrente', 'pc-pinhao', 'pcs', 'pec', 'pecas', 'pela', 'pelas', 'pelo', 'pelos', 'perfil', 'peç', 'peças', 'pinh', 'pinhao', 'pinhão', 'por', 'posição', 'premium', 'procedencia', 'procedência', 'prodepe', 'produto', 'próprio', 'pç', 'qdes', 'qtd', 'qtds', 'qty', 'quadriciclo', 'quadriciclos', 'qual', 'quando', 'quantidad', 'quantidade', 'que', 'quem', 're', 'ref', 'reforcada', 'reforçada', 'registro', 'rel', 'relacao', 'relação', 'reposicao', 'resp', 'respo', 'respons', 'responsa', 'responsav', 'responsave', 'responsavel', 'responsáv', 'responsável', 'ret', 'retalho', 'retentor', 'riffel', 'ring', 'roda', 'sae', 'scud', 'se', 'seja', 'sejam', 'sejamos', 'sem', 'semi', 'semi-', 'semi-kit', 'sendo', 'serei', 'seremos', 'seria', 'seriam', 'serve', 'será', 'serão', 'seríamos', 'set', 'seu', 'seus', 'shipping', 'sistema', 'sm', 'somos', 'sou', 'sprocket', 'standard', 'standart', 'standartt', 'std', 'stdmodelo', 'steel', 'sua', 'suas', 'são', 'só', 'tambem', 'também', 'te', 'tec', 'tem', 'temos', 'temp', 'temperado', 'tenha', 'tenham', 'tenhamos', 'tenho', 'terei', 'teremos', 'teria', 'teriam', 'terá', 'terão', 'teríamos', 'teu', 'teus', 'teve', 'tinha', 'tinham', 'tipo', 'tipos', 'titanio', 'titaniu', 'titanium', 'titaniun', 'tive', 'tivemos', 'tiver', 'tivera', 'tiveram', 'tiverem', 'tivermos', 'tivesse', 'tivessem', 'tivéramos', 'tivéssemos', 'tr', 'tracao', 'tracão', 'trans', 'transmis', 'transmisao', 'transmiss', 'transmissa', 'transmissao', 'transmission', 'transmissão', 'transmitir', 'traseira', 'traçao', 'tração', 'tu', 'tua', 'tuas', 'tém', 'tínhamos', 'um', 'uma', 'und', 'unds', 'unid', 'unidade', 'unidades', 'unifort', 'uo', 'uso', 'utilizada', 'utilizadas', 'utilizado', 'utilizados', 'utilização', 'vem', 'venda', 'você', 'vocês', 'vos', 'with', 'xy', 'year', 'à', 'às', 'é', 'éramos']\n"
     ]
    }
   ],
   "source": [
    "# Mostra toda a lista de stopwords\n",
    "swtemp = list(stopwords)\n",
    "swtemp.sort()\n",
    "print(swtemp)"
   ]
  },
  {
   "cell_type": "code",
   "execution_count": 14,
   "metadata": {
    "scrolled": true
   },
   "outputs": [
    {
     "data": {
      "text/plain": [
       "518"
      ]
     },
     "execution_count": 14,
     "metadata": {},
     "output_type": "execute_result"
    }
   ],
   "source": [
    "len(stopwords)"
   ]
  },
  {
   "cell_type": "markdown",
   "metadata": {},
   "source": [
    "### Carrega lista de aplicações"
   ]
  },
  {
   "cell_type": "code",
   "execution_count": 15,
   "metadata": {
    "code_folding": []
   },
   "outputs": [],
   "source": [
    "# carrega a lista de marcas de motos do arquivo\n",
    "dftemp=pd.read_csv('./bases/Aplicacoes.csv')"
   ]
  },
  {
   "cell_type": "code",
   "execution_count": 16,
   "metadata": {},
   "outputs": [
    {
     "data": {
      "text/html": [
       "<div>\n",
       "<style scoped>\n",
       "    .dataframe tbody tr th:only-of-type {\n",
       "        vertical-align: middle;\n",
       "    }\n",
       "\n",
       "    .dataframe tbody tr th {\n",
       "        vertical-align: top;\n",
       "    }\n",
       "\n",
       "    .dataframe thead th {\n",
       "        text-align: right;\n",
       "    }\n",
       "</style>\n",
       "<table border=\"1\" class=\"dataframe\">\n",
       "  <thead>\n",
       "    <tr style=\"text-align: right;\">\n",
       "      <th></th>\n",
       "      <th>APLICACOES</th>\n",
       "    </tr>\n",
       "  </thead>\n",
       "  <tbody>\n",
       "    <tr>\n",
       "      <th>0</th>\n",
       "      <td>ACELLERA ACX 250F 250</td>\n",
       "    </tr>\n",
       "    <tr>\n",
       "      <th>1</th>\n",
       "      <td>ACELLERA FRONTLANDER 500</td>\n",
       "    </tr>\n",
       "    <tr>\n",
       "      <th>2</th>\n",
       "      <td>ACELLERA FRONTLANDER 800 EFI</td>\n",
       "    </tr>\n",
       "    <tr>\n",
       "      <th>3</th>\n",
       "      <td>ACELLERA HOTZOO SPORT 90</td>\n",
       "    </tr>\n",
       "    <tr>\n",
       "      <th>4</th>\n",
       "      <td>ACELLERA QUADRILANDER 300</td>\n",
       "    </tr>\n",
       "  </tbody>\n",
       "</table>\n",
       "</div>"
      ],
      "text/plain": [
       "                     APLICACOES\n",
       "0         ACELLERA ACX 250F 250\n",
       "1      ACELLERA FRONTLANDER 500\n",
       "2  ACELLERA FRONTLANDER 800 EFI\n",
       "3      ACELLERA HOTZOO SPORT 90\n",
       "4     ACELLERA QUADRILANDER 300"
      ]
     },
     "execution_count": 16,
     "metadata": {},
     "output_type": "execute_result"
    }
   ],
   "source": [
    "dftemp.head()"
   ]
  },
  {
   "cell_type": "markdown",
   "metadata": {},
   "source": [
    "#### Cria a lista de Palavras Chave das Aplicações"
   ]
  },
  {
   "cell_type": "code",
   "execution_count": 17,
   "metadata": {},
   "outputs": [],
   "source": [
    "# remove caracteres especiais ou soltos e termos duplicados, salvando na lista\n",
    "palavrasChave=sorted(set(re.sub(r\"\\b \\w \\b\",\n",
    "                                ' ', \n",
    "                                re.sub(r\"[/<>()|\\+\\$%&#@\\'\\\"]+\", \n",
    "                                       \" \",\n",
    "                                       \" \".join(dftemp['APLICACOES'].tolist()))).split()))"
   ]
  },
  {
   "cell_type": "code",
   "execution_count": 18,
   "metadata": {},
   "outputs": [
    {
     "data": {
      "text/plain": [
       "894"
      ]
     },
     "execution_count": 18,
     "metadata": {},
     "output_type": "execute_result"
    }
   ],
   "source": [
    "len(palavrasChave)"
   ]
  },
  {
   "cell_type": "code",
   "execution_count": 19,
   "metadata": {},
   "outputs": [
    {
     "name": "stdout",
     "output_type": "stream",
     "text": [
      "['1000', '1000F', '1000R', '1000V', '1098', '1100', '1100XX', '110S', '1125', '1190', '1198', '1200', '1200Z', '125', '125R', '130', '1300', '135', '1400', '150']  ...  ['YFS', 'YS150', 'YS250', 'YZ', 'YZF', 'YZR', 'Z1000', 'Z750', 'Z800', 'ZACH', 'ZANELLA', 'ZENITH', 'ZIG', 'ZING', 'ZIP', 'ZONGSHEN', 'ZR', 'ZRX', 'ZS', 'ZZR']\n"
     ]
    }
   ],
   "source": [
    "# amostra de palavrasChave\n",
    "print(palavrasChave[:20],' ... ', palavrasChave[-20:])"
   ]
  },
  {
   "cell_type": "code",
   "execution_count": 20,
   "metadata": {},
   "outputs": [
    {
     "data": {
      "text/plain": [
       "True"
      ]
     },
     "execution_count": 20,
     "metadata": {},
     "output_type": "execute_result"
    }
   ],
   "source": [
    "'RT' in palavrasChave"
   ]
  },
  {
   "cell_type": "markdown",
   "metadata": {},
   "source": [
    "### Limpeza e criação da coluna DESCRICAO"
   ]
  },
  {
   "cell_type": "markdown",
   "metadata": {},
   "source": [
    "#### Função de limpeza de dados irrelevantes para a classificação e remoção de stopwords"
   ]
  },
  {
   "cell_type": "code",
   "execution_count": 21,
   "metadata": {},
   "outputs": [],
   "source": [
    "def limpaDescricao(descricao): # \n",
    "    descricao=descricao.lower() #transformar em minúsculas\n",
    "    # remove top (1045) e variantes\n",
    "    descricao=re.sub(r'\\b[ (-]*top \\( *1045 *\\)[-) ]*\\b',' ',descricao) \n",
    "    # remove códigos numéricos entre parênteses com -*/\n",
    "    descricao=re.sub(r\"\\( *\\d*[\\/\\*\\-\\d]*\\d* *\\)\", ' ', descricao) \n",
    "    # remove a ocorrência de \"código e etc.\" e o termo seguinte começado com número\n",
    "    # att: (alguns tem hífen ou asterisco) (colocar antes de remover pontuação)\n",
    "    descricao=re.sub(r\"\\b(invoice|código|codigo|cod|cód|(certificado|cert)( no|nr|)|ref)[0-9a-z/\\-\\*\\.\\:]* *\\d[^ ]+\", ' ', descricao)\n",
    "    # remove identificação de referência de engrenagens dos kits (antes da pontuação)\n",
    "    #descricao=re.sub(r\"([^a-z]|)(ho|uo|h|l|t|ktd|sm|m|d| x|elos )\\d{1,}[ x\\-\\/,);.]|[ x\\-\\/(]*\\d{1,}(ho|uo|h|l|z|t|ktd|m|d|x| dentes| elos)[ \\-\\/,;)]\", ' ', descricao) # 00h\n",
    "    descricao=re.sub(r\"\\d*(ho|uo|h|l|t|ktd|sm|m|d|elos )\\d{1,}[ \\-\\/,);.]|[ \\-\\/(]*\\d{1,}(ho|uo|h|l|z|t|ktd|m|d| dentes| elos)\", ' ', descricao) # 00h\n",
    "    # substitui os termos \"s/re\" e \"s/ret\" por \"sem retentor\"\n",
    "    descricao=re.sub(r\"\\b(s\\/re|s\\/ret)\\b\", 'sem retentor', descricao)\n",
    "    # substitui os termos \"c/re\" ou \"c/ret\" por \"com retentor\"\n",
    "    descricao=re.sub(r\"\\b(c\\/re|c\\/ret)\\b\", 'com retentor', descricao)\n",
    "    # substitui o termo \"aplicação\" e \"modelo\" emendado com outro\n",
    "    descricao=re.sub(r\"aplicacao\", \"aplicacao \", descricao)\n",
    "    descricao=re.sub(r\"modelo\", \"modelo \", descricao)\n",
    "    # remove códigos no início da descrição\n",
    "    descricao=re.sub(r\"^\\b\\d{2,}[^ ]*\\b\", ' ', descricao)\n",
    "    descricao=re.sub(r\"^k[^ ]+\", ' ', descricao)\n",
    "    descricao=re.sub(r\"- | -|[\\\\\\+,.:;!?/]+\", ' ', descricao) #remover pontuação (att: \"- \" ou \" -\")\n",
    "    #correção de erros de digitação comuns\n",
    "    termos={'titan': ['titian','tita','tintan','tit'],\n",
    "            'honda': ['hond','hnda','hon'],\n",
    "            'twister': ['twist', 'twiste'],\n",
    "            'dafra kansas': ['dafra kan'],\n",
    "            'tenere': ['tener','tenerre'],\n",
    "            'broz': ['bros','bross'],\n",
    "            'titan 150': ['titan150'],\n",
    "            'broz 150': ['bross125.','bros125.','broz125','bross150.','bros150.','broz150'],\n",
    "            'pop 100':['pop100'],\n",
    "            'phoenix':['phoeni','phenix'],\n",
    "            'c100': ['c 100']}\n",
    "    for termo in termos:\n",
    "        for termoerrado in termos[termo]:\n",
    "            descricao=re.sub(r\"\\b\"+termoerrado+r\"\\b\", termo, descricao)\n",
    "    descricao=re.sub(r\"[/<>()|\\+\\\\$%&#@\\'\\\"]+\", ' ', descricao) #remover carcteres especiais\n",
    "    # remove a ocorrência de medidas tipo 00x000x00 ou 000x0000\n",
    "    descricao=re.sub(r\"\\b\\d{1,}(x|\\*)\\d{1,}(x|\\*)\\d{1,}|\\d{1,}(x|\\*)\\d{1,}\\b\", ' ', descricao)\n",
    "    # remove identificação de quantidades, unidades, peças e conjuntos\n",
    "    descricao=re.sub(r\"\\b(\\d* *(conj|und|uni|pc|pç|pec|peç)( \\w|\\w)+?)\\b\", ' ', descricao)\n",
    "    # remove identificação de mais de 4 dígitos com ou sem letras no início e no final\n",
    "    descricao=re.sub(r\"\\w+\\d{4,}\\w+\", ' ', descricao)\n",
    "    # remove números de 4 dígitos ou mais começados de 2 a 9\n",
    "    descricao=re.sub(r\"\\b[02-9]\\d{3,}\\b\", ' ', descricao)\n",
    "    # remove identificação de termos começados por zero\n",
    "    descricao=re.sub(r\"\\b0\\d*\\w+?(?=\\b)\", ' ', descricao)\n",
    "    # remove a ocorrência de \"marca \" e o termo na lista até o próximo espaço\n",
    "    for marca in ['kmc *gold','am *gold','king','bravo *racing','riffel *top']:\n",
    "        descricao=re.sub(r\"\\bmarca[ :\\./]*\"+str(marca)+r\"[^ ]*\", ' ', descricao) # colocar antes das stopwords\n",
    "    descricao=re.sub(r\"marca[ :\\./]*\\w+\", ' ', descricao)\n",
    "    descricao=re.sub(r\"(^-| -|- )\", ' ', descricao)\n",
    "    # remove stopwords mantendo a ordem original da descrição\n",
    "    descricao=list(dict.fromkeys(descricao.split())) # cria lista com termos únicos\n",
    "    descricao=\" \".join([x for x in descricao if x not in set(stopwords)]) # exclui stopwords\n",
    "    # limpa os número que não estão na lista de aplicações (colocar depois das stopwords)\n",
    "    desc=descricao.upper().split() # quebra a descrição\n",
    "    dif=list(set(descricao.upper().split()).difference(palavrasChave)) # pega os termos diferentes de palavrasChave\n",
    "    [desc.remove(x) for x in desc if (x in dif and x.isnumeric())] # exclui de desc os termos numéricos diferentes\n",
    "    descricao=\" \".join(desc).lower() # volta para texto\n",
    "    #remover hífen, letras ou números soltos (deixar duplicado mesmo)\n",
    "    descricao=re.sub(r\"(^-| -|- |\\b\\w\\b)\", ' ', descricao)\n",
    "    descricao=re.sub(r\"(^-| -|- |\\b\\w\\b)\", ' ', descricao)\n",
    "    #substitui remove o i das cilindradas: ex.: 125i por 125\n",
    "    termos=re.findall(r\"\\d{1,}i\\b\",descricao)\n",
    "    if termos:\n",
    "        for termo in termos:descricao=descricao.replace(termo,termo[:-1])\n",
    "    # remove espaços em excesso (colocar no final)\n",
    "    descricao=re.sub(r\" {2,}\", ' ', descricao)\n",
    "    descricao=descricao.strip()\n",
    "    # retorna a descricao como saída da função\n",
    "    return descricao # retorna a descrição"
   ]
  },
  {
   "cell_type": "markdown",
   "metadata": {},
   "source": [
    "#### Exemplo de execução da função"
   ]
  },
  {
   "cell_type": "code",
   "execution_count": 22,
   "metadata": {},
   "outputs": [],
   "source": [
    "linha=745"
   ]
  },
  {
   "cell_type": "code",
   "execution_count": 23,
   "metadata": {},
   "outputs": [
    {
     "data": {
      "text/plain": [
       "'KIT TRANSMISSÃO PARA MOTOCICLETAS,COMPOSTO DE CORRENTE,PINHAO E COROA,PARA MODELOS DIVERSOS DE MOTOCICLETAS (KIT C 100 BIZ (13-15) 34Z X 14Z WITH CHAIN 428H X 108L - TITANIUM (1045)) MODELO KIT C 100 BIZ (13-15) 34Z X 14Z WITH CHAIN 428H X 108L - TIT'"
      ]
     },
     "execution_count": 23,
     "metadata": {},
     "output_type": "execute_result"
    }
   ],
   "source": [
    "df.iloc[linha]['DESCRICAO DO PRODUTO']"
   ]
  },
  {
   "cell_type": "code",
   "execution_count": 24,
   "metadata": {},
   "outputs": [
    {
     "data": {
      "text/plain": [
       "'c100 biz titan'"
      ]
     },
     "execution_count": 24,
     "metadata": {},
     "output_type": "execute_result"
    }
   ],
   "source": [
    "limpaDescricao(df.iloc[linha]['DESCRICAO DO PRODUTO'])"
   ]
  },
  {
   "cell_type": "markdown",
   "metadata": {},
   "source": [
    "#### Execução da função para criação da coluna DESCRICAO limpa"
   ]
  },
  {
   "cell_type": "code",
   "execution_count": 25,
   "metadata": {},
   "outputs": [
    {
     "name": "stdout",
     "output_type": "stream",
     "text": [
      "Tempo de execução: 7.8 segundos.\n"
     ]
    }
   ],
   "source": [
    "ini=time.time()\n",
    "df['DESCRICAO']=df['DESCRICAO DO PRODUTO'].apply(limpaDescricao)\n",
    "fim=time.time()\n",
    "print(f'Tempo de execução: {fim-ini:.2} segundos.')"
   ]
  },
  {
   "cell_type": "code",
   "execution_count": 26,
   "metadata": {},
   "outputs": [
    {
     "data": {
      "text/html": [
       "<div>\n",
       "<style scoped>\n",
       "    .dataframe tbody tr th:only-of-type {\n",
       "        vertical-align: middle;\n",
       "    }\n",
       "\n",
       "    .dataframe tbody tr th {\n",
       "        vertical-align: top;\n",
       "    }\n",
       "\n",
       "    .dataframe thead th {\n",
       "        text-align: right;\n",
       "    }\n",
       "</style>\n",
       "<table border=\"1\" class=\"dataframe\">\n",
       "  <thead>\n",
       "    <tr style=\"text-align: right;\">\n",
       "      <th></th>\n",
       "      <th>PAIS DE ORIGEM</th>\n",
       "      <th>DESCRICAO DO PRODUTO</th>\n",
       "      <th>VALOR UN.PROD.DOLAR</th>\n",
       "      <th>DESCRICAO</th>\n",
       "    </tr>\n",
       "  </thead>\n",
       "  <tbody>\n",
       "    <tr>\n",
       "      <th>10292</th>\n",
       "      <td>CHINA, REPUBLICA POP</td>\n",
       "      <td>-54T17T/428H132L - KIT TRANSMISSAO EM ACO COMP...</td>\n",
       "      <td>3.600100</td>\n",
       "      <td></td>\n",
       "    </tr>\n",
       "    <tr>\n",
       "      <th>1897</th>\n",
       "      <td>CHINA, REPUBLICA POP</td>\n",
       "      <td>ENGRENAGENS PARA TRANSMISSÃO DE MOTOCICLETAS E...</td>\n",
       "      <td>3.713600</td>\n",
       "      <td>c100 biz</td>\n",
       "    </tr>\n",
       "    <tr>\n",
       "      <th>12069</th>\n",
       "      <td>CHINA, REPUBLICA POP</td>\n",
       "      <td>10530031 IN KIT TRANSMISSAO P/MOTOCICLETAS(COR...</td>\n",
       "      <td>3.744000</td>\n",
       "      <td>spee</td>\n",
       "    </tr>\n",
       "    <tr>\n",
       "      <th>2927</th>\n",
       "      <td>CHINA, REPUBLICA POP</td>\n",
       "      <td>007308# KIT TRANSMISSAO STANDARD TEMP. COMPL. ...</td>\n",
       "      <td>3.221500</td>\n",
       "      <td>suzuki yes intruder katana 125</td>\n",
       "    </tr>\n",
       "    <tr>\n",
       "      <th>12202</th>\n",
       "      <td>CHINA, REPUBLICA POP</td>\n",
       "      <td>91256 KIT CG 160 TITAN (16-19) / CG 160 FAN (1...</td>\n",
       "      <td>9.711875</td>\n",
       "      <td>cg 160 titan fan start cargo</td>\n",
       "    </tr>\n",
       "  </tbody>\n",
       "</table>\n",
       "</div>"
      ],
      "text/plain": [
       "             PAIS DE ORIGEM  \\\n",
       "10292  CHINA, REPUBLICA POP   \n",
       "1897   CHINA, REPUBLICA POP   \n",
       "12069  CHINA, REPUBLICA POP   \n",
       "2927   CHINA, REPUBLICA POP   \n",
       "12202  CHINA, REPUBLICA POP   \n",
       "\n",
       "                                    DESCRICAO DO PRODUTO  VALOR UN.PROD.DOLAR  \\\n",
       "10292  -54T17T/428H132L - KIT TRANSMISSAO EM ACO COMP...             3.600100   \n",
       "1897   ENGRENAGENS PARA TRANSMISSÃO DE MOTOCICLETAS E...             3.713600   \n",
       "12069  10530031 IN KIT TRANSMISSAO P/MOTOCICLETAS(COR...             3.744000   \n",
       "2927   007308# KIT TRANSMISSAO STANDARD TEMP. COMPL. ...             3.221500   \n",
       "12202  91256 KIT CG 160 TITAN (16-19) / CG 160 FAN (1...             9.711875   \n",
       "\n",
       "                            DESCRICAO  \n",
       "10292                                  \n",
       "1897                         c100 biz  \n",
       "12069                            spee  \n",
       "2927   suzuki yes intruder katana 125  \n",
       "12202    cg 160 titan fan start cargo  "
      ]
     },
     "execution_count": 26,
     "metadata": {},
     "output_type": "execute_result"
    }
   ],
   "source": [
    "df.sample(5)"
   ]
  },
  {
   "cell_type": "code",
   "execution_count": 27,
   "metadata": {},
   "outputs": [
    {
     "data": {
      "text/plain": [
       "'c100 biz titan'"
      ]
     },
     "execution_count": 27,
     "metadata": {},
     "output_type": "execute_result"
    }
   ],
   "source": [
    "df['DESCRICAO'].iloc[linha]"
   ]
  },
  {
   "cell_type": "markdown",
   "metadata": {},
   "source": [
    "### Criação de colunas Modelo"
   ]
  },
  {
   "cell_type": "markdown",
   "metadata": {},
   "source": [
    "#### Função de determinação de palavras chave na coluna Modelo"
   ]
  },
  {
   "cell_type": "code",
   "execution_count": 28,
   "metadata": {},
   "outputs": [],
   "source": [
    "def achaPalavraChave(descricao):\n",
    "    palavras=[]\n",
    "    descricao=descricao.upper()\n",
    "    desc=descricao.split()\n",
    "    for palavra in palavrasChave:\n",
    "        if palavra in desc:\n",
    "            palavras.append(palavra)\n",
    "        else:\n",
    "            if palavra.isnumeric():\n",
    "                pat=r\"[0-9]*\"+str(palavra)+r\"[0-9]*\"\n",
    "            elif palavra.isalpha():\n",
    "                pat=r\"[A-Z]*\"+str(palavra)+r\"[A-Z]*\"\n",
    "            else:\n",
    "                pat=r\"\\b\"+palavra+r\"\\b\"\n",
    "            a = re.findall(pat,descricao)\n",
    "            if len(a)>0:\n",
    "                 # adiciona resultado nas palavras se o resultado estiver em palavrasChave\n",
    "                palavras+=[a[i] for i in range(len(a)) if a[i] in palavrasChave]\n",
    "    palavras=list(set(palavras)) # remove duplicados\n",
    "    palavras=\" \".join(palavras) # converte para string\n",
    "    return palavras.lower()"
   ]
  },
  {
   "cell_type": "code",
   "execution_count": 29,
   "metadata": {},
   "outputs": [
    {
     "data": {
      "text/plain": [
       "'c100 titan biz'"
      ]
     },
     "execution_count": 29,
     "metadata": {},
     "output_type": "execute_result"
    }
   ],
   "source": [
    "achaPalavraChave(limpaDescricao(df['DESCRICAO DO PRODUTO'].iloc[linha]))"
   ]
  },
  {
   "cell_type": "markdown",
   "metadata": {},
   "source": [
    "#### Função para acrescentar a marca da motocicleta"
   ]
  },
  {
   "cell_type": "code",
   "execution_count": 30,
   "metadata": {},
   "outputs": [],
   "source": [
    "# termos que iniciam item da descrição correspondem a marca\n",
    "# As que começam com espaço devem permanecer assim, pois há outros modelos com o mesmo final\n",
    "Marcas = {'HONDA': ['CG','CD','CBX','CB','CBR','CRF','BIZ','BROS','BROZ','XL',' FAN','XR','XRE'\n",
    "                    'DREAM','TITAN','TODAY','TWIN','POP','NX','NXR','TWISTER', 'HORNET',\n",
    "                    'AMERICA','BOLDOR','DUTY','FIREBLADE','FURY','WING','LEAD','MAGNA','NL',\n",
    "                    ' NC','NSR','NC','NXR','PACIFIC','COAST','SHADOW',' STRADA','STUNNER','HAWK',\n",
    "                    'SUPERBLACKBIRD','TORNADO','TURUNA','XRV','AFRICA','VALKYRIE','VARADERO',\n",
    "                    'VFR','VLR','VTR','VTX','TRANSALP'],\n",
    "          'YAMAHA': ['AEROX','ALBA','AXIS','BWS','DRAG ','DT','FZ','FJ',' RD','TENERE',\n",
    "                     'MT','XF','XJ','XS','XT','XZ','YF','YZ','LANDER','GLADIATOR','GRIZZLY',\n",
    "                     'YBR','YZ','VIRAGO','FACTOR','EC','CRYPTON','FAZER','JOG',' LANDER',\n",
    "                     'FROG','LIBERO','MAJESTY','MEST','MIDNIGHT','MORPH','NEO','PASSOL'],\n",
    "          'DAFRA': ['APACHE','CITYCOM','KANSAS','LASER','NEXT','RIVA','ROADWIN','ZIG','SPEED'],\n",
    "          'SUZUKI': ['KATANA','YES','INTRUDER'],\n",
    "          'ZONGSHEN': ['ZS'],\n",
    "          'KASINSKI': ['COMET','MIRAGE'],\n",
    "          'POLARIS': ['SPORTSMAN','RZR','RANGER'],\n",
    "          'KAWASAKI': ['NINJA','VERSYS','VOYAGER','GTR','KDX','KL','KX','KZ','ZR','ZZ','ER6N','ER6F'],\n",
    "          'DAYANG': ['DY1','DY2','DY5'],\n",
    "          'SUNDOWN': ['WEB','FIFITY','PALIO','PGO','STX','VBLADE','EVO', 'HUNTER MAX'],\n",
    "          'SHINERAY': ['BIKE','BRAVO','DISCOVER','EAGLE','INDIANAPOLIS','JET','NEW','WAVE',\n",
    "                       'STRONG','SUPER SMART','VENICE',' XY']}"
   ]
  },
  {
   "cell_type": "code",
   "execution_count": 31,
   "metadata": {},
   "outputs": [],
   "source": [
    "# Função para pegar a chave pelo valor, dado que valor é único.\n",
    "def pegaChave(v, dict):\n",
    "    for chave, valores in dict.items():\n",
    "        if type(valores)!=type([1,2]):\n",
    "            valores=[valores]\n",
    "        for valor in valores:\n",
    "            if v == valor:\n",
    "                return chave\n",
    "    return \"Não existe chave para esse valor.\""
   ]
  },
  {
   "cell_type": "code",
   "execution_count": 32,
   "metadata": {},
   "outputs": [],
   "source": [
    "def acrescentaMarca(descricao):\n",
    "    for marca in Marcas:\n",
    "        if re.search(marca,descricao.upper()):\n",
    "            descricao += \" \"+marca\n",
    "        for termo in Marcas[marca]:\n",
    "            t1=termo.split()\n",
    "            if len(t1)>1:\n",
    "                pat=r\"(?:\"+t1[0]+r\"|\"+t1[1]+r\").*(?:\"+t1[0]+r\"|\"+t1[1]+r\")\"\n",
    "            elif len(termo)<3:\n",
    "                pat=termo+r\"([0-9]{1,}|\\b)\"\n",
    "            else:\n",
    "                pat=termo\n",
    "            resultados = re.findall(pat,descricao.upper())\n",
    "            if resultados:\n",
    "                descricao += \" \"+marca\n",
    "                descricao += \" \"+\" \".join(resultados)\n",
    "                descricao += \" \"+termo\n",
    "    descricao=\" \".join(sorted(set(descricao.lower().split())))\n",
    "    return descricao"
   ]
  },
  {
   "cell_type": "code",
   "execution_count": 33,
   "metadata": {},
   "outputs": [
    {
     "data": {
      "text/plain": [
       "'biz c100 honda titan'"
      ]
     },
     "execution_count": 33,
     "metadata": {},
     "output_type": "execute_result"
    }
   ],
   "source": [
    "acrescentaMarca(achaPalavraChave(limpaDescricao(df['DESCRICAO DO PRODUTO'].iloc[linha])))"
   ]
  },
  {
   "cell_type": "markdown",
   "metadata": {},
   "source": [
    "### Aplica as funções\n",
    "Tenha paciência, demora cerca de 1 minuto para cada mil registros."
   ]
  },
  {
   "cell_type": "code",
   "execution_count": 34,
   "metadata": {},
   "outputs": [
    {
     "data": {
      "text/plain": [
       "'c100 biz titan'"
      ]
     },
     "execution_count": 34,
     "metadata": {},
     "output_type": "execute_result"
    }
   ],
   "source": [
    "# cria as colunas\n",
    "df=df.assign(Modelo=df['DESCRICAO'])\n",
    "df.iloc[linha]['DESCRICAO'] "
   ]
  },
  {
   "cell_type": "code",
   "execution_count": 35,
   "metadata": {},
   "outputs": [
    {
     "data": {
      "text/html": [
       "<div>\n",
       "<style scoped>\n",
       "    .dataframe tbody tr th:only-of-type {\n",
       "        vertical-align: middle;\n",
       "    }\n",
       "\n",
       "    .dataframe tbody tr th {\n",
       "        vertical-align: top;\n",
       "    }\n",
       "\n",
       "    .dataframe thead th {\n",
       "        text-align: right;\n",
       "    }\n",
       "</style>\n",
       "<table border=\"1\" class=\"dataframe\">\n",
       "  <thead>\n",
       "    <tr style=\"text-align: right;\">\n",
       "      <th></th>\n",
       "      <th>DESCRICAO</th>\n",
       "      <th>Modelo</th>\n",
       "    </tr>\n",
       "  </thead>\n",
       "  <tbody>\n",
       "    <tr>\n",
       "      <th>7430</th>\n",
       "      <td>nxr-125 broz</td>\n",
       "      <td>nxr-125 broz</td>\n",
       "    </tr>\n",
       "    <tr>\n",
       "      <th>7152</th>\n",
       "      <td>crf 230</td>\n",
       "      <td>crf 230</td>\n",
       "    </tr>\n",
       "    <tr>\n",
       "      <th>4746</th>\n",
       "      <td>titan 160</td>\n",
       "      <td>titan 160</td>\n",
       "    </tr>\n",
       "    <tr>\n",
       "      <th>15923</th>\n",
       "      <td>xls 125 96</td>\n",
       "      <td>xls 125 96</td>\n",
       "    </tr>\n",
       "    <tr>\n",
       "      <th>4524</th>\n",
       "      <td>xls-125</td>\n",
       "      <td>xls-125</td>\n",
       "    </tr>\n",
       "  </tbody>\n",
       "</table>\n",
       "</div>"
      ],
      "text/plain": [
       "          DESCRICAO        Modelo\n",
       "7430   nxr-125 broz  nxr-125 broz\n",
       "7152        crf 230       crf 230\n",
       "4746      titan 160     titan 160\n",
       "15923    xls 125 96    xls 125 96\n",
       "4524        xls-125       xls-125"
      ]
     },
     "execution_count": 35,
     "metadata": {},
     "output_type": "execute_result"
    }
   ],
   "source": [
    "df.iloc[:,-2:].sample(5)"
   ]
  },
  {
   "cell_type": "code",
   "execution_count": 36,
   "metadata": {},
   "outputs": [
    {
     "name": "stdout",
     "output_type": "stream",
     "text": [
      "Hora de início:16:36\n",
      "Tempo estimado de execução: 18 minutos.\n",
      "\n",
      "Buscando palavras chave... Aguarde...\n",
      "\n",
      "Buscando marcas... Aguarde...\n",
      "\n",
      "Hora de término:16:52\n",
      "Tempo decorrido: 16.57 minutos.\n"
     ]
    }
   ],
   "source": [
    "# aplica as funções a cada coluna\n",
    "ini=time.time()\n",
    "now = time.strftime(\"%H:%M\", time.localtime(time.time()))\n",
    "print(\"Hora de início:\" + now)\n",
    "print(f\"Tempo estimado de execução: {df.shape[0]//1000} minutos.\") # 1000 registros por minuto\n",
    "\n",
    "print('\\nBuscando palavras chave... Aguarde...')\n",
    "df['Modelo']=df['Modelo'].apply(achaPalavraChave)\n",
    "\n",
    "print('\\nBuscando marcas... Aguarde...')\n",
    "df['Modelo']=df['Modelo'].apply(acrescentaMarca)\n",
    "\n",
    "now = time.strftime(\"%H:%M\", time.localtime(time.time()))\n",
    "fim=time.time()\n",
    "print(\"\\nHora de término:\" + str(now))\n",
    "print(\"Tempo decorrido: \" + str(round((fim-ini)/60,2)) + \" minutos.\")"
   ]
  },
  {
   "cell_type": "code",
   "execution_count": 37,
   "metadata": {},
   "outputs": [
    {
     "data": {
      "text/plain": [
       "'KIT TRANSMISSÃO PARA MOTOCICLETAS,COMPOSTO DE CORRENTE,PINHAO E COROA,PARA MODELOS DIVERSOS DE MOTOCICLETAS (KIT C 100 BIZ (13-15) 34Z X 14Z WITH CHAIN 428H X 108L - TITANIUM (1045)) MODELO KIT C 100 BIZ (13-15) 34Z X 14Z WITH CHAIN 428H X 108L - TIT'"
      ]
     },
     "execution_count": 37,
     "metadata": {},
     "output_type": "execute_result"
    }
   ],
   "source": [
    "df['DESCRICAO DO PRODUTO'].iloc[linha]"
   ]
  },
  {
   "cell_type": "code",
   "execution_count": 38,
   "metadata": {
    "scrolled": true
   },
   "outputs": [
    {
     "data": {
      "text/html": [
       "<div>\n",
       "<style scoped>\n",
       "    .dataframe tbody tr th:only-of-type {\n",
       "        vertical-align: middle;\n",
       "    }\n",
       "\n",
       "    .dataframe tbody tr th {\n",
       "        vertical-align: top;\n",
       "    }\n",
       "\n",
       "    .dataframe thead th {\n",
       "        text-align: right;\n",
       "    }\n",
       "</style>\n",
       "<table border=\"1\" class=\"dataframe\">\n",
       "  <thead>\n",
       "    <tr style=\"text-align: right;\">\n",
       "      <th></th>\n",
       "      <th>DESCRICAO DO PRODUTO</th>\n",
       "      <th>DESCRICAO</th>\n",
       "      <th>Modelo</th>\n",
       "    </tr>\n",
       "  </thead>\n",
       "  <tbody>\n",
       "    <tr>\n",
       "      <th>3123</th>\n",
       "      <td>21989 - 71815 - KIT DE TRANSMISSAO PARA MOTOCI...</td>\n",
       "      <td>ybr 125 factor</td>\n",
       "      <td>125 factor yamaha ybr</td>\n",
       "    </tr>\n",
       "    <tr>\n",
       "      <th>13490</th>\n",
       "      <td>20257/i45 - KIT DE TRANSMISSÃO EM AÇO 1045, MA...</td>\n",
       "      <td>xtz150 crosser</td>\n",
       "      <td>150 crosser xtz</td>\n",
       "    </tr>\n",
       "    <tr>\n",
       "      <th>9440</th>\n",
       "      <td>TM10300 - KIT DE TRANSMISSÃO COMPOSTO DE COROA...</td>\n",
       "      <td>yamaha yes 125 14</td>\n",
       "      <td>125 suzuki yamaha yes</td>\n",
       "    </tr>\n",
       "    <tr>\n",
       "      <th>11269</th>\n",
       "      <td>KIT DE TRANSMISSÃO EM AÇO 1045, PARA USO EM MO...</td>\n",
       "      <td>titan</td>\n",
       "      <td>honda titan</td>\n",
       "    </tr>\n",
       "    <tr>\n",
       "      <th>6473</th>\n",
       "      <td>KIT DE TRANSMISSAO PARA MOTOCICLETA, CONTENDO ...</td>\n",
       "      <td>titan fan *</td>\n",
       "      <td>fan honda titan</td>\n",
       "    </tr>\n",
       "  </tbody>\n",
       "</table>\n",
       "</div>"
      ],
      "text/plain": [
       "                                    DESCRICAO DO PRODUTO          DESCRICAO  \\\n",
       "3123   21989 - 71815 - KIT DE TRANSMISSAO PARA MOTOCI...     ybr 125 factor   \n",
       "13490  20257/i45 - KIT DE TRANSMISSÃO EM AÇO 1045, MA...     xtz150 crosser   \n",
       "9440   TM10300 - KIT DE TRANSMISSÃO COMPOSTO DE COROA...  yamaha yes 125 14   \n",
       "11269  KIT DE TRANSMISSÃO EM AÇO 1045, PARA USO EM MO...              titan   \n",
       "6473   KIT DE TRANSMISSAO PARA MOTOCICLETA, CONTENDO ...        titan fan *   \n",
       "\n",
       "                      Modelo  \n",
       "3123   125 factor yamaha ybr  \n",
       "13490        150 crosser xtz  \n",
       "9440   125 suzuki yamaha yes  \n",
       "11269            honda titan  \n",
       "6473         fan honda titan  "
      ]
     },
     "execution_count": 38,
     "metadata": {},
     "output_type": "execute_result"
    }
   ],
   "source": [
    "df[['DESCRICAO DO PRODUTO','DESCRICAO','Modelo']].sample(5)"
   ]
  },
  {
   "cell_type": "code",
   "execution_count": 39,
   "metadata": {},
   "outputs": [],
   "source": [
    "df_sem_modelo = df[df['Modelo']=='']\n",
    "df_sem_modelo['DESCRICAO'].to_excel(\"./bases/sem_modelo.xlsx\")"
   ]
  },
  {
   "cell_type": "code",
   "execution_count": 40,
   "metadata": {},
   "outputs": [
    {
     "data": {
      "text/html": [
       "<div>\n",
       "<style scoped>\n",
       "    .dataframe tbody tr th:only-of-type {\n",
       "        vertical-align: middle;\n",
       "    }\n",
       "\n",
       "    .dataframe tbody tr th {\n",
       "        vertical-align: top;\n",
       "    }\n",
       "\n",
       "    .dataframe thead th {\n",
       "        text-align: right;\n",
       "    }\n",
       "</style>\n",
       "<table border=\"1\" class=\"dataframe\">\n",
       "  <thead>\n",
       "    <tr style=\"text-align: right;\">\n",
       "      <th></th>\n",
       "      <th>DESCRICAO DO PRODUTO</th>\n",
       "      <th>DESCRICAO</th>\n",
       "      <th>Modelo</th>\n",
       "    </tr>\n",
       "  </thead>\n",
       "  <tbody>\n",
       "    <tr>\n",
       "      <th>9362</th>\n",
       "      <td>3 - PARTES E ACESSORIOS DE MOTOCICLETA, SENDO ...</td>\n",
       "      <td>49</td>\n",
       "      <td></td>\n",
       "    </tr>\n",
       "    <tr>\n",
       "      <th>5586</th>\n",
       "      <td>TRANSMISSAO PARA USO EM MOTOCICLETA COMPOSTO D...</td>\n",
       "      <td></td>\n",
       "      <td></td>\n",
       "    </tr>\n",
       "    <tr>\n",
       "      <th>8166</th>\n",
       "      <td>KIT TRANSMISSÃO AÇO (1045), COMPOSTO DE CORREN...</td>\n",
       "      <td></td>\n",
       "      <td></td>\n",
       "    </tr>\n",
       "    <tr>\n",
       "      <th>3249</th>\n",
       "      <td>45T14T/428H118L- KIT TRANSMISSAO EM ACO COMPOS...</td>\n",
       "      <td></td>\n",
       "      <td></td>\n",
       "    </tr>\n",
       "    <tr>\n",
       "      <th>9048</th>\n",
       "      <td>2 - PARTES E ACESSORIOS DE MOTOCICLETA, SENDO ...</td>\n",
       "      <td>34 100</td>\n",
       "      <td></td>\n",
       "    </tr>\n",
       "    <tr>\n",
       "      <th>3482</th>\n",
       "      <td>REF: 428HX118LX43TX14T (1104983) -KIT TRANSMIS...</td>\n",
       "      <td></td>\n",
       "      <td></td>\n",
       "    </tr>\n",
       "    <tr>\n",
       "      <th>10253</th>\n",
       "      <td>TRANSMISSAO PARA USO EM MOTOCICLETA COMPOSTO D...</td>\n",
       "      <td></td>\n",
       "      <td></td>\n",
       "    </tr>\n",
       "    <tr>\n",
       "      <th>9365</th>\n",
       "      <td>6 - PARTES E ACESSORIOS DE MOTOCICLETA, SENDO ...</td>\n",
       "      <td>45</td>\n",
       "      <td></td>\n",
       "    </tr>\n",
       "    <tr>\n",
       "      <th>13083</th>\n",
       "      <td>KIT TRANSMISSÃO AÇO (1045), COMPOSTO DE CORREN...</td>\n",
       "      <td></td>\n",
       "      <td></td>\n",
       "    </tr>\n",
       "    <tr>\n",
       "      <th>17756</th>\n",
       "      <td>001-P21B-00600 - Kit transmissao Titanium para...</td>\n",
       "      <td></td>\n",
       "      <td></td>\n",
       "    </tr>\n",
       "  </tbody>\n",
       "</table>\n",
       "</div>"
      ],
      "text/plain": [
       "                                    DESCRICAO DO PRODUTO DESCRICAO Modelo\n",
       "9362   3 - PARTES E ACESSORIOS DE MOTOCICLETA, SENDO ...        49       \n",
       "5586   TRANSMISSAO PARA USO EM MOTOCICLETA COMPOSTO D...                 \n",
       "8166   KIT TRANSMISSÃO AÇO (1045), COMPOSTO DE CORREN...                 \n",
       "3249   45T14T/428H118L- KIT TRANSMISSAO EM ACO COMPOS...                 \n",
       "9048   2 - PARTES E ACESSORIOS DE MOTOCICLETA, SENDO ...    34 100       \n",
       "3482   REF: 428HX118LX43TX14T (1104983) -KIT TRANSMIS...                 \n",
       "10253  TRANSMISSAO PARA USO EM MOTOCICLETA COMPOSTO D...                 \n",
       "9365   6 - PARTES E ACESSORIOS DE MOTOCICLETA, SENDO ...        45       \n",
       "13083  KIT TRANSMISSÃO AÇO (1045), COMPOSTO DE CORREN...                 \n",
       "17756  001-P21B-00600 - Kit transmissao Titanium para...                 "
      ]
     },
     "execution_count": 40,
     "metadata": {},
     "output_type": "execute_result"
    }
   ],
   "source": [
    "df_sem_modelo[['DESCRICAO DO PRODUTO','DESCRICAO','Modelo']].sample(10)"
   ]
  },
  {
   "cell_type": "code",
   "execution_count": 41,
   "metadata": {},
   "outputs": [
    {
     "data": {
      "text/plain": [
       "(792, 5)"
      ]
     },
     "execution_count": 41,
     "metadata": {},
     "output_type": "execute_result"
    }
   ],
   "source": [
    "df_sem_modelo.shape"
   ]
  },
  {
   "cell_type": "code",
   "execution_count": 42,
   "metadata": {},
   "outputs": [
    {
     "data": {
      "text/html": [
       "<div>\n",
       "<style scoped>\n",
       "    .dataframe tbody tr th:only-of-type {\n",
       "        vertical-align: middle;\n",
       "    }\n",
       "\n",
       "    .dataframe tbody tr th {\n",
       "        vertical-align: top;\n",
       "    }\n",
       "\n",
       "    .dataframe thead th {\n",
       "        text-align: right;\n",
       "    }\n",
       "</style>\n",
       "<table border=\"1\" class=\"dataframe\">\n",
       "  <thead>\n",
       "    <tr style=\"text-align: right;\">\n",
       "      <th></th>\n",
       "      <th>PAIS DE ORIGEM</th>\n",
       "      <th>DESCRICAO DO PRODUTO</th>\n",
       "      <th>VALOR UN.PROD.DOLAR</th>\n",
       "      <th>DESCRICAO</th>\n",
       "      <th>Modelo</th>\n",
       "    </tr>\n",
       "  </thead>\n",
       "  <tbody>\n",
       "    <tr>\n",
       "      <th>0</th>\n",
       "      <td>CHINA, REPUBLICA POP</td>\n",
       "      <td>KIT DE TRANSMISSÃO, COMPOSTO DE COROA, CORRENT...</td>\n",
       "      <td>3.900000</td>\n",
       "      <td>f80 kits</td>\n",
       "      <td></td>\n",
       "    </tr>\n",
       "    <tr>\n",
       "      <th>1</th>\n",
       "      <td>CHINA, REPUBLICA POP</td>\n",
       "      <td>KIT TRANSMISSÃO AÇO (1045), COMPOSTO DE CORREN...</td>\n",
       "      <td>3.809000</td>\n",
       "      <td></td>\n",
       "      <td></td>\n",
       "    </tr>\n",
       "    <tr>\n",
       "      <th>2</th>\n",
       "      <td>CHINA, REPUBLICA POP</td>\n",
       "      <td>KIT TRANSMISSÃO AÇO (1045), COMPOSTO DE CORREN...</td>\n",
       "      <td>4.052000</td>\n",
       "      <td></td>\n",
       "      <td></td>\n",
       "    </tr>\n",
       "    <tr>\n",
       "      <th>3</th>\n",
       "      <td>CHINA, REPUBLICA POP</td>\n",
       "      <td>KIT TRANSMISSÃO AÇO (1045), COMPOSTO DE CORREN...</td>\n",
       "      <td>3.876000</td>\n",
       "      <td></td>\n",
       "      <td></td>\n",
       "    </tr>\n",
       "    <tr>\n",
       "      <th>4</th>\n",
       "      <td>CHINA, REPUBLICA POP</td>\n",
       "      <td>KIT TRANSMISSÃO AÇO (1045), COMPOSTO DE CORREN...</td>\n",
       "      <td>3.877000</td>\n",
       "      <td></td>\n",
       "      <td></td>\n",
       "    </tr>\n",
       "    <tr>\n",
       "      <th>5</th>\n",
       "      <td>CHINA, REPUBLICA POP</td>\n",
       "      <td>KIT TRANSMISSÃO AÇO (1045), COMPOSTO DE CORREN...</td>\n",
       "      <td>3.294000</td>\n",
       "      <td></td>\n",
       "      <td></td>\n",
       "    </tr>\n",
       "    <tr>\n",
       "      <th>6</th>\n",
       "      <td>CHINA, REPUBLICA POP</td>\n",
       "      <td>KIT TRANSMISSÃO AÇO (1045), COMPOSTO DE CORREN...</td>\n",
       "      <td>3.871000</td>\n",
       "      <td></td>\n",
       "      <td></td>\n",
       "    </tr>\n",
       "    <tr>\n",
       "      <th>7</th>\n",
       "      <td>CHINA, REPUBLICA POP</td>\n",
       "      <td>KIT TRANSMISSÃO AÇO (1045), COMPOSTO DE CORREN...</td>\n",
       "      <td>4.173000</td>\n",
       "      <td></td>\n",
       "      <td></td>\n",
       "    </tr>\n",
       "    <tr>\n",
       "      <th>8</th>\n",
       "      <td>CHINA, REPUBLICA POP</td>\n",
       "      <td>KIT TRANSMISSÃO AÇO (1045), COMPOSTO DE CORREN...</td>\n",
       "      <td>3.673000</td>\n",
       "      <td></td>\n",
       "      <td></td>\n",
       "    </tr>\n",
       "    <tr>\n",
       "      <th>9</th>\n",
       "      <td>CHINA, REPUBLICA POP</td>\n",
       "      <td>KIT TRANSMISSÃO AÇO (1045), COMPOSTO DE CORREN...</td>\n",
       "      <td>3.877000</td>\n",
       "      <td></td>\n",
       "      <td></td>\n",
       "    </tr>\n",
       "    <tr>\n",
       "      <th>10</th>\n",
       "      <td>CHINA, REPUBLICA POP</td>\n",
       "      <td>KIT TRANSMISSÃO AÇO (1045), COMPOSTO DE CORREN...</td>\n",
       "      <td>4.166000</td>\n",
       "      <td></td>\n",
       "      <td></td>\n",
       "    </tr>\n",
       "    <tr>\n",
       "      <th>11</th>\n",
       "      <td>CHINA, REPUBLICA POP</td>\n",
       "      <td>KIT TRANSMISSÃO AÇO (1045), COMPOSTO DE CORREN...</td>\n",
       "      <td>3.849000</td>\n",
       "      <td></td>\n",
       "      <td></td>\n",
       "    </tr>\n",
       "    <tr>\n",
       "      <th>12</th>\n",
       "      <td>CHINA, REPUBLICA POP</td>\n",
       "      <td>880375 - KIT DE TRANSMISSÃO, COMPOSTO DE CORRE...</td>\n",
       "      <td>3.329221</td>\n",
       "      <td>spee</td>\n",
       "      <td></td>\n",
       "    </tr>\n",
       "    <tr>\n",
       "      <th>13</th>\n",
       "      <td>CHINA, REPUBLICA POP</td>\n",
       "      <td>880349 - KIT DE TRANSMISSÃO, COMPOSTO DE CORRE...</td>\n",
       "      <td>3.813052</td>\n",
       "      <td>come</td>\n",
       "      <td></td>\n",
       "    </tr>\n",
       "    <tr>\n",
       "      <th>14</th>\n",
       "      <td>CHINA, REPUBLICA POP</td>\n",
       "      <td>KIT TRANSMISSÃO AÇO (1045), COMPOSTO DE CORREN...</td>\n",
       "      <td>4.166000</td>\n",
       "      <td></td>\n",
       "      <td></td>\n",
       "    </tr>\n",
       "    <tr>\n",
       "      <th>15</th>\n",
       "      <td>CHINA, REPUBLICA POP</td>\n",
       "      <td>KIT TRANSMISSÃO AÇO (1045), COMPOSTO DE CORREN...</td>\n",
       "      <td>3.809000</td>\n",
       "      <td></td>\n",
       "      <td></td>\n",
       "    </tr>\n",
       "    <tr>\n",
       "      <th>16</th>\n",
       "      <td>CHINA, REPUBLICA POP</td>\n",
       "      <td>KIT TRANSMISSÃO AÇO (1045), COMPOSTO DE CORREN...</td>\n",
       "      <td>3.213000</td>\n",
       "      <td></td>\n",
       "      <td></td>\n",
       "    </tr>\n",
       "    <tr>\n",
       "      <th>17</th>\n",
       "      <td>CHINA, REPUBLICA POP</td>\n",
       "      <td>KIT TRANSMISSÃO AÇO (1045), COMPOSTO DE CORREN...</td>\n",
       "      <td>3.279000</td>\n",
       "      <td></td>\n",
       "      <td></td>\n",
       "    </tr>\n",
       "    <tr>\n",
       "      <th>18</th>\n",
       "      <td>CHINA, REPUBLICA POP</td>\n",
       "      <td>KIT TRANSMISSÃO AÇO (1045), COMPOSTO DE CORREN...</td>\n",
       "      <td>3.871000</td>\n",
       "      <td></td>\n",
       "      <td></td>\n",
       "    </tr>\n",
       "    <tr>\n",
       "      <th>19</th>\n",
       "      <td>CHINA, REPUBLICA POP</td>\n",
       "      <td>KIT TRANSMISSÃO AÇO (1045), COMPOSTO DE CORREN...</td>\n",
       "      <td>3.871000</td>\n",
       "      <td></td>\n",
       "      <td></td>\n",
       "    </tr>\n",
       "    <tr>\n",
       "      <th>20</th>\n",
       "      <td>CHINA, REPUBLICA POP</td>\n",
       "      <td>KIT TRANSMISSÃO AÇO (1045), COMPOSTO DE CORREN...</td>\n",
       "      <td>3.909000</td>\n",
       "      <td></td>\n",
       "      <td></td>\n",
       "    </tr>\n",
       "    <tr>\n",
       "      <th>21</th>\n",
       "      <td>CHINA, REPUBLICA POP</td>\n",
       "      <td>980730 KIT DE TRANSMISSÃO, COMPOSTO DE CORRENT...</td>\n",
       "      <td>4.701278</td>\n",
       "      <td>56</td>\n",
       "      <td></td>\n",
       "    </tr>\n",
       "    <tr>\n",
       "      <th>22</th>\n",
       "      <td>CHINA, REPUBLICA POP</td>\n",
       "      <td>070593 - KIT TRANSMISSÃO COMPOSTO DE CORRENTE,...</td>\n",
       "      <td>3.730000</td>\n",
       "      <td>ti x118 aço1045</td>\n",
       "      <td></td>\n",
       "    </tr>\n",
       "    <tr>\n",
       "      <th>23</th>\n",
       "      <td>CHINA, REPUBLICA POP</td>\n",
       "      <td>072165 - KIT TRANSMISSÃO COMPOSTO DE CORRENTE,...</td>\n",
       "      <td>4.846000</td>\n",
       "      <td>15</td>\n",
       "      <td></td>\n",
       "    </tr>\n",
       "    <tr>\n",
       "      <th>24</th>\n",
       "      <td>CHINA, REPUBLICA POP</td>\n",
       "      <td>KIT TRANSMISSÃO AÇO (1045), COMPOSTO DE CORREN...</td>\n",
       "      <td>4.218000</td>\n",
       "      <td></td>\n",
       "      <td></td>\n",
       "    </tr>\n",
       "    <tr>\n",
       "      <th>25</th>\n",
       "      <td>CHINA, REPUBLICA POP</td>\n",
       "      <td>KIT TRANSMISSÃO AÇO (1045), COMPOSTO DE CORREN...</td>\n",
       "      <td>3.918000</td>\n",
       "      <td></td>\n",
       "      <td></td>\n",
       "    </tr>\n",
       "    <tr>\n",
       "      <th>26</th>\n",
       "      <td>CHINA, REPUBLICA POP</td>\n",
       "      <td>KIT TRANSMISSÃO AÇO (1045), COMPOSTO DE CORREN...</td>\n",
       "      <td>3.984000</td>\n",
       "      <td></td>\n",
       "      <td></td>\n",
       "    </tr>\n",
       "    <tr>\n",
       "      <th>27</th>\n",
       "      <td>CHINA, REPUBLICA POP</td>\n",
       "      <td>43T14T/428H116L - KIT TRANSMISSAO EM ACO COMPO...</td>\n",
       "      <td>3.024853</td>\n",
       "      <td></td>\n",
       "      <td></td>\n",
       "    </tr>\n",
       "    <tr>\n",
       "      <th>28</th>\n",
       "      <td>CHINA, REPUBLICA POP</td>\n",
       "      <td>43T16T/428H118L - KIT TRANSMISSAO EM ACO COMPO...</td>\n",
       "      <td>2.975183</td>\n",
       "      <td></td>\n",
       "      <td></td>\n",
       "    </tr>\n",
       "    <tr>\n",
       "      <th>29</th>\n",
       "      <td>CHINA, REPUBLICA POP</td>\n",
       "      <td>80422 KIT DE TRANSMISSÃO, COMPOSTO DE CORRENTE...</td>\n",
       "      <td>9.480000</td>\n",
       "      <td>mt r3 43</td>\n",
       "      <td></td>\n",
       "    </tr>\n",
       "    <tr>\n",
       "      <th>...</th>\n",
       "      <td>...</td>\n",
       "      <td>...</td>\n",
       "      <td>...</td>\n",
       "      <td>...</td>\n",
       "      <td>...</td>\n",
       "    </tr>\n",
       "    <tr>\n",
       "      <th>762</th>\n",
       "      <td>CHINA, REPUBLICA POP</td>\n",
       "      <td>001-P21B-03700 - Kit transmissao Titanium para...</td>\n",
       "      <td>4.100000</td>\n",
       "      <td></td>\n",
       "      <td></td>\n",
       "    </tr>\n",
       "    <tr>\n",
       "      <th>763</th>\n",
       "      <td>CHINA, REPUBLICA POP</td>\n",
       "      <td>001-P21B-04900 - Kit transmissao Titanium para...</td>\n",
       "      <td>4.550000</td>\n",
       "      <td></td>\n",
       "      <td></td>\n",
       "    </tr>\n",
       "    <tr>\n",
       "      <th>764</th>\n",
       "      <td>CHINA, REPUBLICA POP</td>\n",
       "      <td>001-P21B-06100 - Kit transmissao Titanium para...</td>\n",
       "      <td>6.240000</td>\n",
       "      <td></td>\n",
       "      <td></td>\n",
       "    </tr>\n",
       "    <tr>\n",
       "      <th>765</th>\n",
       "      <td>CHINA, REPUBLICA POP</td>\n",
       "      <td>001-P21B-06500 - Kit transmissao Titanium para...</td>\n",
       "      <td>3.460000</td>\n",
       "      <td></td>\n",
       "      <td></td>\n",
       "    </tr>\n",
       "    <tr>\n",
       "      <th>766</th>\n",
       "      <td>CHINA, REPUBLICA POP</td>\n",
       "      <td>001-P21B-06600 - Kit transmissao Titanium para...</td>\n",
       "      <td>3.440000</td>\n",
       "      <td></td>\n",
       "      <td></td>\n",
       "    </tr>\n",
       "    <tr>\n",
       "      <th>767</th>\n",
       "      <td>CHINA, REPUBLICA POP</td>\n",
       "      <td>TRANSMISSAO PARA USO EM MOTOCICLETA COMPOSTO D...</td>\n",
       "      <td>3.990000</td>\n",
       "      <td>ft2368</td>\n",
       "      <td></td>\n",
       "    </tr>\n",
       "    <tr>\n",
       "      <th>768</th>\n",
       "      <td>CHINA, REPUBLICA POP</td>\n",
       "      <td>TRANSMISSAO PARA USO EM MOTOCICLETA COMPOSTO D...</td>\n",
       "      <td>3.990000</td>\n",
       "      <td>ft2388</td>\n",
       "      <td></td>\n",
       "    </tr>\n",
       "    <tr>\n",
       "      <th>769</th>\n",
       "      <td>CHINA, REPUBLICA POP</td>\n",
       "      <td>12565-E - PARTES E PEÇAS DE MOTOCICLETAS, SEND...</td>\n",
       "      <td>2.341216</td>\n",
       "      <td></td>\n",
       "      <td></td>\n",
       "    </tr>\n",
       "    <tr>\n",
       "      <th>770</th>\n",
       "      <td>CHINA, REPUBLICA POP</td>\n",
       "      <td>12570-E - PARTES E PEÇAS DE MOTOCICLETAS, SEND...</td>\n",
       "      <td>2.341216</td>\n",
       "      <td></td>\n",
       "      <td></td>\n",
       "    </tr>\n",
       "    <tr>\n",
       "      <th>771</th>\n",
       "      <td>CHINA, REPUBLICA POP</td>\n",
       "      <td>12588-E - PARTES E PEÇAS DE MOTOCICLETAS, SEND...</td>\n",
       "      <td>2.200000</td>\n",
       "      <td></td>\n",
       "      <td></td>\n",
       "    </tr>\n",
       "    <tr>\n",
       "      <th>772</th>\n",
       "      <td>CHINA, REPUBLICA POP</td>\n",
       "      <td>12591-E - PARTES E PEÇAS DE MOTOCICLETAS, SEND...</td>\n",
       "      <td>2.359939</td>\n",
       "      <td></td>\n",
       "      <td></td>\n",
       "    </tr>\n",
       "    <tr>\n",
       "      <th>773</th>\n",
       "      <td>CHINA, REPUBLICA POP</td>\n",
       "      <td>12603-E - PARTES E PEÇAS DE MOTOCICLETAS, SEND...</td>\n",
       "      <td>3.200000</td>\n",
       "      <td></td>\n",
       "      <td></td>\n",
       "    </tr>\n",
       "    <tr>\n",
       "      <th>774</th>\n",
       "      <td>CHINA, REPUBLICA POP</td>\n",
       "      <td>12604-E - PARTES E PEÇAS DE MOTOCICLETAS, SEND...</td>\n",
       "      <td>3.200000</td>\n",
       "      <td></td>\n",
       "      <td></td>\n",
       "    </tr>\n",
       "    <tr>\n",
       "      <th>775</th>\n",
       "      <td>CHINA, REPUBLICA POP</td>\n",
       "      <td>12578-E - PARTES E PEÇAS DE MOTOCICLETAS, SEND...</td>\n",
       "      <td>3.200000</td>\n",
       "      <td></td>\n",
       "      <td></td>\n",
       "    </tr>\n",
       "    <tr>\n",
       "      <th>776</th>\n",
       "      <td>CHINA, REPUBLICA POP</td>\n",
       "      <td>12580-E - PARTES E PEÇAS DE MOTOCICLETAS, SEND...</td>\n",
       "      <td>2.600000</td>\n",
       "      <td></td>\n",
       "      <td></td>\n",
       "    </tr>\n",
       "    <tr>\n",
       "      <th>777</th>\n",
       "      <td>CHINA, REPUBLICA POP</td>\n",
       "      <td>12606-E - PARTES E PEÇAS DE MOTOCICLETAS, SEND...</td>\n",
       "      <td>3.200000</td>\n",
       "      <td></td>\n",
       "      <td></td>\n",
       "    </tr>\n",
       "    <tr>\n",
       "      <th>778</th>\n",
       "      <td>CHINA, REPUBLICA POP</td>\n",
       "      <td>12566-E - PARTES E PEÇAS DE MOTOCICLETAS, SEND...</td>\n",
       "      <td>2.600000</td>\n",
       "      <td></td>\n",
       "      <td></td>\n",
       "    </tr>\n",
       "    <tr>\n",
       "      <th>779</th>\n",
       "      <td>CHINA, REPUBLICA POP</td>\n",
       "      <td>12562-E - PARTES E PEÇAS DE MOTOCICLETAS, SEND...</td>\n",
       "      <td>3.200000</td>\n",
       "      <td></td>\n",
       "      <td></td>\n",
       "    </tr>\n",
       "    <tr>\n",
       "      <th>780</th>\n",
       "      <td>CHINA, REPUBLICA POP</td>\n",
       "      <td>12582-E - PARTES E PEÇAS DE MOTOCICLETAS, SEND...</td>\n",
       "      <td>3.200000</td>\n",
       "      <td></td>\n",
       "      <td></td>\n",
       "    </tr>\n",
       "    <tr>\n",
       "      <th>781</th>\n",
       "      <td>CHINA, REPUBLICA POP</td>\n",
       "      <td>12583-E - PARTES E PEÇAS DE MOTOCICLETAS, SEND...</td>\n",
       "      <td>2.512246</td>\n",
       "      <td></td>\n",
       "      <td></td>\n",
       "    </tr>\n",
       "    <tr>\n",
       "      <th>782</th>\n",
       "      <td>CHINA, REPUBLICA POP</td>\n",
       "      <td>12584-E - PARTES E PEÇAS DE MOTOCICLETAS, SEND...</td>\n",
       "      <td>2.512246</td>\n",
       "      <td></td>\n",
       "      <td></td>\n",
       "    </tr>\n",
       "    <tr>\n",
       "      <th>783</th>\n",
       "      <td>CHINA, REPUBLICA POP</td>\n",
       "      <td>12585-E - PARTES E PEÇAS DE MOTOCICLETAS, SEND...</td>\n",
       "      <td>3.200000</td>\n",
       "      <td></td>\n",
       "      <td></td>\n",
       "    </tr>\n",
       "    <tr>\n",
       "      <th>784</th>\n",
       "      <td>CHINA, REPUBLICA POP</td>\n",
       "      <td>12586-E - PARTES E PEÇAS DE MOTOCICLETAS, SEND...</td>\n",
       "      <td>3.200000</td>\n",
       "      <td></td>\n",
       "      <td></td>\n",
       "    </tr>\n",
       "    <tr>\n",
       "      <th>785</th>\n",
       "      <td>CHINA, REPUBLICA POP</td>\n",
       "      <td>12567-E - PARTES E PEÇAS DE MOTOCICLETAS, SEND...</td>\n",
       "      <td>1.946308</td>\n",
       "      <td></td>\n",
       "      <td></td>\n",
       "    </tr>\n",
       "    <tr>\n",
       "      <th>786</th>\n",
       "      <td>CHINA, REPUBLICA POP</td>\n",
       "      <td>12592-E - PARTES E PEÇAS DE MOTOCICLETAS, SEND...</td>\n",
       "      <td>3.200000</td>\n",
       "      <td></td>\n",
       "      <td></td>\n",
       "    </tr>\n",
       "    <tr>\n",
       "      <th>787</th>\n",
       "      <td>CHINA, REPUBLICA POP</td>\n",
       "      <td>12593-E - PARTES E PEÇAS DE MOTOCICLETAS, SEND...</td>\n",
       "      <td>3.200000</td>\n",
       "      <td></td>\n",
       "      <td></td>\n",
       "    </tr>\n",
       "    <tr>\n",
       "      <th>788</th>\n",
       "      <td>CHINA, REPUBLICA POP</td>\n",
       "      <td>12594-E - PARTES E PEÇAS DE MOTOCICLETAS, SEND...</td>\n",
       "      <td>3.200000</td>\n",
       "      <td></td>\n",
       "      <td></td>\n",
       "    </tr>\n",
       "    <tr>\n",
       "      <th>789</th>\n",
       "      <td>CHINA, REPUBLICA POP</td>\n",
       "      <td>12595-E - PARTES E PEÇAS DE MOTOCICLETAS, SEND...</td>\n",
       "      <td>2.260000</td>\n",
       "      <td></td>\n",
       "      <td></td>\n",
       "    </tr>\n",
       "    <tr>\n",
       "      <th>790</th>\n",
       "      <td>CHINA, REPUBLICA POP</td>\n",
       "      <td>12596-E - PARTES E PEÇAS DE MOTOCICLETAS, SEND...</td>\n",
       "      <td>2.260000</td>\n",
       "      <td></td>\n",
       "      <td></td>\n",
       "    </tr>\n",
       "    <tr>\n",
       "      <th>791</th>\n",
       "      <td>CHINA, REPUBLICA POP</td>\n",
       "      <td>12600-E - PARTES E PEÇAS DE MOTOCICLETAS, SEND...</td>\n",
       "      <td>2.260000</td>\n",
       "      <td></td>\n",
       "      <td></td>\n",
       "    </tr>\n",
       "  </tbody>\n",
       "</table>\n",
       "<p>792 rows × 5 columns</p>\n",
       "</div>"
      ],
      "text/plain": [
       "           PAIS DE ORIGEM                               DESCRICAO DO PRODUTO  \\\n",
       "0    CHINA, REPUBLICA POP  KIT DE TRANSMISSÃO, COMPOSTO DE COROA, CORRENT...   \n",
       "1    CHINA, REPUBLICA POP  KIT TRANSMISSÃO AÇO (1045), COMPOSTO DE CORREN...   \n",
       "2    CHINA, REPUBLICA POP  KIT TRANSMISSÃO AÇO (1045), COMPOSTO DE CORREN...   \n",
       "3    CHINA, REPUBLICA POP  KIT TRANSMISSÃO AÇO (1045), COMPOSTO DE CORREN...   \n",
       "4    CHINA, REPUBLICA POP  KIT TRANSMISSÃO AÇO (1045), COMPOSTO DE CORREN...   \n",
       "5    CHINA, REPUBLICA POP  KIT TRANSMISSÃO AÇO (1045), COMPOSTO DE CORREN...   \n",
       "6    CHINA, REPUBLICA POP  KIT TRANSMISSÃO AÇO (1045), COMPOSTO DE CORREN...   \n",
       "7    CHINA, REPUBLICA POP  KIT TRANSMISSÃO AÇO (1045), COMPOSTO DE CORREN...   \n",
       "8    CHINA, REPUBLICA POP  KIT TRANSMISSÃO AÇO (1045), COMPOSTO DE CORREN...   \n",
       "9    CHINA, REPUBLICA POP  KIT TRANSMISSÃO AÇO (1045), COMPOSTO DE CORREN...   \n",
       "10   CHINA, REPUBLICA POP  KIT TRANSMISSÃO AÇO (1045), COMPOSTO DE CORREN...   \n",
       "11   CHINA, REPUBLICA POP  KIT TRANSMISSÃO AÇO (1045), COMPOSTO DE CORREN...   \n",
       "12   CHINA, REPUBLICA POP  880375 - KIT DE TRANSMISSÃO, COMPOSTO DE CORRE...   \n",
       "13   CHINA, REPUBLICA POP  880349 - KIT DE TRANSMISSÃO, COMPOSTO DE CORRE...   \n",
       "14   CHINA, REPUBLICA POP  KIT TRANSMISSÃO AÇO (1045), COMPOSTO DE CORREN...   \n",
       "15   CHINA, REPUBLICA POP  KIT TRANSMISSÃO AÇO (1045), COMPOSTO DE CORREN...   \n",
       "16   CHINA, REPUBLICA POP  KIT TRANSMISSÃO AÇO (1045), COMPOSTO DE CORREN...   \n",
       "17   CHINA, REPUBLICA POP  KIT TRANSMISSÃO AÇO (1045), COMPOSTO DE CORREN...   \n",
       "18   CHINA, REPUBLICA POP  KIT TRANSMISSÃO AÇO (1045), COMPOSTO DE CORREN...   \n",
       "19   CHINA, REPUBLICA POP  KIT TRANSMISSÃO AÇO (1045), COMPOSTO DE CORREN...   \n",
       "20   CHINA, REPUBLICA POP  KIT TRANSMISSÃO AÇO (1045), COMPOSTO DE CORREN...   \n",
       "21   CHINA, REPUBLICA POP  980730 KIT DE TRANSMISSÃO, COMPOSTO DE CORRENT...   \n",
       "22   CHINA, REPUBLICA POP  070593 - KIT TRANSMISSÃO COMPOSTO DE CORRENTE,...   \n",
       "23   CHINA, REPUBLICA POP  072165 - KIT TRANSMISSÃO COMPOSTO DE CORRENTE,...   \n",
       "24   CHINA, REPUBLICA POP  KIT TRANSMISSÃO AÇO (1045), COMPOSTO DE CORREN...   \n",
       "25   CHINA, REPUBLICA POP  KIT TRANSMISSÃO AÇO (1045), COMPOSTO DE CORREN...   \n",
       "26   CHINA, REPUBLICA POP  KIT TRANSMISSÃO AÇO (1045), COMPOSTO DE CORREN...   \n",
       "27   CHINA, REPUBLICA POP  43T14T/428H116L - KIT TRANSMISSAO EM ACO COMPO...   \n",
       "28   CHINA, REPUBLICA POP  43T16T/428H118L - KIT TRANSMISSAO EM ACO COMPO...   \n",
       "29   CHINA, REPUBLICA POP  80422 KIT DE TRANSMISSÃO, COMPOSTO DE CORRENTE...   \n",
       "..                    ...                                                ...   \n",
       "762  CHINA, REPUBLICA POP  001-P21B-03700 - Kit transmissao Titanium para...   \n",
       "763  CHINA, REPUBLICA POP  001-P21B-04900 - Kit transmissao Titanium para...   \n",
       "764  CHINA, REPUBLICA POP  001-P21B-06100 - Kit transmissao Titanium para...   \n",
       "765  CHINA, REPUBLICA POP  001-P21B-06500 - Kit transmissao Titanium para...   \n",
       "766  CHINA, REPUBLICA POP  001-P21B-06600 - Kit transmissao Titanium para...   \n",
       "767  CHINA, REPUBLICA POP  TRANSMISSAO PARA USO EM MOTOCICLETA COMPOSTO D...   \n",
       "768  CHINA, REPUBLICA POP  TRANSMISSAO PARA USO EM MOTOCICLETA COMPOSTO D...   \n",
       "769  CHINA, REPUBLICA POP  12565-E - PARTES E PEÇAS DE MOTOCICLETAS, SEND...   \n",
       "770  CHINA, REPUBLICA POP  12570-E - PARTES E PEÇAS DE MOTOCICLETAS, SEND...   \n",
       "771  CHINA, REPUBLICA POP  12588-E - PARTES E PEÇAS DE MOTOCICLETAS, SEND...   \n",
       "772  CHINA, REPUBLICA POP  12591-E - PARTES E PEÇAS DE MOTOCICLETAS, SEND...   \n",
       "773  CHINA, REPUBLICA POP  12603-E - PARTES E PEÇAS DE MOTOCICLETAS, SEND...   \n",
       "774  CHINA, REPUBLICA POP  12604-E - PARTES E PEÇAS DE MOTOCICLETAS, SEND...   \n",
       "775  CHINA, REPUBLICA POP  12578-E - PARTES E PEÇAS DE MOTOCICLETAS, SEND...   \n",
       "776  CHINA, REPUBLICA POP  12580-E - PARTES E PEÇAS DE MOTOCICLETAS, SEND...   \n",
       "777  CHINA, REPUBLICA POP  12606-E - PARTES E PEÇAS DE MOTOCICLETAS, SEND...   \n",
       "778  CHINA, REPUBLICA POP  12566-E - PARTES E PEÇAS DE MOTOCICLETAS, SEND...   \n",
       "779  CHINA, REPUBLICA POP  12562-E - PARTES E PEÇAS DE MOTOCICLETAS, SEND...   \n",
       "780  CHINA, REPUBLICA POP  12582-E - PARTES E PEÇAS DE MOTOCICLETAS, SEND...   \n",
       "781  CHINA, REPUBLICA POP  12583-E - PARTES E PEÇAS DE MOTOCICLETAS, SEND...   \n",
       "782  CHINA, REPUBLICA POP  12584-E - PARTES E PEÇAS DE MOTOCICLETAS, SEND...   \n",
       "783  CHINA, REPUBLICA POP  12585-E - PARTES E PEÇAS DE MOTOCICLETAS, SEND...   \n",
       "784  CHINA, REPUBLICA POP  12586-E - PARTES E PEÇAS DE MOTOCICLETAS, SEND...   \n",
       "785  CHINA, REPUBLICA POP  12567-E - PARTES E PEÇAS DE MOTOCICLETAS, SEND...   \n",
       "786  CHINA, REPUBLICA POP  12592-E - PARTES E PEÇAS DE MOTOCICLETAS, SEND...   \n",
       "787  CHINA, REPUBLICA POP  12593-E - PARTES E PEÇAS DE MOTOCICLETAS, SEND...   \n",
       "788  CHINA, REPUBLICA POP  12594-E - PARTES E PEÇAS DE MOTOCICLETAS, SEND...   \n",
       "789  CHINA, REPUBLICA POP  12595-E - PARTES E PEÇAS DE MOTOCICLETAS, SEND...   \n",
       "790  CHINA, REPUBLICA POP  12596-E - PARTES E PEÇAS DE MOTOCICLETAS, SEND...   \n",
       "791  CHINA, REPUBLICA POP  12600-E - PARTES E PEÇAS DE MOTOCICLETAS, SEND...   \n",
       "\n",
       "     VALOR UN.PROD.DOLAR        DESCRICAO Modelo  \n",
       "0               3.900000         f80 kits         \n",
       "1               3.809000                          \n",
       "2               4.052000                          \n",
       "3               3.876000                          \n",
       "4               3.877000                          \n",
       "5               3.294000                          \n",
       "6               3.871000                          \n",
       "7               4.173000                          \n",
       "8               3.673000                          \n",
       "9               3.877000                          \n",
       "10              4.166000                          \n",
       "11              3.849000                          \n",
       "12              3.329221             spee         \n",
       "13              3.813052             come         \n",
       "14              4.166000                          \n",
       "15              3.809000                          \n",
       "16              3.213000                          \n",
       "17              3.279000                          \n",
       "18              3.871000                          \n",
       "19              3.871000                          \n",
       "20              3.909000                          \n",
       "21              4.701278               56         \n",
       "22              3.730000  ti x118 aço1045         \n",
       "23              4.846000               15         \n",
       "24              4.218000                          \n",
       "25              3.918000                          \n",
       "26              3.984000                          \n",
       "27              3.024853                          \n",
       "28              2.975183                          \n",
       "29              9.480000         mt r3 43         \n",
       "..                   ...              ...    ...  \n",
       "762             4.100000                          \n",
       "763             4.550000                          \n",
       "764             6.240000                          \n",
       "765             3.460000                          \n",
       "766             3.440000                          \n",
       "767             3.990000           ft2368         \n",
       "768             3.990000           ft2388         \n",
       "769             2.341216                          \n",
       "770             2.341216                          \n",
       "771             2.200000                          \n",
       "772             2.359939                          \n",
       "773             3.200000                          \n",
       "774             3.200000                          \n",
       "775             3.200000                          \n",
       "776             2.600000                          \n",
       "777             3.200000                          \n",
       "778             2.600000                          \n",
       "779             3.200000                          \n",
       "780             3.200000                          \n",
       "781             2.512246                          \n",
       "782             2.512246                          \n",
       "783             3.200000                          \n",
       "784             3.200000                          \n",
       "785             1.946308                          \n",
       "786             3.200000                          \n",
       "787             3.200000                          \n",
       "788             3.200000                          \n",
       "789             2.260000                          \n",
       "790             2.260000                          \n",
       "791             2.260000                          \n",
       "\n",
       "[792 rows x 5 columns]"
      ]
     },
     "execution_count": 42,
     "metadata": {},
     "output_type": "execute_result"
    }
   ],
   "source": [
    "df_sem_modelo.reset_index(drop=True)"
   ]
  },
  {
   "cell_type": "code",
   "execution_count": 43,
   "metadata": {},
   "outputs": [
    {
     "name": "stdout",
     "output_type": "stream",
     "text": [
      "Número de registros sem aplicação contida na descrição: 792\n"
     ]
    }
   ],
   "source": [
    "print(f'Número de registros sem aplicação contida na descrição: {df_sem_modelo.shape[0]}')"
   ]
  },
  {
   "cell_type": "markdown",
   "metadata": {},
   "source": [
    "#### Exclusão dos registros sem aplicação contida na descrição"
   ]
  },
  {
   "cell_type": "markdown",
   "metadata": {},
   "source": [
    "Neste momento é necessário tomar uma decisão sobre o que fazer com os registros que permaneceram sem nenhuma extração na coluna **Modelo**.<br>\n",
    "Para tal decisão foi necessário observar cada um desses registros no arquivo \"sem_modelo.xls\" exportado e constatar que nenhum dos registros possui realmente qualquer alusão à aplicação do item descrito."
   ]
  },
  {
   "cell_type": "code",
   "execution_count": 44,
   "metadata": {},
   "outputs": [],
   "source": [
    "df=df[df['Modelo']!='']"
   ]
  },
  {
   "cell_type": "code",
   "execution_count": 45,
   "metadata": {},
   "outputs": [
    {
     "data": {
      "text/html": [
       "<div>\n",
       "<style scoped>\n",
       "    .dataframe tbody tr th:only-of-type {\n",
       "        vertical-align: middle;\n",
       "    }\n",
       "\n",
       "    .dataframe tbody tr th {\n",
       "        vertical-align: top;\n",
       "    }\n",
       "\n",
       "    .dataframe thead th {\n",
       "        text-align: right;\n",
       "    }\n",
       "</style>\n",
       "<table border=\"1\" class=\"dataframe\">\n",
       "  <thead>\n",
       "    <tr style=\"text-align: right;\">\n",
       "      <th></th>\n",
       "      <th>PAIS DE ORIGEM</th>\n",
       "      <th>DESCRICAO DO PRODUTO</th>\n",
       "      <th>VALOR UN.PROD.DOLAR</th>\n",
       "      <th>DESCRICAO</th>\n",
       "      <th>Modelo</th>\n",
       "    </tr>\n",
       "  </thead>\n",
       "  <tbody>\n",
       "    <tr>\n",
       "      <th>0</th>\n",
       "      <td>CHINA, REPUBLICA POP</td>\n",
       "      <td>007293# KIT TRANSMISSAO STANDARD TEMPERADO COM...</td>\n",
       "      <td>3.728000</td>\n",
       "      <td>honda cg 150 titan ks es mix fan</td>\n",
       "      <td>150 cg fan honda titan</td>\n",
       "    </tr>\n",
       "    <tr>\n",
       "      <th>1</th>\n",
       "      <td>CHINA, REPUBLICA POP</td>\n",
       "      <td>007295# KIT TRANSMISSAO STANDARD TEMPERADO COM...</td>\n",
       "      <td>3.700000</td>\n",
       "      <td>honda cg 125 titan ks es cargo</td>\n",
       "      <td>125 cargo cg honda titan</td>\n",
       "    </tr>\n",
       "    <tr>\n",
       "      <th>2</th>\n",
       "      <td>CHINA, REPUBLICA POP</td>\n",
       "      <td>007296# KIT TRANSMISSAO STANDARD TEMPERADO COM...</td>\n",
       "      <td>3.686000</td>\n",
       "      <td>honda cg 125 fan</td>\n",
       "      <td>125 cg fan honda</td>\n",
       "    </tr>\n",
       "    <tr>\n",
       "      <th>3</th>\n",
       "      <td>CHINA, REPUBLICA POP</td>\n",
       "      <td>80341 KIT DE TRANSMISSÃO, COMPOSTO DE CORRENTE...</td>\n",
       "      <td>3.343258</td>\n",
       "      <td>c100 biz</td>\n",
       "      <td>biz c100 honda</td>\n",
       "    </tr>\n",
       "    <tr>\n",
       "      <th>4</th>\n",
       "      <td>CHINA, REPUBLICA POP</td>\n",
       "      <td>80364 KIT DE TRANSMISSÃO, COMPOSTO DE CORRENTE...</td>\n",
       "      <td>3.826396</td>\n",
       "      <td>mirage 150</td>\n",
       "      <td>150 kasinski mirage</td>\n",
       "    </tr>\n",
       "    <tr>\n",
       "      <th>5</th>\n",
       "      <td>CHINA, REPUBLICA POP</td>\n",
       "      <td>80348 KIT DE TRANSMISSÃO, COMPOSTO DE CORRENTE...</td>\n",
       "      <td>5.232801</td>\n",
       "      <td>cbx 250 twister</td>\n",
       "      <td>250 cbx honda twister</td>\n",
       "    </tr>\n",
       "    <tr>\n",
       "      <th>6</th>\n",
       "      <td>CHINA, REPUBLICA POP</td>\n",
       "      <td>80350 KIT DE TRANSMISSÃO, COMPOSTO DE CORRENTE...</td>\n",
       "      <td>5.969694</td>\n",
       "      <td>crf 230</td>\n",
       "      <td>230 crf honda</td>\n",
       "    </tr>\n",
       "    <tr>\n",
       "      <th>7</th>\n",
       "      <td>CHINA, REPUBLICA POP</td>\n",
       "      <td>80373 KIT DE TRANSMISSÃO, COMPOSTO DE CORRENTE...</td>\n",
       "      <td>3.245770</td>\n",
       "      <td>shineray phoenix 50cc</td>\n",
       "      <td>50 phoenix shineray</td>\n",
       "    </tr>\n",
       "    <tr>\n",
       "      <th>8</th>\n",
       "      <td>CHINA, REPUBLICA POP</td>\n",
       "      <td>80371 KIT DE TRANSMISSÃO, COMPOSTO DE CORRENTE...</td>\n",
       "      <td>3.255806</td>\n",
       "      <td>pop 110</td>\n",
       "      <td>honda pop</td>\n",
       "    </tr>\n",
       "    <tr>\n",
       "      <th>9</th>\n",
       "      <td>CHINA, REPUBLICA POP</td>\n",
       "      <td>80370 KIT DE TRANSMISSÃO, COMPOSTO DE CORRENTE...</td>\n",
       "      <td>3.245770</td>\n",
       "      <td>pop</td>\n",
       "      <td>honda pop</td>\n",
       "    </tr>\n",
       "    <tr>\n",
       "      <th>10</th>\n",
       "      <td>CHINA, REPUBLICA POP</td>\n",
       "      <td>80344 KIT DE TRANSMISSÃO, COMPOSTO DE CORRENTE...</td>\n",
       "      <td>2.950439</td>\n",
       "      <td>c125 biz</td>\n",
       "      <td>125 biz c125 honda</td>\n",
       "    </tr>\n",
       "    <tr>\n",
       "      <th>11</th>\n",
       "      <td>CHINA, REPUBLICA POP</td>\n",
       "      <td>80360 KIT DE TRANSMISSÃO, COMPOSTO DE CORRENTE...</td>\n",
       "      <td>3.284478</td>\n",
       "      <td>hunter max 125</td>\n",
       "      <td>125 hunter max sundown</td>\n",
       "    </tr>\n",
       "    <tr>\n",
       "      <th>12</th>\n",
       "      <td>CHINA, REPUBLICA POP</td>\n",
       "      <td>80342 KIT DE TRANSMISSÃO, COMPOSTO DE CORRENTE...</td>\n",
       "      <td>3.255806</td>\n",
       "      <td>c100 biz</td>\n",
       "      <td>biz c100 honda</td>\n",
       "    </tr>\n",
       "    <tr>\n",
       "      <th>13</th>\n",
       "      <td>CHINA, REPUBLICA POP</td>\n",
       "      <td>80385 KIT DE TRANSMISSÃO, COMPOSTO DE CORRENTE...</td>\n",
       "      <td>3.265841</td>\n",
       "      <td>web</td>\n",
       "      <td>sundown web</td>\n",
       "    </tr>\n",
       "    <tr>\n",
       "      <th>14</th>\n",
       "      <td>CHINA, REPUBLICA POP</td>\n",
       "      <td>80345 KIT DE TRANSMISSÃO, COMPOSTO DE CORRENTE...</td>\n",
       "      <td>6.756764</td>\n",
       "      <td>cb 250f</td>\n",
       "      <td>250 250f cb honda</td>\n",
       "    </tr>\n",
       "    <tr>\n",
       "      <th>15</th>\n",
       "      <td>CHINA, REPUBLICA POP</td>\n",
       "      <td>80372 KIT DE TRANSMISSÃO, COMPOSTO DE CORRENTE...</td>\n",
       "      <td>4.022805</td>\n",
       "      <td>riva150 dafra</td>\n",
       "      <td>150 dafra riva</td>\n",
       "    </tr>\n",
       "    <tr>\n",
       "      <th>16</th>\n",
       "      <td>CHINA, REPUBLICA POP</td>\n",
       "      <td>80392 KIT DE TRANSMISSÃO, COMPOSTO DE CORRENTE...</td>\n",
       "      <td>4.907363</td>\n",
       "      <td>xt 250 tenere</td>\n",
       "      <td>250 tenere xt yamaha</td>\n",
       "    </tr>\n",
       "    <tr>\n",
       "      <th>17</th>\n",
       "      <td>CHINA, REPUBLICA POP</td>\n",
       "      <td>80397 KIT DE TRANSMISSÃO, COMPOSTO DE CORRENTE...</td>\n",
       "      <td>3.136813</td>\n",
       "      <td>yes intruder 125</td>\n",
       "      <td>125 intruder suzuki yes</td>\n",
       "    </tr>\n",
       "    <tr>\n",
       "      <th>18</th>\n",
       "      <td>CHINA, REPUBLICA POP</td>\n",
       "      <td>80395 KIT DE TRANSMISSÃO, COMPOSTO DE CORRENTE...</td>\n",
       "      <td>3.136813</td>\n",
       "      <td>ybr</td>\n",
       "      <td>yamaha ybr</td>\n",
       "    </tr>\n",
       "    <tr>\n",
       "      <th>19</th>\n",
       "      <td>CHINA, REPUBLICA POP</td>\n",
       "      <td>80346 KIT DE TRANSMISSÃO, COMPOSTO DE CORRENTE...</td>\n",
       "      <td>4.828513</td>\n",
       "      <td>cb 300r</td>\n",
       "      <td>300 300r cb honda</td>\n",
       "    </tr>\n",
       "    <tr>\n",
       "      <th>20</th>\n",
       "      <td>CHINA, REPUBLICA POP</td>\n",
       "      <td>80367 KIT DE TRANSMISSÃO, COMPOSTO DE CORRENTE...</td>\n",
       "      <td>5.034958</td>\n",
       "      <td>next 250 dafra</td>\n",
       "      <td>250 dafra next xt yamaha</td>\n",
       "    </tr>\n",
       "    <tr>\n",
       "      <th>21</th>\n",
       "      <td>CHINA, REPUBLICA POP</td>\n",
       "      <td>80363 KIT DE TRANSMISSÃO, COMPOSTO DE CORRENTE...</td>\n",
       "      <td>3.668695</td>\n",
       "      <td>kansas 150</td>\n",
       "      <td>150 dafra kansas</td>\n",
       "    </tr>\n",
       "    <tr>\n",
       "      <th>22</th>\n",
       "      <td>CHINA, REPUBLICA POP</td>\n",
       "      <td>80362 KIT DE TRANSMISSÃO, COMPOSTO DE CORRENTE...</td>\n",
       "      <td>3.265841</td>\n",
       "      <td>jet 49cc</td>\n",
       "      <td>jet shineray</td>\n",
       "    </tr>\n",
       "    <tr>\n",
       "      <th>23</th>\n",
       "      <td>CHINA, REPUBLICA POP</td>\n",
       "      <td>80356 KIT DE TRANSMISSÃO, COMPOSTO DE CORRENTE...</td>\n",
       "      <td>3.314585</td>\n",
       "      <td>fan 125</td>\n",
       "      <td>125 fan honda</td>\n",
       "    </tr>\n",
       "    <tr>\n",
       "      <th>24</th>\n",
       "      <td>CHINA, REPUBLICA POP</td>\n",
       "      <td>80393 KIT DE TRANSMISSÃO, COMPOSTO DE CORRENTE...</td>\n",
       "      <td>3.992699</td>\n",
       "      <td>xtz 125</td>\n",
       "      <td>125 xtz</td>\n",
       "    </tr>\n",
       "    <tr>\n",
       "      <th>25</th>\n",
       "      <td>CHINA, REPUBLICA POP</td>\n",
       "      <td>80355 KIT DE TRANSMISSÃO, COMPOSTO DE CORRENTE...</td>\n",
       "      <td>3.324620</td>\n",
       "      <td>fan 125</td>\n",
       "      <td>125 fan honda</td>\n",
       "    </tr>\n",
       "    <tr>\n",
       "      <th>26</th>\n",
       "      <td>CHINA, REPUBLICA POP</td>\n",
       "      <td>80391 KIT DE TRANSMISSÃO, COMPOSTO DE CORRENTE...</td>\n",
       "      <td>5.103773</td>\n",
       "      <td>xre 300</td>\n",
       "      <td>300 xre</td>\n",
       "    </tr>\n",
       "    <tr>\n",
       "      <th>27</th>\n",
       "      <td>CHINA, REPUBLICA POP</td>\n",
       "      <td>80379 KIT DE TRANSMISSÃO, COMPOSTO DE CORRENTE...</td>\n",
       "      <td>3.314585</td>\n",
       "      <td>titan</td>\n",
       "      <td>honda titan</td>\n",
       "    </tr>\n",
       "    <tr>\n",
       "      <th>28</th>\n",
       "      <td>CHINA, REPUBLICA POP</td>\n",
       "      <td>80378 KIT DE TRANSMISSÃO, COMPOSTO DE CORRENTE...</td>\n",
       "      <td>3.314585</td>\n",
       "      <td>titan fan 150</td>\n",
       "      <td>150 fan honda titan</td>\n",
       "    </tr>\n",
       "    <tr>\n",
       "      <th>29</th>\n",
       "      <td>CHINA, REPUBLICA POP</td>\n",
       "      <td>80381 KIT DE TRANSMISSÃO, COMPOSTO DE CORRENTE...</td>\n",
       "      <td>3.314585</td>\n",
       "      <td>titan 160</td>\n",
       "      <td>160 honda titan</td>\n",
       "    </tr>\n",
       "    <tr>\n",
       "      <th>...</th>\n",
       "      <td>...</td>\n",
       "      <td>...</td>\n",
       "      <td>...</td>\n",
       "      <td>...</td>\n",
       "      <td>...</td>\n",
       "    </tr>\n",
       "    <tr>\n",
       "      <th>17454</th>\n",
       "      <td>CHINA, REPUBLICA POP</td>\n",
       "      <td>10530037 IN - KIT TRANSMISSAO P/MOTOCICLETAS(C...</td>\n",
       "      <td>4.865000</td>\n",
       "      <td>nxr150bros</td>\n",
       "      <td>150 honda nxr xr</td>\n",
       "    </tr>\n",
       "    <tr>\n",
       "      <th>17455</th>\n",
       "      <td>CHINA, REPUBLICA POP</td>\n",
       "      <td>10530040 IN - KIT TRANSMISSAO P/MOTOCICLETAS(C...</td>\n",
       "      <td>4.170000</td>\n",
       "      <td>crosser 150</td>\n",
       "      <td>150 crosser</td>\n",
       "    </tr>\n",
       "    <tr>\n",
       "      <th>17456</th>\n",
       "      <td>CHINA, REPUBLICA POP</td>\n",
       "      <td>10530041 IN - KIT TRANSMISSAO P/MOTOCICLETAS(C...</td>\n",
       "      <td>4.598000</td>\n",
       "      <td>fazer 150</td>\n",
       "      <td>150 fazer yamaha</td>\n",
       "    </tr>\n",
       "    <tr>\n",
       "      <th>17457</th>\n",
       "      <td>CHINA, REPUBLICA POP</td>\n",
       "      <td>10530043 IN - KIT TRANSMISSAO P/MOTOCICLETAS(C...</td>\n",
       "      <td>3.751000</td>\n",
       "      <td>crypton</td>\n",
       "      <td>crypton yamaha</td>\n",
       "    </tr>\n",
       "    <tr>\n",
       "      <th>17458</th>\n",
       "      <td>CHINA, REPUBLICA POP</td>\n",
       "      <td>10530046 IN - KIT TRANSMISSAO P/MOTOCICLETAS(C...</td>\n",
       "      <td>4.440000</td>\n",
       "      <td>fan 125</td>\n",
       "      <td>125 fan honda</td>\n",
       "    </tr>\n",
       "    <tr>\n",
       "      <th>17459</th>\n",
       "      <td>CHINA, REPUBLICA POP</td>\n",
       "      <td>10530048 IN - KIT TRANSMISSAO P/MOTOCICLETAS(C...</td>\n",
       "      <td>4.792000</td>\n",
       "      <td>broz 160</td>\n",
       "      <td>160 broz honda</td>\n",
       "    </tr>\n",
       "    <tr>\n",
       "      <th>17460</th>\n",
       "      <td>CHINA, REPUBLICA POP</td>\n",
       "      <td>10530049 IN - KIT TRANSMISSAO P/MOTOCICLETAS(C...</td>\n",
       "      <td>6.489000</td>\n",
       "      <td>ninja300 chh</td>\n",
       "      <td>300 kawasaki ninja</td>\n",
       "    </tr>\n",
       "    <tr>\n",
       "      <th>17461</th>\n",
       "      <td>CHINA, REPUBLICA POP</td>\n",
       "      <td>10530050 IN - KIT TRANSMISSAO P/MOTOCICLETAS(C...</td>\n",
       "      <td>3.634000</td>\n",
       "      <td>pop</td>\n",
       "      <td>honda pop</td>\n",
       "    </tr>\n",
       "    <tr>\n",
       "      <th>17462</th>\n",
       "      <td>CHINA, REPUBLICA POP</td>\n",
       "      <td>10530051 IN - KIT TRANSMISSAO P/MOTOCICLETAS(C...</td>\n",
       "      <td>4.461000</td>\n",
       "      <td>titan 160</td>\n",
       "      <td>160 honda titan</td>\n",
       "    </tr>\n",
       "    <tr>\n",
       "      <th>17463</th>\n",
       "      <td>CHINA, REPUBLICA POP</td>\n",
       "      <td>10530054 IN - KIT TRANSMISSAO P/MOTOCICLETAS(C...</td>\n",
       "      <td>4.950000</td>\n",
       "      <td>fazer250 chh</td>\n",
       "      <td>250 fazer yamaha</td>\n",
       "    </tr>\n",
       "    <tr>\n",
       "      <th>17464</th>\n",
       "      <td>CHINA, REPUBLICA POP</td>\n",
       "      <td>10540002 IN - KIT TRANSMISSAO P/MOTOCICLETAS(C...</td>\n",
       "      <td>8.252000</td>\n",
       "      <td>nxr150bros</td>\n",
       "      <td>150 honda nxr xr</td>\n",
       "    </tr>\n",
       "    <tr>\n",
       "      <th>17465</th>\n",
       "      <td>CHINA, REPUBLICA POP</td>\n",
       "      <td>10540012 IN - KIT TRANSMISSAO P/MOTOCICLETAS(C...</td>\n",
       "      <td>8.177000</td>\n",
       "      <td>fazer250</td>\n",
       "      <td>250 fazer yamaha</td>\n",
       "    </tr>\n",
       "    <tr>\n",
       "      <th>17466</th>\n",
       "      <td>CHINA, REPUBLICA POP</td>\n",
       "      <td>10540024 IN - KIT TRANSMISSAO P/MOTOCICLETAS(C...</td>\n",
       "      <td>9.287000</td>\n",
       "      <td>xre 300</td>\n",
       "      <td>300 xre</td>\n",
       "    </tr>\n",
       "    <tr>\n",
       "      <th>17467</th>\n",
       "      <td>CHINA, REPUBLICA POP</td>\n",
       "      <td>10540025 IN - KIT TRANSMISSAO P/MOTOCICLETAS(C...</td>\n",
       "      <td>7.273000</td>\n",
       "      <td>crosser 150</td>\n",
       "      <td>150 crosser</td>\n",
       "    </tr>\n",
       "    <tr>\n",
       "      <th>17468</th>\n",
       "      <td>CHINA, REPUBLICA POP</td>\n",
       "      <td>10540026 IN - KIT TRANSMISSAO P/MOTOCICLETAS(C...</td>\n",
       "      <td>7.800000</td>\n",
       "      <td>fazer 150</td>\n",
       "      <td>150 fazer yamaha</td>\n",
       "    </tr>\n",
       "    <tr>\n",
       "      <th>17469</th>\n",
       "      <td>CHINA, REPUBLICA POP</td>\n",
       "      <td>10540029 IN - KIT TRANSMISSAO P/MOTOCICLETAS(C...</td>\n",
       "      <td>8.044000</td>\n",
       "      <td>broz 160</td>\n",
       "      <td>160 broz honda</td>\n",
       "    </tr>\n",
       "    <tr>\n",
       "      <th>17470</th>\n",
       "      <td>CHINA, REPUBLICA POP</td>\n",
       "      <td>10540031 IN - KIT TRANSMISSAO P/MOTOCICLETAS(C...</td>\n",
       "      <td>7.463000</td>\n",
       "      <td>titan 160</td>\n",
       "      <td>160 honda titan</td>\n",
       "    </tr>\n",
       "    <tr>\n",
       "      <th>17471</th>\n",
       "      <td>CHINA, REPUBLICA POP</td>\n",
       "      <td>10540034 IN - KIT TRANSMISSAO P/MOTOCICLETAS(C...</td>\n",
       "      <td>8.400000</td>\n",
       "      <td>fazer250 chh-uo</td>\n",
       "      <td>250 fazer yamaha</td>\n",
       "    </tr>\n",
       "    <tr>\n",
       "      <th>17472</th>\n",
       "      <td>CHINA, REPUBLICA POP</td>\n",
       "      <td>KIT DE TRANSMISSÃO AÇO BIZ 100 1045 COMPOSTO D...</td>\n",
       "      <td>3.258000</td>\n",
       "      <td>biz 1045 pro honda</td>\n",
       "      <td>biz honda</td>\n",
       "    </tr>\n",
       "    <tr>\n",
       "      <th>17473</th>\n",
       "      <td>CHINA, REPUBLICA POP</td>\n",
       "      <td>KIT DE TRANSMISSÃO AÇO BIZ 125/POP 100 1045, C...</td>\n",
       "      <td>3.019000</td>\n",
       "      <td>biz 125 pop 1045 pro honda 14</td>\n",
       "      <td>125 biz honda pop</td>\n",
       "    </tr>\n",
       "    <tr>\n",
       "      <th>17474</th>\n",
       "      <td>CHINA, REPUBLICA POP</td>\n",
       "      <td>KIT DE TRANSMISSÃO AÇO BROS 150 1045, COMPOSTO...</td>\n",
       "      <td>4.159000</td>\n",
       "      <td>broz 150 pro honda nxr corren</td>\n",
       "      <td>150 broz honda nxr xr</td>\n",
       "    </tr>\n",
       "    <tr>\n",
       "      <th>17475</th>\n",
       "      <td>CHINA, REPUBLICA POP</td>\n",
       "      <td>KIT DE TRANSMISSÃO AÇO BROS 160 1045, COMPOSTO...</td>\n",
       "      <td>4.012000</td>\n",
       "      <td>broz 160 pro honda es ks</td>\n",
       "      <td>160 broz honda</td>\n",
       "    </tr>\n",
       "    <tr>\n",
       "      <th>17476</th>\n",
       "      <td>CHINA, REPUBLICA POP</td>\n",
       "      <td>KIT DE TRANSMISSÃO AÇO FAN 125 2009 1045, COMP...</td>\n",
       "      <td>3.607000</td>\n",
       "      <td>fan 125 pro honda cg</td>\n",
       "      <td>125 cg fan honda</td>\n",
       "    </tr>\n",
       "    <tr>\n",
       "      <th>17477</th>\n",
       "      <td>CHINA, REPUBLICA POP</td>\n",
       "      <td>KIT DE TRANSMISSÃO AÇO SHIN/WEB 100 36DTS 1045...</td>\n",
       "      <td>2.980000</td>\n",
       "      <td>shin web ts pro sundown</td>\n",
       "      <td>sundown web</td>\n",
       "    </tr>\n",
       "    <tr>\n",
       "      <th>17478</th>\n",
       "      <td>CHINA, REPUBLICA POP</td>\n",
       "      <td>KIT DE TRANSMISSÃO AÇO TITAN 150 1045, COMPOST...</td>\n",
       "      <td>3.648000</td>\n",
       "      <td>titan 150 pro honda cg ks es mix den</td>\n",
       "      <td>150 cg honda titan</td>\n",
       "    </tr>\n",
       "    <tr>\n",
       "      <th>17479</th>\n",
       "      <td>CHINA, REPUBLICA POP</td>\n",
       "      <td>KIT DE TRANSMISSÃO AÇO TITAN 160 1045, COMPOST...</td>\n",
       "      <td>3.747000</td>\n",
       "      <td>titan 160 pro honda cg</td>\n",
       "      <td>160 cg honda titan</td>\n",
       "    </tr>\n",
       "    <tr>\n",
       "      <th>17480</th>\n",
       "      <td>CHINA, REPUBLICA POP</td>\n",
       "      <td>KIT DE TRANSMISSÃO AÇO TITAN 2000 1045, COMPOS...</td>\n",
       "      <td>3.620000</td>\n",
       "      <td>titan pro honda cg 125 ks es cargo</td>\n",
       "      <td>125 cargo cg honda titan</td>\n",
       "    </tr>\n",
       "    <tr>\n",
       "      <th>17481</th>\n",
       "      <td>CHINA, REPUBLICA POP</td>\n",
       "      <td>KIT DE TRANSMISSÃO AÇO TITAN 99 1045 COMPOSTO ...</td>\n",
       "      <td>3.581000</td>\n",
       "      <td>titan 1045 pro honda cg 125</td>\n",
       "      <td>125 cg honda titan</td>\n",
       "    </tr>\n",
       "    <tr>\n",
       "      <th>17482</th>\n",
       "      <td>CHINA, REPUBLICA POP</td>\n",
       "      <td>KIT DE TRANSMISSÃO AÇO YBR 125 00/02 1045, COM...</td>\n",
       "      <td>3.450000</td>\n",
       "      <td>ybr 125 pro yamaha corre</td>\n",
       "      <td>125 yamaha ybr</td>\n",
       "    </tr>\n",
       "    <tr>\n",
       "      <th>17483</th>\n",
       "      <td>CHINA, REPUBLICA POP</td>\n",
       "      <td>KIT DE TRANSMISSÃO AÇO YBR 125 03/05, COMPOSTO...</td>\n",
       "      <td>3.503000</td>\n",
       "      <td>ybr 125 pro yamaha factor</td>\n",
       "      <td>125 factor yamaha ybr</td>\n",
       "    </tr>\n",
       "  </tbody>\n",
       "</table>\n",
       "<p>17484 rows × 5 columns</p>\n",
       "</div>"
      ],
      "text/plain": [
       "             PAIS DE ORIGEM  \\\n",
       "0      CHINA, REPUBLICA POP   \n",
       "1      CHINA, REPUBLICA POP   \n",
       "2      CHINA, REPUBLICA POP   \n",
       "3      CHINA, REPUBLICA POP   \n",
       "4      CHINA, REPUBLICA POP   \n",
       "5      CHINA, REPUBLICA POP   \n",
       "6      CHINA, REPUBLICA POP   \n",
       "7      CHINA, REPUBLICA POP   \n",
       "8      CHINA, REPUBLICA POP   \n",
       "9      CHINA, REPUBLICA POP   \n",
       "10     CHINA, REPUBLICA POP   \n",
       "11     CHINA, REPUBLICA POP   \n",
       "12     CHINA, REPUBLICA POP   \n",
       "13     CHINA, REPUBLICA POP   \n",
       "14     CHINA, REPUBLICA POP   \n",
       "15     CHINA, REPUBLICA POP   \n",
       "16     CHINA, REPUBLICA POP   \n",
       "17     CHINA, REPUBLICA POP   \n",
       "18     CHINA, REPUBLICA POP   \n",
       "19     CHINA, REPUBLICA POP   \n",
       "20     CHINA, REPUBLICA POP   \n",
       "21     CHINA, REPUBLICA POP   \n",
       "22     CHINA, REPUBLICA POP   \n",
       "23     CHINA, REPUBLICA POP   \n",
       "24     CHINA, REPUBLICA POP   \n",
       "25     CHINA, REPUBLICA POP   \n",
       "26     CHINA, REPUBLICA POP   \n",
       "27     CHINA, REPUBLICA POP   \n",
       "28     CHINA, REPUBLICA POP   \n",
       "29     CHINA, REPUBLICA POP   \n",
       "...                     ...   \n",
       "17454  CHINA, REPUBLICA POP   \n",
       "17455  CHINA, REPUBLICA POP   \n",
       "17456  CHINA, REPUBLICA POP   \n",
       "17457  CHINA, REPUBLICA POP   \n",
       "17458  CHINA, REPUBLICA POP   \n",
       "17459  CHINA, REPUBLICA POP   \n",
       "17460  CHINA, REPUBLICA POP   \n",
       "17461  CHINA, REPUBLICA POP   \n",
       "17462  CHINA, REPUBLICA POP   \n",
       "17463  CHINA, REPUBLICA POP   \n",
       "17464  CHINA, REPUBLICA POP   \n",
       "17465  CHINA, REPUBLICA POP   \n",
       "17466  CHINA, REPUBLICA POP   \n",
       "17467  CHINA, REPUBLICA POP   \n",
       "17468  CHINA, REPUBLICA POP   \n",
       "17469  CHINA, REPUBLICA POP   \n",
       "17470  CHINA, REPUBLICA POP   \n",
       "17471  CHINA, REPUBLICA POP   \n",
       "17472  CHINA, REPUBLICA POP   \n",
       "17473  CHINA, REPUBLICA POP   \n",
       "17474  CHINA, REPUBLICA POP   \n",
       "17475  CHINA, REPUBLICA POP   \n",
       "17476  CHINA, REPUBLICA POP   \n",
       "17477  CHINA, REPUBLICA POP   \n",
       "17478  CHINA, REPUBLICA POP   \n",
       "17479  CHINA, REPUBLICA POP   \n",
       "17480  CHINA, REPUBLICA POP   \n",
       "17481  CHINA, REPUBLICA POP   \n",
       "17482  CHINA, REPUBLICA POP   \n",
       "17483  CHINA, REPUBLICA POP   \n",
       "\n",
       "                                    DESCRICAO DO PRODUTO  VALOR UN.PROD.DOLAR  \\\n",
       "0      007293# KIT TRANSMISSAO STANDARD TEMPERADO COM...             3.728000   \n",
       "1      007295# KIT TRANSMISSAO STANDARD TEMPERADO COM...             3.700000   \n",
       "2      007296# KIT TRANSMISSAO STANDARD TEMPERADO COM...             3.686000   \n",
       "3      80341 KIT DE TRANSMISSÃO, COMPOSTO DE CORRENTE...             3.343258   \n",
       "4      80364 KIT DE TRANSMISSÃO, COMPOSTO DE CORRENTE...             3.826396   \n",
       "5      80348 KIT DE TRANSMISSÃO, COMPOSTO DE CORRENTE...             5.232801   \n",
       "6      80350 KIT DE TRANSMISSÃO, COMPOSTO DE CORRENTE...             5.969694   \n",
       "7      80373 KIT DE TRANSMISSÃO, COMPOSTO DE CORRENTE...             3.245770   \n",
       "8      80371 KIT DE TRANSMISSÃO, COMPOSTO DE CORRENTE...             3.255806   \n",
       "9      80370 KIT DE TRANSMISSÃO, COMPOSTO DE CORRENTE...             3.245770   \n",
       "10     80344 KIT DE TRANSMISSÃO, COMPOSTO DE CORRENTE...             2.950439   \n",
       "11     80360 KIT DE TRANSMISSÃO, COMPOSTO DE CORRENTE...             3.284478   \n",
       "12     80342 KIT DE TRANSMISSÃO, COMPOSTO DE CORRENTE...             3.255806   \n",
       "13     80385 KIT DE TRANSMISSÃO, COMPOSTO DE CORRENTE...             3.265841   \n",
       "14     80345 KIT DE TRANSMISSÃO, COMPOSTO DE CORRENTE...             6.756764   \n",
       "15     80372 KIT DE TRANSMISSÃO, COMPOSTO DE CORRENTE...             4.022805   \n",
       "16     80392 KIT DE TRANSMISSÃO, COMPOSTO DE CORRENTE...             4.907363   \n",
       "17     80397 KIT DE TRANSMISSÃO, COMPOSTO DE CORRENTE...             3.136813   \n",
       "18     80395 KIT DE TRANSMISSÃO, COMPOSTO DE CORRENTE...             3.136813   \n",
       "19     80346 KIT DE TRANSMISSÃO, COMPOSTO DE CORRENTE...             4.828513   \n",
       "20     80367 KIT DE TRANSMISSÃO, COMPOSTO DE CORRENTE...             5.034958   \n",
       "21     80363 KIT DE TRANSMISSÃO, COMPOSTO DE CORRENTE...             3.668695   \n",
       "22     80362 KIT DE TRANSMISSÃO, COMPOSTO DE CORRENTE...             3.265841   \n",
       "23     80356 KIT DE TRANSMISSÃO, COMPOSTO DE CORRENTE...             3.314585   \n",
       "24     80393 KIT DE TRANSMISSÃO, COMPOSTO DE CORRENTE...             3.992699   \n",
       "25     80355 KIT DE TRANSMISSÃO, COMPOSTO DE CORRENTE...             3.324620   \n",
       "26     80391 KIT DE TRANSMISSÃO, COMPOSTO DE CORRENTE...             5.103773   \n",
       "27     80379 KIT DE TRANSMISSÃO, COMPOSTO DE CORRENTE...             3.314585   \n",
       "28     80378 KIT DE TRANSMISSÃO, COMPOSTO DE CORRENTE...             3.314585   \n",
       "29     80381 KIT DE TRANSMISSÃO, COMPOSTO DE CORRENTE...             3.314585   \n",
       "...                                                  ...                  ...   \n",
       "17454  10530037 IN - KIT TRANSMISSAO P/MOTOCICLETAS(C...             4.865000   \n",
       "17455  10530040 IN - KIT TRANSMISSAO P/MOTOCICLETAS(C...             4.170000   \n",
       "17456  10530041 IN - KIT TRANSMISSAO P/MOTOCICLETAS(C...             4.598000   \n",
       "17457  10530043 IN - KIT TRANSMISSAO P/MOTOCICLETAS(C...             3.751000   \n",
       "17458  10530046 IN - KIT TRANSMISSAO P/MOTOCICLETAS(C...             4.440000   \n",
       "17459  10530048 IN - KIT TRANSMISSAO P/MOTOCICLETAS(C...             4.792000   \n",
       "17460  10530049 IN - KIT TRANSMISSAO P/MOTOCICLETAS(C...             6.489000   \n",
       "17461  10530050 IN - KIT TRANSMISSAO P/MOTOCICLETAS(C...             3.634000   \n",
       "17462  10530051 IN - KIT TRANSMISSAO P/MOTOCICLETAS(C...             4.461000   \n",
       "17463  10530054 IN - KIT TRANSMISSAO P/MOTOCICLETAS(C...             4.950000   \n",
       "17464  10540002 IN - KIT TRANSMISSAO P/MOTOCICLETAS(C...             8.252000   \n",
       "17465  10540012 IN - KIT TRANSMISSAO P/MOTOCICLETAS(C...             8.177000   \n",
       "17466  10540024 IN - KIT TRANSMISSAO P/MOTOCICLETAS(C...             9.287000   \n",
       "17467  10540025 IN - KIT TRANSMISSAO P/MOTOCICLETAS(C...             7.273000   \n",
       "17468  10540026 IN - KIT TRANSMISSAO P/MOTOCICLETAS(C...             7.800000   \n",
       "17469  10540029 IN - KIT TRANSMISSAO P/MOTOCICLETAS(C...             8.044000   \n",
       "17470  10540031 IN - KIT TRANSMISSAO P/MOTOCICLETAS(C...             7.463000   \n",
       "17471  10540034 IN - KIT TRANSMISSAO P/MOTOCICLETAS(C...             8.400000   \n",
       "17472  KIT DE TRANSMISSÃO AÇO BIZ 100 1045 COMPOSTO D...             3.258000   \n",
       "17473  KIT DE TRANSMISSÃO AÇO BIZ 125/POP 100 1045, C...             3.019000   \n",
       "17474  KIT DE TRANSMISSÃO AÇO BROS 150 1045, COMPOSTO...             4.159000   \n",
       "17475  KIT DE TRANSMISSÃO AÇO BROS 160 1045, COMPOSTO...             4.012000   \n",
       "17476  KIT DE TRANSMISSÃO AÇO FAN 125 2009 1045, COMP...             3.607000   \n",
       "17477  KIT DE TRANSMISSÃO AÇO SHIN/WEB 100 36DTS 1045...             2.980000   \n",
       "17478  KIT DE TRANSMISSÃO AÇO TITAN 150 1045, COMPOST...             3.648000   \n",
       "17479  KIT DE TRANSMISSÃO AÇO TITAN 160 1045, COMPOST...             3.747000   \n",
       "17480  KIT DE TRANSMISSÃO AÇO TITAN 2000 1045, COMPOS...             3.620000   \n",
       "17481  KIT DE TRANSMISSÃO AÇO TITAN 99 1045 COMPOSTO ...             3.581000   \n",
       "17482  KIT DE TRANSMISSÃO AÇO YBR 125 00/02 1045, COM...             3.450000   \n",
       "17483  KIT DE TRANSMISSÃO AÇO YBR 125 03/05, COMPOSTO...             3.503000   \n",
       "\n",
       "                                  DESCRICAO                    Modelo  \n",
       "0          honda cg 150 titan ks es mix fan    150 cg fan honda titan  \n",
       "1            honda cg 125 titan ks es cargo  125 cargo cg honda titan  \n",
       "2                          honda cg 125 fan          125 cg fan honda  \n",
       "3                                  c100 biz            biz c100 honda  \n",
       "4                                mirage 150       150 kasinski mirage  \n",
       "5                           cbx 250 twister     250 cbx honda twister  \n",
       "6                                   crf 230             230 crf honda  \n",
       "7                     shineray phoenix 50cc       50 phoenix shineray  \n",
       "8                                   pop 110                 honda pop  \n",
       "9                                       pop                 honda pop  \n",
       "10                                 c125 biz        125 biz c125 honda  \n",
       "11                           hunter max 125    125 hunter max sundown  \n",
       "12                                 c100 biz            biz c100 honda  \n",
       "13                                      web               sundown web  \n",
       "14                                  cb 250f         250 250f cb honda  \n",
       "15                            riva150 dafra            150 dafra riva  \n",
       "16                            xt 250 tenere      250 tenere xt yamaha  \n",
       "17                         yes intruder 125   125 intruder suzuki yes  \n",
       "18                                      ybr                yamaha ybr  \n",
       "19                                  cb 300r         300 300r cb honda  \n",
       "20                           next 250 dafra  250 dafra next xt yamaha  \n",
       "21                               kansas 150          150 dafra kansas  \n",
       "22                                 jet 49cc              jet shineray  \n",
       "23                                  fan 125             125 fan honda  \n",
       "24                                  xtz 125                   125 xtz  \n",
       "25                                  fan 125             125 fan honda  \n",
       "26                                  xre 300                   300 xre  \n",
       "27                                    titan               honda titan  \n",
       "28                            titan fan 150       150 fan honda titan  \n",
       "29                                titan 160           160 honda titan  \n",
       "...                                     ...                       ...  \n",
       "17454                            nxr150bros          150 honda nxr xr  \n",
       "17455                           crosser 150               150 crosser  \n",
       "17456                             fazer 150          150 fazer yamaha  \n",
       "17457                               crypton            crypton yamaha  \n",
       "17458                               fan 125             125 fan honda  \n",
       "17459                              broz 160            160 broz honda  \n",
       "17460                          ninja300 chh        300 kawasaki ninja  \n",
       "17461                                   pop                 honda pop  \n",
       "17462                             titan 160           160 honda titan  \n",
       "17463                          fazer250 chh          250 fazer yamaha  \n",
       "17464                            nxr150bros          150 honda nxr xr  \n",
       "17465                              fazer250          250 fazer yamaha  \n",
       "17466                               xre 300                   300 xre  \n",
       "17467                           crosser 150               150 crosser  \n",
       "17468                             fazer 150          150 fazer yamaha  \n",
       "17469                              broz 160            160 broz honda  \n",
       "17470                             titan 160           160 honda titan  \n",
       "17471                       fazer250 chh-uo          250 fazer yamaha  \n",
       "17472                    biz 1045 pro honda                 biz honda  \n",
       "17473         biz 125 pop 1045 pro honda 14         125 biz honda pop  \n",
       "17474         broz 150 pro honda nxr corren     150 broz honda nxr xr  \n",
       "17475              broz 160 pro honda es ks            160 broz honda  \n",
       "17476                  fan 125 pro honda cg          125 cg fan honda  \n",
       "17477               shin web ts pro sundown               sundown web  \n",
       "17478  titan 150 pro honda cg ks es mix den        150 cg honda titan  \n",
       "17479                titan 160 pro honda cg        160 cg honda titan  \n",
       "17480    titan pro honda cg 125 ks es cargo  125 cargo cg honda titan  \n",
       "17481           titan 1045 pro honda cg 125        125 cg honda titan  \n",
       "17482              ybr 125 pro yamaha corre            125 yamaha ybr  \n",
       "17483             ybr 125 pro yamaha factor     125 factor yamaha ybr  \n",
       "\n",
       "[17484 rows x 5 columns]"
      ]
     },
     "execution_count": 45,
     "metadata": {},
     "output_type": "execute_result"
    }
   ],
   "source": [
    "df.reset_index(drop=True)"
   ]
  },
  {
   "cell_type": "code",
   "execution_count": 46,
   "metadata": {},
   "outputs": [
    {
     "data": {
      "text/plain": [
       "(17484, 5)"
      ]
     },
     "execution_count": 46,
     "metadata": {},
     "output_type": "execute_result"
    }
   ],
   "source": [
    "df.shape"
   ]
  },
  {
   "cell_type": "markdown",
   "metadata": {},
   "source": [
    "### Funcão final que transforma a DESCRICAO DO PRODUTO em Modelo para classificar"
   ]
  },
  {
   "cell_type": "code",
   "execution_count": 47,
   "metadata": {},
   "outputs": [],
   "source": [
    "def criaModelo(descricao):\n",
    "    descricao=limpaDescricao(descricao)\n",
    "    descricao=achaPalavraChave(descricao)\n",
    "    descricao=acrescentaMarca(descricao)\n",
    "    return descricao"
   ]
  },
  {
   "cell_type": "code",
   "execution_count": 48,
   "metadata": {},
   "outputs": [
    {
     "data": {
      "text/plain": [
       "'250 cb honda twister'"
      ]
     },
     "execution_count": 48,
     "metadata": {},
     "output_type": "execute_result"
    }
   ],
   "source": [
    "criaModelo(df.iloc[linha]['DESCRICAO DO PRODUTO'])"
   ]
  },
  {
   "cell_type": "markdown",
   "metadata": {},
   "source": [
    "## Exportando DataFrame com Modelos de aplicação"
   ]
  },
  {
   "cell_type": "code",
   "execution_count": 49,
   "metadata": {},
   "outputs": [],
   "source": [
    "df.to_excel(r'./bases/dataframe_modelos.xlsx', index = False, header = True)"
   ]
  },
  {
   "cell_type": "markdown",
   "metadata": {},
   "source": [
    "## Gerando a WordCloud com o campo Modelo"
   ]
  },
  {
   "cell_type": "code",
   "execution_count": 50,
   "metadata": {},
   "outputs": [],
   "source": [
    "# Mescla todas as descrições como uma string usado espaço como separador\n",
    "descricoes = \" \".join(df['Modelo']).lower()"
   ]
  },
  {
   "cell_type": "code",
   "execution_count": 51,
   "metadata": {},
   "outputs": [],
   "source": [
    "# Define e gera a wordcloud para um máximo de 400 palavras de tamanho mínimo 2, sem termos duplos\n",
    "wordcloud = WordCloud(stopwords=stopwords,\n",
    "                      background_color=\"white\",\n",
    "                      width=1600, height=800,\n",
    "                      max_words=400,\n",
    "                      min_word_length=2,\n",
    "                      collocations=False,\n",
    "                      include_numbers=True).generate(descricoes)"
   ]
  },
  {
   "cell_type": "code",
   "execution_count": 52,
   "metadata": {
    "scrolled": true
   },
   "outputs": [
    {
     "data": {
      "text/plain": [
       "<matplotlib.image.AxesImage at 0x257b7ae46a0>"
      ]
     },
     "execution_count": 52,
     "metadata": {},
     "output_type": "execute_result"
    },
    {
     "data": {
      "image/png": "[encoded data removed]",
      "text/plain": [
       "<Figure size 1440x576 with 1 Axes>"
      ]
     },
     "metadata": {
      "needs_background": "light"
     },
     "output_type": "display_data"
    }
   ],
   "source": [
    "# Exibe a imagem da nova WordCloud gerada\n",
    "fig, ax = plt.subplots(figsize=(20,8))\n",
    "ax.imshow(wordcloud, interpolation='bilinear')\n",
    "ax.set_axis_off()\n",
    "plt.imshow(wordcloud)"
   ]
  },
  {
   "cell_type": "code",
   "execution_count": 53,
   "metadata": {},
   "outputs": [
    {
     "data": {
      "text/plain": [
       "<wordcloud.wordcloud.WordCloud at 0x257b5059470>"
      ]
     },
     "execution_count": 53,
     "metadata": {},
     "output_type": "execute_result"
    }
   ],
   "source": [
    "# Exporta para um aquivo\n",
    "wordcloud.to_file(\"./imagens/wordcloud_descricoes_final.png\")"
   ]
  },
  {
   "cell_type": "code",
   "execution_count": 54,
   "metadata": {},
   "outputs": [
    {
     "name": "stdout",
     "output_type": "stream",
     "text": [
      "Tempo total de execução: 16.82 minutos.\n"
     ]
    }
   ],
   "source": [
    "tempotot=time.time()-initot\n",
    "if tempotot>60:\n",
    "    print(f'Tempo total de execução: {tempotot/60:.2f} minutos.')\n",
    "else:\n",
    "    print(f'Tempo total de execução: {tempotot:.2f} segundos.')"
   ]
  }
 ],
 "metadata": {
  "kernelspec": {
   "display_name": "Python 3",
   "language": "python",
   "name": "python3"
  },
  "language_info": {
   "codemirror_mode": {
    "name": "ipython",
    "version": 3
   },
   "file_extension": ".py",
   "mimetype": "text/x-python",
   "name": "python",
   "nbconvert_exporter": "python",
   "pygments_lexer": "ipython3",
   "version": "3.7.3"
  },
  "toc": {
   "base_numbering": 1,
   "nav_menu": {},
   "number_sections": false,
   "sideBar": false,
   "skip_h1_title": false,
   "title_cell": "Sumário",
   "title_sidebar": "Sumário",
   "toc_cell": false,
   "toc_position": {},
   "toc_section_display": true,
   "toc_window_display": false
  }
 },
 "nbformat": 4,
 "nbformat_minor": 2
}
