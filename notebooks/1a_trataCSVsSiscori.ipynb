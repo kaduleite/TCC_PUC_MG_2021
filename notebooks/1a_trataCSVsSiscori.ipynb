{
 "cells": [
  {
   "cell_type": "markdown",
   "metadata": {},
   "source": [
    "# _Notebook Jupyter_ 1a_trataCSVsSiscori"
   ]
  },
  {
   "cell_type": "markdown",
   "metadata": {},
   "source": [
    "# Importação e tratamento dos dados Siscori"
   ]
  },
  {
   "cell_type": "markdown",
   "metadata": {},
   "source": [
    "Os dados importados no Siscore vêm em arquivos do tipo CSV no formato <b>CAPINNAAMM</b>, onde NN é o número do capítulo extraído, AA é o ano com dois dígitos e MM é o mês com dois dígitos, formando o período de refência dos dados extraídos. O arquivo CSV obtido vem configurado com o separador \"<b>@</b>\" e descrição da coluna com excesso de espaços, o que precisa de uma camada de tratamento para correta importação dos dados."
   ]
  },
  {
   "cell_type": "markdown",
   "metadata": {},
   "source": [
    "### Importação das Bibliotecas"
   ]
  },
  {
   "cell_type": "code",
   "execution_count": 1,
   "metadata": {},
   "outputs": [],
   "source": [
    "import pandas as pd\n",
    "import numpy as np\n",
    "import os, time"
   ]
  },
  {
   "cell_type": "code",
   "execution_count": 2,
   "metadata": {},
   "outputs": [
    {
     "name": "stdout",
     "output_type": "stream",
     "text": [
      "Código executado em 10/01/2022 às 17:55\n"
     ]
    }
   ],
   "source": [
    "# Data e hora da execução do script\n",
    "print(f'Código executado em {time.strftime(\"%d/%m/%Y às %H:%M\", time.localtime(time.time()))}')"
   ]
  },
  {
   "cell_type": "markdown",
   "metadata": {},
   "source": [
    "### Definindo dados gerais"
   ]
  },
  {
   "cell_type": "markdown",
   "metadata": {},
   "source": [
    "Cria lista de arquivos CSV contidos na pasta atual"
   ]
  },
  {
   "cell_type": "code",
   "execution_count": 3,
   "metadata": {},
   "outputs": [
    {
     "name": "stdout",
     "output_type": "stream",
     "text": [
      "['CAPI872001.CSV', 'CAPI872002.CSV', 'CAPI872003.CSV', 'CAPI872004.CSV', 'CAPI872005.CSV', 'CAPI872006.CSV', 'CAPI872007.CSV', 'CAPI872008.CSV', 'CAPI872009.CSV', 'CAPI872010.CSV', 'CAPI872011.CSV', 'CAPI872012.CSV', 'CAPI872101.CSV', 'CAPI872102.CSV', 'CAPI872103.CSV', 'CAPI872104.CSV', 'CAPI872105.CSV', 'CAPI872106.CSV']\n"
     ]
    }
   ],
   "source": [
    "arqsCSV = []\n",
    "for arquivo in os.listdir(\"./\"):\n",
    "    if arquivo[-3:].upper()==\"CSV\" and arquivo[:4]=='CAPI':\n",
    "        arqsCSV.append(arquivo)\n",
    "arqsCSV=sorted(arqsCSV)\n",
    "print(arqsCSV)"
   ]
  },
  {
   "cell_type": "markdown",
   "metadata": {},
   "source": [
    "Cria variáveis com nomes das colunas e seus tipos"
   ]
  },
  {
   "cell_type": "code",
   "execution_count": 4,
   "metadata": {},
   "outputs": [],
   "source": [
    "tipos = {'NUMERO DE ORDEM': str,\n",
    "         'ANOMES': str,\n",
    "         'COD.NCM': str,\n",
    "         'DESCRICAO DO CODIGO NCM': object,\n",
    "         'PAIS.OR': int,\n",
    "         'PAIS DE ORIGEM': object,\n",
    "         'PAIS.AQ': int,\n",
    "         'PAIS DE AQUISICAO': object,\n",
    "         'UND.ESTAT.': int,\n",
    "         'UNIDADE DE MEDIDA': object,\n",
    "         'UNIDADE COMERC.': object,\n",
    "         'DESCRICAO DO PRODUTO': object,\n",
    "         'QTDE ESTATISTICA': float,\n",
    "         'PESO LIQUIDO': float,\n",
    "         'VMLE DOLAR': float,\n",
    "         'VL FRETE DOLAR': float,\n",
    "         'VL SEGURO DOLAR': float,\n",
    "         'VALOR UN.PROD.DOLAR': float,\n",
    "         'QTD COMERCIAL.': float,\n",
    "         'TOT.UN.PROD.DOLAR': float,\n",
    "         'UNIDADE DESEMBARQUE': object,\n",
    "         'UNIDADE DESEMBARACO': object,\n",
    "         'INCOTERM': object,\n",
    "         'NAT.INFORMACAO': object,\n",
    "         'SITUACAO DO DESPACHO': object}\n",
    "colunas = list(tipos.keys())"
   ]
  },
  {
   "cell_type": "markdown",
   "metadata": {},
   "source": [
    "Inicializa a variável que conterá o tamanho total do dataset original"
   ]
  },
  {
   "cell_type": "code",
   "execution_count": 5,
   "metadata": {},
   "outputs": [],
   "source": [
    "tamanhoDataset=0"
   ]
  },
  {
   "cell_type": "markdown",
   "metadata": {},
   "source": [
    "Inicializa um dataframe vazio que conterá os dados finais"
   ]
  },
  {
   "cell_type": "code",
   "execution_count": 6,
   "metadata": {},
   "outputs": [
    {
     "data": {
      "text/html": [
       "<div>\n",
       "<style scoped>\n",
       "    .dataframe tbody tr th:only-of-type {\n",
       "        vertical-align: middle;\n",
       "    }\n",
       "\n",
       "    .dataframe tbody tr th {\n",
       "        vertical-align: top;\n",
       "    }\n",
       "\n",
       "    .dataframe thead th {\n",
       "        text-align: right;\n",
       "    }\n",
       "</style>\n",
       "<table border=\"1\" class=\"dataframe\">\n",
       "  <thead>\n",
       "    <tr style=\"text-align: right;\">\n",
       "      <th></th>\n",
       "      <th>NUMERO DE ORDEM</th>\n",
       "      <th>ANOMES</th>\n",
       "      <th>COD.NCM</th>\n",
       "      <th>DESCRICAO DO CODIGO NCM</th>\n",
       "      <th>PAIS.OR</th>\n",
       "      <th>PAIS DE ORIGEM</th>\n",
       "      <th>PAIS.AQ</th>\n",
       "      <th>PAIS DE AQUISICAO</th>\n",
       "      <th>UND.ESTAT.</th>\n",
       "      <th>UNIDADE DE MEDIDA</th>\n",
       "      <th>...</th>\n",
       "      <th>VL FRETE DOLAR</th>\n",
       "      <th>VL SEGURO DOLAR</th>\n",
       "      <th>VALOR UN.PROD.DOLAR</th>\n",
       "      <th>QTD COMERCIAL.</th>\n",
       "      <th>TOT.UN.PROD.DOLAR</th>\n",
       "      <th>UNIDADE DESEMBARQUE</th>\n",
       "      <th>UNIDADE DESEMBARACO</th>\n",
       "      <th>INCOTERM</th>\n",
       "      <th>NAT.INFORMACAO</th>\n",
       "      <th>SITUACAO DO DESPACHO</th>\n",
       "    </tr>\n",
       "  </thead>\n",
       "  <tbody>\n",
       "  </tbody>\n",
       "</table>\n",
       "<p>0 rows × 25 columns</p>\n",
       "</div>"
      ],
      "text/plain": [
       "Empty DataFrame\n",
       "Columns: [NUMERO DE ORDEM, ANOMES, COD.NCM, DESCRICAO DO CODIGO NCM, PAIS.OR, PAIS DE ORIGEM, PAIS.AQ, PAIS DE AQUISICAO, UND.ESTAT., UNIDADE DE MEDIDA, UNIDADE COMERC., DESCRICAO DO PRODUTO, QTDE ESTATISTICA, PESO LIQUIDO, VMLE DOLAR, VL FRETE DOLAR, VL SEGURO DOLAR, VALOR UN.PROD.DOLAR, QTD COMERCIAL., TOT.UN.PROD.DOLAR, UNIDADE DESEMBARQUE, UNIDADE DESEMBARACO, INCOTERM, NAT.INFORMACAO, SITUACAO DO DESPACHO]\n",
       "Index: []\n",
       "\n",
       "[0 rows x 25 columns]"
      ]
     },
     "execution_count": 6,
     "metadata": {},
     "output_type": "execute_result"
    }
   ],
   "source": [
    "df = pd.DataFrame(columns = colunas)\n",
    "df.head()"
   ]
  },
  {
   "cell_type": "markdown",
   "metadata": {},
   "source": [
    "### Importa cada CSV, trata e concatena no DataFrame final"
   ]
  },
  {
   "cell_type": "code",
   "execution_count": 7,
   "metadata": {},
   "outputs": [
    {
     "name": "stdout",
     "output_type": "stream",
     "text": [
      "Iniciando CAPI872001.CSV.\n"
     ]
    },
    {
     "name": "stderr",
     "output_type": "stream",
     "text": [
      "Skipping line 390699: field larger than field limit (131072)\n"
     ]
    },
    {
     "name": "stdout",
     "output_type": "stream",
     "text": [
      "DataFrame carregado...\n",
      "Aplicando filtros...\n",
      "Quantidade de registros válidos: 491150\n",
      "CAPI872001.CSV finalizado.\n",
      "\n",
      "Iniciando CAPI872002.CSV.\n",
      "DataFrame carregado...\n",
      "Aplicando filtros...\n",
      "Quantidade de registros válidos: 867647\n",
      "CAPI872002.CSV finalizado.\n",
      "\n",
      "Iniciando CAPI872003.CSV.\n",
      "DataFrame carregado...\n",
      "Aplicando filtros...\n",
      "Quantidade de registros válidos: 1303525\n",
      "CAPI872003.CSV finalizado.\n",
      "\n",
      "Iniciando CAPI872004.CSV.\n",
      "DataFrame carregado...\n",
      "Aplicando filtros...\n",
      "Quantidade de registros válidos: 1633743\n",
      "CAPI872004.CSV finalizado.\n",
      "\n",
      "Iniciando CAPI872005.CSV.\n",
      "DataFrame carregado...\n",
      "Aplicando filtros...\n",
      "Quantidade de registros válidos: 1881276\n",
      "CAPI872005.CSV finalizado.\n",
      "\n",
      "Iniciando CAPI872006.CSV.\n",
      "DataFrame carregado...\n",
      "Aplicando filtros...\n",
      "Quantidade de registros válidos: 2111936\n",
      "CAPI872006.CSV finalizado.\n",
      "\n",
      "Iniciando CAPI872007.CSV.\n",
      "DataFrame carregado...\n",
      "Aplicando filtros...\n",
      "Quantidade de registros válidos: 2417409\n",
      "CAPI872007.CSV finalizado.\n",
      "\n",
      "Iniciando CAPI872008.CSV.\n",
      "DataFrame carregado...\n",
      "Aplicando filtros...\n",
      "Quantidade de registros válidos: 2758394\n",
      "CAPI872008.CSV finalizado.\n",
      "\n",
      "Iniciando CAPI872009.CSV.\n"
     ]
    },
    {
     "name": "stderr",
     "output_type": "stream",
     "text": [
      "Skipping line 205695: '@' expected after '''\n",
      "Skipping line 205941: field larger than field limit (131072)\n",
      "Skipping line 328937: '@' expected after '''\n",
      "Skipping line 333250: '@' expected after '''\n",
      "Skipping line 333251: '@' expected after '''\n"
     ]
    },
    {
     "name": "stdout",
     "output_type": "stream",
     "text": [
      "DataFrame carregado...\n",
      "Aplicando filtros...\n",
      "Quantidade de registros válidos: 3092950\n",
      "CAPI872009.CSV finalizado.\n",
      "\n",
      "Iniciando CAPI872010.CSV.\n"
     ]
    },
    {
     "name": "stderr",
     "output_type": "stream",
     "text": [
      "Skipping line 297842: '@' expected after '''\n",
      "Skipping line 366276: '@' expected after '''\n"
     ]
    },
    {
     "name": "stdout",
     "output_type": "stream",
     "text": [
      "DataFrame carregado...\n",
      "Aplicando filtros...\n",
      "Quantidade de registros válidos: 3524548\n",
      "CAPI872010.CSV finalizado.\n",
      "\n",
      "Iniciando CAPI872011.CSV.\n"
     ]
    },
    {
     "name": "stderr",
     "output_type": "stream",
     "text": [
      "Skipping line 145469: field larger than field limit (131072)\n",
      "Skipping line 271952: '@' expected after '''\n",
      "Skipping line 276774: '@' expected after '''\n",
      "Skipping line 277830: '@' expected after '''\n",
      "Skipping line 305333: field larger than field limit (131072)\n"
     ]
    },
    {
     "name": "stdout",
     "output_type": "stream",
     "text": [
      "DataFrame carregado...\n",
      "Aplicando filtros...\n",
      "Quantidade de registros válidos: 3959784\n",
      "CAPI872011.CSV finalizado.\n",
      "\n",
      "Iniciando CAPI872012.CSV.\n"
     ]
    },
    {
     "name": "stderr",
     "output_type": "stream",
     "text": [
      "Skipping line 302465: field larger than field limit (131072)\n",
      "Skipping line 312506: field larger than field limit (131072)\n",
      "Skipping line 383935: field larger than field limit (131072)\n"
     ]
    },
    {
     "name": "stdout",
     "output_type": "stream",
     "text": [
      "DataFrame carregado...\n",
      "Aplicando filtros...\n",
      "Quantidade de registros válidos: 4423973\n",
      "CAPI872012.CSV finalizado.\n",
      "\n",
      "Iniciando CAPI872101.CSV.\n"
     ]
    },
    {
     "name": "stderr",
     "output_type": "stream",
     "text": [
      "Skipping line 294809: field larger than field limit (131072)\n",
      "Skipping line 295442: field larger than field limit (131072)\n",
      "Skipping line 295721: field larger than field limit (131072)\n",
      "Skipping line 299080: field larger than field limit (131072)\n",
      "Skipping line 368381: '@' expected after '''\n"
     ]
    },
    {
     "name": "stdout",
     "output_type": "stream",
     "text": [
      "DataFrame carregado...\n",
      "Aplicando filtros...\n",
      "Quantidade de registros válidos: 4887783\n",
      "CAPI872101.CSV finalizado.\n",
      "\n",
      "Iniciando CAPI872102.CSV.\n"
     ]
    },
    {
     "name": "stderr",
     "output_type": "stream",
     "text": [
      "Skipping line 245262: '@' expected after '''\n",
      "Skipping line 248256: field larger than field limit (131072)\n",
      "Skipping line 249603: field larger than field limit (131072)\n",
      "Skipping line 253297: field larger than field limit (131072)\n"
     ]
    },
    {
     "name": "stdout",
     "output_type": "stream",
     "text": [
      "DataFrame carregado...\n",
      "Aplicando filtros...\n",
      "Quantidade de registros válidos: 5295448\n",
      "CAPI872102.CSV finalizado.\n",
      "\n",
      "Iniciando CAPI872103.CSV.\n"
     ]
    },
    {
     "name": "stderr",
     "output_type": "stream",
     "text": [
      "Skipping line 351927: field larger than field limit (131072)\n",
      "Skipping line 519061: field larger than field limit (131072)\n"
     ]
    },
    {
     "name": "stdout",
     "output_type": "stream",
     "text": [
      "DataFrame carregado...\n",
      "Aplicando filtros...\n",
      "Quantidade de registros válidos: 5845327\n",
      "CAPI872103.CSV finalizado.\n",
      "\n",
      "Iniciando CAPI872104.CSV.\n"
     ]
    },
    {
     "name": "stderr",
     "output_type": "stream",
     "text": [
      "Skipping line 3530: '@' expected after '''\n",
      "Skipping line 5314: field larger than field limit (131072)\n",
      "Skipping line 427103: '@' expected after '''\n",
      "Skipping line 435136: field larger than field limit (131072)\n",
      "Skipping line 435246: field larger than field limit (131072)\n"
     ]
    },
    {
     "name": "stdout",
     "output_type": "stream",
     "text": [
      "DataFrame carregado...\n",
      "Aplicando filtros...\n",
      "Quantidade de registros válidos: 6481393\n",
      "CAPI872104.CSV finalizado.\n",
      "\n",
      "Iniciando CAPI872105.CSV.\n"
     ]
    },
    {
     "name": "stderr",
     "output_type": "stream",
     "text": [
      "Skipping line 1432: '@' expected after '''\n",
      "Skipping line 1433: field larger than field limit (131072)\n",
      "Skipping line 6175: '@' expected after '''\n",
      "Skipping line 277564: '@' expected after '''\n",
      "Skipping line 278426: field larger than field limit (131072)\n",
      "Skipping line 280731: '@' expected after '''\n",
      "Skipping line 281441: field larger than field limit (131072)\n",
      "Skipping line 282315: '@' expected after '''\n",
      "Skipping line 282700: field larger than field limit (131072)\n",
      "Skipping line 333245: '@' expected after '''\n",
      "Skipping line 386253: field larger than field limit (131072)\n"
     ]
    },
    {
     "name": "stdout",
     "output_type": "stream",
     "text": [
      "DataFrame carregado...\n",
      "Aplicando filtros...\n",
      "Quantidade de registros válidos: 6963712\n",
      "CAPI872105.CSV finalizado.\n",
      "\n",
      "Iniciando CAPI872106.CSV.\n"
     ]
    },
    {
     "name": "stderr",
     "output_type": "stream",
     "text": [
      "Skipping line 8619: field larger than field limit (131072)\n",
      "Skipping line 9337: field larger than field limit (131072)\n",
      "Skipping line 10237: field larger than field limit (131072)\n"
     ]
    },
    {
     "name": "stdout",
     "output_type": "stream",
     "text": [
      "DataFrame carregado...\n",
      "Aplicando filtros...\n",
      "Quantidade de registros válidos: 7693634\n",
      "CAPI872106.CSV finalizado.\n",
      "\n"
     ]
    }
   ],
   "source": [
    "# Executa para cada CSV na lista\n",
    "for arqCSV in arqsCSV:\n",
    "    print('Iniciando ' + arqCSV + '.')\n",
    "    dftemp = pd.read_csv(arqCSV,\n",
    "                         sep='@', \n",
    "                         decimal=r',', \n",
    "                         engine='python', \n",
    "                         encoding = \"ISO-8859-1\",\n",
    "                         header = 0,\n",
    "                         names = colunas,\n",
    "                         dtype = tipos, \n",
    "                         quotechar=\"'\", \n",
    "                         error_bad_lines=False)\n",
    "    print('DataFrame carregado...\\nAplicando filtros...')\n",
    "    # Elimina os registros sem valores ou nulos\n",
    "    dftemp = dftemp.dropna()\n",
    "    # Incrementa o tamanho do Dataset\n",
    "    tamanhoDataset += dftemp[dftemp.columns[0]].count()\n",
    "    print('Quantidade de registros válidos: ' + str(tamanhoDataset))\n",
    "    # Filtra o DataFrame somente com os registros de interesse\n",
    "    # Filtro 1: NCM de interesse: 87141000\n",
    "    indiceNCM = dftemp['COD.NCM'] == '87141000'\n",
    "    dftemp = dftemp[indiceNCM]\n",
    "    # Filtro 2: Descrição contendo palavras da lista\n",
    "    listafiltro = [\"kit\", \"transm\", \"corrente\", \"coroa\", \"pinhao|pinhão\"] # A barra vertical (|) faz o \"ou\".\n",
    "    for termo in listafiltro:\n",
    "        dftemp=dftemp[dftemp['DESCRICAO DO PRODUTO'].str.contains(termo, case=False)]\n",
    "    # Concatena com o DataFrame final\n",
    "    df = pd.concat([df,dftemp])\n",
    "    print(arqCSV + ' finalizado.\\n')"
   ]
  },
  {
   "cell_type": "markdown",
   "metadata": {},
   "source": [
    "### Resetando o índice do DataFrame final"
   ]
  },
  {
   "cell_type": "code",
   "execution_count": 8,
   "metadata": {},
   "outputs": [],
   "source": [
    "df.reset_index(inplace=True, drop=True)"
   ]
  },
  {
   "cell_type": "markdown",
   "metadata": {},
   "source": [
    "### Verificando o DataFrame final"
   ]
  },
  {
   "cell_type": "code",
   "execution_count": 9,
   "metadata": {},
   "outputs": [
    {
     "data": {
      "text/html": [
       "<div>\n",
       "<style scoped>\n",
       "    .dataframe tbody tr th:only-of-type {\n",
       "        vertical-align: middle;\n",
       "    }\n",
       "\n",
       "    .dataframe tbody tr th {\n",
       "        vertical-align: top;\n",
       "    }\n",
       "\n",
       "    .dataframe thead th {\n",
       "        text-align: right;\n",
       "    }\n",
       "</style>\n",
       "<table border=\"1\" class=\"dataframe\">\n",
       "  <thead>\n",
       "    <tr style=\"text-align: right;\">\n",
       "      <th></th>\n",
       "      <th>NUMERO DE ORDEM</th>\n",
       "      <th>ANOMES</th>\n",
       "      <th>COD.NCM</th>\n",
       "      <th>DESCRICAO DO CODIGO NCM</th>\n",
       "      <th>PAIS.OR</th>\n",
       "      <th>PAIS DE ORIGEM</th>\n",
       "      <th>PAIS.AQ</th>\n",
       "      <th>PAIS DE AQUISICAO</th>\n",
       "      <th>UND.ESTAT.</th>\n",
       "      <th>UNIDADE DE MEDIDA</th>\n",
       "      <th>...</th>\n",
       "      <th>VL FRETE DOLAR</th>\n",
       "      <th>VL SEGURO DOLAR</th>\n",
       "      <th>VALOR UN.PROD.DOLAR</th>\n",
       "      <th>QTD COMERCIAL.</th>\n",
       "      <th>TOT.UN.PROD.DOLAR</th>\n",
       "      <th>UNIDADE DESEMBARQUE</th>\n",
       "      <th>UNIDADE DESEMBARACO</th>\n",
       "      <th>INCOTERM</th>\n",
       "      <th>NAT.INFORMACAO</th>\n",
       "      <th>SITUACAO DO DESPACHO</th>\n",
       "    </tr>\n",
       "  </thead>\n",
       "  <tbody>\n",
       "    <tr>\n",
       "      <th>0</th>\n",
       "      <td>0000001137910000100001</td>\n",
       "      <td>202001</td>\n",
       "      <td>87141000</td>\n",
       "      <td>PARTES ACESSÓRIOS P/MOTOCICLET</td>\n",
       "      <td>160</td>\n",
       "      <td>CHINA, REPUBLICA POP</td>\n",
       "      <td>160</td>\n",
       "      <td>CHINA, REPUBLICA POP</td>\n",
       "      <td>10</td>\n",
       "      <td>QUILOGRAMA LIQUIDO</td>\n",
       "      <td>...</td>\n",
       "      <td>5000.0</td>\n",
       "      <td>0.0</td>\n",
       "      <td>3.728000</td>\n",
       "      <td>23400.0</td>\n",
       "      <td>87235.20000</td>\n",
       "      <td>N/INFORMADO</td>\n",
       "      <td>ITAJAI</td>\n",
       "      <td>FOB</td>\n",
       "      <td>EFETIVA</td>\n",
       "      <td>DI DESEMBARAÇADA                              ...</td>\n",
       "    </tr>\n",
       "    <tr>\n",
       "      <th>1</th>\n",
       "      <td>0000001137910000100002</td>\n",
       "      <td>202001</td>\n",
       "      <td>87141000</td>\n",
       "      <td>PARTES ACESSÓRIOS P/MOTOCICLET</td>\n",
       "      <td>160</td>\n",
       "      <td>CHINA, REPUBLICA POP</td>\n",
       "      <td>160</td>\n",
       "      <td>CHINA, REPUBLICA POP</td>\n",
       "      <td>10</td>\n",
       "      <td>QUILOGRAMA LIQUIDO</td>\n",
       "      <td>...</td>\n",
       "      <td>5000.0</td>\n",
       "      <td>0.0</td>\n",
       "      <td>3.700000</td>\n",
       "      <td>22000.0</td>\n",
       "      <td>81400.00000</td>\n",
       "      <td>N/INFORMADO</td>\n",
       "      <td>ITAJAI</td>\n",
       "      <td>FOB</td>\n",
       "      <td>EFETIVA</td>\n",
       "      <td>DI DESEMBARAÇADA                              ...</td>\n",
       "    </tr>\n",
       "    <tr>\n",
       "      <th>2</th>\n",
       "      <td>0000001137910000100003</td>\n",
       "      <td>202001</td>\n",
       "      <td>87141000</td>\n",
       "      <td>PARTES ACESSÓRIOS P/MOTOCICLET</td>\n",
       "      <td>160</td>\n",
       "      <td>CHINA, REPUBLICA POP</td>\n",
       "      <td>160</td>\n",
       "      <td>CHINA, REPUBLICA POP</td>\n",
       "      <td>10</td>\n",
       "      <td>QUILOGRAMA LIQUIDO</td>\n",
       "      <td>...</td>\n",
       "      <td>5000.0</td>\n",
       "      <td>0.0</td>\n",
       "      <td>3.686000</td>\n",
       "      <td>2500.0</td>\n",
       "      <td>9215.00000</td>\n",
       "      <td>N/INFORMADO</td>\n",
       "      <td>ITAJAI</td>\n",
       "      <td>FOB</td>\n",
       "      <td>EFETIVA</td>\n",
       "      <td>DI DESEMBARAÇADA                              ...</td>\n",
       "    </tr>\n",
       "    <tr>\n",
       "      <th>3</th>\n",
       "      <td>0000000443430000100001</td>\n",
       "      <td>202001</td>\n",
       "      <td>87141000</td>\n",
       "      <td>PARTES ACESSÓRIOS P/MOTOCICLET</td>\n",
       "      <td>160</td>\n",
       "      <td>CHINA, REPUBLICA POP</td>\n",
       "      <td>160</td>\n",
       "      <td>CHINA, REPUBLICA POP</td>\n",
       "      <td>10</td>\n",
       "      <td>QUILOGRAMA LIQUIDO</td>\n",
       "      <td>...</td>\n",
       "      <td>10250.0</td>\n",
       "      <td>0.0</td>\n",
       "      <td>3.343258</td>\n",
       "      <td>1500.0</td>\n",
       "      <td>5014.88670</td>\n",
       "      <td>N/INFORMADO</td>\n",
       "      <td>PORTO DE VITORIA</td>\n",
       "      <td>FOB</td>\n",
       "      <td>EFETIVA</td>\n",
       "      <td>DI DESEMBARAÇADA                              ...</td>\n",
       "    </tr>\n",
       "    <tr>\n",
       "      <th>4</th>\n",
       "      <td>0000000443430000100002</td>\n",
       "      <td>202001</td>\n",
       "      <td>87141000</td>\n",
       "      <td>PARTES ACESSÓRIOS P/MOTOCICLET</td>\n",
       "      <td>160</td>\n",
       "      <td>CHINA, REPUBLICA POP</td>\n",
       "      <td>160</td>\n",
       "      <td>CHINA, REPUBLICA POP</td>\n",
       "      <td>10</td>\n",
       "      <td>QUILOGRAMA LIQUIDO</td>\n",
       "      <td>...</td>\n",
       "      <td>10250.0</td>\n",
       "      <td>0.0</td>\n",
       "      <td>3.826396</td>\n",
       "      <td>400.0</td>\n",
       "      <td>1530.55836</td>\n",
       "      <td>N/INFORMADO</td>\n",
       "      <td>PORTO DE VITORIA</td>\n",
       "      <td>FOB</td>\n",
       "      <td>EFETIVA</td>\n",
       "      <td>DI DESEMBARAÇADA                              ...</td>\n",
       "    </tr>\n",
       "  </tbody>\n",
       "</table>\n",
       "<p>5 rows × 25 columns</p>\n",
       "</div>"
      ],
      "text/plain": [
       "          NUMERO DE ORDEM  ANOMES   COD.NCM         DESCRICAO DO CODIGO NCM  \\\n",
       "0  0000001137910000100001  202001  87141000  PARTES ACESSÓRIOS P/MOTOCICLET   \n",
       "1  0000001137910000100002  202001  87141000  PARTES ACESSÓRIOS P/MOTOCICLET   \n",
       "2  0000001137910000100003  202001  87141000  PARTES ACESSÓRIOS P/MOTOCICLET   \n",
       "3  0000000443430000100001  202001  87141000  PARTES ACESSÓRIOS P/MOTOCICLET   \n",
       "4  0000000443430000100002  202001  87141000  PARTES ACESSÓRIOS P/MOTOCICLET   \n",
       "\n",
       "  PAIS.OR        PAIS DE ORIGEM PAIS.AQ     PAIS DE AQUISICAO UND.ESTAT.  \\\n",
       "0     160  CHINA, REPUBLICA POP     160  CHINA, REPUBLICA POP         10   \n",
       "1     160  CHINA, REPUBLICA POP     160  CHINA, REPUBLICA POP         10   \n",
       "2     160  CHINA, REPUBLICA POP     160  CHINA, REPUBLICA POP         10   \n",
       "3     160  CHINA, REPUBLICA POP     160  CHINA, REPUBLICA POP         10   \n",
       "4     160  CHINA, REPUBLICA POP     160  CHINA, REPUBLICA POP         10   \n",
       "\n",
       "      UNIDADE DE MEDIDA  ... VL FRETE DOLAR VL SEGURO DOLAR  \\\n",
       "0  QUILOGRAMA LIQUIDO    ...         5000.0             0.0   \n",
       "1  QUILOGRAMA LIQUIDO    ...         5000.0             0.0   \n",
       "2  QUILOGRAMA LIQUIDO    ...         5000.0             0.0   \n",
       "3  QUILOGRAMA LIQUIDO    ...        10250.0             0.0   \n",
       "4  QUILOGRAMA LIQUIDO    ...        10250.0             0.0   \n",
       "\n",
       "   VALOR UN.PROD.DOLAR  QTD COMERCIAL.  TOT.UN.PROD.DOLAR  \\\n",
       "0             3.728000         23400.0        87235.20000   \n",
       "1             3.700000         22000.0        81400.00000   \n",
       "2             3.686000          2500.0         9215.00000   \n",
       "3             3.343258          1500.0         5014.88670   \n",
       "4             3.826396           400.0         1530.55836   \n",
       "\n",
       "              UNIDADE DESEMBARQUE             UNIDADE DESEMBARACO  INCOTERM  \\\n",
       "0  N/INFORMADO                     ITAJAI                               FOB   \n",
       "1  N/INFORMADO                     ITAJAI                               FOB   \n",
       "2  N/INFORMADO                     ITAJAI                               FOB   \n",
       "3  N/INFORMADO                     PORTO DE VITORIA                     FOB   \n",
       "4  N/INFORMADO                     PORTO DE VITORIA                     FOB   \n",
       "\n",
       "    NAT.INFORMACAO                               SITUACAO DO DESPACHO  \n",
       "0     EFETIVA       DI DESEMBARAÇADA                              ...  \n",
       "1     EFETIVA       DI DESEMBARAÇADA                              ...  \n",
       "2     EFETIVA       DI DESEMBARAÇADA                              ...  \n",
       "3     EFETIVA       DI DESEMBARAÇADA                              ...  \n",
       "4     EFETIVA       DI DESEMBARAÇADA                              ...  \n",
       "\n",
       "[5 rows x 25 columns]"
      ]
     },
     "execution_count": 9,
     "metadata": {},
     "output_type": "execute_result"
    }
   ],
   "source": [
    "df.head()"
   ]
  },
  {
   "cell_type": "code",
   "execution_count": 10,
   "metadata": {},
   "outputs": [
    {
     "data": {
      "text/html": [
       "<div>\n",
       "<style scoped>\n",
       "    .dataframe tbody tr th:only-of-type {\n",
       "        vertical-align: middle;\n",
       "    }\n",
       "\n",
       "    .dataframe tbody tr th {\n",
       "        vertical-align: top;\n",
       "    }\n",
       "\n",
       "    .dataframe thead th {\n",
       "        text-align: right;\n",
       "    }\n",
       "</style>\n",
       "<table border=\"1\" class=\"dataframe\">\n",
       "  <thead>\n",
       "    <tr style=\"text-align: right;\">\n",
       "      <th></th>\n",
       "      <th>NUMERO DE ORDEM</th>\n",
       "      <th>ANOMES</th>\n",
       "      <th>COD.NCM</th>\n",
       "      <th>DESCRICAO DO CODIGO NCM</th>\n",
       "      <th>PAIS.OR</th>\n",
       "      <th>PAIS DE ORIGEM</th>\n",
       "      <th>PAIS.AQ</th>\n",
       "      <th>PAIS DE AQUISICAO</th>\n",
       "      <th>UND.ESTAT.</th>\n",
       "      <th>UNIDADE DE MEDIDA</th>\n",
       "      <th>...</th>\n",
       "      <th>VL FRETE DOLAR</th>\n",
       "      <th>VL SEGURO DOLAR</th>\n",
       "      <th>VALOR UN.PROD.DOLAR</th>\n",
       "      <th>QTD COMERCIAL.</th>\n",
       "      <th>TOT.UN.PROD.DOLAR</th>\n",
       "      <th>UNIDADE DESEMBARQUE</th>\n",
       "      <th>UNIDADE DESEMBARACO</th>\n",
       "      <th>INCOTERM</th>\n",
       "      <th>NAT.INFORMACAO</th>\n",
       "      <th>SITUACAO DO DESPACHO</th>\n",
       "    </tr>\n",
       "  </thead>\n",
       "  <tbody>\n",
       "    <tr>\n",
       "      <th>19087</th>\n",
       "      <td>0000001834950000100008</td>\n",
       "      <td>202106</td>\n",
       "      <td>87141000</td>\n",
       "      <td>PARTES ACESSÓRIOS P/MOTOCICLET</td>\n",
       "      <td>160</td>\n",
       "      <td>CHINA, REPUBLICA POP</td>\n",
       "      <td>160</td>\n",
       "      <td>CHINA, REPUBLICA POP</td>\n",
       "      <td>10</td>\n",
       "      <td>QUILOGRAMA LIQUIDO</td>\n",
       "      <td>...</td>\n",
       "      <td>13689.44</td>\n",
       "      <td>128.81</td>\n",
       "      <td>3.747</td>\n",
       "      <td>600.0</td>\n",
       "      <td>2248.2</td>\n",
       "      <td>N/INFORMADO</td>\n",
       "      <td>ALF - FORTALEZA</td>\n",
       "      <td>FOB</td>\n",
       "      <td>EFETIVA</td>\n",
       "      <td>DI DESEMBARAÇADA</td>\n",
       "    </tr>\n",
       "    <tr>\n",
       "      <th>19088</th>\n",
       "      <td>0000001834950000100009</td>\n",
       "      <td>202106</td>\n",
       "      <td>87141000</td>\n",
       "      <td>PARTES ACESSÓRIOS P/MOTOCICLET</td>\n",
       "      <td>160</td>\n",
       "      <td>CHINA, REPUBLICA POP</td>\n",
       "      <td>160</td>\n",
       "      <td>CHINA, REPUBLICA POP</td>\n",
       "      <td>10</td>\n",
       "      <td>QUILOGRAMA LIQUIDO</td>\n",
       "      <td>...</td>\n",
       "      <td>13689.44</td>\n",
       "      <td>128.81</td>\n",
       "      <td>3.620</td>\n",
       "      <td>2500.0</td>\n",
       "      <td>9050.0</td>\n",
       "      <td>N/INFORMADO</td>\n",
       "      <td>ALF - FORTALEZA</td>\n",
       "      <td>FOB</td>\n",
       "      <td>EFETIVA</td>\n",
       "      <td>DI DESEMBARAÇADA</td>\n",
       "    </tr>\n",
       "    <tr>\n",
       "      <th>19089</th>\n",
       "      <td>0000001834950000100010</td>\n",
       "      <td>202106</td>\n",
       "      <td>87141000</td>\n",
       "      <td>PARTES ACESSÓRIOS P/MOTOCICLET</td>\n",
       "      <td>160</td>\n",
       "      <td>CHINA, REPUBLICA POP</td>\n",
       "      <td>160</td>\n",
       "      <td>CHINA, REPUBLICA POP</td>\n",
       "      <td>10</td>\n",
       "      <td>QUILOGRAMA LIQUIDO</td>\n",
       "      <td>...</td>\n",
       "      <td>13689.44</td>\n",
       "      <td>128.81</td>\n",
       "      <td>3.581</td>\n",
       "      <td>1000.0</td>\n",
       "      <td>3581.0</td>\n",
       "      <td>N/INFORMADO</td>\n",
       "      <td>ALF - FORTALEZA</td>\n",
       "      <td>FOB</td>\n",
       "      <td>EFETIVA</td>\n",
       "      <td>DI DESEMBARAÇADA</td>\n",
       "    </tr>\n",
       "    <tr>\n",
       "      <th>19090</th>\n",
       "      <td>0000001834950000100011</td>\n",
       "      <td>202106</td>\n",
       "      <td>87141000</td>\n",
       "      <td>PARTES ACESSÓRIOS P/MOTOCICLET</td>\n",
       "      <td>160</td>\n",
       "      <td>CHINA, REPUBLICA POP</td>\n",
       "      <td>160</td>\n",
       "      <td>CHINA, REPUBLICA POP</td>\n",
       "      <td>10</td>\n",
       "      <td>QUILOGRAMA LIQUIDO</td>\n",
       "      <td>...</td>\n",
       "      <td>13689.44</td>\n",
       "      <td>128.81</td>\n",
       "      <td>3.450</td>\n",
       "      <td>100.0</td>\n",
       "      <td>345.0</td>\n",
       "      <td>N/INFORMADO</td>\n",
       "      <td>ALF - FORTALEZA</td>\n",
       "      <td>FOB</td>\n",
       "      <td>EFETIVA</td>\n",
       "      <td>DI DESEMBARAÇADA</td>\n",
       "    </tr>\n",
       "    <tr>\n",
       "      <th>19091</th>\n",
       "      <td>0000001834950000100012</td>\n",
       "      <td>202106</td>\n",
       "      <td>87141000</td>\n",
       "      <td>PARTES ACESSÓRIOS P/MOTOCICLET</td>\n",
       "      <td>160</td>\n",
       "      <td>CHINA, REPUBLICA POP</td>\n",
       "      <td>160</td>\n",
       "      <td>CHINA, REPUBLICA POP</td>\n",
       "      <td>10</td>\n",
       "      <td>QUILOGRAMA LIQUIDO</td>\n",
       "      <td>...</td>\n",
       "      <td>13689.44</td>\n",
       "      <td>128.81</td>\n",
       "      <td>3.503</td>\n",
       "      <td>300.0</td>\n",
       "      <td>1050.9</td>\n",
       "      <td>N/INFORMADO</td>\n",
       "      <td>ALF - FORTALEZA</td>\n",
       "      <td>FOB</td>\n",
       "      <td>EFETIVA</td>\n",
       "      <td>DI DESEMBARAÇADA</td>\n",
       "    </tr>\n",
       "  </tbody>\n",
       "</table>\n",
       "<p>5 rows × 25 columns</p>\n",
       "</div>"
      ],
      "text/plain": [
       "              NUMERO DE ORDEM  ANOMES   COD.NCM  \\\n",
       "19087  0000001834950000100008  202106  87141000   \n",
       "19088  0000001834950000100009  202106  87141000   \n",
       "19089  0000001834950000100010  202106  87141000   \n",
       "19090  0000001834950000100011  202106  87141000   \n",
       "19091  0000001834950000100012  202106  87141000   \n",
       "\n",
       "              DESCRICAO DO CODIGO NCM PAIS.OR        PAIS DE ORIGEM PAIS.AQ  \\\n",
       "19087  PARTES ACESSÓRIOS P/MOTOCICLET     160  CHINA, REPUBLICA POP     160   \n",
       "19088  PARTES ACESSÓRIOS P/MOTOCICLET     160  CHINA, REPUBLICA POP     160   \n",
       "19089  PARTES ACESSÓRIOS P/MOTOCICLET     160  CHINA, REPUBLICA POP     160   \n",
       "19090  PARTES ACESSÓRIOS P/MOTOCICLET     160  CHINA, REPUBLICA POP     160   \n",
       "19091  PARTES ACESSÓRIOS P/MOTOCICLET     160  CHINA, REPUBLICA POP     160   \n",
       "\n",
       "          PAIS DE AQUISICAO UND.ESTAT.     UNIDADE DE MEDIDA  ...  \\\n",
       "19087  CHINA, REPUBLICA POP         10  QUILOGRAMA LIQUIDO    ...   \n",
       "19088  CHINA, REPUBLICA POP         10  QUILOGRAMA LIQUIDO    ...   \n",
       "19089  CHINA, REPUBLICA POP         10  QUILOGRAMA LIQUIDO    ...   \n",
       "19090  CHINA, REPUBLICA POP         10  QUILOGRAMA LIQUIDO    ...   \n",
       "19091  CHINA, REPUBLICA POP         10  QUILOGRAMA LIQUIDO    ...   \n",
       "\n",
       "      VL FRETE DOLAR VL SEGURO DOLAR  VALOR UN.PROD.DOLAR  QTD COMERCIAL.  \\\n",
       "19087       13689.44          128.81                3.747           600.0   \n",
       "19088       13689.44          128.81                3.620          2500.0   \n",
       "19089       13689.44          128.81                3.581          1000.0   \n",
       "19090       13689.44          128.81                3.450           100.0   \n",
       "19091       13689.44          128.81                3.503           300.0   \n",
       "\n",
       "       TOT.UN.PROD.DOLAR             UNIDADE DESEMBARQUE  \\\n",
       "19087             2248.2  N/INFORMADO                      \n",
       "19088             9050.0  N/INFORMADO                      \n",
       "19089             3581.0  N/INFORMADO                      \n",
       "19090              345.0  N/INFORMADO                      \n",
       "19091             1050.9  N/INFORMADO                      \n",
       "\n",
       "                  UNIDADE DESEMBARACO  INCOTERM   NAT.INFORMACAO  \\\n",
       "19087  ALF - FORTALEZA                      FOB     EFETIVA        \n",
       "19088  ALF - FORTALEZA                      FOB     EFETIVA        \n",
       "19089  ALF - FORTALEZA                      FOB     EFETIVA        \n",
       "19090  ALF - FORTALEZA                      FOB     EFETIVA        \n",
       "19091  ALF - FORTALEZA                      FOB     EFETIVA        \n",
       "\n",
       "       SITUACAO DO DESPACHO  \n",
       "19087      DI DESEMBARAÇADA  \n",
       "19088      DI DESEMBARAÇADA  \n",
       "19089      DI DESEMBARAÇADA  \n",
       "19090      DI DESEMBARAÇADA  \n",
       "19091      DI DESEMBARAÇADA  \n",
       "\n",
       "[5 rows x 25 columns]"
      ]
     },
     "execution_count": 10,
     "metadata": {},
     "output_type": "execute_result"
    }
   ],
   "source": [
    "df.tail()"
   ]
  },
  {
   "cell_type": "code",
   "execution_count": 11,
   "metadata": {},
   "outputs": [
    {
     "data": {
      "text/plain": [
       "(19092, 25)"
      ]
     },
     "execution_count": 11,
     "metadata": {},
     "output_type": "execute_result"
    }
   ],
   "source": [
    "df.shape"
   ]
  },
  {
   "cell_type": "markdown",
   "metadata": {},
   "source": [
    "### Remover espaços em excesso nos campos string"
   ]
  },
  {
   "cell_type": "code",
   "execution_count": 12,
   "metadata": {},
   "outputs": [],
   "source": [
    "# Remove espaços em excesso das colunas em colstr\n",
    "colstr = ['DESCRICAO DO CODIGO NCM',\n",
    "          'PAIS DE ORIGEM',\n",
    "          'PAIS DE AQUISICAO',\n",
    "          'UNIDADE DE MEDIDA',\n",
    "          'UNIDADE COMERC.',\n",
    "          'DESCRICAO DO PRODUTO',\n",
    "          'UNIDADE DESEMBARQUE',\n",
    "          'UNIDADE DESEMBARACO',\n",
    "          'INCOTERM',\n",
    "          'NAT.INFORMACAO',\n",
    "          'SITUACAO DO DESPACHO']\n",
    "for coluna in colstr:\n",
    "    df[coluna]=df[coluna].str.strip()"
   ]
  },
  {
   "cell_type": "code",
   "execution_count": 13,
   "metadata": {},
   "outputs": [
    {
     "data": {
      "text/plain": [
       "'80348 KIT DE TRANSMISSÃO, COMPOSTO DE CORRENTE, COROA E PINHÃO PARA MOTOCICLETA CBX 250 TWISTER, MARCA ALLEN.'"
      ]
     },
     "execution_count": 13,
     "metadata": {},
     "output_type": "execute_result"
    }
   ],
   "source": [
    "df['DESCRICAO DO PRODUTO'][5]"
   ]
  },
  {
   "cell_type": "markdown",
   "metadata": {},
   "source": [
    "### Exportando o DataFrame"
   ]
  },
  {
   "cell_type": "markdown",
   "metadata": {},
   "source": [
    "Exportando para um arquivo CSV"
   ]
  },
  {
   "cell_type": "code",
   "execution_count": 14,
   "metadata": {},
   "outputs": [],
   "source": [
    "df.to_csv(r'dataframe.csv', index = False, header = True)"
   ]
  },
  {
   "cell_type": "markdown",
   "metadata": {},
   "source": [
    "Exportando para um arquivo de planilha do Excel"
   ]
  },
  {
   "cell_type": "code",
   "execution_count": 15,
   "metadata": {},
   "outputs": [],
   "source": [
    "df.to_excel(r'dataframe.xlsx', index = False, header = True)"
   ]
  },
  {
   "cell_type": "markdown",
   "metadata": {},
   "source": [
    "Compara o tamanho total do Dataset inicial e final"
   ]
  },
  {
   "cell_type": "code",
   "execution_count": 16,
   "metadata": {},
   "outputs": [
    {
     "name": "stdout",
     "output_type": "stream",
     "text": [
      "Qtd de registros Dataset original: 7693634\n",
      "Qtd de registros Dataset final:    19092\n"
     ]
    }
   ],
   "source": [
    "print('Qtd de registros Dataset original: ' + str(tamanhoDataset))\n",
    "print('Qtd de registros Dataset final:    ' + str(df[df.columns[0]].count()))"
   ]
  }
 ],
 "metadata": {
  "kernelspec": {
   "display_name": "Python 3",
   "language": "python",
   "name": "python3"
  },
  "language_info": {
   "codemirror_mode": {
    "name": "ipython",
    "version": 3
   },
   "file_extension": ".py",
   "mimetype": "text/x-python",
   "name": "python",
   "nbconvert_exporter": "python",
   "pygments_lexer": "ipython3",
   "version": "3.7.3"
  },
  "toc": {
   "base_numbering": 1,
   "nav_menu": {},
   "number_sections": false,
   "sideBar": false,
   "skip_h1_title": false,
   "title_cell": "Sumário",
   "title_sidebar": "Sumário",
   "toc_cell": false,
   "toc_position": {},
   "toc_section_display": true,
   "toc_window_display": false
  }
 },
 "nbformat": 4,
 "nbformat_minor": 2
}
