{
 "cells": [
  {
   "cell_type": "markdown",
   "metadata": {},
   "source": [
    "# _Notebook Jupyter_ 1a_trataCSVsSiscori"
   ]
  },
  {
   "cell_type": "markdown",
   "metadata": {},
   "source": [
    "# Importação e tratamento dos dados Siscori"
   ]
  },
  {
   "cell_type": "markdown",
   "metadata": {},
   "source": [
    "Os dados importados no Siscore vêm em arquivos do tipo CSV no formato <b>CAPINNAAMM</b>, onde NN é o número do capítulo extraído, AA é o ano com dois dígitos e MM é o mês com dois dígitos, formando o período de refência dos dados extraídos. O arquivo CSV obtido vem configurado com o separador \"<b>@</b>\" e descrição da coluna com excesso de espaços, o que precisa de uma camada de tratamento para correta importação dos dados."
   ]
  },
  {
   "cell_type": "markdown",
   "metadata": {},
   "source": [
    "### Importação das Bibliotecas"
   ]
  },
  {
   "cell_type": "code",
   "execution_count": 1,
   "metadata": {},
   "outputs": [],
   "source": [
    "import pandas as pd\n",
    "import numpy as np\n",
    "import os, time"
   ]
  },
  {
   "cell_type": "code",
   "execution_count": 2,
   "metadata": {},
   "outputs": [
    {
     "name": "stdout",
     "output_type": "stream",
     "text": [
      "Código executado em 12/01/2022 às 18:22\n"
     ]
    }
   ],
   "source": [
    "# Data e hora da execução do script\n",
    "print(f'Código executado em {time.strftime(\"%d/%m/%Y às %H:%M\", time.localtime(time.time()))}')"
   ]
  },
  {
   "cell_type": "markdown",
   "metadata": {},
   "source": [
    "### Definindo dados gerais"
   ]
  },
  {
   "cell_type": "markdown",
   "metadata": {},
   "source": [
    "Cria lista de arquivos CSV contidos na pasta atual"
   ]
  },
  {
   "cell_type": "code",
   "execution_count": 3,
   "metadata": {},
   "outputs": [
    {
     "name": "stdout",
     "output_type": "stream",
     "text": [
      "['./bases/siscori/CAPI872001.CSV', './bases/siscori/CAPI872002.CSV', './bases/siscori/CAPI872003.CSV', './bases/siscori/CAPI872004.CSV', './bases/siscori/CAPI872005.CSV', './bases/siscori/CAPI872006.CSV', './bases/siscori/CAPI872007.CSV', './bases/siscori/CAPI872008.CSV', './bases/siscori/CAPI872009.CSV', './bases/siscori/CAPI872010.CSV', './bases/siscori/CAPI872011.CSV', './bases/siscori/CAPI872012.CSV', './bases/siscori/CAPI872101.CSV', './bases/siscori/CAPI872102.CSV', './bases/siscori/CAPI872103.CSV', './bases/siscori/CAPI872104.CSV', './bases/siscori/CAPI872105.CSV', './bases/siscori/CAPI872106.CSV']\n"
     ]
    }
   ],
   "source": [
    "arqsCSV = []\n",
    "for arquivo in os.listdir(\"./bases/siscori/\"):\n",
    "    if arquivo[-3:].upper()==\"CSV\" and arquivo[:4]=='CAPI':\n",
    "        arqsCSV.append(\"./bases/siscori/\"+arquivo)\n",
    "arqsCSV=sorted(arqsCSV)\n",
    "print(arqsCSV)"
   ]
  },
  {
   "cell_type": "markdown",
   "metadata": {},
   "source": [
    "Cria variáveis com nomes das colunas e seus tipos"
   ]
  },
  {
   "cell_type": "code",
   "execution_count": 4,
   "metadata": {},
   "outputs": [],
   "source": [
    "tipos = {'NUMERO DE ORDEM': str,\n",
    "         'ANOMES': str,\n",
    "         'COD.NCM': str,\n",
    "         'DESCRICAO DO CODIGO NCM': object,\n",
    "         'PAIS.OR': int,\n",
    "         'PAIS DE ORIGEM': object,\n",
    "         'PAIS.AQ': int,\n",
    "         'PAIS DE AQUISICAO': object,\n",
    "         'UND.ESTAT.': int,\n",
    "         'UNIDADE DE MEDIDA': object,\n",
    "         'UNIDADE COMERC.': object,\n",
    "         'DESCRICAO DO PRODUTO': object,\n",
    "         'QTDE ESTATISTICA': float,\n",
    "         'PESO LIQUIDO': float,\n",
    "         'VMLE DOLAR': float,\n",
    "         'VL FRETE DOLAR': float,\n",
    "         'VL SEGURO DOLAR': float,\n",
    "         'VALOR UN.PROD.DOLAR': float,\n",
    "         'QTD COMERCIAL.': float,\n",
    "         'TOT.UN.PROD.DOLAR': float,\n",
    "         'UNIDADE DESEMBARQUE': object,\n",
    "         'UNIDADE DESEMBARACO': object,\n",
    "         'INCOTERM': object,\n",
    "         'NAT.INFORMACAO': object,\n",
    "         'SITUACAO DO DESPACHO': object}\n",
    "colunas = list(tipos.keys())"
   ]
  },
  {
   "cell_type": "markdown",
   "metadata": {},
   "source": [
    "Inicializa a variável que conterá o tamanho total do dataset original"
   ]
  },
  {
   "cell_type": "code",
   "execution_count": 5,
   "metadata": {},
   "outputs": [],
   "source": [
    "tamanhoDataset=0"
   ]
  },
  {
   "cell_type": "markdown",
   "metadata": {},
   "source": [
    "Inicializa um dataframe vazio que conterá os dados finais"
   ]
  },
  {
   "cell_type": "code",
   "execution_count": 6,
   "metadata": {},
   "outputs": [
    {
     "data": {
      "text/html": [
       "<div>\n",
       "<style scoped>\n",
       "    .dataframe tbody tr th:only-of-type {\n",
       "        vertical-align: middle;\n",
       "    }\n",
       "\n",
       "    .dataframe tbody tr th {\n",
       "        vertical-align: top;\n",
       "    }\n",
       "\n",
       "    .dataframe thead th {\n",
       "        text-align: right;\n",
       "    }\n",
       "</style>\n",
       "<table border=\"1\" class=\"dataframe\">\n",
       "  <thead>\n",
       "    <tr style=\"text-align: right;\">\n",
       "      <th></th>\n",
       "      <th>NUMERO DE ORDEM</th>\n",
       "      <th>ANOMES</th>\n",
       "      <th>COD.NCM</th>\n",
       "      <th>DESCRICAO DO CODIGO NCM</th>\n",
       "      <th>PAIS.OR</th>\n",
       "      <th>PAIS DE ORIGEM</th>\n",
       "      <th>PAIS.AQ</th>\n",
       "      <th>PAIS DE AQUISICAO</th>\n",
       "      <th>UND.ESTAT.</th>\n",
       "      <th>UNIDADE DE MEDIDA</th>\n",
       "      <th>...</th>\n",
       "      <th>VL FRETE DOLAR</th>\n",
       "      <th>VL SEGURO DOLAR</th>\n",
       "      <th>VALOR UN.PROD.DOLAR</th>\n",
       "      <th>QTD COMERCIAL.</th>\n",
       "      <th>TOT.UN.PROD.DOLAR</th>\n",
       "      <th>UNIDADE DESEMBARQUE</th>\n",
       "      <th>UNIDADE DESEMBARACO</th>\n",
       "      <th>INCOTERM</th>\n",
       "      <th>NAT.INFORMACAO</th>\n",
       "      <th>SITUACAO DO DESPACHO</th>\n",
       "    </tr>\n",
       "  </thead>\n",
       "  <tbody>\n",
       "  </tbody>\n",
       "</table>\n",
       "<p>0 rows × 25 columns</p>\n",
       "</div>"
      ],
      "text/plain": [
       "Empty DataFrame\n",
       "Columns: [NUMERO DE ORDEM, ANOMES, COD.NCM, DESCRICAO DO CODIGO NCM, PAIS.OR, PAIS DE ORIGEM, PAIS.AQ, PAIS DE AQUISICAO, UND.ESTAT., UNIDADE DE MEDIDA, UNIDADE COMERC., DESCRICAO DO PRODUTO, QTDE ESTATISTICA, PESO LIQUIDO, VMLE DOLAR, VL FRETE DOLAR, VL SEGURO DOLAR, VALOR UN.PROD.DOLAR, QTD COMERCIAL., TOT.UN.PROD.DOLAR, UNIDADE DESEMBARQUE, UNIDADE DESEMBARACO, INCOTERM, NAT.INFORMACAO, SITUACAO DO DESPACHO]\n",
       "Index: []\n",
       "\n",
       "[0 rows x 25 columns]"
      ]
     },
     "execution_count": 6,
     "metadata": {},
     "output_type": "execute_result"
    }
   ],
   "source": [
    "df = pd.DataFrame(columns = colunas)\n",
    "df.head()"
   ]
  },
  {
   "cell_type": "markdown",
   "metadata": {},
   "source": [
    "### Importa cada CSV, trata e concatena no DataFrame final"
   ]
  },
  {
   "cell_type": "code",
   "execution_count": 7,
   "metadata": {},
   "outputs": [
    {
     "name": "stdout",
     "output_type": "stream",
     "text": [
      "Iniciando ./bases/siscori/CAPI872001.CSV.\n"
     ]
    },
    {
     "name": "stderr",
     "output_type": "stream",
     "text": [
      "Skipping line 390699: field larger than field limit (131072)\n"
     ]
    },
    {
     "name": "stdout",
     "output_type": "stream",
     "text": [
      "DataFrame carregado...\n",
      "Aplicando filtros...\n",
      "Quantidade de registros válidos: 491150\n",
      "./bases/siscori/CAPI872001.CSV finalizado.\n",
      "\n",
      "Iniciando ./bases/siscori/CAPI872002.CSV.\n",
      "DataFrame carregado...\n",
      "Aplicando filtros...\n",
      "Quantidade de registros válidos: 867647\n",
      "./bases/siscori/CAPI872002.CSV finalizado.\n",
      "\n",
      "Iniciando ./bases/siscori/CAPI872003.CSV.\n",
      "DataFrame carregado...\n",
      "Aplicando filtros...\n",
      "Quantidade de registros válidos: 1303525\n",
      "./bases/siscori/CAPI872003.CSV finalizado.\n",
      "\n",
      "Iniciando ./bases/siscori/CAPI872004.CSV.\n",
      "DataFrame carregado...\n",
      "Aplicando filtros...\n",
      "Quantidade de registros válidos: 1633743\n",
      "./bases/siscori/CAPI872004.CSV finalizado.\n",
      "\n",
      "Iniciando ./bases/siscori/CAPI872005.CSV.\n",
      "DataFrame carregado...\n",
      "Aplicando filtros...\n",
      "Quantidade de registros válidos: 1881276\n",
      "./bases/siscori/CAPI872005.CSV finalizado.\n",
      "\n",
      "Iniciando ./bases/siscori/CAPI872006.CSV.\n",
      "DataFrame carregado...\n",
      "Aplicando filtros...\n",
      "Quantidade de registros válidos: 2111936\n",
      "./bases/siscori/CAPI872006.CSV finalizado.\n",
      "\n",
      "Iniciando ./bases/siscori/CAPI872007.CSV.\n",
      "DataFrame carregado...\n",
      "Aplicando filtros...\n",
      "Quantidade de registros válidos: 2417409\n",
      "./bases/siscori/CAPI872007.CSV finalizado.\n",
      "\n",
      "Iniciando ./bases/siscori/CAPI872008.CSV.\n",
      "DataFrame carregado...\n",
      "Aplicando filtros...\n",
      "Quantidade de registros válidos: 2758394\n",
      "./bases/siscori/CAPI872008.CSV finalizado.\n",
      "\n",
      "Iniciando ./bases/siscori/CAPI872009.CSV.\n"
     ]
    },
    {
     "name": "stderr",
     "output_type": "stream",
     "text": [
      "Skipping line 205695: '@' expected after '''\n",
      "Skipping line 205941: field larger than field limit (131072)\n",
      "Skipping line 328937: '@' expected after '''\n",
      "Skipping line 333250: '@' expected after '''\n",
      "Skipping line 333251: '@' expected after '''\n"
     ]
    },
    {
     "name": "stdout",
     "output_type": "stream",
     "text": [
      "DataFrame carregado...\n",
      "Aplicando filtros...\n",
      "Quantidade de registros válidos: 3092950\n",
      "./bases/siscori/CAPI872009.CSV finalizado.\n",
      "\n",
      "Iniciando ./bases/siscori/CAPI872010.CSV.\n"
     ]
    },
    {
     "name": "stderr",
     "output_type": "stream",
     "text": [
      "Skipping line 297842: '@' expected after '''\n",
      "Skipping line 366276: '@' expected after '''\n"
     ]
    },
    {
     "name": "stdout",
     "output_type": "stream",
     "text": [
      "DataFrame carregado...\n",
      "Aplicando filtros...\n",
      "Quantidade de registros válidos: 3524548\n",
      "./bases/siscori/CAPI872010.CSV finalizado.\n",
      "\n",
      "Iniciando ./bases/siscori/CAPI872011.CSV.\n"
     ]
    },
    {
     "name": "stderr",
     "output_type": "stream",
     "text": [
      "Skipping line 145469: field larger than field limit (131072)\n",
      "Skipping line 271952: '@' expected after '''\n",
      "Skipping line 276774: '@' expected after '''\n",
      "Skipping line 277830: '@' expected after '''\n",
      "Skipping line 305333: field larger than field limit (131072)\n"
     ]
    },
    {
     "name": "stdout",
     "output_type": "stream",
     "text": [
      "DataFrame carregado...\n",
      "Aplicando filtros...\n",
      "Quantidade de registros válidos: 3959784\n",
      "./bases/siscori/CAPI872011.CSV finalizado.\n",
      "\n",
      "Iniciando ./bases/siscori/CAPI872012.CSV.\n"
     ]
    },
    {
     "name": "stderr",
     "output_type": "stream",
     "text": [
      "Skipping line 302465: field larger than field limit (131072)\n",
      "Skipping line 312506: field larger than field limit (131072)\n",
      "Skipping line 383935: field larger than field limit (131072)\n"
     ]
    },
    {
     "name": "stdout",
     "output_type": "stream",
     "text": [
      "DataFrame carregado...\n",
      "Aplicando filtros...\n",
      "Quantidade de registros válidos: 4423973\n",
      "./bases/siscori/CAPI872012.CSV finalizado.\n",
      "\n",
      "Iniciando ./bases/siscori/CAPI872101.CSV.\n"
     ]
    },
    {
     "name": "stderr",
     "output_type": "stream",
     "text": [
      "Skipping line 294809: field larger than field limit (131072)\n",
      "Skipping line 295442: field larger than field limit (131072)\n",
      "Skipping line 295721: field larger than field limit (131072)\n",
      "Skipping line 299080: field larger than field limit (131072)\n",
      "Skipping line 368381: '@' expected after '''\n"
     ]
    },
    {
     "name": "stdout",
     "output_type": "stream",
     "text": [
      "DataFrame carregado...\n",
      "Aplicando filtros...\n",
      "Quantidade de registros válidos: 4887783\n",
      "./bases/siscori/CAPI872101.CSV finalizado.\n",
      "\n",
      "Iniciando ./bases/siscori/CAPI872102.CSV.\n"
     ]
    },
    {
     "name": "stderr",
     "output_type": "stream",
     "text": [
      "Skipping line 245262: '@' expected after '''\n",
      "Skipping line 248256: field larger than field limit (131072)\n",
      "Skipping line 249603: field larger than field limit (131072)\n",
      "Skipping line 253297: field larger than field limit (131072)\n"
     ]
    },
    {
     "name": "stdout",
     "output_type": "stream",
     "text": [
      "DataFrame carregado...\n",
      "Aplicando filtros...\n",
      "Quantidade de registros válidos: 5295448\n",
      "./bases/siscori/CAPI872102.CSV finalizado.\n",
      "\n",
      "Iniciando ./bases/siscori/CAPI872103.CSV.\n"
     ]
    },
    {
     "name": "stderr",
     "output_type": "stream",
     "text": [
      "Skipping line 351927: field larger than field limit (131072)\n",
      "Skipping line 519061: field larger than field limit (131072)\n"
     ]
    },
    {
     "name": "stdout",
     "output_type": "stream",
     "text": [
      "DataFrame carregado...\n",
      "Aplicando filtros...\n",
      "Quantidade de registros válidos: 5845327\n",
      "./bases/siscori/CAPI872103.CSV finalizado.\n",
      "\n",
      "Iniciando ./bases/siscori/CAPI872104.CSV.\n"
     ]
    },
    {
     "name": "stderr",
     "output_type": "stream",
     "text": [
      "Skipping line 3530: '@' expected after '''\n",
      "Skipping line 5314: field larger than field limit (131072)\n",
      "Skipping line 427103: '@' expected after '''\n",
      "Skipping line 435136: field larger than field limit (131072)\n",
      "Skipping line 435246: field larger than field limit (131072)\n"
     ]
    },
    {
     "name": "stdout",
     "output_type": "stream",
     "text": [
      "DataFrame carregado...\n",
      "Aplicando filtros...\n",
      "Quantidade de registros válidos: 6481393\n",
      "./bases/siscori/CAPI872104.CSV finalizado.\n",
      "\n",
      "Iniciando ./bases/siscori/CAPI872105.CSV.\n"
     ]
    },
    {
     "name": "stderr",
     "output_type": "stream",
     "text": [
      "Skipping line 1432: '@' expected after '''\n",
      "Skipping line 1433: field larger than field limit (131072)\n",
      "Skipping line 6175: '@' expected after '''\n",
      "Skipping line 277564: '@' expected after '''\n",
      "Skipping line 278426: field larger than field limit (131072)\n",
      "Skipping line 280731: '@' expected after '''\n",
      "Skipping line 281441: field larger than field limit (131072)\n",
      "Skipping line 282315: '@' expected after '''\n",
      "Skipping line 282700: field larger than field limit (131072)\n",
      "Skipping line 333245: '@' expected after '''\n",
      "Skipping line 386253: field larger than field limit (131072)\n"
     ]
    },
    {
     "name": "stdout",
     "output_type": "stream",
     "text": [
      "DataFrame carregado...\n",
      "Aplicando filtros...\n",
      "Quantidade de registros válidos: 6963712\n",
      "./bases/siscori/CAPI872105.CSV finalizado.\n",
      "\n",
      "Iniciando ./bases/siscori/CAPI872106.CSV.\n"
     ]
    },
    {
     "name": "stderr",
     "output_type": "stream",
     "text": [
      "Skipping line 8619: field larger than field limit (131072)\n",
      "Skipping line 9337: field larger than field limit (131072)\n",
      "Skipping line 10237: field larger than field limit (131072)\n"
     ]
    },
    {
     "name": "stdout",
     "output_type": "stream",
     "text": [
      "DataFrame carregado...\n",
      "Aplicando filtros...\n",
      "Quantidade de registros válidos: 7693634\n",
      "./bases/siscori/CAPI872106.CSV finalizado.\n",
      "\n"
     ]
    }
   ],
   "source": [
    "# Executa para cada CSV na lista\n",
    "for arqCSV in arqsCSV:\n",
    "    print('Iniciando ' + arqCSV + '.')\n",
    "    dftemp = pd.read_csv(arqCSV,\n",
    "                         sep='@', \n",
    "                         decimal=r',', \n",
    "                         engine='python', \n",
    "                         encoding = \"ISO-8859-1\",\n",
    "                         header = 0,\n",
    "                         names = colunas,\n",
    "                         dtype = tipos, \n",
    "                         quotechar=\"'\", \n",
    "                         error_bad_lines=False)\n",
    "    print('DataFrame carregado...\\nAplicando filtros...')\n",
    "    # Elimina os registros sem valores ou nulos\n",
    "    dftemp = dftemp.dropna()\n",
    "    # Incrementa o tamanho do Dataset\n",
    "    tamanhoDataset += dftemp[dftemp.columns[0]].count()\n",
    "    print('Quantidade de registros válidos: ' + str(tamanhoDataset))\n",
    "    # Filtra o DataFrame somente com os registros de interesse\n",
    "    # Filtro 1: NCM de interesse: 87141000\n",
    "    indiceNCM = dftemp['COD.NCM'] == '87141000'\n",
    "    dftemp = dftemp[indiceNCM]\n",
    "    # Filtro 2: Descrição contendo palavras da lista\n",
    "    listafiltro = [\"transm\", \"corrente\", \"coroa\", \"pinhao|pinhão\"] # A barra vertical (|) faz o \"ou\".\n",
    "    for termo in listafiltro:\n",
    "        dftemp=dftemp[dftemp['DESCRICAO DO PRODUTO'].str.contains(termo, case=False)]\n",
    "    # Concatena com o DataFrame final\n",
    "    df = pd.concat([df,dftemp])\n",
    "    print(arqCSV + ' finalizado.\\n')"
   ]
  },
  {
   "cell_type": "markdown",
   "metadata": {},
   "source": [
    "### Resetando o índice do DataFrame importado"
   ]
  },
  {
   "cell_type": "code",
   "execution_count": 8,
   "metadata": {},
   "outputs": [],
   "source": [
    "df.reset_index(inplace=True, drop=True)"
   ]
  },
  {
   "cell_type": "markdown",
   "metadata": {},
   "source": [
    "### Verificando o DataFrame importado"
   ]
  },
  {
   "cell_type": "code",
   "execution_count": 9,
   "metadata": {},
   "outputs": [
    {
     "data": {
      "text/html": [
       "<div>\n",
       "<style scoped>\n",
       "    .dataframe tbody tr th:only-of-type {\n",
       "        vertical-align: middle;\n",
       "    }\n",
       "\n",
       "    .dataframe tbody tr th {\n",
       "        vertical-align: top;\n",
       "    }\n",
       "\n",
       "    .dataframe thead th {\n",
       "        text-align: right;\n",
       "    }\n",
       "</style>\n",
       "<table border=\"1\" class=\"dataframe\">\n",
       "  <thead>\n",
       "    <tr style=\"text-align: right;\">\n",
       "      <th></th>\n",
       "      <th>NUMERO DE ORDEM</th>\n",
       "      <th>ANOMES</th>\n",
       "      <th>COD.NCM</th>\n",
       "      <th>DESCRICAO DO CODIGO NCM</th>\n",
       "      <th>PAIS.OR</th>\n",
       "      <th>PAIS DE ORIGEM</th>\n",
       "      <th>PAIS.AQ</th>\n",
       "      <th>PAIS DE AQUISICAO</th>\n",
       "      <th>UND.ESTAT.</th>\n",
       "      <th>UNIDADE DE MEDIDA</th>\n",
       "      <th>...</th>\n",
       "      <th>VL FRETE DOLAR</th>\n",
       "      <th>VL SEGURO DOLAR</th>\n",
       "      <th>VALOR UN.PROD.DOLAR</th>\n",
       "      <th>QTD COMERCIAL.</th>\n",
       "      <th>TOT.UN.PROD.DOLAR</th>\n",
       "      <th>UNIDADE DESEMBARQUE</th>\n",
       "      <th>UNIDADE DESEMBARACO</th>\n",
       "      <th>INCOTERM</th>\n",
       "      <th>NAT.INFORMACAO</th>\n",
       "      <th>SITUACAO DO DESPACHO</th>\n",
       "    </tr>\n",
       "  </thead>\n",
       "  <tbody>\n",
       "    <tr>\n",
       "      <th>9388</th>\n",
       "      <td>0000000451880000100005</td>\n",
       "      <td>202011</td>\n",
       "      <td>87141000</td>\n",
       "      <td>PARTES ACESSÓRIOS P/MOTOCICLET</td>\n",
       "      <td>160</td>\n",
       "      <td>CHINA, REPUBLICA POP</td>\n",
       "      <td>160</td>\n",
       "      <td>CHINA, REPUBLICA POP</td>\n",
       "      <td>10</td>\n",
       "      <td>QUILOGRAMA LIQUIDO</td>\n",
       "      <td>...</td>\n",
       "      <td>2772.11</td>\n",
       "      <td>333.66</td>\n",
       "      <td>1.42000</td>\n",
       "      <td>300.0</td>\n",
       "      <td>426.00</td>\n",
       "      <td>N/INFORMADO</td>\n",
       "      <td>ITAJAI</td>\n",
       "      <td>FOB</td>\n",
       "      <td>EFETIVA</td>\n",
       "      <td>DI DESEMBARAÇADA</td>\n",
       "    </tr>\n",
       "    <tr>\n",
       "      <th>17356</th>\n",
       "      <td>0000001935400000400023</td>\n",
       "      <td>202104</td>\n",
       "      <td>87141000</td>\n",
       "      <td>PARTES ACESSÓRIOS P/MOTOCICLET</td>\n",
       "      <td>160</td>\n",
       "      <td>CHINA, REPUBLICA POP</td>\n",
       "      <td>767</td>\n",
       "      <td>SUICA</td>\n",
       "      <td>10</td>\n",
       "      <td>QUILOGRAMA LIQUIDO</td>\n",
       "      <td>...</td>\n",
       "      <td>8427.66</td>\n",
       "      <td>263.89</td>\n",
       "      <td>5.87000</td>\n",
       "      <td>40.0</td>\n",
       "      <td>234.80</td>\n",
       "      <td>N/INFORMADO</td>\n",
       "      <td>PORTO DE VITORIA</td>\n",
       "      <td>FOB</td>\n",
       "      <td>EFETIVA</td>\n",
       "      <td>DI DESEMBARAÇADA</td>\n",
       "    </tr>\n",
       "    <tr>\n",
       "      <th>19149</th>\n",
       "      <td>0000001790740000100010</td>\n",
       "      <td>202106</td>\n",
       "      <td>87141000</td>\n",
       "      <td>PARTES ACESSÓRIOS P/MOTOCICLET</td>\n",
       "      <td>160</td>\n",
       "      <td>CHINA, REPUBLICA POP</td>\n",
       "      <td>351</td>\n",
       "      <td>HONG KONG</td>\n",
       "      <td>10</td>\n",
       "      <td>QUILOGRAMA LIQUIDO</td>\n",
       "      <td>...</td>\n",
       "      <td>4485.00</td>\n",
       "      <td>232.35</td>\n",
       "      <td>4.62885</td>\n",
       "      <td>200.0</td>\n",
       "      <td>925.77</td>\n",
       "      <td>N/INFORMADO</td>\n",
       "      <td>ITAJAI</td>\n",
       "      <td>FOB</td>\n",
       "      <td>EFETIVA</td>\n",
       "      <td>DI DESEMBARAÇADA</td>\n",
       "    </tr>\n",
       "  </tbody>\n",
       "</table>\n",
       "<p>3 rows × 25 columns</p>\n",
       "</div>"
      ],
      "text/plain": [
       "              NUMERO DE ORDEM  ANOMES   COD.NCM  \\\n",
       "9388   0000000451880000100005  202011  87141000   \n",
       "17356  0000001935400000400023  202104  87141000   \n",
       "19149  0000001790740000100010  202106  87141000   \n",
       "\n",
       "              DESCRICAO DO CODIGO NCM PAIS.OR        PAIS DE ORIGEM PAIS.AQ  \\\n",
       "9388   PARTES ACESSÓRIOS P/MOTOCICLET     160  CHINA, REPUBLICA POP     160   \n",
       "17356  PARTES ACESSÓRIOS P/MOTOCICLET     160  CHINA, REPUBLICA POP     767   \n",
       "19149  PARTES ACESSÓRIOS P/MOTOCICLET     160  CHINA, REPUBLICA POP     351   \n",
       "\n",
       "          PAIS DE AQUISICAO UND.ESTAT.     UNIDADE DE MEDIDA  ...  \\\n",
       "9388   CHINA, REPUBLICA POP         10  QUILOGRAMA LIQUIDO    ...   \n",
       "17356  SUICA                        10  QUILOGRAMA LIQUIDO    ...   \n",
       "19149  HONG KONG                    10  QUILOGRAMA LIQUIDO    ...   \n",
       "\n",
       "      VL FRETE DOLAR VL SEGURO DOLAR  VALOR UN.PROD.DOLAR  QTD COMERCIAL.  \\\n",
       "9388         2772.11          333.66              1.42000           300.0   \n",
       "17356        8427.66          263.89              5.87000            40.0   \n",
       "19149        4485.00          232.35              4.62885           200.0   \n",
       "\n",
       "       TOT.UN.PROD.DOLAR             UNIDADE DESEMBARQUE  \\\n",
       "9388              426.00  N/INFORMADO                      \n",
       "17356             234.80  N/INFORMADO                      \n",
       "19149             925.77  N/INFORMADO                      \n",
       "\n",
       "                  UNIDADE DESEMBARACO  INCOTERM   NAT.INFORMACAO  \\\n",
       "9388   ITAJAI                               FOB     EFETIVA        \n",
       "17356  PORTO DE VITORIA                     FOB     EFETIVA        \n",
       "19149  ITAJAI                               FOB     EFETIVA        \n",
       "\n",
       "       SITUACAO DO DESPACHO  \n",
       "9388       DI DESEMBARAÇADA  \n",
       "17356      DI DESEMBARAÇADA  \n",
       "19149      DI DESEMBARAÇADA  \n",
       "\n",
       "[3 rows x 25 columns]"
      ]
     },
     "execution_count": 9,
     "metadata": {},
     "output_type": "execute_result"
    }
   ],
   "source": [
    "df.sample(3)"
   ]
  },
  {
   "cell_type": "code",
   "execution_count": 10,
   "metadata": {},
   "outputs": [
    {
     "data": {
      "text/plain": [
       "(19317, 25)"
      ]
     },
     "execution_count": 10,
     "metadata": {},
     "output_type": "execute_result"
    }
   ],
   "source": [
    "df.shape"
   ]
  },
  {
   "cell_type": "markdown",
   "metadata": {},
   "source": [
    "### Remover espaços em excesso nos campos string"
   ]
  },
  {
   "cell_type": "code",
   "execution_count": 11,
   "metadata": {},
   "outputs": [],
   "source": [
    "# Remove espaços em excesso das colunas em colstr\n",
    "colstr = ['DESCRICAO DO CODIGO NCM',\n",
    "          'PAIS DE ORIGEM',\n",
    "          'PAIS DE AQUISICAO',\n",
    "          'UNIDADE DE MEDIDA',\n",
    "          'UNIDADE COMERC.',\n",
    "          'DESCRICAO DO PRODUTO',\n",
    "          'UNIDADE DESEMBARQUE',\n",
    "          'UNIDADE DESEMBARACO',\n",
    "          'INCOTERM',\n",
    "          'NAT.INFORMACAO',\n",
    "          'SITUACAO DO DESPACHO']\n",
    "for coluna in colstr:\n",
    "    df[coluna]=df[coluna].str.strip()"
   ]
  },
  {
   "cell_type": "code",
   "execution_count": 12,
   "metadata": {},
   "outputs": [
    {
     "data": {
      "text/plain": [
       "'80348 KIT DE TRANSMISSÃO, COMPOSTO DE CORRENTE, COROA E PINHÃO PARA MOTOCICLETA CBX 250 TWISTER, MARCA ALLEN.'"
      ]
     },
     "execution_count": 12,
     "metadata": {},
     "output_type": "execute_result"
    }
   ],
   "source": [
    "df['DESCRICAO DO PRODUTO'][5]"
   ]
  },
  {
   "cell_type": "markdown",
   "metadata": {},
   "source": [
    "### Excluindo colunas desnecessárias"
   ]
  },
  {
   "cell_type": "code",
   "execution_count": 13,
   "metadata": {},
   "outputs": [],
   "source": [
    "excluir=['NUMERO DE ORDEM',\n",
    "         'ANOMES',\n",
    "         'COD.NCM',\n",
    "         'DESCRICAO DO CODIGO NCM',\n",
    "         'PAIS.OR',\n",
    "         'PAIS.AQ',\n",
    "         'PAIS DE AQUISICAO',\n",
    "         'UND.ESTAT.',\n",
    "         'UNIDADE DE MEDIDA',\n",
    "         'UNIDADE COMERC.',\n",
    "         'QTDE ESTATISTICA',\n",
    "         'PESO LIQUIDO',\n",
    "         'VMLE DOLAR',\n",
    "         'VL FRETE DOLAR',\n",
    "         'VL SEGURO DOLAR',\n",
    "         'QTD COMERCIAL.',\n",
    "         'TOT.UN.PROD.DOLAR',\n",
    "         'UNIDADE DESEMBARQUE',\n",
    "         'UNIDADE DESEMBARACO',\n",
    "         'INCOTERM',\n",
    "         'NAT.INFORMACAO',\n",
    "         'SITUACAO DO DESPACHO']"
   ]
  },
  {
   "cell_type": "code",
   "execution_count": 14,
   "metadata": {},
   "outputs": [],
   "source": [
    "df=df.drop(excluir, axis=1)"
   ]
  },
  {
   "cell_type": "code",
   "execution_count": 15,
   "metadata": {},
   "outputs": [
    {
     "data": {
      "text/html": [
       "<div>\n",
       "<style scoped>\n",
       "    .dataframe tbody tr th:only-of-type {\n",
       "        vertical-align: middle;\n",
       "    }\n",
       "\n",
       "    .dataframe tbody tr th {\n",
       "        vertical-align: top;\n",
       "    }\n",
       "\n",
       "    .dataframe thead th {\n",
       "        text-align: right;\n",
       "    }\n",
       "</style>\n",
       "<table border=\"1\" class=\"dataframe\">\n",
       "  <thead>\n",
       "    <tr style=\"text-align: right;\">\n",
       "      <th></th>\n",
       "      <th>PAIS DE ORIGEM</th>\n",
       "      <th>DESCRICAO DO PRODUTO</th>\n",
       "      <th>VALOR UN.PROD.DOLAR</th>\n",
       "    </tr>\n",
       "  </thead>\n",
       "  <tbody>\n",
       "    <tr>\n",
       "      <th>0</th>\n",
       "      <td>CHINA, REPUBLICA POP</td>\n",
       "      <td>007293# KIT TRANSMISSAO STANDARD TEMPERADO COM...</td>\n",
       "      <td>3.728</td>\n",
       "    </tr>\n",
       "    <tr>\n",
       "      <th>1</th>\n",
       "      <td>CHINA, REPUBLICA POP</td>\n",
       "      <td>007295# KIT TRANSMISSAO STANDARD TEMPERADO COM...</td>\n",
       "      <td>3.700</td>\n",
       "    </tr>\n",
       "    <tr>\n",
       "      <th>2</th>\n",
       "      <td>CHINA, REPUBLICA POP</td>\n",
       "      <td>007296# KIT TRANSMISSAO STANDARD TEMPERADO COM...</td>\n",
       "      <td>3.686</td>\n",
       "    </tr>\n",
       "  </tbody>\n",
       "</table>\n",
       "</div>"
      ],
      "text/plain": [
       "         PAIS DE ORIGEM                               DESCRICAO DO PRODUTO  \\\n",
       "0  CHINA, REPUBLICA POP  007293# KIT TRANSMISSAO STANDARD TEMPERADO COM...   \n",
       "1  CHINA, REPUBLICA POP  007295# KIT TRANSMISSAO STANDARD TEMPERADO COM...   \n",
       "2  CHINA, REPUBLICA POP  007296# KIT TRANSMISSAO STANDARD TEMPERADO COM...   \n",
       "\n",
       "   VALOR UN.PROD.DOLAR  \n",
       "0                3.728  \n",
       "1                3.700  \n",
       "2                3.686  "
      ]
     },
     "execution_count": 15,
     "metadata": {},
     "output_type": "execute_result"
    }
   ],
   "source": [
    "df.head(3)"
   ]
  },
  {
   "cell_type": "code",
   "execution_count": 16,
   "metadata": {},
   "outputs": [
    {
     "data": {
      "text/html": [
       "<div>\n",
       "<style scoped>\n",
       "    .dataframe tbody tr th:only-of-type {\n",
       "        vertical-align: middle;\n",
       "    }\n",
       "\n",
       "    .dataframe tbody tr th {\n",
       "        vertical-align: top;\n",
       "    }\n",
       "\n",
       "    .dataframe thead th {\n",
       "        text-align: right;\n",
       "    }\n",
       "</style>\n",
       "<table border=\"1\" class=\"dataframe\">\n",
       "  <thead>\n",
       "    <tr style=\"text-align: right;\">\n",
       "      <th></th>\n",
       "      <th>PAIS DE ORIGEM</th>\n",
       "      <th>DESCRICAO DO PRODUTO</th>\n",
       "      <th>VALOR UN.PROD.DOLAR</th>\n",
       "    </tr>\n",
       "  </thead>\n",
       "  <tbody>\n",
       "    <tr>\n",
       "      <th>19314</th>\n",
       "      <td>CHINA, REPUBLICA POP</td>\n",
       "      <td>KIT DE TRANSMISSÃO AÇO TITAN 99 1045 COMPOSTO ...</td>\n",
       "      <td>3.581</td>\n",
       "    </tr>\n",
       "    <tr>\n",
       "      <th>19315</th>\n",
       "      <td>CHINA, REPUBLICA POP</td>\n",
       "      <td>KIT DE TRANSMISSÃO AÇO YBR 125 00/02 1045, COM...</td>\n",
       "      <td>3.450</td>\n",
       "    </tr>\n",
       "    <tr>\n",
       "      <th>19316</th>\n",
       "      <td>CHINA, REPUBLICA POP</td>\n",
       "      <td>KIT DE TRANSMISSÃO AÇO YBR 125 03/05, COMPOSTO...</td>\n",
       "      <td>3.503</td>\n",
       "    </tr>\n",
       "  </tbody>\n",
       "</table>\n",
       "</div>"
      ],
      "text/plain": [
       "             PAIS DE ORIGEM  \\\n",
       "19314  CHINA, REPUBLICA POP   \n",
       "19315  CHINA, REPUBLICA POP   \n",
       "19316  CHINA, REPUBLICA POP   \n",
       "\n",
       "                                    DESCRICAO DO PRODUTO  VALOR UN.PROD.DOLAR  \n",
       "19314  KIT DE TRANSMISSÃO AÇO TITAN 99 1045 COMPOSTO ...                3.581  \n",
       "19315  KIT DE TRANSMISSÃO AÇO YBR 125 00/02 1045, COM...                3.450  \n",
       "19316  KIT DE TRANSMISSÃO AÇO YBR 125 03/05, COMPOSTO...                3.503  "
      ]
     },
     "execution_count": 16,
     "metadata": {},
     "output_type": "execute_result"
    }
   ],
   "source": [
    "df.tail(3)"
   ]
  },
  {
   "cell_type": "markdown",
   "metadata": {},
   "source": [
    "### Exportando o DataFrame"
   ]
  },
  {
   "cell_type": "markdown",
   "metadata": {},
   "source": [
    "Exportando para um arquivo CSV"
   ]
  },
  {
   "cell_type": "code",
   "execution_count": 17,
   "metadata": {},
   "outputs": [],
   "source": [
    "df.to_csv(r'./bases/dataframe.csv', index = False, header = True)"
   ]
  },
  {
   "cell_type": "markdown",
   "metadata": {},
   "source": [
    "Exportando para um arquivo de planilha do Excel"
   ]
  },
  {
   "cell_type": "code",
   "execution_count": 18,
   "metadata": {},
   "outputs": [],
   "source": [
    "df.to_excel(r'./bases/dataframe.xlsx', index = False, header = True)"
   ]
  },
  {
   "cell_type": "markdown",
   "metadata": {},
   "source": [
    "Compara o tamanho total do Dataset inicial e final"
   ]
  },
  {
   "cell_type": "code",
   "execution_count": 19,
   "metadata": {},
   "outputs": [
    {
     "name": "stdout",
     "output_type": "stream",
     "text": [
      "Qtd de registros Dataset original: 7693634\n",
      "Qtd de registros Dataset final:    19317\n"
     ]
    }
   ],
   "source": [
    "print('Qtd de registros Dataset original: ' + str(tamanhoDataset))\n",
    "print('Qtd de registros Dataset final:    ' + str(df[df.columns[0]].count()))"
   ]
  }
 ],
 "metadata": {
  "kernelspec": {
   "display_name": "Python 3",
   "language": "python",
   "name": "python3"
  },
  "language_info": {
   "codemirror_mode": {
    "name": "ipython",
    "version": 3
   },
   "file_extension": ".py",
   "mimetype": "text/x-python",
   "name": "python",
   "nbconvert_exporter": "python",
   "pygments_lexer": "ipython3",
   "version": "3.7.3"
  },
  "toc": {
   "base_numbering": 1,
   "nav_menu": {},
   "number_sections": false,
   "sideBar": false,
   "skip_h1_title": false,
   "title_cell": "Sumário",
   "title_sidebar": "Sumário",
   "toc_cell": false,
   "toc_position": {},
   "toc_section_display": true,
   "toc_window_display": false
  }
 },
 "nbformat": 4,
 "nbformat_minor": 2
}
