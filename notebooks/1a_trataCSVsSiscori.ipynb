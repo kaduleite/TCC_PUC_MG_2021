{
 "cells": [
  {
   "cell_type": "markdown",
   "metadata": {},
   "source": [
    "# _Notebook Jupyter_ 1a_trataCSVsSiscori"
   ]
  },
  {
   "cell_type": "markdown",
   "metadata": {},
   "source": [
    "# Importação e tratamento dos dados Siscori"
   ]
  },
  {
   "cell_type": "markdown",
   "metadata": {},
   "source": [
    "Os dados importados no Siscore vêm em arquivos do tipo CSV no formato <b>CAPINNAAMM</b>, onde NN é o número do capítulo extraído, AA é o ano com dois dígitos e MM é o mês com dois dígitos, formando o período de refência dos dados extraídos. O arquivo CSV obtido vem configurado com o separador \"<b>@</b>\" e descrição da coluna com excesso de espaços, o que precisa de uma camada de tratamento para correta importação dos dados."
   ]
  },
  {
   "cell_type": "markdown",
   "metadata": {},
   "source": [
    "### Importação das Bibliotecas"
   ]
  },
  {
   "cell_type": "code",
   "execution_count": 1,
   "metadata": {},
   "outputs": [],
   "source": [
    "import pandas as pd\n",
    "import numpy as np\n",
    "import os, time"
   ]
  },
  {
   "cell_type": "code",
   "execution_count": 2,
   "metadata": {},
   "outputs": [
    {
     "name": "stdout",
     "output_type": "stream",
     "text": [
      "Código executado em 16/01/2022 às 17:49\n"
     ]
    }
   ],
   "source": [
    "# Data e hora da execução do script\n",
    "initot=time.time()\n",
    "print(f'Código executado em {time.strftime(\"%d/%m/%Y às %H:%M\", time.localtime(time.time()))}')"
   ]
  },
  {
   "cell_type": "markdown",
   "metadata": {},
   "source": [
    "### Definindo dados gerais"
   ]
  },
  {
   "cell_type": "markdown",
   "metadata": {},
   "source": [
    "Cria lista de arquivos CSV contidos na pasta atual"
   ]
  },
  {
   "cell_type": "code",
   "execution_count": 3,
   "metadata": {},
   "outputs": [
    {
     "name": "stdout",
     "output_type": "stream",
     "text": [
      "['./bases/siscori/CAPI872001.CSV', './bases/siscori/CAPI872002.CSV', './bases/siscori/CAPI872003.CSV', './bases/siscori/CAPI872004.CSV', './bases/siscori/CAPI872005.CSV', './bases/siscori/CAPI872006.CSV', './bases/siscori/CAPI872007.CSV', './bases/siscori/CAPI872008.CSV', './bases/siscori/CAPI872009.CSV', './bases/siscori/CAPI872010.CSV', './bases/siscori/CAPI872011.CSV', './bases/siscori/CAPI872012.CSV', './bases/siscori/CAPI872101.CSV', './bases/siscori/CAPI872102.CSV', './bases/siscori/CAPI872103.CSV', './bases/siscori/CAPI872104.CSV', './bases/siscori/CAPI872105.CSV', './bases/siscori/CAPI872106.CSV']\n"
     ]
    }
   ],
   "source": [
    "arqsCSV = []\n",
    "for arquivo in os.listdir(\"./bases/siscori/\"):\n",
    "    if arquivo[-3:].upper()==\"CSV\" and arquivo[:4]=='CAPI':\n",
    "        arqsCSV.append(\"./bases/siscori/\"+arquivo)\n",
    "arqsCSV=sorted(arqsCSV)\n",
    "print(arqsCSV)"
   ]
  },
  {
   "cell_type": "markdown",
   "metadata": {},
   "source": [
    "Cria variáveis com nomes das colunas e seus tipos"
   ]
  },
  {
   "cell_type": "code",
   "execution_count": 4,
   "metadata": {},
   "outputs": [],
   "source": [
    "tipos = {'NUMERO DE ORDEM': str,\n",
    "         'ANOMES': str,\n",
    "         'COD.NCM': str,\n",
    "         'DESCRICAO DO CODIGO NCM': object,\n",
    "         'PAIS.OR': int,\n",
    "         'PAIS DE ORIGEM': object,\n",
    "         'PAIS.AQ': int,\n",
    "         'PAIS DE AQUISICAO': object,\n",
    "         'UND.ESTAT.': int,\n",
    "         'UNIDADE DE MEDIDA': object,\n",
    "         'UNIDADE COMERC.': object,\n",
    "         'DESCRICAO DO PRODUTO': object,\n",
    "         'QTDE ESTATISTICA': float,\n",
    "         'PESO LIQUIDO': float,\n",
    "         'VMLE DOLAR': float,\n",
    "         'VL FRETE DOLAR': float,\n",
    "         'VL SEGURO DOLAR': float,\n",
    "         'VALOR UN.PROD.DOLAR': float,\n",
    "         'QTD COMERCIAL.': float,\n",
    "         'TOT.UN.PROD.DOLAR': float,\n",
    "         'UNIDADE DESEMBARQUE': object,\n",
    "         'UNIDADE DESEMBARACO': object,\n",
    "         'INCOTERM': object,\n",
    "         'NAT.INFORMACAO': object,\n",
    "         'SITUACAO DO DESPACHO': object}\n",
    "colunas = list(tipos.keys())"
   ]
  },
  {
   "cell_type": "markdown",
   "metadata": {},
   "source": [
    "Inicializa a variável que conterá o tamanho total do dataset original"
   ]
  },
  {
   "cell_type": "code",
   "execution_count": 5,
   "metadata": {},
   "outputs": [],
   "source": [
    "tamanhoDataset=0"
   ]
  },
  {
   "cell_type": "markdown",
   "metadata": {},
   "source": [
    "Inicializa um dataframe vazio que conterá os dados finais"
   ]
  },
  {
   "cell_type": "code",
   "execution_count": 6,
   "metadata": {},
   "outputs": [
    {
     "data": {
      "text/html": [
       "<div>\n",
       "<style scoped>\n",
       "    .dataframe tbody tr th:only-of-type {\n",
       "        vertical-align: middle;\n",
       "    }\n",
       "\n",
       "    .dataframe tbody tr th {\n",
       "        vertical-align: top;\n",
       "    }\n",
       "\n",
       "    .dataframe thead th {\n",
       "        text-align: right;\n",
       "    }\n",
       "</style>\n",
       "<table border=\"1\" class=\"dataframe\">\n",
       "  <thead>\n",
       "    <tr style=\"text-align: right;\">\n",
       "      <th></th>\n",
       "      <th>NUMERO DE ORDEM</th>\n",
       "      <th>ANOMES</th>\n",
       "      <th>COD.NCM</th>\n",
       "      <th>DESCRICAO DO CODIGO NCM</th>\n",
       "      <th>PAIS.OR</th>\n",
       "      <th>PAIS DE ORIGEM</th>\n",
       "      <th>PAIS.AQ</th>\n",
       "      <th>PAIS DE AQUISICAO</th>\n",
       "      <th>UND.ESTAT.</th>\n",
       "      <th>UNIDADE DE MEDIDA</th>\n",
       "      <th>...</th>\n",
       "      <th>VL FRETE DOLAR</th>\n",
       "      <th>VL SEGURO DOLAR</th>\n",
       "      <th>VALOR UN.PROD.DOLAR</th>\n",
       "      <th>QTD COMERCIAL.</th>\n",
       "      <th>TOT.UN.PROD.DOLAR</th>\n",
       "      <th>UNIDADE DESEMBARQUE</th>\n",
       "      <th>UNIDADE DESEMBARACO</th>\n",
       "      <th>INCOTERM</th>\n",
       "      <th>NAT.INFORMACAO</th>\n",
       "      <th>SITUACAO DO DESPACHO</th>\n",
       "    </tr>\n",
       "  </thead>\n",
       "  <tbody>\n",
       "  </tbody>\n",
       "</table>\n",
       "<p>0 rows × 25 columns</p>\n",
       "</div>"
      ],
      "text/plain": [
       "Empty DataFrame\n",
       "Columns: [NUMERO DE ORDEM, ANOMES, COD.NCM, DESCRICAO DO CODIGO NCM, PAIS.OR, PAIS DE ORIGEM, PAIS.AQ, PAIS DE AQUISICAO, UND.ESTAT., UNIDADE DE MEDIDA, UNIDADE COMERC., DESCRICAO DO PRODUTO, QTDE ESTATISTICA, PESO LIQUIDO, VMLE DOLAR, VL FRETE DOLAR, VL SEGURO DOLAR, VALOR UN.PROD.DOLAR, QTD COMERCIAL., TOT.UN.PROD.DOLAR, UNIDADE DESEMBARQUE, UNIDADE DESEMBARACO, INCOTERM, NAT.INFORMACAO, SITUACAO DO DESPACHO]\n",
       "Index: []\n",
       "\n",
       "[0 rows x 25 columns]"
      ]
     },
     "execution_count": 6,
     "metadata": {},
     "output_type": "execute_result"
    }
   ],
   "source": [
    "df = pd.DataFrame(columns = colunas)\n",
    "df.head()"
   ]
  },
  {
   "cell_type": "markdown",
   "metadata": {},
   "source": [
    "### Importa cada CSV, trata e concatena no DataFrame final"
   ]
  },
  {
   "cell_type": "code",
   "execution_count": 7,
   "metadata": {},
   "outputs": [
    {
     "name": "stdout",
     "output_type": "stream",
     "text": [
      "Iniciando ./bases/siscori/CAPI872001.CSV.\n",
      "DataFrame carregado...\n",
      "Aplicando filtros...\n",
      "Dados da importação do arquivo\n",
      "Quantidade de registros válidos:  491150\n",
      "Quantidade de registros filtrados:   810\n",
      "./bases/siscori/CAPI872001.CSV finalizado.\n",
      "\n",
      "Iniciando ./bases/siscori/CAPI872002.CSV.\n",
      "DataFrame carregado...\n",
      "Aplicando filtros...\n",
      "Dados da importação do arquivo\n",
      "Quantidade de registros válidos:  376497\n",
      "Quantidade de registros filtrados:   681\n",
      "./bases/siscori/CAPI872002.CSV finalizado.\n",
      "\n",
      "Iniciando ./bases/siscori/CAPI872003.CSV.\n",
      "DataFrame carregado...\n",
      "Aplicando filtros...\n",
      "Dados da importação do arquivo\n",
      "Quantidade de registros válidos:  435878\n",
      "Quantidade de registros filtrados:   906\n",
      "./bases/siscori/CAPI872003.CSV finalizado.\n",
      "\n",
      "Iniciando ./bases/siscori/CAPI872004.CSV.\n",
      "DataFrame carregado...\n",
      "Aplicando filtros...\n",
      "Dados da importação do arquivo\n",
      "Quantidade de registros válidos:  330218\n",
      "Quantidade de registros filtrados:   184\n",
      "./bases/siscori/CAPI872004.CSV finalizado.\n",
      "\n",
      "Iniciando ./bases/siscori/CAPI872005.CSV.\n",
      "DataFrame carregado...\n",
      "Aplicando filtros...\n",
      "Dados da importação do arquivo\n",
      "Quantidade de registros válidos:  247533\n",
      "Quantidade de registros filtrados:   429\n",
      "./bases/siscori/CAPI872005.CSV finalizado.\n",
      "\n",
      "Iniciando ./bases/siscori/CAPI872006.CSV.\n",
      "DataFrame carregado...\n",
      "Aplicando filtros...\n",
      "Dados da importação do arquivo\n",
      "Quantidade de registros válidos:  230660\n",
      "Quantidade de registros filtrados:   625\n",
      "./bases/siscori/CAPI872006.CSV finalizado.\n",
      "\n",
      "Iniciando ./bases/siscori/CAPI872007.CSV.\n",
      "DataFrame carregado...\n",
      "Aplicando filtros...\n",
      "Dados da importação do arquivo\n",
      "Quantidade de registros válidos:  305473\n",
      "Quantidade de registros filtrados:  1236\n",
      "./bases/siscori/CAPI872007.CSV finalizado.\n",
      "\n",
      "Iniciando ./bases/siscori/CAPI872008.CSV.\n",
      "DataFrame carregado...\n",
      "Aplicando filtros...\n",
      "Dados da importação do arquivo\n",
      "Quantidade de registros válidos:  340985\n",
      "Quantidade de registros filtrados:  1395\n",
      "./bases/siscori/CAPI872008.CSV finalizado.\n",
      "\n",
      "Iniciando ./bases/siscori/CAPI872009.CSV.\n",
      "DataFrame carregado...\n",
      "Aplicando filtros...\n",
      "Dados da importação do arquivo\n",
      "Quantidade de registros válidos:  334556\n",
      "Quantidade de registros filtrados:  1421\n",
      "./bases/siscori/CAPI872009.CSV finalizado.\n",
      "\n",
      "Iniciando ./bases/siscori/CAPI872010.CSV.\n",
      "DataFrame carregado...\n",
      "Aplicando filtros...\n",
      "Dados da importação do arquivo\n",
      "Quantidade de registros válidos:  431598\n",
      "Quantidade de registros filtrados:  1167\n",
      "./bases/siscori/CAPI872010.CSV finalizado.\n",
      "\n",
      "Iniciando ./bases/siscori/CAPI872011.CSV.\n",
      "DataFrame carregado...\n",
      "Aplicando filtros...\n",
      "Dados da importação do arquivo\n",
      "Quantidade de registros válidos:  435236\n",
      "Quantidade de registros filtrados:  1084\n",
      "./bases/siscori/CAPI872011.CSV finalizado.\n",
      "\n",
      "Iniciando ./bases/siscori/CAPI872012.CSV.\n",
      "DataFrame carregado...\n",
      "Aplicando filtros...\n",
      "Dados da importação do arquivo\n",
      "Quantidade de registros válidos:  464189\n",
      "Quantidade de registros filtrados:  1009\n",
      "./bases/siscori/CAPI872012.CSV finalizado.\n",
      "\n",
      "Iniciando ./bases/siscori/CAPI872101.CSV.\n",
      "DataFrame carregado...\n",
      "Aplicando filtros...\n",
      "Dados da importação do arquivo\n",
      "Quantidade de registros válidos:  463810\n",
      "Quantidade de registros filtrados:  1278\n",
      "./bases/siscori/CAPI872101.CSV finalizado.\n",
      "\n",
      "Iniciando ./bases/siscori/CAPI872102.CSV.\n",
      "DataFrame carregado...\n",
      "Aplicando filtros...\n",
      "Dados da importação do arquivo\n",
      "Quantidade de registros válidos:  407665\n",
      "Quantidade de registros filtrados:  1594\n",
      "./bases/siscori/CAPI872102.CSV finalizado.\n",
      "\n",
      "Iniciando ./bases/siscori/CAPI872103.CSV.\n",
      "DataFrame carregado...\n",
      "Aplicando filtros...\n",
      "Dados da importação do arquivo\n",
      "Quantidade de registros válidos:  549879\n",
      "Quantidade de registros filtrados:  1517\n",
      "./bases/siscori/CAPI872103.CSV finalizado.\n",
      "\n",
      "Iniciando ./bases/siscori/CAPI872104.CSV.\n",
      "DataFrame carregado...\n",
      "Aplicando filtros...\n",
      "Dados da importação do arquivo\n",
      "Quantidade de registros válidos:  636066\n",
      "Quantidade de registros filtrados:  1155\n",
      "./bases/siscori/CAPI872104.CSV finalizado.\n",
      "\n",
      "Iniciando ./bases/siscori/CAPI872105.CSV.\n",
      "DataFrame carregado...\n",
      "Aplicando filtros...\n",
      "Dados da importação do arquivo\n",
      "Quantidade de registros válidos:  482319\n",
      "Quantidade de registros filtrados:   877\n",
      "./bases/siscori/CAPI872105.CSV finalizado.\n",
      "\n",
      "Iniciando ./bases/siscori/CAPI872106.CSV.\n",
      "DataFrame carregado...\n",
      "Aplicando filtros...\n",
      "Dados da importação do arquivo\n",
      "Quantidade de registros válidos:  729922\n",
      "Quantidade de registros filtrados:   908\n",
      "./bases/siscori/CAPI872106.CSV finalizado.\n",
      "\n"
     ]
    }
   ],
   "source": [
    "# Executa para cada CSV na lista\n",
    "for arqCSV in arqsCSV:\n",
    "    print('Iniciando ' + arqCSV + '.')\n",
    "    dftemp = pd.read_csv(arqCSV,\n",
    "                         sep='@', \n",
    "                         decimal=r',', \n",
    "                         engine='python', \n",
    "                         encoding = \"ISO-8859-1\",\n",
    "                         header = 0,\n",
    "                         names = colunas,\n",
    "                         dtype = tipos, \n",
    "                         quotechar=\"'\", \n",
    "                         error_bad_lines=False,\n",
    "                         warn_bad_lines=False)\n",
    "    print('DataFrame carregado...\\nAplicando filtros...')\n",
    "    # Elimina os registros sem valores ou nulos\n",
    "    dftemp = dftemp.dropna()\n",
    "    # Incrementa o tamanho do Dataset\n",
    "    tamanhoDataset += dftemp[dftemp.columns[0]].count()\n",
    "    print('Dados da importação do arquivo')\n",
    "    print('Quantidade de registros válidos:' + f'{str(dftemp[dftemp.columns[0]].count()):>8}')\n",
    "    # Filtra o DataFrame somente com os registros de interesse\n",
    "    # Filtro 1: NCM de interesse: 87141000\n",
    "    indiceNCM = dftemp['COD.NCM'] == '87141000'\n",
    "    dftemp = dftemp[indiceNCM]\n",
    "    # Filtro 2: Incluir registros com descrição contendo palavras da lista a incluir\n",
    "    listafiltroincluir = [\"transm\", \"corrente\", \"coroa\", \"pinhao|pinhão\"] # A barra vertical (|) faz o \"ou\".\n",
    "    for termo in listafiltroincluir:\n",
    "        dftemp=dftemp[dftemp['DESCRICAO DO PRODUTO'].str.contains(termo, case=False)]\n",
    "    # Filtro 3: Excluir registros com descrição contendo palavras da lista\n",
    "    padraofiltroexcluir = r\"semi|reposicao|reposição\"\n",
    "    dftemp=dftemp[dftemp['DESCRICAO DO PRODUTO'].str.contains(padraofiltroexcluir, case=False, regex=True)==False]\n",
    "    print(f'Quantidade de registros filtrados:' + f'{str(dftemp[dftemp.columns[0]].count()):>6}')\n",
    "    # Concatena com o DataFrame final\n",
    "    df = pd.concat([df,dftemp])\n",
    "    print(arqCSV + ' finalizado.\\n')"
   ]
  },
  {
   "cell_type": "markdown",
   "metadata": {},
   "source": [
    "### Resetando o índice do DataFrame importado"
   ]
  },
  {
   "cell_type": "code",
   "execution_count": 8,
   "metadata": {},
   "outputs": [],
   "source": [
    "df.reset_index(inplace=True, drop=True)"
   ]
  },
  {
   "cell_type": "markdown",
   "metadata": {},
   "source": [
    "### Excluindo colunas desnecessárias"
   ]
  },
  {
   "cell_type": "code",
   "execution_count": 9,
   "metadata": {},
   "outputs": [],
   "source": [
    "excluir=['NUMERO DE ORDEM',\n",
    "         'ANOMES',\n",
    "         'COD.NCM',\n",
    "         'DESCRICAO DO CODIGO NCM',\n",
    "         'PAIS.OR',\n",
    "         'PAIS.AQ',\n",
    "         'PAIS DE AQUISICAO',\n",
    "         'UND.ESTAT.',\n",
    "         'UNIDADE DE MEDIDA',\n",
    "         'UNIDADE COMERC.',\n",
    "         'QTDE ESTATISTICA',\n",
    "         'PESO LIQUIDO',\n",
    "         'VMLE DOLAR',\n",
    "         'VL FRETE DOLAR',\n",
    "         'VL SEGURO DOLAR',\n",
    "         'QTD COMERCIAL.',\n",
    "         'TOT.UN.PROD.DOLAR',\n",
    "         'UNIDADE DESEMBARQUE',\n",
    "         'UNIDADE DESEMBARACO',\n",
    "         'INCOTERM',\n",
    "         'NAT.INFORMACAO',\n",
    "         'SITUACAO DO DESPACHO']"
   ]
  },
  {
   "cell_type": "code",
   "execution_count": 10,
   "metadata": {},
   "outputs": [],
   "source": [
    "df=df.drop(excluir, axis=1)"
   ]
  },
  {
   "cell_type": "markdown",
   "metadata": {},
   "source": [
    "### Remover espaços em excesso nos campos string"
   ]
  },
  {
   "cell_type": "code",
   "execution_count": 11,
   "metadata": {},
   "outputs": [],
   "source": [
    "# Remove espaços em excesso das colunas em colstr\n",
    "colstr = ['PAIS DE ORIGEM',\n",
    "          'DESCRICAO DO PRODUTO']\n",
    "for coluna in colstr:\n",
    "    df[coluna]=df[coluna].str.strip()"
   ]
  },
  {
   "cell_type": "markdown",
   "metadata": {},
   "source": [
    "### Verificando o DataFrame importado"
   ]
  },
  {
   "cell_type": "code",
   "execution_count": 12,
   "metadata": {},
   "outputs": [
    {
     "data": {
      "text/html": [
       "<div>\n",
       "<style scoped>\n",
       "    .dataframe tbody tr th:only-of-type {\n",
       "        vertical-align: middle;\n",
       "    }\n",
       "\n",
       "    .dataframe tbody tr th {\n",
       "        vertical-align: top;\n",
       "    }\n",
       "\n",
       "    .dataframe thead th {\n",
       "        text-align: right;\n",
       "    }\n",
       "</style>\n",
       "<table border=\"1\" class=\"dataframe\">\n",
       "  <thead>\n",
       "    <tr style=\"text-align: right;\">\n",
       "      <th></th>\n",
       "      <th>PAIS DE ORIGEM</th>\n",
       "      <th>DESCRICAO DO PRODUTO</th>\n",
       "      <th>VALOR UN.PROD.DOLAR</th>\n",
       "    </tr>\n",
       "  </thead>\n",
       "  <tbody>\n",
       "    <tr>\n",
       "      <th>6916</th>\n",
       "      <td>CHINA, REPUBLICA POP</td>\n",
       "      <td>KIT DE TRANSMISSAO P MOTOCICLETA MOD.: FAZER 1...</td>\n",
       "      <td>5.730000</td>\n",
       "    </tr>\n",
       "    <tr>\n",
       "      <th>3841</th>\n",
       "      <td>CHINA, REPUBLICA POP</td>\n",
       "      <td>22292 - 91083 - KIT DE TRANSMISSAO PARA MOTOCI...</td>\n",
       "      <td>8.680000</td>\n",
       "    </tr>\n",
       "    <tr>\n",
       "      <th>6339</th>\n",
       "      <td>CHINA, REPUBLICA POP</td>\n",
       "      <td>878192 - KIT DE TRANSMISSÃO, COMPOSTO DE CORRE...</td>\n",
       "      <td>22.214749</td>\n",
       "    </tr>\n",
       "    <tr>\n",
       "      <th>7211</th>\n",
       "      <td>CHINA, REPUBLICA POP</td>\n",
       "      <td>007266# KIT TRANSMISSÃO STANDARD TEMPERADO COM...</td>\n",
       "      <td>5.201000</td>\n",
       "    </tr>\n",
       "    <tr>\n",
       "      <th>5612</th>\n",
       "      <td>CHINA, REPUBLICA POP</td>\n",
       "      <td>TRANSMISSAO PARA USO EM MOTOCICLETA COMPOSTO D...</td>\n",
       "      <td>3.560000</td>\n",
       "    </tr>\n",
       "  </tbody>\n",
       "</table>\n",
       "</div>"
      ],
      "text/plain": [
       "            PAIS DE ORIGEM                               DESCRICAO DO PRODUTO  \\\n",
       "6916  CHINA, REPUBLICA POP  KIT DE TRANSMISSAO P MOTOCICLETA MOD.: FAZER 1...   \n",
       "3841  CHINA, REPUBLICA POP  22292 - 91083 - KIT DE TRANSMISSAO PARA MOTOCI...   \n",
       "6339  CHINA, REPUBLICA POP  878192 - KIT DE TRANSMISSÃO, COMPOSTO DE CORRE...   \n",
       "7211  CHINA, REPUBLICA POP  007266# KIT TRANSMISSÃO STANDARD TEMPERADO COM...   \n",
       "5612  CHINA, REPUBLICA POP  TRANSMISSAO PARA USO EM MOTOCICLETA COMPOSTO D...   \n",
       "\n",
       "      VALOR UN.PROD.DOLAR  \n",
       "6916             5.730000  \n",
       "3841             8.680000  \n",
       "6339            22.214749  \n",
       "7211             5.201000  \n",
       "5612             3.560000  "
      ]
     },
     "execution_count": 12,
     "metadata": {},
     "output_type": "execute_result"
    }
   ],
   "source": [
    "df.sample(5)"
   ]
  },
  {
   "cell_type": "code",
   "execution_count": 13,
   "metadata": {},
   "outputs": [
    {
     "data": {
      "text/plain": [
       "(18276, 3)"
      ]
     },
     "execution_count": 13,
     "metadata": {},
     "output_type": "execute_result"
    }
   ],
   "source": [
    "df.shape"
   ]
  },
  {
   "cell_type": "markdown",
   "metadata": {},
   "source": [
    "### Exportando o DataFrame"
   ]
  },
  {
   "cell_type": "markdown",
   "metadata": {},
   "source": [
    "Exportando para um arquivo CSV"
   ]
  },
  {
   "cell_type": "code",
   "execution_count": 14,
   "metadata": {},
   "outputs": [],
   "source": [
    "df.to_csv(r'./bases/dataframe.csv', index = False, header = True)"
   ]
  },
  {
   "cell_type": "markdown",
   "metadata": {},
   "source": [
    "Exportando para um arquivo de planilha do Excel"
   ]
  },
  {
   "cell_type": "code",
   "execution_count": 15,
   "metadata": {},
   "outputs": [],
   "source": [
    "df.to_excel(r'./bases/dataframe.xlsx', index = False, header = True)"
   ]
  },
  {
   "cell_type": "markdown",
   "metadata": {},
   "source": [
    "Compara o tamanho total do Dataset inicial e final"
   ]
  },
  {
   "cell_type": "code",
   "execution_count": 16,
   "metadata": {},
   "outputs": [
    {
     "name": "stdout",
     "output_type": "stream",
     "text": [
      "\n",
      "Quantidade total de registros válidos importados: 7693634\n",
      "Tamanho do dataset após aplicação dos filtros:      18276\n"
     ]
    }
   ],
   "source": [
    "print('\\nQuantidade total de registros válidos importados:' + f'{str(tamanhoDataset):>8}')\n",
    "print('Tamanho do dataset após aplicação dos filtros:   ' + f'{str(df.shape[0]):>8}')"
   ]
  },
  {
   "cell_type": "code",
   "execution_count": 17,
   "metadata": {},
   "outputs": [
    {
     "name": "stdout",
     "output_type": "stream",
     "text": [
      "Tempo total de execução: 5.42 minutos.\n"
     ]
    }
   ],
   "source": [
    "tempotot=time.time()-initot\n",
    "if tempotot>60:\n",
    "    print(f'Tempo total de execução: {tempotot/60:.2f} minutos.')\n",
    "else:\n",
    "    print(f'Tempo total de execução: {tempotot:.2f} segundos.')"
   ]
  }
 ],
 "metadata": {
  "kernelspec": {
   "display_name": "Python 3",
   "language": "python",
   "name": "python3"
  },
  "language_info": {
   "codemirror_mode": {
    "name": "ipython",
    "version": 3
   },
   "file_extension": ".py",
   "mimetype": "text/x-python",
   "name": "python",
   "nbconvert_exporter": "python",
   "pygments_lexer": "ipython3",
   "version": "3.7.3"
  },
  "toc": {
   "base_numbering": 1,
   "nav_menu": {},
   "number_sections": false,
   "sideBar": false,
   "skip_h1_title": false,
   "title_cell": "Sumário",
   "title_sidebar": "Sumário",
   "toc_cell": false,
   "toc_position": {},
   "toc_section_display": true,
   "toc_window_display": false
  }
 },
 "nbformat": 4,
 "nbformat_minor": 2
}
