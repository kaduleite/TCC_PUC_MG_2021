{
 "cells": [
  {
   "cell_type": "markdown",
   "metadata": {
    "colab_type": "text",
    "id": "t9eSPPRmUEby"
   },
   "source": [
    "# _Notebook Jupyter_ 5_NLP_modeloClassificador"
   ]
  },
  {
   "cell_type": "markdown",
   "metadata": {
    "colab_type": "text",
    "id": "t9eSPPRmUEby"
   },
   "source": [
    "# Classificação da Aplicação por aprendizado de máquina"
   ]
  },
  {
   "cell_type": "markdown",
   "metadata": {
    "colab_type": "text",
    "id": "4eakEWy_62vS"
   },
   "source": [
    "## Importando bibliotecas"
   ]
  },
  {
   "cell_type": "code",
   "execution_count": 1,
   "metadata": {
    "colab": {
     "base_uri": "https://localhost:8080/",
     "height": 85
    },
    "colab_type": "code",
    "id": "F5Tc6cI9Kvpj",
    "outputId": "88b2ba16-8163-4ea6-e5d2-1ea968cb51da"
   },
   "outputs": [],
   "source": [
    "import pandas as pd, numpy as np, time\n",
    "from nltk.corpus import stopwords\n",
    "from sklearn.feature_extraction.text import CountVectorizer, TfidfTransformer\n",
    "from sklearn.svm import LinearSVC\n",
    "from sklearn.naive_bayes import MultinomialNB\n",
    "from sklearn.linear_model import LogisticRegression"
   ]
  },
  {
   "cell_type": "code",
   "execution_count": 2,
   "metadata": {},
   "outputs": [
    {
     "name": "stdout",
     "output_type": "stream",
     "text": [
      "Código executado em 10/01/2022 às 20:03\n"
     ]
    }
   ],
   "source": [
    "# Data e hora da execução do script\n",
    "print(f'Código executado em {time.strftime(\"%d/%m/%Y às %H:%M\", time.localtime(time.time()))}')"
   ]
  },
  {
   "cell_type": "markdown",
   "metadata": {},
   "source": [
    "### Importando a lista de Aplicações"
   ]
  },
  {
   "cell_type": "code",
   "execution_count": 3,
   "metadata": {},
   "outputs": [],
   "source": [
    "df_aplicacoes = pd.read_csv('Aplicacoes.csv')"
   ]
  },
  {
   "cell_type": "code",
   "execution_count": 4,
   "metadata": {},
   "outputs": [
    {
     "data": {
      "text/html": [
       "<div>\n",
       "<style scoped>\n",
       "    .dataframe tbody tr th:only-of-type {\n",
       "        vertical-align: middle;\n",
       "    }\n",
       "\n",
       "    .dataframe tbody tr th {\n",
       "        vertical-align: top;\n",
       "    }\n",
       "\n",
       "    .dataframe thead th {\n",
       "        text-align: right;\n",
       "    }\n",
       "</style>\n",
       "<table border=\"1\" class=\"dataframe\">\n",
       "  <thead>\n",
       "    <tr style=\"text-align: right;\">\n",
       "      <th></th>\n",
       "      <th>APLICACOES</th>\n",
       "    </tr>\n",
       "  </thead>\n",
       "  <tbody>\n",
       "    <tr>\n",
       "      <th>0</th>\n",
       "      <td>ACELLERA ACX 250F 250</td>\n",
       "    </tr>\n",
       "    <tr>\n",
       "      <th>1</th>\n",
       "      <td>ACELLERA FRONTLANDER 500</td>\n",
       "    </tr>\n",
       "  </tbody>\n",
       "</table>\n",
       "</div>"
      ],
      "text/plain": [
       "                 APLICACOES\n",
       "0     ACELLERA ACX 250F 250\n",
       "1  ACELLERA FRONTLANDER 500"
      ]
     },
     "execution_count": 4,
     "metadata": {},
     "output_type": "execute_result"
    }
   ],
   "source": [
    "df_aplicacoes.head(2)"
   ]
  },
  {
   "cell_type": "code",
   "execution_count": 5,
   "metadata": {},
   "outputs": [
    {
     "data": {
      "text/html": [
       "<div>\n",
       "<style scoped>\n",
       "    .dataframe tbody tr th:only-of-type {\n",
       "        vertical-align: middle;\n",
       "    }\n",
       "\n",
       "    .dataframe tbody tr th {\n",
       "        vertical-align: top;\n",
       "    }\n",
       "\n",
       "    .dataframe thead th {\n",
       "        text-align: right;\n",
       "    }\n",
       "</style>\n",
       "<table border=\"1\" class=\"dataframe\">\n",
       "  <thead>\n",
       "    <tr style=\"text-align: right;\">\n",
       "      <th></th>\n",
       "      <th>APLICACOES</th>\n",
       "    </tr>\n",
       "  </thead>\n",
       "  <tbody>\n",
       "    <tr>\n",
       "      <th>859</th>\n",
       "      <td>ZONGSHEN ZS 125</td>\n",
       "    </tr>\n",
       "    <tr>\n",
       "      <th>860</th>\n",
       "      <td>ZONGSHEN ZS 200</td>\n",
       "    </tr>\n",
       "  </tbody>\n",
       "</table>\n",
       "</div>"
      ],
      "text/plain": [
       "          APLICACOES\n",
       "859  ZONGSHEN ZS 125\n",
       "860  ZONGSHEN ZS 200"
      ]
     },
     "execution_count": 5,
     "metadata": {},
     "output_type": "execute_result"
    }
   ],
   "source": [
    "df_aplicacoes.tail(2)"
   ]
  },
  {
   "cell_type": "code",
   "execution_count": 6,
   "metadata": {},
   "outputs": [
    {
     "data": {
      "text/plain": [
       "(861, 1)"
      ]
     },
     "execution_count": 6,
     "metadata": {},
     "output_type": "execute_result"
    }
   ],
   "source": [
    "df_aplicacoes.shape"
   ]
  },
  {
   "cell_type": "markdown",
   "metadata": {
    "colab_type": "text",
    "id": "2q5MuAkA7U68"
   },
   "source": [
    "## CountVectorizer"
   ]
  },
  {
   "cell_type": "markdown",
   "metadata": {},
   "source": [
    "### CountVectorizer do DataSet das Aplicaçãoes"
   ]
  },
  {
   "cell_type": "code",
   "execution_count": 7,
   "metadata": {},
   "outputs": [],
   "source": [
    "# Criação da função CountVectorizer\n",
    "cvta = CountVectorizer(strip_accents='ascii', lowercase=True)"
   ]
  },
  {
   "cell_type": "code",
   "execution_count": 8,
   "metadata": {},
   "outputs": [],
   "source": [
    "X_cvta = cvta.fit_transform(df_aplicacoes['APLICACOES'])"
   ]
  },
  {
   "cell_type": "code",
   "execution_count": 9,
   "metadata": {},
   "outputs": [],
   "source": [
    "# Criação da função TfidfTransformer\n",
    "tfia = TfidfTransformer(use_idf=True)"
   ]
  },
  {
   "cell_type": "code",
   "execution_count": 10,
   "metadata": {},
   "outputs": [],
   "source": [
    "X_tfia = tfia.fit_transform(X_cvta)"
   ]
  },
  {
   "cell_type": "markdown",
   "metadata": {},
   "source": [
    "## Treinando os Modelos com o DataSet Aplicações"
   ]
  },
  {
   "cell_type": "markdown",
   "metadata": {
    "colab_type": "text",
    "id": "-GuR9sOdt-rR"
   },
   "source": [
    "### Definindo os parâmetros"
   ]
  },
  {
   "cell_type": "markdown",
   "metadata": {},
   "source": [
    "Utilizaremos toda a base no treinamento, pois a intenção é criar uma função de classificação para um dataset onde a classificação é inexistente."
   ]
  },
  {
   "cell_type": "code",
   "execution_count": 11,
   "metadata": {},
   "outputs": [],
   "source": [
    "X_train=X_tfia.toarray()\n",
    "y_train=np.array(df_aplicacoes['APLICACOES'])\n",
    "y_train1=df_aplicacoes['APLICACOES'].index.to_numpy()"
   ]
  },
  {
   "cell_type": "markdown",
   "metadata": {
    "colab_type": "text",
    "id": "-GuR9sOdt-rR"
   },
   "source": [
    "### Modelo LinearSVC"
   ]
  },
  {
   "cell_type": "code",
   "execution_count": 12,
   "metadata": {
    "colab": {
     "base_uri": "https://localhost:8080/",
     "height": 85
    },
    "colab_type": "code",
    "id": "3sKGFVOeb7A9",
    "outputId": "181cf909-9e02-44ff-a905-813948e8c6d0"
   },
   "outputs": [
    {
     "data": {
      "text/plain": [
       "LinearSVC(C=1.0, class_weight=None, dual=True, fit_intercept=True,\n",
       "     intercept_scaling=1, loss='squared_hinge', max_iter=1000,\n",
       "     multi_class='ovr', penalty='l2', random_state=None, tol=0.0001,\n",
       "     verbose=0)"
      ]
     },
     "execution_count": 12,
     "metadata": {},
     "output_type": "execute_result"
    }
   ],
   "source": [
    "# Criando modelo\n",
    "clfsvc = LinearSVC()\n",
    "# Treinamento do modelo\n",
    "clfsvc.fit(X_tfia, y_train)"
   ]
  },
  {
   "cell_type": "markdown",
   "metadata": {},
   "source": [
    "#### Função de classificação LinearSVC"
   ]
  },
  {
   "cell_type": "markdown",
   "metadata": {
    "colab_type": "text",
    "id": "glPX-gZyuLwr"
   },
   "source": [
    "A função para utilização do modelo, recebe a descrição filtrada Modelo e retorna a aplicação.\n"
   ]
  },
  {
   "cell_type": "code",
   "execution_count": 13,
   "metadata": {
    "colab": {},
    "colab_type": "code",
    "id": "sbEB0-E5dwlc"
   },
   "outputs": [],
   "source": [
    "def classificaAplicacaoSVC(modelo):\n",
    "    novo_cvta = cvta.transform(pd.Series(modelo))\n",
    "    novo_tfia = tfia.transform(novo_cvta)\n",
    "    aplicacao = clfsvc.predict(novo_tfia)[0]\n",
    "    return aplicacao"
   ]
  },
  {
   "cell_type": "markdown",
   "metadata": {},
   "source": [
    "No final o nosso resultado mostrando (Modelo: descrição filtrada para o modelo e Aplicação: aplicação prevista).<br>"
   ]
  },
  {
   "cell_type": "code",
   "execution_count": 14,
   "metadata": {
    "colab_type": "text",
    "id": "e3QxsHVfuQip",
    "scrolled": false
   },
   "outputs": [
    {
     "name": "stdout",
     "output_type": "stream",
     "text": [
      "Modelo: 150 CG HONDA TITAN  Aplicação: HONDA CG TIT TITAN 125 150 160\n",
      "Modelo: 125 CARGO CG HONDA TITAN  Aplicação: HONDA CG TIT TITAN 125 150 160\n",
      "Modelo: BIZ C100 HONDA  Aplicação: HONDA BIZ 100 C100 125 C125\n",
      "Modelo: 100 HONDA BIZ  Aplicação: HONDA BIZ 100 C100 125 C125\n",
      "Modelo: 100 BIZ BRAVO HONDA  Aplicação: SHINERAY BRAVO 200\n",
      "Modelo: 125 YBR GT YAMAHA  Aplicação: SUZUKI GT\n",
      "Modelo: 250F TWISTER HONDA  Aplicação: HONDA TWISTER CBX 250\n"
     ]
    }
   ],
   "source": [
    "# Lista de exemplos de novos produtos\n",
    "modelos = ['150 CG HONDA TITAN',\n",
    "           '125 CARGO CG HONDA TITAN',\n",
    "           'BIZ C100 HONDA',\n",
    "           '100 HONDA BIZ',\n",
    "           '100 BIZ BRAVO HONDA',\n",
    "           '125 YBR GT YAMAHA',\n",
    "           '250F TWISTER HONDA']\n",
    "# Loop for para fazer a predição do departamento de novos produtos\n",
    "for modelo in modelos:\n",
    "  print('Modelo:', modelo, ' Aplicação:', classificaAplicacaoSVC(modelo))"
   ]
  },
  {
   "cell_type": "markdown",
   "metadata": {
    "colab_type": "text",
    "id": "-GuR9sOdt-rR"
   },
   "source": [
    "### Modelo Multinomial Naive Bayes"
   ]
  },
  {
   "cell_type": "code",
   "execution_count": 15,
   "metadata": {
    "colab": {
     "base_uri": "https://localhost:8080/",
     "height": 85
    },
    "colab_type": "code",
    "id": "3sKGFVOeb7A9",
    "outputId": "181cf909-9e02-44ff-a905-813948e8c6d0"
   },
   "outputs": [
    {
     "data": {
      "text/plain": [
       "MultinomialNB(alpha=1.0, class_prior=None, fit_prior=True)"
      ]
     },
     "execution_count": 15,
     "metadata": {},
     "output_type": "execute_result"
    }
   ],
   "source": [
    "# Criando modelo\n",
    "clfmnb = MultinomialNB()\n",
    "# Treinamento do modelo\n",
    "clfmnb.fit(X_train, y_train1)"
   ]
  },
  {
   "cell_type": "markdown",
   "metadata": {},
   "source": [
    "#### Função de classificação"
   ]
  },
  {
   "cell_type": "markdown",
   "metadata": {
    "colab_type": "text",
    "id": "glPX-gZyuLwr"
   },
   "source": [
    "A função para utilização do modelo, recebe a descrição filtrada Modelo e retorna a aplicação.\n"
   ]
  },
  {
   "cell_type": "code",
   "execution_count": 16,
   "metadata": {
    "colab": {},
    "colab_type": "code",
    "id": "sbEB0-E5dwlc"
   },
   "outputs": [],
   "source": [
    "def classificaAplicacaoMNB(modelo):\n",
    "    novo_cvta = cvta.transform(pd.Series(modelo))\n",
    "    novo_tfia = tfia.transform(novo_cvta)\n",
    "    aplicacao = df_aplicacoes['APLICACOES'][clfmnb.predict(novo_tfia)[0]]\n",
    "    return aplicacao"
   ]
  },
  {
   "cell_type": "markdown",
   "metadata": {},
   "source": [
    "No final o nosso resultado mostrando (Modelo: descrição filtrada para o modelo e Aplicação: aplicação prevista).<br>"
   ]
  },
  {
   "cell_type": "code",
   "execution_count": 17,
   "metadata": {
    "colab_type": "text",
    "id": "e3QxsHVfuQip",
    "scrolled": false
   },
   "outputs": [
    {
     "name": "stdout",
     "output_type": "stream",
     "text": [
      "Modelo: 150 CG FAN HONDA TITAN Aplicação: HONDA CG FAN\n",
      "Modelo: 125 CARGO CG HONDA TITAN Aplicação: HONDA CG TIT TITAN 125 150 160\n",
      "Modelo: BIZ C100 HONDA Aplicação: HONDA BIZ 100 C100 125 C125\n",
      "Modelo: 100 HONDA BIZ Aplicação: HONDA BIZ 100 C100 125 C125\n",
      "Modelo: 100 BIZ BRAVO HONDA Aplicação: HONDA BIZ 100 C100 125 C125\n",
      "Modelo: 125 YBR GT YAMAHA Aplicação: YAMAHA FACTOR YBR 125 YBR125\n",
      "Modelo: 250F TWISTER HONDA Aplicação: HONDA TWISTER CBX 250\n"
     ]
    }
   ],
   "source": [
    "# Lista de exemplos de novos produtos\n",
    "modelos = ['150 CG FAN HONDA TITAN',\n",
    "           '125 CARGO CG HONDA TITAN',\n",
    "           'BIZ C100 HONDA',\n",
    "           '100 HONDA BIZ',\n",
    "           '100 BIZ BRAVO HONDA',\n",
    "           '125 YBR GT YAMAHA',\n",
    "           '250F TWISTER HONDA']\n",
    "# Loop for para fazer a predição do departamento de novos produtos\n",
    "for modelo in modelos:\n",
    "  print('Modelo:', modelo, 'Aplicação:', classificaAplicacaoMNB(modelo))"
   ]
  },
  {
   "cell_type": "markdown",
   "metadata": {
    "colab_type": "text",
    "id": "-GuR9sOdt-rR"
   },
   "source": [
    "### Modelo de Regressão Logística"
   ]
  },
  {
   "cell_type": "code",
   "execution_count": 18,
   "metadata": {
    "colab": {
     "base_uri": "https://localhost:8080/",
     "height": 85
    },
    "colab_type": "code",
    "id": "3sKGFVOeb7A9",
    "outputId": "181cf909-9e02-44ff-a905-813948e8c6d0"
   },
   "outputs": [
    {
     "data": {
      "text/plain": [
       "LogisticRegression(C=1.0, class_weight=None, dual=False, fit_intercept=True,\n",
       "          intercept_scaling=1, max_iter=100, multi_class='multinomial',\n",
       "          n_jobs=None, penalty='l2', random_state=None, solver='lbfgs',\n",
       "          tol=0.0001, verbose=0, warm_start=False)"
      ]
     },
     "execution_count": 18,
     "metadata": {},
     "output_type": "execute_result"
    }
   ],
   "source": [
    "# Criando modelo\n",
    "clflgr = LogisticRegression(solver='lbfgs',multi_class='multinomial')\n",
    "# Treinamento do modelo\n",
    "clflgr.fit(X_train, y_train)"
   ]
  },
  {
   "cell_type": "markdown",
   "metadata": {},
   "source": [
    "#### Função de classificação"
   ]
  },
  {
   "cell_type": "markdown",
   "metadata": {
    "colab_type": "text",
    "id": "glPX-gZyuLwr"
   },
   "source": [
    "A função para utilização do modelo, recebe a descrição filtrada Modelo e retorna a aplicação.\n"
   ]
  },
  {
   "cell_type": "code",
   "execution_count": 19,
   "metadata": {
    "colab": {},
    "colab_type": "code",
    "id": "sbEB0-E5dwlc"
   },
   "outputs": [],
   "source": [
    "def classificaAplicacaoLGR(modelo):\n",
    "    novo_cvt = cvta.transform(pd.Series(modelo))\n",
    "    novo_tfi = tfia.transform(novo_cvt)\n",
    "    aplicacao = clflgr.predict(novo_tfi)[0]\n",
    "    return aplicacao"
   ]
  },
  {
   "cell_type": "markdown",
   "metadata": {},
   "source": [
    "No final o nosso resultado mostrando (Modelo: descrição filtrada para o modelo e Aplicação: aplicação prevista).<br>"
   ]
  },
  {
   "cell_type": "code",
   "execution_count": 20,
   "metadata": {
    "colab_type": "text",
    "id": "e3QxsHVfuQip",
    "scrolled": false
   },
   "outputs": [
    {
     "name": "stdout",
     "output_type": "stream",
     "text": [
      "Modelo: 150 CG FAN HONDA TITAN Aplicação: HONDA CG FAN\n",
      "Modelo: 125 CARGO CG HONDA TITAN Aplicação: LIFAN LF125\n",
      "Modelo: BIZ C100 HONDA Aplicação: HONDA BIZ 100 C100 125 C125\n",
      "Modelo: 100 HONDA BIZ Aplicação: LIFAN LF125\n",
      "Modelo: 100 BIZ BRAVO HONDA Aplicação: LIFAN LF125\n",
      "Modelo: 125 YBR GT YAMAHA Aplicação: LIFAN LF125\n",
      "Modelo: 250F TWISTER HONDA Aplicação: LIFAN LF125\n"
     ]
    }
   ],
   "source": [
    "# Lista de exemplos de novos produtos\n",
    "modelos = ['150 CG FAN HONDA TITAN',\n",
    "           '125 CARGO CG HONDA TITAN',\n",
    "           'BIZ C100 HONDA',\n",
    "           '100 HONDA BIZ',\n",
    "           '100 BIZ BRAVO HONDA',\n",
    "           '125 YBR GT YAMAHA',\n",
    "           '250F TWISTER HONDA']\n",
    "# Loop for para fazer a predição do departamento de novos produtos\n",
    "for modelo in modelos:\n",
    "    print('Modelo:', modelo, 'Aplicação:', classificaAplicacaoLGR(modelo))"
   ]
  },
  {
   "cell_type": "markdown",
   "metadata": {
    "colab_type": "text",
    "id": "Xya6qHGUuIGL"
   },
   "source": [
    "## Utilização do modelo"
   ]
  },
  {
   "cell_type": "markdown",
   "metadata": {
    "colab_type": "text",
    "id": "_-re6wFx668E"
   },
   "source": [
    "### Carregando dataset"
   ]
  },
  {
   "cell_type": "code",
   "execution_count": 21,
   "metadata": {},
   "outputs": [
    {
     "data": {
      "text/html": [
       "<div>\n",
       "<style scoped>\n",
       "    .dataframe tbody tr th:only-of-type {\n",
       "        vertical-align: middle;\n",
       "    }\n",
       "\n",
       "    .dataframe tbody tr th {\n",
       "        vertical-align: top;\n",
       "    }\n",
       "\n",
       "    .dataframe thead th {\n",
       "        text-align: right;\n",
       "    }\n",
       "</style>\n",
       "<table border=\"1\" class=\"dataframe\">\n",
       "  <thead>\n",
       "    <tr style=\"text-align: right;\">\n",
       "      <th></th>\n",
       "      <th>Modelo</th>\n",
       "      <th>APLICACAO</th>\n",
       "    </tr>\n",
       "  </thead>\n",
       "  <tbody>\n",
       "    <tr>\n",
       "      <th>0</th>\n",
       "      <td>HONDA CG 150 TIT AN TITAN FAN</td>\n",
       "      <td>HONDA CG TIT TITAN 125 150 160</td>\n",
       "    </tr>\n",
       "    <tr>\n",
       "      <th>1</th>\n",
       "      <td>CG HONDA TIT AN 125 CARGO TITAN</td>\n",
       "      <td>HONDA CG TIT TITAN 125 150 160</td>\n",
       "    </tr>\n",
       "    <tr>\n",
       "      <th>2</th>\n",
       "      <td>HONDA 125 CG FAN</td>\n",
       "      <td>HONDA CG FAN</td>\n",
       "    </tr>\n",
       "    <tr>\n",
       "      <th>3</th>\n",
       "      <td>HONDA BIZ C100</td>\n",
       "      <td>HONDA BIZ 100 C100 125 C125</td>\n",
       "    </tr>\n",
       "    <tr>\n",
       "      <th>4</th>\n",
       "      <td>MIRAGE 150</td>\n",
       "      <td>KASINSKI MIRAGE 150 250</td>\n",
       "    </tr>\n",
       "  </tbody>\n",
       "</table>\n",
       "</div>"
      ],
      "text/plain": [
       "                            Modelo                       APLICACAO\n",
       "0    HONDA CG 150 TIT AN TITAN FAN  HONDA CG TIT TITAN 125 150 160\n",
       "1  CG HONDA TIT AN 125 CARGO TITAN  HONDA CG TIT TITAN 125 150 160\n",
       "2                 HONDA 125 CG FAN                    HONDA CG FAN\n",
       "3                   HONDA BIZ C100     HONDA BIZ 100 C100 125 C125\n",
       "4                       MIRAGE 150         KASINSKI MIRAGE 150 250"
      ]
     },
     "execution_count": 21,
     "metadata": {},
     "output_type": "execute_result"
    }
   ],
   "source": [
    "# Importa base de dados com os modelos já determinados para um dataframe\n",
    "df = pd.read_excel('dataframe_modelos_class0.xlsx')\n",
    "df.iloc[:,-2:].head()"
   ]
  },
  {
   "cell_type": "code",
   "execution_count": 22,
   "metadata": {},
   "outputs": [
    {
     "data": {
      "text/plain": [
       "(18237, 28)"
      ]
     },
     "execution_count": 22,
     "metadata": {},
     "output_type": "execute_result"
    }
   ],
   "source": [
    "# Verifica o tamnanho do dataframe\n",
    "df.shape"
   ]
  },
  {
   "cell_type": "markdown",
   "metadata": {},
   "source": [
    "### Classificando os modelos do DataSet"
   ]
  },
  {
   "cell_type": "code",
   "execution_count": 23,
   "metadata": {},
   "outputs": [
    {
     "name": "stdout",
     "output_type": "stream",
     "text": [
      "Hora de início:20:03:23\n",
      "Hora de término:20:03:32\n",
      "Tempo decorrido: 8.9 segundos.\n"
     ]
    }
   ],
   "source": [
    "# Modelo Linear SVC\n",
    "ini=time.time()\n",
    "now = time.strftime(\"%H:%M:%S\", time.localtime(time.time()))\n",
    "print(\"Hora de início:\" + now)\n",
    "\n",
    "df['APLICACAOSVC']=df['Modelo'].apply(classificaAplicacaoSVC)\n",
    "\n",
    "now = time.strftime(\"%H:%M:%S\", time.localtime(time.time()))\n",
    "fim=time.time()\n",
    "print(\"Hora de término:\" + str(now))\n",
    "print(\"Tempo decorrido: \" + str(round((fim-ini),1)) + \" segundos.\")"
   ]
  },
  {
   "cell_type": "code",
   "execution_count": 24,
   "metadata": {},
   "outputs": [
    {
     "name": "stdout",
     "output_type": "stream",
     "text": [
      "Hora de início:20:03\n",
      "Hora de término:20:04\n",
      "Tempo decorrido: 58.5 segundos.\n"
     ]
    }
   ],
   "source": [
    "# Modelo Multinomial NB\n",
    "ini=time.time()\n",
    "now = time.strftime(\"%H:%M\", time.localtime(time.time()))\n",
    "print(\"Hora de início:\" + now)\n",
    "\n",
    "df['APLICACAOMNB']=df['Modelo'].apply(classificaAplicacaoMNB)\n",
    "\n",
    "now = time.strftime(\"%H:%M\", time.localtime(time.time()))\n",
    "fim=time.time()\n",
    "print(\"Hora de término:\" + str(now))\n",
    "print(\"Tempo decorrido: \" + str(round((fim-ini),1)) + \" segundos.\")"
   ]
  },
  {
   "cell_type": "code",
   "execution_count": 25,
   "metadata": {},
   "outputs": [
    {
     "name": "stdout",
     "output_type": "stream",
     "text": [
      "Hora de início:20:04\n",
      "Hora de término:20:05\n",
      "Tempo decorrido: 72.3 segundos.\n"
     ]
    }
   ],
   "source": [
    "# Modelo Regressão Logística\n",
    "ini=time.time()\n",
    "now = time.strftime(\"%H:%M\", time.localtime(time.time()))\n",
    "print(\"Hora de início:\" + now)\n",
    "\n",
    "df['APLICACAOLGR']=df['Modelo'].apply(classificaAplicacaoLGR)\n",
    "\n",
    "now = time.strftime(\"%H:%M\", time.localtime(time.time()))\n",
    "fim=time.time()\n",
    "print(\"Hora de término:\" + str(now))\n",
    "print(\"Tempo decorrido: \" + str(round((fim-ini),1)) + \" segundos.\")"
   ]
  },
  {
   "cell_type": "code",
   "execution_count": 26,
   "metadata": {},
   "outputs": [
    {
     "data": {
      "text/plain": [
       "(18237, 31)"
      ]
     },
     "execution_count": 26,
     "metadata": {},
     "output_type": "execute_result"
    }
   ],
   "source": [
    "df.shape"
   ]
  },
  {
   "cell_type": "code",
   "execution_count": 27,
   "metadata": {
    "scrolled": false
   },
   "outputs": [
    {
     "data": {
      "text/html": [
       "<div>\n",
       "<style scoped>\n",
       "    .dataframe tbody tr th:only-of-type {\n",
       "        vertical-align: middle;\n",
       "    }\n",
       "\n",
       "    .dataframe tbody tr th {\n",
       "        vertical-align: top;\n",
       "    }\n",
       "\n",
       "    .dataframe thead th {\n",
       "        text-align: right;\n",
       "    }\n",
       "</style>\n",
       "<table border=\"1\" class=\"dataframe\">\n",
       "  <thead>\n",
       "    <tr style=\"text-align: right;\">\n",
       "      <th></th>\n",
       "      <th>DESCRICAO</th>\n",
       "      <th>Modelo</th>\n",
       "      <th>APLICACAO</th>\n",
       "      <th>APLICACAOSVC</th>\n",
       "      <th>APLICACAOMNB</th>\n",
       "      <th>APLICACAOLGR</th>\n",
       "    </tr>\n",
       "  </thead>\n",
       "  <tbody>\n",
       "    <tr>\n",
       "      <th>4202</th>\n",
       "      <td>volcom bros 150</td>\n",
       "      <td>HONDA BROS 150</td>\n",
       "      <td>HONDA NXR 150 BROS BROZ</td>\n",
       "      <td>HONDA NXR 150 BROS BROZ</td>\n",
       "      <td>HONDA NXR 150 BROS BROZ</td>\n",
       "      <td>LIFAN LF125</td>\n",
       "    </tr>\n",
       "    <tr>\n",
       "      <th>17908</th>\n",
       "      <td>twister duas</td>\n",
       "      <td>TWISTER</td>\n",
       "      <td>HONDA TWISTER CBX 250</td>\n",
       "      <td>HONDA TWISTER CBX 250</td>\n",
       "      <td>HONDA TWISTER CBX 250</td>\n",
       "      <td>LIFAN LF125</td>\n",
       "    </tr>\n",
       "    <tr>\n",
       "      <th>10966</th>\n",
       "      <td>pop 100</td>\n",
       "      <td>HONDA POP 100</td>\n",
       "      <td>HONDA POP 100</td>\n",
       "      <td>HONDA POP 100</td>\n",
       "      <td>HONDA POP 100</td>\n",
       "      <td>HONDA POP 100</td>\n",
       "    </tr>\n",
       "    <tr>\n",
       "      <th>13214</th>\n",
       "      <td>ktr5299 yes katana</td>\n",
       "      <td>SUZUKI YES KATANA</td>\n",
       "      <td>SUZUKI YES EN 125</td>\n",
       "      <td>SUZUKI KATANA</td>\n",
       "      <td>SUZUKI KATANA</td>\n",
       "      <td>SUZUKI KATANA</td>\n",
       "    </tr>\n",
       "    <tr>\n",
       "      <th>1266</th>\n",
       "      <td>cg 160 fan start titan cargo 150</td>\n",
       "      <td>HONDA 160 CG 150 TIT AN CARGO TITAN FAN</td>\n",
       "      <td>HONDA CG TIT TITAN 125 150 160</td>\n",
       "      <td>HONDA CG TIT TITAN 125 150 160</td>\n",
       "      <td>HONDA CG TIT TITAN 125 150 160</td>\n",
       "      <td>HONDA CG TIT TITAN 125 150 160</td>\n",
       "    </tr>\n",
       "  </tbody>\n",
       "</table>\n",
       "</div>"
      ],
      "text/plain": [
       "                              DESCRICAO  \\\n",
       "4202                    volcom bros 150   \n",
       "17908                      twister duas   \n",
       "10966                           pop 100   \n",
       "13214                ktr5299 yes katana   \n",
       "1266   cg 160 fan start titan cargo 150   \n",
       "\n",
       "                                        Modelo  \\\n",
       "4202                            HONDA BROS 150   \n",
       "17908                                  TWISTER   \n",
       "10966                            HONDA POP 100   \n",
       "13214                        SUZUKI YES KATANA   \n",
       "1266   HONDA 160 CG 150 TIT AN CARGO TITAN FAN   \n",
       "\n",
       "                            APLICACAO                    APLICACAOSVC  \\\n",
       "4202          HONDA NXR 150 BROS BROZ         HONDA NXR 150 BROS BROZ   \n",
       "17908           HONDA TWISTER CBX 250           HONDA TWISTER CBX 250   \n",
       "10966                   HONDA POP 100                   HONDA POP 100   \n",
       "13214               SUZUKI YES EN 125                   SUZUKI KATANA   \n",
       "1266   HONDA CG TIT TITAN 125 150 160  HONDA CG TIT TITAN 125 150 160   \n",
       "\n",
       "                         APLICACAOMNB                    APLICACAOLGR  \n",
       "4202          HONDA NXR 150 BROS BROZ                     LIFAN LF125  \n",
       "17908           HONDA TWISTER CBX 250                     LIFAN LF125  \n",
       "10966                   HONDA POP 100                   HONDA POP 100  \n",
       "13214                   SUZUKI KATANA                   SUZUKI KATANA  \n",
       "1266   HONDA CG TIT TITAN 125 150 160  HONDA CG TIT TITAN 125 150 160  "
      ]
     },
     "execution_count": 27,
     "metadata": {},
     "output_type": "execute_result"
    }
   ],
   "source": [
    "df.iloc[:,-6:].sample(5)"
   ]
  },
  {
   "cell_type": "markdown",
   "metadata": {},
   "source": [
    "## Comparação das classificações"
   ]
  },
  {
   "cell_type": "code",
   "execution_count": 28,
   "metadata": {},
   "outputs": [
    {
     "data": {
      "text/plain": [
       "(1122, 31)"
      ]
     },
     "execution_count": 28,
     "metadata": {},
     "output_type": "execute_result"
    }
   ],
   "source": [
    "# Quantidade de registros divergentes entre os modelos SVC e Multinomial NB\n",
    "df[df['APLICACAOSVC']!=df['APLICACAOMNB']].shape"
   ]
  },
  {
   "cell_type": "code",
   "execution_count": 29,
   "metadata": {},
   "outputs": [
    {
     "data": {
      "text/plain": [
       "(8136, 31)"
      ]
     },
     "execution_count": 29,
     "metadata": {},
     "output_type": "execute_result"
    }
   ],
   "source": [
    "# Quantidade de registros divergentes entre os modelos SVC e Regressão Logistica\n",
    "df[df['APLICACAOSVC']!=df['APLICACAOLGR']].shape"
   ]
  },
  {
   "cell_type": "code",
   "execution_count": 30,
   "metadata": {},
   "outputs": [
    {
     "data": {
      "text/plain": [
       "(7999, 31)"
      ]
     },
     "execution_count": 30,
     "metadata": {},
     "output_type": "execute_result"
    }
   ],
   "source": [
    "# Quantidade de registros divergentes entre os modelos Multinomial NB e Regressão Logistica\n",
    "df[df['APLICACAOMNB']!=df['APLICACAOLGR']].shape"
   ]
  },
  {
   "cell_type": "code",
   "execution_count": 31,
   "metadata": {},
   "outputs": [
    {
     "data": {
      "text/plain": [
       "(2595, 31)"
      ]
     },
     "execution_count": 31,
     "metadata": {},
     "output_type": "execute_result"
    }
   ],
   "source": [
    "# Quantidade de registros divergentes entre a extração e o modelo SVC\n",
    "df[df['APLICACAO']!=df['APLICACAOSVC']].shape"
   ]
  },
  {
   "cell_type": "code",
   "execution_count": 32,
   "metadata": {},
   "outputs": [
    {
     "data": {
      "text/plain": [
       "(2508, 31)"
      ]
     },
     "execution_count": 32,
     "metadata": {},
     "output_type": "execute_result"
    }
   ],
   "source": [
    "# Quantidade de registros divergentes entre a extração e o modelo Multinomial NB\n",
    "df[df['APLICACAO']!=df['APLICACAOMNB']].shape"
   ]
  },
  {
   "cell_type": "code",
   "execution_count": 33,
   "metadata": {},
   "outputs": [
    {
     "data": {
      "text/plain": [
       "(8741, 31)"
      ]
     },
     "execution_count": 33,
     "metadata": {},
     "output_type": "execute_result"
    }
   ],
   "source": [
    "# Quantidade de registros divergentes entre a extração e o modelo de Regressão Logística\n",
    "df[df['APLICACAO']!=df['APLICACAOLGR']].shape"
   ]
  },
  {
   "cell_type": "markdown",
   "metadata": {},
   "source": [
    "Em virtude do tempo de processamento excessivamente maior e também da enormidade de divergências, decidiu-se por abandonar o uso da modelo de regressão logística."
   ]
  },
  {
   "cell_type": "code",
   "execution_count": 34,
   "metadata": {},
   "outputs": [],
   "source": [
    "df.drop('APLICACAOLGR', axis=1, inplace=True)"
   ]
  },
  {
   "cell_type": "code",
   "execution_count": 35,
   "metadata": {},
   "outputs": [
    {
     "data": {
      "text/html": [
       "<div>\n",
       "<style scoped>\n",
       "    .dataframe tbody tr th:only-of-type {\n",
       "        vertical-align: middle;\n",
       "    }\n",
       "\n",
       "    .dataframe tbody tr th {\n",
       "        vertical-align: top;\n",
       "    }\n",
       "\n",
       "    .dataframe thead th {\n",
       "        text-align: right;\n",
       "    }\n",
       "</style>\n",
       "<table border=\"1\" class=\"dataframe\">\n",
       "  <thead>\n",
       "    <tr style=\"text-align: right;\">\n",
       "      <th></th>\n",
       "      <th>DESCRICAO</th>\n",
       "      <th>Modelo</th>\n",
       "      <th>APLICACAO</th>\n",
       "      <th>APLICACAOSVC</th>\n",
       "      <th>APLICACAOMNB</th>\n",
       "    </tr>\n",
       "  </thead>\n",
       "  <tbody>\n",
       "    <tr>\n",
       "      <th>11</th>\n",
       "      <td>hunter max 125 allen</td>\n",
       "      <td>125 HUNTER MAX</td>\n",
       "      <td>XXX</td>\n",
       "      <td>SUNDOWN HUNTER</td>\n",
       "      <td>HONDA CT 125 HUNTER</td>\n",
       "    </tr>\n",
       "    <tr>\n",
       "      <th>16</th>\n",
       "      <td>xt 250 tenere allen</td>\n",
       "      <td>YAMAHA TENERE XT 250</td>\n",
       "      <td>XXX</td>\n",
       "      <td>YAMAHA XTZ TENERE 250</td>\n",
       "      <td>YAMAHA XT TENERE 660Z 660</td>\n",
       "    </tr>\n",
       "    <tr>\n",
       "      <th>17</th>\n",
       "      <td>yes intruder 125 allen</td>\n",
       "      <td>SUZUKI 125 YES INTRUDER</td>\n",
       "      <td>SUZUKI YES EN 125</td>\n",
       "      <td>SUZUKI INTRUDER</td>\n",
       "      <td>SUZUKI YES EN 125</td>\n",
       "    </tr>\n",
       "    <tr>\n",
       "      <th>22</th>\n",
       "      <td>jet 49cc allen</td>\n",
       "      <td>JET</td>\n",
       "      <td>['SHINERAY JET 125', 'SHINERAY JET 50']</td>\n",
       "      <td>SHINERAY JET 50</td>\n",
       "      <td>SHINERAY JET 125</td>\n",
       "    </tr>\n",
       "    <tr>\n",
       "      <th>42</th>\n",
       "      <td>xtz 250 allen</td>\n",
       "      <td>YAMAHA XTZ 250</td>\n",
       "      <td>['YAMAHA LANDER XTZ 250', 'YAMAHA XTZ TENERE 2...</td>\n",
       "      <td>YAMAHA XTZ 125</td>\n",
       "      <td>YAMAHA XTZ TENERE 250</td>\n",
       "    </tr>\n",
       "    <tr>\n",
       "      <th>43</th>\n",
       "      <td>xl 125s allen</td>\n",
       "      <td>HONDA XL</td>\n",
       "      <td>['HONDA VARADERO XL 1000V', 'HONDA XL 700V TRA...</td>\n",
       "      <td>HONDA XL 700V TRANSALP</td>\n",
       "      <td>HONDA VARADERO XL 1000V</td>\n",
       "    </tr>\n",
       "    <tr>\n",
       "      <th>104</th>\n",
       "      <td>50</td>\n",
       "      <td>50</td>\n",
       "      <td>['BETA MX-50 MX50 50', 'GARINNI GRI 50', 'HOND...</td>\n",
       "      <td>KTM SX 50</td>\n",
       "      <td>BETA MX-50 MX50 50</td>\n",
       "    </tr>\n",
       "    <tr>\n",
       "      <th>110</th>\n",
       "      <td>top cb 300r nr</td>\n",
       "      <td>HONDA CB 300R TOP</td>\n",
       "      <td>HONDA CB 300R 300 CB300</td>\n",
       "      <td>KAHENA TOP</td>\n",
       "      <td>HONDA CB 300R 300 CB300</td>\n",
       "    </tr>\n",
       "    <tr>\n",
       "      <th>111</th>\n",
       "      <td>top ninja 250r 300 nr</td>\n",
       "      <td>KAWASAKI TOP 300 NINJA 50R</td>\n",
       "      <td>KAHENA TOP</td>\n",
       "      <td>KAHENA TOP</td>\n",
       "      <td>KAWASAKI NINJA 300</td>\n",
       "    </tr>\n",
       "    <tr>\n",
       "      <th>112</th>\n",
       "      <td>top yzf r3 mt nr</td>\n",
       "      <td>YAMAHA YZF TOP</td>\n",
       "      <td>KAHENA TOP</td>\n",
       "      <td>KAHENA TOP</td>\n",
       "      <td>YAMAHA YZF R1</td>\n",
       "    </tr>\n",
       "    <tr>\n",
       "      <th>135</th>\n",
       "      <td>xl 125 nr</td>\n",
       "      <td>HONDA 125 XL</td>\n",
       "      <td>HONDA XL XLS 125 XL125 XL125S</td>\n",
       "      <td>HONDA XL 700V TRANSALP</td>\n",
       "      <td>HONDA XL XLS 125 XL125 XL125S</td>\n",
       "    </tr>\n",
       "    <tr>\n",
       "      <th>145</th>\n",
       "      <td>brandy honda cb 300r pc-corrente 110 reg pc-co...</td>\n",
       "      <td>HONDA PC 110 300R CB BRANDY</td>\n",
       "      <td>HONDA PC 50</td>\n",
       "      <td>HONDA PC 50</td>\n",
       "      <td>HONDA CB 300R 300 CB300</td>\n",
       "    </tr>\n",
       "    <tr>\n",
       "      <th>147</th>\n",
       "      <td>brandy yamaha ys 250 fazer pc-corrente reg pc-...</td>\n",
       "      <td>EXC PC 250 YAMAHA BRANDY FAZER</td>\n",
       "      <td>HONDA PC 50</td>\n",
       "      <td>HONDA PC 50</td>\n",
       "      <td>YAMAHA FAZER YS250 250</td>\n",
       "    </tr>\n",
       "    <tr>\n",
       "      <th>149</th>\n",
       "      <td>brandy yamaha xtz 125 pc-corrente reg pc-coroa...</td>\n",
       "      <td>PC 125 XTZ BRANDY YAMAHA</td>\n",
       "      <td>HONDA PC 50</td>\n",
       "      <td>HONDA PC 50</td>\n",
       "      <td>YAMAHA XTZ 125</td>\n",
       "    </tr>\n",
       "    <tr>\n",
       "      <th>256</th>\n",
       "      <td>xl 125</td>\n",
       "      <td>HONDA 125 XL</td>\n",
       "      <td>HONDA XL XLS 125 XL125 XL125S</td>\n",
       "      <td>HONDA XL 700V TRANSALP</td>\n",
       "      <td>HONDA XL XLS 125 XL125 XL125S</td>\n",
       "    </tr>\n",
       "    <tr>\n",
       "      <th>289</th>\n",
       "      <td>max 125 hunter p21b-</td>\n",
       "      <td>125 HUNTER MAX</td>\n",
       "      <td>XXX</td>\n",
       "      <td>SUNDOWN HUNTER</td>\n",
       "      <td>HONDA CT 125 HUNTER</td>\n",
       "    </tr>\n",
       "    <tr>\n",
       "      <th>293</th>\n",
       "      <td>cb 300 p21b-</td>\n",
       "      <td>HONDA CB 300</td>\n",
       "      <td>HONDA CB 300R 300 CB300</td>\n",
       "      <td>KTM XC 300</td>\n",
       "      <td>HONDA CB 300R 300 CB300</td>\n",
       "    </tr>\n",
       "    <tr>\n",
       "      <th>311</th>\n",
       "      <td>hunter max125 allen</td>\n",
       "      <td>125 HUNTER MAX</td>\n",
       "      <td>XXX</td>\n",
       "      <td>SUNDOWN HUNTER</td>\n",
       "      <td>HONDA CT 125 HUNTER</td>\n",
       "    </tr>\n",
       "    <tr>\n",
       "      <th>317</th>\n",
       "      <td>yes intruder125 allen</td>\n",
       "      <td>SUZUKI 125 YES INTRUDER</td>\n",
       "      <td>SUZUKI YES EN 125</td>\n",
       "      <td>SUZUKI INTRUDER</td>\n",
       "      <td>SUZUKI YES EN 125</td>\n",
       "    </tr>\n",
       "    <tr>\n",
       "      <th>353</th>\n",
       "      <td>brandy yamaha ys 250 fazer pc-corrente reg pc-...</td>\n",
       "      <td>EXC PC 250 YAMAHA BRANDY FAZER</td>\n",
       "      <td>HONDA PC 50</td>\n",
       "      <td>HONDA PC 50</td>\n",
       "      <td>YAMAHA FAZER YS250 250</td>\n",
       "    </tr>\n",
       "    <tr>\n",
       "      <th>364</th>\n",
       "      <td>brandy yamaha xtz 125 pc-corrente reg pc-coroa...</td>\n",
       "      <td>PC 125 XTZ BRANDY YAMAHA</td>\n",
       "      <td>HONDA PC 50</td>\n",
       "      <td>HONDA PC 50</td>\n",
       "      <td>YAMAHA XTZ 125</td>\n",
       "    </tr>\n",
       "    <tr>\n",
       "      <th>368</th>\n",
       "      <td>brandy honda cb 300r pc-corrente 110 reg pc-co...</td>\n",
       "      <td>HONDA PC 110 300R CB BRANDY</td>\n",
       "      <td>HONDA PC 50</td>\n",
       "      <td>HONDA PC 50</td>\n",
       "      <td>HONDA CB 300R 300 CB300</td>\n",
       "    </tr>\n",
       "    <tr>\n",
       "      <th>370</th>\n",
       "      <td>brandy yamaha fazer 150 pc-corrente reg pc-cor...</td>\n",
       "      <td>PC 150 FAZER BRANDY YAMAHA</td>\n",
       "      <td>HONDA PC 50</td>\n",
       "      <td>HONDA PC 50</td>\n",
       "      <td>YAMAHA FAZER YS150 150</td>\n",
       "    </tr>\n",
       "    <tr>\n",
       "      <th>386</th>\n",
       "      <td>cb 300r top</td>\n",
       "      <td>HONDA CB 300R TOP</td>\n",
       "      <td>HONDA CB 300R 300 CB300</td>\n",
       "      <td>KAHENA TOP</td>\n",
       "      <td>HONDA CB 300R 300 CB300</td>\n",
       "    </tr>\n",
       "    <tr>\n",
       "      <th>387</th>\n",
       "      <td>xtz 125 top</td>\n",
       "      <td>YAMAHA XTZ 125 TOP</td>\n",
       "      <td>KAHENA TOP</td>\n",
       "      <td>KAHENA TOP</td>\n",
       "      <td>YAMAHA XTZ 125</td>\n",
       "    </tr>\n",
       "    <tr>\n",
       "      <th>390</th>\n",
       "      <td>ys 250 fazer top</td>\n",
       "      <td>YAMAHA TOP FAZER 250</td>\n",
       "      <td>KAHENA TOP</td>\n",
       "      <td>KAHENA TOP</td>\n",
       "      <td>YAMAHA FAZER YS250 250</td>\n",
       "    </tr>\n",
       "    <tr>\n",
       "      <th>512</th>\n",
       "      <td>top fazer 150 nr</td>\n",
       "      <td>YAMAHA TOP 150 FAZER</td>\n",
       "      <td>KAHENA TOP</td>\n",
       "      <td>KAHENA TOP</td>\n",
       "      <td>YAMAHA FAZER YS150 150</td>\n",
       "    </tr>\n",
       "    <tr>\n",
       "      <th>525</th>\n",
       "      <td>cb 300</td>\n",
       "      <td>HONDA CB 300</td>\n",
       "      <td>HONDA CB 300R 300 CB300</td>\n",
       "      <td>KTM XC 300</td>\n",
       "      <td>HONDA CB 300R 300 CB300</td>\n",
       "    </tr>\n",
       "    <tr>\n",
       "      <th>549</th>\n",
       "      <td>xl 125</td>\n",
       "      <td>HONDA 125 XL</td>\n",
       "      <td>HONDA XL XLS 125 XL125 XL125S</td>\n",
       "      <td>HONDA XL 700V TRANSALP</td>\n",
       "      <td>HONDA XL XLS 125 XL125 XL125S</td>\n",
       "    </tr>\n",
       "    <tr>\n",
       "      <th>563</th>\n",
       "      <td>tener 250 13</td>\n",
       "      <td>250</td>\n",
       "      <td>['ACELLERA ACX 250F 250', 'ACELLERA SPORTLANDE...</td>\n",
       "      <td>KAWASAKI NINJA 250</td>\n",
       "      <td>HONDA CBR 250</td>\n",
       "    </tr>\n",
       "    <tr>\n",
       "      <th>...</th>\n",
       "      <td>...</td>\n",
       "      <td>...</td>\n",
       "      <td>...</td>\n",
       "      <td>...</td>\n",
       "      <td>...</td>\n",
       "    </tr>\n",
       "    <tr>\n",
       "      <th>17738</th>\n",
       "      <td>cb 300 max</td>\n",
       "      <td>HONDA CB 300 MAX</td>\n",
       "      <td>XXX</td>\n",
       "      <td>SUNDOWN MAX</td>\n",
       "      <td>HONDA CB 300R 300 CB300</td>\n",
       "    </tr>\n",
       "    <tr>\n",
       "      <th>17801</th>\n",
       "      <td>ninja 250r 300 nr</td>\n",
       "      <td>KAWASAKI 300 NINJA 50R</td>\n",
       "      <td>MARVA ONIX 50R 50</td>\n",
       "      <td>MARVA ONIX 50R 50</td>\n",
       "      <td>KAWASAKI NINJA 300</td>\n",
       "    </tr>\n",
       "    <tr>\n",
       "      <th>17806</th>\n",
       "      <td>xl 125 nr</td>\n",
       "      <td>HONDA 125 XL</td>\n",
       "      <td>HONDA XL XLS 125 XL125 XL125S</td>\n",
       "      <td>HONDA XL 700V TRANSALP</td>\n",
       "      <td>HONDA XL XLS 125 XL125 XL125S</td>\n",
       "    </tr>\n",
       "    <tr>\n",
       "      <th>17814</th>\n",
       "      <td>top xtz 125 nr</td>\n",
       "      <td>YAMAHA XTZ 125 TOP</td>\n",
       "      <td>KAHENA TOP</td>\n",
       "      <td>KAHENA TOP</td>\n",
       "      <td>YAMAHA XTZ 125</td>\n",
       "    </tr>\n",
       "    <tr>\n",
       "      <th>17815</th>\n",
       "      <td>top ys 250 fazer nr</td>\n",
       "      <td>YAMAHA TOP FAZER 250</td>\n",
       "      <td>KAHENA TOP</td>\n",
       "      <td>KAHENA TOP</td>\n",
       "      <td>YAMAHA FAZER YS250 250</td>\n",
       "    </tr>\n",
       "    <tr>\n",
       "      <th>17826</th>\n",
       "      <td>biz 110 14</td>\n",
       "      <td>HONDA BIZ 110</td>\n",
       "      <td>HONDA BIZ 100 C100 125 C125</td>\n",
       "      <td>HONDA BIZ 100 C100 125 C125</td>\n",
       "      <td>HONDA CRF 110 150 110/150</td>\n",
       "    </tr>\n",
       "    <tr>\n",
       "      <th>17862</th>\n",
       "      <td>biz 125 sprocket set</td>\n",
       "      <td>HONDA BIZ 125 ROCKET</td>\n",
       "      <td>HONDA BIZ 100 C100 125 C125</td>\n",
       "      <td>TRIUMPH ROCKET</td>\n",
       "      <td>HONDA BIZ 100 C100 125 C125</td>\n",
       "    </tr>\n",
       "    <tr>\n",
       "      <th>17863</th>\n",
       "      <td>nxr 150 50 sprocket set</td>\n",
       "      <td>HONDA NXR 50 150 ROCKET</td>\n",
       "      <td>HONDA NXR 150 BROS BROZ</td>\n",
       "      <td>TRIUMPH ROCKET</td>\n",
       "      <td>HONDA NXR 150 BROS BROZ</td>\n",
       "    </tr>\n",
       "    <tr>\n",
       "      <th>17891</th>\n",
       "      <td>biz 110 duas</td>\n",
       "      <td>HONDA BIZ 110</td>\n",
       "      <td>HONDA BIZ 100 C100 125 C125</td>\n",
       "      <td>HONDA BIZ 100 C100 125 C125</td>\n",
       "      <td>HONDA CRF 110 150 110/150</td>\n",
       "    </tr>\n",
       "    <tr>\n",
       "      <th>17902</th>\n",
       "      <td>xt 250 tenere duas</td>\n",
       "      <td>YAMAHA TENERE XT 250</td>\n",
       "      <td>XXX</td>\n",
       "      <td>YAMAHA XTZ TENERE 250</td>\n",
       "      <td>YAMAHA XT TENERE 660Z 660</td>\n",
       "    </tr>\n",
       "    <tr>\n",
       "      <th>17911</th>\n",
       "      <td>cb 300 duas</td>\n",
       "      <td>HONDA CB 300</td>\n",
       "      <td>HONDA CB 300R 300 CB300</td>\n",
       "      <td>KTM XC 300</td>\n",
       "      <td>HONDA CB 300R 300 CB300</td>\n",
       "    </tr>\n",
       "    <tr>\n",
       "      <th>17921</th>\n",
       "      <td>biz 110</td>\n",
       "      <td>HONDA BIZ 110</td>\n",
       "      <td>HONDA BIZ 100 C100 125 C125</td>\n",
       "      <td>HONDA BIZ 100 C100 125 C125</td>\n",
       "      <td>HONDA CRF 110 150 110/150</td>\n",
       "    </tr>\n",
       "    <tr>\n",
       "      <th>17923</th>\n",
       "      <td>bz 125 p-184 p21b-</td>\n",
       "      <td>125</td>\n",
       "      <td>['BIRELLI BW 125', 'BRAVAX BVX 125', 'GARINNI ...</td>\n",
       "      <td>KTM SX 125</td>\n",
       "      <td>HONDA CB 125</td>\n",
       "    </tr>\n",
       "    <tr>\n",
       "      <th>17938</th>\n",
       "      <td>max 125 hunter</td>\n",
       "      <td>125 HUNTER MAX</td>\n",
       "      <td>XXX</td>\n",
       "      <td>SUNDOWN HUNTER</td>\n",
       "      <td>HONDA CT 125 HUNTER</td>\n",
       "    </tr>\n",
       "    <tr>\n",
       "      <th>17971</th>\n",
       "      <td>biz 110 duas</td>\n",
       "      <td>HONDA BIZ 110</td>\n",
       "      <td>HONDA BIZ 100 C100 125 C125</td>\n",
       "      <td>HONDA BIZ 100 C100 125 C125</td>\n",
       "      <td>HONDA CRF 110 150 110/150</td>\n",
       "    </tr>\n",
       "    <tr>\n",
       "      <th>17992</th>\n",
       "      <td>cb 300 duas</td>\n",
       "      <td>HONDA CB 300</td>\n",
       "      <td>HONDA CB 300R 300 CB300</td>\n",
       "      <td>KTM XC 300</td>\n",
       "      <td>HONDA CB 300R 300 CB300</td>\n",
       "    </tr>\n",
       "    <tr>\n",
       "      <th>18010</th>\n",
       "      <td>top ys 250 fazer fz</td>\n",
       "      <td>YAMAHA TOP FAZER 250</td>\n",
       "      <td>KAHENA TOP</td>\n",
       "      <td>KAHENA TOP</td>\n",
       "      <td>YAMAHA FAZER YS250 250</td>\n",
       "    </tr>\n",
       "    <tr>\n",
       "      <th>18011</th>\n",
       "      <td>xl 125</td>\n",
       "      <td>HONDA 125 XL</td>\n",
       "      <td>HONDA XL XLS 125 XL125 XL125S</td>\n",
       "      <td>HONDA XL 700V TRANSALP</td>\n",
       "      <td>HONDA XL XLS 125 XL125 XL125S</td>\n",
       "    </tr>\n",
       "    <tr>\n",
       "      <th>18068</th>\n",
       "      <td>cb 300</td>\n",
       "      <td>HONDA CB 300</td>\n",
       "      <td>HONDA CB 300R 300 CB300</td>\n",
       "      <td>KTM XC 300</td>\n",
       "      <td>HONDA CB 300R 300 CB300</td>\n",
       "    </tr>\n",
       "    <tr>\n",
       "      <th>18074</th>\n",
       "      <td>cb 250f twister</td>\n",
       "      <td>HONDA CB 250F TWISTER</td>\n",
       "      <td>HONDA TWISTER CBX 250</td>\n",
       "      <td>HONDA TWISTER CBX 250</td>\n",
       "      <td>HONDA CB 250 250F</td>\n",
       "    </tr>\n",
       "    <tr>\n",
       "      <th>18097</th>\n",
       "      <td>top ybr 125 nr</td>\n",
       "      <td>YAMAHA 125 YBR TOP</td>\n",
       "      <td>YAMAHA FACTOR YBR 125 YBR125</td>\n",
       "      <td>KAHENA TOP</td>\n",
       "      <td>YAMAHA FACTOR YBR 125 YBR125</td>\n",
       "    </tr>\n",
       "    <tr>\n",
       "      <th>18102</th>\n",
       "      <td>top ninja 250r nr</td>\n",
       "      <td>KAWASAKI TOP NINJA 50R</td>\n",
       "      <td>KAHENA TOP</td>\n",
       "      <td>KAHENA TOP</td>\n",
       "      <td>KAWASAKI NINJA 250</td>\n",
       "    </tr>\n",
       "    <tr>\n",
       "      <th>18106</th>\n",
       "      <td>top ninja 250r 300 nr</td>\n",
       "      <td>KAWASAKI TOP 300 NINJA 50R</td>\n",
       "      <td>KAHENA TOP</td>\n",
       "      <td>KAHENA TOP</td>\n",
       "      <td>KAWASAKI NINJA 300</td>\n",
       "    </tr>\n",
       "    <tr>\n",
       "      <th>18108</th>\n",
       "      <td>top yzf r3 nr</td>\n",
       "      <td>YAMAHA YZF TOP</td>\n",
       "      <td>KAHENA TOP</td>\n",
       "      <td>KAHENA TOP</td>\n",
       "      <td>YAMAHA YZF R1</td>\n",
       "    </tr>\n",
       "    <tr>\n",
       "      <th>18109</th>\n",
       "      <td>top yzf r3 mt nr</td>\n",
       "      <td>YAMAHA YZF TOP</td>\n",
       "      <td>KAHENA TOP</td>\n",
       "      <td>KAHENA TOP</td>\n",
       "      <td>YAMAHA YZF R1</td>\n",
       "    </tr>\n",
       "    <tr>\n",
       "      <th>18111</th>\n",
       "      <td>top biz 125 nr</td>\n",
       "      <td>HONDA BIZ 125 TOP</td>\n",
       "      <td>HONDA BIZ 100 C100 125 C125</td>\n",
       "      <td>KAHENA TOP</td>\n",
       "      <td>HONDA BIZ 100 C100 125 C125</td>\n",
       "    </tr>\n",
       "    <tr>\n",
       "      <th>18113</th>\n",
       "      <td>top ys 250 fazer fz nr</td>\n",
       "      <td>YAMAHA TOP FAZER 250</td>\n",
       "      <td>KAHENA TOP</td>\n",
       "      <td>KAHENA TOP</td>\n",
       "      <td>YAMAHA FAZER YS250 250</td>\n",
       "    </tr>\n",
       "    <tr>\n",
       "      <th>18124</th>\n",
       "      <td>top cb 300r nr</td>\n",
       "      <td>HONDA CB 300R TOP</td>\n",
       "      <td>HONDA CB 300R 300 CB300</td>\n",
       "      <td>KAHENA TOP</td>\n",
       "      <td>HONDA CB 300R 300 CB300</td>\n",
       "    </tr>\n",
       "    <tr>\n",
       "      <th>18181</th>\n",
       "      <td>cb 300</td>\n",
       "      <td>HONDA CB 300</td>\n",
       "      <td>HONDA CB 300R 300 CB300</td>\n",
       "      <td>KTM XC 300</td>\n",
       "      <td>HONDA CB 300R 300 CB300</td>\n",
       "    </tr>\n",
       "    <tr>\n",
       "      <th>18206</th>\n",
       "      <td>cb 300</td>\n",
       "      <td>HONDA CB 300</td>\n",
       "      <td>HONDA CB 300R 300 CB300</td>\n",
       "      <td>KTM XC 300</td>\n",
       "      <td>HONDA CB 300R 300 CB300</td>\n",
       "    </tr>\n",
       "  </tbody>\n",
       "</table>\n",
       "<p>1122 rows × 5 columns</p>\n",
       "</div>"
      ],
      "text/plain": [
       "                                               DESCRICAO  \\\n",
       "11                                  hunter max 125 allen   \n",
       "16                                   xt 250 tenere allen   \n",
       "17                                yes intruder 125 allen   \n",
       "22                                        jet 49cc allen   \n",
       "42                                         xtz 250 allen   \n",
       "43                                         xl 125s allen   \n",
       "104                                                   50   \n",
       "110                                       top cb 300r nr   \n",
       "111                                top ninja 250r 300 nr   \n",
       "112                                     top yzf r3 mt nr   \n",
       "135                                            xl 125 nr   \n",
       "145    brandy honda cb 300r pc-corrente 110 reg pc-co...   \n",
       "147    brandy yamaha ys 250 fazer pc-corrente reg pc-...   \n",
       "149    brandy yamaha xtz 125 pc-corrente reg pc-coroa...   \n",
       "256                                               xl 125   \n",
       "289                                 max 125 hunter p21b-   \n",
       "293                                         cb 300 p21b-   \n",
       "311                                  hunter max125 allen   \n",
       "317                                yes intruder125 allen   \n",
       "353    brandy yamaha ys 250 fazer pc-corrente reg pc-...   \n",
       "364    brandy yamaha xtz 125 pc-corrente reg pc-coroa...   \n",
       "368    brandy honda cb 300r pc-corrente 110 reg pc-co...   \n",
       "370    brandy yamaha fazer 150 pc-corrente reg pc-cor...   \n",
       "386                                          cb 300r top   \n",
       "387                                          xtz 125 top   \n",
       "390                                     ys 250 fazer top   \n",
       "512                                     top fazer 150 nr   \n",
       "525                                               cb 300   \n",
       "549                                               xl 125   \n",
       "563                                         tener 250 13   \n",
       "...                                                  ...   \n",
       "17738                                         cb 300 max   \n",
       "17801                                  ninja 250r 300 nr   \n",
       "17806                                          xl 125 nr   \n",
       "17814                                     top xtz 125 nr   \n",
       "17815                                top ys 250 fazer nr   \n",
       "17826                                         biz 110 14   \n",
       "17862                               biz 125 sprocket set   \n",
       "17863                            nxr 150 50 sprocket set   \n",
       "17891                                       biz 110 duas   \n",
       "17902                                 xt 250 tenere duas   \n",
       "17911                                        cb 300 duas   \n",
       "17921                                            biz 110   \n",
       "17923                                 bz 125 p-184 p21b-   \n",
       "17938                                     max 125 hunter   \n",
       "17971                                       biz 110 duas   \n",
       "17992                                        cb 300 duas   \n",
       "18010                                top ys 250 fazer fz   \n",
       "18011                                             xl 125   \n",
       "18068                                             cb 300   \n",
       "18074                                    cb 250f twister   \n",
       "18097                                     top ybr 125 nr   \n",
       "18102                                  top ninja 250r nr   \n",
       "18106                              top ninja 250r 300 nr   \n",
       "18108                                      top yzf r3 nr   \n",
       "18109                                   top yzf r3 mt nr   \n",
       "18111                                     top biz 125 nr   \n",
       "18113                             top ys 250 fazer fz nr   \n",
       "18124                                     top cb 300r nr   \n",
       "18181                                             cb 300   \n",
       "18206                                             cb 300   \n",
       "\n",
       "                               Modelo  \\\n",
       "11                     125 HUNTER MAX   \n",
       "16               YAMAHA TENERE XT 250   \n",
       "17            SUZUKI 125 YES INTRUDER   \n",
       "22                                JET   \n",
       "42                     YAMAHA XTZ 250   \n",
       "43                           HONDA XL   \n",
       "104                                50   \n",
       "110                 HONDA CB 300R TOP   \n",
       "111        KAWASAKI TOP 300 NINJA 50R   \n",
       "112                    YAMAHA YZF TOP   \n",
       "135                      HONDA 125 XL   \n",
       "145       HONDA PC 110 300R CB BRANDY   \n",
       "147    EXC PC 250 YAMAHA BRANDY FAZER   \n",
       "149          PC 125 XTZ BRANDY YAMAHA   \n",
       "256                      HONDA 125 XL   \n",
       "289                    125 HUNTER MAX   \n",
       "293                      HONDA CB 300   \n",
       "311                    125 HUNTER MAX   \n",
       "317           SUZUKI 125 YES INTRUDER   \n",
       "353    EXC PC 250 YAMAHA BRANDY FAZER   \n",
       "364          PC 125 XTZ BRANDY YAMAHA   \n",
       "368       HONDA PC 110 300R CB BRANDY   \n",
       "370        PC 150 FAZER BRANDY YAMAHA   \n",
       "386                 HONDA CB 300R TOP   \n",
       "387                YAMAHA XTZ 125 TOP   \n",
       "390              YAMAHA TOP FAZER 250   \n",
       "512              YAMAHA TOP 150 FAZER   \n",
       "525                      HONDA CB 300   \n",
       "549                      HONDA 125 XL   \n",
       "563                               250   \n",
       "...                               ...   \n",
       "17738                HONDA CB 300 MAX   \n",
       "17801          KAWASAKI 300 NINJA 50R   \n",
       "17806                    HONDA 125 XL   \n",
       "17814              YAMAHA XTZ 125 TOP   \n",
       "17815            YAMAHA TOP FAZER 250   \n",
       "17826                   HONDA BIZ 110   \n",
       "17862            HONDA BIZ 125 ROCKET   \n",
       "17863         HONDA NXR 50 150 ROCKET   \n",
       "17891                   HONDA BIZ 110   \n",
       "17902            YAMAHA TENERE XT 250   \n",
       "17911                    HONDA CB 300   \n",
       "17921                   HONDA BIZ 110   \n",
       "17923                             125   \n",
       "17938                  125 HUNTER MAX   \n",
       "17971                   HONDA BIZ 110   \n",
       "17992                    HONDA CB 300   \n",
       "18010            YAMAHA TOP FAZER 250   \n",
       "18011                    HONDA 125 XL   \n",
       "18068                    HONDA CB 300   \n",
       "18074           HONDA CB 250F TWISTER   \n",
       "18097              YAMAHA 125 YBR TOP   \n",
       "18102          KAWASAKI TOP NINJA 50R   \n",
       "18106      KAWASAKI TOP 300 NINJA 50R   \n",
       "18108                  YAMAHA YZF TOP   \n",
       "18109                  YAMAHA YZF TOP   \n",
       "18111               HONDA BIZ 125 TOP   \n",
       "18113            YAMAHA TOP FAZER 250   \n",
       "18124               HONDA CB 300R TOP   \n",
       "18181                    HONDA CB 300   \n",
       "18206                    HONDA CB 300   \n",
       "\n",
       "                                               APLICACAO  \\\n",
       "11                                                   XXX   \n",
       "16                                                   XXX   \n",
       "17                                     SUZUKI YES EN 125   \n",
       "22               ['SHINERAY JET 125', 'SHINERAY JET 50']   \n",
       "42     ['YAMAHA LANDER XTZ 250', 'YAMAHA XTZ TENERE 2...   \n",
       "43     ['HONDA VARADERO XL 1000V', 'HONDA XL 700V TRA...   \n",
       "104    ['BETA MX-50 MX50 50', 'GARINNI GRI 50', 'HOND...   \n",
       "110                              HONDA CB 300R 300 CB300   \n",
       "111                                           KAHENA TOP   \n",
       "112                                           KAHENA TOP   \n",
       "135                        HONDA XL XLS 125 XL125 XL125S   \n",
       "145                                          HONDA PC 50   \n",
       "147                                          HONDA PC 50   \n",
       "149                                          HONDA PC 50   \n",
       "256                        HONDA XL XLS 125 XL125 XL125S   \n",
       "289                                                  XXX   \n",
       "293                              HONDA CB 300R 300 CB300   \n",
       "311                                                  XXX   \n",
       "317                                    SUZUKI YES EN 125   \n",
       "353                                          HONDA PC 50   \n",
       "364                                          HONDA PC 50   \n",
       "368                                          HONDA PC 50   \n",
       "370                                          HONDA PC 50   \n",
       "386                              HONDA CB 300R 300 CB300   \n",
       "387                                           KAHENA TOP   \n",
       "390                                           KAHENA TOP   \n",
       "512                                           KAHENA TOP   \n",
       "525                              HONDA CB 300R 300 CB300   \n",
       "549                        HONDA XL XLS 125 XL125 XL125S   \n",
       "563    ['ACELLERA ACX 250F 250', 'ACELLERA SPORTLANDE...   \n",
       "...                                                  ...   \n",
       "17738                                                XXX   \n",
       "17801                                  MARVA ONIX 50R 50   \n",
       "17806                      HONDA XL XLS 125 XL125 XL125S   \n",
       "17814                                         KAHENA TOP   \n",
       "17815                                         KAHENA TOP   \n",
       "17826                        HONDA BIZ 100 C100 125 C125   \n",
       "17862                        HONDA BIZ 100 C100 125 C125   \n",
       "17863                            HONDA NXR 150 BROS BROZ   \n",
       "17891                        HONDA BIZ 100 C100 125 C125   \n",
       "17902                                                XXX   \n",
       "17911                            HONDA CB 300R 300 CB300   \n",
       "17921                        HONDA BIZ 100 C100 125 C125   \n",
       "17923  ['BIRELLI BW 125', 'BRAVAX BVX 125', 'GARINNI ...   \n",
       "17938                                                XXX   \n",
       "17971                        HONDA BIZ 100 C100 125 C125   \n",
       "17992                            HONDA CB 300R 300 CB300   \n",
       "18010                                         KAHENA TOP   \n",
       "18011                      HONDA XL XLS 125 XL125 XL125S   \n",
       "18068                            HONDA CB 300R 300 CB300   \n",
       "18074                              HONDA TWISTER CBX 250   \n",
       "18097                       YAMAHA FACTOR YBR 125 YBR125   \n",
       "18102                                         KAHENA TOP   \n",
       "18106                                         KAHENA TOP   \n",
       "18108                                         KAHENA TOP   \n",
       "18109                                         KAHENA TOP   \n",
       "18111                        HONDA BIZ 100 C100 125 C125   \n",
       "18113                                         KAHENA TOP   \n",
       "18124                            HONDA CB 300R 300 CB300   \n",
       "18181                            HONDA CB 300R 300 CB300   \n",
       "18206                            HONDA CB 300R 300 CB300   \n",
       "\n",
       "                      APLICACAOSVC                   APLICACAOMNB  \n",
       "11                  SUNDOWN HUNTER            HONDA CT 125 HUNTER  \n",
       "16           YAMAHA XTZ TENERE 250      YAMAHA XT TENERE 660Z 660  \n",
       "17                 SUZUKI INTRUDER              SUZUKI YES EN 125  \n",
       "22                 SHINERAY JET 50               SHINERAY JET 125  \n",
       "42                  YAMAHA XTZ 125          YAMAHA XTZ TENERE 250  \n",
       "43          HONDA XL 700V TRANSALP        HONDA VARADERO XL 1000V  \n",
       "104                      KTM SX 50             BETA MX-50 MX50 50  \n",
       "110                     KAHENA TOP        HONDA CB 300R 300 CB300  \n",
       "111                     KAHENA TOP             KAWASAKI NINJA 300  \n",
       "112                     KAHENA TOP                  YAMAHA YZF R1  \n",
       "135         HONDA XL 700V TRANSALP  HONDA XL XLS 125 XL125 XL125S  \n",
       "145                    HONDA PC 50        HONDA CB 300R 300 CB300  \n",
       "147                    HONDA PC 50         YAMAHA FAZER YS250 250  \n",
       "149                    HONDA PC 50                 YAMAHA XTZ 125  \n",
       "256         HONDA XL 700V TRANSALP  HONDA XL XLS 125 XL125 XL125S  \n",
       "289                 SUNDOWN HUNTER            HONDA CT 125 HUNTER  \n",
       "293                     KTM XC 300        HONDA CB 300R 300 CB300  \n",
       "311                 SUNDOWN HUNTER            HONDA CT 125 HUNTER  \n",
       "317                SUZUKI INTRUDER              SUZUKI YES EN 125  \n",
       "353                    HONDA PC 50         YAMAHA FAZER YS250 250  \n",
       "364                    HONDA PC 50                 YAMAHA XTZ 125  \n",
       "368                    HONDA PC 50        HONDA CB 300R 300 CB300  \n",
       "370                    HONDA PC 50         YAMAHA FAZER YS150 150  \n",
       "386                     KAHENA TOP        HONDA CB 300R 300 CB300  \n",
       "387                     KAHENA TOP                 YAMAHA XTZ 125  \n",
       "390                     KAHENA TOP         YAMAHA FAZER YS250 250  \n",
       "512                     KAHENA TOP         YAMAHA FAZER YS150 150  \n",
       "525                     KTM XC 300        HONDA CB 300R 300 CB300  \n",
       "549         HONDA XL 700V TRANSALP  HONDA XL XLS 125 XL125 XL125S  \n",
       "563             KAWASAKI NINJA 250                  HONDA CBR 250  \n",
       "...                            ...                            ...  \n",
       "17738                  SUNDOWN MAX        HONDA CB 300R 300 CB300  \n",
       "17801            MARVA ONIX 50R 50             KAWASAKI NINJA 300  \n",
       "17806       HONDA XL 700V TRANSALP  HONDA XL XLS 125 XL125 XL125S  \n",
       "17814                   KAHENA TOP                 YAMAHA XTZ 125  \n",
       "17815                   KAHENA TOP         YAMAHA FAZER YS250 250  \n",
       "17826  HONDA BIZ 100 C100 125 C125      HONDA CRF 110 150 110/150  \n",
       "17862               TRIUMPH ROCKET    HONDA BIZ 100 C100 125 C125  \n",
       "17863               TRIUMPH ROCKET        HONDA NXR 150 BROS BROZ  \n",
       "17891  HONDA BIZ 100 C100 125 C125      HONDA CRF 110 150 110/150  \n",
       "17902        YAMAHA XTZ TENERE 250      YAMAHA XT TENERE 660Z 660  \n",
       "17911                   KTM XC 300        HONDA CB 300R 300 CB300  \n",
       "17921  HONDA BIZ 100 C100 125 C125      HONDA CRF 110 150 110/150  \n",
       "17923                   KTM SX 125                   HONDA CB 125  \n",
       "17938               SUNDOWN HUNTER            HONDA CT 125 HUNTER  \n",
       "17971  HONDA BIZ 100 C100 125 C125      HONDA CRF 110 150 110/150  \n",
       "17992                   KTM XC 300        HONDA CB 300R 300 CB300  \n",
       "18010                   KAHENA TOP         YAMAHA FAZER YS250 250  \n",
       "18011       HONDA XL 700V TRANSALP  HONDA XL XLS 125 XL125 XL125S  \n",
       "18068                   KTM XC 300        HONDA CB 300R 300 CB300  \n",
       "18074        HONDA TWISTER CBX 250              HONDA CB 250 250F  \n",
       "18097                   KAHENA TOP   YAMAHA FACTOR YBR 125 YBR125  \n",
       "18102                   KAHENA TOP             KAWASAKI NINJA 250  \n",
       "18106                   KAHENA TOP             KAWASAKI NINJA 300  \n",
       "18108                   KAHENA TOP                  YAMAHA YZF R1  \n",
       "18109                   KAHENA TOP                  YAMAHA YZF R1  \n",
       "18111                   KAHENA TOP    HONDA BIZ 100 C100 125 C125  \n",
       "18113                   KAHENA TOP         YAMAHA FAZER YS250 250  \n",
       "18124                   KAHENA TOP        HONDA CB 300R 300 CB300  \n",
       "18181                   KTM XC 300        HONDA CB 300R 300 CB300  \n",
       "18206                   KTM XC 300        HONDA CB 300R 300 CB300  \n",
       "\n",
       "[1122 rows x 5 columns]"
      ]
     },
     "execution_count": 35,
     "metadata": {},
     "output_type": "execute_result"
    }
   ],
   "source": [
    "df[df['APLICACAOSVC']!=df['APLICACAOMNB']].iloc[:,-5:]"
   ]
  },
  {
   "cell_type": "markdown",
   "metadata": {},
   "source": [
    "### Melhorando a classificação"
   ]
  },
  {
   "cell_type": "markdown",
   "metadata": {},
   "source": [
    "Para chegar à classificação final a ser utilizada na função de classificação, utilizaremos algumas regras:<br>\n",
    "1. SE APLICACAOMNB==APLICACAOSVC ==> APLICACAOFIM=APLICACAOSVC\n",
    "2. SE APLICACAOMNB!=APLICACAOSVC\n",
    "  1. SE APLICACAO=='XXX' ==> APLICACAOFIM=[APLICACAOSVC,APLICACAOMNB]\n",
    "  2. SE APLICACAO==APLICACAOSVC ==> APLICACAOFIM=APLICACAOSVC\n",
    "  3. SE APLICACAO==APLICACAOMNB ==> APLICACAOFIM=APLICACAOMNB\n",
    "  4. SE APLICACAO for uma lista:\n",
    "    * SE APLICACAOSVC estiver na lista ==> APLICACAOFIM=APLICACAOSVC\n",
    "    * SE APLICACAOMNB estiver na lista ==> APLICACAOFIM=APLICACAOSMNB\n",
    "    * SENÃO ==> APLICAFIM=LISTA+[APLICACAOSVC,APLICACAOMNB]\n",
    "  5. SE APLICACAO!=APLICACAOSVC!=APLICACAOMNB ==> APLICACAOFIM=[APLICACAO,APLICACAOSVC,APLICACAOMNB]"
   ]
  },
  {
   "cell_type": "code",
   "execution_count": 36,
   "metadata": {},
   "outputs": [
    {
     "data": {
      "text/plain": [
       "(18237, 31)"
      ]
     },
     "execution_count": 36,
     "metadata": {},
     "output_type": "execute_result"
    }
   ],
   "source": [
    "df=df.assign(APLICACAOFIM=df.APLICACAOMNB.tolist())\n",
    "df.shape"
   ]
  },
  {
   "cell_type": "code",
   "execution_count": 37,
   "metadata": {},
   "outputs": [
    {
     "data": {
      "text/html": [
       "<div>\n",
       "<style scoped>\n",
       "    .dataframe tbody tr th:only-of-type {\n",
       "        vertical-align: middle;\n",
       "    }\n",
       "\n",
       "    .dataframe tbody tr th {\n",
       "        vertical-align: top;\n",
       "    }\n",
       "\n",
       "    .dataframe thead th {\n",
       "        text-align: right;\n",
       "    }\n",
       "</style>\n",
       "<table border=\"1\" class=\"dataframe\">\n",
       "  <thead>\n",
       "    <tr style=\"text-align: right;\">\n",
       "      <th></th>\n",
       "      <th>Modelo</th>\n",
       "      <th>APLICACAO</th>\n",
       "      <th>APLICACAOSVC</th>\n",
       "      <th>APLICACAOMNB</th>\n",
       "      <th>APLICACAOFIM</th>\n",
       "    </tr>\n",
       "  </thead>\n",
       "  <tbody>\n",
       "    <tr>\n",
       "      <th>0</th>\n",
       "      <td>HONDA CG 150 TIT AN TITAN FAN</td>\n",
       "      <td>HONDA CG TIT TITAN 125 150 160</td>\n",
       "      <td>HONDA CG TIT TITAN 125 150 160</td>\n",
       "      <td>HONDA CG TIT TITAN 125 150 160</td>\n",
       "      <td>HONDA CG TIT TITAN 125 150 160</td>\n",
       "    </tr>\n",
       "    <tr>\n",
       "      <th>1</th>\n",
       "      <td>CG HONDA TIT AN 125 CARGO TITAN</td>\n",
       "      <td>HONDA CG TIT TITAN 125 150 160</td>\n",
       "      <td>HONDA CG TIT TITAN 125 150 160</td>\n",
       "      <td>HONDA CG TIT TITAN 125 150 160</td>\n",
       "      <td>HONDA CG TIT TITAN 125 150 160</td>\n",
       "    </tr>\n",
       "    <tr>\n",
       "      <th>2</th>\n",
       "      <td>HONDA 125 CG FAN</td>\n",
       "      <td>HONDA CG FAN</td>\n",
       "      <td>HONDA CG FAN</td>\n",
       "      <td>HONDA CG FAN</td>\n",
       "      <td>HONDA CG FAN</td>\n",
       "    </tr>\n",
       "    <tr>\n",
       "      <th>3</th>\n",
       "      <td>HONDA BIZ C100</td>\n",
       "      <td>HONDA BIZ 100 C100 125 C125</td>\n",
       "      <td>HONDA BIZ 100 C100 125 C125</td>\n",
       "      <td>HONDA BIZ 100 C100 125 C125</td>\n",
       "      <td>HONDA BIZ 100 C100 125 C125</td>\n",
       "    </tr>\n",
       "    <tr>\n",
       "      <th>4</th>\n",
       "      <td>MIRAGE 150</td>\n",
       "      <td>KASINSKI MIRAGE 150 250</td>\n",
       "      <td>KASINSKI MIRAGE 150 250</td>\n",
       "      <td>KASINSKI MIRAGE 150 250</td>\n",
       "      <td>KASINSKI MIRAGE 150 250</td>\n",
       "    </tr>\n",
       "  </tbody>\n",
       "</table>\n",
       "</div>"
      ],
      "text/plain": [
       "                            Modelo                       APLICACAO  \\\n",
       "0    HONDA CG 150 TIT AN TITAN FAN  HONDA CG TIT TITAN 125 150 160   \n",
       "1  CG HONDA TIT AN 125 CARGO TITAN  HONDA CG TIT TITAN 125 150 160   \n",
       "2                 HONDA 125 CG FAN                    HONDA CG FAN   \n",
       "3                   HONDA BIZ C100     HONDA BIZ 100 C100 125 C125   \n",
       "4                       MIRAGE 150         KASINSKI MIRAGE 150 250   \n",
       "\n",
       "                     APLICACAOSVC                    APLICACAOMNB  \\\n",
       "0  HONDA CG TIT TITAN 125 150 160  HONDA CG TIT TITAN 125 150 160   \n",
       "1  HONDA CG TIT TITAN 125 150 160  HONDA CG TIT TITAN 125 150 160   \n",
       "2                    HONDA CG FAN                    HONDA CG FAN   \n",
       "3     HONDA BIZ 100 C100 125 C125     HONDA BIZ 100 C100 125 C125   \n",
       "4         KASINSKI MIRAGE 150 250         KASINSKI MIRAGE 150 250   \n",
       "\n",
       "                     APLICACAOFIM  \n",
       "0  HONDA CG TIT TITAN 125 150 160  \n",
       "1  HONDA CG TIT TITAN 125 150 160  \n",
       "2                    HONDA CG FAN  \n",
       "3     HONDA BIZ 100 C100 125 C125  \n",
       "4         KASINSKI MIRAGE 150 250  "
      ]
     },
     "execution_count": 37,
     "metadata": {},
     "output_type": "execute_result"
    }
   ],
   "source": [
    "df.iloc[:,-5:].head()"
   ]
  },
  {
   "cell_type": "code",
   "execution_count": 38,
   "metadata": {},
   "outputs": [],
   "source": [
    "colindex = df.columns.get_loc(\"APLICACAOFIM\")\n",
    "for i in range(df.shape[0]):\n",
    "    #print(i)\n",
    "    # se APLICACAOSVC==APLICACAOMNB ==> já aplicado pelo df.assign\n",
    "    # se APLICACAOSVC!=APLICACAOMNB\n",
    "    if df['APLICACAOSVC'][i]!=df['APLICACAOMNB'][i]:\n",
    "        # se APLICAÇÃO for sem valor ('XXX') ==> APLICACAOFIM=[APLICACAOSVC,APLICACAOMNB]\n",
    "        if df['APLICACAO'][i]=='XXX':\n",
    "            # APLICACAOFIM será a lista com os dois valores\n",
    "            df.iloc[i,colindex]=str([df['APLICACAOSVC'][i], df['APLICACAOMNB'][i]])\n",
    "            continue # passa para o próximo i\n",
    "        elif df['APLICACAO'][i]==df['APLICACAOSVC'][i]:\n",
    "            df.iloc[i,colindex]=df['APLICACAOSVC'][i]\n",
    "            continue # passa para o próximo i\n",
    "        elif df['APLICACAO'][i]==df['APLICACAOMNB'][i]:\n",
    "            df.iloc[i,colindex]=df['APLICACAOMNB'][i]\n",
    "            continue # passa para o próximo i\n",
    "        elif \",\" in df['APLICACAO'][i]: # se tiver vírgula, a APLICACAO é uma lista\n",
    "            aplictemp=df['APLICACAO'][i].replace(\"[\",\"\").replace(\", \",\";\").replace(\",\",\";\").replace(\"'\",\"\").replace(\"]\",\"\")\n",
    "            aplictemp=aplictemp.split(';')\n",
    "            # se APLICACAOSVC estiver na lista\n",
    "            if df['APLICACAOSVC'][i] in aplictemp:\n",
    "                df.iloc[i,colindex]=df['APLICACAOSVC'][i]\n",
    "                continue # passa para o próximo i\n",
    "            # se APLICACAOMNB estiver na lista\n",
    "            elif df['APLICACAOMNB'][i] in aplictemp:\n",
    "                df.iloc[i,colindex]=df['APLICACAOMNB'][i]\n",
    "                continue # passa para o próximo i\n",
    "            else:\n",
    "                aplictemp.append(df['APLICACAOSVC'][i])\n",
    "                aplictemp.append(df['APLICACAOMNB'][i])\n",
    "                df.iloc[i,colindex]=str(aplictemp)\n",
    "                continue # passa para o próximo i\n",
    "        else: # caso seja um valor (diferente de ambos os classificadores)\n",
    "            # APLICACAO!=APLICACAOSVC!=APLICACAOMNB ==> APLICACAOFIM=[APLICACAO,APLICACAOSVC,APLICACAOMNB]\n",
    "            df.iloc[i,colindex]=str([df['APLICACAO'][i],df['APLICACAOSVC'][i], df['APLICACAOMNB'][i]])\n",
    "            continue # passa para o próximo i"
   ]
  },
  {
   "cell_type": "markdown",
   "metadata": {},
   "source": [
    "### Recomparação das classificações"
   ]
  },
  {
   "cell_type": "code",
   "execution_count": 39,
   "metadata": {},
   "outputs": [
    {
     "data": {
      "text/plain": [
       "(1122, 31)"
      ]
     },
     "execution_count": 39,
     "metadata": {},
     "output_type": "execute_result"
    }
   ],
   "source": [
    "# Quantidade de registros divergentes entre os modelos SVC e Multinomial NB\n",
    "df[df['APLICACAOSVC']!=df['APLICACAOMNB']].shape"
   ]
  },
  {
   "cell_type": "code",
   "execution_count": 40,
   "metadata": {},
   "outputs": [
    {
     "data": {
      "text/plain": [
       "(645, 31)"
      ]
     },
     "execution_count": 40,
     "metadata": {},
     "output_type": "execute_result"
    }
   ],
   "source": [
    "# Quantidade de registros divergentes entre a extração e o modelo SVC\n",
    "df[df['APLICACAOFIM']!=df['APLICACAOSVC']].shape"
   ]
  },
  {
   "cell_type": "code",
   "execution_count": 41,
   "metadata": {},
   "outputs": [
    {
     "data": {
      "text/plain": [
       "(634, 31)"
      ]
     },
     "execution_count": 41,
     "metadata": {},
     "output_type": "execute_result"
    }
   ],
   "source": [
    "# Quantidade de registros divergentes entre a extração e o modelo SVC\n",
    "df[df['APLICACAOFIM']!=df['APLICACAOMNB']].shape"
   ]
  },
  {
   "cell_type": "code",
   "execution_count": 42,
   "metadata": {},
   "outputs": [],
   "source": [
    "# Registros ainda não definidos (lista de opções)\n",
    "# O filtro definirá True se APLICACAOFIM iniciar com '[' ou False caso contrário.\n",
    "filtro=[]\n",
    "for i, aplicacao in enumerate(df['APLICACAOFIM']):\n",
    "    if aplicacao[0]=='[':\n",
    "        filtro.append(True)\n",
    "    else:\n",
    "        filtro.append(False)"
   ]
  },
  {
   "cell_type": "code",
   "execution_count": 43,
   "metadata": {},
   "outputs": [
    {
     "data": {
      "text/html": [
       "<div>\n",
       "<style scoped>\n",
       "    .dataframe tbody tr th:only-of-type {\n",
       "        vertical-align: middle;\n",
       "    }\n",
       "\n",
       "    .dataframe tbody tr th {\n",
       "        vertical-align: top;\n",
       "    }\n",
       "\n",
       "    .dataframe thead th {\n",
       "        text-align: right;\n",
       "    }\n",
       "</style>\n",
       "<table border=\"1\" class=\"dataframe\">\n",
       "  <thead>\n",
       "    <tr style=\"text-align: right;\">\n",
       "      <th></th>\n",
       "      <th>Modelo</th>\n",
       "      <th>APLICACAO</th>\n",
       "      <th>APLICACAOSVC</th>\n",
       "      <th>APLICACAOMNB</th>\n",
       "      <th>APLICACAOFIM</th>\n",
       "    </tr>\n",
       "  </thead>\n",
       "  <tbody>\n",
       "    <tr>\n",
       "      <th>11</th>\n",
       "      <td>125 HUNTER MAX</td>\n",
       "      <td>XXX</td>\n",
       "      <td>SUNDOWN HUNTER</td>\n",
       "      <td>HONDA CT 125 HUNTER</td>\n",
       "      <td>['SUNDOWN HUNTER', 'HONDA CT 125 HUNTER']</td>\n",
       "    </tr>\n",
       "    <tr>\n",
       "      <th>16</th>\n",
       "      <td>YAMAHA TENERE XT 250</td>\n",
       "      <td>XXX</td>\n",
       "      <td>YAMAHA XTZ TENERE 250</td>\n",
       "      <td>YAMAHA XT TENERE 660Z 660</td>\n",
       "      <td>['YAMAHA XTZ TENERE 250', 'YAMAHA XT TENERE 66...</td>\n",
       "    </tr>\n",
       "    <tr>\n",
       "      <th>289</th>\n",
       "      <td>125 HUNTER MAX</td>\n",
       "      <td>XXX</td>\n",
       "      <td>SUNDOWN HUNTER</td>\n",
       "      <td>HONDA CT 125 HUNTER</td>\n",
       "      <td>['SUNDOWN HUNTER', 'HONDA CT 125 HUNTER']</td>\n",
       "    </tr>\n",
       "    <tr>\n",
       "      <th>311</th>\n",
       "      <td>125 HUNTER MAX</td>\n",
       "      <td>XXX</td>\n",
       "      <td>SUNDOWN HUNTER</td>\n",
       "      <td>HONDA CT 125 HUNTER</td>\n",
       "      <td>['SUNDOWN HUNTER', 'HONDA CT 125 HUNTER']</td>\n",
       "    </tr>\n",
       "    <tr>\n",
       "      <th>632</th>\n",
       "      <td>HONDA CB 300 MAX</td>\n",
       "      <td>XXX</td>\n",
       "      <td>SUNDOWN MAX</td>\n",
       "      <td>HONDA CB 300R 300 CB300</td>\n",
       "      <td>['SUNDOWN MAX', 'HONDA CB 300R 300 CB300']</td>\n",
       "    </tr>\n",
       "  </tbody>\n",
       "</table>\n",
       "</div>"
      ],
      "text/plain": [
       "                   Modelo APLICACAO           APLICACAOSVC  \\\n",
       "11         125 HUNTER MAX       XXX         SUNDOWN HUNTER   \n",
       "16   YAMAHA TENERE XT 250       XXX  YAMAHA XTZ TENERE 250   \n",
       "289        125 HUNTER MAX       XXX         SUNDOWN HUNTER   \n",
       "311        125 HUNTER MAX       XXX         SUNDOWN HUNTER   \n",
       "632      HONDA CB 300 MAX       XXX            SUNDOWN MAX   \n",
       "\n",
       "                  APLICACAOMNB  \\\n",
       "11         HONDA CT 125 HUNTER   \n",
       "16   YAMAHA XT TENERE 660Z 660   \n",
       "289        HONDA CT 125 HUNTER   \n",
       "311        HONDA CT 125 HUNTER   \n",
       "632    HONDA CB 300R 300 CB300   \n",
       "\n",
       "                                          APLICACAOFIM  \n",
       "11           ['SUNDOWN HUNTER', 'HONDA CT 125 HUNTER']  \n",
       "16   ['YAMAHA XTZ TENERE 250', 'YAMAHA XT TENERE 66...  \n",
       "289          ['SUNDOWN HUNTER', 'HONDA CT 125 HUNTER']  \n",
       "311          ['SUNDOWN HUNTER', 'HONDA CT 125 HUNTER']  \n",
       "632         ['SUNDOWN MAX', 'HONDA CB 300R 300 CB300']  "
      ]
     },
     "execution_count": 43,
     "metadata": {},
     "output_type": "execute_result"
    }
   ],
   "source": [
    "df[filtro].iloc[:,-5:].head()"
   ]
  },
  {
   "cell_type": "code",
   "execution_count": 44,
   "metadata": {},
   "outputs": [
    {
     "data": {
      "text/plain": [
       "(157, 31)"
      ]
     },
     "execution_count": 44,
     "metadata": {},
     "output_type": "execute_result"
    }
   ],
   "source": [
    "df[filtro].shape"
   ]
  },
  {
   "cell_type": "markdown",
   "metadata": {},
   "source": [
    "Precisamos agora fazer a observação manual dos registros divergentes para correção.<br>\n",
    "A seguir, exportaremos o arquivo em excel para fazer a classificação manual em outro notebook."
   ]
  },
  {
   "cell_type": "markdown",
   "metadata": {
    "colab_type": "text",
    "id": "Xya6qHGUuIGL"
   },
   "source": [
    "## Exportando o DataSet para classificação manual"
   ]
  },
  {
   "cell_type": "markdown",
   "metadata": {},
   "source": [
    "Exportando para um arquivo CSV"
   ]
  },
  {
   "cell_type": "code",
   "execution_count": 45,
   "metadata": {},
   "outputs": [],
   "source": [
    "df.to_csv(r'dataframe_modelos_classificado_manual.csv', index = False, header = True)"
   ]
  },
  {
   "cell_type": "markdown",
   "metadata": {},
   "source": [
    "Exportando para um arquivo de planilha do Excel"
   ]
  },
  {
   "cell_type": "code",
   "execution_count": 46,
   "metadata": {},
   "outputs": [],
   "source": [
    "df.to_excel(r'dataframe_modelos_classificado_manual.xlsx', index = False, header = True)"
   ]
  }
 ],
 "metadata": {
  "colab": {
   "collapsed_sections": [],
   "name": "NLP com scikit-learn.ipynb",
   "provenance": [],
   "toc_visible": true
  },
  "kernelspec": {
   "display_name": "Python 3",
   "language": "python",
   "name": "python3"
  },
  "language_info": {
   "codemirror_mode": {
    "name": "ipython",
    "version": 3
   },
   "file_extension": ".py",
   "mimetype": "text/x-python",
   "name": "python",
   "nbconvert_exporter": "python",
   "pygments_lexer": "ipython3",
   "version": "3.7.3"
  },
  "toc": {
   "base_numbering": 1,
   "nav_menu": {},
   "number_sections": false,
   "sideBar": false,
   "skip_h1_title": false,
   "title_cell": "Sumário",
   "title_sidebar": "Sumário",
   "toc_cell": false,
   "toc_position": {},
   "toc_section_display": true,
   "toc_window_display": false
  }
 },
 "nbformat": 4,
 "nbformat_minor": 1
}
