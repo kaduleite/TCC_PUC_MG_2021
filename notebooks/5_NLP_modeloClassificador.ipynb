{
 "cells": [
  {
   "cell_type": "markdown",
   "metadata": {
    "colab_type": "text",
    "id": "t9eSPPRmUEby"
   },
   "source": [
    "# _Notebook Jupyter_ 5_NLP_modeloClassificador"
   ]
  },
  {
   "cell_type": "markdown",
   "metadata": {
    "colab_type": "text",
    "id": "t9eSPPRmUEby"
   },
   "source": [
    "# Classificação da Aplicação por aprendizado de máquina"
   ]
  },
  {
   "cell_type": "markdown",
   "metadata": {
    "colab_type": "text",
    "id": "4eakEWy_62vS"
   },
   "source": [
    "## Importando bibliotecas"
   ]
  },
  {
   "cell_type": "code",
   "execution_count": 1,
   "metadata": {
    "colab": {
     "base_uri": "https://localhost:8080/",
     "height": 85
    },
    "colab_type": "code",
    "id": "F5Tc6cI9Kvpj",
    "outputId": "88b2ba16-8163-4ea6-e5d2-1ea968cb51da"
   },
   "outputs": [],
   "source": [
    "import pandas as pd, numpy as np, time\n",
    "from nltk.corpus import stopwords\n",
    "from sklearn.feature_extraction.text import CountVectorizer, TfidfTransformer\n",
    "from sklearn.svm import LinearSVC\n",
    "from sklearn.naive_bayes import MultinomialNB\n",
    "from sklearn.linear_model import LogisticRegression"
   ]
  },
  {
   "cell_type": "code",
   "execution_count": 2,
   "metadata": {},
   "outputs": [
    {
     "name": "stdout",
     "output_type": "stream",
     "text": [
      "Código executado em 20/01/2022 às 16:54\n"
     ]
    }
   ],
   "source": [
    "# Data e hora da execução do script\n",
    "initot=time.time()\n",
    "print(f'Código executado em {time.strftime(\"%d/%m/%Y às %H:%M\", time.localtime(time.time()))}')"
   ]
  },
  {
   "cell_type": "markdown",
   "metadata": {},
   "source": [
    "### Importando a lista de Aplicações"
   ]
  },
  {
   "cell_type": "code",
   "execution_count": 3,
   "metadata": {},
   "outputs": [],
   "source": [
    "df_aplicacoes = pd.read_csv(r'./bases/Aplicacoes.csv')"
   ]
  },
  {
   "cell_type": "code",
   "execution_count": 4,
   "metadata": {},
   "outputs": [
    {
     "data": {
      "text/html": [
       "<div>\n",
       "<style scoped>\n",
       "    .dataframe tbody tr th:only-of-type {\n",
       "        vertical-align: middle;\n",
       "    }\n",
       "\n",
       "    .dataframe tbody tr th {\n",
       "        vertical-align: top;\n",
       "    }\n",
       "\n",
       "    .dataframe thead th {\n",
       "        text-align: right;\n",
       "    }\n",
       "</style>\n",
       "<table border=\"1\" class=\"dataframe\">\n",
       "  <thead>\n",
       "    <tr style=\"text-align: right;\">\n",
       "      <th></th>\n",
       "      <th>APLICACOES</th>\n",
       "    </tr>\n",
       "  </thead>\n",
       "  <tbody>\n",
       "    <tr>\n",
       "      <th>0</th>\n",
       "      <td>ACELLERA ACX 250F 250</td>\n",
       "    </tr>\n",
       "    <tr>\n",
       "      <th>1</th>\n",
       "      <td>ACELLERA FRONTLANDER 500</td>\n",
       "    </tr>\n",
       "  </tbody>\n",
       "</table>\n",
       "</div>"
      ],
      "text/plain": [
       "                 APLICACOES\n",
       "0     ACELLERA ACX 250F 250\n",
       "1  ACELLERA FRONTLANDER 500"
      ]
     },
     "execution_count": 4,
     "metadata": {},
     "output_type": "execute_result"
    }
   ],
   "source": [
    "df_aplicacoes.head(2)"
   ]
  },
  {
   "cell_type": "code",
   "execution_count": 5,
   "metadata": {},
   "outputs": [
    {
     "data": {
      "text/html": [
       "<div>\n",
       "<style scoped>\n",
       "    .dataframe tbody tr th:only-of-type {\n",
       "        vertical-align: middle;\n",
       "    }\n",
       "\n",
       "    .dataframe tbody tr th {\n",
       "        vertical-align: top;\n",
       "    }\n",
       "\n",
       "    .dataframe thead th {\n",
       "        text-align: right;\n",
       "    }\n",
       "</style>\n",
       "<table border=\"1\" class=\"dataframe\">\n",
       "  <thead>\n",
       "    <tr style=\"text-align: right;\">\n",
       "      <th></th>\n",
       "      <th>APLICACOES</th>\n",
       "    </tr>\n",
       "  </thead>\n",
       "  <tbody>\n",
       "    <tr>\n",
       "      <th>852</th>\n",
       "      <td>ZONGSHEN ZS 125</td>\n",
       "    </tr>\n",
       "    <tr>\n",
       "      <th>853</th>\n",
       "      <td>ZONGSHEN ZS 200</td>\n",
       "    </tr>\n",
       "  </tbody>\n",
       "</table>\n",
       "</div>"
      ],
      "text/plain": [
       "          APLICACOES\n",
       "852  ZONGSHEN ZS 125\n",
       "853  ZONGSHEN ZS 200"
      ]
     },
     "execution_count": 5,
     "metadata": {},
     "output_type": "execute_result"
    }
   ],
   "source": [
    "df_aplicacoes.tail(2)"
   ]
  },
  {
   "cell_type": "code",
   "execution_count": 6,
   "metadata": {},
   "outputs": [
    {
     "data": {
      "text/plain": [
       "(854, 1)"
      ]
     },
     "execution_count": 6,
     "metadata": {},
     "output_type": "execute_result"
    }
   ],
   "source": [
    "df_aplicacoes.shape"
   ]
  },
  {
   "cell_type": "markdown",
   "metadata": {
    "colab_type": "text",
    "id": "2q5MuAkA7U68"
   },
   "source": [
    "## CountVectorizer"
   ]
  },
  {
   "cell_type": "markdown",
   "metadata": {},
   "source": [
    "### CountVectorizer do DataSet das Aplicaçãoes"
   ]
  },
  {
   "cell_type": "code",
   "execution_count": 7,
   "metadata": {},
   "outputs": [],
   "source": [
    "# Criação da função CountVectorizer\n",
    "cvta = CountVectorizer(strip_accents='ascii', lowercase=True)\n",
    "X_cvta = cvta.fit_transform(df_aplicacoes['APLICACOES'])"
   ]
  },
  {
   "cell_type": "markdown",
   "metadata": {},
   "source": [
    "## Treinando os Modelos com o DataSet Aplicações"
   ]
  },
  {
   "cell_type": "markdown",
   "metadata": {
    "colab_type": "text",
    "id": "-GuR9sOdt-rR"
   },
   "source": [
    "### Definindo os parâmetros"
   ]
  },
  {
   "cell_type": "markdown",
   "metadata": {},
   "source": [
    "Utilizaremos toda a base no treinamento, pois a intenção é criar uma função de classificação para um dataset onde a classificação é inexistente."
   ]
  },
  {
   "cell_type": "code",
   "execution_count": 8,
   "metadata": {},
   "outputs": [],
   "source": [
    "X_train=X_cvta.toarray()\n",
    "y_train=np.array(df_aplicacoes['APLICACOES'])\n",
    "y_train1=df_aplicacoes['APLICACOES'].index.to_numpy()"
   ]
  },
  {
   "cell_type": "markdown",
   "metadata": {
    "colab_type": "text",
    "id": "-GuR9sOdt-rR"
   },
   "source": [
    "### Modelo LinearSVC"
   ]
  },
  {
   "cell_type": "code",
   "execution_count": 9,
   "metadata": {
    "colab": {
     "base_uri": "https://localhost:8080/",
     "height": 85
    },
    "colab_type": "code",
    "id": "3sKGFVOeb7A9",
    "outputId": "181cf909-9e02-44ff-a905-813948e8c6d0"
   },
   "outputs": [
    {
     "data": {
      "text/plain": [
       "LinearSVC(C=1.0, class_weight=None, dual=True, fit_intercept=True,\n",
       "     intercept_scaling=1, loss='squared_hinge', max_iter=1000,\n",
       "     multi_class='ovr', penalty='l2', random_state=None, tol=0.0001,\n",
       "     verbose=0)"
      ]
     },
     "execution_count": 9,
     "metadata": {},
     "output_type": "execute_result"
    }
   ],
   "source": [
    "# Criando modelo\n",
    "clfsvc = LinearSVC()\n",
    "# Treinamento do modelo\n",
    "clfsvc.fit(X_train, y_train)"
   ]
  },
  {
   "cell_type": "markdown",
   "metadata": {},
   "source": [
    "#### Função de classificação LinearSVC"
   ]
  },
  {
   "cell_type": "markdown",
   "metadata": {
    "colab_type": "text",
    "id": "glPX-gZyuLwr"
   },
   "source": [
    "A função para utilização do modelo, recebe a descrição filtrada Modelo e retorna a aplicação.\n"
   ]
  },
  {
   "cell_type": "code",
   "execution_count": 10,
   "metadata": {
    "colab": {},
    "colab_type": "code",
    "id": "sbEB0-E5dwlc"
   },
   "outputs": [],
   "source": [
    "def classificaAplicacaoSVC(modelo):\n",
    "    novo_cvta = cvta.transform(pd.Series(modelo))\n",
    "    aplicacao = clfsvc.predict(novo_cvta)[0]\n",
    "    return aplicacao"
   ]
  },
  {
   "cell_type": "markdown",
   "metadata": {},
   "source": [
    "No final o nosso resultado mostrando (Modelo: descrição filtrada para o modelo e Aplicação: aplicação prevista).<br>"
   ]
  },
  {
   "cell_type": "code",
   "execution_count": 11,
   "metadata": {},
   "outputs": [
    {
     "name": "stdout",
     "output_type": "stream",
     "text": [
      "Modelo: 150 CG HONDA TITAN  Aplicação: HONDA CG TIT TITAN 125 150 160\n",
      "Modelo: 125 CARGO CG HONDA TITAN  Aplicação: HONDA CG TIT TITAN 125 150 160\n",
      "Modelo: BIZ C100 HONDA  Aplicação: HONDA BIZ C100 125 C125\n",
      "Modelo: 100 HONDA BIZ  Aplicação: HONDA BIZ C100 125 C125\n",
      "Modelo: 100 BIZ BRAVO HONDA  Aplicação: SHINERAY BRAVO 200\n",
      "Modelo: 125 YBR GT YAMAHA  Aplicação: SUZUKI GT\n",
      "Modelo: 250F TWISTER HONDA  Aplicação: HONDA TWISTER CBX 250\n"
     ]
    }
   ],
   "source": [
    "# Lista de exemplos de novos produtos\n",
    "modelos = ['150 CG HONDA TITAN',\n",
    "           '125 CARGO CG HONDA TITAN',\n",
    "           'BIZ C100 HONDA',\n",
    "           '100 HONDA BIZ',\n",
    "           '100 BIZ BRAVO HONDA',\n",
    "           '125 YBR GT YAMAHA',\n",
    "           '250F TWISTER HONDA']\n",
    "# Loop for para fazer a predição do departamento de novos produtos\n",
    "for modelo in modelos:\n",
    "    print('Modelo:', modelo, ' Aplicação:', classificaAplicacaoSVC(modelo))"
   ]
  },
  {
   "cell_type": "markdown",
   "metadata": {
    "colab_type": "text",
    "id": "-GuR9sOdt-rR"
   },
   "source": [
    "### Modelo Multinomial Naive Bayes"
   ]
  },
  {
   "cell_type": "code",
   "execution_count": 12,
   "metadata": {
    "colab": {
     "base_uri": "https://localhost:8080/",
     "height": 85
    },
    "colab_type": "code",
    "id": "3sKGFVOeb7A9",
    "outputId": "181cf909-9e02-44ff-a905-813948e8c6d0"
   },
   "outputs": [
    {
     "data": {
      "text/plain": [
       "MultinomialNB(alpha=1.0, class_prior=None, fit_prior=True)"
      ]
     },
     "execution_count": 12,
     "metadata": {},
     "output_type": "execute_result"
    }
   ],
   "source": [
    "# Criando modelo\n",
    "clfmnb = MultinomialNB()\n",
    "# Treinamento do modelo\n",
    "clfmnb.fit(X_train, y_train1)"
   ]
  },
  {
   "cell_type": "markdown",
   "metadata": {},
   "source": [
    "#### Função de classificação"
   ]
  },
  {
   "cell_type": "markdown",
   "metadata": {
    "colab_type": "text",
    "id": "glPX-gZyuLwr"
   },
   "source": [
    "A função para utilização do modelo, recebe a descrição filtrada Modelo e retorna a aplicação.\n"
   ]
  },
  {
   "cell_type": "code",
   "execution_count": 13,
   "metadata": {
    "colab": {},
    "colab_type": "code",
    "id": "sbEB0-E5dwlc"
   },
   "outputs": [],
   "source": [
    "def classificaAplicacaoMNB(modelo):\n",
    "    novo_cvta = cvta.transform(pd.Series(modelo))\n",
    "    aplicacao = df_aplicacoes['APLICACOES'][clfmnb.predict(novo_cvta)[0]]\n",
    "    return aplicacao"
   ]
  },
  {
   "cell_type": "markdown",
   "metadata": {},
   "source": [
    "No final o nosso resultado mostrando (Modelo: descrição filtrada para o modelo e Aplicação: aplicação prevista).<br>"
   ]
  },
  {
   "cell_type": "code",
   "execution_count": 14,
   "metadata": {},
   "outputs": [
    {
     "name": "stdout",
     "output_type": "stream",
     "text": [
      "Modelo: 150 CG FAN HONDA TITAN Aplicação: HONDA CG TIT TITAN 125 150 160\n",
      "Modelo: 125 CARGO CG HONDA TITAN Aplicação: HONDA CG TIT TITAN 125 150 160\n",
      "Modelo: BIZ C100 HONDA Aplicação: HONDA BIZ C100 125 C125\n",
      "Modelo: 100 HONDA BIZ Aplicação: HONDA BIZ C100 125 C125\n",
      "Modelo: 100 BIZ BRAVO HONDA Aplicação: HONDA BIZ C100 125 C125\n",
      "Modelo: 125 YBR GT YAMAHA Aplicação: YAMAHA FACTOR YBR 125 YBR125\n",
      "Modelo: 250F TWISTER HONDA Aplicação: HONDA CB 250 250F\n"
     ]
    }
   ],
   "source": [
    "# Lista de exemplos de novos produtos\n",
    "modelos = ['150 CG FAN HONDA TITAN',\n",
    "           '125 CARGO CG HONDA TITAN',\n",
    "           'BIZ C100 HONDA',\n",
    "           '100 HONDA BIZ',\n",
    "           '100 BIZ BRAVO HONDA',\n",
    "           '125 YBR GT YAMAHA',\n",
    "           '250F TWISTER HONDA']\n",
    "# Loop for para fazer a predição do departamento de novos produtos\n",
    "for modelo in modelos:\n",
    "    print('Modelo:', modelo, 'Aplicação:', classificaAplicacaoMNB(modelo))"
   ]
  },
  {
   "cell_type": "markdown",
   "metadata": {
    "colab_type": "text",
    "id": "-GuR9sOdt-rR"
   },
   "source": [
    "### Modelo de Regressão Logística"
   ]
  },
  {
   "cell_type": "code",
   "execution_count": 15,
   "metadata": {
    "colab": {
     "base_uri": "https://localhost:8080/",
     "height": 85
    },
    "colab_type": "code",
    "id": "3sKGFVOeb7A9",
    "outputId": "181cf909-9e02-44ff-a905-813948e8c6d0"
   },
   "outputs": [
    {
     "data": {
      "text/plain": [
       "LogisticRegression(C=1.0, class_weight=None, dual=False, fit_intercept=True,\n",
       "          intercept_scaling=1, max_iter=100, multi_class='multinomial',\n",
       "          n_jobs=None, penalty='l2', random_state=None, solver='lbfgs',\n",
       "          tol=0.0001, verbose=0, warm_start=False)"
      ]
     },
     "execution_count": 15,
     "metadata": {},
     "output_type": "execute_result"
    }
   ],
   "source": [
    "# Criando modelo\n",
    "clflgr = LogisticRegression(solver='lbfgs',multi_class='multinomial')\n",
    "# Treinamento do modelo\n",
    "clflgr.fit(X_train, y_train)"
   ]
  },
  {
   "cell_type": "markdown",
   "metadata": {},
   "source": [
    "#### Função de classificação"
   ]
  },
  {
   "cell_type": "markdown",
   "metadata": {
    "colab_type": "text",
    "id": "glPX-gZyuLwr"
   },
   "source": [
    "A função para utilização do modelo, recebe a descrição filtrada Modelo e retorna a aplicação.\n"
   ]
  },
  {
   "cell_type": "code",
   "execution_count": 16,
   "metadata": {
    "colab": {},
    "colab_type": "code",
    "id": "sbEB0-E5dwlc"
   },
   "outputs": [],
   "source": [
    "def classificaAplicacaoLGR(modelo):\n",
    "    novo_cvta = cvta.transform(pd.Series(modelo))\n",
    "    aplicacao = clflgr.predict(novo_cvta)[0]\n",
    "    return aplicacao"
   ]
  },
  {
   "cell_type": "markdown",
   "metadata": {},
   "source": [
    "No final o nosso resultado mostrando (Modelo: descrição filtrada para o modelo e Aplicação: aplicação prevista).<br>"
   ]
  },
  {
   "cell_type": "code",
   "execution_count": 17,
   "metadata": {},
   "outputs": [
    {
     "name": "stdout",
     "output_type": "stream",
     "text": [
      "Modelo: 150 CG FAN HONDA TITAN Aplicação: HONDA CG TIT TITAN 125 150 160\n",
      "Modelo: 125 CARGO CG HONDA TITAN Aplicação: HONDA CG TIT TITAN 125 150 160\n",
      "Modelo: BIZ C100 HONDA Aplicação: HONDA BIZ C100 125 C125\n",
      "Modelo: 100 HONDA BIZ Aplicação: HONDA BIZ C100 125 C125\n",
      "Modelo: 100 BIZ BRAVO HONDA Aplicação: HONDA BIZ C100 125 C125\n",
      "Modelo: 125 YBR GT YAMAHA Aplicação: YAMAHA FACTOR YBR 125 YBR125\n",
      "Modelo: 250F TWISTER HONDA Aplicação: HONDA TWISTER CBX 250\n"
     ]
    }
   ],
   "source": [
    "# Lista de exemplos de novos produtos\n",
    "modelos = ['150 CG FAN HONDA TITAN',\n",
    "           '125 CARGO CG HONDA TITAN',\n",
    "           'BIZ C100 HONDA',\n",
    "           '100 HONDA BIZ',\n",
    "           '100 BIZ BRAVO HONDA',\n",
    "           '125 YBR GT YAMAHA',\n",
    "           '250F TWISTER HONDA']\n",
    "# Loop for para fazer a predição do departamento de novos produtos\n",
    "for modelo in modelos:\n",
    "    print('Modelo:', modelo, 'Aplicação:', classificaAplicacaoLGR(modelo))"
   ]
  },
  {
   "cell_type": "markdown",
   "metadata": {
    "colab_type": "text",
    "id": "Xya6qHGUuIGL"
   },
   "source": [
    "## Utilização do modelo"
   ]
  },
  {
   "cell_type": "markdown",
   "metadata": {
    "colab_type": "text",
    "id": "_-re6wFx668E"
   },
   "source": [
    "### Carregando dataset"
   ]
  },
  {
   "cell_type": "code",
   "execution_count": 18,
   "metadata": {},
   "outputs": [
    {
     "data": {
      "text/html": [
       "<div>\n",
       "<style scoped>\n",
       "    .dataframe tbody tr th:only-of-type {\n",
       "        vertical-align: middle;\n",
       "    }\n",
       "\n",
       "    .dataframe tbody tr th {\n",
       "        vertical-align: top;\n",
       "    }\n",
       "\n",
       "    .dataframe thead th {\n",
       "        text-align: right;\n",
       "    }\n",
       "</style>\n",
       "<table border=\"1\" class=\"dataframe\">\n",
       "  <thead>\n",
       "    <tr style=\"text-align: right;\">\n",
       "      <th></th>\n",
       "      <th>Modelo</th>\n",
       "      <th>APLICACAO</th>\n",
       "    </tr>\n",
       "  </thead>\n",
       "  <tbody>\n",
       "    <tr>\n",
       "      <th>0</th>\n",
       "      <td>150 cg fan honda titan</td>\n",
       "      <td>HONDA CG FAN</td>\n",
       "    </tr>\n",
       "    <tr>\n",
       "      <th>1</th>\n",
       "      <td>125 cargo cg honda titan</td>\n",
       "      <td>HONDA CG TIT TITAN 125 150 160</td>\n",
       "    </tr>\n",
       "    <tr>\n",
       "      <th>2</th>\n",
       "      <td>125 cg fan honda</td>\n",
       "      <td>HONDA CG FAN</td>\n",
       "    </tr>\n",
       "    <tr>\n",
       "      <th>3</th>\n",
       "      <td>biz c100 honda</td>\n",
       "      <td>HONDA BIZ C100 125 C125</td>\n",
       "    </tr>\n",
       "    <tr>\n",
       "      <th>4</th>\n",
       "      <td>150 kasinski mirage</td>\n",
       "      <td>KASINSKI MIRAGE 150 250</td>\n",
       "    </tr>\n",
       "  </tbody>\n",
       "</table>\n",
       "</div>"
      ],
      "text/plain": [
       "                     Modelo                       APLICACAO\n",
       "0    150 cg fan honda titan                    HONDA CG FAN\n",
       "1  125 cargo cg honda titan  HONDA CG TIT TITAN 125 150 160\n",
       "2          125 cg fan honda                    HONDA CG FAN\n",
       "3            biz c100 honda         HONDA BIZ C100 125 C125\n",
       "4       150 kasinski mirage         KASINSKI MIRAGE 150 250"
      ]
     },
     "execution_count": 18,
     "metadata": {},
     "output_type": "execute_result"
    }
   ],
   "source": [
    "# Importa base de dados com os modelos já determinados para um dataframe\n",
    "df = pd.read_excel(r'./bases/dataframe_modelos_class0.xlsx')\n",
    "df.iloc[:,-2:].head()"
   ]
  },
  {
   "cell_type": "code",
   "execution_count": 19,
   "metadata": {},
   "outputs": [
    {
     "data": {
      "text/plain": [
       "(17484, 6)"
      ]
     },
     "execution_count": 19,
     "metadata": {},
     "output_type": "execute_result"
    }
   ],
   "source": [
    "# Verifica o tamnanho do dataframe\n",
    "df.shape"
   ]
  },
  {
   "cell_type": "markdown",
   "metadata": {},
   "source": [
    "### Classificando os modelos do DataSet"
   ]
  },
  {
   "cell_type": "code",
   "execution_count": 20,
   "metadata": {},
   "outputs": [
    {
     "name": "stdout",
     "output_type": "stream",
     "text": [
      "Hora de início: 16:54:08\n",
      "Tempo estimado: 5 segundos\n",
      "Hora de término:16:54:13\n",
      "Tempo decorrido: 4.7 segundos.\n"
     ]
    }
   ],
   "source": [
    "# Modelo Linear SVC\n",
    "ini=time.time()\n",
    "now = time.strftime(\"%H:%M:%S\", time.localtime(time.time()))\n",
    "t1=5/df.shape[0]*1000 # tempo para cada mil registros\n",
    "print(f\"Hora de início: {now}\")\n",
    "print(f\"Tempo estimado: {int(t1*df.shape[0]/1000)} segundos\")\n",
    "\n",
    "df['APLICACAOSVC']=df['Modelo'].apply(classificaAplicacaoSVC)\n",
    "\n",
    "now = time.strftime(\"%H:%M:%S\", time.localtime(time.time()))\n",
    "fim=time.time()\n",
    "print(\"Hora de término:\" + str(now))\n",
    "print(\"Tempo decorrido: \" + str(round((fim-ini),1)) + \" segundos.\")"
   ]
  },
  {
   "cell_type": "code",
   "execution_count": 21,
   "metadata": {},
   "outputs": [
    {
     "name": "stdout",
     "output_type": "stream",
     "text": [
      "Hora de início: 16:54:13\n",
      "Tempo estimado: 53 segundos\n",
      "Hora de término:16:55:06\n",
      "Tempo decorrido: 52.9 segundos.\n"
     ]
    }
   ],
   "source": [
    "# Modelo Multinomial NB\n",
    "ini=time.time()\n",
    "now = time.strftime(\"%H:%M:%S\", time.localtime(time.time()))\n",
    "t1=53/df.shape[0]*1000 # tempo para cada mil registros\n",
    "print(f\"Hora de início: {now}\")\n",
    "print(f\"Tempo estimado: {int(t1*df.shape[0]/1000)} segundos\")\n",
    "\n",
    "df['APLICACAOMNB']=df['Modelo'].apply(classificaAplicacaoMNB)\n",
    "\n",
    "now = time.strftime(\"%H:%M:%S\", time.localtime(time.time()))\n",
    "fim=time.time()\n",
    "print(\"Hora de término:\" + str(now))\n",
    "print(\"Tempo decorrido: \" + str(round((fim-ini),1)) + \" segundos.\")"
   ]
  },
  {
   "cell_type": "code",
   "execution_count": 22,
   "metadata": {},
   "outputs": [
    {
     "name": "stdout",
     "output_type": "stream",
     "text": [
      "Hora de início: 16:55:06\n",
      "Tempo estimado: 68 segundos\n",
      "Hora de término:16:56:06\n",
      "Tempo decorrido: 60.2 segundos.\n"
     ]
    }
   ],
   "source": [
    "# Modelo Regressão Logística\n",
    "ini=time.time()\n",
    "now = time.strftime(\"%H:%M:%S\", time.localtime(time.time()))\n",
    "t1=68/df.shape[0]*1000 # tempo para cada mil registros\n",
    "print(f\"Hora de início: {now}\")\n",
    "print(f\"Tempo estimado: {int(t1*df.shape[0]/1000)} segundos\")\n",
    "\n",
    "df['APLICACAOLGR']=df['Modelo'].apply(classificaAplicacaoLGR)\n",
    "\n",
    "now = time.strftime(\"%H:%M:%S\", time.localtime(time.time()))\n",
    "fim=time.time()\n",
    "print(\"Hora de término:\" + str(now))\n",
    "print(\"Tempo decorrido: \" + str(round((fim-ini),1)) + \" segundos.\")"
   ]
  },
  {
   "cell_type": "code",
   "execution_count": 23,
   "metadata": {},
   "outputs": [
    {
     "data": {
      "text/plain": [
       "(17484, 9)"
      ]
     },
     "execution_count": 23,
     "metadata": {},
     "output_type": "execute_result"
    }
   ],
   "source": [
    "df.shape"
   ]
  },
  {
   "cell_type": "code",
   "execution_count": 24,
   "metadata": {
    "scrolled": false
   },
   "outputs": [
    {
     "data": {
      "text/html": [
       "<div>\n",
       "<style scoped>\n",
       "    .dataframe tbody tr th:only-of-type {\n",
       "        vertical-align: middle;\n",
       "    }\n",
       "\n",
       "    .dataframe tbody tr th {\n",
       "        vertical-align: top;\n",
       "    }\n",
       "\n",
       "    .dataframe thead th {\n",
       "        text-align: right;\n",
       "    }\n",
       "</style>\n",
       "<table border=\"1\" class=\"dataframe\">\n",
       "  <thead>\n",
       "    <tr style=\"text-align: right;\">\n",
       "      <th></th>\n",
       "      <th>DESCRICAO</th>\n",
       "      <th>Modelo</th>\n",
       "      <th>APLICACAO</th>\n",
       "      <th>APLICACAOSVC</th>\n",
       "      <th>APLICACAOMNB</th>\n",
       "      <th>APLICACAOLGR</th>\n",
       "    </tr>\n",
       "  </thead>\n",
       "  <tbody>\n",
       "    <tr>\n",
       "      <th>4530</th>\n",
       "      <td>cg 125 cargo fan titan</td>\n",
       "      <td>125 cargo cg fan honda titan</td>\n",
       "      <td>HONDA CG FAN</td>\n",
       "      <td>HONDA CG FAN</td>\n",
       "      <td>HONDA CG TIT TITAN 125 150 160</td>\n",
       "      <td>HONDA CG TIT TITAN 125 150 160</td>\n",
       "    </tr>\n",
       "    <tr>\n",
       "      <th>13880</th>\n",
       "      <td>520vo ht crf 230</td>\n",
       "      <td>230 crf honda</td>\n",
       "      <td>HONDA CRF 230 230F 250 250F</td>\n",
       "      <td>HONDA CRF 230 230F 250 250F</td>\n",
       "      <td>HONDA CRF 230 230F 250 250F</td>\n",
       "      <td>HONDA CRF 230 230F 250 250F</td>\n",
       "    </tr>\n",
       "    <tr>\n",
       "      <th>17237</th>\n",
       "      <td>todos acondicionado única titan 125 fan</td>\n",
       "      <td>125 fan honda titan</td>\n",
       "      <td>HONDA CG FAN</td>\n",
       "      <td>HONDA CG FAN</td>\n",
       "      <td>HONDA CG TIT TITAN 125 150 160</td>\n",
       "      <td>HONDA CG TIT TITAN 125 150 160</td>\n",
       "    </tr>\n",
       "    <tr>\n",
       "      <th>6817</th>\n",
       "      <td>tkbrybrb factor ybr 125</td>\n",
       "      <td>125 factor yamaha ybr</td>\n",
       "      <td>YAMAHA FACTOR YBR 125 YBR125</td>\n",
       "      <td>YAMAHA FACTOR YBR 125 YBR125</td>\n",
       "      <td>YAMAHA FACTOR YBR 125 YBR125</td>\n",
       "      <td>YAMAHA FACTOR YBR 125 YBR125</td>\n",
       "    </tr>\n",
       "    <tr>\n",
       "      <th>14379</th>\n",
       "      <td>falcon 400</td>\n",
       "      <td>400 falcon</td>\n",
       "      <td>HONDA NX 400 FALCON</td>\n",
       "      <td>HONDA NX 400 FALCON</td>\n",
       "      <td>HONDA NX 400 FALCON</td>\n",
       "      <td>HONDA NX 400 FALCON</td>\n",
       "    </tr>\n",
       "  </tbody>\n",
       "</table>\n",
       "</div>"
      ],
      "text/plain": [
       "                                     DESCRICAO                        Modelo  \\\n",
       "4530                    cg 125 cargo fan titan  125 cargo cg fan honda titan   \n",
       "13880                         520vo ht crf 230                 230 crf honda   \n",
       "17237  todos acondicionado única titan 125 fan           125 fan honda titan   \n",
       "6817                   tkbrybrb factor ybr 125         125 factor yamaha ybr   \n",
       "14379                               falcon 400                    400 falcon   \n",
       "\n",
       "                          APLICACAO                  APLICACAOSVC  \\\n",
       "4530                   HONDA CG FAN                  HONDA CG FAN   \n",
       "13880   HONDA CRF 230 230F 250 250F   HONDA CRF 230 230F 250 250F   \n",
       "17237                  HONDA CG FAN                  HONDA CG FAN   \n",
       "6817   YAMAHA FACTOR YBR 125 YBR125  YAMAHA FACTOR YBR 125 YBR125   \n",
       "14379           HONDA NX 400 FALCON           HONDA NX 400 FALCON   \n",
       "\n",
       "                         APLICACAOMNB                    APLICACAOLGR  \n",
       "4530   HONDA CG TIT TITAN 125 150 160  HONDA CG TIT TITAN 125 150 160  \n",
       "13880     HONDA CRF 230 230F 250 250F     HONDA CRF 230 230F 250 250F  \n",
       "17237  HONDA CG TIT TITAN 125 150 160  HONDA CG TIT TITAN 125 150 160  \n",
       "6817     YAMAHA FACTOR YBR 125 YBR125    YAMAHA FACTOR YBR 125 YBR125  \n",
       "14379             HONDA NX 400 FALCON             HONDA NX 400 FALCON  "
      ]
     },
     "execution_count": 24,
     "metadata": {},
     "output_type": "execute_result"
    }
   ],
   "source": [
    "df.iloc[:,-6:].sample(5)"
   ]
  },
  {
   "cell_type": "markdown",
   "metadata": {},
   "source": [
    "## Comparação das classificações"
   ]
  },
  {
   "cell_type": "code",
   "execution_count": 25,
   "metadata": {},
   "outputs": [],
   "source": [
    "# Definição dos filtros\n",
    "f1 = df['APLICACAOSVC']==df['APLICACAOMNB'] # Modelos SVC e MNB iguais\n",
    "f2 = df['APLICACAOSVC']==df['APLICACAOLGR'] # Modelos SVC e LGR iguais\n",
    "f3 = df['APLICACAOSVC']==df['APLICACAO'] # Modelo e SVC iguais\n",
    "f4 = df['APLICACAOMNB']==df['APLICACAOLGR'] # Modelos MNB e LGR iguais\n",
    "f5 = df['APLICACAOMNB']==df['APLICACAO'] # Modelo e MNB iguais\n",
    "f6 = df['APLICACAOLGR']==df['APLICACAO'] # Modelo e LGR iguais"
   ]
  },
  {
   "cell_type": "code",
   "execution_count": 26,
   "metadata": {},
   "outputs": [
    {
     "data": {
      "text/plain": [
       "(3794, 9)"
      ]
     },
     "execution_count": 26,
     "metadata": {},
     "output_type": "execute_result"
    }
   ],
   "source": [
    "# Quantidade de registros divergentes entre os modelos SVC e Multinomial NB\n",
    "df[~f1].shape"
   ]
  },
  {
   "cell_type": "code",
   "execution_count": 27,
   "metadata": {},
   "outputs": [
    {
     "data": {
      "text/plain": [
       "(3230, 9)"
      ]
     },
     "execution_count": 27,
     "metadata": {},
     "output_type": "execute_result"
    }
   ],
   "source": [
    "# Quantidade de registros divergentes entre os modelos SVC e Regressão Logística\n",
    "df[~f2].shape"
   ]
  },
  {
   "cell_type": "code",
   "execution_count": 28,
   "metadata": {},
   "outputs": [
    {
     "data": {
      "text/plain": [
       "(1620, 9)"
      ]
     },
     "execution_count": 28,
     "metadata": {},
     "output_type": "execute_result"
    }
   ],
   "source": [
    "# Quantidade de registros divergentes entre a extração e o modelo SVC\n",
    "df[~f3].shape"
   ]
  },
  {
   "cell_type": "code",
   "execution_count": 29,
   "metadata": {},
   "outputs": [
    {
     "data": {
      "text/plain": [
       "(1166, 9)"
      ]
     },
     "execution_count": 29,
     "metadata": {},
     "output_type": "execute_result"
    }
   ],
   "source": [
    "# Quantidade de registros divergentes entre os modelos MNB e Regressão Logística\n",
    "df[~f4].shape"
   ]
  },
  {
   "cell_type": "code",
   "execution_count": 30,
   "metadata": {},
   "outputs": [
    {
     "data": {
      "text/plain": [
       "(3622, 9)"
      ]
     },
     "execution_count": 30,
     "metadata": {},
     "output_type": "execute_result"
    }
   ],
   "source": [
    "# Quantidade de registros divergentes entre a extração e o Modelo MNB\n",
    "df[~f5].shape"
   ]
  },
  {
   "cell_type": "code",
   "execution_count": 31,
   "metadata": {},
   "outputs": [
    {
     "data": {
      "text/plain": [
       "(3014, 9)"
      ]
     },
     "execution_count": 31,
     "metadata": {},
     "output_type": "execute_result"
    }
   ],
   "source": [
    "# Quantidade de registros divergentes entre a extração e o Modelo LGR\n",
    "df[~f6].shape"
   ]
  },
  {
   "cell_type": "code",
   "execution_count": 32,
   "metadata": {},
   "outputs": [
    {
     "data": {
      "text/plain": [
       "(4585, 9)"
      ]
     },
     "execution_count": 32,
     "metadata": {},
     "output_type": "execute_result"
    }
   ],
   "source": [
    "# Quantidade de registros divergente entre os quatro\n",
    "df[~(f1 & f2 & f3)].shape"
   ]
  },
  {
   "cell_type": "code",
   "execution_count": 33,
   "metadata": {},
   "outputs": [
    {
     "data": {
      "text/plain": [
       "(12899, 9)"
      ]
     },
     "execution_count": 33,
     "metadata": {},
     "output_type": "execute_result"
    }
   ],
   "source": [
    "# Quantidade de registros iguais nos quatro\n",
    "df[f1 & f2 & f3].shape"
   ]
  },
  {
   "cell_type": "markdown",
   "metadata": {},
   "source": [
    "Em virtude do tempo de processamento maior e também da maior quantidade de divergências, decidiu-se por abandonar o uso da modelo de regressão logística."
   ]
  },
  {
   "cell_type": "code",
   "execution_count": 34,
   "metadata": {},
   "outputs": [],
   "source": [
    "df.drop('APLICACAOLGR', axis=1, inplace=True)"
   ]
  },
  {
   "cell_type": "code",
   "execution_count": 35,
   "metadata": {},
   "outputs": [
    {
     "data": {
      "text/html": [
       "<div>\n",
       "<style scoped>\n",
       "    .dataframe tbody tr th:only-of-type {\n",
       "        vertical-align: middle;\n",
       "    }\n",
       "\n",
       "    .dataframe tbody tr th {\n",
       "        vertical-align: top;\n",
       "    }\n",
       "\n",
       "    .dataframe thead th {\n",
       "        text-align: right;\n",
       "    }\n",
       "</style>\n",
       "<table border=\"1\" class=\"dataframe\">\n",
       "  <thead>\n",
       "    <tr style=\"text-align: right;\">\n",
       "      <th></th>\n",
       "      <th>DESCRICAO</th>\n",
       "      <th>Modelo</th>\n",
       "      <th>APLICACAO</th>\n",
       "      <th>APLICACAOSVC</th>\n",
       "      <th>APLICACAOMNB</th>\n",
       "    </tr>\n",
       "  </thead>\n",
       "  <tbody>\n",
       "    <tr>\n",
       "      <th>0</th>\n",
       "      <td>honda cg 150 titan ks es mix fan</td>\n",
       "      <td>150 cg fan honda titan</td>\n",
       "      <td>HONDA CG FAN</td>\n",
       "      <td>HONDA CG FAN</td>\n",
       "      <td>HONDA CG TIT TITAN 125 150 160</td>\n",
       "    </tr>\n",
       "    <tr>\n",
       "      <th>2</th>\n",
       "      <td>honda cg 125 fan</td>\n",
       "      <td>125 cg fan honda</td>\n",
       "      <td>HONDA CG FAN</td>\n",
       "      <td>HONDA CG FAN</td>\n",
       "      <td>HONDA CG 125</td>\n",
       "    </tr>\n",
       "    <tr>\n",
       "      <th>11</th>\n",
       "      <td>hunter max 125</td>\n",
       "      <td>125 hunter max sundown</td>\n",
       "      <td>XXX</td>\n",
       "      <td>SUNDOWN MAX</td>\n",
       "      <td>SUNDOWN HUNTER</td>\n",
       "    </tr>\n",
       "    <tr>\n",
       "      <th>17</th>\n",
       "      <td>yes intruder 125</td>\n",
       "      <td>125 intruder suzuki yes</td>\n",
       "      <td>SUZUKI YES EN 125</td>\n",
       "      <td>SUZUKI INTRUDER</td>\n",
       "      <td>SUZUKI YES EN 125</td>\n",
       "    </tr>\n",
       "    <tr>\n",
       "      <th>22</th>\n",
       "      <td>jet 49cc</td>\n",
       "      <td>jet shineray</td>\n",
       "      <td>['SHINERAY JET 125', 'SHINERAY JET 50']</td>\n",
       "      <td>SHINERAY JET 50</td>\n",
       "      <td>SHINERAY JET 125</td>\n",
       "    </tr>\n",
       "  </tbody>\n",
       "</table>\n",
       "</div>"
      ],
      "text/plain": [
       "                           DESCRICAO                   Modelo  \\\n",
       "0   honda cg 150 titan ks es mix fan   150 cg fan honda titan   \n",
       "2                   honda cg 125 fan         125 cg fan honda   \n",
       "11                    hunter max 125   125 hunter max sundown   \n",
       "17                  yes intruder 125  125 intruder suzuki yes   \n",
       "22                          jet 49cc             jet shineray   \n",
       "\n",
       "                                  APLICACAO     APLICACAOSVC  \\\n",
       "0                              HONDA CG FAN     HONDA CG FAN   \n",
       "2                              HONDA CG FAN     HONDA CG FAN   \n",
       "11                                      XXX      SUNDOWN MAX   \n",
       "17                        SUZUKI YES EN 125  SUZUKI INTRUDER   \n",
       "22  ['SHINERAY JET 125', 'SHINERAY JET 50']  SHINERAY JET 50   \n",
       "\n",
       "                      APLICACAOMNB  \n",
       "0   HONDA CG TIT TITAN 125 150 160  \n",
       "2                     HONDA CG 125  \n",
       "11                  SUNDOWN HUNTER  \n",
       "17               SUZUKI YES EN 125  \n",
       "22                SHINERAY JET 125  "
      ]
     },
     "execution_count": 35,
     "metadata": {},
     "output_type": "execute_result"
    }
   ],
   "source": [
    "df[df['APLICACAOSVC']!=df['APLICACAOMNB']].iloc[:5,-5:]"
   ]
  },
  {
   "cell_type": "code",
   "execution_count": 36,
   "metadata": {},
   "outputs": [
    {
     "data": {
      "text/plain": [
       "'80360 KIT DE TRANSMISSÃO, COMPOSTO DE CORRENTE, COROA E PINHÃO PARA MOTOCICLETA HUNTER / MAX 125, MARCA ALLEN.'"
      ]
     },
     "execution_count": 36,
     "metadata": {},
     "output_type": "execute_result"
    }
   ],
   "source": [
    "df['DESCRICAO DO PRODUTO'].iloc[11]"
   ]
  },
  {
   "cell_type": "markdown",
   "metadata": {},
   "source": [
    "### Melhorando a classificação"
   ]
  },
  {
   "cell_type": "markdown",
   "metadata": {},
   "source": [
    "Para chegar à classificação final a ser utilizada na função de classificação, utilizaremos algumas regras:<br>\n",
    "1. SE APLICACAOMNB==APLICACAOSVC ==> APLICACAOFIM=APLICACAOSVC\n",
    "2. SE APLICACAOMNB!=APLICACAOSVC\n",
    "  1. SE APLICACAO=='XXX' ==> APLICACAOFIM=[APLICACAOSVC,APLICACAOMNB]\n",
    "  2. SE APLICACAO==APLICACAOSVC ==> APLICACAOFIM=APLICACAOSVC\n",
    "  3. SE APLICACAO==APLICACAOMNB ==> APLICACAOFIM=APLICACAOMNB\n",
    "  4. SE APLICACAO for uma lista:\n",
    "    * SE APLICACAOSVC estiver na lista ==> APLICACAOFIM=APLICACAOSVC\n",
    "    * SE APLICACAOMNB estiver na lista ==> APLICACAOFIM=APLICACAOSMNB\n",
    "    * SENÃO ==> APLICAFIM=LISTA+[APLICACAOSVC,APLICACAOMNB]\n",
    "  5. SE APLICACAO!=APLICACAOSVC!=APLICACAOMNB ==> APLICACAOFIM=[APLICACAO,APLICACAOSVC,APLICACAOMNB]"
   ]
  },
  {
   "cell_type": "code",
   "execution_count": 37,
   "metadata": {},
   "outputs": [
    {
     "data": {
      "text/plain": [
       "(17484, 9)"
      ]
     },
     "execution_count": 37,
     "metadata": {},
     "output_type": "execute_result"
    }
   ],
   "source": [
    "df=df.assign(APLICACAOFIM=df.APLICACAOMNB.tolist())\n",
    "df.shape"
   ]
  },
  {
   "cell_type": "code",
   "execution_count": 38,
   "metadata": {},
   "outputs": [
    {
     "data": {
      "text/html": [
       "<div>\n",
       "<style scoped>\n",
       "    .dataframe tbody tr th:only-of-type {\n",
       "        vertical-align: middle;\n",
       "    }\n",
       "\n",
       "    .dataframe tbody tr th {\n",
       "        vertical-align: top;\n",
       "    }\n",
       "\n",
       "    .dataframe thead th {\n",
       "        text-align: right;\n",
       "    }\n",
       "</style>\n",
       "<table border=\"1\" class=\"dataframe\">\n",
       "  <thead>\n",
       "    <tr style=\"text-align: right;\">\n",
       "      <th></th>\n",
       "      <th>Modelo</th>\n",
       "      <th>APLICACAO</th>\n",
       "      <th>APLICACAOSVC</th>\n",
       "      <th>APLICACAOMNB</th>\n",
       "      <th>APLICACAOFIM</th>\n",
       "    </tr>\n",
       "  </thead>\n",
       "  <tbody>\n",
       "    <tr>\n",
       "      <th>15752</th>\n",
       "      <td>300 xre</td>\n",
       "      <td>HONDA XRE 300</td>\n",
       "      <td>HONDA XRE 300</td>\n",
       "      <td>HONDA XRE 300</td>\n",
       "      <td>HONDA XRE 300</td>\n",
       "    </tr>\n",
       "    <tr>\n",
       "      <th>4949</th>\n",
       "      <td>250</td>\n",
       "      <td>['ACELLERA ACX 250F 250', 'ACELLERA SPORTLANDE...</td>\n",
       "      <td>KTM SX 250</td>\n",
       "      <td>AMAZONAS AME-250</td>\n",
       "      <td>AMAZONAS AME-250</td>\n",
       "    </tr>\n",
       "    <tr>\n",
       "      <th>9789</th>\n",
       "      <td>150 cargo cg fan honda titan</td>\n",
       "      <td>HONDA CG FAN</td>\n",
       "      <td>HONDA CG FAN</td>\n",
       "      <td>HONDA CG TIT TITAN 125 150 160</td>\n",
       "      <td>HONDA CG TIT TITAN 125 150 160</td>\n",
       "    </tr>\n",
       "    <tr>\n",
       "      <th>13924</th>\n",
       "      <td>crypton yamaha</td>\n",
       "      <td>YAMAHA CRYPTON</td>\n",
       "      <td>YAMAHA CRYPTON</td>\n",
       "      <td>YAMAHA CRYPTON</td>\n",
       "      <td>YAMAHA CRYPTON</td>\n",
       "    </tr>\n",
       "    <tr>\n",
       "      <th>17426</th>\n",
       "      <td>125 yamaha ybr ybr125</td>\n",
       "      <td>YAMAHA FACTOR YBR 125 YBR125</td>\n",
       "      <td>YAMAHA FACTOR YBR 125 YBR125</td>\n",
       "      <td>YAMAHA FACTOR YBR 125 YBR125</td>\n",
       "      <td>YAMAHA FACTOR YBR 125 YBR125</td>\n",
       "    </tr>\n",
       "    <tr>\n",
       "      <th>11212</th>\n",
       "      <td>250 lander xtz yamaha</td>\n",
       "      <td>YAMAHA LANDER XTZ 250</td>\n",
       "      <td>YAMAHA LANDER XTZ 250</td>\n",
       "      <td>YAMAHA LANDER XTZ 250</td>\n",
       "      <td>YAMAHA LANDER XTZ 250</td>\n",
       "    </tr>\n",
       "    <tr>\n",
       "      <th>12447</th>\n",
       "      <td>150 broz honda</td>\n",
       "      <td>HONDA NXR 150 160 BROZ</td>\n",
       "      <td>HONDA NXR 150 160 BROZ</td>\n",
       "      <td>HONDA NXR 150 160 BROZ</td>\n",
       "      <td>HONDA NXR 150 160 BROZ</td>\n",
       "    </tr>\n",
       "    <tr>\n",
       "      <th>12919</th>\n",
       "      <td>crypton yamaha</td>\n",
       "      <td>YAMAHA CRYPTON</td>\n",
       "      <td>YAMAHA CRYPTON</td>\n",
       "      <td>YAMAHA CRYPTON</td>\n",
       "      <td>YAMAHA CRYPTON</td>\n",
       "    </tr>\n",
       "    <tr>\n",
       "      <th>6645</th>\n",
       "      <td>125 factor yamaha ybr</td>\n",
       "      <td>YAMAHA FACTOR YBR 125 YBR125</td>\n",
       "      <td>YAMAHA FACTOR YBR 125 YBR125</td>\n",
       "      <td>YAMAHA FACTOR YBR 125 YBR125</td>\n",
       "      <td>YAMAHA FACTOR YBR 125 YBR125</td>\n",
       "    </tr>\n",
       "    <tr>\n",
       "      <th>7302</th>\n",
       "      <td>250 fazer yamaha</td>\n",
       "      <td>YAMAHA FAZER YS250 250</td>\n",
       "      <td>YAMAHA FAZER YS250 250</td>\n",
       "      <td>YAMAHA FAZER YS250 250</td>\n",
       "      <td>YAMAHA FAZER YS250 250</td>\n",
       "    </tr>\n",
       "  </tbody>\n",
       "</table>\n",
       "</div>"
      ],
      "text/plain": [
       "                             Modelo  \\\n",
       "15752                       300 xre   \n",
       "4949                            250   \n",
       "9789   150 cargo cg fan honda titan   \n",
       "13924                crypton yamaha   \n",
       "17426         125 yamaha ybr ybr125   \n",
       "11212         250 lander xtz yamaha   \n",
       "12447                150 broz honda   \n",
       "12919                crypton yamaha   \n",
       "6645          125 factor yamaha ybr   \n",
       "7302               250 fazer yamaha   \n",
       "\n",
       "                                               APLICACAO  \\\n",
       "15752                                      HONDA XRE 300   \n",
       "4949   ['ACELLERA ACX 250F 250', 'ACELLERA SPORTLANDE...   \n",
       "9789                                        HONDA CG FAN   \n",
       "13924                                     YAMAHA CRYPTON   \n",
       "17426                       YAMAHA FACTOR YBR 125 YBR125   \n",
       "11212                              YAMAHA LANDER XTZ 250   \n",
       "12447                             HONDA NXR 150 160 BROZ   \n",
       "12919                                     YAMAHA CRYPTON   \n",
       "6645                        YAMAHA FACTOR YBR 125 YBR125   \n",
       "7302                              YAMAHA FAZER YS250 250   \n",
       "\n",
       "                       APLICACAOSVC                    APLICACAOMNB  \\\n",
       "15752                 HONDA XRE 300                   HONDA XRE 300   \n",
       "4949                     KTM SX 250                AMAZONAS AME-250   \n",
       "9789                   HONDA CG FAN  HONDA CG TIT TITAN 125 150 160   \n",
       "13924                YAMAHA CRYPTON                  YAMAHA CRYPTON   \n",
       "17426  YAMAHA FACTOR YBR 125 YBR125    YAMAHA FACTOR YBR 125 YBR125   \n",
       "11212         YAMAHA LANDER XTZ 250           YAMAHA LANDER XTZ 250   \n",
       "12447        HONDA NXR 150 160 BROZ          HONDA NXR 150 160 BROZ   \n",
       "12919                YAMAHA CRYPTON                  YAMAHA CRYPTON   \n",
       "6645   YAMAHA FACTOR YBR 125 YBR125    YAMAHA FACTOR YBR 125 YBR125   \n",
       "7302         YAMAHA FAZER YS250 250          YAMAHA FAZER YS250 250   \n",
       "\n",
       "                         APLICACAOFIM  \n",
       "15752                   HONDA XRE 300  \n",
       "4949                 AMAZONAS AME-250  \n",
       "9789   HONDA CG TIT TITAN 125 150 160  \n",
       "13924                  YAMAHA CRYPTON  \n",
       "17426    YAMAHA FACTOR YBR 125 YBR125  \n",
       "11212           YAMAHA LANDER XTZ 250  \n",
       "12447          HONDA NXR 150 160 BROZ  \n",
       "12919                  YAMAHA CRYPTON  \n",
       "6645     YAMAHA FACTOR YBR 125 YBR125  \n",
       "7302           YAMAHA FAZER YS250 250  "
      ]
     },
     "execution_count": 38,
     "metadata": {},
     "output_type": "execute_result"
    }
   ],
   "source": [
    "df.iloc[:,-5:].sample(10)"
   ]
  },
  {
   "cell_type": "code",
   "execution_count": 39,
   "metadata": {},
   "outputs": [],
   "source": [
    "colindex = df.columns.get_loc(\"APLICACAOFIM\")\n",
    "for i in range(df.shape[0]):\n",
    "    #print(i)\n",
    "    # se APLICACAOSVC==APLICACAOMNB ==> já aplicado pelo df.assign\n",
    "    # se APLICACAOSVC!=APLICACAOMNB\n",
    "    if df['APLICACAOSVC'][i]!=df['APLICACAOMNB'][i]:\n",
    "        # se APLICAÇÃO for sem valor ('XXX') ==> APLICACAOFIM=[APLICACAOSVC,APLICACAOMNB]\n",
    "        if df['APLICACAO'][i]=='XXX':\n",
    "            # APLICACAOFIM será a lista com os dois valores\n",
    "            df.iloc[i,colindex]=str([df['APLICACAOSVC'][i], df['APLICACAOMNB'][i]])\n",
    "            continue # passa para o próximo i\n",
    "        elif df['APLICACAO'][i]==df['APLICACAOSVC'][i]:\n",
    "            df.iloc[i,colindex]=df['APLICACAOSVC'][i]\n",
    "            continue # passa para o próximo i\n",
    "        elif df['APLICACAO'][i]==df['APLICACAOMNB'][i]:\n",
    "            df.iloc[i,colindex]=df['APLICACAOMNB'][i]\n",
    "            continue # passa para o próximo i\n",
    "        elif \",\" in df['APLICACAO'][i]: # se tiver vírgula, a APLICACAO é uma lista\n",
    "            aplictemp=df['APLICACAO'][i].replace(\"[\",\"\").replace(\", \",\";\").replace(\",\",\";\").replace(\"'\",\"\").replace(\"]\",\"\")\n",
    "            aplictemp=aplictemp.split(';')\n",
    "            # se APLICACAOSVC estiver na lista\n",
    "            if df['APLICACAOSVC'][i] in aplictemp:\n",
    "                df.iloc[i,colindex]=df['APLICACAOSVC'][i]\n",
    "                continue # passa para o próximo i\n",
    "            # se APLICACAOMNB estiver na lista\n",
    "            elif df['APLICACAOMNB'][i] in aplictemp:\n",
    "                df.iloc[i,colindex]=df['APLICACAOMNB'][i]\n",
    "                continue # passa para o próximo i\n",
    "            else:\n",
    "                aplictemp.append(df['APLICACAOSVC'][i])\n",
    "                aplictemp.append(df['APLICACAOMNB'][i])\n",
    "                df.iloc[i,colindex]=str(aplictemp)\n",
    "                continue # passa para o próximo i\n",
    "        else: # caso seja um valor (diferente de ambos os classificadores)\n",
    "            # APLICACAO!=APLICACAOSVC!=APLICACAOMNB ==> APLICACAOFIM=[APLICACAO,APLICACAOSVC,APLICACAOMNB]\n",
    "            df.iloc[i,colindex]=str([df['APLICACAO'][i],df['APLICACAOSVC'][i], df['APLICACAOMNB'][i]])\n",
    "            continue # passa para o próximo i"
   ]
  },
  {
   "cell_type": "markdown",
   "metadata": {},
   "source": [
    "### Recomparação das classificações"
   ]
  },
  {
   "cell_type": "code",
   "execution_count": 40,
   "metadata": {},
   "outputs": [],
   "source": [
    "# Definição dos filtros\n",
    "f1 = df['APLICACAOSVC']==df['APLICACAOMNB'] # Modelos SVC e MNB iguais\n",
    "f2 = df['APLICACAOSVC']==df['APLICACAOFIM'] # Modelo manual e SVC iguais\n",
    "f3 = df['APLICACAOMNB']==df['APLICACAOFIM'] # Modelo manual e MNB iguais"
   ]
  },
  {
   "cell_type": "code",
   "execution_count": 41,
   "metadata": {},
   "outputs": [
    {
     "data": {
      "text/plain": [
       "(3794, 9)"
      ]
     },
     "execution_count": 41,
     "metadata": {},
     "output_type": "execute_result"
    }
   ],
   "source": [
    "# Quantidade de registros divergentes entre os modelos SVC e Multinomial NB\n",
    "df[~f1].shape"
   ]
  },
  {
   "cell_type": "code",
   "execution_count": 42,
   "metadata": {},
   "outputs": [
    {
     "data": {
      "text/plain": [
       "(907, 9)"
      ]
     },
     "execution_count": 42,
     "metadata": {},
     "output_type": "execute_result"
    }
   ],
   "source": [
    "# Quantidade de registros divergentes entre a extração e o modelo SVC\n",
    "df[~f2].shape"
   ]
  },
  {
   "cell_type": "code",
   "execution_count": 43,
   "metadata": {},
   "outputs": [
    {
     "data": {
      "text/plain": [
       "(3049, 9)"
      ]
     },
     "execution_count": 43,
     "metadata": {},
     "output_type": "execute_result"
    }
   ],
   "source": [
    "# Quantidade de registros divergentes entre a extração e o modelo SVC\n",
    "df[~f3].shape"
   ]
  },
  {
   "cell_type": "code",
   "execution_count": 44,
   "metadata": {},
   "outputs": [
    {
     "data": {
      "text/plain": [
       "(3794, 9)"
      ]
     },
     "execution_count": 44,
     "metadata": {},
     "output_type": "execute_result"
    }
   ],
   "source": [
    "# Quantidade de registros divergente entre os três\n",
    "df[~(f1 & f2)].shape"
   ]
  },
  {
   "cell_type": "code",
   "execution_count": 45,
   "metadata": {},
   "outputs": [
    {
     "data": {
      "text/plain": [
       "(13690, 9)"
      ]
     },
     "execution_count": 45,
     "metadata": {},
     "output_type": "execute_result"
    }
   ],
   "source": [
    "# Quantidade de registros iguais nos três\n",
    "df[f1 & f2].shape"
   ]
  },
  {
   "cell_type": "code",
   "execution_count": 46,
   "metadata": {},
   "outputs": [],
   "source": [
    "# Registros ainda não definidos (lista de opções)\n",
    "# O filtro definirá True se APLICACAOFIM iniciar com '[' ou False caso contrário.\n",
    "filtro=[]\n",
    "for i, aplicacao in enumerate(df['APLICACAOFIM']):\n",
    "    if aplicacao[0]=='[':\n",
    "        filtro.append(True)\n",
    "    else:\n",
    "        filtro.append(False)"
   ]
  },
  {
   "cell_type": "code",
   "execution_count": 47,
   "metadata": {},
   "outputs": [
    {
     "data": {
      "text/html": [
       "<div>\n",
       "<style scoped>\n",
       "    .dataframe tbody tr th:only-of-type {\n",
       "        vertical-align: middle;\n",
       "    }\n",
       "\n",
       "    .dataframe tbody tr th {\n",
       "        vertical-align: top;\n",
       "    }\n",
       "\n",
       "    .dataframe thead th {\n",
       "        text-align: right;\n",
       "    }\n",
       "</style>\n",
       "<table border=\"1\" class=\"dataframe\">\n",
       "  <thead>\n",
       "    <tr style=\"text-align: right;\">\n",
       "      <th></th>\n",
       "      <th>Modelo</th>\n",
       "      <th>APLICACAO</th>\n",
       "      <th>APLICACAOSVC</th>\n",
       "      <th>APLICACAOMNB</th>\n",
       "      <th>APLICACAOFIM</th>\n",
       "    </tr>\n",
       "  </thead>\n",
       "  <tbody>\n",
       "    <tr>\n",
       "      <th>11</th>\n",
       "      <td>125 hunter max sundown</td>\n",
       "      <td>XXX</td>\n",
       "      <td>SUNDOWN MAX</td>\n",
       "      <td>SUNDOWN HUNTER</td>\n",
       "      <td>['SUNDOWN MAX', 'SUNDOWN HUNTER']</td>\n",
       "    </tr>\n",
       "    <tr>\n",
       "      <th>103</th>\n",
       "      <td>200 cbx honda xr</td>\n",
       "      <td>XXX</td>\n",
       "      <td>HONDA XR</td>\n",
       "      <td>HONDA STRADA CBX 200</td>\n",
       "      <td>['HONDA XR', 'HONDA STRADA CBX 200']</td>\n",
       "    </tr>\n",
       "    <tr>\n",
       "      <th>124</th>\n",
       "      <td>150 fazer sm yamaha</td>\n",
       "      <td>XXX</td>\n",
       "      <td>HUSQVARNA SM</td>\n",
       "      <td>YAMAHA FAZER YS150 150</td>\n",
       "      <td>['HUSQVARNA SM', 'YAMAHA FAZER YS150 150']</td>\n",
       "    </tr>\n",
       "    <tr>\n",
       "      <th>282</th>\n",
       "      <td>125 hunter max sundown</td>\n",
       "      <td>XXX</td>\n",
       "      <td>SUNDOWN MAX</td>\n",
       "      <td>SUNDOWN HUNTER</td>\n",
       "      <td>['SUNDOWN MAX', 'SUNDOWN HUNTER']</td>\n",
       "    </tr>\n",
       "    <tr>\n",
       "      <th>304</th>\n",
       "      <td>125 hunter max sundown</td>\n",
       "      <td>XXX</td>\n",
       "      <td>SUNDOWN MAX</td>\n",
       "      <td>SUNDOWN HUNTER</td>\n",
       "      <td>['SUNDOWN MAX', 'SUNDOWN HUNTER']</td>\n",
       "    </tr>\n",
       "  </tbody>\n",
       "</table>\n",
       "</div>"
      ],
      "text/plain": [
       "                     Modelo APLICACAO  APLICACAOSVC            APLICACAOMNB  \\\n",
       "11   125 hunter max sundown       XXX   SUNDOWN MAX          SUNDOWN HUNTER   \n",
       "103        200 cbx honda xr       XXX      HONDA XR    HONDA STRADA CBX 200   \n",
       "124     150 fazer sm yamaha       XXX  HUSQVARNA SM  YAMAHA FAZER YS150 150   \n",
       "282  125 hunter max sundown       XXX   SUNDOWN MAX          SUNDOWN HUNTER   \n",
       "304  125 hunter max sundown       XXX   SUNDOWN MAX          SUNDOWN HUNTER   \n",
       "\n",
       "                                   APLICACAOFIM  \n",
       "11            ['SUNDOWN MAX', 'SUNDOWN HUNTER']  \n",
       "103        ['HONDA XR', 'HONDA STRADA CBX 200']  \n",
       "124  ['HUSQVARNA SM', 'YAMAHA FAZER YS150 150']  \n",
       "282           ['SUNDOWN MAX', 'SUNDOWN HUNTER']  \n",
       "304           ['SUNDOWN MAX', 'SUNDOWN HUNTER']  "
      ]
     },
     "execution_count": 47,
     "metadata": {},
     "output_type": "execute_result"
    }
   ],
   "source": [
    "df[filtro].iloc[:,-5:].head()"
   ]
  },
  {
   "cell_type": "code",
   "execution_count": 48,
   "metadata": {},
   "outputs": [
    {
     "data": {
      "text/plain": [
       "(162, 9)"
      ]
     },
     "execution_count": 48,
     "metadata": {},
     "output_type": "execute_result"
    }
   ],
   "source": [
    "df[filtro].shape"
   ]
  },
  {
   "cell_type": "markdown",
   "metadata": {},
   "source": [
    "#### Classificando pela quantidade de termos em comum"
   ]
  },
  {
   "cell_type": "code",
   "execution_count": 49,
   "metadata": {},
   "outputs": [],
   "source": [
    "# determina o(s) índice(s) do valor máximo de uma lista\n",
    "def indicesMaxLista(lista):\n",
    "    maximo=max(lista)\n",
    "    indices=[]\n",
    "    for i, elemento in enumerate(lista):\n",
    "        if elemento==maximo:\n",
    "            indices.append(i)\n",
    "    return indices"
   ]
  },
  {
   "cell_type": "code",
   "execution_count": 50,
   "metadata": {},
   "outputs": [],
   "source": [
    "colindex = df.columns.get_loc(\"APLICACAOFIM\") # índice da coluna\n",
    "for i, row in df[filtro].iterrows(): #para cada linha do dataset\n",
    "    qtds=[]\n",
    "    aplicMOD=row['Modelo'].upper().split()\n",
    "    aplicFIM=row['APLICACAOFIM'].replace(\"[\",\"\").replace(\", \",\";\").replace(\",\",\";\").replace(\"'\",\"\").replace(\"]\",\"\").split(';')\n",
    "    for a, aplicacao in enumerate(aplicFIM):\n",
    "        aplicFIMlista=aplicacao.split()\n",
    "        qtds.append(len(set(aplicFIMlista).intersection(set(aplicMOD)))) # determinar len da interseção                    \n",
    "    indicesMax = indicesMaxLista(qtds)\n",
    "    if len(indicesMax)==1:\n",
    "        df.iloc[i,colindex]=aplicFIM[indicesMax[0]]\n",
    "    else:\n",
    "        df.iloc[i,colindex]=str([aplicFIM[x] for x in indicesMax])"
   ]
  },
  {
   "cell_type": "code",
   "execution_count": 51,
   "metadata": {},
   "outputs": [],
   "source": [
    "# Registros ainda não definidos (lista de opções)\n",
    "# O filtro definirá True se APLICACAOFIM iniciar com '[' ou False caso contrário.\n",
    "filtro=[]\n",
    "for i, aplicacao in enumerate(df['APLICACAOFIM']):\n",
    "    if aplicacao[0]=='[':\n",
    "        filtro.append(True)\n",
    "    else:\n",
    "        filtro.append(False)"
   ]
  },
  {
   "cell_type": "code",
   "execution_count": 52,
   "metadata": {},
   "outputs": [
    {
     "name": "stdout",
     "output_type": "stream",
     "text": [
      "Registros a classificar: 67\n"
     ]
    }
   ],
   "source": [
    "print(f'Registros a classificar: {df[filtro].shape[0]}')"
   ]
  },
  {
   "cell_type": "markdown",
   "metadata": {},
   "source": [
    "Precisamos agora fazer a observação manual dos registros divergentes para correção.<br>\n",
    "A seguir, exportaremos o arquivo em excel para fazer a classificação manual em outro notebook."
   ]
  },
  {
   "cell_type": "markdown",
   "metadata": {
    "colab_type": "text",
    "id": "Xya6qHGUuIGL"
   },
   "source": [
    "## Exportando o DataSet para classificação \"manual\""
   ]
  },
  {
   "cell_type": "markdown",
   "metadata": {},
   "source": [
    "Exportando para um arquivo CSV"
   ]
  },
  {
   "cell_type": "code",
   "execution_count": 53,
   "metadata": {},
   "outputs": [],
   "source": [
    "df.to_csv(r'./bases/dataframe_modelos_classificado_manual-tf.csv', index = False, header = True)"
   ]
  },
  {
   "cell_type": "markdown",
   "metadata": {},
   "source": [
    "Exportando para um arquivo de planilha do Excel"
   ]
  },
  {
   "cell_type": "code",
   "execution_count": 54,
   "metadata": {},
   "outputs": [],
   "source": [
    "df.to_excel(r'./bases/dataframe_modelos_classificado_manual-tf.xlsx', index = False, header = True)"
   ]
  },
  {
   "cell_type": "code",
   "execution_count": 55,
   "metadata": {},
   "outputs": [
    {
     "name": "stdout",
     "output_type": "stream",
     "text": [
      "Tempo total de execução: 2.17 minutos.\n"
     ]
    }
   ],
   "source": [
    "tempotot=time.time()-initot\n",
    "if tempotot>60:\n",
    "    print(f'Tempo total de execução: {tempotot/60:.2f} minutos.')\n",
    "else:\n",
    "    print(f'Tempo total de execução: {tempotot:.2f} segundos.')"
   ]
  }
 ],
 "metadata": {
  "colab": {
   "collapsed_sections": [],
   "name": "NLP com scikit-learn.ipynb",
   "provenance": [],
   "toc_visible": true
  },
  "kernelspec": {
   "display_name": "Python 3",
   "language": "python",
   "name": "python3"
  },
  "language_info": {
   "codemirror_mode": {
    "name": "ipython",
    "version": 3
   },
   "file_extension": ".py",
   "mimetype": "text/x-python",
   "name": "python",
   "nbconvert_exporter": "python",
   "pygments_lexer": "ipython3",
   "version": "3.7.3"
  },
  "toc": {
   "base_numbering": 1,
   "nav_menu": {},
   "number_sections": false,
   "sideBar": false,
   "skip_h1_title": false,
   "title_cell": "Sumário",
   "title_sidebar": "Sumário",
   "toc_cell": false,
   "toc_position": {},
   "toc_section_display": true,
   "toc_window_display": false
  }
 },
 "nbformat": 4,
 "nbformat_minor": 1
}
