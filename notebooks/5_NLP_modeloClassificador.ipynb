{
 "cells": [
  {
   "cell_type": "markdown",
   "metadata": {
    "colab_type": "text",
    "id": "t9eSPPRmUEby"
   },
   "source": [
    "# _Notebook Jupyter_ 5_NLP_modeloClassificador"
   ]
  },
  {
   "cell_type": "markdown",
   "metadata": {
    "colab_type": "text",
    "id": "t9eSPPRmUEby"
   },
   "source": [
    "# Classificação da Aplicação por aprendizado de máquina"
   ]
  },
  {
   "cell_type": "markdown",
   "metadata": {
    "colab_type": "text",
    "id": "4eakEWy_62vS"
   },
   "source": [
    "## Importando bibliotecas"
   ]
  },
  {
   "cell_type": "code",
   "execution_count": 1,
   "metadata": {
    "colab": {
     "base_uri": "https://localhost:8080/",
     "height": 85
    },
    "colab_type": "code",
    "id": "F5Tc6cI9Kvpj",
    "outputId": "88b2ba16-8163-4ea6-e5d2-1ea968cb51da"
   },
   "outputs": [],
   "source": [
    "import pandas as pd, numpy as np, time\n",
    "from nltk.corpus import stopwords\n",
    "from sklearn.feature_extraction.text import CountVectorizer, TfidfTransformer\n",
    "from sklearn.svm import LinearSVC\n",
    "from sklearn.naive_bayes import MultinomialNB\n",
    "from sklearn.linear_model import LogisticRegression"
   ]
  },
  {
   "cell_type": "code",
   "execution_count": 2,
   "metadata": {},
   "outputs": [
    {
     "name": "stdout",
     "output_type": "stream",
     "text": [
      "Código executado em 11/01/2022 às 14:26\n"
     ]
    }
   ],
   "source": [
    "# Data e hora da execução do script\n",
    "print(f'Código executado em {time.strftime(\"%d/%m/%Y às %H:%M\", time.localtime(time.time()))}')"
   ]
  },
  {
   "cell_type": "markdown",
   "metadata": {},
   "source": [
    "### Importando a lista de Aplicações"
   ]
  },
  {
   "cell_type": "code",
   "execution_count": 3,
   "metadata": {},
   "outputs": [],
   "source": [
    "df_aplicacoes = pd.read_csv(r'./bases/Aplicacoes.csv')"
   ]
  },
  {
   "cell_type": "code",
   "execution_count": 4,
   "metadata": {},
   "outputs": [
    {
     "data": {
      "text/html": [
       "<div>\n",
       "<style scoped>\n",
       "    .dataframe tbody tr th:only-of-type {\n",
       "        vertical-align: middle;\n",
       "    }\n",
       "\n",
       "    .dataframe tbody tr th {\n",
       "        vertical-align: top;\n",
       "    }\n",
       "\n",
       "    .dataframe thead th {\n",
       "        text-align: right;\n",
       "    }\n",
       "</style>\n",
       "<table border=\"1\" class=\"dataframe\">\n",
       "  <thead>\n",
       "    <tr style=\"text-align: right;\">\n",
       "      <th></th>\n",
       "      <th>APLICACOES</th>\n",
       "    </tr>\n",
       "  </thead>\n",
       "  <tbody>\n",
       "    <tr>\n",
       "      <th>0</th>\n",
       "      <td>ACELLERA ACX 250F 250</td>\n",
       "    </tr>\n",
       "    <tr>\n",
       "      <th>1</th>\n",
       "      <td>ACELLERA FRONTLANDER 500</td>\n",
       "    </tr>\n",
       "  </tbody>\n",
       "</table>\n",
       "</div>"
      ],
      "text/plain": [
       "                 APLICACOES\n",
       "0     ACELLERA ACX 250F 250\n",
       "1  ACELLERA FRONTLANDER 500"
      ]
     },
     "execution_count": 4,
     "metadata": {},
     "output_type": "execute_result"
    }
   ],
   "source": [
    "df_aplicacoes.head(2)"
   ]
  },
  {
   "cell_type": "code",
   "execution_count": 5,
   "metadata": {},
   "outputs": [
    {
     "data": {
      "text/html": [
       "<div>\n",
       "<style scoped>\n",
       "    .dataframe tbody tr th:only-of-type {\n",
       "        vertical-align: middle;\n",
       "    }\n",
       "\n",
       "    .dataframe tbody tr th {\n",
       "        vertical-align: top;\n",
       "    }\n",
       "\n",
       "    .dataframe thead th {\n",
       "        text-align: right;\n",
       "    }\n",
       "</style>\n",
       "<table border=\"1\" class=\"dataframe\">\n",
       "  <thead>\n",
       "    <tr style=\"text-align: right;\">\n",
       "      <th></th>\n",
       "      <th>APLICACOES</th>\n",
       "    </tr>\n",
       "  </thead>\n",
       "  <tbody>\n",
       "    <tr>\n",
       "      <th>859</th>\n",
       "      <td>ZONGSHEN ZS 125</td>\n",
       "    </tr>\n",
       "    <tr>\n",
       "      <th>860</th>\n",
       "      <td>ZONGSHEN ZS 200</td>\n",
       "    </tr>\n",
       "  </tbody>\n",
       "</table>\n",
       "</div>"
      ],
      "text/plain": [
       "          APLICACOES\n",
       "859  ZONGSHEN ZS 125\n",
       "860  ZONGSHEN ZS 200"
      ]
     },
     "execution_count": 5,
     "metadata": {},
     "output_type": "execute_result"
    }
   ],
   "source": [
    "df_aplicacoes.tail(2)"
   ]
  },
  {
   "cell_type": "code",
   "execution_count": 6,
   "metadata": {},
   "outputs": [
    {
     "data": {
      "text/plain": [
       "(861, 1)"
      ]
     },
     "execution_count": 6,
     "metadata": {},
     "output_type": "execute_result"
    }
   ],
   "source": [
    "df_aplicacoes.shape"
   ]
  },
  {
   "cell_type": "markdown",
   "metadata": {
    "colab_type": "text",
    "id": "2q5MuAkA7U68"
   },
   "source": [
    "## CountVectorizer"
   ]
  },
  {
   "cell_type": "markdown",
   "metadata": {},
   "source": [
    "### CountVectorizer do DataSet das Aplicaçãoes"
   ]
  },
  {
   "cell_type": "code",
   "execution_count": 7,
   "metadata": {},
   "outputs": [],
   "source": [
    "# Criação da função CountVectorizer\n",
    "cvta = CountVectorizer(strip_accents='ascii', lowercase=True)"
   ]
  },
  {
   "cell_type": "code",
   "execution_count": 8,
   "metadata": {},
   "outputs": [],
   "source": [
    "X_cvta = cvta.fit_transform(df_aplicacoes['APLICACOES'])"
   ]
  },
  {
   "cell_type": "code",
   "execution_count": 9,
   "metadata": {},
   "outputs": [],
   "source": [
    "# Criação da função TfidfTransformer\n",
    "tfia = TfidfTransformer(use_idf=True)"
   ]
  },
  {
   "cell_type": "code",
   "execution_count": 10,
   "metadata": {},
   "outputs": [],
   "source": [
    "X_tfia = tfia.fit_transform(X_cvta)"
   ]
  },
  {
   "cell_type": "markdown",
   "metadata": {},
   "source": [
    "## Treinando os Modelos com o DataSet Aplicações"
   ]
  },
  {
   "cell_type": "markdown",
   "metadata": {
    "colab_type": "text",
    "id": "-GuR9sOdt-rR"
   },
   "source": [
    "### Definindo os parâmetros"
   ]
  },
  {
   "cell_type": "markdown",
   "metadata": {},
   "source": [
    "Utilizaremos toda a base no treinamento, pois a intenção é criar uma função de classificação para um dataset onde a classificação é inexistente."
   ]
  },
  {
   "cell_type": "code",
   "execution_count": 11,
   "metadata": {},
   "outputs": [],
   "source": [
    "X_train=X_tfia.toarray()\n",
    "y_train=np.array(df_aplicacoes['APLICACOES'])\n",
    "y_train1=df_aplicacoes['APLICACOES'].index.to_numpy()"
   ]
  },
  {
   "cell_type": "markdown",
   "metadata": {
    "colab_type": "text",
    "id": "-GuR9sOdt-rR"
   },
   "source": [
    "### Modelo LinearSVC"
   ]
  },
  {
   "cell_type": "code",
   "execution_count": 12,
   "metadata": {
    "colab": {
     "base_uri": "https://localhost:8080/",
     "height": 85
    },
    "colab_type": "code",
    "id": "3sKGFVOeb7A9",
    "outputId": "181cf909-9e02-44ff-a905-813948e8c6d0"
   },
   "outputs": [
    {
     "data": {
      "text/plain": [
       "LinearSVC(C=1.0, class_weight=None, dual=True, fit_intercept=True,\n",
       "     intercept_scaling=1, loss='squared_hinge', max_iter=1000,\n",
       "     multi_class='ovr', penalty='l2', random_state=None, tol=0.0001,\n",
       "     verbose=0)"
      ]
     },
     "execution_count": 12,
     "metadata": {},
     "output_type": "execute_result"
    }
   ],
   "source": [
    "# Criando modelo\n",
    "clfsvc = LinearSVC()\n",
    "# Treinamento do modelo\n",
    "clfsvc.fit(X_tfia, y_train)"
   ]
  },
  {
   "cell_type": "markdown",
   "metadata": {},
   "source": [
    "#### Função de classificação LinearSVC"
   ]
  },
  {
   "cell_type": "markdown",
   "metadata": {
    "colab_type": "text",
    "id": "glPX-gZyuLwr"
   },
   "source": [
    "A função para utilização do modelo, recebe a descrição filtrada Modelo e retorna a aplicação.\n"
   ]
  },
  {
   "cell_type": "code",
   "execution_count": 13,
   "metadata": {
    "colab": {},
    "colab_type": "code",
    "id": "sbEB0-E5dwlc"
   },
   "outputs": [],
   "source": [
    "def classificaAplicacaoSVC(modelo):\n",
    "    novo_cvta = cvta.transform(pd.Series(modelo))\n",
    "    novo_tfia = tfia.transform(novo_cvta)\n",
    "    aplicacao = clfsvc.predict(novo_tfia)[0]\n",
    "    return aplicacao"
   ]
  },
  {
   "cell_type": "markdown",
   "metadata": {},
   "source": [
    "No final o nosso resultado mostrando (Modelo: descrição filtrada para o modelo e Aplicação: aplicação prevista).<br>"
   ]
  },
  {
   "cell_type": "code",
   "execution_count": 14,
   "metadata": {
    "colab_type": "text",
    "id": "e3QxsHVfuQip",
    "scrolled": false
   },
   "outputs": [
    {
     "name": "stdout",
     "output_type": "stream",
     "text": [
      "Modelo: 150 CG HONDA TITAN  Aplicação: HONDA CG TIT TITAN 125 150 160\n",
      "Modelo: 125 CARGO CG HONDA TITAN  Aplicação: HONDA CG TIT TITAN 125 150 160\n",
      "Modelo: BIZ C100 HONDA  Aplicação: HONDA BIZ 100 C100 125 C125\n",
      "Modelo: 100 HONDA BIZ  Aplicação: HONDA BIZ 100 C100 125 C125\n",
      "Modelo: 100 BIZ BRAVO HONDA  Aplicação: SHINERAY BRAVO 200\n",
      "Modelo: 125 YBR GT YAMAHA  Aplicação: SUZUKI GT\n",
      "Modelo: 250F TWISTER HONDA  Aplicação: HONDA TWISTER CBX 250\n"
     ]
    }
   ],
   "source": [
    "# Lista de exemplos de novos produtos\n",
    "modelos = ['150 CG HONDA TITAN',\n",
    "           '125 CARGO CG HONDA TITAN',\n",
    "           'BIZ C100 HONDA',\n",
    "           '100 HONDA BIZ',\n",
    "           '100 BIZ BRAVO HONDA',\n",
    "           '125 YBR GT YAMAHA',\n",
    "           '250F TWISTER HONDA']\n",
    "# Loop for para fazer a predição do departamento de novos produtos\n",
    "for modelo in modelos:\n",
    "  print('Modelo:', modelo, ' Aplicação:', classificaAplicacaoSVC(modelo))"
   ]
  },
  {
   "cell_type": "markdown",
   "metadata": {
    "colab_type": "text",
    "id": "-GuR9sOdt-rR"
   },
   "source": [
    "### Modelo Multinomial Naive Bayes"
   ]
  },
  {
   "cell_type": "code",
   "execution_count": 15,
   "metadata": {
    "colab": {
     "base_uri": "https://localhost:8080/",
     "height": 85
    },
    "colab_type": "code",
    "id": "3sKGFVOeb7A9",
    "outputId": "181cf909-9e02-44ff-a905-813948e8c6d0"
   },
   "outputs": [
    {
     "data": {
      "text/plain": [
       "MultinomialNB(alpha=1.0, class_prior=None, fit_prior=True)"
      ]
     },
     "execution_count": 15,
     "metadata": {},
     "output_type": "execute_result"
    }
   ],
   "source": [
    "# Criando modelo\n",
    "clfmnb = MultinomialNB()\n",
    "# Treinamento do modelo\n",
    "clfmnb.fit(X_train, y_train1)"
   ]
  },
  {
   "cell_type": "markdown",
   "metadata": {},
   "source": [
    "#### Função de classificação"
   ]
  },
  {
   "cell_type": "markdown",
   "metadata": {
    "colab_type": "text",
    "id": "glPX-gZyuLwr"
   },
   "source": [
    "A função para utilização do modelo, recebe a descrição filtrada Modelo e retorna a aplicação.\n"
   ]
  },
  {
   "cell_type": "code",
   "execution_count": 16,
   "metadata": {
    "colab": {},
    "colab_type": "code",
    "id": "sbEB0-E5dwlc"
   },
   "outputs": [],
   "source": [
    "def classificaAplicacaoMNB(modelo):\n",
    "    novo_cvta = cvta.transform(pd.Series(modelo))\n",
    "    novo_tfia = tfia.transform(novo_cvta)\n",
    "    aplicacao = df_aplicacoes['APLICACOES'][clfmnb.predict(novo_tfia)[0]]\n",
    "    return aplicacao"
   ]
  },
  {
   "cell_type": "markdown",
   "metadata": {},
   "source": [
    "No final o nosso resultado mostrando (Modelo: descrição filtrada para o modelo e Aplicação: aplicação prevista).<br>"
   ]
  },
  {
   "cell_type": "code",
   "execution_count": 17,
   "metadata": {
    "colab_type": "text",
    "id": "e3QxsHVfuQip",
    "scrolled": false
   },
   "outputs": [
    {
     "name": "stdout",
     "output_type": "stream",
     "text": [
      "Modelo: 150 CG FAN HONDA TITAN Aplicação: HONDA CG FAN\n",
      "Modelo: 125 CARGO CG HONDA TITAN Aplicação: HONDA CG TIT TITAN 125 150 160\n",
      "Modelo: BIZ C100 HONDA Aplicação: HONDA BIZ 100 C100 125 C125\n",
      "Modelo: 100 HONDA BIZ Aplicação: HONDA BIZ 100 C100 125 C125\n",
      "Modelo: 100 BIZ BRAVO HONDA Aplicação: HONDA BIZ 100 C100 125 C125\n",
      "Modelo: 125 YBR GT YAMAHA Aplicação: YAMAHA FACTOR YBR 125 YBR125\n",
      "Modelo: 250F TWISTER HONDA Aplicação: HONDA TWISTER CBX 250\n"
     ]
    }
   ],
   "source": [
    "# Lista de exemplos de novos produtos\n",
    "modelos = ['150 CG FAN HONDA TITAN',\n",
    "           '125 CARGO CG HONDA TITAN',\n",
    "           'BIZ C100 HONDA',\n",
    "           '100 HONDA BIZ',\n",
    "           '100 BIZ BRAVO HONDA',\n",
    "           '125 YBR GT YAMAHA',\n",
    "           '250F TWISTER HONDA']\n",
    "# Loop for para fazer a predição do departamento de novos produtos\n",
    "for modelo in modelos:\n",
    "  print('Modelo:', modelo, 'Aplicação:', classificaAplicacaoMNB(modelo))"
   ]
  },
  {
   "cell_type": "markdown",
   "metadata": {
    "colab_type": "text",
    "id": "-GuR9sOdt-rR"
   },
   "source": [
    "### Modelo de Regressão Logística"
   ]
  },
  {
   "cell_type": "code",
   "execution_count": 18,
   "metadata": {
    "colab": {
     "base_uri": "https://localhost:8080/",
     "height": 85
    },
    "colab_type": "code",
    "id": "3sKGFVOeb7A9",
    "outputId": "181cf909-9e02-44ff-a905-813948e8c6d0"
   },
   "outputs": [
    {
     "data": {
      "text/plain": [
       "LogisticRegression(C=1.0, class_weight=None, dual=False, fit_intercept=True,\n",
       "          intercept_scaling=1, max_iter=100, multi_class='multinomial',\n",
       "          n_jobs=None, penalty='l2', random_state=None, solver='lbfgs',\n",
       "          tol=0.0001, verbose=0, warm_start=False)"
      ]
     },
     "execution_count": 18,
     "metadata": {},
     "output_type": "execute_result"
    }
   ],
   "source": [
    "# Criando modelo\n",
    "clflgr = LogisticRegression(solver='lbfgs',multi_class='multinomial')\n",
    "# Treinamento do modelo\n",
    "clflgr.fit(X_train, y_train)"
   ]
  },
  {
   "cell_type": "markdown",
   "metadata": {},
   "source": [
    "#### Função de classificação"
   ]
  },
  {
   "cell_type": "markdown",
   "metadata": {
    "colab_type": "text",
    "id": "glPX-gZyuLwr"
   },
   "source": [
    "A função para utilização do modelo, recebe a descrição filtrada Modelo e retorna a aplicação.\n"
   ]
  },
  {
   "cell_type": "code",
   "execution_count": 19,
   "metadata": {
    "colab": {},
    "colab_type": "code",
    "id": "sbEB0-E5dwlc"
   },
   "outputs": [],
   "source": [
    "def classificaAplicacaoLGR(modelo):\n",
    "    novo_cvt = cvta.transform(pd.Series(modelo))\n",
    "    novo_tfi = tfia.transform(novo_cvt)\n",
    "    aplicacao = clflgr.predict(novo_tfi)[0]\n",
    "    return aplicacao"
   ]
  },
  {
   "cell_type": "markdown",
   "metadata": {},
   "source": [
    "No final o nosso resultado mostrando (Modelo: descrição filtrada para o modelo e Aplicação: aplicação prevista).<br>"
   ]
  },
  {
   "cell_type": "code",
   "execution_count": 20,
   "metadata": {
    "colab_type": "text",
    "id": "e3QxsHVfuQip",
    "scrolled": false
   },
   "outputs": [
    {
     "name": "stdout",
     "output_type": "stream",
     "text": [
      "Modelo: 150 CG FAN HONDA TITAN Aplicação: HONDA CG FAN\n",
      "Modelo: 125 CARGO CG HONDA TITAN Aplicação: LIFAN LF125\n",
      "Modelo: BIZ C100 HONDA Aplicação: HONDA BIZ 100 C100 125 C125\n",
      "Modelo: 100 HONDA BIZ Aplicação: LIFAN LF125\n",
      "Modelo: 100 BIZ BRAVO HONDA Aplicação: LIFAN LF125\n",
      "Modelo: 125 YBR GT YAMAHA Aplicação: LIFAN LF125\n",
      "Modelo: 250F TWISTER HONDA Aplicação: LIFAN LF125\n"
     ]
    }
   ],
   "source": [
    "# Lista de exemplos de novos produtos\n",
    "modelos = ['150 CG FAN HONDA TITAN',\n",
    "           '125 CARGO CG HONDA TITAN',\n",
    "           'BIZ C100 HONDA',\n",
    "           '100 HONDA BIZ',\n",
    "           '100 BIZ BRAVO HONDA',\n",
    "           '125 YBR GT YAMAHA',\n",
    "           '250F TWISTER HONDA']\n",
    "# Loop for para fazer a predição do departamento de novos produtos\n",
    "for modelo in modelos:\n",
    "    print('Modelo:', modelo, 'Aplicação:', classificaAplicacaoLGR(modelo))"
   ]
  },
  {
   "cell_type": "markdown",
   "metadata": {
    "colab_type": "text",
    "id": "Xya6qHGUuIGL"
   },
   "source": [
    "## Utilização do modelo"
   ]
  },
  {
   "cell_type": "markdown",
   "metadata": {
    "colab_type": "text",
    "id": "_-re6wFx668E"
   },
   "source": [
    "### Carregando dataset"
   ]
  },
  {
   "cell_type": "code",
   "execution_count": 21,
   "metadata": {},
   "outputs": [
    {
     "data": {
      "text/html": [
       "<div>\n",
       "<style scoped>\n",
       "    .dataframe tbody tr th:only-of-type {\n",
       "        vertical-align: middle;\n",
       "    }\n",
       "\n",
       "    .dataframe tbody tr th {\n",
       "        vertical-align: top;\n",
       "    }\n",
       "\n",
       "    .dataframe thead th {\n",
       "        text-align: right;\n",
       "    }\n",
       "</style>\n",
       "<table border=\"1\" class=\"dataframe\">\n",
       "  <thead>\n",
       "    <tr style=\"text-align: right;\">\n",
       "      <th></th>\n",
       "      <th>Modelo</th>\n",
       "      <th>APLICACAO</th>\n",
       "    </tr>\n",
       "  </thead>\n",
       "  <tbody>\n",
       "    <tr>\n",
       "      <th>0</th>\n",
       "      <td>HONDA CG 150 TIT AN TITAN FAN</td>\n",
       "      <td>HONDA CG TIT TITAN 125 150 160</td>\n",
       "    </tr>\n",
       "    <tr>\n",
       "      <th>1</th>\n",
       "      <td>CG HONDA TIT AN 125 CARGO TITAN</td>\n",
       "      <td>HONDA CG TIT TITAN 125 150 160</td>\n",
       "    </tr>\n",
       "    <tr>\n",
       "      <th>2</th>\n",
       "      <td>HONDA 125 CG FAN</td>\n",
       "      <td>HONDA CG FAN</td>\n",
       "    </tr>\n",
       "    <tr>\n",
       "      <th>3</th>\n",
       "      <td>HONDA BIZ C100</td>\n",
       "      <td>HONDA BIZ 100 C100 125 C125</td>\n",
       "    </tr>\n",
       "    <tr>\n",
       "      <th>4</th>\n",
       "      <td>MIRAGE 150</td>\n",
       "      <td>KASINSKI MIRAGE 150 250</td>\n",
       "    </tr>\n",
       "  </tbody>\n",
       "</table>\n",
       "</div>"
      ],
      "text/plain": [
       "                            Modelo                       APLICACAO\n",
       "0    HONDA CG 150 TIT AN TITAN FAN  HONDA CG TIT TITAN 125 150 160\n",
       "1  CG HONDA TIT AN 125 CARGO TITAN  HONDA CG TIT TITAN 125 150 160\n",
       "2                 HONDA 125 CG FAN                    HONDA CG FAN\n",
       "3                   HONDA BIZ C100     HONDA BIZ 100 C100 125 C125\n",
       "4                       MIRAGE 150         KASINSKI MIRAGE 150 250"
      ]
     },
     "execution_count": 21,
     "metadata": {},
     "output_type": "execute_result"
    }
   ],
   "source": [
    "# Importa base de dados com os modelos já determinados para um dataframe\n",
    "df = pd.read_excel(r'./bases/dataframe_modelos_class0.xlsx')\n",
    "df.iloc[:,-2:].head()"
   ]
  },
  {
   "cell_type": "code",
   "execution_count": 22,
   "metadata": {},
   "outputs": [
    {
     "data": {
      "text/plain": [
       "(18237, 28)"
      ]
     },
     "execution_count": 22,
     "metadata": {},
     "output_type": "execute_result"
    }
   ],
   "source": [
    "# Verifica o tamnanho do dataframe\n",
    "df.shape"
   ]
  },
  {
   "cell_type": "markdown",
   "metadata": {},
   "source": [
    "### Classificando os modelos do DataSet"
   ]
  },
  {
   "cell_type": "code",
   "execution_count": 23,
   "metadata": {},
   "outputs": [
    {
     "name": "stdout",
     "output_type": "stream",
     "text": [
      "Hora de início:14:26:16\n",
      "Hora de término:14:26:24\n",
      "Tempo decorrido: 8.6 segundos.\n"
     ]
    }
   ],
   "source": [
    "# Modelo Linear SVC\n",
    "ini=time.time()\n",
    "now = time.strftime(\"%H:%M:%S\", time.localtime(time.time()))\n",
    "print(\"Hora de início:\" + now)\n",
    "\n",
    "df['APLICACAOSVC']=df['Modelo'].apply(classificaAplicacaoSVC)\n",
    "\n",
    "now = time.strftime(\"%H:%M:%S\", time.localtime(time.time()))\n",
    "fim=time.time()\n",
    "print(\"Hora de término:\" + str(now))\n",
    "print(\"Tempo decorrido: \" + str(round((fim-ini),1)) + \" segundos.\")"
   ]
  },
  {
   "cell_type": "code",
   "execution_count": 24,
   "metadata": {},
   "outputs": [
    {
     "name": "stdout",
     "output_type": "stream",
     "text": [
      "Hora de início:14:26\n",
      "Hora de término:14:27\n",
      "Tempo decorrido: 58.1 segundos.\n"
     ]
    }
   ],
   "source": [
    "# Modelo Multinomial NB\n",
    "ini=time.time()\n",
    "now = time.strftime(\"%H:%M\", time.localtime(time.time()))\n",
    "print(\"Hora de início:\" + now)\n",
    "\n",
    "df['APLICACAOMNB']=df['Modelo'].apply(classificaAplicacaoMNB)\n",
    "\n",
    "now = time.strftime(\"%H:%M\", time.localtime(time.time()))\n",
    "fim=time.time()\n",
    "print(\"Hora de término:\" + str(now))\n",
    "print(\"Tempo decorrido: \" + str(round((fim-ini),1)) + \" segundos.\")"
   ]
  },
  {
   "cell_type": "code",
   "execution_count": 25,
   "metadata": {},
   "outputs": [
    {
     "name": "stdout",
     "output_type": "stream",
     "text": [
      "Hora de início:14:27\n",
      "Hora de término:14:28\n",
      "Tempo decorrido: 71.8 segundos.\n"
     ]
    }
   ],
   "source": [
    "# Modelo Regressão Logística\n",
    "ini=time.time()\n",
    "now = time.strftime(\"%H:%M\", time.localtime(time.time()))\n",
    "print(\"Hora de início:\" + now)\n",
    "\n",
    "df['APLICACAOLGR']=df['Modelo'].apply(classificaAplicacaoLGR)\n",
    "\n",
    "now = time.strftime(\"%H:%M\", time.localtime(time.time()))\n",
    "fim=time.time()\n",
    "print(\"Hora de término:\" + str(now))\n",
    "print(\"Tempo decorrido: \" + str(round((fim-ini),1)) + \" segundos.\")"
   ]
  },
  {
   "cell_type": "code",
   "execution_count": 26,
   "metadata": {},
   "outputs": [
    {
     "data": {
      "text/plain": [
       "(18237, 31)"
      ]
     },
     "execution_count": 26,
     "metadata": {},
     "output_type": "execute_result"
    }
   ],
   "source": [
    "df.shape"
   ]
  },
  {
   "cell_type": "code",
   "execution_count": 27,
   "metadata": {
    "scrolled": false
   },
   "outputs": [
    {
     "data": {
      "text/html": [
       "<div>\n",
       "<style scoped>\n",
       "    .dataframe tbody tr th:only-of-type {\n",
       "        vertical-align: middle;\n",
       "    }\n",
       "\n",
       "    .dataframe tbody tr th {\n",
       "        vertical-align: top;\n",
       "    }\n",
       "\n",
       "    .dataframe thead th {\n",
       "        text-align: right;\n",
       "    }\n",
       "</style>\n",
       "<table border=\"1\" class=\"dataframe\">\n",
       "  <thead>\n",
       "    <tr style=\"text-align: right;\">\n",
       "      <th></th>\n",
       "      <th>DESCRICAO</th>\n",
       "      <th>Modelo</th>\n",
       "      <th>APLICACAO</th>\n",
       "      <th>APLICACAOSVC</th>\n",
       "      <th>APLICACAOMNB</th>\n",
       "      <th>APLICACAOLGR</th>\n",
       "    </tr>\n",
       "  </thead>\n",
       "  <tbody>\n",
       "    <tr>\n",
       "      <th>8146</th>\n",
       "      <td>nxr 150 bros esd evol</td>\n",
       "      <td>HONDA BROS EVO NXR 150</td>\n",
       "      <td>HONDA NXR 150 BROS BROZ</td>\n",
       "      <td>HONDA NXR 150 BROS BROZ</td>\n",
       "      <td>HONDA NXR 150 BROS BROZ</td>\n",
       "      <td>HONDA NXR 150 BROS BROZ</td>\n",
       "    </tr>\n",
       "    <tr>\n",
       "      <th>10700</th>\n",
       "      <td>racing ybr 125 factor</td>\n",
       "      <td>YAMAHA RACING 125 YBR FACTOR</td>\n",
       "      <td>YAMAHA FACTOR YBR 125 YBR125</td>\n",
       "      <td>YAMAHA FACTOR YBR 125 YBR125</td>\n",
       "      <td>YAMAHA FACTOR YBR 125 YBR125</td>\n",
       "      <td>YAMAHA FACTOR YBR 125 YBR125</td>\n",
       "    </tr>\n",
       "    <tr>\n",
       "      <th>13344</th>\n",
       "      <td>nxr 160 bros xre 16</td>\n",
       "      <td>HONDA BROS 160 NXR XRE</td>\n",
       "      <td>HONDA NXR 150 BROS BROZ</td>\n",
       "      <td>HONDA NXR 150 BROS BROZ</td>\n",
       "      <td>HONDA NXR 150 BROS BROZ</td>\n",
       "      <td>LIFAN LF125</td>\n",
       "    </tr>\n",
       "    <tr>\n",
       "      <th>5415</th>\n",
       "      <td>k504b c100 biz gulfair</td>\n",
       "      <td>HONDA BIZ C100</td>\n",
       "      <td>HONDA BIZ 100 C100 125 C125</td>\n",
       "      <td>HONDA BIZ 100 C100 125 C125</td>\n",
       "      <td>HONDA BIZ 100 C100 125 C125</td>\n",
       "      <td>HONDA BIZ 100 C100 125 C125</td>\n",
       "    </tr>\n",
       "    <tr>\n",
       "      <th>479</th>\n",
       "      <td>biz 100</td>\n",
       "      <td>HONDA BIZ 100</td>\n",
       "      <td>HONDA BIZ 100 C100 125 C125</td>\n",
       "      <td>HONDA BIZ 100 C100 125 C125</td>\n",
       "      <td>HONDA BIZ 100 C100 125 C125</td>\n",
       "      <td>LIFAN LF125</td>\n",
       "    </tr>\n",
       "  </tbody>\n",
       "</table>\n",
       "</div>"
      ],
      "text/plain": [
       "                    DESCRICAO                        Modelo  \\\n",
       "8146    nxr 150 bros esd evol        HONDA BROS EVO NXR 150   \n",
       "10700   racing ybr 125 factor  YAMAHA RACING 125 YBR FACTOR   \n",
       "13344     nxr 160 bros xre 16        HONDA BROS 160 NXR XRE   \n",
       "5415   k504b c100 biz gulfair                HONDA BIZ C100   \n",
       "479                   biz 100                 HONDA BIZ 100   \n",
       "\n",
       "                          APLICACAO                  APLICACAOSVC  \\\n",
       "8146        HONDA NXR 150 BROS BROZ       HONDA NXR 150 BROS BROZ   \n",
       "10700  YAMAHA FACTOR YBR 125 YBR125  YAMAHA FACTOR YBR 125 YBR125   \n",
       "13344       HONDA NXR 150 BROS BROZ       HONDA NXR 150 BROS BROZ   \n",
       "5415    HONDA BIZ 100 C100 125 C125   HONDA BIZ 100 C100 125 C125   \n",
       "479     HONDA BIZ 100 C100 125 C125   HONDA BIZ 100 C100 125 C125   \n",
       "\n",
       "                       APLICACAOMNB                  APLICACAOLGR  \n",
       "8146        HONDA NXR 150 BROS BROZ       HONDA NXR 150 BROS BROZ  \n",
       "10700  YAMAHA FACTOR YBR 125 YBR125  YAMAHA FACTOR YBR 125 YBR125  \n",
       "13344       HONDA NXR 150 BROS BROZ                   LIFAN LF125  \n",
       "5415    HONDA BIZ 100 C100 125 C125   HONDA BIZ 100 C100 125 C125  \n",
       "479     HONDA BIZ 100 C100 125 C125                   LIFAN LF125  "
      ]
     },
     "execution_count": 27,
     "metadata": {},
     "output_type": "execute_result"
    }
   ],
   "source": [
    "df.iloc[:,-6:].sample(5)"
   ]
  },
  {
   "cell_type": "markdown",
   "metadata": {},
   "source": [
    "## Comparação das classificações"
   ]
  },
  {
   "cell_type": "code",
   "execution_count": 28,
   "metadata": {},
   "outputs": [
    {
     "data": {
      "text/plain": [
       "(1112, 31)"
      ]
     },
     "execution_count": 28,
     "metadata": {},
     "output_type": "execute_result"
    }
   ],
   "source": [
    "# Quantidade de registros divergentes entre os modelos SVC e Multinomial NB\n",
    "df[df['APLICACAOSVC']!=df['APLICACAOMNB']].shape"
   ]
  },
  {
   "cell_type": "code",
   "execution_count": 29,
   "metadata": {},
   "outputs": [
    {
     "data": {
      "text/plain": [
       "(8132, 31)"
      ]
     },
     "execution_count": 29,
     "metadata": {},
     "output_type": "execute_result"
    }
   ],
   "source": [
    "# Quantidade de registros divergentes entre os modelos SVC e Regressão Logistica\n",
    "df[df['APLICACAOSVC']!=df['APLICACAOLGR']].shape"
   ]
  },
  {
   "cell_type": "code",
   "execution_count": 30,
   "metadata": {},
   "outputs": [
    {
     "data": {
      "text/plain": [
       "(7999, 31)"
      ]
     },
     "execution_count": 30,
     "metadata": {},
     "output_type": "execute_result"
    }
   ],
   "source": [
    "# Quantidade de registros divergentes entre os modelos Multinomial NB e Regressão Logistica\n",
    "df[df['APLICACAOMNB']!=df['APLICACAOLGR']].shape"
   ]
  },
  {
   "cell_type": "code",
   "execution_count": 31,
   "metadata": {},
   "outputs": [
    {
     "data": {
      "text/plain": [
       "(2599, 31)"
      ]
     },
     "execution_count": 31,
     "metadata": {},
     "output_type": "execute_result"
    }
   ],
   "source": [
    "# Quantidade de registros divergentes entre a extração e o modelo SVC\n",
    "df[df['APLICACAO']!=df['APLICACAOSVC']].shape"
   ]
  },
  {
   "cell_type": "code",
   "execution_count": 32,
   "metadata": {},
   "outputs": [
    {
     "data": {
      "text/plain": [
       "(2508, 31)"
      ]
     },
     "execution_count": 32,
     "metadata": {},
     "output_type": "execute_result"
    }
   ],
   "source": [
    "# Quantidade de registros divergentes entre a extração e o modelo Multinomial NB\n",
    "df[df['APLICACAO']!=df['APLICACAOMNB']].shape"
   ]
  },
  {
   "cell_type": "code",
   "execution_count": 33,
   "metadata": {},
   "outputs": [
    {
     "data": {
      "text/plain": [
       "(8741, 31)"
      ]
     },
     "execution_count": 33,
     "metadata": {},
     "output_type": "execute_result"
    }
   ],
   "source": [
    "# Quantidade de registros divergentes entre a extração e o modelo de Regressão Logística\n",
    "df[df['APLICACAO']!=df['APLICACAOLGR']].shape"
   ]
  },
  {
   "cell_type": "markdown",
   "metadata": {},
   "source": [
    "Em virtude do tempo de processamento excessivamente maior e também da enormidade de divergências, decidiu-se por abandonar o uso da modelo de regressão logística."
   ]
  },
  {
   "cell_type": "code",
   "execution_count": 34,
   "metadata": {},
   "outputs": [],
   "source": [
    "df.drop('APLICACAOLGR', axis=1, inplace=True)"
   ]
  },
  {
   "cell_type": "code",
   "execution_count": 35,
   "metadata": {},
   "outputs": [
    {
     "data": {
      "text/html": [
       "<div>\n",
       "<style scoped>\n",
       "    .dataframe tbody tr th:only-of-type {\n",
       "        vertical-align: middle;\n",
       "    }\n",
       "\n",
       "    .dataframe tbody tr th {\n",
       "        vertical-align: top;\n",
       "    }\n",
       "\n",
       "    .dataframe thead th {\n",
       "        text-align: right;\n",
       "    }\n",
       "</style>\n",
       "<table border=\"1\" class=\"dataframe\">\n",
       "  <thead>\n",
       "    <tr style=\"text-align: right;\">\n",
       "      <th></th>\n",
       "      <th>DESCRICAO</th>\n",
       "      <th>Modelo</th>\n",
       "      <th>APLICACAO</th>\n",
       "      <th>APLICACAOSVC</th>\n",
       "      <th>APLICACAOMNB</th>\n",
       "    </tr>\n",
       "  </thead>\n",
       "  <tbody>\n",
       "    <tr>\n",
       "      <th>11</th>\n",
       "      <td>hunter max 125 allen</td>\n",
       "      <td>125 HUNTER MAX</td>\n",
       "      <td>XXX</td>\n",
       "      <td>SUNDOWN HUNTER</td>\n",
       "      <td>HONDA CT 125 HUNTER</td>\n",
       "    </tr>\n",
       "    <tr>\n",
       "      <th>16</th>\n",
       "      <td>xt 250 tenere allen</td>\n",
       "      <td>YAMAHA TENERE XT 250</td>\n",
       "      <td>XXX</td>\n",
       "      <td>YAMAHA XTZ TENERE 250</td>\n",
       "      <td>YAMAHA XT TENERE 660Z 660</td>\n",
       "    </tr>\n",
       "    <tr>\n",
       "      <th>17</th>\n",
       "      <td>yes intruder 125 allen</td>\n",
       "      <td>SUZUKI 125 YES INTRUDER</td>\n",
       "      <td>SUZUKI YES EN 125</td>\n",
       "      <td>SUZUKI INTRUDER</td>\n",
       "      <td>SUZUKI YES EN 125</td>\n",
       "    </tr>\n",
       "    <tr>\n",
       "      <th>22</th>\n",
       "      <td>jet 49cc allen</td>\n",
       "      <td>JET</td>\n",
       "      <td>['SHINERAY JET 125', 'SHINERAY JET 50']</td>\n",
       "      <td>SHINERAY JET 50</td>\n",
       "      <td>SHINERAY JET 125</td>\n",
       "    </tr>\n",
       "    <tr>\n",
       "      <th>42</th>\n",
       "      <td>xtz 250 allen</td>\n",
       "      <td>YAMAHA XTZ 250</td>\n",
       "      <td>['YAMAHA LANDER XTZ 250', 'YAMAHA XTZ TENERE 2...</td>\n",
       "      <td>YAMAHA XTZ 125</td>\n",
       "      <td>YAMAHA XTZ TENERE 250</td>\n",
       "    </tr>\n",
       "  </tbody>\n",
       "</table>\n",
       "</div>"
      ],
      "text/plain": [
       "                 DESCRICAO                   Modelo  \\\n",
       "11    hunter max 125 allen           125 HUNTER MAX   \n",
       "16     xt 250 tenere allen     YAMAHA TENERE XT 250   \n",
       "17  yes intruder 125 allen  SUZUKI 125 YES INTRUDER   \n",
       "22          jet 49cc allen                      JET   \n",
       "42           xtz 250 allen           YAMAHA XTZ 250   \n",
       "\n",
       "                                            APLICACAO           APLICACAOSVC  \\\n",
       "11                                                XXX         SUNDOWN HUNTER   \n",
       "16                                                XXX  YAMAHA XTZ TENERE 250   \n",
       "17                                  SUZUKI YES EN 125        SUZUKI INTRUDER   \n",
       "22            ['SHINERAY JET 125', 'SHINERAY JET 50']        SHINERAY JET 50   \n",
       "42  ['YAMAHA LANDER XTZ 250', 'YAMAHA XTZ TENERE 2...         YAMAHA XTZ 125   \n",
       "\n",
       "                 APLICACAOMNB  \n",
       "11        HONDA CT 125 HUNTER  \n",
       "16  YAMAHA XT TENERE 660Z 660  \n",
       "17          SUZUKI YES EN 125  \n",
       "22           SHINERAY JET 125  \n",
       "42      YAMAHA XTZ TENERE 250  "
      ]
     },
     "execution_count": 35,
     "metadata": {},
     "output_type": "execute_result"
    }
   ],
   "source": [
    "df[df['APLICACAOSVC']!=df['APLICACAOMNB']].iloc[:5,-5:]"
   ]
  },
  {
   "cell_type": "markdown",
   "metadata": {},
   "source": [
    "### Melhorando a classificação"
   ]
  },
  {
   "cell_type": "markdown",
   "metadata": {},
   "source": [
    "Para chegar à classificação final a ser utilizada na função de classificação, utilizaremos algumas regras:<br>\n",
    "1. SE APLICACAOMNB==APLICACAOSVC ==> APLICACAOFIM=APLICACAOSVC\n",
    "2. SE APLICACAOMNB!=APLICACAOSVC\n",
    "  1. SE APLICACAO=='XXX' ==> APLICACAOFIM=[APLICACAOSVC,APLICACAOMNB]\n",
    "  2. SE APLICACAO==APLICACAOSVC ==> APLICACAOFIM=APLICACAOSVC\n",
    "  3. SE APLICACAO==APLICACAOMNB ==> APLICACAOFIM=APLICACAOMNB\n",
    "  4. SE APLICACAO for uma lista:\n",
    "    * SE APLICACAOSVC estiver na lista ==> APLICACAOFIM=APLICACAOSVC\n",
    "    * SE APLICACAOMNB estiver na lista ==> APLICACAOFIM=APLICACAOSMNB\n",
    "    * SENÃO ==> APLICAFIM=LISTA+[APLICACAOSVC,APLICACAOMNB]\n",
    "  5. SE APLICACAO!=APLICACAOSVC!=APLICACAOMNB ==> APLICACAOFIM=[APLICACAO,APLICACAOSVC,APLICACAOMNB]"
   ]
  },
  {
   "cell_type": "code",
   "execution_count": 36,
   "metadata": {},
   "outputs": [
    {
     "data": {
      "text/plain": [
       "(18237, 31)"
      ]
     },
     "execution_count": 36,
     "metadata": {},
     "output_type": "execute_result"
    }
   ],
   "source": [
    "df=df.assign(APLICACAOFIM=df.APLICACAOMNB.tolist())\n",
    "df.shape"
   ]
  },
  {
   "cell_type": "code",
   "execution_count": 37,
   "metadata": {},
   "outputs": [
    {
     "data": {
      "text/html": [
       "<div>\n",
       "<style scoped>\n",
       "    .dataframe tbody tr th:only-of-type {\n",
       "        vertical-align: middle;\n",
       "    }\n",
       "\n",
       "    .dataframe tbody tr th {\n",
       "        vertical-align: top;\n",
       "    }\n",
       "\n",
       "    .dataframe thead th {\n",
       "        text-align: right;\n",
       "    }\n",
       "</style>\n",
       "<table border=\"1\" class=\"dataframe\">\n",
       "  <thead>\n",
       "    <tr style=\"text-align: right;\">\n",
       "      <th></th>\n",
       "      <th>Modelo</th>\n",
       "      <th>APLICACAO</th>\n",
       "      <th>APLICACAOSVC</th>\n",
       "      <th>APLICACAOMNB</th>\n",
       "      <th>APLICACAOFIM</th>\n",
       "    </tr>\n",
       "  </thead>\n",
       "  <tbody>\n",
       "    <tr>\n",
       "      <th>0</th>\n",
       "      <td>HONDA CG 150 TIT AN TITAN FAN</td>\n",
       "      <td>HONDA CG TIT TITAN 125 150 160</td>\n",
       "      <td>HONDA CG TIT TITAN 125 150 160</td>\n",
       "      <td>HONDA CG TIT TITAN 125 150 160</td>\n",
       "      <td>HONDA CG TIT TITAN 125 150 160</td>\n",
       "    </tr>\n",
       "    <tr>\n",
       "      <th>1</th>\n",
       "      <td>CG HONDA TIT AN 125 CARGO TITAN</td>\n",
       "      <td>HONDA CG TIT TITAN 125 150 160</td>\n",
       "      <td>HONDA CG TIT TITAN 125 150 160</td>\n",
       "      <td>HONDA CG TIT TITAN 125 150 160</td>\n",
       "      <td>HONDA CG TIT TITAN 125 150 160</td>\n",
       "    </tr>\n",
       "    <tr>\n",
       "      <th>2</th>\n",
       "      <td>HONDA 125 CG FAN</td>\n",
       "      <td>HONDA CG FAN</td>\n",
       "      <td>HONDA CG FAN</td>\n",
       "      <td>HONDA CG FAN</td>\n",
       "      <td>HONDA CG FAN</td>\n",
       "    </tr>\n",
       "    <tr>\n",
       "      <th>3</th>\n",
       "      <td>HONDA BIZ C100</td>\n",
       "      <td>HONDA BIZ 100 C100 125 C125</td>\n",
       "      <td>HONDA BIZ 100 C100 125 C125</td>\n",
       "      <td>HONDA BIZ 100 C100 125 C125</td>\n",
       "      <td>HONDA BIZ 100 C100 125 C125</td>\n",
       "    </tr>\n",
       "    <tr>\n",
       "      <th>4</th>\n",
       "      <td>MIRAGE 150</td>\n",
       "      <td>KASINSKI MIRAGE 150 250</td>\n",
       "      <td>KASINSKI MIRAGE 150 250</td>\n",
       "      <td>KASINSKI MIRAGE 150 250</td>\n",
       "      <td>KASINSKI MIRAGE 150 250</td>\n",
       "    </tr>\n",
       "  </tbody>\n",
       "</table>\n",
       "</div>"
      ],
      "text/plain": [
       "                            Modelo                       APLICACAO  \\\n",
       "0    HONDA CG 150 TIT AN TITAN FAN  HONDA CG TIT TITAN 125 150 160   \n",
       "1  CG HONDA TIT AN 125 CARGO TITAN  HONDA CG TIT TITAN 125 150 160   \n",
       "2                 HONDA 125 CG FAN                    HONDA CG FAN   \n",
       "3                   HONDA BIZ C100     HONDA BIZ 100 C100 125 C125   \n",
       "4                       MIRAGE 150         KASINSKI MIRAGE 150 250   \n",
       "\n",
       "                     APLICACAOSVC                    APLICACAOMNB  \\\n",
       "0  HONDA CG TIT TITAN 125 150 160  HONDA CG TIT TITAN 125 150 160   \n",
       "1  HONDA CG TIT TITAN 125 150 160  HONDA CG TIT TITAN 125 150 160   \n",
       "2                    HONDA CG FAN                    HONDA CG FAN   \n",
       "3     HONDA BIZ 100 C100 125 C125     HONDA BIZ 100 C100 125 C125   \n",
       "4         KASINSKI MIRAGE 150 250         KASINSKI MIRAGE 150 250   \n",
       "\n",
       "                     APLICACAOFIM  \n",
       "0  HONDA CG TIT TITAN 125 150 160  \n",
       "1  HONDA CG TIT TITAN 125 150 160  \n",
       "2                    HONDA CG FAN  \n",
       "3     HONDA BIZ 100 C100 125 C125  \n",
       "4         KASINSKI MIRAGE 150 250  "
      ]
     },
     "execution_count": 37,
     "metadata": {},
     "output_type": "execute_result"
    }
   ],
   "source": [
    "df.iloc[:,-5:].head()"
   ]
  },
  {
   "cell_type": "code",
   "execution_count": 38,
   "metadata": {},
   "outputs": [],
   "source": [
    "colindex = df.columns.get_loc(\"APLICACAOFIM\")\n",
    "for i in range(df.shape[0]):\n",
    "    #print(i)\n",
    "    # se APLICACAOSVC==APLICACAOMNB ==> já aplicado pelo df.assign\n",
    "    # se APLICACAOSVC!=APLICACAOMNB\n",
    "    if df['APLICACAOSVC'][i]!=df['APLICACAOMNB'][i]:\n",
    "        # se APLICAÇÃO for sem valor ('XXX') ==> APLICACAOFIM=[APLICACAOSVC,APLICACAOMNB]\n",
    "        if df['APLICACAO'][i]=='XXX':\n",
    "            # APLICACAOFIM será a lista com os dois valores\n",
    "            df.iloc[i,colindex]=str([df['APLICACAOSVC'][i], df['APLICACAOMNB'][i]])\n",
    "            continue # passa para o próximo i\n",
    "        elif df['APLICACAO'][i]==df['APLICACAOSVC'][i]:\n",
    "            df.iloc[i,colindex]=df['APLICACAOSVC'][i]\n",
    "            continue # passa para o próximo i\n",
    "        elif df['APLICACAO'][i]==df['APLICACAOMNB'][i]:\n",
    "            df.iloc[i,colindex]=df['APLICACAOMNB'][i]\n",
    "            continue # passa para o próximo i\n",
    "        elif \",\" in df['APLICACAO'][i]: # se tiver vírgula, a APLICACAO é uma lista\n",
    "            aplictemp=df['APLICACAO'][i].replace(\"[\",\"\").replace(\", \",\";\").replace(\",\",\";\").replace(\"'\",\"\").replace(\"]\",\"\")\n",
    "            aplictemp=aplictemp.split(';')\n",
    "            # se APLICACAOSVC estiver na lista\n",
    "            if df['APLICACAOSVC'][i] in aplictemp:\n",
    "                df.iloc[i,colindex]=df['APLICACAOSVC'][i]\n",
    "                continue # passa para o próximo i\n",
    "            # se APLICACAOMNB estiver na lista\n",
    "            elif df['APLICACAOMNB'][i] in aplictemp:\n",
    "                df.iloc[i,colindex]=df['APLICACAOMNB'][i]\n",
    "                continue # passa para o próximo i\n",
    "            else:\n",
    "                aplictemp.append(df['APLICACAOSVC'][i])\n",
    "                aplictemp.append(df['APLICACAOMNB'][i])\n",
    "                df.iloc[i,colindex]=str(aplictemp)\n",
    "                continue # passa para o próximo i\n",
    "        else: # caso seja um valor (diferente de ambos os classificadores)\n",
    "            # APLICACAO!=APLICACAOSVC!=APLICACAOMNB ==> APLICACAOFIM=[APLICACAO,APLICACAOSVC,APLICACAOMNB]\n",
    "            df.iloc[i,colindex]=str([df['APLICACAO'][i],df['APLICACAOSVC'][i], df['APLICACAOMNB'][i]])\n",
    "            continue # passa para o próximo i"
   ]
  },
  {
   "cell_type": "markdown",
   "metadata": {},
   "source": [
    "### Recomparação das classificações"
   ]
  },
  {
   "cell_type": "code",
   "execution_count": 39,
   "metadata": {},
   "outputs": [
    {
     "data": {
      "text/plain": [
       "(1112, 31)"
      ]
     },
     "execution_count": 39,
     "metadata": {},
     "output_type": "execute_result"
    }
   ],
   "source": [
    "# Quantidade de registros divergentes entre os modelos SVC e Multinomial NB\n",
    "df[df['APLICACAOSVC']!=df['APLICACAOMNB']].shape"
   ]
  },
  {
   "cell_type": "code",
   "execution_count": 40,
   "metadata": {},
   "outputs": [
    {
     "data": {
      "text/plain": [
       "(649, 31)"
      ]
     },
     "execution_count": 40,
     "metadata": {},
     "output_type": "execute_result"
    }
   ],
   "source": [
    "# Quantidade de registros divergentes entre a extração e o modelo SVC\n",
    "df[df['APLICACAOFIM']!=df['APLICACAOSVC']].shape"
   ]
  },
  {
   "cell_type": "code",
   "execution_count": 41,
   "metadata": {},
   "outputs": [
    {
     "data": {
      "text/plain": [
       "(620, 31)"
      ]
     },
     "execution_count": 41,
     "metadata": {},
     "output_type": "execute_result"
    }
   ],
   "source": [
    "# Quantidade de registros divergentes entre a extração e o modelo SVC\n",
    "df[df['APLICACAOFIM']!=df['APLICACAOMNB']].shape"
   ]
  },
  {
   "cell_type": "code",
   "execution_count": 42,
   "metadata": {},
   "outputs": [],
   "source": [
    "# Registros ainda não definidos (lista de opções)\n",
    "# O filtro definirá True se APLICACAOFIM iniciar com '[' ou False caso contrário.\n",
    "filtro=[]\n",
    "for i, aplicacao in enumerate(df['APLICACAOFIM']):\n",
    "    if aplicacao[0]=='[':\n",
    "        filtro.append(True)\n",
    "    else:\n",
    "        filtro.append(False)"
   ]
  },
  {
   "cell_type": "code",
   "execution_count": 43,
   "metadata": {},
   "outputs": [
    {
     "data": {
      "text/html": [
       "<div>\n",
       "<style scoped>\n",
       "    .dataframe tbody tr th:only-of-type {\n",
       "        vertical-align: middle;\n",
       "    }\n",
       "\n",
       "    .dataframe tbody tr th {\n",
       "        vertical-align: top;\n",
       "    }\n",
       "\n",
       "    .dataframe thead th {\n",
       "        text-align: right;\n",
       "    }\n",
       "</style>\n",
       "<table border=\"1\" class=\"dataframe\">\n",
       "  <thead>\n",
       "    <tr style=\"text-align: right;\">\n",
       "      <th></th>\n",
       "      <th>Modelo</th>\n",
       "      <th>APLICACAO</th>\n",
       "      <th>APLICACAOSVC</th>\n",
       "      <th>APLICACAOMNB</th>\n",
       "      <th>APLICACAOFIM</th>\n",
       "    </tr>\n",
       "  </thead>\n",
       "  <tbody>\n",
       "    <tr>\n",
       "      <th>11</th>\n",
       "      <td>125 HUNTER MAX</td>\n",
       "      <td>XXX</td>\n",
       "      <td>SUNDOWN HUNTER</td>\n",
       "      <td>HONDA CT 125 HUNTER</td>\n",
       "      <td>['SUNDOWN HUNTER', 'HONDA CT 125 HUNTER']</td>\n",
       "    </tr>\n",
       "    <tr>\n",
       "      <th>16</th>\n",
       "      <td>YAMAHA TENERE XT 250</td>\n",
       "      <td>XXX</td>\n",
       "      <td>YAMAHA XTZ TENERE 250</td>\n",
       "      <td>YAMAHA XT TENERE 660Z 660</td>\n",
       "      <td>['YAMAHA XTZ TENERE 250', 'YAMAHA XT TENERE 66...</td>\n",
       "    </tr>\n",
       "    <tr>\n",
       "      <th>289</th>\n",
       "      <td>125 HUNTER MAX</td>\n",
       "      <td>XXX</td>\n",
       "      <td>SUNDOWN HUNTER</td>\n",
       "      <td>HONDA CT 125 HUNTER</td>\n",
       "      <td>['SUNDOWN HUNTER', 'HONDA CT 125 HUNTER']</td>\n",
       "    </tr>\n",
       "    <tr>\n",
       "      <th>311</th>\n",
       "      <td>125 HUNTER MAX</td>\n",
       "      <td>XXX</td>\n",
       "      <td>SUNDOWN HUNTER</td>\n",
       "      <td>HONDA CT 125 HUNTER</td>\n",
       "      <td>['SUNDOWN HUNTER', 'HONDA CT 125 HUNTER']</td>\n",
       "    </tr>\n",
       "    <tr>\n",
       "      <th>632</th>\n",
       "      <td>HONDA CB 300 MAX</td>\n",
       "      <td>XXX</td>\n",
       "      <td>SUNDOWN MAX</td>\n",
       "      <td>HONDA CB 300R 300 CB300</td>\n",
       "      <td>['SUNDOWN MAX', 'HONDA CB 300R 300 CB300']</td>\n",
       "    </tr>\n",
       "  </tbody>\n",
       "</table>\n",
       "</div>"
      ],
      "text/plain": [
       "                   Modelo APLICACAO           APLICACAOSVC  \\\n",
       "11         125 HUNTER MAX       XXX         SUNDOWN HUNTER   \n",
       "16   YAMAHA TENERE XT 250       XXX  YAMAHA XTZ TENERE 250   \n",
       "289        125 HUNTER MAX       XXX         SUNDOWN HUNTER   \n",
       "311        125 HUNTER MAX       XXX         SUNDOWN HUNTER   \n",
       "632      HONDA CB 300 MAX       XXX            SUNDOWN MAX   \n",
       "\n",
       "                  APLICACAOMNB  \\\n",
       "11         HONDA CT 125 HUNTER   \n",
       "16   YAMAHA XT TENERE 660Z 660   \n",
       "289        HONDA CT 125 HUNTER   \n",
       "311        HONDA CT 125 HUNTER   \n",
       "632    HONDA CB 300R 300 CB300   \n",
       "\n",
       "                                          APLICACAOFIM  \n",
       "11           ['SUNDOWN HUNTER', 'HONDA CT 125 HUNTER']  \n",
       "16   ['YAMAHA XTZ TENERE 250', 'YAMAHA XT TENERE 66...  \n",
       "289          ['SUNDOWN HUNTER', 'HONDA CT 125 HUNTER']  \n",
       "311          ['SUNDOWN HUNTER', 'HONDA CT 125 HUNTER']  \n",
       "632         ['SUNDOWN MAX', 'HONDA CB 300R 300 CB300']  "
      ]
     },
     "execution_count": 43,
     "metadata": {},
     "output_type": "execute_result"
    }
   ],
   "source": [
    "df[filtro].iloc[:,-5:].head()"
   ]
  },
  {
   "cell_type": "code",
   "execution_count": 44,
   "metadata": {},
   "outputs": [
    {
     "data": {
      "text/plain": [
       "(157, 31)"
      ]
     },
     "execution_count": 44,
     "metadata": {},
     "output_type": "execute_result"
    }
   ],
   "source": [
    "df[filtro].shape"
   ]
  },
  {
   "cell_type": "markdown",
   "metadata": {},
   "source": [
    "Precisamos agora fazer a observação manual dos registros divergentes para correção.<br>\n",
    "A seguir, exportaremos o arquivo em excel para fazer a classificação manual em outro notebook."
   ]
  },
  {
   "cell_type": "markdown",
   "metadata": {
    "colab_type": "text",
    "id": "Xya6qHGUuIGL"
   },
   "source": [
    "## Exportando o DataSet para classificação manual"
   ]
  },
  {
   "cell_type": "markdown",
   "metadata": {},
   "source": [
    "Exportando para um arquivo CSV"
   ]
  },
  {
   "cell_type": "code",
   "execution_count": 45,
   "metadata": {},
   "outputs": [],
   "source": [
    "df.to_csv(r'./bases/dataframe_modelos_classificado_manual.csv', index = False, header = True)"
   ]
  },
  {
   "cell_type": "markdown",
   "metadata": {},
   "source": [
    "Exportando para um arquivo de planilha do Excel"
   ]
  },
  {
   "cell_type": "code",
   "execution_count": 46,
   "metadata": {},
   "outputs": [],
   "source": [
    "df.to_excel(r'./bases/dataframe_modelos_classificado_manual.xlsx', index = False, header = True)"
   ]
  }
 ],
 "metadata": {
  "colab": {
   "collapsed_sections": [],
   "name": "NLP com scikit-learn.ipynb",
   "provenance": [],
   "toc_visible": true
  },
  "kernelspec": {
   "display_name": "Python 3",
   "language": "python",
   "name": "python3"
  },
  "language_info": {
   "codemirror_mode": {
    "name": "ipython",
    "version": 3
   },
   "file_extension": ".py",
   "mimetype": "text/x-python",
   "name": "python",
   "nbconvert_exporter": "python",
   "pygments_lexer": "ipython3",
   "version": "3.7.3"
  },
  "toc": {
   "base_numbering": 1,
   "nav_menu": {},
   "number_sections": false,
   "sideBar": false,
   "skip_h1_title": false,
   "title_cell": "Sumário",
   "title_sidebar": "Sumário",
   "toc_cell": false,
   "toc_position": {},
   "toc_section_display": true,
   "toc_window_display": false
  }
 },
 "nbformat": 4,
 "nbformat_minor": 1
}
