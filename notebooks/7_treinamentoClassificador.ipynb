{
 "cells": [
  {
   "cell_type": "markdown",
   "metadata": {
    "colab_type": "text",
    "id": "t9eSPPRmUEby"
   },
   "source": [
    "# _Notebook Jupyter_ 7_treinamentoClassificador"
   ]
  },
  {
   "cell_type": "markdown",
   "metadata": {
    "colab_type": "text",
    "id": "t9eSPPRmUEby"
   },
   "source": [
    "# Classificação da Aplicação por aprendizado de máquina"
   ]
  },
  {
   "cell_type": "markdown",
   "metadata": {
    "colab_type": "text",
    "id": "4eakEWy_62vS"
   },
   "source": [
    "## Importando bibliotecas"
   ]
  },
  {
   "cell_type": "code",
   "execution_count": 1,
   "metadata": {
    "colab": {
     "base_uri": "https://localhost:8080/",
     "height": 85
    },
    "colab_type": "code",
    "id": "F5Tc6cI9Kvpj",
    "outputId": "88b2ba16-8163-4ea6-e5d2-1ea968cb51da"
   },
   "outputs": [],
   "source": [
    "import pandas as pd, time\n",
    "# Vetorização\n",
    "from sklearn.feature_extraction.text import CountVectorizer, TfidfTransformer\n",
    "# Modelos\n",
    "from sklearn.svm import LinearSVC\n",
    "from sklearn.naive_bayes import MultinomialNB\n",
    "from sklearn.linear_model import LogisticRegression\n",
    "# Métricas\n",
    "from sklearn import metrics\n",
    "# Divisor de Treino/Treste\n",
    "from sklearn.model_selection import train_test_split\n",
    "# Matplot\n",
    "import matplotlib.pyplot as plt"
   ]
  },
  {
   "cell_type": "code",
   "execution_count": 2,
   "metadata": {},
   "outputs": [],
   "source": [
    "# importa funções criadas no módulo 3_classificarAplicação.ipynb (criarModelo.py)\n",
    "from funcoesTCC import *\n",
    "# Funções: criaModelo, limpaDescricao, achaPalavraChave, pegaChave, acrescentaMarca\n",
    "# Variávis: stopwords, palavrasChave, Marcas\n",
    "# Datasets: dftemp (Aplicações)"
   ]
  },
  {
   "cell_type": "code",
   "execution_count": 3,
   "metadata": {},
   "outputs": [
    {
     "name": "stdout",
     "output_type": "stream",
     "text": [
      "Código executado em 11/01/2022 às 14:33\n"
     ]
    }
   ],
   "source": [
    "# Data e hora da execução do script\n",
    "print(f'Código executado em {time.strftime(\"%d/%m/%Y às %H:%M\", time.localtime(time.time()))}')"
   ]
  },
  {
   "cell_type": "markdown",
   "metadata": {
    "colab_type": "text",
    "id": "_-re6wFx668E"
   },
   "source": [
    "## Carregando dataset"
   ]
  },
  {
   "cell_type": "code",
   "execution_count": 4,
   "metadata": {
    "scrolled": true
   },
   "outputs": [
    {
     "data": {
      "text/html": [
       "<div>\n",
       "<style scoped>\n",
       "    .dataframe tbody tr th:only-of-type {\n",
       "        vertical-align: middle;\n",
       "    }\n",
       "\n",
       "    .dataframe tbody tr th {\n",
       "        vertical-align: top;\n",
       "    }\n",
       "\n",
       "    .dataframe thead th {\n",
       "        text-align: right;\n",
       "    }\n",
       "</style>\n",
       "<table border=\"1\" class=\"dataframe\">\n",
       "  <thead>\n",
       "    <tr style=\"text-align: right;\">\n",
       "      <th></th>\n",
       "      <th>Modelo</th>\n",
       "      <th>APLICACAO</th>\n",
       "      <th>RETENTOR</th>\n",
       "    </tr>\n",
       "  </thead>\n",
       "  <tbody>\n",
       "    <tr>\n",
       "      <th>2100</th>\n",
       "      <td>HONDA TIT AN 125 TITAN FAN</td>\n",
       "      <td>HONDA CG TIT TITAN 125 150 160</td>\n",
       "      <td>True</td>\n",
       "    </tr>\n",
       "    <tr>\n",
       "      <th>2101</th>\n",
       "      <td>HONDA TIT AN 125 TITAN FAN</td>\n",
       "      <td>HONDA CG TIT TITAN 125 150 160</td>\n",
       "      <td>True</td>\n",
       "    </tr>\n",
       "    <tr>\n",
       "      <th>2102</th>\n",
       "      <td>TITAN AN TIT 150</td>\n",
       "      <td>HONDA CG TIT TITAN 125 150 160</td>\n",
       "      <td>True</td>\n",
       "    </tr>\n",
       "    <tr>\n",
       "      <th>2103</th>\n",
       "      <td>YAMAHA 125 YBR FACTOR</td>\n",
       "      <td>YAMAHA FACTOR YBR 125 YBR125</td>\n",
       "      <td>True</td>\n",
       "    </tr>\n",
       "    <tr>\n",
       "      <th>2104</th>\n",
       "      <td>125 TITAN TIT AN</td>\n",
       "      <td>HONDA CG TIT TITAN 125 150 160</td>\n",
       "      <td>True</td>\n",
       "    </tr>\n",
       "  </tbody>\n",
       "</table>\n",
       "</div>"
      ],
      "text/plain": [
       "                          Modelo                       APLICACAO  RETENTOR\n",
       "2100  HONDA TIT AN 125 TITAN FAN  HONDA CG TIT TITAN 125 150 160      True\n",
       "2101  HONDA TIT AN 125 TITAN FAN  HONDA CG TIT TITAN 125 150 160      True\n",
       "2102            TITAN AN TIT 150  HONDA CG TIT TITAN 125 150 160      True\n",
       "2103       YAMAHA 125 YBR FACTOR    YAMAHA FACTOR YBR 125 YBR125      True\n",
       "2104            125 TITAN TIT AN  HONDA CG TIT TITAN 125 150 160      True"
      ]
     },
     "execution_count": 4,
     "metadata": {},
     "output_type": "execute_result"
    }
   ],
   "source": [
    "# Importa base de dados com os modelos já determinados para um dataframe\n",
    "df = pd.read_excel(r'./bases/dataframe_modelos_classificado.xlsx')\n",
    "df.iloc[2100:,-3:].head()"
   ]
  },
  {
   "cell_type": "code",
   "execution_count": 5,
   "metadata": {},
   "outputs": [
    {
     "data": {
      "text/html": [
       "<div>\n",
       "<style scoped>\n",
       "    .dataframe tbody tr th:only-of-type {\n",
       "        vertical-align: middle;\n",
       "    }\n",
       "\n",
       "    .dataframe tbody tr th {\n",
       "        vertical-align: top;\n",
       "    }\n",
       "\n",
       "    .dataframe thead th {\n",
       "        text-align: right;\n",
       "    }\n",
       "</style>\n",
       "<table border=\"1\" class=\"dataframe\">\n",
       "  <thead>\n",
       "    <tr style=\"text-align: right;\">\n",
       "      <th></th>\n",
       "      <th>NUMERO DE ORDEM</th>\n",
       "      <th>ANOMES</th>\n",
       "      <th>COD.NCM</th>\n",
       "      <th>DESCRICAO DO CODIGO NCM</th>\n",
       "      <th>PAIS.OR</th>\n",
       "      <th>PAIS DE ORIGEM</th>\n",
       "      <th>PAIS.AQ</th>\n",
       "      <th>PAIS DE AQUISICAO</th>\n",
       "      <th>UND.ESTAT.</th>\n",
       "      <th>UNIDADE DE MEDIDA</th>\n",
       "      <th>...</th>\n",
       "      <th>TOT.UN.PROD.DOLAR</th>\n",
       "      <th>UNIDADE DESEMBARQUE</th>\n",
       "      <th>UNIDADE DESEMBARACO</th>\n",
       "      <th>INCOTERM</th>\n",
       "      <th>NAT.INFORMACAO</th>\n",
       "      <th>SITUACAO DO DESPACHO</th>\n",
       "      <th>DESCRICAO</th>\n",
       "      <th>Modelo</th>\n",
       "      <th>APLICACAO</th>\n",
       "      <th>RETENTOR</th>\n",
       "    </tr>\n",
       "  </thead>\n",
       "  <tbody>\n",
       "    <tr>\n",
       "      <th>10106</th>\n",
       "      <td>599880000100037</td>\n",
       "      <td>202012</td>\n",
       "      <td>87141000</td>\n",
       "      <td>PARTES ACESSÓRIOS P/MOTOCICLET</td>\n",
       "      <td>160</td>\n",
       "      <td>CHINA, REPUBLICA POP</td>\n",
       "      <td>160</td>\n",
       "      <td>CHINA, REPUBLICA POP</td>\n",
       "      <td>10</td>\n",
       "      <td>QUILOGRAMA LIQUIDO</td>\n",
       "      <td>...</td>\n",
       "      <td>636.070000</td>\n",
       "      <td>N/INFORMADO</td>\n",
       "      <td>ITAJAI</td>\n",
       "      <td>CIF</td>\n",
       "      <td>EFETIVA</td>\n",
       "      <td>DI DESEMBARAÇADA</td>\n",
       "      <td>cb 300</td>\n",
       "      <td>HONDA CB 300</td>\n",
       "      <td>HONDA CB 300R 300 CB300</td>\n",
       "      <td>False</td>\n",
       "    </tr>\n",
       "    <tr>\n",
       "      <th>11759</th>\n",
       "      <td>1706140000200023</td>\n",
       "      <td>202101</td>\n",
       "      <td>87141000</td>\n",
       "      <td>PARTES ACESSÓRIOS P/MOTOCICLET</td>\n",
       "      <td>160</td>\n",
       "      <td>CHINA, REPUBLICA POP</td>\n",
       "      <td>767</td>\n",
       "      <td>SUICA</td>\n",
       "      <td>10</td>\n",
       "      <td>QUILOGRAMA LIQUIDO</td>\n",
       "      <td>...</td>\n",
       "      <td>145.200000</td>\n",
       "      <td>N/INFORMADO</td>\n",
       "      <td>PORTO DE MANAUS</td>\n",
       "      <td>FOB</td>\n",
       "      <td>EFETIVA</td>\n",
       "      <td>DI DESEMBARAÇADA</td>\n",
       "      <td>max 125 hunter</td>\n",
       "      <td>125 HUNTER MAX</td>\n",
       "      <td>SUNDOWN HUNTER</td>\n",
       "      <td>False</td>\n",
       "    </tr>\n",
       "    <tr>\n",
       "      <th>11396</th>\n",
       "      <td>836830000400017</td>\n",
       "      <td>202101</td>\n",
       "      <td>87141000</td>\n",
       "      <td>PARTES ACESSÓRIOS P/MOTOCICLET</td>\n",
       "      <td>160</td>\n",
       "      <td>CHINA, REPUBLICA POP</td>\n",
       "      <td>767</td>\n",
       "      <td>SUICA</td>\n",
       "      <td>10</td>\n",
       "      <td>QUILOGRAMA LIQUIDO</td>\n",
       "      <td>...</td>\n",
       "      <td>675.560004</td>\n",
       "      <td>N/INFORMADO</td>\n",
       "      <td>PORTO DE SANTOS</td>\n",
       "      <td>FOB</td>\n",
       "      <td>EFETIVA</td>\n",
       "      <td>DI DESEMBARAÇADA</td>\n",
       "      <td>nxr 150 bros 130 el</td>\n",
       "      <td>HONDA BROS NXR 130 150</td>\n",
       "      <td>HONDA NXR 150 BROS BROZ</td>\n",
       "      <td>False</td>\n",
       "    </tr>\n",
       "    <tr>\n",
       "      <th>15484</th>\n",
       "      <td>155770000100020</td>\n",
       "      <td>202104</td>\n",
       "      <td>87141000</td>\n",
       "      <td>PARTES ACESSÓRIOS P/MOTOCICLET</td>\n",
       "      <td>160</td>\n",
       "      <td>CHINA, REPUBLICA POP</td>\n",
       "      <td>160</td>\n",
       "      <td>CHINA, REPUBLICA POP</td>\n",
       "      <td>10</td>\n",
       "      <td>QUILOGRAMA LIQUIDO</td>\n",
       "      <td>...</td>\n",
       "      <td>1412.500000</td>\n",
       "      <td>N/INFORMADO</td>\n",
       "      <td>PORTO DE SANTOS</td>\n",
       "      <td>FOB</td>\n",
       "      <td>EFETIVA</td>\n",
       "      <td>DI DESEMBARAÇADA</td>\n",
       "      <td>cg 160 pe</td>\n",
       "      <td>HONDA 160 CG</td>\n",
       "      <td>HONDA CG TIT TITAN 125 150 160</td>\n",
       "      <td>False</td>\n",
       "    </tr>\n",
       "    <tr>\n",
       "      <th>11679</th>\n",
       "      <td>1721690000200012</td>\n",
       "      <td>202101</td>\n",
       "      <td>87141000</td>\n",
       "      <td>PARTES ACESSÓRIOS P/MOTOCICLET</td>\n",
       "      <td>160</td>\n",
       "      <td>CHINA, REPUBLICA POP</td>\n",
       "      <td>767</td>\n",
       "      <td>SUICA</td>\n",
       "      <td>10</td>\n",
       "      <td>QUILOGRAMA LIQUIDO</td>\n",
       "      <td>...</td>\n",
       "      <td>111.180000</td>\n",
       "      <td>N/INFORMADO</td>\n",
       "      <td>PORTO DE MANAUS</td>\n",
       "      <td>FOB</td>\n",
       "      <td>EFETIVA</td>\n",
       "      <td>DI DESEMBARAÇADA</td>\n",
       "      <td>katana 125 en yes cargo gs</td>\n",
       "      <td>SUZUKI YES GS 125 KATANA CARGO EN</td>\n",
       "      <td>SUZUKI YES EN 125</td>\n",
       "      <td>False</td>\n",
       "    </tr>\n",
       "  </tbody>\n",
       "</table>\n",
       "<p>5 rows × 29 columns</p>\n",
       "</div>"
      ],
      "text/plain": [
       "        NUMERO DE ORDEM  ANOMES   COD.NCM         DESCRICAO DO CODIGO NCM  \\\n",
       "10106   599880000100037  202012  87141000  PARTES ACESSÓRIOS P/MOTOCICLET   \n",
       "11759  1706140000200023  202101  87141000  PARTES ACESSÓRIOS P/MOTOCICLET   \n",
       "11396   836830000400017  202101  87141000  PARTES ACESSÓRIOS P/MOTOCICLET   \n",
       "15484   155770000100020  202104  87141000  PARTES ACESSÓRIOS P/MOTOCICLET   \n",
       "11679  1721690000200012  202101  87141000  PARTES ACESSÓRIOS P/MOTOCICLET   \n",
       "\n",
       "       PAIS.OR        PAIS DE ORIGEM  PAIS.AQ     PAIS DE AQUISICAO  \\\n",
       "10106      160  CHINA, REPUBLICA POP      160  CHINA, REPUBLICA POP   \n",
       "11759      160  CHINA, REPUBLICA POP      767                 SUICA   \n",
       "11396      160  CHINA, REPUBLICA POP      767                 SUICA   \n",
       "15484      160  CHINA, REPUBLICA POP      160  CHINA, REPUBLICA POP   \n",
       "11679      160  CHINA, REPUBLICA POP      767                 SUICA   \n",
       "\n",
       "       UND.ESTAT.   UNIDADE DE MEDIDA  ... TOT.UN.PROD.DOLAR  \\\n",
       "10106          10  QUILOGRAMA LIQUIDO  ...        636.070000   \n",
       "11759          10  QUILOGRAMA LIQUIDO  ...        145.200000   \n",
       "11396          10  QUILOGRAMA LIQUIDO  ...        675.560004   \n",
       "15484          10  QUILOGRAMA LIQUIDO  ...       1412.500000   \n",
       "11679          10  QUILOGRAMA LIQUIDO  ...        111.180000   \n",
       "\n",
       "      UNIDADE DESEMBARQUE  UNIDADE DESEMBARACO  INCOTERM  NAT.INFORMACAO  \\\n",
       "10106         N/INFORMADO               ITAJAI       CIF         EFETIVA   \n",
       "11759         N/INFORMADO      PORTO DE MANAUS       FOB         EFETIVA   \n",
       "11396         N/INFORMADO      PORTO DE SANTOS       FOB         EFETIVA   \n",
       "15484         N/INFORMADO      PORTO DE SANTOS       FOB         EFETIVA   \n",
       "11679         N/INFORMADO      PORTO DE MANAUS       FOB         EFETIVA   \n",
       "\n",
       "       SITUACAO DO DESPACHO                   DESCRICAO  \\\n",
       "10106      DI DESEMBARAÇADA                      cb 300   \n",
       "11759      DI DESEMBARAÇADA              max 125 hunter   \n",
       "11396      DI DESEMBARAÇADA         nxr 150 bros 130 el   \n",
       "15484      DI DESEMBARAÇADA                   cg 160 pe   \n",
       "11679      DI DESEMBARAÇADA  katana 125 en yes cargo gs   \n",
       "\n",
       "                                  Modelo                       APLICACAO  \\\n",
       "10106                       HONDA CB 300         HONDA CB 300R 300 CB300   \n",
       "11759                     125 HUNTER MAX                  SUNDOWN HUNTER   \n",
       "11396             HONDA BROS NXR 130 150         HONDA NXR 150 BROS BROZ   \n",
       "15484                       HONDA 160 CG  HONDA CG TIT TITAN 125 150 160   \n",
       "11679  SUZUKI YES GS 125 KATANA CARGO EN               SUZUKI YES EN 125   \n",
       "\n",
       "       RETENTOR  \n",
       "10106     False  \n",
       "11759     False  \n",
       "11396     False  \n",
       "15484     False  \n",
       "11679     False  \n",
       "\n",
       "[5 rows x 29 columns]"
      ]
     },
     "execution_count": 5,
     "metadata": {},
     "output_type": "execute_result"
    }
   ],
   "source": [
    "df.sample(5)"
   ]
  },
  {
   "cell_type": "code",
   "execution_count": 6,
   "metadata": {},
   "outputs": [
    {
     "data": {
      "text/plain": [
       "(18237, 29)"
      ]
     },
     "execution_count": 6,
     "metadata": {},
     "output_type": "execute_result"
    }
   ],
   "source": [
    "# Verifica o tamnanho do dataframe\n",
    "df.shape"
   ]
  },
  {
   "cell_type": "markdown",
   "metadata": {},
   "source": [
    "#### Define linha de exemplo"
   ]
  },
  {
   "cell_type": "code",
   "execution_count": 7,
   "metadata": {},
   "outputs": [
    {
     "data": {
      "text/plain": [
       "'KIT DE TRANSMISSAO , MARCA RIFFEL, TITANIUM (1045) PARA MOTOCICLETAS CB 300R, COMPOSTO DE CORRENTE 520 X M184 + COROA 40067 37Z + PINHAO 25140 13Z (CERTIFICADO NR. BR31512031) - ITEM: 91050'"
      ]
     },
     "execution_count": 7,
     "metadata": {},
     "output_type": "execute_result"
    }
   ],
   "source": [
    "linha=15252 # linha a ser utilizada como exemplo\n",
    "descricao = df.iloc[linha]['DESCRICAO DO PRODUTO'] \n",
    "# verifica a descrição do produto\n",
    "descricao"
   ]
  },
  {
   "cell_type": "markdown",
   "metadata": {},
   "source": [
    "#### Exemplo da função que cria o modelo a ser utilizado no classificador treinado"
   ]
  },
  {
   "cell_type": "code",
   "execution_count": 8,
   "metadata": {},
   "outputs": [
    {
     "data": {
      "text/plain": [
       "'HONDA 300R CB'"
      ]
     },
     "execution_count": 8,
     "metadata": {},
     "output_type": "execute_result"
    }
   ],
   "source": [
    "# cria a descrição do modelo que será usado na predição\n",
    "criaModelo(descricao)"
   ]
  },
  {
   "cell_type": "markdown",
   "metadata": {
    "colab_type": "text",
    "id": "2q5MuAkA7U68"
   },
   "source": [
    "## CountVectorizer"
   ]
  },
  {
   "cell_type": "markdown",
   "metadata": {},
   "source": [
    "### CountVectorizer do DataSet"
   ]
  },
  {
   "cell_type": "code",
   "execution_count": 9,
   "metadata": {},
   "outputs": [],
   "source": [
    "# Criação da função CountVectorizer\n",
    "cvt = CountVectorizer(strip_accents='ascii', lowercase=True)"
   ]
  },
  {
   "cell_type": "code",
   "execution_count": 10,
   "metadata": {},
   "outputs": [],
   "source": [
    "X_cvt = cvt.fit_transform(df['Modelo'])"
   ]
  },
  {
   "cell_type": "code",
   "execution_count": 11,
   "metadata": {},
   "outputs": [],
   "source": [
    "# Criação da função TfidfTransformer\n",
    "tfi = TfidfTransformer(use_idf=True)"
   ]
  },
  {
   "cell_type": "code",
   "execution_count": 12,
   "metadata": {},
   "outputs": [],
   "source": [
    "X_tfi = tfi.fit_transform(X_cvt)"
   ]
  },
  {
   "cell_type": "code",
   "execution_count": 13,
   "metadata": {},
   "outputs": [],
   "source": [
    "# A entrada será a transformação de vetores com a normalização tf-idf\n",
    "entrada = X_tfi\n",
    "# A saida será as aplicações\n",
    "saida = df['APLICACAO']\n",
    "# Separando 30% dos dados para teste\n",
    "X_train, X_test, y_train, y_test = train_test_split(entrada, saida, test_size=0.3)"
   ]
  },
  {
   "cell_type": "markdown",
   "metadata": {},
   "source": [
    "# Treinando os Modelos"
   ]
  },
  {
   "cell_type": "markdown",
   "metadata": {
    "colab_type": "text",
    "id": "-GuR9sOdt-rR"
   },
   "source": [
    "## <br><span style=\"color:blue\">Modelo LinearSVC</span>"
   ]
  },
  {
   "cell_type": "markdown",
   "metadata": {},
   "source": [
    "### Treinamento do modelo"
   ]
  },
  {
   "cell_type": "code",
   "execution_count": 14,
   "metadata": {
    "colab": {
     "base_uri": "https://localhost:8080/",
     "height": 85
    },
    "colab_type": "code",
    "id": "3sKGFVOeb7A9",
    "outputId": "181cf909-9e02-44ff-a905-813948e8c6d0"
   },
   "outputs": [
    {
     "data": {
      "text/plain": [
       "LinearSVC(C=1.0, class_weight=None, dual=True, fit_intercept=True,\n",
       "     intercept_scaling=1, loss='squared_hinge', max_iter=1000,\n",
       "     multi_class='ovr', penalty='l2', random_state=None, tol=0.0001,\n",
       "     verbose=0)"
      ]
     },
     "execution_count": 14,
     "metadata": {},
     "output_type": "execute_result"
    }
   ],
   "source": [
    "# Criando modelo\n",
    "clfsvc = LinearSVC()\n",
    "# Treinamento do modelo\n",
    "clfsvc.fit(X_train, y_train)"
   ]
  },
  {
   "cell_type": "markdown",
   "metadata": {},
   "source": [
    "### Função de classificação LinearSVC"
   ]
  },
  {
   "cell_type": "markdown",
   "metadata": {
    "colab_type": "text",
    "id": "glPX-gZyuLwr"
   },
   "source": [
    "A função para utilização do modelo, recebe a descrição filtrada Modelo e retorna a aplicação.\n"
   ]
  },
  {
   "cell_type": "code",
   "execution_count": 15,
   "metadata": {
    "colab": {},
    "colab_type": "code",
    "id": "sbEB0-E5dwlc"
   },
   "outputs": [],
   "source": [
    "def classificaAplicacaoSVC(modelo):\n",
    "    novo_cvt = cvt.transform(pd.Series(modelo))\n",
    "    novo_tfi = tfi.transform(novo_cvt)\n",
    "    aplicacao = clfsvc.predict(novo_tfi)[0]\n",
    "    return aplicacao"
   ]
  },
  {
   "cell_type": "markdown",
   "metadata": {},
   "source": [
    "No final o nosso resultado mostrando (Modelo: descrição filtrada para o modelo e Aplicação: aplicação prevista).<br>"
   ]
  },
  {
   "cell_type": "code",
   "execution_count": 16,
   "metadata": {
    "colab_type": "text",
    "id": "e3QxsHVfuQip",
    "scrolled": false
   },
   "outputs": [
    {
     "name": "stdout",
     "output_type": "stream",
     "text": [
      "Modelo: 150 CG HONDA TITAN  Aplicação: HONDA CG TIT TITAN 125 150 160\n",
      "Modelo: 125 CARGO CG HONDA TITAN  Aplicação: HONDA CG TIT TITAN 125 150 160\n",
      "Modelo: BIZ C100 HONDA  Aplicação: HONDA BIZ 100 C100 125 C125\n",
      "Modelo: 100 HONDA BIZ  Aplicação: HONDA BIZ 100 C100 125 C125\n",
      "Modelo: 100 BIZ BRAVO HONDA  Aplicação: HONDA BIZ 100 C100 125 C125\n",
      "Modelo: 125 YBR GT YAMAHA  Aplicação: YAMAHA FACTOR YBR 125 YBR125\n",
      "Modelo: 250F TWISTER HONDA  Aplicação: HONDA TWISTER CBX 250\n"
     ]
    }
   ],
   "source": [
    "# Lista de exemplos de novos produtos\n",
    "modelos = ['150 CG HONDA TITAN',\n",
    "           '125 CARGO CG HONDA TITAN',\n",
    "           'BIZ C100 HONDA',\n",
    "           '100 HONDA BIZ',\n",
    "           '100 BIZ BRAVO HONDA',\n",
    "           '125 YBR GT YAMAHA',\n",
    "           '250F TWISTER HONDA']\n",
    "# Loop for para fazer a predição do departamento de novos produtos\n",
    "for modelo in modelos:\n",
    "    print('Modelo:', modelo, ' Aplicação:', classificaAplicacaoSVC(modelo))"
   ]
  },
  {
   "cell_type": "markdown",
   "metadata": {},
   "source": [
    "### Predição e avaliação do Modelo Linear SVC"
   ]
  },
  {
   "cell_type": "markdown",
   "metadata": {},
   "source": [
    "#### Métricas"
   ]
  },
  {
   "cell_type": "code",
   "execution_count": 17,
   "metadata": {},
   "outputs": [
    {
     "name": "stdout",
     "output_type": "stream",
     "text": [
      "Acurácia: 0.99\n",
      "Precisão: 0.99\n",
      "Recall:   0.99\n",
      "F1_Score: 0.99\n"
     ]
    }
   ],
   "source": [
    "# Realizando a predição\n",
    "resultadosvc = clfsvc.predict(X_test)\n",
    "# Avaliando o modelo\n",
    "print('Acurácia: {:.2f}'.format(metrics.accuracy_score(y_test, resultadosvc)))\n",
    "print('Precisão: {:.2f}'.format(metrics.precision_score(y_test, resultadosvc,average='micro')))\n",
    "print('Recall:   {:.2f}'.format(metrics.recall_score(y_test, resultadosvc,average='micro')))\n",
    "print('F1_Score: {:.2f}'.format(metrics.f1_score(y_test, resultadosvc,average='micro')))"
   ]
  },
  {
   "cell_type": "code",
   "execution_count": 18,
   "metadata": {
    "scrolled": true
   },
   "outputs": [
    {
     "name": "stdout",
     "output_type": "stream",
     "text": [
      "                                 precision    recall  f1-score   support\n",
      "\n",
      "              AGRALE ELEFANT RE       0.00      0.00      0.00         1\n",
      "       AMAZONAS AME 110 AME-110       0.50      1.00      0.67         2\n",
      "                   APRILIA MOTO       0.00      0.00      0.00         1\n",
      "                     BMW F800GS       1.00      1.00      1.00         2\n",
      "                 BMW G650GS 650       1.00      1.00      1.00         4\n",
      "                      BMW R51/3       1.00      1.00      1.00         2\n",
      "          BRAVAX BVX STREET 130       1.00      1.00      1.00         1\n",
      "                     BRP CAN-AM       0.00      0.00      0.00         1\n",
      "                   DAFRA APACHE       1.00      1.00      1.00        16\n",
      "                   DAFRA KANSAS       1.00      1.00      1.00        21\n",
      "                     DAFRA NEXT       1.00      1.00      1.00         7\n",
      "                     DAFRA RIVA       1.00      1.00      1.00         8\n",
      "                    DAFRA SPEED       1.00      1.00      1.00        13\n",
      "                    DAFRA SUPER       0.67      1.00      0.80         2\n",
      "                      DAFRA ZIG       1.00      1.00      1.00         3\n",
      "    HONDA BIZ 100 C100 125 C125       0.99      1.00      1.00       461\n",
      "              HONDA CB 250 250F       1.00      0.62      0.77         8\n",
      "        HONDA CB 300R 300 CB300       0.99      1.00      1.00       136\n",
      "                    HONDA CB 50       0.00      0.00      0.00         1\n",
      "                   HONDA CB 500       1.00      1.00      1.00         1\n",
      "            HONDA CB HORNET 600       1.00      1.00      1.00         4\n",
      "                 HONDA CBX 1000       1.00      1.00      1.00         2\n",
      "                   HONDA CG 125       1.00      1.00      1.00        30\n",
      "                   HONDA CG FAN       1.00      1.00      1.00       352\n",
      " HONDA CG TIT TITAN 125 150 160       1.00      1.00      1.00      1038\n",
      "                 HONDA CG TODAY       1.00      1.00      1.00         5\n",
      "    HONDA CRF 230 230F 250 250F       0.97      1.00      0.99        37\n",
      "                    HONDA DREAM       1.00      1.00      1.00        26\n",
      "              HONDA NC 700X 700       1.00      1.00      1.00         1\n",
      "           HONDA NX 150 200 250       1.00      1.00      1.00         5\n",
      "            HONDA NX 350 SAHARA       0.50      1.00      0.67         2\n",
      "            HONDA NX 400 FALCON       1.00      1.00      1.00        55\n",
      "        HONDA NXR 150 BROS BROZ       0.99      1.00      1.00       654\n",
      "                    HONDA PC 50       1.00      1.00      1.00        12\n",
      "                  HONDA POP 100       0.99      1.00      1.00       242\n",
      "                   HONDA SHADOW       1.00      1.00      1.00         1\n",
      "           HONDA STRADA CBX 200       1.00      1.00      1.00        33\n",
      "           HONDA TORNADO XR 250       1.00      1.00      1.00        83\n",
      "      HONDA TWIN XRV 750 AFRICA       0.00      0.00      0.00         1\n",
      "          HONDA TWISTER CBX 250       0.97      1.00      0.99       207\n",
      "         HONDA XL 700V TRANSALP       0.00      0.00      0.00         2\n",
      "  HONDA XL XLS 125 XL125 XL125S       0.97      1.00      0.98        57\n",
      "                      HONDA XLR       1.00      1.00      1.00        73\n",
      "                       HONDA XR       1.00      1.00      1.00        25\n",
      "                  HONDA XRE 300       1.00      1.00      1.00       176\n",
      "                     KAHENA TOP       1.00      0.92      0.96        53\n",
      "          KASINSKI COMET GT 150       1.00      1.00      1.00         1\n",
      "                   KASINSKI ERO       0.00      0.00      0.00         2\n",
      "        KASINSKI MIRAGE 150 250       1.00      1.00      1.00         9\n",
      "                   KASINSKI WIN       0.00      0.00      0.00         1\n",
      "    KAWASAKI KX 100 125 100/125       1.00      1.00      1.00         8\n",
      "             KAWASAKI NINJA 250       1.00      0.60      0.75         5\n",
      "             KAWASAKI NINJA 300       0.87      1.00      0.93        13\n",
      "             KAWASAKI NINJA 700       1.00      1.00      1.00         1\n",
      "                     KTM SX 125       1.00      1.00      1.00         6\n",
      "                      KTM SX 50       1.00      1.00      1.00         1\n",
      "                     KTM XC 300       1.00      1.00      1.00         2\n",
      "              MARVA ONIX 50R 50       1.00      1.00      1.00         4\n",
      "                 MVK FENIX GOLD       0.60      1.00      0.75         3\n",
      "                         MVK MA       1.00      0.65      0.79        23\n",
      "                      MVK SPORT       0.67      1.00      0.80         2\n",
      "                SHINERAY JET 50       1.00      0.75      0.86         4\n",
      "               SHINERAY MAX 150       1.00      1.00      1.00         2\n",
      "                SHINERAY NEW 50       0.00      0.00      0.00         1\n",
      "            SHINERAY PHOENIX 50       0.95      1.00      0.97        19\n",
      "        SHINERAY SUPER SMART 50       0.50      1.00      0.67         2\n",
      "                 SUNDOWN HUNTER       1.00      1.00      1.00        23\n",
      "                    SUNDOWN MAX       1.00      1.00      1.00         4\n",
      "             SUNDOWN STX MOTARD       1.00      1.00      1.00         1\n",
      "                    SUNDOWN WEB       1.00      0.99      0.99        73\n",
      "                SUNDOWN WEB EVO       1.00      0.94      0.97        35\n",
      "          SUZUKI BANDIT GSF 750       1.00      1.00      1.00         1\n",
      "                  SUZUKI GS 500       1.00      1.00      1.00         4\n",
      "                     SUZUKI GSR       1.00      1.00      1.00        10\n",
      "                SUZUKI INTRUDER       1.00      0.80      0.89         5\n",
      "                  SUZUKI KATANA       1.00      1.00      1.00        20\n",
      "        SUZUKI V-STROM DL STROM       0.00      0.00      0.00         2\n",
      "              SUZUKI YES EN 125       0.99      1.00      0.99        86\n",
      "                  TRAXX STAR 50       1.00      1.00      1.00         4\n",
      "                 TRIUMPH ROCKET       1.00      1.00      1.00        18\n",
      "                  TRIUMPH TIGER       1.00      1.00      1.00         3\n",
      "YAMAHA CRYPTON T115 115 100 110       1.00      1.00      1.00        75\n",
      "   YAMAHA FACTOR YBR 125 YBR125       1.00      1.00      1.00       361\n",
      "               YAMAHA FAZER FZ6       0.00      0.00      0.00         4\n",
      "         YAMAHA FAZER YS150 150       0.98      1.00      0.99       163\n",
      "         YAMAHA FAZER YS250 250       1.00      1.00      1.00       167\n",
      "          YAMAHA LANDER XTZ 250       0.98      1.00      0.99       129\n",
      "              YAMAHA VIRAGO 250       0.00      0.00      0.00         1\n",
      "             YAMAHA WR 250F 250       1.00      1.00      1.00         7\n",
      "                     YAMAHA XJ6       0.83      1.00      0.91         5\n",
      "                  YAMAHA XT 225       1.00      1.00      1.00         1\n",
      "                  YAMAHA XT 600       1.00      1.00      1.00         4\n",
      "             YAMAHA XT 660R 660       1.00      1.00      1.00        10\n",
      "                 YAMAHA XTZ 125       1.00      1.00      1.00       110\n",
      "         YAMAHA XTZ CROSSER 150       1.00      1.00      1.00       145\n",
      "          YAMAHA XTZ TENERE 250       1.00      1.00      1.00        24\n",
      "                     YAMAHA YFS       1.00      1.00      1.00         1\n",
      "\n",
      "                      micro avg       0.99      0.99      0.99      5472\n",
      "                      macro avg       0.84      0.86      0.85      5472\n",
      "                   weighted avg       0.99      0.99      0.99      5472\n",
      "\n"
     ]
    },
    {
     "name": "stderr",
     "output_type": "stream",
     "text": [
      "C:\\ProgramData\\Anaconda3\\lib\\site-packages\\sklearn\\metrics\\classification.py:1143: UndefinedMetricWarning: Precision and F-score are ill-defined and being set to 0.0 in labels with no predicted samples.\n",
      "  'precision', 'predicted', average, warn_for)\n"
     ]
    }
   ],
   "source": [
    "# Avaliação completa\n",
    "print(metrics.classification_report(y_test, resultadosvc))"
   ]
  },
  {
   "cell_type": "markdown",
   "metadata": {},
   "source": [
    "O alerta ao finial do relatório é esperado, tendo em vista que existem aplicações raras e que não aprecerem no grupo de teste."
   ]
  },
  {
   "cell_type": "markdown",
   "metadata": {},
   "source": [
    "#### Matriz de Confusão"
   ]
  },
  {
   "cell_type": "code",
   "execution_count": 19,
   "metadata": {},
   "outputs": [
    {
     "ename": "ModuleNotFoundError",
     "evalue": "No module named 'prettyPlotConfusionMatrix'",
     "output_type": "error",
     "traceback": [
      "\u001b[1;31m---------------------------------------------------------------------------\u001b[0m",
      "\u001b[1;31mModuleNotFoundError\u001b[0m                       Traceback (most recent call last)",
      "\u001b[1;32m<ipython-input-19-c1f50ac0ad9b>\u001b[0m in \u001b[0;36m<module>\u001b[1;34m\u001b[0m\n\u001b[0;32m      1\u001b[0m \u001b[1;31m# importa os módulos\u001b[0m\u001b[1;33m\u001b[0m\u001b[1;33m\u001b[0m\u001b[1;33m\u001b[0m\u001b[0m\n\u001b[0;32m      2\u001b[0m \u001b[1;31m# gera a matriz de confusão formatada (adaptado por mim)\u001b[0m\u001b[1;33m\u001b[0m\u001b[1;33m\u001b[0m\u001b[1;33m\u001b[0m\u001b[0m\n\u001b[1;32m----> 3\u001b[1;33m \u001b[1;32mfrom\u001b[0m \u001b[0mprettyPlotConfusionMatrix\u001b[0m \u001b[1;32mimport\u001b[0m \u001b[0mpretty_plot_confusion_matrix\u001b[0m \u001b[1;31m# prettyPlotConfusionMatrix.py local\u001b[0m\u001b[1;33m\u001b[0m\u001b[1;33m\u001b[0m\u001b[0m\n\u001b[0m\u001b[0;32m      4\u001b[0m \u001b[1;31m# código disponível em https://github.com/wcipriano/pretty-print-confusion-matrix\u001b[0m\u001b[1;33m\u001b[0m\u001b[1;33m\u001b[0m\u001b[1;33m\u001b[0m\u001b[0m\n\u001b[0;32m      5\u001b[0m \u001b[1;32mfrom\u001b[0m \u001b[0msklearn\u001b[0m\u001b[1;33m.\u001b[0m\u001b[0mmetrics\u001b[0m \u001b[1;32mimport\u001b[0m \u001b[0mconfusion_matrix\u001b[0m\u001b[1;33m\u001b[0m\u001b[1;33m\u001b[0m\u001b[0m\n",
      "\u001b[1;31mModuleNotFoundError\u001b[0m: No module named 'prettyPlotConfusionMatrix'"
     ]
    }
   ],
   "source": [
    "# importa os módulos\n",
    "# gera a matriz de confusão formatada (adaptado por mim)\n",
    "from prettyPlotConfusionMatrix import pretty_plot_confusion_matrix # prettyPlotConfusionMatrix.py local\n",
    "# código disponível em https://github.com/wcipriano/pretty-print-confusion-matrix\n",
    "from sklearn.metrics import confusion_matrix"
   ]
  },
  {
   "cell_type": "code",
   "execution_count": null,
   "metadata": {},
   "outputs": [],
   "source": [
    "aplicacoessvc = np.unique(resultadosvc) # define os aplicações presentes no resultado\n",
    "cmsvc = confusion_matrix(y_test, resultadosvc, aplicacoessvc) # cria a matriz de confusão \n",
    "dfmcsvc=pd.DataFrame(cmsvc,index=aplicacoessvc,columns=aplicacoessvc) # converte a matriz em dataframe"
   ]
  },
  {
   "cell_type": "code",
   "execution_count": null,
   "metadata": {},
   "outputs": [],
   "source": [
    "pretty_plot_confusion_matrix(dfmcsvc, annot=True, cmap=\"tab10\", fmt='.0f', fz=1, lw=0.5, cbar=False, \n",
    "                             figsize=[30,20], show_null_values=2, pred_val_axis='x',insertTot=False) "
   ]
  },
  {
   "cell_type": "markdown",
   "metadata": {},
   "source": [
    "Apesar do grande número de classes, pode-se observar a linha formada pelos acertos na diagonal da imagem, demonstrando o alto índice de acerto do modelo."
   ]
  },
  {
   "cell_type": "markdown",
   "metadata": {},
   "source": [
    "Para melhorar a visão, esboçaremos a matriz de confusão para o item 'HONDA BIZ 100 C100 125 C125' versus o resto (OVR), isso nos permitirá ver a classificação como se fosse uma classificação binária OvR do tipo ou é a classificação demonstrada ou é o resto. "
   ]
  },
  {
   "cell_type": "code",
   "execution_count": null,
   "metadata": {},
   "outputs": [],
   "source": [
    "# Função que plota a matriz de confusão \"one versus rest (OvR)\" do modelo\n",
    "def plotConfusaoOvR(modelo, predicao, cm):\n",
    "    # modelo = modelo de aplicação que será o \"one\" no \"one versus rest\"\n",
    "    # predicao = resultado da predição do modelo\n",
    "    # cm = matriz de confusão gerada do modelo\n",
    "    aplicacoes = np.unique(predicao) # define os aplicações presentes no resultado\n",
    "    pos = int(np.where(aplicacoes == modelo)[0]) # econtra a posição de modelo nas aplicações\n",
    "    TP=cm[pos][pos]                                     # True Positive\n",
    "    FP=sum([cm[pos][x] for x in range(cm.shape[0])])-TP # False Positive\n",
    "    FN=sum([cm[x][pos] for x in range(cm.shape[0])])-TP # False Negative\n",
    "    TN = sum([cm[x][x] for x in range(cm.shape[0])])-TP # True Negative\n",
    "    confmod=np.array([[TP,FP],[FN,TN]]) # gera a matriz de confusão\n",
    "    labels = [modteste[:10],'RESTO'] # reduz o nome do modelo aos primeiros 10 caracteres\n",
    "    #fig = plt.figure()\n",
    "    #ax = fig.add_subplot(111)\n",
    "    #cax = ax.matshow(confmod)\n",
    "    #plt.title(f'\\nMatriz de Confusão do Classificador da Aplicação\\n{modteste}\\n',fontsize=20)\n",
    "    #fig.colorbar(cax)\n",
    "    #ax.set_xticklabels([''] + labels)\n",
    "    #ax.set_yticklabels([''] + labels)\n",
    "    #plt.xlabel('\\nPredição',fontsize=14)\n",
    "    #plt.ylabel('Classificação\\n',fontsize=14)\n",
    "    #plt.show()\n",
    "    #pretty_plot_confusion_matrix(pd.DataFrame(confmod,index=labels,columns=labels),insertTot=False)\n",
    "    pretty_plot_confusion_matrix(pd.DataFrame(confmod,index=labels,columns=labels), annot=True, cmap=\"tab10\", \n",
    "                                 fmt='.2f', fz=14, lw=0.5, cbar=False, figsize=[5,5], show_null_values=2, \n",
    "                                 pred_val_axis='x',insertTot=False) "
   ]
  },
  {
   "cell_type": "code",
   "execution_count": null,
   "metadata": {
    "scrolled": true
   },
   "outputs": [],
   "source": [
    "# gera o plot da matriz de confusão OvR para o modtste do resultadosvc\n",
    "modteste='HONDA BIZ 100 C100 125 C125'\n",
    "plotConfusaoOvR(modteste, resultadosvc, cmsvc)"
   ]
  },
  {
   "cell_type": "markdown",
   "metadata": {},
   "source": [
    "### Utilização do Modelo"
   ]
  },
  {
   "cell_type": "markdown",
   "metadata": {},
   "source": [
    "O modelo deverá receber uma descrição do produto conforme entrada do contribuinte na Declaração de Importação e deverá retornar a classificação de aplicação da motocicleta."
   ]
  },
  {
   "cell_type": "markdown",
   "metadata": {},
   "source": [
    "#### Teste com a linha de exemplo"
   ]
  },
  {
   "cell_type": "code",
   "execution_count": null,
   "metadata": {},
   "outputs": [],
   "source": [
    "print('index:', linha)\n",
    "descricao = df.iloc[linha]['DESCRICAO DO PRODUTO'] \n",
    "# verifica a descrição do produto\n",
    "descricao"
   ]
  },
  {
   "cell_type": "code",
   "execution_count": null,
   "metadata": {
    "scrolled": true
   },
   "outputs": [],
   "source": [
    "classificaAplicacaoSVC(criaModelo(descricao))"
   ]
  },
  {
   "cell_type": "markdown",
   "metadata": {
    "colab_type": "text",
    "id": "-GuR9sOdt-rR"
   },
   "source": [
    "## <br><span style=\"color:blue\">Modelo Multinomial Naive Bayes"
   ]
  },
  {
   "cell_type": "markdown",
   "metadata": {},
   "source": [
    "### Treinamento do modelo"
   ]
  },
  {
   "cell_type": "code",
   "execution_count": null,
   "metadata": {
    "colab": {
     "base_uri": "https://localhost:8080/",
     "height": 85
    },
    "colab_type": "code",
    "id": "3sKGFVOeb7A9",
    "outputId": "181cf909-9e02-44ff-a905-813948e8c6d0"
   },
   "outputs": [],
   "source": [
    "# Criando modelo\n",
    "clfmnb = MultinomialNB()\n",
    "# Treinamento do modelo\n",
    "clfmnb.fit(X_train, y_train)"
   ]
  },
  {
   "cell_type": "markdown",
   "metadata": {},
   "source": [
    "### Função de classificação"
   ]
  },
  {
   "cell_type": "markdown",
   "metadata": {
    "colab_type": "text",
    "id": "glPX-gZyuLwr"
   },
   "source": [
    "A função para utilização do modelo, recebe a descrição filtrada Modelo e retorna a aplicação.\n"
   ]
  },
  {
   "cell_type": "code",
   "execution_count": null,
   "metadata": {
    "colab": {},
    "colab_type": "code",
    "id": "sbEB0-E5dwlc"
   },
   "outputs": [],
   "source": [
    "def classificaAplicacaoMNB(modelo):\n",
    "    novo_cvt = cvt.transform(pd.Series(modelo))\n",
    "    novo_tfi = tfi.transform(novo_cvt)\n",
    "    aplicacao = clfmnb.predict(novo_tfi)[0]\n",
    "    return aplicacao"
   ]
  },
  {
   "cell_type": "markdown",
   "metadata": {},
   "source": [
    "No final o nosso resultado mostrando (Modelo: descrição filtrada para o modelo e Aplicação: aplicação prevista).<br>"
   ]
  },
  {
   "cell_type": "code",
   "execution_count": null,
   "metadata": {
    "colab_type": "text",
    "id": "e3QxsHVfuQip",
    "scrolled": false
   },
   "outputs": [],
   "source": [
    "# Lista de exemplos de novos produtos\n",
    "modelos = ['150 CG FAN HONDA TITAN',\n",
    "           '125 CARGO CG HONDA TITAN',\n",
    "           'BIZ C100 HONDA',\n",
    "           '100 HONDA BIZ',\n",
    "           '100 BIZ BRAVO HONDA',\n",
    "           '125 YBR GT YAMAHA',\n",
    "           '250F TWISTER HONDA']\n",
    "# Loop for para fazer a predição do departamento de novos produtos\n",
    "for modelo in modelos:\n",
    "    print('Modelo:', modelo, 'Aplicação:', classificaAplicacaoMNB(modelo))"
   ]
  },
  {
   "cell_type": "markdown",
   "metadata": {},
   "source": [
    "### Predição e avaliação do Modelo Multinomial Naive Bayes"
   ]
  },
  {
   "cell_type": "markdown",
   "metadata": {},
   "source": [
    "#### Métricas"
   ]
  },
  {
   "cell_type": "code",
   "execution_count": null,
   "metadata": {},
   "outputs": [],
   "source": [
    "# Realizando a predição\n",
    "resultadomnb = clfmnb.predict(X_test)\n",
    "# Avaliando o modelo\n",
    "print('Acurácia: {:.2f}'.format(metrics.accuracy_score(y_test, resultadomnb)))\n",
    "print('Precisão: {:.2f}'.format(metrics.precision_score(y_test, resultadomnb,average='micro')))\n",
    "print('Recall:   {:.2f}'.format(metrics.recall_score(y_test, resultadomnb,average='micro')))\n",
    "print('F1_Score: {:.2f}'.format(metrics.f1_score(y_test, resultadomnb,average='micro')))"
   ]
  },
  {
   "cell_type": "code",
   "execution_count": null,
   "metadata": {},
   "outputs": [],
   "source": [
    "# Avaliação completa\n",
    "print(metrics.classification_report(y_test, resultadomnb))"
   ]
  },
  {
   "cell_type": "markdown",
   "metadata": {},
   "source": [
    "O alerta ao finial do relatório é esperado, tendo em vista que existem aplicações raras e que não aprecerem no grupo de teste."
   ]
  },
  {
   "cell_type": "markdown",
   "metadata": {},
   "source": [
    "#### Matriz de Confusão"
   ]
  },
  {
   "cell_type": "code",
   "execution_count": null,
   "metadata": {},
   "outputs": [],
   "source": [
    "aplicacoesmnb = np.unique(resultadomnb) # define os aplicações presentes no resultado\n",
    "cmmnb = confusion_matrix(y_test, resultadomnb, aplicacoesmnb) # cria a matriz de confusão \n",
    "dfmcmnb=pd.DataFrame(cmmnb,index=aplicacoesmnb,columns=aplicacoesmnb) # converte a matriz em dataframe"
   ]
  },
  {
   "cell_type": "code",
   "execution_count": null,
   "metadata": {},
   "outputs": [],
   "source": [
    "pretty_plot_confusion_matrix(dfmcmnb, annot=True, cmap=\"tab10\", fmt='.0f', fz=1, lw=0.5, cbar=False, \n",
    "                             figsize=[30,20], show_null_values=2, pred_val_axis='x',insertTot=False) "
   ]
  },
  {
   "cell_type": "markdown",
   "metadata": {},
   "source": [
    "Apesar do grande número de classes, pode-se observar a linha formada pelos acertos na diagonal da imagem, demonstrando o alto índice de acerto do modelo."
   ]
  },
  {
   "cell_type": "markdown",
   "metadata": {},
   "source": [
    "Para melhorar a visão, esboçaremos a matriz de confusão para o item 'HONDA BIZ 100 C100 125 C125' versus o resto (OVR), isso nos permitirá ver a classificação como se fosse uma classificação binária OvR do tipo ou é a classificação demonstrada ou é o resto. "
   ]
  },
  {
   "cell_type": "code",
   "execution_count": null,
   "metadata": {
    "scrolled": true
   },
   "outputs": [],
   "source": [
    "# gera o plot da matriz de confusão OvR para o modtste do resultadosvc\n",
    "modteste='HONDA BIZ 100 C100 125 C125'\n",
    "plotConfusaoOvR(modteste, resultadomnb, cmmnb)"
   ]
  },
  {
   "cell_type": "markdown",
   "metadata": {},
   "source": [
    "### Utilização do Modelo"
   ]
  },
  {
   "cell_type": "markdown",
   "metadata": {},
   "source": [
    "O modelo deverá receber uma descrição do produto conforme entrada do contribuinte na Declaração de Importação e deverá retornar a classificação de aplicação da motocicleta."
   ]
  },
  {
   "cell_type": "markdown",
   "metadata": {},
   "source": [
    "#### Teste com a linha de exemplo"
   ]
  },
  {
   "cell_type": "code",
   "execution_count": null,
   "metadata": {},
   "outputs": [],
   "source": [
    "print('index:', linha)\n",
    "descricao = df.iloc[linha]['DESCRICAO DO PRODUTO'] \n",
    "# verifica a descrição do produto\n",
    "descricao"
   ]
  },
  {
   "cell_type": "code",
   "execution_count": null,
   "metadata": {
    "scrolled": true
   },
   "outputs": [],
   "source": [
    "classificaAplicacaoMNB(criaModelo(descricao))"
   ]
  },
  {
   "cell_type": "markdown",
   "metadata": {},
   "source": [
    "## <br><span style=\"color:blue\">Modelo de Regressão Logística"
   ]
  },
  {
   "cell_type": "markdown",
   "metadata": {},
   "source": [
    "### Treinamento do modelo"
   ]
  },
  {
   "cell_type": "code",
   "execution_count": null,
   "metadata": {},
   "outputs": [],
   "source": [
    "# Criando modelo\n",
    "clflgr = LogisticRegression(solver='lbfgs',multi_class='multinomial')\n",
    "# Treinamento do modelo\n",
    "clflgr.fit(X_train, y_train)"
   ]
  },
  {
   "cell_type": "markdown",
   "metadata": {},
   "source": [
    "### Função de classificação"
   ]
  },
  {
   "cell_type": "markdown",
   "metadata": {
    "colab_type": "text",
    "id": "glPX-gZyuLwr"
   },
   "source": [
    "A função para utilização do modelo, recebe a descrição filtrada Modelo e retorna a aplicação.\n"
   ]
  },
  {
   "cell_type": "code",
   "execution_count": null,
   "metadata": {
    "colab": {},
    "colab_type": "code",
    "id": "sbEB0-E5dwlc"
   },
   "outputs": [],
   "source": [
    "def classificaAplicacaoLGR(modelo):\n",
    "    novo_cvt = cvt.transform(pd.Series(modelo))\n",
    "    novo_tfi = tfi.transform(novo_cvt)\n",
    "    aplicacao = clflgr.predict(novo_tfi)[0]\n",
    "    return aplicacao"
   ]
  },
  {
   "cell_type": "markdown",
   "metadata": {},
   "source": [
    "No final o nosso resultado mostrando (Modelo: descrição filtrada para o modelo e Aplicação: aplicação prevista).<br>"
   ]
  },
  {
   "cell_type": "code",
   "execution_count": null,
   "metadata": {
    "colab_type": "text",
    "id": "e3QxsHVfuQip",
    "scrolled": false
   },
   "outputs": [],
   "source": [
    "# Lista de exemplos de novos produtos\n",
    "modelos = ['150 CG FAN HONDA TITAN',\n",
    "           '125 CARGO CG HONDA TITAN',\n",
    "           'BIZ C100 HONDA',\n",
    "           '100 HONDA BIZ',\n",
    "           '100 BIZ BRAVO HONDA',\n",
    "           '125 YBR GT YAMAHA',\n",
    "           '250F TWISTER HONDA']\n",
    "# Loop for para fazer a predição do departamento de novos produtos\n",
    "for modelo in modelos:\n",
    "    print('Modelo:', modelo, 'Aplicação:', classificaAplicacaoLGR(modelo))"
   ]
  },
  {
   "cell_type": "markdown",
   "metadata": {},
   "source": [
    "### Predição e avaliação do Modelo de Regressão Logística"
   ]
  },
  {
   "cell_type": "markdown",
   "metadata": {},
   "source": [
    "#### Métricas"
   ]
  },
  {
   "cell_type": "code",
   "execution_count": null,
   "metadata": {},
   "outputs": [],
   "source": [
    "# Realizando a predição\n",
    "resultadolgr = clflgr.predict(X_test)\n",
    "# Avaliando o modelo\n",
    "print('Acurácia: {:.2f}'.format(metrics.accuracy_score(y_test, resultadolgr)))\n",
    "print('Precisão: {:.2f}'.format(metrics.precision_score(y_test, resultadolgr,average='micro')))\n",
    "print('Recall:   {:.2f}'.format(metrics.recall_score(y_test, resultadolgr,average='micro')))\n",
    "print('F1_Score: {:.2f}'.format(metrics.f1_score(y_test, resultadolgr,average='micro')))"
   ]
  },
  {
   "cell_type": "code",
   "execution_count": null,
   "metadata": {
    "scrolled": true
   },
   "outputs": [],
   "source": [
    "# Avaliação completa\n",
    "print(metrics.classification_report(y_test, resultadolgr))"
   ]
  },
  {
   "cell_type": "markdown",
   "metadata": {},
   "source": [
    "O alerta ao finial do relatório é esperado, tendo em vista que existem aplicações raras e que não aprecerem no grupo de teste."
   ]
  },
  {
   "cell_type": "markdown",
   "metadata": {},
   "source": [
    "#### Matriz de Confusão"
   ]
  },
  {
   "cell_type": "code",
   "execution_count": null,
   "metadata": {},
   "outputs": [],
   "source": [
    "# importa os módulos\n",
    "# gera a matriz de confusão formatada (adaptado por mim)\n",
    "from prettyPlotConfusionMatrix import pretty_plot_confusion_matrix # prettyPlotConfusionMatrix.py local\n",
    "# código disponível em https://github.com/wcipriano/pretty-print-confusion-matrix\n",
    "from sklearn.metrics import confusion_matrix"
   ]
  },
  {
   "cell_type": "code",
   "execution_count": null,
   "metadata": {},
   "outputs": [],
   "source": [
    "aplicacoeslgr = np.unique(resultadolgr) # define os aplicações presentes no resultado\n",
    "cmlgr = confusion_matrix(y_test, resultadolgr, aplicacoeslgr) # cria a matriz de confusão \n",
    "dfmclgr=pd.DataFrame(cmlgr,index=aplicacoeslgr,columns=aplicacoeslgr) # converte a matriz em dataframe"
   ]
  },
  {
   "cell_type": "code",
   "execution_count": null,
   "metadata": {},
   "outputs": [],
   "source": [
    "pretty_plot_confusion_matrix(dfmclgr, annot=True, cmap=\"tab10\", fmt='.0f', fz=1, lw=0.5, cbar=False, \n",
    "                             figsize=[30,20], show_null_values=2, pred_val_axis='x',insertTot=False) "
   ]
  },
  {
   "cell_type": "markdown",
   "metadata": {},
   "source": [
    "Apesar do grande número de classes, pode-se observar a linha formada pelos acertos na diagonal da imagem, demonstrando o alto índice de acerto do modelo."
   ]
  },
  {
   "cell_type": "markdown",
   "metadata": {},
   "source": [
    "Para melhorar a visão, esboçaremos a matriz de confusão para o item 'HONDA BIZ 100 C100 125 C125' versus o resto (OVR), isso nos permitirá ver a classificação como se fosse uma classificação binária OvR do tipo ou é a classificação demonstrada ou é o resto. "
   ]
  },
  {
   "cell_type": "code",
   "execution_count": null,
   "metadata": {
    "scrolled": true
   },
   "outputs": [],
   "source": [
    "# gera o plot da matriz de confusão OvR para o modtste do resultadosvc\n",
    "modteste='HONDA BIZ 100 C100 125 C125'\n",
    "plotConfusaoOvR(modteste, aplicacoeslgr, cmlgr)"
   ]
  },
  {
   "cell_type": "markdown",
   "metadata": {},
   "source": [
    "### Utilização do Modelo"
   ]
  },
  {
   "cell_type": "markdown",
   "metadata": {},
   "source": [
    "O modelo deverá receber uma descrição do produto conforme entrada do contribuinte na Declaração de Importação e deverá retornar a classificação de aplicação da motocicleta."
   ]
  },
  {
   "cell_type": "markdown",
   "metadata": {},
   "source": [
    "#### Teste com a linha de exemplo"
   ]
  },
  {
   "cell_type": "code",
   "execution_count": null,
   "metadata": {},
   "outputs": [],
   "source": [
    "print('index:', linha)\n",
    "descricao = df.iloc[linha]['DESCRICAO DO PRODUTO'] \n",
    "# verifica a descrição do produto\n",
    "descricao"
   ]
  },
  {
   "cell_type": "code",
   "execution_count": null,
   "metadata": {
    "scrolled": true
   },
   "outputs": [],
   "source": [
    "classificaAplicacaoLGR(criaModelo(descricao))"
   ]
  },
  {
   "cell_type": "markdown",
   "metadata": {},
   "source": [
    "## Escolha do Modelo"
   ]
  },
  {
   "cell_type": "markdown",
   "metadata": {},
   "source": [
    "Todos os modelos tiveram performance em acertos semelhantes e qualquer um dos escolhidos desempenharia bem o papel de classificar as aplicações.<br>\n",
    "A escolha tomou por base a performance em tempo de execução, sendo o modelo **Linear SVC** o mais rápido dos três analisados."
   ]
  }
 ],
 "metadata": {
  "colab": {
   "collapsed_sections": [],
   "name": "NLP com scikit-learn.ipynb",
   "provenance": [],
   "toc_visible": true
  },
  "kernelspec": {
   "display_name": "Python 3",
   "language": "python",
   "name": "python3"
  },
  "language_info": {
   "codemirror_mode": {
    "name": "ipython",
    "version": 3
   },
   "file_extension": ".py",
   "mimetype": "text/x-python",
   "name": "python",
   "nbconvert_exporter": "python",
   "pygments_lexer": "ipython3",
   "version": "3.7.3"
  },
  "toc": {
   "base_numbering": 1,
   "nav_menu": {},
   "number_sections": false,
   "sideBar": false,
   "skip_h1_title": false,
   "title_cell": "Sumário",
   "title_sidebar": "Sumário",
   "toc_cell": false,
   "toc_position": {},
   "toc_section_display": true,
   "toc_window_display": false
  }
 },
 "nbformat": 4,
 "nbformat_minor": 1
}
