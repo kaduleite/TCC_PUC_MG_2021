{
 "cells": [
  {
   "cell_type": "markdown",
   "metadata": {},
   "source": [
    "# _Notebook Jupyter_ 1b_trataABIMOTO13"
   ]
  },
  {
   "cell_type": "markdown",
   "metadata": {},
   "source": [
    "# Importação e tratamento Tabela ABIMOTO v13"
   ]
  },
  {
   "cell_type": "markdown",
   "metadata": {},
   "source": [
    "A tabela ABIMOTO v13 é fornecida em PDF, que foi manualmente transformado em uma planilha do Excel no formato XLSX."
   ]
  },
  {
   "cell_type": "markdown",
   "metadata": {},
   "source": [
    "### Importação das Bibliotecas"
   ]
  },
  {
   "cell_type": "code",
   "execution_count": 1,
   "metadata": {},
   "outputs": [],
   "source": [
    "import pandas as pd\n",
    "import numpy as np\n",
    "import os, time"
   ]
  },
  {
   "cell_type": "code",
   "execution_count": 2,
   "metadata": {},
   "outputs": [
    {
     "name": "stdout",
     "output_type": "stream",
     "text": [
      "Código executado em 10/01/2022 às 18:09\n"
     ]
    }
   ],
   "source": [
    "# Data e hora da execução do script\n",
    "print(f'Código executado em {time.strftime(\"%d/%m/%Y às %H:%M\", time.localtime(time.time()))}')"
   ]
  },
  {
   "cell_type": "markdown",
   "metadata": {},
   "source": [
    "### Definindo dados gerais"
   ]
  },
  {
   "cell_type": "markdown",
   "metadata": {},
   "source": [
    "Cria variáveis com nomes das colunas e seus tipos"
   ]
  },
  {
   "cell_type": "code",
   "execution_count": 3,
   "metadata": {},
   "outputs": [],
   "source": [
    "tipos = { 'ITEM' : int, \n",
    "          'PARTES E PEÇAS' : str, \n",
    "          'MOTO PARTS' : str, \n",
    "          'NCM' : str, \n",
    "          'UNI' : str, \n",
    "          'VMLE' : float }\n",
    "colunas = list(tipos.keys())"
   ]
  },
  {
   "cell_type": "markdown",
   "metadata": {},
   "source": [
    "Inicializa a variável que conterá o tamanho total do dataset original"
   ]
  },
  {
   "cell_type": "code",
   "execution_count": 4,
   "metadata": {},
   "outputs": [],
   "source": [
    "tamanhoDataset=0"
   ]
  },
  {
   "cell_type": "markdown",
   "metadata": {},
   "source": [
    "Inicializa um dataframe vazio que conterá os dados finais"
   ]
  },
  {
   "cell_type": "code",
   "execution_count": 5,
   "metadata": {},
   "outputs": [
    {
     "data": {
      "text/html": [
       "<div>\n",
       "<style scoped>\n",
       "    .dataframe tbody tr th:only-of-type {\n",
       "        vertical-align: middle;\n",
       "    }\n",
       "\n",
       "    .dataframe tbody tr th {\n",
       "        vertical-align: top;\n",
       "    }\n",
       "\n",
       "    .dataframe thead th {\n",
       "        text-align: right;\n",
       "    }\n",
       "</style>\n",
       "<table border=\"1\" class=\"dataframe\">\n",
       "  <thead>\n",
       "    <tr style=\"text-align: right;\">\n",
       "      <th></th>\n",
       "      <th>ITEM</th>\n",
       "      <th>PARTES E PEÇAS</th>\n",
       "      <th>MOTO PARTS</th>\n",
       "      <th>NCM</th>\n",
       "      <th>UNI</th>\n",
       "      <th>VMLE</th>\n",
       "    </tr>\n",
       "  </thead>\n",
       "  <tbody>\n",
       "  </tbody>\n",
       "</table>\n",
       "</div>"
      ],
      "text/plain": [
       "Empty DataFrame\n",
       "Columns: [ITEM, PARTES E PEÇAS, MOTO PARTS, NCM, UNI, VMLE]\n",
       "Index: []"
      ]
     },
     "execution_count": 5,
     "metadata": {},
     "output_type": "execute_result"
    }
   ],
   "source": [
    "df = pd.DataFrame(columns = colunas)\n",
    "df.head()"
   ]
  },
  {
   "cell_type": "markdown",
   "metadata": {},
   "source": [
    "### Importa o arquivo Excel XLSX, trata e concatena no DataFrame final"
   ]
  },
  {
   "cell_type": "code",
   "execution_count": 6,
   "metadata": {},
   "outputs": [
    {
     "name": "stdout",
     "output_type": "stream",
     "text": [
      "Iniciando ABIMOTO13.xlsx.\n",
      "DataFrame carregado...\n",
      "Aplicando filtros...\n",
      "Quantidade de registros válidos: 129\n",
      "ABIMOTO13.xlsx finalizado.\n",
      "\n"
     ]
    }
   ],
   "source": [
    "# Executa a importação e tratamento do arquivo\n",
    "arq = 'ABIMOTO13.xlsx'\n",
    "print('Iniciando ' + arq + '.')\n",
    "df = pd.read_excel(arq,\n",
    "                   sep='@', \n",
    "                   decimal=r',', \n",
    "                   encoding = \"ISO-8859-1\",\n",
    "                   header = 0,\n",
    "                   names = colunas,\n",
    "                   dtype = tipos, \n",
    "                   quotechar=\"'\", \n",
    "                   error_bad_lines=False)\n",
    "print('DataFrame carregado...\\nAplicando filtros...')\n",
    "# Elimina os registros sem valores ou nulos\n",
    "df = df.dropna()\n",
    "# Incrementa o tamanho do Dataset\n",
    "tamanhoDataset += df[df.columns[0]].count()\n",
    "print('Quantidade de registros válidos: ' + str(tamanhoDataset))\n",
    "# Filtra o DataFrame somente com os registros de interesse\n",
    "# Filtro 1: NCM de interesse: 87141000\n",
    "indiceNCM = df['NCM'] == '87141000'\n",
    "df = df[indiceNCM]\n",
    "# Filtro 2: Descrição contendo 'kit' e 'transm'\n",
    "df = df[df['PARTES E PEÇAS'].str.contains(\"kit\", case=False)]\n",
    "df = df[df['PARTES E PEÇAS'].str.contains(\"transm\", case=False)]\n",
    "print(arq + ' finalizado.\\n')"
   ]
  },
  {
   "cell_type": "markdown",
   "metadata": {},
   "source": [
    "### Ajustando a descrição e indicação de presença de retentor no kit"
   ]
  },
  {
   "cell_type": "code",
   "execution_count": 7,
   "metadata": {},
   "outputs": [
    {
     "data": {
      "text/html": [
       "<div>\n",
       "<style scoped>\n",
       "    .dataframe tbody tr th:only-of-type {\n",
       "        vertical-align: middle;\n",
       "    }\n",
       "\n",
       "    .dataframe tbody tr th {\n",
       "        vertical-align: top;\n",
       "    }\n",
       "\n",
       "    .dataframe thead th {\n",
       "        text-align: right;\n",
       "    }\n",
       "</style>\n",
       "<table border=\"1\" class=\"dataframe\">\n",
       "  <thead>\n",
       "    <tr style=\"text-align: right;\">\n",
       "      <th></th>\n",
       "      <th>ITEM</th>\n",
       "      <th>PARTES E PEÇAS</th>\n",
       "      <th>MOTO PARTS</th>\n",
       "      <th>NCM</th>\n",
       "      <th>UNI</th>\n",
       "      <th>VMLE</th>\n",
       "    </tr>\n",
       "  </thead>\n",
       "  <tbody>\n",
       "    <tr>\n",
       "      <th>77</th>\n",
       "      <td>78</td>\n",
       "      <td>KIT TRANSMISSÃO 1045 C100 BIZ 15D+428HX108+35D...</td>\n",
       "      <td>TRANS.SET 1045 C100 BIZ 15D+428HX108+35D W/PR.</td>\n",
       "      <td>87141000</td>\n",
       "      <td>RETENTOR KIT COM</td>\n",
       "      <td>6.47</td>\n",
       "    </tr>\n",
       "    <tr>\n",
       "      <th>78</th>\n",
       "      <td>79</td>\n",
       "      <td>KIT TRANSMISSÃO 1045 C100 BIZ 15D+428HX108+35D...</td>\n",
       "      <td>TRANS.SET 1045 C100 BIZ 15D+428HX108+35D W/PR.</td>\n",
       "      <td>87141000</td>\n",
       "      <td>RETENTOR KIT SEM</td>\n",
       "      <td>3.90</td>\n",
       "    </tr>\n",
       "    <tr>\n",
       "      <th>79</th>\n",
       "      <td>80</td>\n",
       "      <td>KIT TRANSMISSÃO 1045 (CORRENTE.COROA. PINHAO) ...</td>\n",
       "      <td>TRANS.SET 1045 (CHAIN + SPROCKET) CBX 250 TWISTER</td>\n",
       "      <td>87141000</td>\n",
       "      <td>KIT COM RETENTOR</td>\n",
       "      <td>9.30</td>\n",
       "    </tr>\n",
       "    <tr>\n",
       "      <th>80</th>\n",
       "      <td>81</td>\n",
       "      <td>KIT TRANSMISSÃO 1045 (CORRENTE.COROA. PINHAO) ...</td>\n",
       "      <td>TRANS.SET 1045 (CHAIN + SPROCKET) CBX 250 TWISTER</td>\n",
       "      <td>87141000</td>\n",
       "      <td>KIT SEM RETENTOR</td>\n",
       "      <td>6.25</td>\n",
       "    </tr>\n",
       "    <tr>\n",
       "      <th>81</th>\n",
       "      <td>82</td>\n",
       "      <td>KIT TRANSMISSÃO 1045 FAZER 250</td>\n",
       "      <td>TRANSMISSION SET + H CHAIN FAZER 251</td>\n",
       "      <td>87141000</td>\n",
       "      <td>RETENTOR KIT COM</td>\n",
       "      <td>8.20</td>\n",
       "    </tr>\n",
       "  </tbody>\n",
       "</table>\n",
       "</div>"
      ],
      "text/plain": [
       "    ITEM                                     PARTES E PEÇAS  \\\n",
       "77    78  KIT TRANSMISSÃO 1045 C100 BIZ 15D+428HX108+35D...   \n",
       "78    79  KIT TRANSMISSÃO 1045 C100 BIZ 15D+428HX108+35D...   \n",
       "79    80  KIT TRANSMISSÃO 1045 (CORRENTE.COROA. PINHAO) ...   \n",
       "80    81  KIT TRANSMISSÃO 1045 (CORRENTE.COROA. PINHAO) ...   \n",
       "81    82                     KIT TRANSMISSÃO 1045 FAZER 250   \n",
       "\n",
       "                                           MOTO PARTS       NCM  \\\n",
       "77    TRANS.SET 1045 C100 BIZ 15D+428HX108+35D W/PR.   87141000   \n",
       "78    TRANS.SET 1045 C100 BIZ 15D+428HX108+35D W/PR.   87141000   \n",
       "79  TRANS.SET 1045 (CHAIN + SPROCKET) CBX 250 TWISTER  87141000   \n",
       "80  TRANS.SET 1045 (CHAIN + SPROCKET) CBX 250 TWISTER  87141000   \n",
       "81              TRANSMISSION SET + H CHAIN FAZER 251   87141000   \n",
       "\n",
       "                  UNI  VMLE  \n",
       "77  RETENTOR KIT COM   6.47  \n",
       "78  RETENTOR KIT SEM   3.90  \n",
       "79  KIT COM RETENTOR   9.30  \n",
       "80  KIT SEM RETENTOR   6.25  \n",
       "81  RETENTOR KIT COM   8.20  "
      ]
     },
     "execution_count": 7,
     "metadata": {},
     "output_type": "execute_result"
    }
   ],
   "source": [
    "df.head()"
   ]
  },
  {
   "cell_type": "markdown",
   "metadata": {},
   "source": [
    "Em virtude de haver observação se há ou não retentor na coluna UND faremos a adequação da descrição pra conter tal informação."
   ]
  },
  {
   "cell_type": "code",
   "execution_count": 8,
   "metadata": {},
   "outputs": [],
   "source": [
    "obs = [\"COM RETENTOR\" if \"COM\" in x else \"SEM RETENTOR\" for x in df.UNI.str.split()]\n",
    "df[\"PARTES E PEÇAS\"] = df[\"PARTES E PEÇAS\"] + \" \" + obs"
   ]
  },
  {
   "cell_type": "markdown",
   "metadata": {},
   "source": [
    "Em seguida define-se a coluna UNI como 'KIT'"
   ]
  },
  {
   "cell_type": "code",
   "execution_count": 9,
   "metadata": {},
   "outputs": [],
   "source": [
    "df['UNI']='KIT'"
   ]
  },
  {
   "cell_type": "markdown",
   "metadata": {},
   "source": [
    "E por fim cria-se a coluna RETENTOR do tipo _boolean_ para indicar ou não a presença do retentor no kit."
   ]
  },
  {
   "cell_type": "code",
   "execution_count": 10,
   "metadata": {},
   "outputs": [],
   "source": [
    "from funcoesTCC import retentorAux # função importada do módulo de funções criarModelo\n",
    "df['RETENTOR'] = df['PARTES E PEÇAS'].apply(retentorAux)"
   ]
  },
  {
   "cell_type": "markdown",
   "metadata": {},
   "source": [
    "### Resetando o índice do DataFrame final"
   ]
  },
  {
   "cell_type": "code",
   "execution_count": 11,
   "metadata": {},
   "outputs": [],
   "source": [
    "df.reset_index(inplace=True, drop=True)"
   ]
  },
  {
   "cell_type": "markdown",
   "metadata": {},
   "source": [
    "### Verificando o DataFrame final"
   ]
  },
  {
   "cell_type": "code",
   "execution_count": 12,
   "metadata": {},
   "outputs": [
    {
     "data": {
      "text/html": [
       "<div>\n",
       "<style scoped>\n",
       "    .dataframe tbody tr th:only-of-type {\n",
       "        vertical-align: middle;\n",
       "    }\n",
       "\n",
       "    .dataframe tbody tr th {\n",
       "        vertical-align: top;\n",
       "    }\n",
       "\n",
       "    .dataframe thead th {\n",
       "        text-align: right;\n",
       "    }\n",
       "</style>\n",
       "<table border=\"1\" class=\"dataframe\">\n",
       "  <thead>\n",
       "    <tr style=\"text-align: right;\">\n",
       "      <th></th>\n",
       "      <th>ITEM</th>\n",
       "      <th>PARTES E PEÇAS</th>\n",
       "      <th>MOTO PARTS</th>\n",
       "      <th>NCM</th>\n",
       "      <th>UNI</th>\n",
       "      <th>VMLE</th>\n",
       "      <th>RETENTOR</th>\n",
       "    </tr>\n",
       "  </thead>\n",
       "  <tbody>\n",
       "    <tr>\n",
       "      <th>0</th>\n",
       "      <td>78</td>\n",
       "      <td>KIT TRANSMISSÃO 1045 C100 BIZ 15D+428HX108+35D...</td>\n",
       "      <td>TRANS.SET 1045 C100 BIZ 15D+428HX108+35D W/PR.</td>\n",
       "      <td>87141000</td>\n",
       "      <td>KIT</td>\n",
       "      <td>6.47</td>\n",
       "      <td>True</td>\n",
       "    </tr>\n",
       "    <tr>\n",
       "      <th>1</th>\n",
       "      <td>79</td>\n",
       "      <td>KIT TRANSMISSÃO 1045 C100 BIZ 15D+428HX108+35D...</td>\n",
       "      <td>TRANS.SET 1045 C100 BIZ 15D+428HX108+35D W/PR.</td>\n",
       "      <td>87141000</td>\n",
       "      <td>KIT</td>\n",
       "      <td>3.90</td>\n",
       "      <td>False</td>\n",
       "    </tr>\n",
       "    <tr>\n",
       "      <th>2</th>\n",
       "      <td>80</td>\n",
       "      <td>KIT TRANSMISSÃO 1045 (CORRENTE.COROA. PINHAO) ...</td>\n",
       "      <td>TRANS.SET 1045 (CHAIN + SPROCKET) CBX 250 TWISTER</td>\n",
       "      <td>87141000</td>\n",
       "      <td>KIT</td>\n",
       "      <td>9.30</td>\n",
       "      <td>True</td>\n",
       "    </tr>\n",
       "    <tr>\n",
       "      <th>3</th>\n",
       "      <td>81</td>\n",
       "      <td>KIT TRANSMISSÃO 1045 (CORRENTE.COROA. PINHAO) ...</td>\n",
       "      <td>TRANS.SET 1045 (CHAIN + SPROCKET) CBX 250 TWISTER</td>\n",
       "      <td>87141000</td>\n",
       "      <td>KIT</td>\n",
       "      <td>6.25</td>\n",
       "      <td>False</td>\n",
       "    </tr>\n",
       "    <tr>\n",
       "      <th>4</th>\n",
       "      <td>82</td>\n",
       "      <td>KIT TRANSMISSÃO 1045 FAZER 250 COM RETENTOR</td>\n",
       "      <td>TRANSMISSION SET + H CHAIN FAZER 251</td>\n",
       "      <td>87141000</td>\n",
       "      <td>KIT</td>\n",
       "      <td>8.20</td>\n",
       "      <td>True</td>\n",
       "    </tr>\n",
       "  </tbody>\n",
       "</table>\n",
       "</div>"
      ],
      "text/plain": [
       "   ITEM                                     PARTES E PEÇAS  \\\n",
       "0    78  KIT TRANSMISSÃO 1045 C100 BIZ 15D+428HX108+35D...   \n",
       "1    79  KIT TRANSMISSÃO 1045 C100 BIZ 15D+428HX108+35D...   \n",
       "2    80  KIT TRANSMISSÃO 1045 (CORRENTE.COROA. PINHAO) ...   \n",
       "3    81  KIT TRANSMISSÃO 1045 (CORRENTE.COROA. PINHAO) ...   \n",
       "4    82        KIT TRANSMISSÃO 1045 FAZER 250 COM RETENTOR   \n",
       "\n",
       "                                          MOTO PARTS       NCM  UNI  VMLE  \\\n",
       "0    TRANS.SET 1045 C100 BIZ 15D+428HX108+35D W/PR.   87141000  KIT  6.47   \n",
       "1    TRANS.SET 1045 C100 BIZ 15D+428HX108+35D W/PR.   87141000  KIT  3.90   \n",
       "2  TRANS.SET 1045 (CHAIN + SPROCKET) CBX 250 TWISTER  87141000  KIT  9.30   \n",
       "3  TRANS.SET 1045 (CHAIN + SPROCKET) CBX 250 TWISTER  87141000  KIT  6.25   \n",
       "4              TRANSMISSION SET + H CHAIN FAZER 251   87141000  KIT  8.20   \n",
       "\n",
       "   RETENTOR  \n",
       "0      True  \n",
       "1     False  \n",
       "2      True  \n",
       "3     False  \n",
       "4      True  "
      ]
     },
     "execution_count": 12,
     "metadata": {},
     "output_type": "execute_result"
    }
   ],
   "source": [
    "df.head()"
   ]
  },
  {
   "cell_type": "code",
   "execution_count": 13,
   "metadata": {},
   "outputs": [
    {
     "data": {
      "text/html": [
       "<div>\n",
       "<style scoped>\n",
       "    .dataframe tbody tr th:only-of-type {\n",
       "        vertical-align: middle;\n",
       "    }\n",
       "\n",
       "    .dataframe tbody tr th {\n",
       "        vertical-align: top;\n",
       "    }\n",
       "\n",
       "    .dataframe thead th {\n",
       "        text-align: right;\n",
       "    }\n",
       "</style>\n",
       "<table border=\"1\" class=\"dataframe\">\n",
       "  <thead>\n",
       "    <tr style=\"text-align: right;\">\n",
       "      <th></th>\n",
       "      <th>ITEM</th>\n",
       "      <th>PARTES E PEÇAS</th>\n",
       "      <th>MOTO PARTS</th>\n",
       "      <th>NCM</th>\n",
       "      <th>UNI</th>\n",
       "      <th>VMLE</th>\n",
       "      <th>RETENTOR</th>\n",
       "    </tr>\n",
       "  </thead>\n",
       "  <tbody>\n",
       "    <tr>\n",
       "      <th>11</th>\n",
       "      <td>89</td>\n",
       "      <td>KIT TRANSMISSÃO 1045 TITAN 150 16D+428HX118+43...</td>\n",
       "      <td>TRANS.SET 1045 TITAN 16D+428HX118+43D W/PROT.</td>\n",
       "      <td>87141000</td>\n",
       "      <td>KIT</td>\n",
       "      <td>4.3</td>\n",
       "      <td>False</td>\n",
       "    </tr>\n",
       "    <tr>\n",
       "      <th>12</th>\n",
       "      <td>90</td>\n",
       "      <td>KIT TRANSMISSÃO XRE - 300  COM RETENTOR</td>\n",
       "      <td>TRANSMISSION SET + H CHAIN XRE 301</td>\n",
       "      <td>87141000</td>\n",
       "      <td>KIT</td>\n",
       "      <td>9.0</td>\n",
       "      <td>True</td>\n",
       "    </tr>\n",
       "    <tr>\n",
       "      <th>13</th>\n",
       "      <td>91</td>\n",
       "      <td>KIT TRANSMISSÃO XRE - 300  SEM RETENTOR</td>\n",
       "      <td>TRANSMISSION SET + H CHAIN XRE 301</td>\n",
       "      <td>87141000</td>\n",
       "      <td>KIT</td>\n",
       "      <td>6.0</td>\n",
       "      <td>False</td>\n",
       "    </tr>\n",
       "    <tr>\n",
       "      <th>14</th>\n",
       "      <td>92</td>\n",
       "      <td>KIT TRANSMISSÃO XTZ - 250 LANDER COM RETENTOR</td>\n",
       "      <td>TRANSMISSION SET + H CHAIN 250 LANDER</td>\n",
       "      <td>87141000</td>\n",
       "      <td>KIT</td>\n",
       "      <td>8.2</td>\n",
       "      <td>True</td>\n",
       "    </tr>\n",
       "    <tr>\n",
       "      <th>15</th>\n",
       "      <td>93</td>\n",
       "      <td>KIT TRANSMISSÃO XTZ - 250 LANDER SEM RETENTOR</td>\n",
       "      <td>TRANSMISSION SET + H CHAIN 250 LANDER</td>\n",
       "      <td>87141000</td>\n",
       "      <td>KIT</td>\n",
       "      <td>4.4</td>\n",
       "      <td>False</td>\n",
       "    </tr>\n",
       "  </tbody>\n",
       "</table>\n",
       "</div>"
      ],
      "text/plain": [
       "    ITEM                                     PARTES E PEÇAS  \\\n",
       "11    89  KIT TRANSMISSÃO 1045 TITAN 150 16D+428HX118+43...   \n",
       "12    90            KIT TRANSMISSÃO XRE - 300  COM RETENTOR   \n",
       "13    91            KIT TRANSMISSÃO XRE - 300  SEM RETENTOR   \n",
       "14    92      KIT TRANSMISSÃO XTZ - 250 LANDER COM RETENTOR   \n",
       "15    93      KIT TRANSMISSÃO XTZ - 250 LANDER SEM RETENTOR   \n",
       "\n",
       "                                        MOTO PARTS       NCM  UNI  VMLE  \\\n",
       "11  TRANS.SET 1045 TITAN 16D+428HX118+43D W/PROT.   87141000  KIT   4.3   \n",
       "12             TRANSMISSION SET + H CHAIN XRE 301   87141000  KIT   9.0   \n",
       "13             TRANSMISSION SET + H CHAIN XRE 301   87141000  KIT   6.0   \n",
       "14          TRANSMISSION SET + H CHAIN 250 LANDER   87141000  KIT   8.2   \n",
       "15          TRANSMISSION SET + H CHAIN 250 LANDER   87141000  KIT   4.4   \n",
       "\n",
       "    RETENTOR  \n",
       "11     False  \n",
       "12      True  \n",
       "13     False  \n",
       "14      True  \n",
       "15     False  "
      ]
     },
     "execution_count": 13,
     "metadata": {},
     "output_type": "execute_result"
    }
   ],
   "source": [
    "df.tail()"
   ]
  },
  {
   "cell_type": "code",
   "execution_count": 14,
   "metadata": {},
   "outputs": [
    {
     "data": {
      "text/plain": [
       "0     KIT TRANSMISSÃO 1045 C100 BIZ 15D+428HX108+35D...\n",
       "1     KIT TRANSMISSÃO 1045 C100 BIZ 15D+428HX108+35D...\n",
       "2     KIT TRANSMISSÃO 1045 (CORRENTE.COROA. PINHAO) ...\n",
       "3     KIT TRANSMISSÃO 1045 (CORRENTE.COROA. PINHAO) ...\n",
       "4           KIT TRANSMISSÃO 1045 FAZER 250 COM RETENTOR\n",
       "5           KIT TRANSMISSÃO 1045 FAZER 250 SEM RETENTOR\n",
       "6     KIT TRANSMISSÃO 1045 TITAN 2000/04 14D+428HX11...\n",
       "7     KIT TRANSMISSÃO 1045 TITAN 2000/04 14D+428HX11...\n",
       "8     KIT TRANSMISSÃO 1045 YBR-125 2000/2002 14D+428...\n",
       "9     KIT TRANSMISSÃO 1045 YBR-125 2000/2002 14D+428...\n",
       "10    KIT TRANSMISSÃO 1045 TITAN 150 16D+428HX118+43...\n",
       "11    KIT TRANSMISSÃO 1045 TITAN 150 16D+428HX118+43...\n",
       "12              KIT TRANSMISSÃO XRE - 300  COM RETENTOR\n",
       "13              KIT TRANSMISSÃO XRE - 300  SEM RETENTOR\n",
       "14        KIT TRANSMISSÃO XTZ - 250 LANDER COM RETENTOR\n",
       "15        KIT TRANSMISSÃO XTZ - 250 LANDER SEM RETENTOR\n",
       "Name: PARTES E PEÇAS, dtype: object"
      ]
     },
     "execution_count": 14,
     "metadata": {},
     "output_type": "execute_result"
    }
   ],
   "source": [
    "df['PARTES E PEÇAS']"
   ]
  },
  {
   "cell_type": "code",
   "execution_count": 15,
   "metadata": {},
   "outputs": [
    {
     "data": {
      "text/plain": [
       "(16, 7)"
      ]
     },
     "execution_count": 15,
     "metadata": {},
     "output_type": "execute_result"
    }
   ],
   "source": [
    "df.shape"
   ]
  },
  {
   "cell_type": "markdown",
   "metadata": {},
   "source": [
    "### Exportando o DataFrame"
   ]
  },
  {
   "cell_type": "markdown",
   "metadata": {},
   "source": [
    "Exportando para um arquivo CSV"
   ]
  },
  {
   "cell_type": "code",
   "execution_count": 16,
   "metadata": {},
   "outputs": [],
   "source": [
    "df.to_csv(r'dfABIMOTOv13.csv', index = False, header = True)"
   ]
  },
  {
   "cell_type": "markdown",
   "metadata": {},
   "source": [
    "Exportando para um arquivo de planilha do Excel"
   ]
  },
  {
   "cell_type": "code",
   "execution_count": 17,
   "metadata": {},
   "outputs": [],
   "source": [
    "df.to_excel(r'dfABIMOTOv13.xlsx', index = False, header = True)"
   ]
  },
  {
   "cell_type": "markdown",
   "metadata": {},
   "source": [
    "Compara o tamanho total do Dataset inicial e final"
   ]
  },
  {
   "cell_type": "code",
   "execution_count": 18,
   "metadata": {},
   "outputs": [
    {
     "name": "stdout",
     "output_type": "stream",
     "text": [
      "Qtd de registros Dataset original: 129\n",
      "Qtd de registros Dataset final:    16\n"
     ]
    }
   ],
   "source": [
    "print('Qtd de registros Dataset original: ' + str(tamanhoDataset))\n",
    "print('Qtd de registros Dataset final:    ' + str(df[df.columns[0]].count()))"
   ]
  }
 ],
 "metadata": {
  "kernelspec": {
   "display_name": "Python 3",
   "language": "python",
   "name": "python3"
  },
  "language_info": {
   "codemirror_mode": {
    "name": "ipython",
    "version": 3
   },
   "file_extension": ".py",
   "mimetype": "text/x-python",
   "name": "python",
   "nbconvert_exporter": "python",
   "pygments_lexer": "ipython3",
   "version": "3.7.3"
  }
 },
 "nbformat": 4,
 "nbformat_minor": 2
}
