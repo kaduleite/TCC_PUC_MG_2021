{
 "cells": [
  {
   "cell_type": "markdown",
   "metadata": {},
   "source": [
    "# _Notebook Jupyter_ 4_classificarDESCRICAO"
   ]
  },
  {
   "cell_type": "markdown",
   "metadata": {},
   "source": [
    "# Classificação da DESCRIÇÃO obtida a partir da lista de Aplicações"
   ]
  },
  {
   "cell_type": "markdown",
   "metadata": {},
   "source": [
    "Diante da necessidade de se ter uma série de registros classificados para o aprendizado supervisionado será necessária a classificação prévia de toda a base de dados para a aplicação do aprendizado de máquina que fará predições futuras dessa classificação."
   ]
  },
  {
   "cell_type": "markdown",
   "metadata": {},
   "source": [
    "### Importa as bibliotecas necessárias"
   ]
  },
  {
   "cell_type": "code",
   "execution_count": 1,
   "metadata": {},
   "outputs": [],
   "source": [
    "import pandas as pd, numpy as np\n",
    "import time\n",
    "# importa o CountVectorizer\n",
    "from sklearn.feature_extraction.text import CountVectorizer"
   ]
  },
  {
   "cell_type": "code",
   "execution_count": 2,
   "metadata": {},
   "outputs": [
    {
     "name": "stdout",
     "output_type": "stream",
     "text": [
      "Código executado em 12/01/2022 às 19:31\n"
     ]
    }
   ],
   "source": [
    "# Data e hora da execução do script\n",
    "print(f'Código executado em {time.strftime(\"%d/%m/%Y às %H:%M\", time.localtime(time.time()))}')"
   ]
  },
  {
   "cell_type": "markdown",
   "metadata": {},
   "source": [
    "### Importando a lista de Aplicações"
   ]
  },
  {
   "cell_type": "code",
   "execution_count": 3,
   "metadata": {},
   "outputs": [],
   "source": [
    "df_aplicacoes = pd.read_csv(r'./bases/Aplicacoes.csv')"
   ]
  },
  {
   "cell_type": "code",
   "execution_count": 4,
   "metadata": {},
   "outputs": [
    {
     "data": {
      "text/html": [
       "<div>\n",
       "<style scoped>\n",
       "    .dataframe tbody tr th:only-of-type {\n",
       "        vertical-align: middle;\n",
       "    }\n",
       "\n",
       "    .dataframe tbody tr th {\n",
       "        vertical-align: top;\n",
       "    }\n",
       "\n",
       "    .dataframe thead th {\n",
       "        text-align: right;\n",
       "    }\n",
       "</style>\n",
       "<table border=\"1\" class=\"dataframe\">\n",
       "  <thead>\n",
       "    <tr style=\"text-align: right;\">\n",
       "      <th></th>\n",
       "      <th>APLICACOES</th>\n",
       "    </tr>\n",
       "  </thead>\n",
       "  <tbody>\n",
       "    <tr>\n",
       "      <th>0</th>\n",
       "      <td>ACELLERA ACX 250F 250</td>\n",
       "    </tr>\n",
       "    <tr>\n",
       "      <th>1</th>\n",
       "      <td>ACELLERA FRONTLANDER 500</td>\n",
       "    </tr>\n",
       "    <tr>\n",
       "      <th>2</th>\n",
       "      <td>ACELLERA FRONTLANDER 800 EFI</td>\n",
       "    </tr>\n",
       "    <tr>\n",
       "      <th>3</th>\n",
       "      <td>ACELLERA HOTZOO SPORT 90</td>\n",
       "    </tr>\n",
       "    <tr>\n",
       "      <th>4</th>\n",
       "      <td>ACELLERA QUADRILANDER 300</td>\n",
       "    </tr>\n",
       "  </tbody>\n",
       "</table>\n",
       "</div>"
      ],
      "text/plain": [
       "                     APLICACOES\n",
       "0         ACELLERA ACX 250F 250\n",
       "1      ACELLERA FRONTLANDER 500\n",
       "2  ACELLERA FRONTLANDER 800 EFI\n",
       "3      ACELLERA HOTZOO SPORT 90\n",
       "4     ACELLERA QUADRILANDER 300"
      ]
     },
     "execution_count": 4,
     "metadata": {},
     "output_type": "execute_result"
    }
   ],
   "source": [
    "df_aplicacoes.head()"
   ]
  },
  {
   "cell_type": "code",
   "execution_count": 5,
   "metadata": {},
   "outputs": [
    {
     "data": {
      "text/plain": [
       "(861, 1)"
      ]
     },
     "execution_count": 5,
     "metadata": {},
     "output_type": "execute_result"
    }
   ],
   "source": [
    "df_aplicacoes.shape"
   ]
  },
  {
   "cell_type": "markdown",
   "metadata": {},
   "source": [
    "Observa-se dos dados acima que há 858 modelos de motocicletas disponíveis, que são as nossas possíveis aplicações dos kits de transmissão a serem importados."
   ]
  },
  {
   "cell_type": "markdown",
   "metadata": {},
   "source": [
    "#### Criação das Bags of Words do DataSet de aplicações"
   ]
  },
  {
   "cell_type": "code",
   "execution_count": 6,
   "metadata": {},
   "outputs": [],
   "source": [
    "bow_aplicacoes = CountVectorizer(token_pattern='(?u)\\\\b[a-zA-z0-9\\\\w-]+\\\\b')"
   ]
  },
  {
   "cell_type": "code",
   "execution_count": 7,
   "metadata": {},
   "outputs": [
    {
     "data": {
      "text/plain": [
       "CountVectorizer(analyzer='word', binary=False, decode_error='strict',\n",
       "        dtype=<class 'numpy.int64'>, encoding='utf-8', input='content',\n",
       "        lowercase=True, max_df=1.0, max_features=None, min_df=1,\n",
       "        ngram_range=(1, 1), preprocessor=None, stop_words=None,\n",
       "        strip_accents=None, token_pattern='(?u)\\\\b[a-zA-z0-9\\\\w-]+\\\\b',\n",
       "        tokenizer=None, vocabulary=None)"
      ]
     },
     "metadata": {},
     "output_type": "display_data"
    }
   ],
   "source": [
    "display(bow_aplicacoes)"
   ]
  },
  {
   "cell_type": "code",
   "execution_count": 8,
   "metadata": {},
   "outputs": [
    {
     "data": {
      "text/plain": [
       "CountVectorizer(analyzer='word', binary=False, decode_error='strict',\n",
       "        dtype=<class 'numpy.int64'>, encoding='utf-8', input='content',\n",
       "        lowercase=True, max_df=1.0, max_features=None, min_df=1,\n",
       "        ngram_range=(1, 1), preprocessor=None, stop_words=None,\n",
       "        strip_accents=None, token_pattern='(?u)\\\\b[a-zA-z0-9\\\\w-]+\\\\b',\n",
       "        tokenizer=None, vocabulary=None)"
      ]
     },
     "execution_count": 8,
     "metadata": {},
     "output_type": "execute_result"
    }
   ],
   "source": [
    "bow_aplicacoes.fit(df_aplicacoes['APLICACOES'])"
   ]
  },
  {
   "cell_type": "code",
   "execution_count": 9,
   "metadata": {},
   "outputs": [
    {
     "name": "stdout",
     "output_type": "stream",
     "text": [
      "{'acellera': 89, 'acx': 91, '250f': 35, '250': 34, 'frontlander': 334, '500': 51, '800': 76, 'efi': 280, 'hotzoo': 414, 'sport': 702, '90': 82, 'quadrilander': 616, '300': 39, '400': 44, '600': 58, 'sportlander': 704, '150r': 24, '150': 23, '250xr': 36, '350zx': 42, '350': 41, '450tr': 48, '450': 46, 'adly': 93, 'atv': 127, 'jaguar': 433, 'rt': 662, 'agrale': 100, 'city': 202, 'dakar': 228, 'elefant': 282, 're': 641, 'explorer': 303, 'force': 328, 'junior': 449, 'sst': 715, 'super': 731, 'sxt':  (...) 792, 'tzr': 793, 'v-max': 796, '1680': 26, 'v-star': 799, 'virago': 816, '535': 55, '450f': 47, 'xf50x': 859, 'xj6': 860, 'xjr': 861, 'xr180': 871, 'xs1100': 876, 'xs': 875, 'xs400': 877, 'xs500': 878, 'xs650': 879, 'xs750': 880, 'xs850': 881, 'xt': 882, '225': 30, '660r': 63, '660': 62, 'tenere': 747, '1200z': 15, '660z': 64, 'crosser': 216, 'xz': 886, 'yfm': 892, '700r': 68, 'yfs': 893, 'yz': 896, '85lw': 81, 'yzf': 897, '600r': 59, 'r1': 621, 'r6': 628, 'yzr': 898, 'zongshen': 909, 'zs': 912}\n"
     ]
    }
   ],
   "source": [
    "# Verificação das palavras\n",
    "vocabulario_aplicacoes = bow_aplicacoes.vocabulary_\n",
    "print(str(vocabulario_aplicacoes)[:500]+' (...) '+str(vocabulario_aplicacoes)[-500:]) # amostra"
   ]
  },
  {
   "cell_type": "code",
   "execution_count": 10,
   "metadata": {},
   "outputs": [
    {
     "data": {
      "text/plain": [
       "914"
      ]
     },
     "execution_count": 10,
     "metadata": {},
     "output_type": "execute_result"
    }
   ],
   "source": [
    "# Verificação do número de termos no vocabulário de aplicações\n",
    "len(bow_aplicacoes.vocabulary_)"
   ]
  },
  {
   "cell_type": "code",
   "execution_count": 11,
   "metadata": {},
   "outputs": [
    {
     "name": "stdout",
     "output_type": "stream",
     "text": [
      "  (0, 34)\t1\n",
      "  (0, 35)\t1\n",
      "  (0, 91)\t1\n",
      "  (0, 89)\t1\n",
      "  (1, 51)\t1\n",
      "  (1, 334)\t1\n",
      "  (1, 89)\t1\n",
      "       (...)\n",
      "  (0, 912)\t1\n",
      "  (0, 909)\t1\n",
      "  (0, 16)\t1\n",
      "  (1, 912)\t1\n",
      "  (1, 909)\t1\n",
      "  (1, 29)\t1\n"
     ]
    }
   ],
   "source": [
    "# Transformação em vetores binários\n",
    "X_bow_aplicacoes = bow_aplicacoes.fit_transform(df_aplicacoes['APLICACOES'])\n",
    "print(f'{X_bow_aplicacoes[:2]}\\n       (...)\\n{X_bow_aplicacoes[-2:]}') # amostra"
   ]
  },
  {
   "cell_type": "code",
   "execution_count": 12,
   "metadata": {},
   "outputs": [
    {
     "data": {
      "text/plain": [
       "scipy.sparse.csr.csr_matrix"
      ]
     },
     "execution_count": 12,
     "metadata": {},
     "output_type": "execute_result"
    }
   ],
   "source": [
    "type(X_bow_aplicacoes)"
   ]
  },
  {
   "cell_type": "code",
   "execution_count": 13,
   "metadata": {},
   "outputs": [],
   "source": [
    "matrix_aplicacoes = bow_aplicacoes.transform(df_aplicacoes['APLICACOES'])"
   ]
  },
  {
   "cell_type": "code",
   "execution_count": 14,
   "metadata": {},
   "outputs": [
    {
     "name": "stdout",
     "output_type": "stream",
     "text": [
      "  (0, 34)\t1\n",
      "  (0, 35)\t1\n",
      "  (0, 89)\t1\n",
      "  (0, 91)\t1\n",
      "  (1, 51)\t1\n",
      "  (1, 89)\t1\n",
      "  (1, 334)\t1\n",
      "       (...)\n",
      "  (0, 16)\t1\n",
      "  (0, 909)\t1\n",
      "  (0, 912)\t1\n",
      "  (1, 29)\t1\n",
      "  (1, 909)\t1\n",
      "  (1, 912)\t1\n"
     ]
    }
   ],
   "source": [
    "print(f'{matrix_aplicacoes[:2]}\\n       (...)\\n{matrix_aplicacoes[-2:]}') # amostra"
   ]
  },
  {
   "cell_type": "code",
   "execution_count": 15,
   "metadata": {},
   "outputs": [
    {
     "name": "stdout",
     "output_type": "stream",
     "text": [
      "(861, 914)\n"
     ]
    }
   ],
   "source": [
    "print(matrix_aplicacoes.shape)"
   ]
  },
  {
   "cell_type": "code",
   "execution_count": 16,
   "metadata": {},
   "outputs": [
    {
     "name": "stdout",
     "output_type": "stream",
     "text": [
      "[[0 0 0 ... 0 0 0]\n",
      " [0 0 0 ... 0 0 0]\n",
      " [0 0 0 ... 0 0 0]\n",
      " ...\n",
      " [0 0 0 ... 0 0 0]\n",
      " [0 0 0 ... 0 1 0]\n",
      " [0 0 0 ... 0 1 0]]\n"
     ]
    }
   ],
   "source": [
    "print(matrix_aplicacoes.toarray())"
   ]
  },
  {
   "cell_type": "code",
   "execution_count": 17,
   "metadata": {},
   "outputs": [
    {
     "data": {
      "text/html": [
       "<div>\n",
       "<style scoped>\n",
       "    .dataframe tbody tr th:only-of-type {\n",
       "        vertical-align: middle;\n",
       "    }\n",
       "\n",
       "    .dataframe tbody tr th {\n",
       "        vertical-align: top;\n",
       "    }\n",
       "\n",
       "    .dataframe thead th {\n",
       "        text-align: right;\n",
       "    }\n",
       "</style>\n",
       "<table border=\"1\" class=\"dataframe\">\n",
       "  <thead>\n",
       "    <tr style=\"text-align: right;\">\n",
       "      <th></th>\n",
       "      <th>0</th>\n",
       "      <th>1</th>\n",
       "      <th>2</th>\n",
       "      <th>3</th>\n",
       "      <th>4</th>\n",
       "      <th>5</th>\n",
       "      <th>6</th>\n",
       "      <th>7</th>\n",
       "      <th>8</th>\n",
       "      <th>9</th>\n",
       "      <th>...</th>\n",
       "      <th>904</th>\n",
       "      <th>905</th>\n",
       "      <th>906</th>\n",
       "      <th>907</th>\n",
       "      <th>908</th>\n",
       "      <th>909</th>\n",
       "      <th>910</th>\n",
       "      <th>911</th>\n",
       "      <th>912</th>\n",
       "      <th>913</th>\n",
       "    </tr>\n",
       "  </thead>\n",
       "  <tbody>\n",
       "    <tr>\n",
       "      <th>0</th>\n",
       "      <td>0</td>\n",
       "      <td>0</td>\n",
       "      <td>0</td>\n",
       "      <td>0</td>\n",
       "      <td>0</td>\n",
       "      <td>0</td>\n",
       "      <td>0</td>\n",
       "      <td>0</td>\n",
       "      <td>0</td>\n",
       "      <td>0</td>\n",
       "      <td>...</td>\n",
       "      <td>0</td>\n",
       "      <td>0</td>\n",
       "      <td>0</td>\n",
       "      <td>0</td>\n",
       "      <td>0</td>\n",
       "      <td>0</td>\n",
       "      <td>0</td>\n",
       "      <td>0</td>\n",
       "      <td>0</td>\n",
       "      <td>0</td>\n",
       "    </tr>\n",
       "    <tr>\n",
       "      <th>1</th>\n",
       "      <td>0</td>\n",
       "      <td>0</td>\n",
       "      <td>0</td>\n",
       "      <td>0</td>\n",
       "      <td>0</td>\n",
       "      <td>0</td>\n",
       "      <td>0</td>\n",
       "      <td>0</td>\n",
       "      <td>0</td>\n",
       "      <td>0</td>\n",
       "      <td>...</td>\n",
       "      <td>0</td>\n",
       "      <td>0</td>\n",
       "      <td>0</td>\n",
       "      <td>0</td>\n",
       "      <td>0</td>\n",
       "      <td>0</td>\n",
       "      <td>0</td>\n",
       "      <td>0</td>\n",
       "      <td>0</td>\n",
       "      <td>0</td>\n",
       "    </tr>\n",
       "    <tr>\n",
       "      <th>2</th>\n",
       "      <td>0</td>\n",
       "      <td>0</td>\n",
       "      <td>0</td>\n",
       "      <td>0</td>\n",
       "      <td>0</td>\n",
       "      <td>0</td>\n",
       "      <td>0</td>\n",
       "      <td>0</td>\n",
       "      <td>0</td>\n",
       "      <td>0</td>\n",
       "      <td>...</td>\n",
       "      <td>0</td>\n",
       "      <td>0</td>\n",
       "      <td>0</td>\n",
       "      <td>0</td>\n",
       "      <td>0</td>\n",
       "      <td>0</td>\n",
       "      <td>0</td>\n",
       "      <td>0</td>\n",
       "      <td>0</td>\n",
       "      <td>0</td>\n",
       "    </tr>\n",
       "    <tr>\n",
       "      <th>3</th>\n",
       "      <td>0</td>\n",
       "      <td>0</td>\n",
       "      <td>0</td>\n",
       "      <td>0</td>\n",
       "      <td>0</td>\n",
       "      <td>0</td>\n",
       "      <td>0</td>\n",
       "      <td>0</td>\n",
       "      <td>0</td>\n",
       "      <td>0</td>\n",
       "      <td>...</td>\n",
       "      <td>0</td>\n",
       "      <td>0</td>\n",
       "      <td>0</td>\n",
       "      <td>0</td>\n",
       "      <td>0</td>\n",
       "      <td>0</td>\n",
       "      <td>0</td>\n",
       "      <td>0</td>\n",
       "      <td>0</td>\n",
       "      <td>0</td>\n",
       "    </tr>\n",
       "    <tr>\n",
       "      <th>4</th>\n",
       "      <td>0</td>\n",
       "      <td>0</td>\n",
       "      <td>0</td>\n",
       "      <td>0</td>\n",
       "      <td>0</td>\n",
       "      <td>0</td>\n",
       "      <td>0</td>\n",
       "      <td>0</td>\n",
       "      <td>0</td>\n",
       "      <td>0</td>\n",
       "      <td>...</td>\n",
       "      <td>0</td>\n",
       "      <td>0</td>\n",
       "      <td>0</td>\n",
       "      <td>0</td>\n",
       "      <td>0</td>\n",
       "      <td>0</td>\n",
       "      <td>0</td>\n",
       "      <td>0</td>\n",
       "      <td>0</td>\n",
       "      <td>0</td>\n",
       "    </tr>\n",
       "  </tbody>\n",
       "</table>\n",
       "<p>5 rows × 914 columns</p>\n",
       "</div>"
      ],
      "text/plain": [
       "   0    1    2    3    4    5    6    7    8    9    ...  904  905  906  907  \\\n",
       "0    0    0    0    0    0    0    0    0    0    0  ...    0    0    0    0   \n",
       "1    0    0    0    0    0    0    0    0    0    0  ...    0    0    0    0   \n",
       "2    0    0    0    0    0    0    0    0    0    0  ...    0    0    0    0   \n",
       "3    0    0    0    0    0    0    0    0    0    0  ...    0    0    0    0   \n",
       "4    0    0    0    0    0    0    0    0    0    0  ...    0    0    0    0   \n",
       "\n",
       "   908  909  910  911  912  913  \n",
       "0    0    0    0    0    0    0  \n",
       "1    0    0    0    0    0    0  \n",
       "2    0    0    0    0    0    0  \n",
       "3    0    0    0    0    0    0  \n",
       "4    0    0    0    0    0    0  \n",
       "\n",
       "[5 rows x 914 columns]"
      ]
     },
     "execution_count": 17,
     "metadata": {},
     "output_type": "execute_result"
    }
   ],
   "source": [
    "df1=pd.DataFrame(matrix_aplicacoes.toarray())\n",
    "df1.head()"
   ]
  },
  {
   "cell_type": "code",
   "execution_count": 18,
   "metadata": {},
   "outputs": [
    {
     "data": {
      "text/plain": [
       "0    5\n",
       "1    9\n",
       "2    1\n",
       "3    1\n",
       "4    1\n",
       "dtype: int64"
      ]
     },
     "execution_count": 18,
     "metadata": {},
     "output_type": "execute_result"
    }
   ],
   "source": [
    "# Totalização do número de termos de cada vocábulo\n",
    "df_sum=df1.sum(axis=0)\n",
    "df_sum.head()"
   ]
  },
  {
   "cell_type": "code",
   "execution_count": 19,
   "metadata": {},
   "outputs": [
    {
     "data": {
      "text/plain": [
       "count    914.000000\n",
       "mean       2.539387\n",
       "std        5.752382\n",
       "min        1.000000\n",
       "25%        1.000000\n",
       "50%        1.000000\n",
       "75%        2.000000\n",
       "max       97.000000\n",
       "dtype: float64"
      ]
     },
     "execution_count": 19,
     "metadata": {},
     "output_type": "execute_result"
    }
   ],
   "source": [
    "# Sumário do dataset\n",
    "df_sum.describe()"
   ]
  },
  {
   "cell_type": "code",
   "execution_count": 20,
   "metadata": {},
   "outputs": [
    {
     "name": "stdout",
     "output_type": "stream",
     "text": [
      "456    1\n",
      "557    1\n",
      "558    1\n",
      "559    1\n",
      "560    1\n",
      "dtype: int64 607    40\n",
      "34     40\n",
      "465    43\n",
      "412    79\n",
      "887    97\n",
      "dtype: int64\n"
     ]
    }
   ],
   "source": [
    "# Identificação dos valores máximos\n",
    "print(df_sum.sort_values().head(),df_sum.sort_values().tail())"
   ]
  },
  {
   "cell_type": "code",
   "execution_count": 21,
   "metadata": {},
   "outputs": [
    {
     "data": {
      "text/plain": [
       "86     1\n",
       "614    1\n",
       "386    1\n",
       "470    1\n",
       "797    1\n",
       "dtype: int64"
      ]
     },
     "execution_count": 21,
     "metadata": {},
     "output_type": "execute_result"
    }
   ],
   "source": [
    "# Identificação dos valores com uma ocorrência\n",
    "df_sum[df_sum==1].sample(5)"
   ]
  },
  {
   "cell_type": "markdown",
   "metadata": {},
   "source": [
    "Diante da necessidade de se ter uma série de registros classificados para o aprendizado supervisionado e após a determinação dos 858 modelos de aplicações disponíveis, vamos classificar baseados nas seguintes observações realizadas na análise exploratória dos dados:\n",
    "1. Os modelos de motocicletas têm nomes que os distinguem em grande parte dos casos;\n",
    "2. Dos 913 termos, 655 aparacem apenas uma vez, o que implica que sua ocorrência já deve classificar o item;\n",
    "3. O termo com maior número de ocorrências aparece 97 vezes (YAMAHA), sendo o menos distintivo de todos."
   ]
  },
  {
   "cell_type": "code",
   "execution_count": 22,
   "metadata": {},
   "outputs": [],
   "source": [
    "# Função para pegar a chave pelo valor, dado que valor é único.\n",
    "def pegaChave(v):\n",
    "    for chave, valor in vocabulario_aplicacoes.items():\n",
    "        if v == valor:\n",
    "            return chave\n",
    "    return \"Não existe chave para esse valor.\""
   ]
  },
  {
   "cell_type": "code",
   "execution_count": 23,
   "metadata": {},
   "outputs": [
    {
     "name": "stdout",
     "output_type": "stream",
     "text": [
      "XS850\n"
     ]
    }
   ],
   "source": [
    "print(pegaChave(881).upper())"
   ]
  },
  {
   "cell_type": "code",
   "execution_count": 24,
   "metadata": {},
   "outputs": [],
   "source": [
    "# Criação do dicionário chaves invertendo chave e valor do vocabulário\n",
    "chaves = dict((v,k) for k,v in vocabulario_aplicacoes.items())"
   ]
  },
  {
   "cell_type": "code",
   "execution_count": 25,
   "metadata": {},
   "outputs": [
    {
     "data": {
      "text/plain": [
       "'YAMAHA'"
      ]
     },
     "execution_count": 25,
     "metadata": {},
     "output_type": "execute_result"
    }
   ],
   "source": [
    "# Termo do vocabulário pelo índice\n",
    "chaves[887].upper()"
   ]
  },
  {
   "cell_type": "code",
   "execution_count": 26,
   "metadata": {},
   "outputs": [
    {
     "data": {
      "text/plain": [
       "887"
      ]
     },
     "execution_count": 26,
     "metadata": {},
     "output_type": "execute_result"
    }
   ],
   "source": [
    "# Índice pelo termo do vocabulário\n",
    "vocabulario_aplicacoes['yamaha']"
   ]
  },
  {
   "cell_type": "code",
   "execution_count": 27,
   "metadata": {},
   "outputs": [
    {
     "data": {
      "text/plain": [
       "97"
      ]
     },
     "execution_count": 27,
     "metadata": {},
     "output_type": "execute_result"
    }
   ],
   "source": [
    "# Número de ocorrências pelo termo do vocabulário\n",
    "df_sum[vocabulario_aplicacoes['yamaha']]"
   ]
  },
  {
   "cell_type": "code",
   "execution_count": 28,
   "metadata": {
    "code_folding": []
   },
   "outputs": [],
   "source": [
    "# Função para determinar a aplicação caso a contagem do termo seja 1\n",
    "def achaAplicacao1(modelo):\n",
    "    # pega os termos do modelo e transforma em uma lista\n",
    "    modelolst = modelo.lower().split()\n",
    "    # para cada termo\n",
    "    for mod in modelolst:\n",
    "        try:\n",
    "            # l é o índice termo no vocabulário de aplicações\n",
    "            l = vocabulario_aplicacoes[mod]\n",
    "            # se a soma de todos os termos do índice i do vocabulário for 1\n",
    "            if df_sum[l]==1: \n",
    "                # pegar o índice dessa linha\n",
    "                # que será onde o valor 1 aparece na coluna chamada linha do df1\n",
    "                i = int(df1[df1[l]==1].index.values)\n",
    "                # retornar a descrição da aplicação dessa linha\n",
    "                return df_aplicacoes['APLICACOES'][i]\n",
    "        except:\n",
    "            continue\n",
    "    return 'XXX'"
   ]
  },
  {
   "cell_type": "code",
   "execution_count": 29,
   "metadata": {},
   "outputs": [
    {
     "name": "stdout",
     "output_type": "stream",
     "text": [
      "KIMCO ZING\n"
     ]
    }
   ],
   "source": [
    "print(achaAplicacao1('MOTO TEMOS OUTRO ZING'))"
   ]
  },
  {
   "cell_type": "markdown",
   "metadata": {},
   "source": [
    "### Importa os dados já tratados"
   ]
  },
  {
   "cell_type": "code",
   "execution_count": 30,
   "metadata": {},
   "outputs": [],
   "source": [
    "# Importa base de dados com os modelos já determinados para um dataframe\n",
    "df = pd.read_excel('./bases/dataframe_modelos.xlsx')"
   ]
  },
  {
   "cell_type": "code",
   "execution_count": 31,
   "metadata": {},
   "outputs": [
    {
     "data": {
      "text/html": [
       "<div>\n",
       "<style scoped>\n",
       "    .dataframe tbody tr th:only-of-type {\n",
       "        vertical-align: middle;\n",
       "    }\n",
       "\n",
       "    .dataframe tbody tr th {\n",
       "        vertical-align: top;\n",
       "    }\n",
       "\n",
       "    .dataframe thead th {\n",
       "        text-align: right;\n",
       "    }\n",
       "</style>\n",
       "<table border=\"1\" class=\"dataframe\">\n",
       "  <thead>\n",
       "    <tr style=\"text-align: right;\">\n",
       "      <th></th>\n",
       "      <th>PAIS DE ORIGEM</th>\n",
       "      <th>DESCRICAO DO PRODUTO</th>\n",
       "      <th>VALOR UN.PROD.DOLAR</th>\n",
       "      <th>DESCRICAO</th>\n",
       "      <th>Modelo</th>\n",
       "    </tr>\n",
       "  </thead>\n",
       "  <tbody>\n",
       "    <tr>\n",
       "      <th>9954</th>\n",
       "      <td>CHINA, REPUBLICA POP</td>\n",
       "      <td>881739 - SEMI-KIT DE TRANSMISSAO COMPOSTO DE C...</td>\n",
       "      <td>1.708</td>\n",
       "      <td>ybr125 14 allen</td>\n",
       "      <td>YAMAHA YBR125 125 YBR</td>\n",
       "    </tr>\n",
       "    <tr>\n",
       "      <th>8679</th>\n",
       "      <td>CHINA, REPUBLICA POP</td>\n",
       "      <td>10530030 IN KIT TRANSMISSAO P/MOTOCICLETAS(COR...</td>\n",
       "      <td>5.751</td>\n",
       "      <td>falcon</td>\n",
       "      <td>FALCON</td>\n",
       "    </tr>\n",
       "    <tr>\n",
       "      <th>16503</th>\n",
       "      <td>CHINA, REPUBLICA POP</td>\n",
       "      <td>ENGRENAGENS PARA TRANSMISSÃO DE MOTOCICLETAS E...</td>\n",
       "      <td>6.390</td>\n",
       "      <td>xlr 125</td>\n",
       "      <td>HONDA 125 XLR</td>\n",
       "    </tr>\n",
       "    <tr>\n",
       "      <th>17091</th>\n",
       "      <td>CHINA, REPUBLICA POP</td>\n",
       "      <td>980721 KIT DE TRANSMISSÃO, COMPOSTO DE CORRENT...</td>\n",
       "      <td>3.689</td>\n",
       "      <td>fan125 velth</td>\n",
       "      <td>HONDA 125 FAN</td>\n",
       "    </tr>\n",
       "  </tbody>\n",
       "</table>\n",
       "</div>"
      ],
      "text/plain": [
       "             PAIS DE ORIGEM  \\\n",
       "9954   CHINA, REPUBLICA POP   \n",
       "8679   CHINA, REPUBLICA POP   \n",
       "16503  CHINA, REPUBLICA POP   \n",
       "17091  CHINA, REPUBLICA POP   \n",
       "\n",
       "                                    DESCRICAO DO PRODUTO  VALOR UN.PROD.DOLAR  \\\n",
       "9954   881739 - SEMI-KIT DE TRANSMISSAO COMPOSTO DE C...                1.708   \n",
       "8679   10530030 IN KIT TRANSMISSAO P/MOTOCICLETAS(COR...                5.751   \n",
       "16503  ENGRENAGENS PARA TRANSMISSÃO DE MOTOCICLETAS E...                6.390   \n",
       "17091  980721 KIT DE TRANSMISSÃO, COMPOSTO DE CORRENT...                3.689   \n",
       "\n",
       "             DESCRICAO                 Modelo  \n",
       "9954   ybr125 14 allen  YAMAHA YBR125 125 YBR  \n",
       "8679            falcon                 FALCON  \n",
       "16503          xlr 125          HONDA 125 XLR  \n",
       "17091     fan125 velth          HONDA 125 FAN  "
      ]
     },
     "execution_count": 31,
     "metadata": {},
     "output_type": "execute_result"
    }
   ],
   "source": [
    "df.sample(4)"
   ]
  },
  {
   "cell_type": "code",
   "execution_count": 32,
   "metadata": {
    "scrolled": false
   },
   "outputs": [
    {
     "data": {
      "text/html": [
       "<div>\n",
       "<style scoped>\n",
       "    .dataframe tbody tr th:only-of-type {\n",
       "        vertical-align: middle;\n",
       "    }\n",
       "\n",
       "    .dataframe tbody tr th {\n",
       "        vertical-align: top;\n",
       "    }\n",
       "\n",
       "    .dataframe thead th {\n",
       "        text-align: right;\n",
       "    }\n",
       "</style>\n",
       "<table border=\"1\" class=\"dataframe\">\n",
       "  <thead>\n",
       "    <tr style=\"text-align: right;\">\n",
       "      <th></th>\n",
       "      <th>DESCRICAO</th>\n",
       "      <th>Modelo</th>\n",
       "    </tr>\n",
       "  </thead>\n",
       "  <tbody>\n",
       "    <tr>\n",
       "      <th>0</th>\n",
       "      <td>honda cg 150 titan ks es mix fan</td>\n",
       "      <td>TITAN HONDA FAN CG TIT 150 AN</td>\n",
       "    </tr>\n",
       "    <tr>\n",
       "      <th>1</th>\n",
       "      <td>honda cg 125 titan ks es cargo</td>\n",
       "      <td>TITAN HONDA CG CARGO TIT 125 AN</td>\n",
       "    </tr>\n",
       "    <tr>\n",
       "      <th>2</th>\n",
       "      <td>honda cg 125 fan</td>\n",
       "      <td>125 CG HONDA FAN</td>\n",
       "    </tr>\n",
       "    <tr>\n",
       "      <th>3</th>\n",
       "      <td>c100 biz allen</td>\n",
       "      <td>HONDA BIZ C100</td>\n",
       "    </tr>\n",
       "    <tr>\n",
       "      <th>4</th>\n",
       "      <td>mirage 150 allen</td>\n",
       "      <td>MIRAGE 150</td>\n",
       "    </tr>\n",
       "  </tbody>\n",
       "</table>\n",
       "</div>"
      ],
      "text/plain": [
       "                          DESCRICAO                           Modelo\n",
       "0  honda cg 150 titan ks es mix fan    TITAN HONDA FAN CG TIT 150 AN\n",
       "1    honda cg 125 titan ks es cargo  TITAN HONDA CG CARGO TIT 125 AN\n",
       "2                  honda cg 125 fan                 125 CG HONDA FAN\n",
       "3                    c100 biz allen                   HONDA BIZ C100\n",
       "4                  mirage 150 allen                       MIRAGE 150"
      ]
     },
     "execution_count": 32,
     "metadata": {},
     "output_type": "execute_result"
    }
   ],
   "source": [
    "df.iloc[:,-2:].head()"
   ]
  },
  {
   "cell_type": "code",
   "execution_count": 33,
   "metadata": {},
   "outputs": [
    {
     "data": {
      "text/plain": [
       "(18327, 5)"
      ]
     },
     "execution_count": 33,
     "metadata": {},
     "output_type": "execute_result"
    }
   ],
   "source": [
    "# Verifica o tamnanho do dataframe\n",
    "df.shape"
   ]
  },
  {
   "cell_type": "markdown",
   "metadata": {},
   "source": [
    "## Classificando segundo a lista de Aplicações"
   ]
  },
  {
   "cell_type": "code",
   "execution_count": 34,
   "metadata": {},
   "outputs": [],
   "source": [
    "df['APLICACAO']=df['Modelo'].apply(achaAplicacao1)"
   ]
  },
  {
   "cell_type": "code",
   "execution_count": 35,
   "metadata": {},
   "outputs": [
    {
     "data": {
      "text/html": [
       "<div>\n",
       "<style scoped>\n",
       "    .dataframe tbody tr th:only-of-type {\n",
       "        vertical-align: middle;\n",
       "    }\n",
       "\n",
       "    .dataframe tbody tr th {\n",
       "        vertical-align: top;\n",
       "    }\n",
       "\n",
       "    .dataframe thead th {\n",
       "        text-align: right;\n",
       "    }\n",
       "</style>\n",
       "<table border=\"1\" class=\"dataframe\">\n",
       "  <thead>\n",
       "    <tr style=\"text-align: right;\">\n",
       "      <th></th>\n",
       "      <th>DESCRICAO</th>\n",
       "      <th>Modelo</th>\n",
       "      <th>APLICACAO</th>\n",
       "    </tr>\n",
       "  </thead>\n",
       "  <tbody>\n",
       "    <tr>\n",
       "      <th>0</th>\n",
       "      <td>honda cg 150 titan ks es mix fan</td>\n",
       "      <td>TITAN HONDA FAN CG TIT 150 AN</td>\n",
       "      <td>HONDA CG TIT TITAN 125 150 160</td>\n",
       "    </tr>\n",
       "    <tr>\n",
       "      <th>1</th>\n",
       "      <td>honda cg 125 titan ks es cargo</td>\n",
       "      <td>TITAN HONDA CG CARGO TIT 125 AN</td>\n",
       "      <td>HONDA CG TIT TITAN 125 150 160</td>\n",
       "    </tr>\n",
       "    <tr>\n",
       "      <th>2</th>\n",
       "      <td>honda cg 125 fan</td>\n",
       "      <td>125 CG HONDA FAN</td>\n",
       "      <td>HONDA CG FAN</td>\n",
       "    </tr>\n",
       "    <tr>\n",
       "      <th>3</th>\n",
       "      <td>c100 biz allen</td>\n",
       "      <td>HONDA BIZ C100</td>\n",
       "      <td>HONDA BIZ 100 C100 125 C125</td>\n",
       "    </tr>\n",
       "    <tr>\n",
       "      <th>4</th>\n",
       "      <td>mirage 150 allen</td>\n",
       "      <td>MIRAGE 150</td>\n",
       "      <td>XXX</td>\n",
       "    </tr>\n",
       "    <tr>\n",
       "      <th>5</th>\n",
       "      <td>cbx 250 twister allen</td>\n",
       "      <td>HONDA TWISTER 250 CBX</td>\n",
       "      <td>HONDA TWISTER CBX 250</td>\n",
       "    </tr>\n",
       "    <tr>\n",
       "      <th>6</th>\n",
       "      <td>crf 230 allen</td>\n",
       "      <td>HONDA CRF 230</td>\n",
       "      <td>XXX</td>\n",
       "    </tr>\n",
       "    <tr>\n",
       "      <th>7</th>\n",
       "      <td>shineray phoenix 50cc allen</td>\n",
       "      <td>SHINERAY PHOENIX</td>\n",
       "      <td>XXX</td>\n",
       "    </tr>\n",
       "    <tr>\n",
       "      <th>8</th>\n",
       "      <td>pop 110 allen</td>\n",
       "      <td>HONDA POP 110</td>\n",
       "      <td>HONDA POP 100</td>\n",
       "    </tr>\n",
       "    <tr>\n",
       "      <th>9</th>\n",
       "      <td>pop 100 allen</td>\n",
       "      <td>HONDA 100 POP</td>\n",
       "      <td>HONDA POP 100</td>\n",
       "    </tr>\n",
       "  </tbody>\n",
       "</table>\n",
       "</div>"
      ],
      "text/plain": [
       "                          DESCRICAO                           Modelo  \\\n",
       "0  honda cg 150 titan ks es mix fan    TITAN HONDA FAN CG TIT 150 AN   \n",
       "1    honda cg 125 titan ks es cargo  TITAN HONDA CG CARGO TIT 125 AN   \n",
       "2                  honda cg 125 fan                 125 CG HONDA FAN   \n",
       "3                    c100 biz allen                   HONDA BIZ C100   \n",
       "4                  mirage 150 allen                       MIRAGE 150   \n",
       "5             cbx 250 twister allen            HONDA TWISTER 250 CBX   \n",
       "6                     crf 230 allen                    HONDA CRF 230   \n",
       "7       shineray phoenix 50cc allen                 SHINERAY PHOENIX   \n",
       "8                     pop 110 allen                    HONDA POP 110   \n",
       "9                     pop 100 allen                    HONDA 100 POP   \n",
       "\n",
       "                        APLICACAO  \n",
       "0  HONDA CG TIT TITAN 125 150 160  \n",
       "1  HONDA CG TIT TITAN 125 150 160  \n",
       "2                    HONDA CG FAN  \n",
       "3     HONDA BIZ 100 C100 125 C125  \n",
       "4                             XXX  \n",
       "5           HONDA TWISTER CBX 250  \n",
       "6                             XXX  \n",
       "7                             XXX  \n",
       "8                   HONDA POP 100  \n",
       "9                   HONDA POP 100  "
      ]
     },
     "execution_count": 35,
     "metadata": {},
     "output_type": "execute_result"
    }
   ],
   "source": [
    "df.iloc[:,-3:].head(10)"
   ]
  },
  {
   "cell_type": "code",
   "execution_count": 36,
   "metadata": {},
   "outputs": [
    {
     "data": {
      "text/html": [
       "<div>\n",
       "<style scoped>\n",
       "    .dataframe tbody tr th:only-of-type {\n",
       "        vertical-align: middle;\n",
       "    }\n",
       "\n",
       "    .dataframe tbody tr th {\n",
       "        vertical-align: top;\n",
       "    }\n",
       "\n",
       "    .dataframe thead th {\n",
       "        text-align: right;\n",
       "    }\n",
       "</style>\n",
       "<table border=\"1\" class=\"dataframe\">\n",
       "  <thead>\n",
       "    <tr style=\"text-align: right;\">\n",
       "      <th></th>\n",
       "      <th>DESCRICAO</th>\n",
       "      <th>Modelo</th>\n",
       "      <th>APLICACAO</th>\n",
       "    </tr>\n",
       "  </thead>\n",
       "  <tbody>\n",
       "    <tr>\n",
       "      <th>4</th>\n",
       "      <td>mirage 150 allen</td>\n",
       "      <td>MIRAGE 150</td>\n",
       "      <td>XXX</td>\n",
       "    </tr>\n",
       "    <tr>\n",
       "      <th>6</th>\n",
       "      <td>crf 230 allen</td>\n",
       "      <td>HONDA CRF 230</td>\n",
       "      <td>XXX</td>\n",
       "    </tr>\n",
       "    <tr>\n",
       "      <th>7</th>\n",
       "      <td>shineray phoenix 50cc allen</td>\n",
       "      <td>SHINERAY PHOENIX</td>\n",
       "      <td>XXX</td>\n",
       "    </tr>\n",
       "    <tr>\n",
       "      <th>11</th>\n",
       "      <td>hunter max 125 allen</td>\n",
       "      <td>125 HUNTER MAX</td>\n",
       "      <td>XXX</td>\n",
       "    </tr>\n",
       "    <tr>\n",
       "      <th>13</th>\n",
       "      <td>web 100 allen</td>\n",
       "      <td>100 WEB</td>\n",
       "      <td>XXX</td>\n",
       "    </tr>\n",
       "    <tr>\n",
       "      <th>14</th>\n",
       "      <td>cb 250f allen</td>\n",
       "      <td>HONDA CB 250F</td>\n",
       "      <td>XXX</td>\n",
       "    </tr>\n",
       "    <tr>\n",
       "      <th>16</th>\n",
       "      <td>xt 250 tenere allen</td>\n",
       "      <td>YAMAHA TENERE XT 250</td>\n",
       "      <td>XXX</td>\n",
       "    </tr>\n",
       "    <tr>\n",
       "      <th>22</th>\n",
       "      <td>jet 49cc allen</td>\n",
       "      <td>JET</td>\n",
       "      <td>XXX</td>\n",
       "    </tr>\n",
       "    <tr>\n",
       "      <th>24</th>\n",
       "      <td>xtz 125 allen</td>\n",
       "      <td>YAMAHA 125 XTZ</td>\n",
       "      <td>XXX</td>\n",
       "    </tr>\n",
       "    <tr>\n",
       "      <th>30</th>\n",
       "      <td>fazer 150 allen</td>\n",
       "      <td>YAMAHA 150 FAZER</td>\n",
       "      <td>XXX</td>\n",
       "    </tr>\n",
       "  </tbody>\n",
       "</table>\n",
       "</div>"
      ],
      "text/plain": [
       "                      DESCRICAO                Modelo APLICACAO\n",
       "4              mirage 150 allen            MIRAGE 150       XXX\n",
       "6                 crf 230 allen         HONDA CRF 230       XXX\n",
       "7   shineray phoenix 50cc allen      SHINERAY PHOENIX       XXX\n",
       "11         hunter max 125 allen        125 HUNTER MAX       XXX\n",
       "13                web 100 allen               100 WEB       XXX\n",
       "14                cb 250f allen         HONDA CB 250F       XXX\n",
       "16          xt 250 tenere allen  YAMAHA TENERE XT 250       XXX\n",
       "22               jet 49cc allen                   JET       XXX\n",
       "24                xtz 125 allen        YAMAHA 125 XTZ       XXX\n",
       "30              fazer 150 allen      YAMAHA 150 FAZER       XXX"
      ]
     },
     "execution_count": 36,
     "metadata": {},
     "output_type": "execute_result"
    }
   ],
   "source": [
    "df[df['APLICACAO']=='XXX'].iloc[:,-3:].head(10)"
   ]
  },
  {
   "cell_type": "code",
   "execution_count": 37,
   "metadata": {},
   "outputs": [
    {
     "name": "stdout",
     "output_type": "stream",
     "text": [
      "Registros sem classificação:  2945\n",
      "Registros com classificação: 15382\n",
      "Total de Registros:          18327\n"
     ]
    }
   ],
   "source": [
    "print('Registros sem classificação:  ' + str(df[df['APLICACAO']=='XXX'].iloc[:,-3:].shape[0]))\n",
    "print('Registros com classificação: ' + str(df[df['APLICACAO']!='XXX'].iloc[:,-3:].shape[0]))\n",
    "print('Total de Registros:          ' + str(df.shape[0]))"
   ]
  },
  {
   "cell_type": "markdown",
   "metadata": {},
   "source": [
    "Observa-se que após a classificação pelos termos únicos restaram cerca de 3.000 linhas, havendo mais de 15.000 registros já classificados."
   ]
  },
  {
   "cell_type": "markdown",
   "metadata": {},
   "source": [
    "#### Classifica o modelo como aplicação se os termos forem exatamente iguais"
   ]
  },
  {
   "cell_type": "code",
   "execution_count": 38,
   "metadata": {},
   "outputs": [],
   "source": [
    "def achaAplicacao2(modelo):\n",
    "    modelolst=modelo.lower().split() # cria lista com termos do modelo\n",
    "    aplicacoes_temp=[] # inicializa a lista de saída\n",
    "    for aplicacao in df_aplicacoes['APLICACOES']: # para cada aplicação\n",
    "        aplicacaolst = aplicacao.lower().split() # cria lista\n",
    "        if all(termos in aplicacaolst for termos in modelolst): # se a aplicacão contém o modelo\n",
    "            aplicacoes_temp.append(aplicacao) # adiciona na lista de saída\n",
    "    if len(aplicacoes_temp)==0:\n",
    "        return 'XXX' # retorna a saída\n",
    "    elif len(aplicacoes_temp)==1:\n",
    "        return aplicacoes_temp[0] # retorna a saída\n",
    "    else:\n",
    "        return aplicacoes_temp # retorna a saída"
   ]
  },
  {
   "cell_type": "code",
   "execution_count": 39,
   "metadata": {},
   "outputs": [
    {
     "data": {
      "text/plain": [
       "(2945, 2)"
      ]
     },
     "execution_count": 39,
     "metadata": {},
     "output_type": "execute_result"
    }
   ],
   "source": [
    "# df temporário filtrado pelos não classificados\n",
    "dftemp=df.iloc[:,-2:][df['APLICACAO']=='XXX']\n",
    "dftemp.shape"
   ]
  },
  {
   "cell_type": "code",
   "execution_count": 40,
   "metadata": {},
   "outputs": [
    {
     "data": {
      "text/html": [
       "<div>\n",
       "<style scoped>\n",
       "    .dataframe tbody tr th:only-of-type {\n",
       "        vertical-align: middle;\n",
       "    }\n",
       "\n",
       "    .dataframe tbody tr th {\n",
       "        vertical-align: top;\n",
       "    }\n",
       "\n",
       "    .dataframe thead th {\n",
       "        text-align: right;\n",
       "    }\n",
       "</style>\n",
       "<table border=\"1\" class=\"dataframe\">\n",
       "  <thead>\n",
       "    <tr style=\"text-align: right;\">\n",
       "      <th></th>\n",
       "      <th>Modelo</th>\n",
       "      <th>APLICACAO</th>\n",
       "    </tr>\n",
       "  </thead>\n",
       "  <tbody>\n",
       "    <tr>\n",
       "      <th>4</th>\n",
       "      <td>MIRAGE 150</td>\n",
       "      <td>XXX</td>\n",
       "    </tr>\n",
       "    <tr>\n",
       "      <th>6</th>\n",
       "      <td>HONDA CRF 230</td>\n",
       "      <td>XXX</td>\n",
       "    </tr>\n",
       "    <tr>\n",
       "      <th>7</th>\n",
       "      <td>SHINERAY PHOENIX</td>\n",
       "      <td>XXX</td>\n",
       "    </tr>\n",
       "    <tr>\n",
       "      <th>11</th>\n",
       "      <td>125 HUNTER MAX</td>\n",
       "      <td>XXX</td>\n",
       "    </tr>\n",
       "    <tr>\n",
       "      <th>13</th>\n",
       "      <td>100 WEB</td>\n",
       "      <td>XXX</td>\n",
       "    </tr>\n",
       "  </tbody>\n",
       "</table>\n",
       "</div>"
      ],
      "text/plain": [
       "              Modelo APLICACAO\n",
       "4         MIRAGE 150       XXX\n",
       "6      HONDA CRF 230       XXX\n",
       "7   SHINERAY PHOENIX       XXX\n",
       "11    125 HUNTER MAX       XXX\n",
       "13           100 WEB       XXX"
      ]
     },
     "execution_count": 40,
     "metadata": {},
     "output_type": "execute_result"
    }
   ],
   "source": [
    "dftemp.head()"
   ]
  },
  {
   "cell_type": "code",
   "execution_count": 41,
   "metadata": {},
   "outputs": [],
   "source": [
    "# aplica a funão achaachaAplicacao2\n",
    "dftemp=dftemp.assign(APLICACAO=dftemp['Modelo'].apply(achaAplicacao2))"
   ]
  },
  {
   "cell_type": "code",
   "execution_count": 42,
   "metadata": {},
   "outputs": [
    {
     "data": {
      "text/html": [
       "<div>\n",
       "<style scoped>\n",
       "    .dataframe tbody tr th:only-of-type {\n",
       "        vertical-align: middle;\n",
       "    }\n",
       "\n",
       "    .dataframe tbody tr th {\n",
       "        vertical-align: top;\n",
       "    }\n",
       "\n",
       "    .dataframe thead th {\n",
       "        text-align: right;\n",
       "    }\n",
       "</style>\n",
       "<table border=\"1\" class=\"dataframe\">\n",
       "  <thead>\n",
       "    <tr style=\"text-align: right;\">\n",
       "      <th></th>\n",
       "      <th>Modelo</th>\n",
       "      <th>APLICACAO</th>\n",
       "    </tr>\n",
       "  </thead>\n",
       "  <tbody>\n",
       "    <tr>\n",
       "      <th>15037</th>\n",
       "      <td>YAMAHA FAZER 250</td>\n",
       "      <td>YAMAHA FAZER YS250 250</td>\n",
       "    </tr>\n",
       "    <tr>\n",
       "      <th>42</th>\n",
       "      <td>YAMAHA 250 XTZ</td>\n",
       "      <td>[YAMAHA LANDER XTZ 250, YAMAHA XTZ TENERE 250]</td>\n",
       "    </tr>\n",
       "    <tr>\n",
       "      <th>3808</th>\n",
       "      <td>YAMAHA FAZER 250</td>\n",
       "      <td>YAMAHA FAZER YS250 250</td>\n",
       "    </tr>\n",
       "    <tr>\n",
       "      <th>12139</th>\n",
       "      <td>SHINERAY PHOENIX 50</td>\n",
       "      <td>SHINERAY PHOENIX 50</td>\n",
       "    </tr>\n",
       "    <tr>\n",
       "      <th>2976</th>\n",
       "      <td>YAMAHA 250 XTZ</td>\n",
       "      <td>[YAMAHA LANDER XTZ 250, YAMAHA XTZ TENERE 250]</td>\n",
       "    </tr>\n",
       "  </tbody>\n",
       "</table>\n",
       "</div>"
      ],
      "text/plain": [
       "                    Modelo                                       APLICACAO\n",
       "15037     YAMAHA FAZER 250                          YAMAHA FAZER YS250 250\n",
       "42          YAMAHA 250 XTZ  [YAMAHA LANDER XTZ 250, YAMAHA XTZ TENERE 250]\n",
       "3808      YAMAHA FAZER 250                          YAMAHA FAZER YS250 250\n",
       "12139  SHINERAY PHOENIX 50                             SHINERAY PHOENIX 50\n",
       "2976        YAMAHA 250 XTZ  [YAMAHA LANDER XTZ 250, YAMAHA XTZ TENERE 250]"
      ]
     },
     "execution_count": 42,
     "metadata": {},
     "output_type": "execute_result"
    }
   ],
   "source": [
    "dftemp.sample(5)"
   ]
  },
  {
   "cell_type": "code",
   "execution_count": 43,
   "metadata": {},
   "outputs": [
    {
     "data": {
      "text/plain": [
       "(659, 2)"
      ]
     },
     "execution_count": 43,
     "metadata": {},
     "output_type": "execute_result"
    }
   ],
   "source": [
    "# quantidade de registros sem classificação\n",
    "dftemp[dftemp['APLICACAO']=='XXX'].shape"
   ]
  },
  {
   "cell_type": "code",
   "execution_count": 44,
   "metadata": {},
   "outputs": [],
   "source": [
    "# atualiza o dataframe df com as alterações feitas em dftemp\n",
    "df.update(dftemp)"
   ]
  },
  {
   "cell_type": "code",
   "execution_count": 45,
   "metadata": {},
   "outputs": [
    {
     "data": {
      "text/html": [
       "<div>\n",
       "<style scoped>\n",
       "    .dataframe tbody tr th:only-of-type {\n",
       "        vertical-align: middle;\n",
       "    }\n",
       "\n",
       "    .dataframe tbody tr th {\n",
       "        vertical-align: top;\n",
       "    }\n",
       "\n",
       "    .dataframe thead th {\n",
       "        text-align: right;\n",
       "    }\n",
       "</style>\n",
       "<table border=\"1\" class=\"dataframe\">\n",
       "  <thead>\n",
       "    <tr style=\"text-align: right;\">\n",
       "      <th></th>\n",
       "      <th>DESCRICAO</th>\n",
       "      <th>Modelo</th>\n",
       "      <th>APLICACAO</th>\n",
       "    </tr>\n",
       "  </thead>\n",
       "  <tbody>\n",
       "    <tr>\n",
       "      <th>13965</th>\n",
       "      <td>cg 150 titan fan start cargo nr</td>\n",
       "      <td>HONDA TITAN FAN CG CARGO TIT 150 AN</td>\n",
       "      <td>HONDA CG TIT TITAN 125 150 160</td>\n",
       "    </tr>\n",
       "    <tr>\n",
       "      <th>6174</th>\n",
       "      <td>cbx 250 twister nr</td>\n",
       "      <td>HONDA TWISTER 250 CBX</td>\n",
       "      <td>HONDA TWISTER CBX 250</td>\n",
       "    </tr>\n",
       "    <tr>\n",
       "      <th>16618</th>\n",
       "      <td>xl 125</td>\n",
       "      <td>HONDA 125 XL</td>\n",
       "      <td>HONDA XL XLS 125 XL125 XL125S</td>\n",
       "    </tr>\n",
       "    <tr>\n",
       "      <th>16711</th>\n",
       "      <td>cb twister 250</td>\n",
       "      <td>HONDA CB 250 TWISTER</td>\n",
       "      <td>HONDA TWISTER CBX 250</td>\n",
       "    </tr>\n",
       "    <tr>\n",
       "      <th>8792</th>\n",
       "      <td>racing twister 250</td>\n",
       "      <td>TWISTER RACING 250</td>\n",
       "      <td>HONDA TWISTER CBX 250</td>\n",
       "    </tr>\n",
       "  </tbody>\n",
       "</table>\n",
       "</div>"
      ],
      "text/plain": [
       "                             DESCRICAO                               Modelo  \\\n",
       "13965  cg 150 titan fan start cargo nr  HONDA TITAN FAN CG CARGO TIT 150 AN   \n",
       "6174                cbx 250 twister nr                HONDA TWISTER 250 CBX   \n",
       "16618                           xl 125                         HONDA 125 XL   \n",
       "16711                   cb twister 250                 HONDA CB 250 TWISTER   \n",
       "8792                racing twister 250                   TWISTER RACING 250   \n",
       "\n",
       "                            APLICACAO  \n",
       "13965  HONDA CG TIT TITAN 125 150 160  \n",
       "6174            HONDA TWISTER CBX 250  \n",
       "16618   HONDA XL XLS 125 XL125 XL125S  \n",
       "16711           HONDA TWISTER CBX 250  \n",
       "8792            HONDA TWISTER CBX 250  "
      ]
     },
     "execution_count": 45,
     "metadata": {},
     "output_type": "execute_result"
    }
   ],
   "source": [
    "df.iloc[:,-3:].sample(5)"
   ]
  },
  {
   "cell_type": "code",
   "execution_count": 46,
   "metadata": {},
   "outputs": [
    {
     "data": {
      "text/html": [
       "<div>\n",
       "<style scoped>\n",
       "    .dataframe tbody tr th:only-of-type {\n",
       "        vertical-align: middle;\n",
       "    }\n",
       "\n",
       "    .dataframe tbody tr th {\n",
       "        vertical-align: top;\n",
       "    }\n",
       "\n",
       "    .dataframe thead th {\n",
       "        text-align: right;\n",
       "    }\n",
       "</style>\n",
       "<table border=\"1\" class=\"dataframe\">\n",
       "  <thead>\n",
       "    <tr style=\"text-align: right;\">\n",
       "      <th></th>\n",
       "      <th>DESCRICAO</th>\n",
       "      <th>Modelo</th>\n",
       "      <th>APLICACAO</th>\n",
       "    </tr>\n",
       "  </thead>\n",
       "  <tbody>\n",
       "    <tr>\n",
       "      <th>13041</th>\n",
       "      <td>web 100 108</td>\n",
       "      <td>100 WEB</td>\n",
       "      <td>XXX</td>\n",
       "    </tr>\n",
       "    <tr>\n",
       "      <th>9702</th>\n",
       "      <td>web-100</td>\n",
       "      <td>100 WEB</td>\n",
       "      <td>XXX</td>\n",
       "    </tr>\n",
       "    <tr>\n",
       "      <th>1223</th>\n",
       "      <td>cpk16 ninja 250 300</td>\n",
       "      <td>KAWASAKI NINJA 250 300</td>\n",
       "      <td>XXX</td>\n",
       "    </tr>\n",
       "    <tr>\n",
       "      <th>3387</th>\n",
       "      <td>intruder 125 nr</td>\n",
       "      <td>SUZUKI INTRUDER 125</td>\n",
       "      <td>XXX</td>\n",
       "    </tr>\n",
       "    <tr>\n",
       "      <th>18018</th>\n",
       "      <td>max 125 hunter</td>\n",
       "      <td>125 HUNTER MAX</td>\n",
       "      <td>XXX</td>\n",
       "    </tr>\n",
       "  </tbody>\n",
       "</table>\n",
       "</div>"
      ],
      "text/plain": [
       "                 DESCRICAO                  Modelo APLICACAO\n",
       "13041          web 100 108                 100 WEB       XXX\n",
       "9702               web-100                 100 WEB       XXX\n",
       "1223   cpk16 ninja 250 300  KAWASAKI NINJA 250 300       XXX\n",
       "3387       intruder 125 nr     SUZUKI INTRUDER 125       XXX\n",
       "18018       max 125 hunter          125 HUNTER MAX       XXX"
      ]
     },
     "execution_count": 46,
     "metadata": {},
     "output_type": "execute_result"
    }
   ],
   "source": [
    "df[df['APLICACAO']=='XXX'].iloc[:,-3:].sample(5)"
   ]
  },
  {
   "cell_type": "code",
   "execution_count": 47,
   "metadata": {},
   "outputs": [
    {
     "name": "stdout",
     "output_type": "stream",
     "text": [
      "Registros sem classificação:  659\n",
      "Registros com classificação: 17668\n",
      "Total de Registros:          18327\n"
     ]
    }
   ],
   "source": [
    "print('Registros sem classificação:  ' + str(df[df['APLICACAO']=='XXX'].iloc[:,-3:].shape[0]))\n",
    "print('Registros com classificação: ' + str(df[df['APLICACAO']!='XXX'].iloc[:,-3:].shape[0]))\n",
    "print('Total de Registros:          ' + str(df.shape[0]))"
   ]
  },
  {
   "cell_type": "markdown",
   "metadata": {},
   "source": [
    "Observa-se que após a classificação pelos termos únicos restaram menos de 700 linhas.<br>\n",
    "Para fins de utilização no aprendizado de classificação, os mais de 17.000 registros restantes são suficientes para comparação com os outros modelos a determinar a melhor classificação."
   ]
  },
  {
   "cell_type": "markdown",
   "metadata": {},
   "source": [
    "### Exportando o DataFrame"
   ]
  },
  {
   "cell_type": "markdown",
   "metadata": {},
   "source": [
    "Exportando para um arquivo CSV"
   ]
  },
  {
   "cell_type": "code",
   "execution_count": 48,
   "metadata": {},
   "outputs": [],
   "source": [
    "df.to_csv(r'./bases/dataframe_modelos_class0.csv', index = False, header = True)"
   ]
  },
  {
   "cell_type": "markdown",
   "metadata": {},
   "source": [
    "Exportando para um arquivo de planilha do Excel"
   ]
  },
  {
   "cell_type": "code",
   "execution_count": 49,
   "metadata": {},
   "outputs": [],
   "source": [
    "df.to_excel(r'./bases/dataframe_modelos_class0.xlsx', index = False, header = True)"
   ]
  }
 ],
 "metadata": {
  "kernelspec": {
   "display_name": "Python 3",
   "language": "python",
   "name": "python3"
  },
  "language_info": {
   "codemirror_mode": {
    "name": "ipython",
    "version": 3
   },
   "file_extension": ".py",
   "mimetype": "text/x-python",
   "name": "python",
   "nbconvert_exporter": "python",
   "pygments_lexer": "ipython3",
   "version": "3.7.3"
  },
  "toc": {
   "base_numbering": 1,
   "nav_menu": {},
   "number_sections": false,
   "sideBar": false,
   "skip_h1_title": false,
   "title_cell": "Sumário",
   "title_sidebar": "Sumário",
   "toc_cell": false,
   "toc_position": {},
   "toc_section_display": true,
   "toc_window_display": false
  }
 },
 "nbformat": 4,
 "nbformat_minor": 2
}
