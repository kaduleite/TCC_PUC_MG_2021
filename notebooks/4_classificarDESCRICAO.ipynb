{
 "cells": [
  {
   "cell_type": "markdown",
   "metadata": {},
   "source": [
    "# _Notebook Jupyter_ 4_classificarDESCRICAO"
   ]
  },
  {
   "cell_type": "markdown",
   "metadata": {},
   "source": [
    "# Classificação da DESCRIÇÃO obtida a partir da lista de Aplicações"
   ]
  },
  {
   "cell_type": "markdown",
   "metadata": {},
   "source": [
    "Diante da necessidade de se ter uma série de registros classificados para o aprendizado supervisionado será necessária a classificação prévia de toda a base de dados para a aplicação do aprendizado de máquina que fará predições futuras dessa classificação."
   ]
  },
  {
   "cell_type": "markdown",
   "metadata": {},
   "source": [
    "### Importa as bibliotecas necessárias"
   ]
  },
  {
   "cell_type": "code",
   "execution_count": 1,
   "metadata": {},
   "outputs": [],
   "source": [
    "import pandas as pd, numpy as np\n",
    "import time\n",
    "# importa o CountVectorizer\n",
    "from sklearn.feature_extraction.text import CountVectorizer"
   ]
  },
  {
   "cell_type": "code",
   "execution_count": 2,
   "metadata": {},
   "outputs": [
    {
     "name": "stdout",
     "output_type": "stream",
     "text": [
      "Código executado em 20/01/2022 às 16:53\n"
     ]
    }
   ],
   "source": [
    "# Data e hora da execução do script\n",
    "initot=time.time()\n",
    "print(f'Código executado em {time.strftime(\"%d/%m/%Y às %H:%M\", time.localtime(time.time()))}')"
   ]
  },
  {
   "cell_type": "markdown",
   "metadata": {},
   "source": [
    "### Importando a lista de Aplicações"
   ]
  },
  {
   "cell_type": "code",
   "execution_count": 3,
   "metadata": {},
   "outputs": [],
   "source": [
    "df_aplicacoes = pd.read_csv(r'./bases/Aplicacoes.csv')"
   ]
  },
  {
   "cell_type": "code",
   "execution_count": 4,
   "metadata": {},
   "outputs": [
    {
     "data": {
      "text/html": [
       "<div>\n",
       "<style scoped>\n",
       "    .dataframe tbody tr th:only-of-type {\n",
       "        vertical-align: middle;\n",
       "    }\n",
       "\n",
       "    .dataframe tbody tr th {\n",
       "        vertical-align: top;\n",
       "    }\n",
       "\n",
       "    .dataframe thead th {\n",
       "        text-align: right;\n",
       "    }\n",
       "</style>\n",
       "<table border=\"1\" class=\"dataframe\">\n",
       "  <thead>\n",
       "    <tr style=\"text-align: right;\">\n",
       "      <th></th>\n",
       "      <th>APLICACOES</th>\n",
       "    </tr>\n",
       "  </thead>\n",
       "  <tbody>\n",
       "    <tr>\n",
       "      <th>0</th>\n",
       "      <td>ACELLERA ACX 250F 250</td>\n",
       "    </tr>\n",
       "    <tr>\n",
       "      <th>1</th>\n",
       "      <td>ACELLERA FRONTLANDER 500</td>\n",
       "    </tr>\n",
       "    <tr>\n",
       "      <th>2</th>\n",
       "      <td>ACELLERA FRONTLANDER 800 EFI</td>\n",
       "    </tr>\n",
       "    <tr>\n",
       "      <th>3</th>\n",
       "      <td>ACELLERA HOTZOO SPORT 90</td>\n",
       "    </tr>\n",
       "    <tr>\n",
       "      <th>4</th>\n",
       "      <td>ACELLERA QUADRILANDER 300</td>\n",
       "    </tr>\n",
       "  </tbody>\n",
       "</table>\n",
       "</div>"
      ],
      "text/plain": [
       "                     APLICACOES\n",
       "0         ACELLERA ACX 250F 250\n",
       "1      ACELLERA FRONTLANDER 500\n",
       "2  ACELLERA FRONTLANDER 800 EFI\n",
       "3      ACELLERA HOTZOO SPORT 90\n",
       "4     ACELLERA QUADRILANDER 300"
      ]
     },
     "execution_count": 4,
     "metadata": {},
     "output_type": "execute_result"
    }
   ],
   "source": [
    "df_aplicacoes.head()"
   ]
  },
  {
   "cell_type": "code",
   "execution_count": 5,
   "metadata": {},
   "outputs": [
    {
     "data": {
      "text/plain": [
       "(854, 1)"
      ]
     },
     "execution_count": 5,
     "metadata": {},
     "output_type": "execute_result"
    }
   ],
   "source": [
    "df_aplicacoes.shape"
   ]
  },
  {
   "cell_type": "markdown",
   "metadata": {},
   "source": [
    "Observa-se dos dados acima que há 861 modelos de motocicletas disponíveis, que são as nossas possíveis aplicações dos kits de transmissão a serem importados."
   ]
  },
  {
   "cell_type": "markdown",
   "metadata": {},
   "source": [
    "#### Criação das Bags of Words do DataSet de aplicações"
   ]
  },
  {
   "cell_type": "code",
   "execution_count": 6,
   "metadata": {},
   "outputs": [],
   "source": [
    "bow_aplicacoes = CountVectorizer(token_pattern='(?u)\\\\b[a-zA-z0-9\\\\w-]+\\\\b')"
   ]
  },
  {
   "cell_type": "code",
   "execution_count": 7,
   "metadata": {},
   "outputs": [
    {
     "data": {
      "text/plain": [
       "CountVectorizer(analyzer='word', binary=False, decode_error='strict',\n",
       "        dtype=<class 'numpy.int64'>, encoding='utf-8', input='content',\n",
       "        lowercase=True, max_df=1.0, max_features=None, min_df=1,\n",
       "        ngram_range=(1, 1), preprocessor=None, stop_words=None,\n",
       "        strip_accents=None, token_pattern='(?u)\\\\b[a-zA-z0-9\\\\w-]+\\\\b',\n",
       "        tokenizer=None, vocabulary=None)"
      ]
     },
     "metadata": {},
     "output_type": "display_data"
    }
   ],
   "source": [
    "display(bow_aplicacoes)"
   ]
  },
  {
   "cell_type": "code",
   "execution_count": 8,
   "metadata": {},
   "outputs": [
    {
     "data": {
      "text/plain": [
       "CountVectorizer(analyzer='word', binary=False, decode_error='strict',\n",
       "        dtype=<class 'numpy.int64'>, encoding='utf-8', input='content',\n",
       "        lowercase=True, max_df=1.0, max_features=None, min_df=1,\n",
       "        ngram_range=(1, 1), preprocessor=None, stop_words=None,\n",
       "        strip_accents=None, token_pattern='(?u)\\\\b[a-zA-z0-9\\\\w-]+\\\\b',\n",
       "        tokenizer=None, vocabulary=None)"
      ]
     },
     "execution_count": 8,
     "metadata": {},
     "output_type": "execute_result"
    }
   ],
   "source": [
    "bow_aplicacoes.fit(df_aplicacoes['APLICACOES'])"
   ]
  },
  {
   "cell_type": "code",
   "execution_count": 9,
   "metadata": {},
   "outputs": [
    {
     "name": "stdout",
     "output_type": "stream",
     "text": [
      "{'acellera': 85, 'acx': 87, '250f': 31, '250': 30, 'frontlander': 327, '500': 47, '800': 72, 'efi': 274, 'hotzoo': 408, 'sport': 694, '90': 78, 'quadrilander': 608, '300': 35, '400': 40, '600': 54, 'sportlander': 696, '150r': 20, '150': 19, '250xr': 32, '350zx': 38, '350': 37, '450tr': 44, '450': 42, 'adly': 89, 'atv': 122, 'jaguar': 427, 'rt': 654, 'agrale': 96, 'city': 196, 'dakar': 222, 'elefant': 276, 're': 633, 'explorer': 296, 'force': 321, 'junior': 443, 'sst': 707, 'super': 723, 'sxt': 7 (...) 783, 'tzr': 784, 'v-max': 787, '1680': 22, 'v-star': 790, 'virago': 807, '535': 51, '450f': 43, 'xf50x': 850, 'xj6': 851, 'xjr': 852, 'xr180': 862, 'xs1100': 867, 'xs': 866, 'xs400': 868, 'xs500': 869, 'xs650': 870, 'xs750': 871, 'xs850': 872, 'xt': 873, '225': 26, '660r': 59, '660': 58, 'tenere': 738, '1200z': 12, '660z': 60, 'crosser': 210, 'xz': 877, 'yfm': 883, '700r': 64, 'yfs': 884, 'yz': 887, '85lw': 77, 'yzf': 888, '600r': 55, 'r1': 613, 'r6': 620, 'yzr': 889, 'zongshen': 900, 'zs': 903}\n"
     ]
    }
   ],
   "source": [
    "# Verificação das palavras\n",
    "vocabulario_aplicacoes = bow_aplicacoes.vocabulary_\n",
    "print(str(vocabulario_aplicacoes)[:500]+' (...) '+str(vocabulario_aplicacoes)[-500:]) # amostra"
   ]
  },
  {
   "cell_type": "code",
   "execution_count": 10,
   "metadata": {},
   "outputs": [
    {
     "data": {
      "text/plain": [
       "905"
      ]
     },
     "execution_count": 10,
     "metadata": {},
     "output_type": "execute_result"
    }
   ],
   "source": [
    "# Verificação do número de termos no vocabulário de aplicações\n",
    "len(bow_aplicacoes.vocabulary_)"
   ]
  },
  {
   "cell_type": "code",
   "execution_count": 11,
   "metadata": {},
   "outputs": [
    {
     "name": "stdout",
     "output_type": "stream",
     "text": [
      "  (0, 30)\t1\n",
      "  (0, 31)\t1\n",
      "  (0, 87)\t1\n",
      "  (0, 85)\t1\n",
      "  (1, 47)\t1\n",
      "  (1, 327)\t1\n",
      "  (1, 85)\t1\n",
      "       (...)\n",
      "  (0, 903)\t1\n",
      "  (0, 900)\t1\n",
      "  (0, 13)\t1\n",
      "  (1, 903)\t1\n",
      "  (1, 900)\t1\n",
      "  (1, 25)\t1\n"
     ]
    }
   ],
   "source": [
    "# Transformação em vetores binários\n",
    "X_bow_aplicacoes = bow_aplicacoes.fit_transform(df_aplicacoes['APLICACOES'])\n",
    "print(f'{X_bow_aplicacoes[:2]}\\n       (...)\\n{X_bow_aplicacoes[-2:]}') # amostra"
   ]
  },
  {
   "cell_type": "code",
   "execution_count": 12,
   "metadata": {},
   "outputs": [
    {
     "data": {
      "text/plain": [
       "scipy.sparse.csr.csr_matrix"
      ]
     },
     "execution_count": 12,
     "metadata": {},
     "output_type": "execute_result"
    }
   ],
   "source": [
    "type(X_bow_aplicacoes)"
   ]
  },
  {
   "cell_type": "code",
   "execution_count": 13,
   "metadata": {},
   "outputs": [],
   "source": [
    "matrix_aplicacoes = bow_aplicacoes.transform(df_aplicacoes['APLICACOES'])"
   ]
  },
  {
   "cell_type": "code",
   "execution_count": 14,
   "metadata": {},
   "outputs": [
    {
     "name": "stdout",
     "output_type": "stream",
     "text": [
      "  (0, 30)\t1\n",
      "  (0, 31)\t1\n",
      "  (0, 85)\t1\n",
      "  (0, 87)\t1\n",
      "  (1, 47)\t1\n",
      "  (1, 85)\t1\n",
      "  (1, 327)\t1\n",
      "       (...)\n",
      "  (0, 13)\t1\n",
      "  (0, 900)\t1\n",
      "  (0, 903)\t1\n",
      "  (1, 25)\t1\n",
      "  (1, 900)\t1\n",
      "  (1, 903)\t1\n"
     ]
    }
   ],
   "source": [
    "print(f'{matrix_aplicacoes[:2]}\\n       (...)\\n{matrix_aplicacoes[-2:]}') # amostra"
   ]
  },
  {
   "cell_type": "code",
   "execution_count": 15,
   "metadata": {},
   "outputs": [
    {
     "name": "stdout",
     "output_type": "stream",
     "text": [
      "(854, 905)\n"
     ]
    }
   ],
   "source": [
    "print(matrix_aplicacoes.shape)"
   ]
  },
  {
   "cell_type": "code",
   "execution_count": 16,
   "metadata": {},
   "outputs": [
    {
     "name": "stdout",
     "output_type": "stream",
     "text": [
      "[[0 0 0 ... 0 0 0]\n",
      " [0 0 0 ... 0 0 0]\n",
      " [0 0 0 ... 0 0 0]\n",
      " ...\n",
      " [0 0 0 ... 0 0 0]\n",
      " [0 0 0 ... 0 1 0]\n",
      " [0 0 0 ... 0 1 0]]\n"
     ]
    }
   ],
   "source": [
    "print(matrix_aplicacoes.toarray())"
   ]
  },
  {
   "cell_type": "code",
   "execution_count": 17,
   "metadata": {},
   "outputs": [
    {
     "data": {
      "text/html": [
       "<div>\n",
       "<style scoped>\n",
       "    .dataframe tbody tr th:only-of-type {\n",
       "        vertical-align: middle;\n",
       "    }\n",
       "\n",
       "    .dataframe tbody tr th {\n",
       "        vertical-align: top;\n",
       "    }\n",
       "\n",
       "    .dataframe thead th {\n",
       "        text-align: right;\n",
       "    }\n",
       "</style>\n",
       "<table border=\"1\" class=\"dataframe\">\n",
       "  <thead>\n",
       "    <tr style=\"text-align: right;\">\n",
       "      <th></th>\n",
       "      <th>0</th>\n",
       "      <th>1</th>\n",
       "      <th>2</th>\n",
       "      <th>3</th>\n",
       "      <th>4</th>\n",
       "      <th>5</th>\n",
       "      <th>6</th>\n",
       "      <th>7</th>\n",
       "      <th>8</th>\n",
       "      <th>9</th>\n",
       "      <th>...</th>\n",
       "      <th>895</th>\n",
       "      <th>896</th>\n",
       "      <th>897</th>\n",
       "      <th>898</th>\n",
       "      <th>899</th>\n",
       "      <th>900</th>\n",
       "      <th>901</th>\n",
       "      <th>902</th>\n",
       "      <th>903</th>\n",
       "      <th>904</th>\n",
       "    </tr>\n",
       "  </thead>\n",
       "  <tbody>\n",
       "    <tr>\n",
       "      <th>0</th>\n",
       "      <td>0</td>\n",
       "      <td>0</td>\n",
       "      <td>0</td>\n",
       "      <td>0</td>\n",
       "      <td>0</td>\n",
       "      <td>0</td>\n",
       "      <td>0</td>\n",
       "      <td>0</td>\n",
       "      <td>0</td>\n",
       "      <td>0</td>\n",
       "      <td>...</td>\n",
       "      <td>0</td>\n",
       "      <td>0</td>\n",
       "      <td>0</td>\n",
       "      <td>0</td>\n",
       "      <td>0</td>\n",
       "      <td>0</td>\n",
       "      <td>0</td>\n",
       "      <td>0</td>\n",
       "      <td>0</td>\n",
       "      <td>0</td>\n",
       "    </tr>\n",
       "    <tr>\n",
       "      <th>1</th>\n",
       "      <td>0</td>\n",
       "      <td>0</td>\n",
       "      <td>0</td>\n",
       "      <td>0</td>\n",
       "      <td>0</td>\n",
       "      <td>0</td>\n",
       "      <td>0</td>\n",
       "      <td>0</td>\n",
       "      <td>0</td>\n",
       "      <td>0</td>\n",
       "      <td>...</td>\n",
       "      <td>0</td>\n",
       "      <td>0</td>\n",
       "      <td>0</td>\n",
       "      <td>0</td>\n",
       "      <td>0</td>\n",
       "      <td>0</td>\n",
       "      <td>0</td>\n",
       "      <td>0</td>\n",
       "      <td>0</td>\n",
       "      <td>0</td>\n",
       "    </tr>\n",
       "    <tr>\n",
       "      <th>2</th>\n",
       "      <td>0</td>\n",
       "      <td>0</td>\n",
       "      <td>0</td>\n",
       "      <td>0</td>\n",
       "      <td>0</td>\n",
       "      <td>0</td>\n",
       "      <td>0</td>\n",
       "      <td>0</td>\n",
       "      <td>0</td>\n",
       "      <td>0</td>\n",
       "      <td>...</td>\n",
       "      <td>0</td>\n",
       "      <td>0</td>\n",
       "      <td>0</td>\n",
       "      <td>0</td>\n",
       "      <td>0</td>\n",
       "      <td>0</td>\n",
       "      <td>0</td>\n",
       "      <td>0</td>\n",
       "      <td>0</td>\n",
       "      <td>0</td>\n",
       "    </tr>\n",
       "    <tr>\n",
       "      <th>3</th>\n",
       "      <td>0</td>\n",
       "      <td>0</td>\n",
       "      <td>0</td>\n",
       "      <td>0</td>\n",
       "      <td>0</td>\n",
       "      <td>0</td>\n",
       "      <td>0</td>\n",
       "      <td>0</td>\n",
       "      <td>0</td>\n",
       "      <td>0</td>\n",
       "      <td>...</td>\n",
       "      <td>0</td>\n",
       "      <td>0</td>\n",
       "      <td>0</td>\n",
       "      <td>0</td>\n",
       "      <td>0</td>\n",
       "      <td>0</td>\n",
       "      <td>0</td>\n",
       "      <td>0</td>\n",
       "      <td>0</td>\n",
       "      <td>0</td>\n",
       "    </tr>\n",
       "    <tr>\n",
       "      <th>4</th>\n",
       "      <td>0</td>\n",
       "      <td>0</td>\n",
       "      <td>0</td>\n",
       "      <td>0</td>\n",
       "      <td>0</td>\n",
       "      <td>0</td>\n",
       "      <td>0</td>\n",
       "      <td>0</td>\n",
       "      <td>0</td>\n",
       "      <td>0</td>\n",
       "      <td>...</td>\n",
       "      <td>0</td>\n",
       "      <td>0</td>\n",
       "      <td>0</td>\n",
       "      <td>0</td>\n",
       "      <td>0</td>\n",
       "      <td>0</td>\n",
       "      <td>0</td>\n",
       "      <td>0</td>\n",
       "      <td>0</td>\n",
       "      <td>0</td>\n",
       "    </tr>\n",
       "  </tbody>\n",
       "</table>\n",
       "<p>5 rows × 905 columns</p>\n",
       "</div>"
      ],
      "text/plain": [
       "   0    1    2    3    4    5    6    7    8    9    ...  895  896  897  898  \\\n",
       "0    0    0    0    0    0    0    0    0    0    0  ...    0    0    0    0   \n",
       "1    0    0    0    0    0    0    0    0    0    0  ...    0    0    0    0   \n",
       "2    0    0    0    0    0    0    0    0    0    0  ...    0    0    0    0   \n",
       "3    0    0    0    0    0    0    0    0    0    0  ...    0    0    0    0   \n",
       "4    0    0    0    0    0    0    0    0    0    0  ...    0    0    0    0   \n",
       "\n",
       "   899  900  901  902  903  904  \n",
       "0    0    0    0    0    0    0  \n",
       "1    0    0    0    0    0    0  \n",
       "2    0    0    0    0    0    0  \n",
       "3    0    0    0    0    0    0  \n",
       "4    0    0    0    0    0    0  \n",
       "\n",
       "[5 rows x 905 columns]"
      ]
     },
     "execution_count": 17,
     "metadata": {},
     "output_type": "execute_result"
    }
   ],
   "source": [
    "df1=pd.DataFrame(matrix_aplicacoes.toarray())\n",
    "df1.head()"
   ]
  },
  {
   "cell_type": "code",
   "execution_count": 18,
   "metadata": {},
   "outputs": [
    {
     "data": {
      "text/plain": [
       "0    9\n",
       "1    1\n",
       "2    1\n",
       "3    1\n",
       "4    1\n",
       "dtype: int64"
      ]
     },
     "execution_count": 18,
     "metadata": {},
     "output_type": "execute_result"
    }
   ],
   "source": [
    "# Totalização do número de termos de cada vocábulo\n",
    "df_sum=df1.sum(axis=0)\n",
    "df_sum.head()"
   ]
  },
  {
   "cell_type": "code",
   "execution_count": 19,
   "metadata": {},
   "outputs": [
    {
     "data": {
      "text/plain": [
       "count    905.000000\n",
       "mean       2.501657\n",
       "std        5.666452\n",
       "min        1.000000\n",
       "25%        1.000000\n",
       "50%        1.000000\n",
       "75%        2.000000\n",
       "max       97.000000\n",
       "dtype: float64"
      ]
     },
     "execution_count": 19,
     "metadata": {},
     "output_type": "execute_result"
    }
   ],
   "source": [
    "# Sumário do dataset\n",
    "df_sum.describe()"
   ]
  },
  {
   "cell_type": "code",
   "execution_count": 20,
   "metadata": {},
   "outputs": [
    {
     "name": "stdout",
     "output_type": "stream",
     "text": [
      "452    1\n",
      "551    1\n",
      "552    1\n",
      "554    1\n",
      "556    1\n",
      "dtype: int64 30     36\n",
      "459    37\n",
      "599    40\n",
      "406    79\n",
      "878    97\n",
      "dtype: int64\n"
     ]
    }
   ],
   "source": [
    "# Identificação dos valores máximos\n",
    "print(df_sum.sort_values().head(),df_sum.sort_values().tail())"
   ]
  },
  {
   "cell_type": "code",
   "execution_count": 21,
   "metadata": {},
   "outputs": [
    {
     "data": {
      "text/plain": [
       "289    1\n",
       "251    1\n",
       "479    1\n",
       "894    1\n",
       "387    1\n",
       "dtype: int64"
      ]
     },
     "execution_count": 21,
     "metadata": {},
     "output_type": "execute_result"
    }
   ],
   "source": [
    "# Identificação dos valores com uma ocorrência\n",
    "df_sum[df_sum==1].sample(5)"
   ]
  },
  {
   "cell_type": "markdown",
   "metadata": {},
   "source": [
    "Diante da necessidade de se ter uma série de registros classificados para o aprendizado supervisionado e após a determinação dos 858 modelos de aplicações disponíveis, vamos classificar baseados nas seguintes observações realizadas na análise exploratória dos dados:\n",
    "1. Os modelos de motocicletas têm nomes que os distinguem em grande parte dos casos;\n",
    "2. Dos 913 termos, 655 aparacem apenas uma vez, o que implica que sua ocorrência já deve classificar o item;\n",
    "3. O termo com maior número de ocorrências aparece 97 vezes (YAMAHA), sendo o menos distintivo de todos."
   ]
  },
  {
   "cell_type": "code",
   "execution_count": 22,
   "metadata": {},
   "outputs": [],
   "source": [
    "# Função para pegar a chave pelo valor, dado que valor é único.\n",
    "def pegaChave(v):\n",
    "    for chave, valor in vocabulario_aplicacoes.items():\n",
    "        if v == valor:\n",
    "            return chave\n",
    "    return \"Não existe chave para esse valor.\""
   ]
  },
  {
   "cell_type": "code",
   "execution_count": 23,
   "metadata": {},
   "outputs": [
    {
     "name": "stdout",
     "output_type": "stream",
     "text": [
      "YBR125\n"
     ]
    }
   ],
   "source": [
    "print(pegaChave(881).upper())"
   ]
  },
  {
   "cell_type": "code",
   "execution_count": 24,
   "metadata": {},
   "outputs": [],
   "source": [
    "# Criação do dicionário chaves invertendo chave e valor do vocabulário\n",
    "chaves = dict((v,k) for k,v in vocabulario_aplicacoes.items())"
   ]
  },
  {
   "cell_type": "code",
   "execution_count": 25,
   "metadata": {},
   "outputs": [
    {
     "data": {
      "text/plain": [
       "'YZ'"
      ]
     },
     "execution_count": 25,
     "metadata": {},
     "output_type": "execute_result"
    }
   ],
   "source": [
    "# Termo do vocabulário pelo índice\n",
    "chaves[887].upper()"
   ]
  },
  {
   "cell_type": "code",
   "execution_count": 26,
   "metadata": {},
   "outputs": [
    {
     "data": {
      "text/plain": [
       "878"
      ]
     },
     "execution_count": 26,
     "metadata": {},
     "output_type": "execute_result"
    }
   ],
   "source": [
    "# Índice pelo termo do vocabulário\n",
    "vocabulario_aplicacoes['yamaha']"
   ]
  },
  {
   "cell_type": "code",
   "execution_count": 27,
   "metadata": {},
   "outputs": [
    {
     "data": {
      "text/plain": [
       "97"
      ]
     },
     "execution_count": 27,
     "metadata": {},
     "output_type": "execute_result"
    }
   ],
   "source": [
    "# Número de ocorrências pelo termo do vocabulário\n",
    "df_sum[vocabulario_aplicacoes['yamaha']]"
   ]
  },
  {
   "cell_type": "code",
   "execution_count": 28,
   "metadata": {
    "code_folding": []
   },
   "outputs": [],
   "source": [
    "# Função para determinar a aplicação caso a contagem do termo seja 1\n",
    "def achaAplicacao1(modelo):\n",
    "    # pega os termos do modelo e transforma em uma lista\n",
    "    modelolst = modelo.lower().split()\n",
    "    # para cada termo\n",
    "    for mod in modelolst:\n",
    "        try:\n",
    "            # l é o índice termo no vocabulário de aplicações\n",
    "            l = vocabulario_aplicacoes[mod]\n",
    "            # se a soma de todos os termos do índice i do vocabulário for 1\n",
    "            if df_sum[l]==1: \n",
    "                # pegar o índice dessa linha\n",
    "                # que será onde o valor 1 aparece na coluna chamada linha do df1\n",
    "                i = int(df1[df1[l]==1].index.values)\n",
    "                # retornar a descrição da aplicação dessa linha\n",
    "                return df_aplicacoes['APLICACOES'][i]\n",
    "        except:\n",
    "            continue\n",
    "    return 'XXX'"
   ]
  },
  {
   "cell_type": "code",
   "execution_count": 29,
   "metadata": {},
   "outputs": [
    {
     "name": "stdout",
     "output_type": "stream",
     "text": [
      "KIMCO ZING\n"
     ]
    }
   ],
   "source": [
    "print(achaAplicacao1('MOTO TEMOS OUTRO ZING'))"
   ]
  },
  {
   "cell_type": "markdown",
   "metadata": {},
   "source": [
    "### Importa os dados já tratados"
   ]
  },
  {
   "cell_type": "code",
   "execution_count": 30,
   "metadata": {},
   "outputs": [],
   "source": [
    "# Importa base de dados com os modelos já determinados para um dataframe\n",
    "df = pd.read_excel('./bases/dataframe_modelos.xlsx')"
   ]
  },
  {
   "cell_type": "code",
   "execution_count": 31,
   "metadata": {},
   "outputs": [
    {
     "data": {
      "text/html": [
       "<div>\n",
       "<style scoped>\n",
       "    .dataframe tbody tr th:only-of-type {\n",
       "        vertical-align: middle;\n",
       "    }\n",
       "\n",
       "    .dataframe tbody tr th {\n",
       "        vertical-align: top;\n",
       "    }\n",
       "\n",
       "    .dataframe thead th {\n",
       "        text-align: right;\n",
       "    }\n",
       "</style>\n",
       "<table border=\"1\" class=\"dataframe\">\n",
       "  <thead>\n",
       "    <tr style=\"text-align: right;\">\n",
       "      <th></th>\n",
       "      <th>PAIS DE ORIGEM</th>\n",
       "      <th>DESCRICAO DO PRODUTO</th>\n",
       "      <th>VALOR UN.PROD.DOLAR</th>\n",
       "      <th>DESCRICAO</th>\n",
       "      <th>Modelo</th>\n",
       "    </tr>\n",
       "  </thead>\n",
       "  <tbody>\n",
       "    <tr>\n",
       "      <th>11027</th>\n",
       "      <td>CHINA, REPUBLICA POP</td>\n",
       "      <td>KIT DE TRANSMISSAO , MARCA RIFFEL, TITANIUM (1...</td>\n",
       "      <td>3.750</td>\n",
       "      <td>biz 125</td>\n",
       "      <td>125 biz honda</td>\n",
       "    </tr>\n",
       "    <tr>\n",
       "      <th>4255</th>\n",
       "      <td>CHINA, REPUBLICA POP</td>\n",
       "      <td>KIT DE TRANSMISSAO , MARCA RIFFEL, TITANIUM (1...</td>\n",
       "      <td>4.060</td>\n",
       "      <td>ybr 125 factor</td>\n",
       "      <td>125 factor yamaha ybr</td>\n",
       "    </tr>\n",
       "    <tr>\n",
       "      <th>5884</th>\n",
       "      <td>CHINA, REPUBLICA POP</td>\n",
       "      <td>KIT DE TRANSMISSAO , MARCA RIFFEL, TOP (1045) ...</td>\n",
       "      <td>14.950</td>\n",
       "      <td>cb 300r</td>\n",
       "      <td>300 300r cb honda</td>\n",
       "    </tr>\n",
       "    <tr>\n",
       "      <th>7989</th>\n",
       "      <td>CHINA, REPUBLICA POP</td>\n",
       "      <td>10530035 IN KIT TRANSMISSAO P/MOTOCICLETAS(COR...</td>\n",
       "      <td>6.459</td>\n",
       "      <td>cb 300</td>\n",
       "      <td>300 cb honda</td>\n",
       "    </tr>\n",
       "  </tbody>\n",
       "</table>\n",
       "</div>"
      ],
      "text/plain": [
       "             PAIS DE ORIGEM  \\\n",
       "11027  CHINA, REPUBLICA POP   \n",
       "4255   CHINA, REPUBLICA POP   \n",
       "5884   CHINA, REPUBLICA POP   \n",
       "7989   CHINA, REPUBLICA POP   \n",
       "\n",
       "                                    DESCRICAO DO PRODUTO  VALOR UN.PROD.DOLAR  \\\n",
       "11027  KIT DE TRANSMISSAO , MARCA RIFFEL, TITANIUM (1...                3.750   \n",
       "4255   KIT DE TRANSMISSAO , MARCA RIFFEL, TITANIUM (1...                4.060   \n",
       "5884   KIT DE TRANSMISSAO , MARCA RIFFEL, TOP (1045) ...               14.950   \n",
       "7989   10530035 IN KIT TRANSMISSAO P/MOTOCICLETAS(COR...                6.459   \n",
       "\n",
       "            DESCRICAO                 Modelo  \n",
       "11027         biz 125          125 biz honda  \n",
       "4255   ybr 125 factor  125 factor yamaha ybr  \n",
       "5884          cb 300r      300 300r cb honda  \n",
       "7989           cb 300           300 cb honda  "
      ]
     },
     "execution_count": 31,
     "metadata": {},
     "output_type": "execute_result"
    }
   ],
   "source": [
    "df.sample(4)"
   ]
  },
  {
   "cell_type": "code",
   "execution_count": 32,
   "metadata": {
    "scrolled": false
   },
   "outputs": [
    {
     "data": {
      "text/html": [
       "<div>\n",
       "<style scoped>\n",
       "    .dataframe tbody tr th:only-of-type {\n",
       "        vertical-align: middle;\n",
       "    }\n",
       "\n",
       "    .dataframe tbody tr th {\n",
       "        vertical-align: top;\n",
       "    }\n",
       "\n",
       "    .dataframe thead th {\n",
       "        text-align: right;\n",
       "    }\n",
       "</style>\n",
       "<table border=\"1\" class=\"dataframe\">\n",
       "  <thead>\n",
       "    <tr style=\"text-align: right;\">\n",
       "      <th></th>\n",
       "      <th>DESCRICAO</th>\n",
       "      <th>Modelo</th>\n",
       "    </tr>\n",
       "  </thead>\n",
       "  <tbody>\n",
       "    <tr>\n",
       "      <th>0</th>\n",
       "      <td>honda cg 150 titan ks es mix fan</td>\n",
       "      <td>150 cg fan honda titan</td>\n",
       "    </tr>\n",
       "    <tr>\n",
       "      <th>1</th>\n",
       "      <td>honda cg 125 titan ks es cargo</td>\n",
       "      <td>125 cargo cg honda titan</td>\n",
       "    </tr>\n",
       "    <tr>\n",
       "      <th>2</th>\n",
       "      <td>honda cg 125 fan</td>\n",
       "      <td>125 cg fan honda</td>\n",
       "    </tr>\n",
       "    <tr>\n",
       "      <th>3</th>\n",
       "      <td>c100 biz</td>\n",
       "      <td>biz c100 honda</td>\n",
       "    </tr>\n",
       "    <tr>\n",
       "      <th>4</th>\n",
       "      <td>mirage 150</td>\n",
       "      <td>150 kasinski mirage</td>\n",
       "    </tr>\n",
       "  </tbody>\n",
       "</table>\n",
       "</div>"
      ],
      "text/plain": [
       "                          DESCRICAO                    Modelo\n",
       "0  honda cg 150 titan ks es mix fan    150 cg fan honda titan\n",
       "1    honda cg 125 titan ks es cargo  125 cargo cg honda titan\n",
       "2                  honda cg 125 fan          125 cg fan honda\n",
       "3                          c100 biz            biz c100 honda\n",
       "4                        mirage 150       150 kasinski mirage"
      ]
     },
     "execution_count": 32,
     "metadata": {},
     "output_type": "execute_result"
    }
   ],
   "source": [
    "df.iloc[:,-2:].head()"
   ]
  },
  {
   "cell_type": "code",
   "execution_count": 33,
   "metadata": {},
   "outputs": [
    {
     "data": {
      "text/plain": [
       "(17484, 5)"
      ]
     },
     "execution_count": 33,
     "metadata": {},
     "output_type": "execute_result"
    }
   ],
   "source": [
    "# Verifica o tamnanho do dataframe\n",
    "df.shape"
   ]
  },
  {
   "cell_type": "markdown",
   "metadata": {},
   "source": [
    "## Classificando segundo a lista de Aplicações"
   ]
  },
  {
   "cell_type": "code",
   "execution_count": 34,
   "metadata": {},
   "outputs": [],
   "source": [
    "df['APLICACAO']=df['Modelo'].apply(achaAplicacao1)"
   ]
  },
  {
   "cell_type": "code",
   "execution_count": 35,
   "metadata": {},
   "outputs": [
    {
     "data": {
      "text/html": [
       "<div>\n",
       "<style scoped>\n",
       "    .dataframe tbody tr th:only-of-type {\n",
       "        vertical-align: middle;\n",
       "    }\n",
       "\n",
       "    .dataframe tbody tr th {\n",
       "        vertical-align: top;\n",
       "    }\n",
       "\n",
       "    .dataframe thead th {\n",
       "        text-align: right;\n",
       "    }\n",
       "</style>\n",
       "<table border=\"1\" class=\"dataframe\">\n",
       "  <thead>\n",
       "    <tr style=\"text-align: right;\">\n",
       "      <th></th>\n",
       "      <th>DESCRICAO</th>\n",
       "      <th>Modelo</th>\n",
       "      <th>APLICACAO</th>\n",
       "    </tr>\n",
       "  </thead>\n",
       "  <tbody>\n",
       "    <tr>\n",
       "      <th>0</th>\n",
       "      <td>honda cg 150 titan ks es mix fan</td>\n",
       "      <td>150 cg fan honda titan</td>\n",
       "      <td>HONDA CG FAN</td>\n",
       "    </tr>\n",
       "    <tr>\n",
       "      <th>1</th>\n",
       "      <td>honda cg 125 titan ks es cargo</td>\n",
       "      <td>125 cargo cg honda titan</td>\n",
       "      <td>HONDA CG TIT TITAN 125 150 160</td>\n",
       "    </tr>\n",
       "    <tr>\n",
       "      <th>2</th>\n",
       "      <td>honda cg 125 fan</td>\n",
       "      <td>125 cg fan honda</td>\n",
       "      <td>HONDA CG FAN</td>\n",
       "    </tr>\n",
       "    <tr>\n",
       "      <th>3</th>\n",
       "      <td>c100 biz</td>\n",
       "      <td>biz c100 honda</td>\n",
       "      <td>HONDA BIZ C100 125 C125</td>\n",
       "    </tr>\n",
       "    <tr>\n",
       "      <th>4</th>\n",
       "      <td>mirage 150</td>\n",
       "      <td>150 kasinski mirage</td>\n",
       "      <td>XXX</td>\n",
       "    </tr>\n",
       "    <tr>\n",
       "      <th>5</th>\n",
       "      <td>cbx 250 twister</td>\n",
       "      <td>250 cbx honda twister</td>\n",
       "      <td>HONDA TWISTER CBX 250</td>\n",
       "    </tr>\n",
       "    <tr>\n",
       "      <th>6</th>\n",
       "      <td>crf 230</td>\n",
       "      <td>230 crf honda</td>\n",
       "      <td>XXX</td>\n",
       "    </tr>\n",
       "    <tr>\n",
       "      <th>7</th>\n",
       "      <td>shineray phoenix 50cc</td>\n",
       "      <td>50 phoenix shineray</td>\n",
       "      <td>XXX</td>\n",
       "    </tr>\n",
       "    <tr>\n",
       "      <th>8</th>\n",
       "      <td>pop 110</td>\n",
       "      <td>honda pop</td>\n",
       "      <td>HONDA POP</td>\n",
       "    </tr>\n",
       "    <tr>\n",
       "      <th>9</th>\n",
       "      <td>pop</td>\n",
       "      <td>honda pop</td>\n",
       "      <td>HONDA POP</td>\n",
       "    </tr>\n",
       "  </tbody>\n",
       "</table>\n",
       "</div>"
      ],
      "text/plain": [
       "                          DESCRICAO                    Modelo  \\\n",
       "0  honda cg 150 titan ks es mix fan    150 cg fan honda titan   \n",
       "1    honda cg 125 titan ks es cargo  125 cargo cg honda titan   \n",
       "2                  honda cg 125 fan          125 cg fan honda   \n",
       "3                          c100 biz            biz c100 honda   \n",
       "4                        mirage 150       150 kasinski mirage   \n",
       "5                   cbx 250 twister     250 cbx honda twister   \n",
       "6                           crf 230             230 crf honda   \n",
       "7             shineray phoenix 50cc       50 phoenix shineray   \n",
       "8                           pop 110                 honda pop   \n",
       "9                               pop                 honda pop   \n",
       "\n",
       "                        APLICACAO  \n",
       "0                    HONDA CG FAN  \n",
       "1  HONDA CG TIT TITAN 125 150 160  \n",
       "2                    HONDA CG FAN  \n",
       "3         HONDA BIZ C100 125 C125  \n",
       "4                             XXX  \n",
       "5           HONDA TWISTER CBX 250  \n",
       "6                             XXX  \n",
       "7                             XXX  \n",
       "8                       HONDA POP  \n",
       "9                       HONDA POP  "
      ]
     },
     "execution_count": 35,
     "metadata": {},
     "output_type": "execute_result"
    }
   ],
   "source": [
    "df.iloc[:,-3:].head(10)"
   ]
  },
  {
   "cell_type": "code",
   "execution_count": 36,
   "metadata": {},
   "outputs": [
    {
     "data": {
      "text/html": [
       "<div>\n",
       "<style scoped>\n",
       "    .dataframe tbody tr th:only-of-type {\n",
       "        vertical-align: middle;\n",
       "    }\n",
       "\n",
       "    .dataframe tbody tr th {\n",
       "        vertical-align: top;\n",
       "    }\n",
       "\n",
       "    .dataframe thead th {\n",
       "        text-align: right;\n",
       "    }\n",
       "</style>\n",
       "<table border=\"1\" class=\"dataframe\">\n",
       "  <thead>\n",
       "    <tr style=\"text-align: right;\">\n",
       "      <th></th>\n",
       "      <th>DESCRICAO</th>\n",
       "      <th>Modelo</th>\n",
       "      <th>APLICACAO</th>\n",
       "    </tr>\n",
       "  </thead>\n",
       "  <tbody>\n",
       "    <tr>\n",
       "      <th>4</th>\n",
       "      <td>mirage 150</td>\n",
       "      <td>150 kasinski mirage</td>\n",
       "      <td>XXX</td>\n",
       "    </tr>\n",
       "    <tr>\n",
       "      <th>6</th>\n",
       "      <td>crf 230</td>\n",
       "      <td>230 crf honda</td>\n",
       "      <td>XXX</td>\n",
       "    </tr>\n",
       "    <tr>\n",
       "      <th>7</th>\n",
       "      <td>shineray phoenix 50cc</td>\n",
       "      <td>50 phoenix shineray</td>\n",
       "      <td>XXX</td>\n",
       "    </tr>\n",
       "    <tr>\n",
       "      <th>11</th>\n",
       "      <td>hunter max 125</td>\n",
       "      <td>125 hunter max sundown</td>\n",
       "      <td>XXX</td>\n",
       "    </tr>\n",
       "    <tr>\n",
       "      <th>14</th>\n",
       "      <td>cb 250f</td>\n",
       "      <td>250 250f cb honda</td>\n",
       "      <td>XXX</td>\n",
       "    </tr>\n",
       "    <tr>\n",
       "      <th>16</th>\n",
       "      <td>xt 250 tenere</td>\n",
       "      <td>250 tenere xt yamaha</td>\n",
       "      <td>XXX</td>\n",
       "    </tr>\n",
       "    <tr>\n",
       "      <th>22</th>\n",
       "      <td>jet 49cc</td>\n",
       "      <td>jet shineray</td>\n",
       "      <td>XXX</td>\n",
       "    </tr>\n",
       "    <tr>\n",
       "      <th>24</th>\n",
       "      <td>xtz 125</td>\n",
       "      <td>125 xtz</td>\n",
       "      <td>XXX</td>\n",
       "    </tr>\n",
       "    <tr>\n",
       "      <th>30</th>\n",
       "      <td>fazer 150</td>\n",
       "      <td>150 fazer yamaha</td>\n",
       "      <td>XXX</td>\n",
       "    </tr>\n",
       "    <tr>\n",
       "      <th>38</th>\n",
       "      <td>bros150</td>\n",
       "      <td>150</td>\n",
       "      <td>XXX</td>\n",
       "    </tr>\n",
       "  </tbody>\n",
       "</table>\n",
       "</div>"
      ],
      "text/plain": [
       "                DESCRICAO                  Modelo APLICACAO\n",
       "4              mirage 150     150 kasinski mirage       XXX\n",
       "6                 crf 230           230 crf honda       XXX\n",
       "7   shineray phoenix 50cc     50 phoenix shineray       XXX\n",
       "11         hunter max 125  125 hunter max sundown       XXX\n",
       "14                cb 250f       250 250f cb honda       XXX\n",
       "16          xt 250 tenere    250 tenere xt yamaha       XXX\n",
       "22               jet 49cc            jet shineray       XXX\n",
       "24                xtz 125                 125 xtz       XXX\n",
       "30              fazer 150        150 fazer yamaha       XXX\n",
       "38                bros150                     150       XXX"
      ]
     },
     "execution_count": 36,
     "metadata": {},
     "output_type": "execute_result"
    }
   ],
   "source": [
    "df[df['APLICACAO']=='XXX'].iloc[:,-3:].head(10)"
   ]
  },
  {
   "cell_type": "code",
   "execution_count": 37,
   "metadata": {},
   "outputs": [
    {
     "name": "stdout",
     "output_type": "stream",
     "text": [
      "Registros sem classificação:  2867\n",
      "Registros com classificação: 14617\n",
      "Total de Registros:          17484\n"
     ]
    }
   ],
   "source": [
    "print('Registros sem classificação:  ' + str(df[df['APLICACAO']=='XXX'].iloc[:,-3:].shape[0]))\n",
    "print('Registros com classificação: ' + str(df[df['APLICACAO']!='XXX'].iloc[:,-3:].shape[0]))\n",
    "print('Total de Registros:          ' + str(df.shape[0]))"
   ]
  },
  {
   "cell_type": "markdown",
   "metadata": {},
   "source": [
    "Observa-se que após a classificação pelos termos únicos restaram cerca de 3.000 linhas, havendo mais de 15.000 registros já classificados."
   ]
  },
  {
   "cell_type": "markdown",
   "metadata": {},
   "source": [
    "#### Classifica o modelo como aplicação se os termos forem exatamente iguais"
   ]
  },
  {
   "cell_type": "code",
   "execution_count": 38,
   "metadata": {},
   "outputs": [],
   "source": [
    "def achaAplicacao2(modelo):\n",
    "    modelolst=modelo.lower().split() # cria lista com termos do modelo\n",
    "    aplicacoes_temp=[] # inicializa a lista de saída\n",
    "    for aplicacao in df_aplicacoes['APLICACOES']: # para cada aplicação\n",
    "        aplicacaolst = aplicacao.lower().split() # cria lista\n",
    "        if all(termos in aplicacaolst for termos in modelolst): # se a aplicacão contém o modelo\n",
    "            aplicacoes_temp.append(aplicacao) # adiciona na lista de saída\n",
    "    if len(aplicacoes_temp)==0:\n",
    "        return 'XXX' # retorna a saída\n",
    "    elif len(aplicacoes_temp)==1:\n",
    "        return aplicacoes_temp[0] # retorna a saída\n",
    "    else:\n",
    "        return aplicacoes_temp # retorna a saída"
   ]
  },
  {
   "cell_type": "code",
   "execution_count": 39,
   "metadata": {},
   "outputs": [
    {
     "data": {
      "text/plain": [
       "(2867, 2)"
      ]
     },
     "execution_count": 39,
     "metadata": {},
     "output_type": "execute_result"
    }
   ],
   "source": [
    "# df temporário filtrado pelos não classificados\n",
    "dftemp=df.iloc[:,-2:][df['APLICACAO']=='XXX']\n",
    "dftemp.shape"
   ]
  },
  {
   "cell_type": "code",
   "execution_count": 40,
   "metadata": {},
   "outputs": [
    {
     "data": {
      "text/html": [
       "<div>\n",
       "<style scoped>\n",
       "    .dataframe tbody tr th:only-of-type {\n",
       "        vertical-align: middle;\n",
       "    }\n",
       "\n",
       "    .dataframe tbody tr th {\n",
       "        vertical-align: top;\n",
       "    }\n",
       "\n",
       "    .dataframe thead th {\n",
       "        text-align: right;\n",
       "    }\n",
       "</style>\n",
       "<table border=\"1\" class=\"dataframe\">\n",
       "  <thead>\n",
       "    <tr style=\"text-align: right;\">\n",
       "      <th></th>\n",
       "      <th>Modelo</th>\n",
       "      <th>APLICACAO</th>\n",
       "    </tr>\n",
       "  </thead>\n",
       "  <tbody>\n",
       "    <tr>\n",
       "      <th>4</th>\n",
       "      <td>150 kasinski mirage</td>\n",
       "      <td>XXX</td>\n",
       "    </tr>\n",
       "    <tr>\n",
       "      <th>6</th>\n",
       "      <td>230 crf honda</td>\n",
       "      <td>XXX</td>\n",
       "    </tr>\n",
       "    <tr>\n",
       "      <th>7</th>\n",
       "      <td>50 phoenix shineray</td>\n",
       "      <td>XXX</td>\n",
       "    </tr>\n",
       "    <tr>\n",
       "      <th>11</th>\n",
       "      <td>125 hunter max sundown</td>\n",
       "      <td>XXX</td>\n",
       "    </tr>\n",
       "    <tr>\n",
       "      <th>14</th>\n",
       "      <td>250 250f cb honda</td>\n",
       "      <td>XXX</td>\n",
       "    </tr>\n",
       "  </tbody>\n",
       "</table>\n",
       "</div>"
      ],
      "text/plain": [
       "                    Modelo APLICACAO\n",
       "4      150 kasinski mirage       XXX\n",
       "6            230 crf honda       XXX\n",
       "7      50 phoenix shineray       XXX\n",
       "11  125 hunter max sundown       XXX\n",
       "14       250 250f cb honda       XXX"
      ]
     },
     "execution_count": 40,
     "metadata": {},
     "output_type": "execute_result"
    }
   ],
   "source": [
    "dftemp.head()"
   ]
  },
  {
   "cell_type": "code",
   "execution_count": 41,
   "metadata": {},
   "outputs": [],
   "source": [
    "# aplica a funão achaachaAplicacao2\n",
    "dftemp=dftemp.assign(APLICACAO=dftemp['Modelo'].apply(achaAplicacao2))"
   ]
  },
  {
   "cell_type": "code",
   "execution_count": 42,
   "metadata": {},
   "outputs": [
    {
     "data": {
      "text/html": [
       "<div>\n",
       "<style scoped>\n",
       "    .dataframe tbody tr th:only-of-type {\n",
       "        vertical-align: middle;\n",
       "    }\n",
       "\n",
       "    .dataframe tbody tr th {\n",
       "        vertical-align: top;\n",
       "    }\n",
       "\n",
       "    .dataframe thead th {\n",
       "        text-align: right;\n",
       "    }\n",
       "</style>\n",
       "<table border=\"1\" class=\"dataframe\">\n",
       "  <thead>\n",
       "    <tr style=\"text-align: right;\">\n",
       "      <th></th>\n",
       "      <th>Modelo</th>\n",
       "      <th>APLICACAO</th>\n",
       "    </tr>\n",
       "  </thead>\n",
       "  <tbody>\n",
       "    <tr>\n",
       "      <th>5011</th>\n",
       "      <td>230 crf honda</td>\n",
       "      <td>HONDA CRF 230 230F 250 250F</td>\n",
       "    </tr>\n",
       "    <tr>\n",
       "      <th>8463</th>\n",
       "      <td>150 fazer yamaha</td>\n",
       "      <td>YAMAHA FAZER YS150 150</td>\n",
       "    </tr>\n",
       "    <tr>\n",
       "      <th>12781</th>\n",
       "      <td>150 fazer yamaha</td>\n",
       "      <td>YAMAHA FAZER YS150 150</td>\n",
       "    </tr>\n",
       "    <tr>\n",
       "      <th>12872</th>\n",
       "      <td>300 cb honda rx</td>\n",
       "      <td>XXX</td>\n",
       "    </tr>\n",
       "    <tr>\n",
       "      <th>5056</th>\n",
       "      <td>125 xtz</td>\n",
       "      <td>YAMAHA XTZ 125</td>\n",
       "    </tr>\n",
       "  </tbody>\n",
       "</table>\n",
       "</div>"
      ],
      "text/plain": [
       "                 Modelo                    APLICACAO\n",
       "5011      230 crf honda  HONDA CRF 230 230F 250 250F\n",
       "8463   150 fazer yamaha       YAMAHA FAZER YS150 150\n",
       "12781  150 fazer yamaha       YAMAHA FAZER YS150 150\n",
       "12872   300 cb honda rx                          XXX\n",
       "5056            125 xtz               YAMAHA XTZ 125"
      ]
     },
     "execution_count": 42,
     "metadata": {},
     "output_type": "execute_result"
    }
   ],
   "source": [
    "dftemp.sample(5)"
   ]
  },
  {
   "cell_type": "code",
   "execution_count": 43,
   "metadata": {},
   "outputs": [
    {
     "data": {
      "text/plain": [
       "(297, 2)"
      ]
     },
     "execution_count": 43,
     "metadata": {},
     "output_type": "execute_result"
    }
   ],
   "source": [
    "# quantidade de registros sem classificação\n",
    "dftemp[dftemp['APLICACAO']=='XXX'].shape"
   ]
  },
  {
   "cell_type": "code",
   "execution_count": 44,
   "metadata": {},
   "outputs": [],
   "source": [
    "# atualiza o dataframe df com as alterações feitas em dftemp\n",
    "df.update(dftemp)"
   ]
  },
  {
   "cell_type": "code",
   "execution_count": 45,
   "metadata": {},
   "outputs": [
    {
     "data": {
      "text/html": [
       "<div>\n",
       "<style scoped>\n",
       "    .dataframe tbody tr th:only-of-type {\n",
       "        vertical-align: middle;\n",
       "    }\n",
       "\n",
       "    .dataframe tbody tr th {\n",
       "        vertical-align: top;\n",
       "    }\n",
       "\n",
       "    .dataframe thead th {\n",
       "        text-align: right;\n",
       "    }\n",
       "</style>\n",
       "<table border=\"1\" class=\"dataframe\">\n",
       "  <thead>\n",
       "    <tr style=\"text-align: right;\">\n",
       "      <th></th>\n",
       "      <th>DESCRICAO</th>\n",
       "      <th>Modelo</th>\n",
       "      <th>APLICACAO</th>\n",
       "    </tr>\n",
       "  </thead>\n",
       "  <tbody>\n",
       "    <tr>\n",
       "      <th>16336</th>\n",
       "      <td>xtz 125</td>\n",
       "      <td>125 xtz</td>\n",
       "      <td>YAMAHA XTZ 125</td>\n",
       "    </tr>\n",
       "    <tr>\n",
       "      <th>16309</th>\n",
       "      <td>cg 125 cargo fan</td>\n",
       "      <td>125 cargo cg fan honda</td>\n",
       "      <td>HONDA CG FAN</td>\n",
       "    </tr>\n",
       "    <tr>\n",
       "      <th>9294</th>\n",
       "      <td>cg 150 titan fan start cargo</td>\n",
       "      <td>150 cargo cg fan honda titan</td>\n",
       "      <td>HONDA CG FAN</td>\n",
       "    </tr>\n",
       "    <tr>\n",
       "      <th>15136</th>\n",
       "      <td>nxr 160 broz xre</td>\n",
       "      <td>160 broz honda nxr xr xre</td>\n",
       "      <td>HONDA NXR 150 160 BROZ</td>\n",
       "    </tr>\n",
       "    <tr>\n",
       "      <th>10206</th>\n",
       "      <td>xlr 125</td>\n",
       "      <td>125 xlr</td>\n",
       "      <td>HONDA XLR</td>\n",
       "    </tr>\n",
       "  </tbody>\n",
       "</table>\n",
       "</div>"
      ],
      "text/plain": [
       "                          DESCRICAO                        Modelo  \\\n",
       "16336                       xtz 125                       125 xtz   \n",
       "16309              cg 125 cargo fan        125 cargo cg fan honda   \n",
       "9294   cg 150 titan fan start cargo  150 cargo cg fan honda titan   \n",
       "15136              nxr 160 broz xre     160 broz honda nxr xr xre   \n",
       "10206                       xlr 125                       125 xlr   \n",
       "\n",
       "                    APLICACAO  \n",
       "16336          YAMAHA XTZ 125  \n",
       "16309            HONDA CG FAN  \n",
       "9294             HONDA CG FAN  \n",
       "15136  HONDA NXR 150 160 BROZ  \n",
       "10206               HONDA XLR  "
      ]
     },
     "execution_count": 45,
     "metadata": {},
     "output_type": "execute_result"
    }
   ],
   "source": [
    "df.iloc[:,-3:].sample(5)"
   ]
  },
  {
   "cell_type": "code",
   "execution_count": 46,
   "metadata": {},
   "outputs": [
    {
     "data": {
      "text/html": [
       "<div>\n",
       "<style scoped>\n",
       "    .dataframe tbody tr th:only-of-type {\n",
       "        vertical-align: middle;\n",
       "    }\n",
       "\n",
       "    .dataframe tbody tr th {\n",
       "        vertical-align: top;\n",
       "    }\n",
       "\n",
       "    .dataframe thead th {\n",
       "        text-align: right;\n",
       "    }\n",
       "</style>\n",
       "<table border=\"1\" class=\"dataframe\">\n",
       "  <thead>\n",
       "    <tr style=\"text-align: right;\">\n",
       "      <th></th>\n",
       "      <th>DESCRICAO</th>\n",
       "      <th>Modelo</th>\n",
       "      <th>APLICACAO</th>\n",
       "    </tr>\n",
       "  </thead>\n",
       "  <tbody>\n",
       "    <tr>\n",
       "      <th>15998</th>\n",
       "      <td>cbx 200 xr</td>\n",
       "      <td>200 cbx honda xr</td>\n",
       "      <td>XXX</td>\n",
       "    </tr>\n",
       "    <tr>\n",
       "      <th>13267</th>\n",
       "      <td>max 125 hunter p21b</td>\n",
       "      <td>125 hunter max sundown</td>\n",
       "      <td>XXX</td>\n",
       "    </tr>\n",
       "    <tr>\n",
       "      <th>2740</th>\n",
       "      <td>hunter max125</td>\n",
       "      <td>125 hunter max sundown</td>\n",
       "      <td>XXX</td>\n",
       "    </tr>\n",
       "    <tr>\n",
       "      <th>12178</th>\n",
       "      <td>p21b max 125 hunter</td>\n",
       "      <td>125 hunter max sundown</td>\n",
       "      <td>XXX</td>\n",
       "    </tr>\n",
       "    <tr>\n",
       "      <th>13867</th>\n",
       "      <td>max 125 hunter mot</td>\n",
       "      <td>125 hunter max sundown</td>\n",
       "      <td>XXX</td>\n",
       "    </tr>\n",
       "  </tbody>\n",
       "</table>\n",
       "</div>"
      ],
      "text/plain": [
       "                 DESCRICAO                  Modelo APLICACAO\n",
       "15998           cbx 200 xr        200 cbx honda xr       XXX\n",
       "13267  max 125 hunter p21b  125 hunter max sundown       XXX\n",
       "2740         hunter max125  125 hunter max sundown       XXX\n",
       "12178  p21b max 125 hunter  125 hunter max sundown       XXX\n",
       "13867   max 125 hunter mot  125 hunter max sundown       XXX"
      ]
     },
     "execution_count": 46,
     "metadata": {},
     "output_type": "execute_result"
    }
   ],
   "source": [
    "df[df['APLICACAO']=='XXX'].iloc[:,-3:].sample(5)"
   ]
  },
  {
   "cell_type": "code",
   "execution_count": 47,
   "metadata": {},
   "outputs": [
    {
     "name": "stdout",
     "output_type": "stream",
     "text": [
      "Registros sem classificação:  297\n",
      "Registros com classificação: 17187\n",
      "Total de Registros:          17484\n"
     ]
    }
   ],
   "source": [
    "print('Registros sem classificação:  ' + str(df[df['APLICACAO']=='XXX'].iloc[:,-3:].shape[0]))\n",
    "print('Registros com classificação: ' + str(df[df['APLICACAO']!='XXX'].iloc[:,-3:].shape[0]))\n",
    "print('Total de Registros:          ' + str(df.shape[0]))"
   ]
  },
  {
   "cell_type": "markdown",
   "metadata": {},
   "source": [
    "Observa-se que após a classificação pelos termos únicos restaram cerca de 600 linhas.<br>\n",
    "Para fins de utilização no aprendizado de classificação, os quase 17.000 registros restantes são suficientes para comparação com os outros modelos e determinar a melhor classificação."
   ]
  },
  {
   "cell_type": "markdown",
   "metadata": {},
   "source": [
    "### Exportando o DataFrame"
   ]
  },
  {
   "cell_type": "markdown",
   "metadata": {},
   "source": [
    "Exportando para um arquivo CSV"
   ]
  },
  {
   "cell_type": "code",
   "execution_count": 48,
   "metadata": {},
   "outputs": [],
   "source": [
    "df.to_csv(r'./bases/dataframe_modelos_class0.csv', index = False, header = True)"
   ]
  },
  {
   "cell_type": "markdown",
   "metadata": {},
   "source": [
    "Exportando para um arquivo de planilha do Excel"
   ]
  },
  {
   "cell_type": "code",
   "execution_count": 49,
   "metadata": {},
   "outputs": [],
   "source": [
    "df.to_excel(r'./bases/dataframe_modelos_class0.xlsx', index = False, header = True)"
   ]
  },
  {
   "cell_type": "code",
   "execution_count": 50,
   "metadata": {},
   "outputs": [
    {
     "name": "stdout",
     "output_type": "stream",
     "text": [
      "Tempo total de execução: 12.02 segundos.\n"
     ]
    }
   ],
   "source": [
    "tempotot=time.time()-initot\n",
    "if tempotot>60:\n",
    "    print(f'Tempo total de execução: {tempotot/60:.2f} minutos.')\n",
    "else:\n",
    "    print(f'Tempo total de execução: {tempotot:.2f} segundos.')"
   ]
  }
 ],
 "metadata": {
  "kernelspec": {
   "display_name": "Python 3",
   "language": "python",
   "name": "python3"
  },
  "language_info": {
   "codemirror_mode": {
    "name": "ipython",
    "version": 3
   },
   "file_extension": ".py",
   "mimetype": "text/x-python",
   "name": "python",
   "nbconvert_exporter": "python",
   "pygments_lexer": "ipython3",
   "version": "3.7.3"
  },
  "toc": {
   "base_numbering": 1,
   "nav_menu": {},
   "number_sections": false,
   "sideBar": false,
   "skip_h1_title": false,
   "title_cell": "Sumário",
   "title_sidebar": "Sumário",
   "toc_cell": false,
   "toc_position": {},
   "toc_section_display": true,
   "toc_window_display": false
  }
 },
 "nbformat": 4,
 "nbformat_minor": 2
}
