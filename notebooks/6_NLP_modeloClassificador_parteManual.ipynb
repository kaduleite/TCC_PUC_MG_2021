{
 "cells": [
  {
   "cell_type": "markdown",
   "metadata": {
    "colab_type": "text",
    "id": "t9eSPPRmUEby"
   },
   "source": [
    "# _Notebook Jupyter_ 6_NLP_modeloClassificador_parteManual"
   ]
  },
  {
   "cell_type": "markdown",
   "metadata": {
    "colab_type": "text",
    "id": "t9eSPPRmUEby"
   },
   "source": [
    "# Classificação da Aplicação divergente de forma manual"
   ]
  },
  {
   "cell_type": "markdown",
   "metadata": {
    "colab_type": "text",
    "id": "4eakEWy_62vS"
   },
   "source": [
    "## Importando bibliotecas"
   ]
  },
  {
   "cell_type": "code",
   "execution_count": 1,
   "metadata": {
    "colab": {
     "base_uri": "https://localhost:8080/",
     "height": 85
    },
    "colab_type": "code",
    "id": "F5Tc6cI9Kvpj",
    "outputId": "88b2ba16-8163-4ea6-e5d2-1ea968cb51da"
   },
   "outputs": [],
   "source": [
    "import pandas as pd, numpy as np\n",
    "import re, time, pickle"
   ]
  },
  {
   "cell_type": "code",
   "execution_count": 2,
   "metadata": {},
   "outputs": [
    {
     "name": "stdout",
     "output_type": "stream",
     "text": [
      "Código executado em 20/01/2022 às 16:58\n"
     ]
    }
   ],
   "source": [
    "# Data e hora da execução do script\n",
    "initot=time.time()\n",
    "print(f'Código executado em {time.strftime(\"%d/%m/%Y às %H:%M\", time.localtime(time.time()))}')"
   ]
  },
  {
   "cell_type": "markdown",
   "metadata": {
    "colab_type": "text",
    "id": "_-re6wFx668E"
   },
   "source": [
    "## Carregando dataset"
   ]
  },
  {
   "cell_type": "code",
   "execution_count": 3,
   "metadata": {},
   "outputs": [
    {
     "data": {
      "text/html": [
       "<div>\n",
       "<style scoped>\n",
       "    .dataframe tbody tr th:only-of-type {\n",
       "        vertical-align: middle;\n",
       "    }\n",
       "\n",
       "    .dataframe tbody tr th {\n",
       "        vertical-align: top;\n",
       "    }\n",
       "\n",
       "    .dataframe thead th {\n",
       "        text-align: right;\n",
       "    }\n",
       "</style>\n",
       "<table border=\"1\" class=\"dataframe\">\n",
       "  <thead>\n",
       "    <tr style=\"text-align: right;\">\n",
       "      <th></th>\n",
       "      <th>Modelo</th>\n",
       "      <th>APLICACAO</th>\n",
       "      <th>APLICACAOSVC</th>\n",
       "      <th>APLICACAOMNB</th>\n",
       "      <th>APLICACAOFIM</th>\n",
       "    </tr>\n",
       "  </thead>\n",
       "  <tbody>\n",
       "    <tr>\n",
       "      <th>0</th>\n",
       "      <td>150 cg fan honda titan</td>\n",
       "      <td>HONDA CG FAN</td>\n",
       "      <td>HONDA CG FAN</td>\n",
       "      <td>HONDA CG TIT TITAN 125 150 160</td>\n",
       "      <td>HONDA CG FAN</td>\n",
       "    </tr>\n",
       "    <tr>\n",
       "      <th>1</th>\n",
       "      <td>125 cargo cg honda titan</td>\n",
       "      <td>HONDA CG TIT TITAN 125 150 160</td>\n",
       "      <td>HONDA CG TIT TITAN 125 150 160</td>\n",
       "      <td>HONDA CG TIT TITAN 125 150 160</td>\n",
       "      <td>HONDA CG TIT TITAN 125 150 160</td>\n",
       "    </tr>\n",
       "    <tr>\n",
       "      <th>2</th>\n",
       "      <td>125 cg fan honda</td>\n",
       "      <td>HONDA CG FAN</td>\n",
       "      <td>HONDA CG FAN</td>\n",
       "      <td>HONDA CG 125</td>\n",
       "      <td>HONDA CG FAN</td>\n",
       "    </tr>\n",
       "    <tr>\n",
       "      <th>3</th>\n",
       "      <td>biz c100 honda</td>\n",
       "      <td>HONDA BIZ C100 125 C125</td>\n",
       "      <td>HONDA BIZ C100 125 C125</td>\n",
       "      <td>HONDA BIZ C100 125 C125</td>\n",
       "      <td>HONDA BIZ C100 125 C125</td>\n",
       "    </tr>\n",
       "    <tr>\n",
       "      <th>4</th>\n",
       "      <td>150 kasinski mirage</td>\n",
       "      <td>KASINSKI MIRAGE 150 250</td>\n",
       "      <td>KASINSKI MIRAGE 150 250</td>\n",
       "      <td>KASINSKI MIRAGE 150 250</td>\n",
       "      <td>KASINSKI MIRAGE 150 250</td>\n",
       "    </tr>\n",
       "  </tbody>\n",
       "</table>\n",
       "</div>"
      ],
      "text/plain": [
       "                     Modelo                       APLICACAO  \\\n",
       "0    150 cg fan honda titan                    HONDA CG FAN   \n",
       "1  125 cargo cg honda titan  HONDA CG TIT TITAN 125 150 160   \n",
       "2          125 cg fan honda                    HONDA CG FAN   \n",
       "3            biz c100 honda         HONDA BIZ C100 125 C125   \n",
       "4       150 kasinski mirage         KASINSKI MIRAGE 150 250   \n",
       "\n",
       "                     APLICACAOSVC                    APLICACAOMNB  \\\n",
       "0                    HONDA CG FAN  HONDA CG TIT TITAN 125 150 160   \n",
       "1  HONDA CG TIT TITAN 125 150 160  HONDA CG TIT TITAN 125 150 160   \n",
       "2                    HONDA CG FAN                    HONDA CG 125   \n",
       "3         HONDA BIZ C100 125 C125         HONDA BIZ C100 125 C125   \n",
       "4         KASINSKI MIRAGE 150 250         KASINSKI MIRAGE 150 250   \n",
       "\n",
       "                     APLICACAOFIM  \n",
       "0                    HONDA CG FAN  \n",
       "1  HONDA CG TIT TITAN 125 150 160  \n",
       "2                    HONDA CG FAN  \n",
       "3         HONDA BIZ C100 125 C125  \n",
       "4         KASINSKI MIRAGE 150 250  "
      ]
     },
     "execution_count": 3,
     "metadata": {},
     "output_type": "execute_result"
    }
   ],
   "source": [
    "# Importa base de dados com os modelos já determinados para um dataframe\n",
    "df = pd.read_excel(r'./bases/dataframe_modelos_classificado_manual-tf.xlsx')\n",
    "df.iloc[:,-5:].head()"
   ]
  },
  {
   "cell_type": "code",
   "execution_count": 4,
   "metadata": {},
   "outputs": [
    {
     "data": {
      "text/plain": [
       "(17484, 9)"
      ]
     },
     "execution_count": 4,
     "metadata": {},
     "output_type": "execute_result"
    }
   ],
   "source": [
    "# Verifica o tamnanho do dataframe\n",
    "df.shape"
   ]
  },
  {
   "cell_type": "code",
   "execution_count": 5,
   "metadata": {},
   "outputs": [],
   "source": [
    "dfaplicacoes = pd.read_csv(r'./bases/Aplicacoes.csv')"
   ]
  },
  {
   "cell_type": "markdown",
   "metadata": {},
   "source": [
    "### Determinando os registros divergentes"
   ]
  },
  {
   "cell_type": "code",
   "execution_count": 6,
   "metadata": {},
   "outputs": [],
   "source": [
    "# Registros ainda não definidos (lista de opções)\n",
    "# O filtro definirá True se APLICACAOFIM iniciar com '[' ou False caso contrário.\n",
    "filtro=[]\n",
    "for i, aplicacao in enumerate(df['APLICACAOFIM']):\n",
    "    if aplicacao[0]=='[':\n",
    "        filtro.append(True)\n",
    "    else:\n",
    "        filtro.append(False)"
   ]
  },
  {
   "cell_type": "code",
   "execution_count": 7,
   "metadata": {},
   "outputs": [
    {
     "data": {
      "text/html": [
       "<div>\n",
       "<style scoped>\n",
       "    .dataframe tbody tr th:only-of-type {\n",
       "        vertical-align: middle;\n",
       "    }\n",
       "\n",
       "    .dataframe tbody tr th {\n",
       "        vertical-align: top;\n",
       "    }\n",
       "\n",
       "    .dataframe thead th {\n",
       "        text-align: right;\n",
       "    }\n",
       "</style>\n",
       "<table border=\"1\" class=\"dataframe\">\n",
       "  <thead>\n",
       "    <tr style=\"text-align: right;\">\n",
       "      <th></th>\n",
       "      <th>DESCRICAO</th>\n",
       "      <th>Modelo</th>\n",
       "      <th>APLICACAO</th>\n",
       "      <th>APLICACAOSVC</th>\n",
       "      <th>APLICACAOMNB</th>\n",
       "      <th>APLICACAOFIM</th>\n",
       "    </tr>\n",
       "  </thead>\n",
       "  <tbody>\n",
       "    <tr>\n",
       "      <th>11</th>\n",
       "      <td>hunter max 125</td>\n",
       "      <td>125 hunter max sundown</td>\n",
       "      <td>XXX</td>\n",
       "      <td>SUNDOWN MAX</td>\n",
       "      <td>SUNDOWN HUNTER</td>\n",
       "      <td>['SUNDOWN MAX', 'SUNDOWN HUNTER']</td>\n",
       "    </tr>\n",
       "    <tr>\n",
       "      <th>282</th>\n",
       "      <td>max 125 hunter p21b</td>\n",
       "      <td>125 hunter max sundown</td>\n",
       "      <td>XXX</td>\n",
       "      <td>SUNDOWN MAX</td>\n",
       "      <td>SUNDOWN HUNTER</td>\n",
       "      <td>['SUNDOWN MAX', 'SUNDOWN HUNTER']</td>\n",
       "    </tr>\n",
       "    <tr>\n",
       "      <th>304</th>\n",
       "      <td>hunter max125</td>\n",
       "      <td>125 hunter max sundown</td>\n",
       "      <td>XXX</td>\n",
       "      <td>SUNDOWN MAX</td>\n",
       "      <td>SUNDOWN HUNTER</td>\n",
       "      <td>['SUNDOWN MAX', 'SUNDOWN HUNTER']</td>\n",
       "    </tr>\n",
       "    <tr>\n",
       "      <th>450</th>\n",
       "      <td>sundown hunter max 125</td>\n",
       "      <td>125 hunter max sundown</td>\n",
       "      <td>XXX</td>\n",
       "      <td>SUNDOWN MAX</td>\n",
       "      <td>SUNDOWN HUNTER</td>\n",
       "      <td>['SUNDOWN MAX', 'SUNDOWN HUNTER']</td>\n",
       "    </tr>\n",
       "    <tr>\n",
       "      <th>848</th>\n",
       "      <td>hunter max125</td>\n",
       "      <td>125 hunter max sundown</td>\n",
       "      <td>XXX</td>\n",
       "      <td>SUNDOWN MAX</td>\n",
       "      <td>SUNDOWN HUNTER</td>\n",
       "      <td>['SUNDOWN MAX', 'SUNDOWN HUNTER']</td>\n",
       "    </tr>\n",
       "    <tr>\n",
       "      <th>1351</th>\n",
       "      <td>max 125 hunter</td>\n",
       "      <td>125 hunter max sundown</td>\n",
       "      <td>XXX</td>\n",
       "      <td>SUNDOWN MAX</td>\n",
       "      <td>SUNDOWN HUNTER</td>\n",
       "      <td>['SUNDOWN MAX', 'SUNDOWN HUNTER']</td>\n",
       "    </tr>\n",
       "    <tr>\n",
       "      <th>1683</th>\n",
       "      <td>hunter max 125</td>\n",
       "      <td>125 hunter max sundown</td>\n",
       "      <td>XXX</td>\n",
       "      <td>SUNDOWN MAX</td>\n",
       "      <td>SUNDOWN HUNTER</td>\n",
       "      <td>['SUNDOWN MAX', 'SUNDOWN HUNTER']</td>\n",
       "    </tr>\n",
       "    <tr>\n",
       "      <th>1751</th>\n",
       "      <td>max 125 hunter p21b</td>\n",
       "      <td>125 hunter max sundown</td>\n",
       "      <td>XXX</td>\n",
       "      <td>SUNDOWN MAX</td>\n",
       "      <td>SUNDOWN HUNTER</td>\n",
       "      <td>['SUNDOWN MAX', 'SUNDOWN HUNTER']</td>\n",
       "    </tr>\n",
       "    <tr>\n",
       "      <th>2043</th>\n",
       "      <td>cb twister 250 top</td>\n",
       "      <td>250 cb honda top twister</td>\n",
       "      <td>KAHENA TOP</td>\n",
       "      <td>HONDA TWISTER CBX 250</td>\n",
       "      <td>HONDA CB 250 250F</td>\n",
       "      <td>['HONDA TWISTER CBX 250', 'HONDA CB 250 250F']</td>\n",
       "    </tr>\n",
       "    <tr>\n",
       "      <th>2740</th>\n",
       "      <td>hunter max125</td>\n",
       "      <td>125 hunter max sundown</td>\n",
       "      <td>XXX</td>\n",
       "      <td>SUNDOWN MAX</td>\n",
       "      <td>SUNDOWN HUNTER</td>\n",
       "      <td>['SUNDOWN MAX', 'SUNDOWN HUNTER']</td>\n",
       "    </tr>\n",
       "    <tr>\n",
       "      <th>2880</th>\n",
       "      <td>sundown max125 max 125 sed hunter</td>\n",
       "      <td>125 hunter max sundown</td>\n",
       "      <td>XXX</td>\n",
       "      <td>SUNDOWN MAX</td>\n",
       "      <td>SUNDOWN HUNTER</td>\n",
       "      <td>['SUNDOWN MAX', 'SUNDOWN HUNTER']</td>\n",
       "    </tr>\n",
       "    <tr>\n",
       "      <th>2958</th>\n",
       "      <td>hunter max 125</td>\n",
       "      <td>125 hunter max sundown</td>\n",
       "      <td>XXX</td>\n",
       "      <td>SUNDOWN MAX</td>\n",
       "      <td>SUNDOWN HUNTER</td>\n",
       "      <td>['SUNDOWN MAX', 'SUNDOWN HUNTER']</td>\n",
       "    </tr>\n",
       "    <tr>\n",
       "      <th>3724</th>\n",
       "      <td>cb twister 250 top</td>\n",
       "      <td>250 cb honda top twister</td>\n",
       "      <td>KAHENA TOP</td>\n",
       "      <td>HONDA TWISTER CBX 250</td>\n",
       "      <td>HONDA CB 250 250F</td>\n",
       "      <td>['HONDA TWISTER CBX 250', 'HONDA CB 250 250F']</td>\n",
       "    </tr>\n",
       "    <tr>\n",
       "      <th>4370</th>\n",
       "      <td>hunter 125 max</td>\n",
       "      <td>125 hunter max sundown</td>\n",
       "      <td>XXX</td>\n",
       "      <td>SUNDOWN MAX</td>\n",
       "      <td>SUNDOWN HUNTER</td>\n",
       "      <td>['SUNDOWN MAX', 'SUNDOWN HUNTER']</td>\n",
       "    </tr>\n",
       "    <tr>\n",
       "      <th>4404</th>\n",
       "      <td>hunter 125 max</td>\n",
       "      <td>125 hunter max sundown</td>\n",
       "      <td>XXX</td>\n",
       "      <td>SUNDOWN MAX</td>\n",
       "      <td>SUNDOWN HUNTER</td>\n",
       "      <td>['SUNDOWN MAX', 'SUNDOWN HUNTER']</td>\n",
       "    </tr>\n",
       "    <tr>\n",
       "      <th>4494</th>\n",
       "      <td>max 125 hunter p21b</td>\n",
       "      <td>125 hunter max sundown</td>\n",
       "      <td>XXX</td>\n",
       "      <td>SUNDOWN MAX</td>\n",
       "      <td>SUNDOWN HUNTER</td>\n",
       "      <td>['SUNDOWN MAX', 'SUNDOWN HUNTER']</td>\n",
       "    </tr>\n",
       "    <tr>\n",
       "      <th>4510</th>\n",
       "      <td>cb twister 250 top</td>\n",
       "      <td>250 cb honda top twister</td>\n",
       "      <td>KAHENA TOP</td>\n",
       "      <td>HONDA TWISTER CBX 250</td>\n",
       "      <td>HONDA CB 250 250F</td>\n",
       "      <td>['HONDA TWISTER CBX 250', 'HONDA CB 250 250F']</td>\n",
       "    </tr>\n",
       "    <tr>\n",
       "      <th>4595</th>\n",
       "      <td>hunter 125 max</td>\n",
       "      <td>125 hunter max sundown</td>\n",
       "      <td>XXX</td>\n",
       "      <td>SUNDOWN MAX</td>\n",
       "      <td>SUNDOWN HUNTER</td>\n",
       "      <td>['SUNDOWN MAX', 'SUNDOWN HUNTER']</td>\n",
       "    </tr>\n",
       "    <tr>\n",
       "      <th>4638</th>\n",
       "      <td>hunter 125 max</td>\n",
       "      <td>125 hunter max sundown</td>\n",
       "      <td>XXX</td>\n",
       "      <td>SUNDOWN MAX</td>\n",
       "      <td>SUNDOWN HUNTER</td>\n",
       "      <td>['SUNDOWN MAX', 'SUNDOWN HUNTER']</td>\n",
       "    </tr>\n",
       "    <tr>\n",
       "      <th>5181</th>\n",
       "      <td>hunter max 125 15 x118</td>\n",
       "      <td>125 hunter max sundown</td>\n",
       "      <td>XXX</td>\n",
       "      <td>SUNDOWN MAX</td>\n",
       "      <td>SUNDOWN HUNTER</td>\n",
       "      <td>['SUNDOWN MAX', 'SUNDOWN HUNTER']</td>\n",
       "    </tr>\n",
       "    <tr>\n",
       "      <th>5274</th>\n",
       "      <td>cb twister 250 top</td>\n",
       "      <td>250 cb honda top twister</td>\n",
       "      <td>KAHENA TOP</td>\n",
       "      <td>HONDA TWISTER CBX 250</td>\n",
       "      <td>HONDA CB 250 250F</td>\n",
       "      <td>['HONDA TWISTER CBX 250', 'HONDA CB 250 250F']</td>\n",
       "    </tr>\n",
       "    <tr>\n",
       "      <th>5334</th>\n",
       "      <td>sundown hunter max 125</td>\n",
       "      <td>125 hunter max sundown</td>\n",
       "      <td>XXX</td>\n",
       "      <td>SUNDOWN MAX</td>\n",
       "      <td>SUNDOWN HUNTER</td>\n",
       "      <td>['SUNDOWN MAX', 'SUNDOWN HUNTER']</td>\n",
       "    </tr>\n",
       "    <tr>\n",
       "      <th>5739</th>\n",
       "      <td>hunter 125 max</td>\n",
       "      <td>125 hunter max sundown</td>\n",
       "      <td>XXX</td>\n",
       "      <td>SUNDOWN MAX</td>\n",
       "      <td>SUNDOWN HUNTER</td>\n",
       "      <td>['SUNDOWN MAX', 'SUNDOWN HUNTER']</td>\n",
       "    </tr>\n",
       "    <tr>\n",
       "      <th>5784</th>\n",
       "      <td>hunter 125 max</td>\n",
       "      <td>125 hunter max sundown</td>\n",
       "      <td>XXX</td>\n",
       "      <td>SUNDOWN MAX</td>\n",
       "      <td>SUNDOWN HUNTER</td>\n",
       "      <td>['SUNDOWN MAX', 'SUNDOWN HUNTER']</td>\n",
       "    </tr>\n",
       "    <tr>\n",
       "      <th>6157</th>\n",
       "      <td>xlv 700 transalp</td>\n",
       "      <td>700 honda transalp</td>\n",
       "      <td>HONDA XL 700V TRANSALP</td>\n",
       "      <td>KAWASAKI NINJA 700</td>\n",
       "      <td>HONDA NC 700X 700</td>\n",
       "      <td>['HONDA XL 700V TRANSALP', 'HONDA NC 700X 700']</td>\n",
       "    </tr>\n",
       "    <tr>\n",
       "      <th>6170</th>\n",
       "      <td>xlv 700 transalp</td>\n",
       "      <td>700 honda transalp</td>\n",
       "      <td>HONDA XL 700V TRANSALP</td>\n",
       "      <td>KAWASAKI NINJA 700</td>\n",
       "      <td>HONDA NC 700X 700</td>\n",
       "      <td>['HONDA XL 700V TRANSALP', 'HONDA NC 700X 700']</td>\n",
       "    </tr>\n",
       "    <tr>\n",
       "      <th>6511</th>\n",
       "      <td>hunter max 125</td>\n",
       "      <td>125 hunter max sundown</td>\n",
       "      <td>XXX</td>\n",
       "      <td>SUNDOWN MAX</td>\n",
       "      <td>SUNDOWN HUNTER</td>\n",
       "      <td>['SUNDOWN MAX', 'SUNDOWN HUNTER']</td>\n",
       "    </tr>\n",
       "    <tr>\n",
       "      <th>6559</th>\n",
       "      <td>hunter max125</td>\n",
       "      <td>125 hunter max sundown</td>\n",
       "      <td>XXX</td>\n",
       "      <td>SUNDOWN MAX</td>\n",
       "      <td>SUNDOWN HUNTER</td>\n",
       "      <td>['SUNDOWN MAX', 'SUNDOWN HUNTER']</td>\n",
       "    </tr>\n",
       "    <tr>\n",
       "      <th>6634</th>\n",
       "      <td>cb twister 250 top</td>\n",
       "      <td>250 cb honda top twister</td>\n",
       "      <td>KAHENA TOP</td>\n",
       "      <td>HONDA TWISTER CBX 250</td>\n",
       "      <td>HONDA CB 250 250F</td>\n",
       "      <td>['HONDA TWISTER CBX 250', 'HONDA CB 250 250F']</td>\n",
       "    </tr>\n",
       "    <tr>\n",
       "      <th>6642</th>\n",
       "      <td>max 125 hunter</td>\n",
       "      <td>125 hunter max sundown</td>\n",
       "      <td>XXX</td>\n",
       "      <td>SUNDOWN MAX</td>\n",
       "      <td>SUNDOWN HUNTER</td>\n",
       "      <td>['SUNDOWN MAX', 'SUNDOWN HUNTER']</td>\n",
       "    </tr>\n",
       "    <tr>\n",
       "      <th>...</th>\n",
       "      <td>...</td>\n",
       "      <td>...</td>\n",
       "      <td>...</td>\n",
       "      <td>...</td>\n",
       "      <td>...</td>\n",
       "      <td>...</td>\n",
       "    </tr>\n",
       "    <tr>\n",
       "      <th>7774</th>\n",
       "      <td>sundown max 125 sed hunter</td>\n",
       "      <td>125 hunter max sundown</td>\n",
       "      <td>XXX</td>\n",
       "      <td>SUNDOWN MAX</td>\n",
       "      <td>SUNDOWN HUNTER</td>\n",
       "      <td>['SUNDOWN MAX', 'SUNDOWN HUNTER']</td>\n",
       "    </tr>\n",
       "    <tr>\n",
       "      <th>7829</th>\n",
       "      <td>max 125 hunter</td>\n",
       "      <td>125 hunter max sundown</td>\n",
       "      <td>XXX</td>\n",
       "      <td>SUNDOWN MAX</td>\n",
       "      <td>SUNDOWN HUNTER</td>\n",
       "      <td>['SUNDOWN MAX', 'SUNDOWN HUNTER']</td>\n",
       "    </tr>\n",
       "    <tr>\n",
       "      <th>7911</th>\n",
       "      <td>hunter 125 max</td>\n",
       "      <td>125 hunter max sundown</td>\n",
       "      <td>XXX</td>\n",
       "      <td>SUNDOWN MAX</td>\n",
       "      <td>SUNDOWN HUNTER</td>\n",
       "      <td>['SUNDOWN MAX', 'SUNDOWN HUNTER']</td>\n",
       "    </tr>\n",
       "    <tr>\n",
       "      <th>7952</th>\n",
       "      <td>hunter 125 max</td>\n",
       "      <td>125 hunter max sundown</td>\n",
       "      <td>XXX</td>\n",
       "      <td>SUNDOWN MAX</td>\n",
       "      <td>SUNDOWN HUNTER</td>\n",
       "      <td>['SUNDOWN MAX', 'SUNDOWN HUNTER']</td>\n",
       "    </tr>\n",
       "    <tr>\n",
       "      <th>8073</th>\n",
       "      <td>xlv 700 transalp</td>\n",
       "      <td>700 honda transalp</td>\n",
       "      <td>HONDA XL 700V TRANSALP</td>\n",
       "      <td>KAWASAKI NINJA 700</td>\n",
       "      <td>HONDA NC 700X 700</td>\n",
       "      <td>['HONDA XL 700V TRANSALP', 'HONDA NC 700X 700']</td>\n",
       "    </tr>\n",
       "    <tr>\n",
       "      <th>8144</th>\n",
       "      <td>max 125 hunter p21b</td>\n",
       "      <td>125 hunter max sundown</td>\n",
       "      <td>XXX</td>\n",
       "      <td>SUNDOWN MAX</td>\n",
       "      <td>SUNDOWN HUNTER</td>\n",
       "      <td>['SUNDOWN MAX', 'SUNDOWN HUNTER']</td>\n",
       "    </tr>\n",
       "    <tr>\n",
       "      <th>8523</th>\n",
       "      <td>max 125 hunter</td>\n",
       "      <td>125 hunter max sundown</td>\n",
       "      <td>XXX</td>\n",
       "      <td>SUNDOWN MAX</td>\n",
       "      <td>SUNDOWN HUNTER</td>\n",
       "      <td>['SUNDOWN MAX', 'SUNDOWN HUNTER']</td>\n",
       "    </tr>\n",
       "    <tr>\n",
       "      <th>9537</th>\n",
       "      <td>hunter max 125</td>\n",
       "      <td>125 hunter max sundown</td>\n",
       "      <td>XXX</td>\n",
       "      <td>SUNDOWN MAX</td>\n",
       "      <td>SUNDOWN HUNTER</td>\n",
       "      <td>['SUNDOWN MAX', 'SUNDOWN HUNTER']</td>\n",
       "    </tr>\n",
       "    <tr>\n",
       "      <th>9738</th>\n",
       "      <td>max 125 hunter</td>\n",
       "      <td>125 hunter max sundown</td>\n",
       "      <td>XXX</td>\n",
       "      <td>SUNDOWN MAX</td>\n",
       "      <td>SUNDOWN HUNTER</td>\n",
       "      <td>['SUNDOWN MAX', 'SUNDOWN HUNTER']</td>\n",
       "    </tr>\n",
       "    <tr>\n",
       "      <th>11188</th>\n",
       "      <td>hunter max 125</td>\n",
       "      <td>125 hunter max sundown</td>\n",
       "      <td>XXX</td>\n",
       "      <td>SUNDOWN MAX</td>\n",
       "      <td>SUNDOWN HUNTER</td>\n",
       "      <td>['SUNDOWN MAX', 'SUNDOWN HUNTER']</td>\n",
       "    </tr>\n",
       "    <tr>\n",
       "      <th>11261</th>\n",
       "      <td>max 125 hunter</td>\n",
       "      <td>125 hunter max sundown</td>\n",
       "      <td>XXX</td>\n",
       "      <td>SUNDOWN MAX</td>\n",
       "      <td>SUNDOWN HUNTER</td>\n",
       "      <td>['SUNDOWN MAX', 'SUNDOWN HUNTER']</td>\n",
       "    </tr>\n",
       "    <tr>\n",
       "      <th>11284</th>\n",
       "      <td>max 125 hunter</td>\n",
       "      <td>125 hunter max sundown</td>\n",
       "      <td>XXX</td>\n",
       "      <td>SUNDOWN MAX</td>\n",
       "      <td>SUNDOWN HUNTER</td>\n",
       "      <td>['SUNDOWN MAX', 'SUNDOWN HUNTER']</td>\n",
       "    </tr>\n",
       "    <tr>\n",
       "      <th>11560</th>\n",
       "      <td>max 125 hunter</td>\n",
       "      <td>125 hunter max sundown</td>\n",
       "      <td>XXX</td>\n",
       "      <td>SUNDOWN MAX</td>\n",
       "      <td>SUNDOWN HUNTER</td>\n",
       "      <td>['SUNDOWN MAX', 'SUNDOWN HUNTER']</td>\n",
       "    </tr>\n",
       "    <tr>\n",
       "      <th>12178</th>\n",
       "      <td>p21b max 125 hunter</td>\n",
       "      <td>125 hunter max sundown</td>\n",
       "      <td>XXX</td>\n",
       "      <td>SUNDOWN MAX</td>\n",
       "      <td>SUNDOWN HUNTER</td>\n",
       "      <td>['SUNDOWN MAX', 'SUNDOWN HUNTER']</td>\n",
       "    </tr>\n",
       "    <tr>\n",
       "      <th>12286</th>\n",
       "      <td>sundown max 125 sed hunter</td>\n",
       "      <td>125 hunter max sundown</td>\n",
       "      <td>XXX</td>\n",
       "      <td>SUNDOWN MAX</td>\n",
       "      <td>SUNDOWN HUNTER</td>\n",
       "      <td>['SUNDOWN MAX', 'SUNDOWN HUNTER']</td>\n",
       "    </tr>\n",
       "    <tr>\n",
       "      <th>12665</th>\n",
       "      <td>cb twister 250 top</td>\n",
       "      <td>250 cb honda top twister</td>\n",
       "      <td>KAHENA TOP</td>\n",
       "      <td>HONDA TWISTER CBX 250</td>\n",
       "      <td>HONDA CB 250 250F</td>\n",
       "      <td>['HONDA TWISTER CBX 250', 'HONDA CB 250 250F']</td>\n",
       "    </tr>\n",
       "    <tr>\n",
       "      <th>12707</th>\n",
       "      <td>cb twister 250 top</td>\n",
       "      <td>250 cb honda top twister</td>\n",
       "      <td>KAHENA TOP</td>\n",
       "      <td>HONDA TWISTER CBX 250</td>\n",
       "      <td>HONDA CB 250 250F</td>\n",
       "      <td>['HONDA TWISTER CBX 250', 'HONDA CB 250 250F']</td>\n",
       "    </tr>\n",
       "    <tr>\n",
       "      <th>13051</th>\n",
       "      <td>max 125 hunter</td>\n",
       "      <td>125 hunter max sundown</td>\n",
       "      <td>XXX</td>\n",
       "      <td>SUNDOWN MAX</td>\n",
       "      <td>SUNDOWN HUNTER</td>\n",
       "      <td>['SUNDOWN MAX', 'SUNDOWN HUNTER']</td>\n",
       "    </tr>\n",
       "    <tr>\n",
       "      <th>13267</th>\n",
       "      <td>max 125 hunter p21b</td>\n",
       "      <td>125 hunter max sundown</td>\n",
       "      <td>XXX</td>\n",
       "      <td>SUNDOWN MAX</td>\n",
       "      <td>SUNDOWN HUNTER</td>\n",
       "      <td>['SUNDOWN MAX', 'SUNDOWN HUNTER']</td>\n",
       "    </tr>\n",
       "    <tr>\n",
       "      <th>13867</th>\n",
       "      <td>max 125 hunter mot</td>\n",
       "      <td>125 hunter max sundown</td>\n",
       "      <td>XXX</td>\n",
       "      <td>SUNDOWN MAX</td>\n",
       "      <td>SUNDOWN HUNTER</td>\n",
       "      <td>['SUNDOWN MAX', 'SUNDOWN HUNTER']</td>\n",
       "    </tr>\n",
       "    <tr>\n",
       "      <th>13978</th>\n",
       "      <td>max 125 hunter</td>\n",
       "      <td>125 hunter max sundown</td>\n",
       "      <td>XXX</td>\n",
       "      <td>SUNDOWN MAX</td>\n",
       "      <td>SUNDOWN HUNTER</td>\n",
       "      <td>['SUNDOWN MAX', 'SUNDOWN HUNTER']</td>\n",
       "    </tr>\n",
       "    <tr>\n",
       "      <th>15025</th>\n",
       "      <td>max 125 hunter</td>\n",
       "      <td>125 hunter max sundown</td>\n",
       "      <td>XXX</td>\n",
       "      <td>SUNDOWN MAX</td>\n",
       "      <td>SUNDOWN HUNTER</td>\n",
       "      <td>['SUNDOWN MAX', 'SUNDOWN HUNTER']</td>\n",
       "    </tr>\n",
       "    <tr>\n",
       "      <th>15223</th>\n",
       "      <td>max 125 hunter</td>\n",
       "      <td>125 hunter max sundown</td>\n",
       "      <td>XXX</td>\n",
       "      <td>SUNDOWN MAX</td>\n",
       "      <td>SUNDOWN HUNTER</td>\n",
       "      <td>['SUNDOWN MAX', 'SUNDOWN HUNTER']</td>\n",
       "    </tr>\n",
       "    <tr>\n",
       "      <th>15468</th>\n",
       "      <td>hunter 125 max</td>\n",
       "      <td>125 hunter max sundown</td>\n",
       "      <td>XXX</td>\n",
       "      <td>SUNDOWN MAX</td>\n",
       "      <td>SUNDOWN HUNTER</td>\n",
       "      <td>['SUNDOWN MAX', 'SUNDOWN HUNTER']</td>\n",
       "    </tr>\n",
       "    <tr>\n",
       "      <th>15519</th>\n",
       "      <td>hunter 125 max</td>\n",
       "      <td>125 hunter max sundown</td>\n",
       "      <td>XXX</td>\n",
       "      <td>SUNDOWN MAX</td>\n",
       "      <td>SUNDOWN HUNTER</td>\n",
       "      <td>['SUNDOWN MAX', 'SUNDOWN HUNTER']</td>\n",
       "    </tr>\n",
       "    <tr>\n",
       "      <th>15962</th>\n",
       "      <td>cb twister 250 top</td>\n",
       "      <td>250 cb honda top twister</td>\n",
       "      <td>KAHENA TOP</td>\n",
       "      <td>HONDA TWISTER CBX 250</td>\n",
       "      <td>HONDA CB 250 250F</td>\n",
       "      <td>['HONDA TWISTER CBX 250', 'HONDA CB 250 250F']</td>\n",
       "    </tr>\n",
       "    <tr>\n",
       "      <th>15977</th>\n",
       "      <td>cb twister 250 top</td>\n",
       "      <td>250 cb honda top twister</td>\n",
       "      <td>KAHENA TOP</td>\n",
       "      <td>HONDA TWISTER CBX 250</td>\n",
       "      <td>HONDA CB 250 250F</td>\n",
       "      <td>['HONDA TWISTER CBX 250', 'HONDA CB 250 250F']</td>\n",
       "    </tr>\n",
       "    <tr>\n",
       "      <th>16472</th>\n",
       "      <td>hunter max125</td>\n",
       "      <td>125 hunter max sundown</td>\n",
       "      <td>XXX</td>\n",
       "      <td>SUNDOWN MAX</td>\n",
       "      <td>SUNDOWN HUNTER</td>\n",
       "      <td>['SUNDOWN MAX', 'SUNDOWN HUNTER']</td>\n",
       "    </tr>\n",
       "    <tr>\n",
       "      <th>16795</th>\n",
       "      <td>hunter max 125 15 x118</td>\n",
       "      <td>125 hunter max sundown</td>\n",
       "      <td>XXX</td>\n",
       "      <td>SUNDOWN MAX</td>\n",
       "      <td>SUNDOWN HUNTER</td>\n",
       "      <td>['SUNDOWN MAX', 'SUNDOWN HUNTER']</td>\n",
       "    </tr>\n",
       "    <tr>\n",
       "      <th>17180</th>\n",
       "      <td>max 125 hunter</td>\n",
       "      <td>125 hunter max sundown</td>\n",
       "      <td>XXX</td>\n",
       "      <td>SUNDOWN MAX</td>\n",
       "      <td>SUNDOWN HUNTER</td>\n",
       "      <td>['SUNDOWN MAX', 'SUNDOWN HUNTER']</td>\n",
       "    </tr>\n",
       "  </tbody>\n",
       "</table>\n",
       "<p>67 rows × 6 columns</p>\n",
       "</div>"
      ],
      "text/plain": [
       "                               DESCRICAO                    Modelo  \\\n",
       "11                        hunter max 125    125 hunter max sundown   \n",
       "282                  max 125 hunter p21b    125 hunter max sundown   \n",
       "304                        hunter max125    125 hunter max sundown   \n",
       "450               sundown hunter max 125    125 hunter max sundown   \n",
       "848                        hunter max125    125 hunter max sundown   \n",
       "1351                      max 125 hunter    125 hunter max sundown   \n",
       "1683                      hunter max 125    125 hunter max sundown   \n",
       "1751                 max 125 hunter p21b    125 hunter max sundown   \n",
       "2043                  cb twister 250 top  250 cb honda top twister   \n",
       "2740                       hunter max125    125 hunter max sundown   \n",
       "2880   sundown max125 max 125 sed hunter    125 hunter max sundown   \n",
       "2958                      hunter max 125    125 hunter max sundown   \n",
       "3724                  cb twister 250 top  250 cb honda top twister   \n",
       "4370                      hunter 125 max    125 hunter max sundown   \n",
       "4404                      hunter 125 max    125 hunter max sundown   \n",
       "4494                 max 125 hunter p21b    125 hunter max sundown   \n",
       "4510                  cb twister 250 top  250 cb honda top twister   \n",
       "4595                      hunter 125 max    125 hunter max sundown   \n",
       "4638                      hunter 125 max    125 hunter max sundown   \n",
       "5181              hunter max 125 15 x118    125 hunter max sundown   \n",
       "5274                  cb twister 250 top  250 cb honda top twister   \n",
       "5334              sundown hunter max 125    125 hunter max sundown   \n",
       "5739                      hunter 125 max    125 hunter max sundown   \n",
       "5784                      hunter 125 max    125 hunter max sundown   \n",
       "6157                    xlv 700 transalp        700 honda transalp   \n",
       "6170                    xlv 700 transalp        700 honda transalp   \n",
       "6511                      hunter max 125    125 hunter max sundown   \n",
       "6559                       hunter max125    125 hunter max sundown   \n",
       "6634                  cb twister 250 top  250 cb honda top twister   \n",
       "6642                      max 125 hunter    125 hunter max sundown   \n",
       "...                                  ...                       ...   \n",
       "7774          sundown max 125 sed hunter    125 hunter max sundown   \n",
       "7829                      max 125 hunter    125 hunter max sundown   \n",
       "7911                      hunter 125 max    125 hunter max sundown   \n",
       "7952                      hunter 125 max    125 hunter max sundown   \n",
       "8073                    xlv 700 transalp        700 honda transalp   \n",
       "8144                 max 125 hunter p21b    125 hunter max sundown   \n",
       "8523                      max 125 hunter    125 hunter max sundown   \n",
       "9537                      hunter max 125    125 hunter max sundown   \n",
       "9738                      max 125 hunter    125 hunter max sundown   \n",
       "11188                     hunter max 125    125 hunter max sundown   \n",
       "11261                     max 125 hunter    125 hunter max sundown   \n",
       "11284                     max 125 hunter    125 hunter max sundown   \n",
       "11560                     max 125 hunter    125 hunter max sundown   \n",
       "12178                p21b max 125 hunter    125 hunter max sundown   \n",
       "12286         sundown max 125 sed hunter    125 hunter max sundown   \n",
       "12665                 cb twister 250 top  250 cb honda top twister   \n",
       "12707                 cb twister 250 top  250 cb honda top twister   \n",
       "13051                     max 125 hunter    125 hunter max sundown   \n",
       "13267                max 125 hunter p21b    125 hunter max sundown   \n",
       "13867                 max 125 hunter mot    125 hunter max sundown   \n",
       "13978                     max 125 hunter    125 hunter max sundown   \n",
       "15025                     max 125 hunter    125 hunter max sundown   \n",
       "15223                     max 125 hunter    125 hunter max sundown   \n",
       "15468                     hunter 125 max    125 hunter max sundown   \n",
       "15519                     hunter 125 max    125 hunter max sundown   \n",
       "15962                 cb twister 250 top  250 cb honda top twister   \n",
       "15977                 cb twister 250 top  250 cb honda top twister   \n",
       "16472                      hunter max125    125 hunter max sundown   \n",
       "16795             hunter max 125 15 x118    125 hunter max sundown   \n",
       "17180                     max 125 hunter    125 hunter max sundown   \n",
       "\n",
       "                    APLICACAO           APLICACAOSVC       APLICACAOMNB  \\\n",
       "11                        XXX            SUNDOWN MAX     SUNDOWN HUNTER   \n",
       "282                       XXX            SUNDOWN MAX     SUNDOWN HUNTER   \n",
       "304                       XXX            SUNDOWN MAX     SUNDOWN HUNTER   \n",
       "450                       XXX            SUNDOWN MAX     SUNDOWN HUNTER   \n",
       "848                       XXX            SUNDOWN MAX     SUNDOWN HUNTER   \n",
       "1351                      XXX            SUNDOWN MAX     SUNDOWN HUNTER   \n",
       "1683                      XXX            SUNDOWN MAX     SUNDOWN HUNTER   \n",
       "1751                      XXX            SUNDOWN MAX     SUNDOWN HUNTER   \n",
       "2043               KAHENA TOP  HONDA TWISTER CBX 250  HONDA CB 250 250F   \n",
       "2740                      XXX            SUNDOWN MAX     SUNDOWN HUNTER   \n",
       "2880                      XXX            SUNDOWN MAX     SUNDOWN HUNTER   \n",
       "2958                      XXX            SUNDOWN MAX     SUNDOWN HUNTER   \n",
       "3724               KAHENA TOP  HONDA TWISTER CBX 250  HONDA CB 250 250F   \n",
       "4370                      XXX            SUNDOWN MAX     SUNDOWN HUNTER   \n",
       "4404                      XXX            SUNDOWN MAX     SUNDOWN HUNTER   \n",
       "4494                      XXX            SUNDOWN MAX     SUNDOWN HUNTER   \n",
       "4510               KAHENA TOP  HONDA TWISTER CBX 250  HONDA CB 250 250F   \n",
       "4595                      XXX            SUNDOWN MAX     SUNDOWN HUNTER   \n",
       "4638                      XXX            SUNDOWN MAX     SUNDOWN HUNTER   \n",
       "5181                      XXX            SUNDOWN MAX     SUNDOWN HUNTER   \n",
       "5274               KAHENA TOP  HONDA TWISTER CBX 250  HONDA CB 250 250F   \n",
       "5334                      XXX            SUNDOWN MAX     SUNDOWN HUNTER   \n",
       "5739                      XXX            SUNDOWN MAX     SUNDOWN HUNTER   \n",
       "5784                      XXX            SUNDOWN MAX     SUNDOWN HUNTER   \n",
       "6157   HONDA XL 700V TRANSALP     KAWASAKI NINJA 700  HONDA NC 700X 700   \n",
       "6170   HONDA XL 700V TRANSALP     KAWASAKI NINJA 700  HONDA NC 700X 700   \n",
       "6511                      XXX            SUNDOWN MAX     SUNDOWN HUNTER   \n",
       "6559                      XXX            SUNDOWN MAX     SUNDOWN HUNTER   \n",
       "6634               KAHENA TOP  HONDA TWISTER CBX 250  HONDA CB 250 250F   \n",
       "6642                      XXX            SUNDOWN MAX     SUNDOWN HUNTER   \n",
       "...                       ...                    ...                ...   \n",
       "7774                      XXX            SUNDOWN MAX     SUNDOWN HUNTER   \n",
       "7829                      XXX            SUNDOWN MAX     SUNDOWN HUNTER   \n",
       "7911                      XXX            SUNDOWN MAX     SUNDOWN HUNTER   \n",
       "7952                      XXX            SUNDOWN MAX     SUNDOWN HUNTER   \n",
       "8073   HONDA XL 700V TRANSALP     KAWASAKI NINJA 700  HONDA NC 700X 700   \n",
       "8144                      XXX            SUNDOWN MAX     SUNDOWN HUNTER   \n",
       "8523                      XXX            SUNDOWN MAX     SUNDOWN HUNTER   \n",
       "9537                      XXX            SUNDOWN MAX     SUNDOWN HUNTER   \n",
       "9738                      XXX            SUNDOWN MAX     SUNDOWN HUNTER   \n",
       "11188                     XXX            SUNDOWN MAX     SUNDOWN HUNTER   \n",
       "11261                     XXX            SUNDOWN MAX     SUNDOWN HUNTER   \n",
       "11284                     XXX            SUNDOWN MAX     SUNDOWN HUNTER   \n",
       "11560                     XXX            SUNDOWN MAX     SUNDOWN HUNTER   \n",
       "12178                     XXX            SUNDOWN MAX     SUNDOWN HUNTER   \n",
       "12286                     XXX            SUNDOWN MAX     SUNDOWN HUNTER   \n",
       "12665              KAHENA TOP  HONDA TWISTER CBX 250  HONDA CB 250 250F   \n",
       "12707              KAHENA TOP  HONDA TWISTER CBX 250  HONDA CB 250 250F   \n",
       "13051                     XXX            SUNDOWN MAX     SUNDOWN HUNTER   \n",
       "13267                     XXX            SUNDOWN MAX     SUNDOWN HUNTER   \n",
       "13867                     XXX            SUNDOWN MAX     SUNDOWN HUNTER   \n",
       "13978                     XXX            SUNDOWN MAX     SUNDOWN HUNTER   \n",
       "15025                     XXX            SUNDOWN MAX     SUNDOWN HUNTER   \n",
       "15223                     XXX            SUNDOWN MAX     SUNDOWN HUNTER   \n",
       "15468                     XXX            SUNDOWN MAX     SUNDOWN HUNTER   \n",
       "15519                     XXX            SUNDOWN MAX     SUNDOWN HUNTER   \n",
       "15962              KAHENA TOP  HONDA TWISTER CBX 250  HONDA CB 250 250F   \n",
       "15977              KAHENA TOP  HONDA TWISTER CBX 250  HONDA CB 250 250F   \n",
       "16472                     XXX            SUNDOWN MAX     SUNDOWN HUNTER   \n",
       "16795                     XXX            SUNDOWN MAX     SUNDOWN HUNTER   \n",
       "17180                     XXX            SUNDOWN MAX     SUNDOWN HUNTER   \n",
       "\n",
       "                                          APLICACAOFIM  \n",
       "11                   ['SUNDOWN MAX', 'SUNDOWN HUNTER']  \n",
       "282                  ['SUNDOWN MAX', 'SUNDOWN HUNTER']  \n",
       "304                  ['SUNDOWN MAX', 'SUNDOWN HUNTER']  \n",
       "450                  ['SUNDOWN MAX', 'SUNDOWN HUNTER']  \n",
       "848                  ['SUNDOWN MAX', 'SUNDOWN HUNTER']  \n",
       "1351                 ['SUNDOWN MAX', 'SUNDOWN HUNTER']  \n",
       "1683                 ['SUNDOWN MAX', 'SUNDOWN HUNTER']  \n",
       "1751                 ['SUNDOWN MAX', 'SUNDOWN HUNTER']  \n",
       "2043    ['HONDA TWISTER CBX 250', 'HONDA CB 250 250F']  \n",
       "2740                 ['SUNDOWN MAX', 'SUNDOWN HUNTER']  \n",
       "2880                 ['SUNDOWN MAX', 'SUNDOWN HUNTER']  \n",
       "2958                 ['SUNDOWN MAX', 'SUNDOWN HUNTER']  \n",
       "3724    ['HONDA TWISTER CBX 250', 'HONDA CB 250 250F']  \n",
       "4370                 ['SUNDOWN MAX', 'SUNDOWN HUNTER']  \n",
       "4404                 ['SUNDOWN MAX', 'SUNDOWN HUNTER']  \n",
       "4494                 ['SUNDOWN MAX', 'SUNDOWN HUNTER']  \n",
       "4510    ['HONDA TWISTER CBX 250', 'HONDA CB 250 250F']  \n",
       "4595                 ['SUNDOWN MAX', 'SUNDOWN HUNTER']  \n",
       "4638                 ['SUNDOWN MAX', 'SUNDOWN HUNTER']  \n",
       "5181                 ['SUNDOWN MAX', 'SUNDOWN HUNTER']  \n",
       "5274    ['HONDA TWISTER CBX 250', 'HONDA CB 250 250F']  \n",
       "5334                 ['SUNDOWN MAX', 'SUNDOWN HUNTER']  \n",
       "5739                 ['SUNDOWN MAX', 'SUNDOWN HUNTER']  \n",
       "5784                 ['SUNDOWN MAX', 'SUNDOWN HUNTER']  \n",
       "6157   ['HONDA XL 700V TRANSALP', 'HONDA NC 700X 700']  \n",
       "6170   ['HONDA XL 700V TRANSALP', 'HONDA NC 700X 700']  \n",
       "6511                 ['SUNDOWN MAX', 'SUNDOWN HUNTER']  \n",
       "6559                 ['SUNDOWN MAX', 'SUNDOWN HUNTER']  \n",
       "6634    ['HONDA TWISTER CBX 250', 'HONDA CB 250 250F']  \n",
       "6642                 ['SUNDOWN MAX', 'SUNDOWN HUNTER']  \n",
       "...                                                ...  \n",
       "7774                 ['SUNDOWN MAX', 'SUNDOWN HUNTER']  \n",
       "7829                 ['SUNDOWN MAX', 'SUNDOWN HUNTER']  \n",
       "7911                 ['SUNDOWN MAX', 'SUNDOWN HUNTER']  \n",
       "7952                 ['SUNDOWN MAX', 'SUNDOWN HUNTER']  \n",
       "8073   ['HONDA XL 700V TRANSALP', 'HONDA NC 700X 700']  \n",
       "8144                 ['SUNDOWN MAX', 'SUNDOWN HUNTER']  \n",
       "8523                 ['SUNDOWN MAX', 'SUNDOWN HUNTER']  \n",
       "9537                 ['SUNDOWN MAX', 'SUNDOWN HUNTER']  \n",
       "9738                 ['SUNDOWN MAX', 'SUNDOWN HUNTER']  \n",
       "11188                ['SUNDOWN MAX', 'SUNDOWN HUNTER']  \n",
       "11261                ['SUNDOWN MAX', 'SUNDOWN HUNTER']  \n",
       "11284                ['SUNDOWN MAX', 'SUNDOWN HUNTER']  \n",
       "11560                ['SUNDOWN MAX', 'SUNDOWN HUNTER']  \n",
       "12178                ['SUNDOWN MAX', 'SUNDOWN HUNTER']  \n",
       "12286                ['SUNDOWN MAX', 'SUNDOWN HUNTER']  \n",
       "12665   ['HONDA TWISTER CBX 250', 'HONDA CB 250 250F']  \n",
       "12707   ['HONDA TWISTER CBX 250', 'HONDA CB 250 250F']  \n",
       "13051                ['SUNDOWN MAX', 'SUNDOWN HUNTER']  \n",
       "13267                ['SUNDOWN MAX', 'SUNDOWN HUNTER']  \n",
       "13867                ['SUNDOWN MAX', 'SUNDOWN HUNTER']  \n",
       "13978                ['SUNDOWN MAX', 'SUNDOWN HUNTER']  \n",
       "15025                ['SUNDOWN MAX', 'SUNDOWN HUNTER']  \n",
       "15223                ['SUNDOWN MAX', 'SUNDOWN HUNTER']  \n",
       "15468                ['SUNDOWN MAX', 'SUNDOWN HUNTER']  \n",
       "15519                ['SUNDOWN MAX', 'SUNDOWN HUNTER']  \n",
       "15962   ['HONDA TWISTER CBX 250', 'HONDA CB 250 250F']  \n",
       "15977   ['HONDA TWISTER CBX 250', 'HONDA CB 250 250F']  \n",
       "16472                ['SUNDOWN MAX', 'SUNDOWN HUNTER']  \n",
       "16795                ['SUNDOWN MAX', 'SUNDOWN HUNTER']  \n",
       "17180                ['SUNDOWN MAX', 'SUNDOWN HUNTER']  \n",
       "\n",
       "[67 rows x 6 columns]"
      ]
     },
     "execution_count": 7,
     "metadata": {},
     "output_type": "execute_result"
    }
   ],
   "source": [
    "df[filtro].iloc[:,-6:]"
   ]
  },
  {
   "cell_type": "code",
   "execution_count": 8,
   "metadata": {},
   "outputs": [
    {
     "data": {
      "text/plain": [
       "'80373 KIT DE TRANSMISSÃO, COMPOSTO DE CORRENTE, COROA E PINHÃO PARA MOTOCICLETA SHINERAY PHOENIX 50CC, MARCA ALLEN.'"
      ]
     },
     "execution_count": 8,
     "metadata": {},
     "output_type": "execute_result"
    }
   ],
   "source": [
    "df['DESCRICAO DO PRODUTO'].iloc[7]"
   ]
  },
  {
   "cell_type": "code",
   "execution_count": 9,
   "metadata": {},
   "outputs": [
    {
     "name": "stdout",
     "output_type": "stream",
     "text": [
      "Registros a classificar: 67\n"
     ]
    }
   ],
   "source": [
    "print(f'Registros a classificar: {df[filtro].shape[0]}')"
   ]
  },
  {
   "cell_type": "markdown",
   "metadata": {},
   "source": [
    "### Classificando os registros divergentes"
   ]
  },
  {
   "cell_type": "raw",
   "metadata": {},
   "source": [
    "Primeiramente, observando-se os registros verifica-se que são modelos repetidos, então faremos um dicionário com o par de escolha (modelo: aplicação)."
   ]
  },
  {
   "cell_type": "code",
   "execution_count": 10,
   "metadata": {},
   "outputs": [],
   "source": [
    "def ordena(modelo):\n",
    "    modelo=modelo.split()\n",
    "    modelo.sort()\n",
    "    modelo=\" \".join(modelo)\n",
    "    return modelo\n",
    "def limpaColchetes(aplicacaofim):\n",
    "    aplicacaofim=\" \".join(aplicacaofim)\n",
    "    aplicacaofim=aplicacaofim.replace(\"'\",'')\n",
    "    aplicacaofim=aplicacaofim.replace(\"[\",'')\n",
    "    aplicacaofim=aplicacaofim.replace(\"]\",'')\n",
    "    aplicacaofim=aplicacaofim.split(\",\")\n",
    "    return aplicacaofim"
   ]
  },
  {
   "cell_type": "code",
   "execution_count": 11,
   "metadata": {
    "scrolled": true
   },
   "outputs": [
    {
     "name": "stdout",
     "output_type": "stream",
     "text": [
      "Número de registros a classificar: 67\n",
      "Número de casos a analisar: 3\n"
     ]
    }
   ],
   "source": [
    "lista=df[filtro].groupby('Modelo').agg(lambda x: list(set(x))).reset_index()[['Modelo','APLICACAOFIM']]\n",
    "lista['Modelo']=lista['Modelo'].apply(ordena)\n",
    "lista['APLICACAOFIM']=lista['APLICACAOFIM'].apply(limpaColchetes)\n",
    "print(f'Número de registros a classificar: {df[filtro].shape[0]}')\n",
    "print(f'Número de casos a analisar: {lista.shape[0]}')"
   ]
  },
  {
   "cell_type": "markdown",
   "metadata": {},
   "source": [
    "Obsrva-se que são pouquíssimos casos a analisar."
   ]
  },
  {
   "cell_type": "code",
   "execution_count": 12,
   "metadata": {},
   "outputs": [
    {
     "data": {
      "text/html": [
       "<div>\n",
       "<style scoped>\n",
       "    .dataframe tbody tr th:only-of-type {\n",
       "        vertical-align: middle;\n",
       "    }\n",
       "\n",
       "    .dataframe tbody tr th {\n",
       "        vertical-align: top;\n",
       "    }\n",
       "\n",
       "    .dataframe thead th {\n",
       "        text-align: right;\n",
       "    }\n",
       "</style>\n",
       "<table border=\"1\" class=\"dataframe\">\n",
       "  <thead>\n",
       "    <tr style=\"text-align: right;\">\n",
       "      <th></th>\n",
       "      <th>Modelo</th>\n",
       "      <th>APLICACAOFIM</th>\n",
       "    </tr>\n",
       "  </thead>\n",
       "  <tbody>\n",
       "    <tr>\n",
       "      <th>2</th>\n",
       "      <td>700 honda transalp</td>\n",
       "      <td>[HONDA XL 700V TRANSALP,  HONDA NC 700X 700]</td>\n",
       "    </tr>\n",
       "    <tr>\n",
       "      <th>0</th>\n",
       "      <td>125 hunter max sundown</td>\n",
       "      <td>[SUNDOWN MAX,  SUNDOWN HUNTER]</td>\n",
       "    </tr>\n",
       "    <tr>\n",
       "      <th>1</th>\n",
       "      <td>250 cb honda top twister</td>\n",
       "      <td>[HONDA TWISTER CBX 250,  HONDA CB 250 250F]</td>\n",
       "    </tr>\n",
       "  </tbody>\n",
       "</table>\n",
       "</div>"
      ],
      "text/plain": [
       "                     Modelo                                  APLICACAOFIM\n",
       "2        700 honda transalp  [HONDA XL 700V TRANSALP,  HONDA NC 700X 700]\n",
       "0    125 hunter max sundown                [SUNDOWN MAX,  SUNDOWN HUNTER]\n",
       "1  250 cb honda top twister   [HONDA TWISTER CBX 250,  HONDA CB 250 250F]"
      ]
     },
     "execution_count": 12,
     "metadata": {},
     "output_type": "execute_result"
    }
   ],
   "source": [
    "lista.sample(3)"
   ]
  },
  {
   "cell_type": "code",
   "execution_count": 13,
   "metadata": {},
   "outputs": [
    {
     "data": {
      "text/html": [
       "<div>\n",
       "<style scoped>\n",
       "    .dataframe tbody tr th:only-of-type {\n",
       "        vertical-align: middle;\n",
       "    }\n",
       "\n",
       "    .dataframe tbody tr th {\n",
       "        vertical-align: top;\n",
       "    }\n",
       "\n",
       "    .dataframe thead th {\n",
       "        text-align: right;\n",
       "    }\n",
       "</style>\n",
       "<table border=\"1\" class=\"dataframe\">\n",
       "  <thead>\n",
       "    <tr style=\"text-align: right;\">\n",
       "      <th></th>\n",
       "      <th>Modelo</th>\n",
       "      <th>APLICACAOFIM</th>\n",
       "    </tr>\n",
       "  </thead>\n",
       "  <tbody>\n",
       "    <tr>\n",
       "      <th>0</th>\n",
       "      <td>125 hunter max sundown</td>\n",
       "      <td>[SUNDOWN MAX,  SUNDOWN HUNTER]</td>\n",
       "    </tr>\n",
       "    <tr>\n",
       "      <th>1</th>\n",
       "      <td>250 cb honda top twister</td>\n",
       "      <td>[HONDA TWISTER CBX 250,  HONDA CB 250 250F]</td>\n",
       "    </tr>\n",
       "    <tr>\n",
       "      <th>2</th>\n",
       "      <td>700 honda transalp</td>\n",
       "      <td>[HONDA XL 700V TRANSALP,  HONDA NC 700X 700]</td>\n",
       "    </tr>\n",
       "  </tbody>\n",
       "</table>\n",
       "</div>"
      ],
      "text/plain": [
       "                     Modelo                                  APLICACAOFIM\n",
       "0    125 hunter max sundown                [SUNDOWN MAX,  SUNDOWN HUNTER]\n",
       "1  250 cb honda top twister   [HONDA TWISTER CBX 250,  HONDA CB 250 250F]\n",
       "2        700 honda transalp  [HONDA XL 700V TRANSALP,  HONDA NC 700X 700]"
      ]
     },
     "execution_count": 13,
     "metadata": {},
     "output_type": "execute_result"
    }
   ],
   "source": [
    "lista"
   ]
  },
  {
   "cell_type": "code",
   "execution_count": 14,
   "metadata": {},
   "outputs": [],
   "source": [
    "# com essa lista bastará deixar a opção correta.\n",
    "relacoes={}\n",
    "for i, x in enumerate(lista['Modelo']):\n",
    "    relacoes[x]=lista['APLICACAOFIM'][i]"
   ]
  },
  {
   "cell_type": "code",
   "execution_count": 15,
   "metadata": {},
   "outputs": [
    {
     "data": {
      "text/plain": [
       "{'125 hunter max sundown': ['SUNDOWN MAX', ' SUNDOWN HUNTER'],\n",
       " '250 cb honda top twister': ['HONDA TWISTER CBX 250', ' HONDA CB 250 250F'],\n",
       " '700 honda transalp': ['HONDA XL 700V TRANSALP', ' HONDA NC 700X 700']}"
      ]
     },
     "execution_count": 15,
     "metadata": {},
     "output_type": "execute_result"
    }
   ],
   "source": [
    "relacoes"
   ]
  },
  {
   "cell_type": "code",
   "execution_count": 16,
   "metadata": {},
   "outputs": [
    {
     "name": "stdout",
     "output_type": "stream",
     "text": [
      "Número de relações a identificar manualmente: 3\n"
     ]
    }
   ],
   "source": [
    "print(f'Número de relações a identificar manualmente: {len(relacoes)}')"
   ]
  },
  {
   "cell_type": "markdown",
   "metadata": {},
   "source": [
    "Identifciadas as relações construiu-se o dicionário abaixo para classificar de acordo com sua definição de chave-valor."
   ]
  },
  {
   "cell_type": "code",
   "execution_count": 17,
   "metadata": {},
   "outputs": [],
   "source": [
    "# Escolhas das relações realizada manualmente (somente 26 - deixamos uma de fora de propoósito.)\n",
    "relacoes = {'125 hunter max sundown': ' SUNDOWN HUNTER',\n",
    "            '250 cb honda top twister': 'HONDA TWISTER CBX 250',\n",
    "            '700 honda transalp': 'HONDA XL 700V TRANSALP'}"
   ]
  },
  {
   "cell_type": "code",
   "execution_count": 18,
   "metadata": {},
   "outputs": [],
   "source": [
    "colindex = df.columns.get_loc(\"APLICACAOFIM\")\n",
    "for i, row in df.iterrows():\n",
    "    if row['APLICACAOFIM'][0]=='[':\n",
    "        try:\n",
    "            modelo=row['Modelo'].split()\n",
    "            modelo.sort()\n",
    "            modelo=\" \".join(modelo)\n",
    "            relacoes[modelo]\n",
    "        except:\n",
    "            continue\n",
    "        df.iloc[i,colindex]=relacoes[modelo]"
   ]
  },
  {
   "cell_type": "markdown",
   "metadata": {},
   "source": [
    "Reaplicando o filtro"
   ]
  },
  {
   "cell_type": "code",
   "execution_count": 19,
   "metadata": {},
   "outputs": [],
   "source": [
    "# Registros ainda não definidos (lista de opções)\n",
    "# O filtro definirá True se APLICACAOFIM iniciar com '[' ou False caso contrário.\n",
    "filtro=[]\n",
    "for i, aplicacao in enumerate(df['APLICACAOFIM']):\n",
    "    if aplicacao[0]=='[':\n",
    "        filtro.append(True)\n",
    "    else:\n",
    "        filtro.append(False)"
   ]
  },
  {
   "cell_type": "code",
   "execution_count": 20,
   "metadata": {},
   "outputs": [
    {
     "name": "stdout",
     "output_type": "stream",
     "text": [
      "Registros a classificar: 0\n"
     ]
    }
   ],
   "source": [
    "print(f'Registros a classificar: {df[filtro].shape[0]}')"
   ]
  },
  {
   "cell_type": "markdown",
   "metadata": {},
   "source": [
    "Precisamos agora fazer a observação manual dos registros divergentes para correção.<br>\n",
    "A seguir, para os registros que não estiverem no diconário, cada linha apresentará a escolha manual de qual das opções deverá ser a APLICACAOFIM."
   ]
  },
  {
   "cell_type": "code",
   "execution_count": 21,
   "metadata": {},
   "outputs": [],
   "source": [
    "# As escolhas serão em um dicionário para poder retomar\n",
    "# {index: escolha} ==> exemplo: {11: 1, 16: 1}\n",
    "escolhas={}\n",
    "from pathlib import Path\n",
    "fileName = r\"./pickle/escolhas.pkl\"\n",
    "fileObj = Path(fileName)\n",
    "# se o arquivo existir\n",
    "if fileObj.is_file():\n",
    "    with open(fileName, 'rb') as file:\n",
    "        escolhas = pickle.load(file)\n",
    "        file.close()\n",
    "else:\n",
    "    escolhas={}"
   ]
  },
  {
   "cell_type": "code",
   "execution_count": 22,
   "metadata": {},
   "outputs": [
    {
     "data": {
      "text/plain": [
       "0"
      ]
     },
     "execution_count": 22,
     "metadata": {},
     "output_type": "execute_result"
    }
   ],
   "source": [
    "len(escolhas.keys())"
   ]
  },
  {
   "cell_type": "code",
   "execution_count": 23,
   "metadata": {},
   "outputs": [
    {
     "name": "stdout",
     "output_type": "stream",
     "text": [
      "{}\n"
     ]
    }
   ],
   "source": [
    "# colindex = df[filtro].columns.get_loc(\"APLICACAOFIM\")\n",
    "for i, row in df[filtro].iterrows():\n",
    "    print(i)\n",
    "    ultimo_i=max(escolhas.keys()) if len(escolhas.keys())>0 else 0\n",
    "    a=0\n",
    "    if i>100000 or a=='X': # serve para cancelar e estabelecer um limite para as verificações até o índice i\n",
    "        break\n",
    "    if row['APLICACAOFIM'][0]=='[':\n",
    "        # guarda a lista das opções na variável\n",
    "        aplictemp=row['APLICACAOFIM'].replace(\"[\",\"\").replace(\", \",\";\").replace(\",\",\";\").replace(\"'\",\"\").replace(\"]\",\"\")\n",
    "        aplictemp=aplictemp.split(';')\n",
    "        print('*'*20)\n",
    "        print('Digite o número de uma das opções e tecle Enter:')\n",
    "        print('Modelo: ', row['Modelo'])\n",
    "        for n, aplicacao in enumerate(aplictemp):\n",
    "            aplictemp[n]=aplicacao.strip()\n",
    "            print(' ',str(n+1)+')',aplictemp[n])\n",
    "        pedeEscolha=False\n",
    "        if ultimo_i>=i:\n",
    "            try:\n",
    "                a=escolhas[i]\n",
    "            except:\n",
    "                pedeEscolha=True\n",
    "        if pedeEscolha or ultimo_i<i:\n",
    "            while True:\n",
    "                try:\n",
    "                    a=input('Escolha uma das opções acima, O para outra ou X para cancelar: ').upper()\n",
    "                    if a=='X':\n",
    "                        break\n",
    "                    elif a=='O' or a=='o':\n",
    "                        outra=input('Digite o nome da aplicação:').upper()\n",
    "                        # verificar se está em aplicações\n",
    "                        if outra in dfaplicacoes['APLICACOES'].tolist():\n",
    "                            df.iloc[i,colindex]=outra # define a aplicação corrente\n",
    "                            break # encerra o while\n",
    "                    a=int(a)\n",
    "                    if a not in range(1,len(aplictemp)+1):\n",
    "                        raise(ValueError)\n",
    "                except ValueError:\n",
    "                    print(\"\\nOpção inválida.\\nDigite o número de uma das opções apresentadas:\")\n",
    "                else:\n",
    "                    break # encerra o while\n",
    "            if a=='X': break # se a entrada for X encerra o for\n",
    "            if a=='O': continue # se a entrada for O segue para o próximo\n",
    "        print(aplictemp[a-1],'\\n\\n')\n",
    "        df.iloc[i,colindex]=aplictemp[a-1]\n",
    "        escolhas[i]=a # acrescenta ou atualiza a escolha no dicionário\n",
    "    #np.save('escolhas.npy', escolhas) # salva o dicionário em um arquivo pickle\n",
    "    with open(r'./pickle/escolhas.pkl', 'wb') as file:\n",
    "        pickle.dump(escolhas, file)\n",
    "        file.close\n",
    "print(escolhas)"
   ]
  },
  {
   "cell_type": "markdown",
   "metadata": {},
   "source": [
    "Depois da análise manual todos os registros estão classificados para podermos utilizar como base para treinar o nosso classificador definitivo."
   ]
  },
  {
   "cell_type": "code",
   "execution_count": 24,
   "metadata": {},
   "outputs": [],
   "source": [
    "# Registros ainda não definidos (lista de opções)\n",
    "# O filtro definirá True se APLICACAOFIM iniciar com '[' ou False caso contrário.\n",
    "filtro=[]\n",
    "for i, aplicacao in enumerate(df['APLICACAOFIM']):\n",
    "    if aplicacao[0]=='[':\n",
    "        filtro.append(True)\n",
    "    else:\n",
    "        filtro.append(False)"
   ]
  },
  {
   "cell_type": "code",
   "execution_count": 25,
   "metadata": {},
   "outputs": [
    {
     "data": {
      "text/html": [
       "<div>\n",
       "<style scoped>\n",
       "    .dataframe tbody tr th:only-of-type {\n",
       "        vertical-align: middle;\n",
       "    }\n",
       "\n",
       "    .dataframe tbody tr th {\n",
       "        vertical-align: top;\n",
       "    }\n",
       "\n",
       "    .dataframe thead th {\n",
       "        text-align: right;\n",
       "    }\n",
       "</style>\n",
       "<table border=\"1\" class=\"dataframe\">\n",
       "  <thead>\n",
       "    <tr style=\"text-align: right;\">\n",
       "      <th></th>\n",
       "      <th>PAIS DE ORIGEM</th>\n",
       "      <th>DESCRICAO DO PRODUTO</th>\n",
       "      <th>VALOR UN.PROD.DOLAR</th>\n",
       "      <th>DESCRICAO</th>\n",
       "      <th>Modelo</th>\n",
       "      <th>APLICACAO</th>\n",
       "      <th>APLICACAOSVC</th>\n",
       "      <th>APLICACAOMNB</th>\n",
       "      <th>APLICACAOFIM</th>\n",
       "    </tr>\n",
       "  </thead>\n",
       "  <tbody>\n",
       "  </tbody>\n",
       "</table>\n",
       "</div>"
      ],
      "text/plain": [
       "Empty DataFrame\n",
       "Columns: [PAIS DE ORIGEM, DESCRICAO DO PRODUTO, VALOR UN.PROD.DOLAR, DESCRICAO, Modelo, APLICACAO, APLICACAOSVC, APLICACAOMNB, APLICACAOFIM]\n",
       "Index: []"
      ]
     },
     "execution_count": 25,
     "metadata": {},
     "output_type": "execute_result"
    }
   ],
   "source": [
    "df[filtro]"
   ]
  },
  {
   "cell_type": "code",
   "execution_count": 26,
   "metadata": {},
   "outputs": [
    {
     "name": "stdout",
     "output_type": "stream",
     "text": [
      "Registros a classificar: 0\n"
     ]
    }
   ],
   "source": [
    "print(f'Registros a classificar: {df[filtro].shape[0]}')"
   ]
  },
  {
   "cell_type": "markdown",
   "metadata": {},
   "source": [
    "### Comparando as classificações"
   ]
  },
  {
   "cell_type": "code",
   "execution_count": 27,
   "metadata": {},
   "outputs": [],
   "source": [
    "# Definição dos filtros\n",
    "f1 = df['APLICACAOSVC']==df['APLICACAOFIM'] # Modelo manual e SVC iguais\n",
    "f2 = df['APLICACAOMNB']==df['APLICACAOFIM'] # Modelo manual e MNB iguais"
   ]
  },
  {
   "cell_type": "code",
   "execution_count": 28,
   "metadata": {},
   "outputs": [
    {
     "data": {
      "text/plain": [
       "(898, 9)"
      ]
     },
     "execution_count": 28,
     "metadata": {},
     "output_type": "execute_result"
    }
   ],
   "source": [
    "# Quantidade de registros divergentes entre o modelo SVC e o modelo final\n",
    "df[~f1].shape"
   ]
  },
  {
   "cell_type": "code",
   "execution_count": 29,
   "metadata": {},
   "outputs": [
    {
     "data": {
      "text/plain": [
       "(2954, 9)"
      ]
     },
     "execution_count": 29,
     "metadata": {},
     "output_type": "execute_result"
    }
   ],
   "source": [
    "# Quantidade de registros divergentes entre o modelo MNB e o modelo final\n",
    "df[~f2].shape"
   ]
  },
  {
   "cell_type": "markdown",
   "metadata": {},
   "source": [
    "### Eliminando as colunas de classificação"
   ]
  },
  {
   "cell_type": "code",
   "execution_count": 30,
   "metadata": {},
   "outputs": [],
   "source": [
    "df=df.assign(APLICACAO=df.APLICACAOFIM.tolist())"
   ]
  },
  {
   "cell_type": "code",
   "execution_count": 31,
   "metadata": {},
   "outputs": [],
   "source": [
    "df = df.drop('APLICACAOSVC', 1)\n",
    "df = df.drop('APLICACAOMNB', 1)\n",
    "df = df.drop('APLICACAOFIM', 1)"
   ]
  },
  {
   "cell_type": "code",
   "execution_count": 32,
   "metadata": {},
   "outputs": [
    {
     "data": {
      "text/html": [
       "<div>\n",
       "<style scoped>\n",
       "    .dataframe tbody tr th:only-of-type {\n",
       "        vertical-align: middle;\n",
       "    }\n",
       "\n",
       "    .dataframe tbody tr th {\n",
       "        vertical-align: top;\n",
       "    }\n",
       "\n",
       "    .dataframe thead th {\n",
       "        text-align: right;\n",
       "    }\n",
       "</style>\n",
       "<table border=\"1\" class=\"dataframe\">\n",
       "  <thead>\n",
       "    <tr style=\"text-align: right;\">\n",
       "      <th></th>\n",
       "      <th>DESCRICAO</th>\n",
       "      <th>Modelo</th>\n",
       "      <th>APLICACAO</th>\n",
       "    </tr>\n",
       "  </thead>\n",
       "  <tbody>\n",
       "    <tr>\n",
       "      <th>16685</th>\n",
       "      <td>titan 160 fan</td>\n",
       "      <td>160 fan honda titan</td>\n",
       "      <td>HONDA CG FAN</td>\n",
       "    </tr>\n",
       "    <tr>\n",
       "      <th>12959</th>\n",
       "      <td>cg 160 titan fan start cargo</td>\n",
       "      <td>160 cargo cg fan honda titan</td>\n",
       "      <td>HONDA CG FAN</td>\n",
       "    </tr>\n",
       "    <tr>\n",
       "      <th>13313</th>\n",
       "      <td>cg 160 titan fan start cargo</td>\n",
       "      <td>160 cargo cg fan honda titan</td>\n",
       "      <td>HONDA CG FAN</td>\n",
       "    </tr>\n",
       "    <tr>\n",
       "      <th>4430</th>\n",
       "      <td>broz 160</td>\n",
       "      <td>160 broz honda</td>\n",
       "      <td>HONDA NXR 150 160 BROZ</td>\n",
       "    </tr>\n",
       "    <tr>\n",
       "      <th>7245</th>\n",
       "      <td>fazer ys 250</td>\n",
       "      <td>250 fazer yamaha</td>\n",
       "      <td>YAMAHA FAZER YS250 250</td>\n",
       "    </tr>\n",
       "  </tbody>\n",
       "</table>\n",
       "</div>"
      ],
      "text/plain": [
       "                          DESCRICAO                        Modelo  \\\n",
       "16685                 titan 160 fan           160 fan honda titan   \n",
       "12959  cg 160 titan fan start cargo  160 cargo cg fan honda titan   \n",
       "13313  cg 160 titan fan start cargo  160 cargo cg fan honda titan   \n",
       "4430                       broz 160                160 broz honda   \n",
       "7245                   fazer ys 250              250 fazer yamaha   \n",
       "\n",
       "                    APLICACAO  \n",
       "16685            HONDA CG FAN  \n",
       "12959            HONDA CG FAN  \n",
       "13313            HONDA CG FAN  \n",
       "4430   HONDA NXR 150 160 BROZ  \n",
       "7245   YAMAHA FAZER YS250 250  "
      ]
     },
     "execution_count": 32,
     "metadata": {},
     "output_type": "execute_result"
    }
   ],
   "source": [
    "df.iloc[0:,-3:].sample(5)"
   ]
  },
  {
   "cell_type": "markdown",
   "metadata": {},
   "source": [
    "## Criando a coluna de existência de corrente com Retentor no Kit\n",
    "Diante da possibilidade do kit de trasmissão vir acompanhado ou não de corrente com retentor, e esta questão influenciar no preço do produto, faz-se necessário criar uma coluna do tipo _boolean_ para indicar ou não a presença de corrente com retentor no kit."
   ]
  },
  {
   "cell_type": "markdown",
   "metadata": {},
   "source": [
    "Após a análise do dataset, observou-se que todos os kits que possuíam corrente com retentor havia na descrição uma das seguintes opções:<br>\n",
    "* com retentor\n",
    "* c/retentor\n",
    "* c/ retentor\n",
    "* com ret\n",
    "* c/ret\n",
    "* c/ ret\n",
    "\n",
    "Desse modo, definiu-se o padrão Regex para encontrar essas formas na descrição e colocar True|False na coluna RETENTOR"
   ]
  },
  {
   "cell_type": "markdown",
   "metadata": {},
   "source": [
    "### Função que determina a existência de retentor na corrente do kit e retorna True|False"
   ]
  },
  {
   "cell_type": "code",
   "execution_count": 33,
   "metadata": {},
   "outputs": [],
   "source": [
    "def retentorAux(descricao):\n",
    "    # define o padrão de busca\n",
    "    padrao = r'c/ *ret|com *ret' #r\"(com|c/) *ret\"\n",
    "    descricao=descricao.lower()\n",
    "    busca = re.findall(padrao, descricao)\n",
    "    if busca:\n",
    "        descricao = busca[0]\n",
    "        return True\n",
    "    else:\n",
    "        descricao=''\n",
    "        return False"
   ]
  },
  {
   "cell_type": "code",
   "execution_count": 34,
   "metadata": {},
   "outputs": [],
   "source": [
    "# cria a coluna RETENTOR com a indicação True|False\n",
    "df['RETENTOR']=df['DESCRICAO DO PRODUTO'].apply(retentorAux)"
   ]
  },
  {
   "cell_type": "markdown",
   "metadata": {
    "colab_type": "text",
    "id": "Xya6qHGUuIGL"
   },
   "source": [
    "## Exportando o DataSet Classificado"
   ]
  },
  {
   "cell_type": "markdown",
   "metadata": {},
   "source": [
    "Exportando para um arquivo CSV"
   ]
  },
  {
   "cell_type": "code",
   "execution_count": 35,
   "metadata": {},
   "outputs": [],
   "source": [
    "df.to_csv(r'./bases/dataframe_modelos_classificado.csv', index = False, header = True)"
   ]
  },
  {
   "cell_type": "markdown",
   "metadata": {},
   "source": [
    "Exportando para um arquivo de planilha do Excel"
   ]
  },
  {
   "cell_type": "code",
   "execution_count": 36,
   "metadata": {},
   "outputs": [],
   "source": [
    "df.to_excel(r'./bases/dataframe_modelos_classificado.xlsx', index = False, header = True)"
   ]
  },
  {
   "cell_type": "code",
   "execution_count": 37,
   "metadata": {},
   "outputs": [
    {
     "name": "stdout",
     "output_type": "stream",
     "text": [
      "Tempo total de execução: 5.47 segundos.\n"
     ]
    }
   ],
   "source": [
    "tempotot=time.time()-initot\n",
    "if tempotot>60:\n",
    "    print(f'Tempo total de execução: {tempotot/60:.2f} minutos.')\n",
    "else:\n",
    "    print(f'Tempo total de execução: {tempotot:.2f} segundos.')"
   ]
  }
 ],
 "metadata": {
  "colab": {
   "collapsed_sections": [],
   "name": "NLP com scikit-learn.ipynb",
   "provenance": [],
   "toc_visible": true
  },
  "kernelspec": {
   "display_name": "Python 3",
   "language": "python",
   "name": "python3"
  },
  "language_info": {
   "codemirror_mode": {
    "name": "ipython",
    "version": 3
   },
   "file_extension": ".py",
   "mimetype": "text/x-python",
   "name": "python",
   "nbconvert_exporter": "python",
   "pygments_lexer": "ipython3",
   "version": "3.7.3"
  },
  "toc": {
   "base_numbering": 1,
   "nav_menu": {},
   "number_sections": false,
   "sideBar": false,
   "skip_h1_title": false,
   "title_cell": "Sumário",
   "title_sidebar": "Sumário",
   "toc_cell": false,
   "toc_position": {},
   "toc_section_display": true,
   "toc_window_display": false
  }
 },
 "nbformat": 4,
 "nbformat_minor": 1
}
